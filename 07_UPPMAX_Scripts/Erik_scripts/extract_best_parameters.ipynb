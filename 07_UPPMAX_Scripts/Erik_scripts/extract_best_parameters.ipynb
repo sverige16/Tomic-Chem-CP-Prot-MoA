{
 "cells": [
  {
   "cell_type": "code",
   "execution_count": 2,
   "metadata": {},
   "outputs": [],
   "source": [
    "import sqlite3"
   ]
  },
  {
   "cell_type": "code",
   "execution_count": 3,
   "metadata": {},
   "outputs": [],
   "source": [
    "def extract_best_parameters_db(db_file):\n",
    "    '''\n",
    "    This function extracts the best parameters from a database file.\n",
    "    '''\n",
    "    # Connect to the SQLite database\n",
    "    connection = sqlite3.connect(db_file)\n",
    "\n",
    "    # Create a cursor object to execute SQL commands\n",
    "    cursor = connection.cursor()\n",
    "\n",
    "    # Get the trial with the best value (replace 'MAX' with 'MIN' if you are minimizing the metric)\n",
    "    cursor.execute(\"SELECT trial_id, value FROM trial_values WHERE value=(SELECT MAX(value) FROM trial_values)\")\n",
    "    best_trial_id, best_value = cursor.fetchone()\n",
    "\n",
    "    # Get the optimal parameters\n",
    "    cursor.execute(\"SELECT param_name, param_value FROM trial_params WHERE trial_id=?\", (best_trial_id,))\n",
    "    optimal_params = cursor.fetchall()\n",
    "\n",
    "    # Print the results\n",
    "    print(f\"Best trial ID: {best_trial_id}\")\n",
    "    print(f\"Best value: {best_value}\")\n",
    "    print(\"Optimal parameters:\")\n",
    "    for param_name, param_value in optimal_params:\n",
    "        print(f\"  {param_name}: {param_value}\")\n",
    "\n",
    "    # Close the connection\n",
    "    connection.close()"
   ]
  },
  {
   "cell_type": "code",
   "execution_count": 4,
   "metadata": {},
   "outputs": [
    {
     "name": "stdout",
     "output_type": "stream",
     "text": [
      "GE +CS\n",
      "Best trial ID: 74\n",
      "Best value: 0.495196351934163\n",
      "Optimal parameters:\n",
      "  gamma: 0.735004577042182\n",
      "  init_nodes: 134.0\n",
      "  loss_fn: 0.0\n",
      "  loss_train_fn: 0.0\n",
      "  lr: 0.07636505639465482\n",
      "  n_layers: 1.0\n",
      "  optimizer: 1.0\n",
      "  scheduler: 0.0\n",
      "  step_size: 6.0\n",
      "  yn_class_weights: 1.0\n"
     ]
    }
   ],
   "source": [
    "print(\"GE +CS\")\n",
    "extract_best_parameters_db(\"CS_GE_fe.db\")"
   ]
  },
  {
   "cell_type": "code",
   "execution_count": 6,
   "metadata": {},
   "outputs": [
    {
     "name": "stdout",
     "output_type": "stream",
     "text": [
      "CP + CS\n",
      "Best trial ID: 28\n",
      "Best value: 0.6855122655122655\n",
      "Optimal parameters:\n",
      "  dropout_l0: 0.3934766634521141\n",
      "  gamma: 0.3004267373123294\n",
      "  init_nodes: 31.0\n",
      "  loss_fn: 1.0\n",
      "  loss_fn_ft: 0.0\n",
      "  loss_train_fn: 0.0\n",
      "  loss_train_ft: 0.0\n",
      "  lr: 0.0004541406239555784\n",
      "  lr_ft: 0.003045961119963978\n",
      "  n_layers: 1.0\n",
      "  n_units_l0: 234.0\n",
      "  optimizer: 0.0\n",
      "  optimizer_ft: 0.0\n",
      "  scheduler: 0.0\n",
      "  step_size: 16.0\n",
      "  yn_class_weights: 0.0\n",
      "  yn_class_weights_ft: 0.0\n"
     ]
    }
   ],
   "source": [
    "print(\"CP + CS\")\n",
    "extract_best_parameters_db(\"CP_CS_fe.db\")\n",
    "#good for first part"
   ]
  },
  {
   "cell_type": "code",
   "execution_count": null,
   "metadata": {},
   "outputs": [],
   "source": [
    "print(\"CP + CS + GE\")\n",
    "extract_best_parameters_db(\"CP_GS_GE_fe.db\")"
   ]
  },
  {
   "cell_type": "code",
   "execution_count": null,
   "metadata": {},
   "outputs": [],
   "source": [
    "extract_best_parameters_db(\"CP_GE_fe.db\")"
   ]
  },
  {
   "cell_type": "code",
   "execution_count": 5,
   "metadata": {},
   "outputs": [
    {
     "name": "stdout",
     "output_type": "stream",
     "text": [
      "Best trial ID: 74\n",
      "Best value: 0.495196351934163\n",
      "Optimal parameters:\n",
      "  gamma: 0.735004577042182\n",
      "  init_nodes: 134.0\n",
      "  loss_fn: 0.0\n",
      "  loss_train_fn: 0.0\n",
      "  lr: 0.07636505639465482\n",
      "  n_layers: 1.0\n",
      "  optimizer: 1.0\n",
      "  scheduler: 0.0\n",
      "  step_size: 6.0\n",
      "  yn_class_weights: 1.0\n"
     ]
    }
   ],
   "source": [
    "extract_best_parameters_db(\"CS_GE_fe.db\")"
   ]
  }
 ],
 "metadata": {
  "kernelspec": {
   "display_name": "Python 3",
   "language": "python",
   "name": "python3"
  },
  "language_info": {
   "codemirror_mode": {
    "name": "ipython",
    "version": 3
   },
   "file_extension": ".py",
   "mimetype": "text/x-python",
   "name": "python",
   "nbconvert_exporter": "python",
   "pygments_lexer": "ipython3",
   "version": "3.8.10 (default, Mar 13 2023, 10:26:41) \n[GCC 9.4.0]"
  },
  "orig_nbformat": 4,
  "vscode": {
   "interpreter": {
    "hash": "e7370f93d1d0cde622a1f8e1c04877d8463912d04d973331ad4851f04de6915a"
   }
  }
 },
 "nbformat": 4,
 "nbformat_minor": 2
}

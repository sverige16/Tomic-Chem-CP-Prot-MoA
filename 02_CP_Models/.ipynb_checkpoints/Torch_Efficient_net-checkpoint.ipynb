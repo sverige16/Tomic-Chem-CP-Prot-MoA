{
 "cells": [
  {
   "cell_type": "code",
   "execution_count": 1,
   "metadata": {
    "tags": []
   },
   "outputs": [
    {
     "data": {
      "text/plain": [
       "'Albumentations is a Python library forfast and flexible image augmentations. \\nAlbumentations efficiently implements a rich variety of image transform operations that are optimized\\nfor performance, and does so while providing a concise, yet powerful image augmentation interface for \\ndifferent computer vision tasks, including object classification, segmentation, and detection. '"
      ]
     },
     "execution_count": 1,
     "metadata": {},
     "output_type": "execute_result"
    }
   ],
   "source": [
    "# Import Statements\n",
    "import pandas as pd\n",
    "import numpy as np\n",
    "import matplotlib.pyplot as plt\n",
    "from sklearn.model_selection import train_test_split # Functipn to split data into training, validation and test sets\n",
    "import pickle\n",
    "import glob   # The glob module finds all the pathnames matching a specified pattern according to the rules used by the Unix shell, although results are returned in arbitrary order. No tilde expansion is done, but *, ?, and character ranges expressed with [] will be correctly matched.\n",
    "import os   # miscellneous operating system interfaces. This module provides a portable way of using operating system dependent functionality. If you just want to read or write a file see open(), if you want to manipulate paths, see the os.path module, and if you want to read all the lines in all the files on the command line see the fileinput module.\n",
    "import random       \n",
    "from tqdm import tqdm \n",
    "from tqdm.notebook import tqdm_notebook\n",
    "import datetime\n",
    "\n",
    "# Torch\n",
    "import torch\n",
    "from torchvision import transforms\n",
    "import torchvision.models as models\n",
    "import torch.nn as nn\n",
    "import torchinfo\n",
    "\n",
    "\n",
    "# Image analysis packages\n",
    "import albumentations as A \n",
    "import cv2             \n",
    "'''Albumentations is a Python library forfast and flexible image augmentations. \n",
    "Albumentations efficiently implements a rich variety of image transform operations that are optimized\n",
    "for performance, and does so while providing a concise, yet powerful image augmentation interface for \n",
    "different computer vision tasks, including object classification, segmentation, and detection. '''\n",
    "# https://albumentations.ai/docs/getting_started/image_augmentation/"
   ]
  },
  {
   "cell_type": "code",
   "execution_count": 2,
   "metadata": {
    "tags": []
   },
   "outputs": [
    {
     "name": "stdout",
     "output_type": "stream",
     "text": [
      "tensor([[0.5658, 0.8701, 0.8802],\n",
      "        [0.1723, 0.0740, 0.0279],\n",
      "        [0.9585, 0.6938, 0.2540],\n",
      "        [0.8908, 0.4065, 0.4930],\n",
      "        [0.8728, 0.7982, 0.1503]])\n"
     ]
    }
   ],
   "source": [
    "# checking that pytorch works\n",
    "x = torch.rand(5, 3)\n",
    "print(x)"
   ]
  },
  {
   "cell_type": "code",
   "execution_count": 3,
   "metadata": {
    "id": "sOCTxJS5_fM9",
    "tags": []
   },
   "outputs": [],
   "source": [
    "# 10 selected MoAs \n",
    "moas_to_use = ['Aurora kinase inhibitor', 'tubulin polymerization inhibitor', 'JAK inhibitor', 'protein synthesis inhibitor', 'HDAC inhibitor', \n",
    "        'topoisomerase inhibitor', 'PARP inhibitor', 'ATPase inhibitor', 'retinoid receptor agonist', 'HSP inhibitor']"
   ]
  },
  {
   "cell_type": "code",
   "execution_count": 4,
   "metadata": {
    "id": "Lon5FqMB3JXq",
    "tags": []
   },
   "outputs": [],
   "source": [
    "# read the data \n",
    "all_data = pd.read_csv('/home/jovyan/Tomics-CP-Chem-MoA/data_for_image_based_model/all_data.csv')"
   ]
  },
  {
   "cell_type": "code",
   "execution_count": 5,
   "metadata": {
    "tags": []
   },
   "outputs": [],
   "source": [
    "# Limiting the data to the first 2000 rows\n",
    "testing = False\n",
    "if testing == True:\n",
    "    all_data = all_data[0:1000]"
   ]
  },
  {
   "cell_type": "code",
   "execution_count": 6,
   "metadata": {
    "tags": []
   },
   "outputs": [
    {
     "data": {
      "text/html": [
       "<div>\n",
       "<style scoped>\n",
       "    .dataframe tbody tr th:only-of-type {\n",
       "        vertical-align: middle;\n",
       "    }\n",
       "\n",
       "    .dataframe tbody tr th {\n",
       "        vertical-align: top;\n",
       "    }\n",
       "\n",
       "    .dataframe thead th {\n",
       "        text-align: right;\n",
       "    }\n",
       "</style>\n",
       "<table border=\"1\" class=\"dataframe\">\n",
       "  <thead>\n",
       "    <tr style=\"text-align: right;\">\n",
       "      <th></th>\n",
       "      <th>Unnamed: 0</th>\n",
       "      <th>plate</th>\n",
       "      <th>well</th>\n",
       "      <th>compound</th>\n",
       "      <th>path</th>\n",
       "      <th>C1</th>\n",
       "      <th>C2</th>\n",
       "      <th>C3</th>\n",
       "      <th>C4</th>\n",
       "      <th>C5</th>\n",
       "      <th>moa</th>\n",
       "      <th>digit</th>\n",
       "      <th>classes</th>\n",
       "    </tr>\n",
       "  </thead>\n",
       "  <tbody>\n",
       "    <tr>\n",
       "      <th>0</th>\n",
       "      <td>497</td>\n",
       "      <td>P015085</td>\n",
       "      <td>B22</td>\n",
       "      <td>CBK290770</td>\n",
       "      <td>/mnt/micro-images-pvc/specs935-v1/specs935-v1-...</td>\n",
       "      <td>specs935-v1-FA-P015085-U2OS-48h-P5-L2-test_B22...</td>\n",
       "      <td>specs935-v1-FA-P015085-U2OS-48h-P5-L2-test_B22...</td>\n",
       "      <td>specs935-v1-FA-P015085-U2OS-48h-P5-L2-test_B22...</td>\n",
       "      <td>specs935-v1-FA-P015085-U2OS-48h-P5-L2-test_B22...</td>\n",
       "      <td>specs935-v1-FA-P015085-U2OS-48h-P5-L2-test_B22...</td>\n",
       "      <td>Aurora kinase inhibitor</td>\n",
       "      <td>9299</td>\n",
       "      <td>0</td>\n",
       "    </tr>\n",
       "    <tr>\n",
       "      <th>1</th>\n",
       "      <td>8157</td>\n",
       "      <td>P015099</td>\n",
       "      <td>I03</td>\n",
       "      <td>CBK309655</td>\n",
       "      <td>/mnt/micro-images-pvc/specs935-v1/specs935-v1-...</td>\n",
       "      <td>specs935-v1-FA-P015099-U2OS-48h-P12-L2_I03_s4_...</td>\n",
       "      <td>specs935-v1-FA-P015099-U2OS-48h-P12-L2_I03_s4_...</td>\n",
       "      <td>specs935-v1-FA-P015099-U2OS-48h-P12-L2_I03_s4_...</td>\n",
       "      <td>specs935-v1-FA-P015099-U2OS-48h-P12-L2_I03_s4_...</td>\n",
       "      <td>specs935-v1-FA-P015099-U2OS-48h-P12-L2_I03_s4_...</td>\n",
       "      <td>topoisomerase inhibitor</td>\n",
       "      <td>8157</td>\n",
       "      <td>5</td>\n",
       "    </tr>\n",
       "    <tr>\n",
       "      <th>2</th>\n",
       "      <td>8148</td>\n",
       "      <td>P015099</td>\n",
       "      <td>H21</td>\n",
       "      <td>CBK309040</td>\n",
       "      <td>/mnt/micro-images-pvc/specs935-v1/specs935-v1-...</td>\n",
       "      <td>specs935-v1-FA-P015099-U2OS-48h-P12-L2_H21_s4_...</td>\n",
       "      <td>specs935-v1-FA-P015099-U2OS-48h-P12-L2_H21_s4_...</td>\n",
       "      <td>specs935-v1-FA-P015099-U2OS-48h-P12-L2_H21_s4_...</td>\n",
       "      <td>specs935-v1-FA-P015099-U2OS-48h-P12-L2_H21_s4_...</td>\n",
       "      <td>specs935-v1-FA-P015099-U2OS-48h-P12-L2_H21_s4_...</td>\n",
       "      <td>topoisomerase inhibitor</td>\n",
       "      <td>8148</td>\n",
       "      <td>5</td>\n",
       "    </tr>\n",
       "    <tr>\n",
       "      <th>3</th>\n",
       "      <td>3471</td>\n",
       "      <td>P015099</td>\n",
       "      <td>F20</td>\n",
       "      <td>CBK200898</td>\n",
       "      <td>/mnt/micro-images-pvc/specs935-v1/specs935-v1-...</td>\n",
       "      <td>specs935-v1-FA-P015099-U2OS-48h-P12-L2_F20_s7_...</td>\n",
       "      <td>specs935-v1-FA-P015099-U2OS-48h-P12-L2_F20_s7_...</td>\n",
       "      <td>specs935-v1-FA-P015099-U2OS-48h-P12-L2_F20_s7_...</td>\n",
       "      <td>specs935-v1-FA-P015099-U2OS-48h-P12-L2_F20_s7_...</td>\n",
       "      <td>specs935-v1-FA-P015099-U2OS-48h-P12-L2_F20_s7_...</td>\n",
       "      <td>tubulin polymerization inhibitor</td>\n",
       "      <td>12273</td>\n",
       "      <td>1</td>\n",
       "    </tr>\n",
       "    <tr>\n",
       "      <th>4</th>\n",
       "      <td>8409</td>\n",
       "      <td>P015099</td>\n",
       "      <td>L04</td>\n",
       "      <td>CBK309538</td>\n",
       "      <td>/mnt/micro-images-pvc/specs935-v1/specs935-v1-...</td>\n",
       "      <td>specs935-v1-FA-P015099-U2OS-48h-P12-L2_L04_s4_...</td>\n",
       "      <td>specs935-v1-FA-P015099-U2OS-48h-P12-L2_L04_s4_...</td>\n",
       "      <td>specs935-v1-FA-P015099-U2OS-48h-P12-L2_L04_s4_...</td>\n",
       "      <td>specs935-v1-FA-P015099-U2OS-48h-P12-L2_L04_s4_...</td>\n",
       "      <td>specs935-v1-FA-P015099-U2OS-48h-P12-L2_L04_s4_...</td>\n",
       "      <td>protein synthesis inhibitor</td>\n",
       "      <td>8409</td>\n",
       "      <td>3</td>\n",
       "    </tr>\n",
       "    <tr>\n",
       "      <th>5</th>\n",
       "      <td>7202</td>\n",
       "      <td>P015098</td>\n",
       "      <td>L15</td>\n",
       "      <td>CBK309020</td>\n",
       "      <td>/mnt/micro-images-pvc/specs935-v1/specs935-v1-...</td>\n",
       "      <td>specs935-v1-FA-P015098-U2OS-48h-P12-L1_L15_s3_...</td>\n",
       "      <td>specs935-v1-FA-P015098-U2OS-48h-P12-L1_L15_s3_...</td>\n",
       "      <td>specs935-v1-FA-P015098-U2OS-48h-P12-L1_L15_s3_...</td>\n",
       "      <td>specs935-v1-FA-P015098-U2OS-48h-P12-L1_L15_s3_...</td>\n",
       "      <td>specs935-v1-FA-P015098-U2OS-48h-P12-L1_L15_s3_...</td>\n",
       "      <td>topoisomerase inhibitor</td>\n",
       "      <td>7202</td>\n",
       "      <td>5</td>\n",
       "    </tr>\n",
       "    <tr>\n",
       "      <th>6</th>\n",
       "      <td>3996</td>\n",
       "      <td>P015092</td>\n",
       "      <td>B08</td>\n",
       "      <td>CBK293875</td>\n",
       "      <td>/mnt/micro-images-pvc/specs935-v1/specs935-v1-...</td>\n",
       "      <td>specs935-v1-FA-P015092-U2OS-48h-P9-L1_B08_s1_w...</td>\n",
       "      <td>specs935-v1-FA-P015092-U2OS-48h-P9-L1_B08_s1_w...</td>\n",
       "      <td>specs935-v1-FA-P015092-U2OS-48h-P9-L1_B08_s1_w...</td>\n",
       "      <td>specs935-v1-FA-P015092-U2OS-48h-P9-L1_B08_s1_w...</td>\n",
       "      <td>specs935-v1-FA-P015092-U2OS-48h-P9-L1_B08_s1_w...</td>\n",
       "      <td>JAK inhibitor</td>\n",
       "      <td>3996</td>\n",
       "      <td>2</td>\n",
       "    </tr>\n",
       "    <tr>\n",
       "      <th>7</th>\n",
       "      <td>863</td>\n",
       "      <td>P015084</td>\n",
       "      <td>N02</td>\n",
       "      <td>CBK291084</td>\n",
       "      <td>/mnt/micro-images-pvc/specs935-v1/specs935-v1-...</td>\n",
       "      <td>specs935-v1-FA-P015084-U2OS-48h-P5-L1_N02_s9_w...</td>\n",
       "      <td>specs935-v1-FA-P015084-U2OS-48h-P5-L1_N02_s9_w...</td>\n",
       "      <td>specs935-v1-FA-P015084-U2OS-48h-P5-L1_N02_s9_w...</td>\n",
       "      <td>specs935-v1-FA-P015084-U2OS-48h-P5-L1_N02_s9_w...</td>\n",
       "      <td>specs935-v1-FA-P015084-U2OS-48h-P5-L1_N02_s9_w...</td>\n",
       "      <td>ATPase inhibitor</td>\n",
       "      <td>863</td>\n",
       "      <td>7</td>\n",
       "    </tr>\n",
       "    <tr>\n",
       "      <th>8</th>\n",
       "      <td>988</td>\n",
       "      <td>P015085</td>\n",
       "      <td>B12</td>\n",
       "      <td>CBK201011</td>\n",
       "      <td>/mnt/micro-images-pvc/specs935-v1/specs935-v1-...</td>\n",
       "      <td>specs935-v1-FA-P015085-U2OS-48h-P5-L2-test_B12...</td>\n",
       "      <td>specs935-v1-FA-P015085-U2OS-48h-P5-L2-test_B12...</td>\n",
       "      <td>specs935-v1-FA-P015085-U2OS-48h-P5-L2-test_B12...</td>\n",
       "      <td>specs935-v1-FA-P015085-U2OS-48h-P5-L2-test_B12...</td>\n",
       "      <td>specs935-v1-FA-P015085-U2OS-48h-P5-L2-test_B12...</td>\n",
       "      <td>ATPase inhibitor</td>\n",
       "      <td>988</td>\n",
       "      <td>7</td>\n",
       "    </tr>\n",
       "    <tr>\n",
       "      <th>9</th>\n",
       "      <td>935</td>\n",
       "      <td>P015090</td>\n",
       "      <td>E18</td>\n",
       "      <td>CBK277961</td>\n",
       "      <td>/mnt/micro-images-pvc/specs935-v1/specs935-v1-...</td>\n",
       "      <td>specs935-v1-FA-P015090-U2OS-48h-P8-L1_E18_s9_w...</td>\n",
       "      <td>specs935-v1-FA-P015090-U2OS-48h-P8-L1_E18_s9_w...</td>\n",
       "      <td>specs935-v1-FA-P015090-U2OS-48h-P8-L1_E18_s9_w...</td>\n",
       "      <td>specs935-v1-FA-P015090-U2OS-48h-P8-L1_E18_s9_w...</td>\n",
       "      <td>specs935-v1-FA-P015090-U2OS-48h-P8-L1_E18_s9_w...</td>\n",
       "      <td>HDAC inhibitor</td>\n",
       "      <td>9737</td>\n",
       "      <td>4</td>\n",
       "    </tr>\n",
       "  </tbody>\n",
       "</table>\n",
       "</div>"
      ],
      "text/plain": [
       "   Unnamed: 0    plate well   compound  \\\n",
       "0         497  P015085  B22  CBK290770   \n",
       "1        8157  P015099  I03  CBK309655   \n",
       "2        8148  P015099  H21  CBK309040   \n",
       "3        3471  P015099  F20  CBK200898   \n",
       "4        8409  P015099  L04  CBK309538   \n",
       "5        7202  P015098  L15  CBK309020   \n",
       "6        3996  P015092  B08  CBK293875   \n",
       "7         863  P015084  N02  CBK291084   \n",
       "8         988  P015085  B12  CBK201011   \n",
       "9         935  P015090  E18  CBK277961   \n",
       "\n",
       "                                                path  \\\n",
       "0  /mnt/micro-images-pvc/specs935-v1/specs935-v1-...   \n",
       "1  /mnt/micro-images-pvc/specs935-v1/specs935-v1-...   \n",
       "2  /mnt/micro-images-pvc/specs935-v1/specs935-v1-...   \n",
       "3  /mnt/micro-images-pvc/specs935-v1/specs935-v1-...   \n",
       "4  /mnt/micro-images-pvc/specs935-v1/specs935-v1-...   \n",
       "5  /mnt/micro-images-pvc/specs935-v1/specs935-v1-...   \n",
       "6  /mnt/micro-images-pvc/specs935-v1/specs935-v1-...   \n",
       "7  /mnt/micro-images-pvc/specs935-v1/specs935-v1-...   \n",
       "8  /mnt/micro-images-pvc/specs935-v1/specs935-v1-...   \n",
       "9  /mnt/micro-images-pvc/specs935-v1/specs935-v1-...   \n",
       "\n",
       "                                                  C1  \\\n",
       "0  specs935-v1-FA-P015085-U2OS-48h-P5-L2-test_B22...   \n",
       "1  specs935-v1-FA-P015099-U2OS-48h-P12-L2_I03_s4_...   \n",
       "2  specs935-v1-FA-P015099-U2OS-48h-P12-L2_H21_s4_...   \n",
       "3  specs935-v1-FA-P015099-U2OS-48h-P12-L2_F20_s7_...   \n",
       "4  specs935-v1-FA-P015099-U2OS-48h-P12-L2_L04_s4_...   \n",
       "5  specs935-v1-FA-P015098-U2OS-48h-P12-L1_L15_s3_...   \n",
       "6  specs935-v1-FA-P015092-U2OS-48h-P9-L1_B08_s1_w...   \n",
       "7  specs935-v1-FA-P015084-U2OS-48h-P5-L1_N02_s9_w...   \n",
       "8  specs935-v1-FA-P015085-U2OS-48h-P5-L2-test_B12...   \n",
       "9  specs935-v1-FA-P015090-U2OS-48h-P8-L1_E18_s9_w...   \n",
       "\n",
       "                                                  C2  \\\n",
       "0  specs935-v1-FA-P015085-U2OS-48h-P5-L2-test_B22...   \n",
       "1  specs935-v1-FA-P015099-U2OS-48h-P12-L2_I03_s4_...   \n",
       "2  specs935-v1-FA-P015099-U2OS-48h-P12-L2_H21_s4_...   \n",
       "3  specs935-v1-FA-P015099-U2OS-48h-P12-L2_F20_s7_...   \n",
       "4  specs935-v1-FA-P015099-U2OS-48h-P12-L2_L04_s4_...   \n",
       "5  specs935-v1-FA-P015098-U2OS-48h-P12-L1_L15_s3_...   \n",
       "6  specs935-v1-FA-P015092-U2OS-48h-P9-L1_B08_s1_w...   \n",
       "7  specs935-v1-FA-P015084-U2OS-48h-P5-L1_N02_s9_w...   \n",
       "8  specs935-v1-FA-P015085-U2OS-48h-P5-L2-test_B12...   \n",
       "9  specs935-v1-FA-P015090-U2OS-48h-P8-L1_E18_s9_w...   \n",
       "\n",
       "                                                  C3  \\\n",
       "0  specs935-v1-FA-P015085-U2OS-48h-P5-L2-test_B22...   \n",
       "1  specs935-v1-FA-P015099-U2OS-48h-P12-L2_I03_s4_...   \n",
       "2  specs935-v1-FA-P015099-U2OS-48h-P12-L2_H21_s4_...   \n",
       "3  specs935-v1-FA-P015099-U2OS-48h-P12-L2_F20_s7_...   \n",
       "4  specs935-v1-FA-P015099-U2OS-48h-P12-L2_L04_s4_...   \n",
       "5  specs935-v1-FA-P015098-U2OS-48h-P12-L1_L15_s3_...   \n",
       "6  specs935-v1-FA-P015092-U2OS-48h-P9-L1_B08_s1_w...   \n",
       "7  specs935-v1-FA-P015084-U2OS-48h-P5-L1_N02_s9_w...   \n",
       "8  specs935-v1-FA-P015085-U2OS-48h-P5-L2-test_B12...   \n",
       "9  specs935-v1-FA-P015090-U2OS-48h-P8-L1_E18_s9_w...   \n",
       "\n",
       "                                                  C4  \\\n",
       "0  specs935-v1-FA-P015085-U2OS-48h-P5-L2-test_B22...   \n",
       "1  specs935-v1-FA-P015099-U2OS-48h-P12-L2_I03_s4_...   \n",
       "2  specs935-v1-FA-P015099-U2OS-48h-P12-L2_H21_s4_...   \n",
       "3  specs935-v1-FA-P015099-U2OS-48h-P12-L2_F20_s7_...   \n",
       "4  specs935-v1-FA-P015099-U2OS-48h-P12-L2_L04_s4_...   \n",
       "5  specs935-v1-FA-P015098-U2OS-48h-P12-L1_L15_s3_...   \n",
       "6  specs935-v1-FA-P015092-U2OS-48h-P9-L1_B08_s1_w...   \n",
       "7  specs935-v1-FA-P015084-U2OS-48h-P5-L1_N02_s9_w...   \n",
       "8  specs935-v1-FA-P015085-U2OS-48h-P5-L2-test_B12...   \n",
       "9  specs935-v1-FA-P015090-U2OS-48h-P8-L1_E18_s9_w...   \n",
       "\n",
       "                                                  C5  \\\n",
       "0  specs935-v1-FA-P015085-U2OS-48h-P5-L2-test_B22...   \n",
       "1  specs935-v1-FA-P015099-U2OS-48h-P12-L2_I03_s4_...   \n",
       "2  specs935-v1-FA-P015099-U2OS-48h-P12-L2_H21_s4_...   \n",
       "3  specs935-v1-FA-P015099-U2OS-48h-P12-L2_F20_s7_...   \n",
       "4  specs935-v1-FA-P015099-U2OS-48h-P12-L2_L04_s4_...   \n",
       "5  specs935-v1-FA-P015098-U2OS-48h-P12-L1_L15_s3_...   \n",
       "6  specs935-v1-FA-P015092-U2OS-48h-P9-L1_B08_s1_w...   \n",
       "7  specs935-v1-FA-P015084-U2OS-48h-P5-L1_N02_s9_w...   \n",
       "8  specs935-v1-FA-P015085-U2OS-48h-P5-L2-test_B12...   \n",
       "9  specs935-v1-FA-P015090-U2OS-48h-P8-L1_E18_s9_w...   \n",
       "\n",
       "                                moa  digit  classes  \n",
       "0           Aurora kinase inhibitor   9299        0  \n",
       "1           topoisomerase inhibitor   8157        5  \n",
       "2           topoisomerase inhibitor   8148        5  \n",
       "3  tubulin polymerization inhibitor  12273        1  \n",
       "4       protein synthesis inhibitor   8409        3  \n",
       "5           topoisomerase inhibitor   7202        5  \n",
       "6                     JAK inhibitor   3996        2  \n",
       "7                  ATPase inhibitor    863        7  \n",
       "8                  ATPase inhibitor    988        7  \n",
       "9                    HDAC inhibitor   9737        4  "
      ]
     },
     "execution_count": 6,
     "metadata": {},
     "output_type": "execute_result"
    }
   ],
   "source": [
    "all_data.head(10)"
   ]
  },
  {
   "cell_type": "code",
   "execution_count": null,
   "metadata": {},
   "outputs": [],
   "source": []
  },
  {
   "cell_type": "code",
   "execution_count": 7,
   "metadata": {
    "id": "cEL4xND9DG9y",
    "tags": []
   },
   "outputs": [
    {
     "data": {
      "text/html": [
       "<div>\n",
       "<style scoped>\n",
       "    .dataframe tbody tr th:only-of-type {\n",
       "        vertical-align: middle;\n",
       "    }\n",
       "\n",
       "    .dataframe tbody tr th {\n",
       "        vertical-align: top;\n",
       "    }\n",
       "\n",
       "    .dataframe thead th {\n",
       "        text-align: right;\n",
       "    }\n",
       "</style>\n",
       "<table border=\"1\" class=\"dataframe\">\n",
       "  <thead>\n",
       "    <tr style=\"text-align: right;\">\n",
       "      <th></th>\n",
       "      <th>plate</th>\n",
       "      <th>well</th>\n",
       "      <th>compound</th>\n",
       "      <th>path</th>\n",
       "      <th>C1</th>\n",
       "      <th>C2</th>\n",
       "      <th>C3</th>\n",
       "      <th>C4</th>\n",
       "      <th>C5</th>\n",
       "      <th>moa</th>\n",
       "    </tr>\n",
       "  </thead>\n",
       "  <tbody>\n",
       "    <tr>\n",
       "      <th>0</th>\n",
       "      <td>P015085</td>\n",
       "      <td>B22</td>\n",
       "      <td>CBK290770</td>\n",
       "      <td>/mnt/micro-images-pvc/specs935-v1/specs935-v1-...</td>\n",
       "      <td>specs935-v1-FA-P015085-U2OS-48h-P5-L2-test_B22...</td>\n",
       "      <td>specs935-v1-FA-P015085-U2OS-48h-P5-L2-test_B22...</td>\n",
       "      <td>specs935-v1-FA-P015085-U2OS-48h-P5-L2-test_B22...</td>\n",
       "      <td>specs935-v1-FA-P015085-U2OS-48h-P5-L2-test_B22...</td>\n",
       "      <td>specs935-v1-FA-P015085-U2OS-48h-P5-L2-test_B22...</td>\n",
       "      <td>Aurora kinase inhibitor</td>\n",
       "    </tr>\n",
       "    <tr>\n",
       "      <th>1</th>\n",
       "      <td>P015099</td>\n",
       "      <td>I03</td>\n",
       "      <td>CBK309655</td>\n",
       "      <td>/mnt/micro-images-pvc/specs935-v1/specs935-v1-...</td>\n",
       "      <td>specs935-v1-FA-P015099-U2OS-48h-P12-L2_I03_s4_...</td>\n",
       "      <td>specs935-v1-FA-P015099-U2OS-48h-P12-L2_I03_s4_...</td>\n",
       "      <td>specs935-v1-FA-P015099-U2OS-48h-P12-L2_I03_s4_...</td>\n",
       "      <td>specs935-v1-FA-P015099-U2OS-48h-P12-L2_I03_s4_...</td>\n",
       "      <td>specs935-v1-FA-P015099-U2OS-48h-P12-L2_I03_s4_...</td>\n",
       "      <td>topoisomerase inhibitor</td>\n",
       "    </tr>\n",
       "    <tr>\n",
       "      <th>2</th>\n",
       "      <td>P015099</td>\n",
       "      <td>H21</td>\n",
       "      <td>CBK309040</td>\n",
       "      <td>/mnt/micro-images-pvc/specs935-v1/specs935-v1-...</td>\n",
       "      <td>specs935-v1-FA-P015099-U2OS-48h-P12-L2_H21_s4_...</td>\n",
       "      <td>specs935-v1-FA-P015099-U2OS-48h-P12-L2_H21_s4_...</td>\n",
       "      <td>specs935-v1-FA-P015099-U2OS-48h-P12-L2_H21_s4_...</td>\n",
       "      <td>specs935-v1-FA-P015099-U2OS-48h-P12-L2_H21_s4_...</td>\n",
       "      <td>specs935-v1-FA-P015099-U2OS-48h-P12-L2_H21_s4_...</td>\n",
       "      <td>topoisomerase inhibitor</td>\n",
       "    </tr>\n",
       "    <tr>\n",
       "      <th>3</th>\n",
       "      <td>P015099</td>\n",
       "      <td>F20</td>\n",
       "      <td>CBK200898</td>\n",
       "      <td>/mnt/micro-images-pvc/specs935-v1/specs935-v1-...</td>\n",
       "      <td>specs935-v1-FA-P015099-U2OS-48h-P12-L2_F20_s7_...</td>\n",
       "      <td>specs935-v1-FA-P015099-U2OS-48h-P12-L2_F20_s7_...</td>\n",
       "      <td>specs935-v1-FA-P015099-U2OS-48h-P12-L2_F20_s7_...</td>\n",
       "      <td>specs935-v1-FA-P015099-U2OS-48h-P12-L2_F20_s7_...</td>\n",
       "      <td>specs935-v1-FA-P015099-U2OS-48h-P12-L2_F20_s7_...</td>\n",
       "      <td>tubulin polymerization inhibitor</td>\n",
       "    </tr>\n",
       "    <tr>\n",
       "      <th>4</th>\n",
       "      <td>P015099</td>\n",
       "      <td>L04</td>\n",
       "      <td>CBK309538</td>\n",
       "      <td>/mnt/micro-images-pvc/specs935-v1/specs935-v1-...</td>\n",
       "      <td>specs935-v1-FA-P015099-U2OS-48h-P12-L2_L04_s4_...</td>\n",
       "      <td>specs935-v1-FA-P015099-U2OS-48h-P12-L2_L04_s4_...</td>\n",
       "      <td>specs935-v1-FA-P015099-U2OS-48h-P12-L2_L04_s4_...</td>\n",
       "      <td>specs935-v1-FA-P015099-U2OS-48h-P12-L2_L04_s4_...</td>\n",
       "      <td>specs935-v1-FA-P015099-U2OS-48h-P12-L2_L04_s4_...</td>\n",
       "      <td>protein synthesis inhibitor</td>\n",
       "    </tr>\n",
       "    <tr>\n",
       "      <th>5</th>\n",
       "      <td>P015098</td>\n",
       "      <td>L15</td>\n",
       "      <td>CBK309020</td>\n",
       "      <td>/mnt/micro-images-pvc/specs935-v1/specs935-v1-...</td>\n",
       "      <td>specs935-v1-FA-P015098-U2OS-48h-P12-L1_L15_s3_...</td>\n",
       "      <td>specs935-v1-FA-P015098-U2OS-48h-P12-L1_L15_s3_...</td>\n",
       "      <td>specs935-v1-FA-P015098-U2OS-48h-P12-L1_L15_s3_...</td>\n",
       "      <td>specs935-v1-FA-P015098-U2OS-48h-P12-L1_L15_s3_...</td>\n",
       "      <td>specs935-v1-FA-P015098-U2OS-48h-P12-L1_L15_s3_...</td>\n",
       "      <td>topoisomerase inhibitor</td>\n",
       "    </tr>\n",
       "    <tr>\n",
       "      <th>6</th>\n",
       "      <td>P015092</td>\n",
       "      <td>B08</td>\n",
       "      <td>CBK293875</td>\n",
       "      <td>/mnt/micro-images-pvc/specs935-v1/specs935-v1-...</td>\n",
       "      <td>specs935-v1-FA-P015092-U2OS-48h-P9-L1_B08_s1_w...</td>\n",
       "      <td>specs935-v1-FA-P015092-U2OS-48h-P9-L1_B08_s1_w...</td>\n",
       "      <td>specs935-v1-FA-P015092-U2OS-48h-P9-L1_B08_s1_w...</td>\n",
       "      <td>specs935-v1-FA-P015092-U2OS-48h-P9-L1_B08_s1_w...</td>\n",
       "      <td>specs935-v1-FA-P015092-U2OS-48h-P9-L1_B08_s1_w...</td>\n",
       "      <td>JAK inhibitor</td>\n",
       "    </tr>\n",
       "    <tr>\n",
       "      <th>7</th>\n",
       "      <td>P015084</td>\n",
       "      <td>N02</td>\n",
       "      <td>CBK291084</td>\n",
       "      <td>/mnt/micro-images-pvc/specs935-v1/specs935-v1-...</td>\n",
       "      <td>specs935-v1-FA-P015084-U2OS-48h-P5-L1_N02_s9_w...</td>\n",
       "      <td>specs935-v1-FA-P015084-U2OS-48h-P5-L1_N02_s9_w...</td>\n",
       "      <td>specs935-v1-FA-P015084-U2OS-48h-P5-L1_N02_s9_w...</td>\n",
       "      <td>specs935-v1-FA-P015084-U2OS-48h-P5-L1_N02_s9_w...</td>\n",
       "      <td>specs935-v1-FA-P015084-U2OS-48h-P5-L1_N02_s9_w...</td>\n",
       "      <td>ATPase inhibitor</td>\n",
       "    </tr>\n",
       "    <tr>\n",
       "      <th>8</th>\n",
       "      <td>P015085</td>\n",
       "      <td>B12</td>\n",
       "      <td>CBK201011</td>\n",
       "      <td>/mnt/micro-images-pvc/specs935-v1/specs935-v1-...</td>\n",
       "      <td>specs935-v1-FA-P015085-U2OS-48h-P5-L2-test_B12...</td>\n",
       "      <td>specs935-v1-FA-P015085-U2OS-48h-P5-L2-test_B12...</td>\n",
       "      <td>specs935-v1-FA-P015085-U2OS-48h-P5-L2-test_B12...</td>\n",
       "      <td>specs935-v1-FA-P015085-U2OS-48h-P5-L2-test_B12...</td>\n",
       "      <td>specs935-v1-FA-P015085-U2OS-48h-P5-L2-test_B12...</td>\n",
       "      <td>ATPase inhibitor</td>\n",
       "    </tr>\n",
       "    <tr>\n",
       "      <th>9</th>\n",
       "      <td>P015090</td>\n",
       "      <td>E18</td>\n",
       "      <td>CBK277961</td>\n",
       "      <td>/mnt/micro-images-pvc/specs935-v1/specs935-v1-...</td>\n",
       "      <td>specs935-v1-FA-P015090-U2OS-48h-P8-L1_E18_s9_w...</td>\n",
       "      <td>specs935-v1-FA-P015090-U2OS-48h-P8-L1_E18_s9_w...</td>\n",
       "      <td>specs935-v1-FA-P015090-U2OS-48h-P8-L1_E18_s9_w...</td>\n",
       "      <td>specs935-v1-FA-P015090-U2OS-48h-P8-L1_E18_s9_w...</td>\n",
       "      <td>specs935-v1-FA-P015090-U2OS-48h-P8-L1_E18_s9_w...</td>\n",
       "      <td>HDAC inhibitor</td>\n",
       "    </tr>\n",
       "  </tbody>\n",
       "</table>\n",
       "</div>"
      ],
      "text/plain": [
       "     plate well   compound                                               path  \\\n",
       "0  P015085  B22  CBK290770  /mnt/micro-images-pvc/specs935-v1/specs935-v1-...   \n",
       "1  P015099  I03  CBK309655  /mnt/micro-images-pvc/specs935-v1/specs935-v1-...   \n",
       "2  P015099  H21  CBK309040  /mnt/micro-images-pvc/specs935-v1/specs935-v1-...   \n",
       "3  P015099  F20  CBK200898  /mnt/micro-images-pvc/specs935-v1/specs935-v1-...   \n",
       "4  P015099  L04  CBK309538  /mnt/micro-images-pvc/specs935-v1/specs935-v1-...   \n",
       "5  P015098  L15  CBK309020  /mnt/micro-images-pvc/specs935-v1/specs935-v1-...   \n",
       "6  P015092  B08  CBK293875  /mnt/micro-images-pvc/specs935-v1/specs935-v1-...   \n",
       "7  P015084  N02  CBK291084  /mnt/micro-images-pvc/specs935-v1/specs935-v1-...   \n",
       "8  P015085  B12  CBK201011  /mnt/micro-images-pvc/specs935-v1/specs935-v1-...   \n",
       "9  P015090  E18  CBK277961  /mnt/micro-images-pvc/specs935-v1/specs935-v1-...   \n",
       "\n",
       "                                                  C1  \\\n",
       "0  specs935-v1-FA-P015085-U2OS-48h-P5-L2-test_B22...   \n",
       "1  specs935-v1-FA-P015099-U2OS-48h-P12-L2_I03_s4_...   \n",
       "2  specs935-v1-FA-P015099-U2OS-48h-P12-L2_H21_s4_...   \n",
       "3  specs935-v1-FA-P015099-U2OS-48h-P12-L2_F20_s7_...   \n",
       "4  specs935-v1-FA-P015099-U2OS-48h-P12-L2_L04_s4_...   \n",
       "5  specs935-v1-FA-P015098-U2OS-48h-P12-L1_L15_s3_...   \n",
       "6  specs935-v1-FA-P015092-U2OS-48h-P9-L1_B08_s1_w...   \n",
       "7  specs935-v1-FA-P015084-U2OS-48h-P5-L1_N02_s9_w...   \n",
       "8  specs935-v1-FA-P015085-U2OS-48h-P5-L2-test_B12...   \n",
       "9  specs935-v1-FA-P015090-U2OS-48h-P8-L1_E18_s9_w...   \n",
       "\n",
       "                                                  C2  \\\n",
       "0  specs935-v1-FA-P015085-U2OS-48h-P5-L2-test_B22...   \n",
       "1  specs935-v1-FA-P015099-U2OS-48h-P12-L2_I03_s4_...   \n",
       "2  specs935-v1-FA-P015099-U2OS-48h-P12-L2_H21_s4_...   \n",
       "3  specs935-v1-FA-P015099-U2OS-48h-P12-L2_F20_s7_...   \n",
       "4  specs935-v1-FA-P015099-U2OS-48h-P12-L2_L04_s4_...   \n",
       "5  specs935-v1-FA-P015098-U2OS-48h-P12-L1_L15_s3_...   \n",
       "6  specs935-v1-FA-P015092-U2OS-48h-P9-L1_B08_s1_w...   \n",
       "7  specs935-v1-FA-P015084-U2OS-48h-P5-L1_N02_s9_w...   \n",
       "8  specs935-v1-FA-P015085-U2OS-48h-P5-L2-test_B12...   \n",
       "9  specs935-v1-FA-P015090-U2OS-48h-P8-L1_E18_s9_w...   \n",
       "\n",
       "                                                  C3  \\\n",
       "0  specs935-v1-FA-P015085-U2OS-48h-P5-L2-test_B22...   \n",
       "1  specs935-v1-FA-P015099-U2OS-48h-P12-L2_I03_s4_...   \n",
       "2  specs935-v1-FA-P015099-U2OS-48h-P12-L2_H21_s4_...   \n",
       "3  specs935-v1-FA-P015099-U2OS-48h-P12-L2_F20_s7_...   \n",
       "4  specs935-v1-FA-P015099-U2OS-48h-P12-L2_L04_s4_...   \n",
       "5  specs935-v1-FA-P015098-U2OS-48h-P12-L1_L15_s3_...   \n",
       "6  specs935-v1-FA-P015092-U2OS-48h-P9-L1_B08_s1_w...   \n",
       "7  specs935-v1-FA-P015084-U2OS-48h-P5-L1_N02_s9_w...   \n",
       "8  specs935-v1-FA-P015085-U2OS-48h-P5-L2-test_B12...   \n",
       "9  specs935-v1-FA-P015090-U2OS-48h-P8-L1_E18_s9_w...   \n",
       "\n",
       "                                                  C4  \\\n",
       "0  specs935-v1-FA-P015085-U2OS-48h-P5-L2-test_B22...   \n",
       "1  specs935-v1-FA-P015099-U2OS-48h-P12-L2_I03_s4_...   \n",
       "2  specs935-v1-FA-P015099-U2OS-48h-P12-L2_H21_s4_...   \n",
       "3  specs935-v1-FA-P015099-U2OS-48h-P12-L2_F20_s7_...   \n",
       "4  specs935-v1-FA-P015099-U2OS-48h-P12-L2_L04_s4_...   \n",
       "5  specs935-v1-FA-P015098-U2OS-48h-P12-L1_L15_s3_...   \n",
       "6  specs935-v1-FA-P015092-U2OS-48h-P9-L1_B08_s1_w...   \n",
       "7  specs935-v1-FA-P015084-U2OS-48h-P5-L1_N02_s9_w...   \n",
       "8  specs935-v1-FA-P015085-U2OS-48h-P5-L2-test_B12...   \n",
       "9  specs935-v1-FA-P015090-U2OS-48h-P8-L1_E18_s9_w...   \n",
       "\n",
       "                                                  C5  \\\n",
       "0  specs935-v1-FA-P015085-U2OS-48h-P5-L2-test_B22...   \n",
       "1  specs935-v1-FA-P015099-U2OS-48h-P12-L2_I03_s4_...   \n",
       "2  specs935-v1-FA-P015099-U2OS-48h-P12-L2_H21_s4_...   \n",
       "3  specs935-v1-FA-P015099-U2OS-48h-P12-L2_F20_s7_...   \n",
       "4  specs935-v1-FA-P015099-U2OS-48h-P12-L2_L04_s4_...   \n",
       "5  specs935-v1-FA-P015098-U2OS-48h-P12-L1_L15_s3_...   \n",
       "6  specs935-v1-FA-P015092-U2OS-48h-P9-L1_B08_s1_w...   \n",
       "7  specs935-v1-FA-P015084-U2OS-48h-P5-L1_N02_s9_w...   \n",
       "8  specs935-v1-FA-P015085-U2OS-48h-P5-L2-test_B12...   \n",
       "9  specs935-v1-FA-P015090-U2OS-48h-P8-L1_E18_s9_w...   \n",
       "\n",
       "                                moa  \n",
       "0           Aurora kinase inhibitor  \n",
       "1           topoisomerase inhibitor  \n",
       "2           topoisomerase inhibitor  \n",
       "3  tubulin polymerization inhibitor  \n",
       "4       protein synthesis inhibitor  \n",
       "5           topoisomerase inhibitor  \n",
       "6                     JAK inhibitor  \n",
       "7                  ATPase inhibitor  \n",
       "8                  ATPase inhibitor  \n",
       "9                    HDAC inhibitor  "
      ]
     },
     "execution_count": 7,
     "metadata": {},
     "output_type": "execute_result"
    }
   ],
   "source": [
    "# drop random previous index in table above\n",
    "all_data.drop(all_data.columns[[0,11, 12]], axis=1, inplace=True) # Check that reading the data worked \n",
    "all_data.head(10)"
   ]
  },
  {
   "cell_type": "code",
   "execution_count": 8,
   "metadata": {
    "tags": []
   },
   "outputs": [
    {
     "name": "stdout",
     "output_type": "stream",
     "text": [
      " Number of elements: 10000, Number of Rows: 1000, Number of Cols: 10\n"
     ]
    }
   ],
   "source": [
    "# Dubbelcheck that columns and rows are correct\n",
    "print(f' Number of elements: {all_data.size}, Number of Rows: {all_data.shape[0]}, Number of Cols: {all_data.shape[1]}')"
   ]
  },
  {
   "cell_type": "code",
   "execution_count": 9,
   "metadata": {
    "tags": []
   },
   "outputs": [],
   "source": [
    "dictionary = {'ATPase inhibitor': 7, 'Aurora kinase inhibitor': 0,\n",
    " 'HDAC inhibitor': 4, 'HSP inhibitor': 9, 'JAK inhibitor': 2, 'PARP inhibitor': 6,\n",
    " 'protein synthesis inhibitor': 3, 'retinoid receptor agonist': 8,\n",
    " 'topoisomerase inhibitor': 5, 'tubulin polymerization inhibitor': 1}"
   ]
  },
  {
   "cell_type": "code",
   "execution_count": 10,
   "metadata": {
    "tags": []
   },
   "outputs": [
    {
     "data": {
      "text/plain": [
       "10"
      ]
     },
     "execution_count": 10,
     "metadata": {},
     "output_type": "execute_result"
    }
   ],
   "source": [
    "num_classes = len(dictionary) \n",
    "num_classes"
   ]
  },
  {
   "cell_type": "code",
   "execution_count": 11,
   "metadata": {
    "tags": []
   },
   "outputs": [],
   "source": [
    "# change moa to classes \n",
    "all_data['classes'] = None\n",
    "for i in range(all_data.shape[0]):\n",
    "    all_data.iloc[i, 10] = dictionary[all_data.iloc[i, 9]]"
   ]
  },
  {
   "cell_type": "code",
   "execution_count": 12,
   "metadata": {
    "tags": []
   },
   "outputs": [
    {
     "data": {
      "text/html": [
       "<div>\n",
       "<style scoped>\n",
       "    .dataframe tbody tr th:only-of-type {\n",
       "        vertical-align: middle;\n",
       "    }\n",
       "\n",
       "    .dataframe tbody tr th {\n",
       "        vertical-align: top;\n",
       "    }\n",
       "\n",
       "    .dataframe thead th {\n",
       "        text-align: right;\n",
       "    }\n",
       "</style>\n",
       "<table border=\"1\" class=\"dataframe\">\n",
       "  <thead>\n",
       "    <tr style=\"text-align: right;\">\n",
       "      <th></th>\n",
       "      <th>plate</th>\n",
       "      <th>well</th>\n",
       "      <th>compound</th>\n",
       "      <th>path</th>\n",
       "      <th>C1</th>\n",
       "      <th>C2</th>\n",
       "      <th>C3</th>\n",
       "      <th>C4</th>\n",
       "      <th>C5</th>\n",
       "      <th>moa</th>\n",
       "      <th>classes</th>\n",
       "    </tr>\n",
       "  </thead>\n",
       "  <tbody>\n",
       "    <tr>\n",
       "      <th>0</th>\n",
       "      <td>P015085</td>\n",
       "      <td>B22</td>\n",
       "      <td>CBK290770</td>\n",
       "      <td>/mnt/micro-images-pvc/specs935-v1/specs935-v1-...</td>\n",
       "      <td>specs935-v1-FA-P015085-U2OS-48h-P5-L2-test_B22...</td>\n",
       "      <td>specs935-v1-FA-P015085-U2OS-48h-P5-L2-test_B22...</td>\n",
       "      <td>specs935-v1-FA-P015085-U2OS-48h-P5-L2-test_B22...</td>\n",
       "      <td>specs935-v1-FA-P015085-U2OS-48h-P5-L2-test_B22...</td>\n",
       "      <td>specs935-v1-FA-P015085-U2OS-48h-P5-L2-test_B22...</td>\n",
       "      <td>Aurora kinase inhibitor</td>\n",
       "      <td>0</td>\n",
       "    </tr>\n",
       "    <tr>\n",
       "      <th>1</th>\n",
       "      <td>P015099</td>\n",
       "      <td>I03</td>\n",
       "      <td>CBK309655</td>\n",
       "      <td>/mnt/micro-images-pvc/specs935-v1/specs935-v1-...</td>\n",
       "      <td>specs935-v1-FA-P015099-U2OS-48h-P12-L2_I03_s4_...</td>\n",
       "      <td>specs935-v1-FA-P015099-U2OS-48h-P12-L2_I03_s4_...</td>\n",
       "      <td>specs935-v1-FA-P015099-U2OS-48h-P12-L2_I03_s4_...</td>\n",
       "      <td>specs935-v1-FA-P015099-U2OS-48h-P12-L2_I03_s4_...</td>\n",
       "      <td>specs935-v1-FA-P015099-U2OS-48h-P12-L2_I03_s4_...</td>\n",
       "      <td>topoisomerase inhibitor</td>\n",
       "      <td>5</td>\n",
       "    </tr>\n",
       "    <tr>\n",
       "      <th>2</th>\n",
       "      <td>P015099</td>\n",
       "      <td>H21</td>\n",
       "      <td>CBK309040</td>\n",
       "      <td>/mnt/micro-images-pvc/specs935-v1/specs935-v1-...</td>\n",
       "      <td>specs935-v1-FA-P015099-U2OS-48h-P12-L2_H21_s4_...</td>\n",
       "      <td>specs935-v1-FA-P015099-U2OS-48h-P12-L2_H21_s4_...</td>\n",
       "      <td>specs935-v1-FA-P015099-U2OS-48h-P12-L2_H21_s4_...</td>\n",
       "      <td>specs935-v1-FA-P015099-U2OS-48h-P12-L2_H21_s4_...</td>\n",
       "      <td>specs935-v1-FA-P015099-U2OS-48h-P12-L2_H21_s4_...</td>\n",
       "      <td>topoisomerase inhibitor</td>\n",
       "      <td>5</td>\n",
       "    </tr>\n",
       "    <tr>\n",
       "      <th>3</th>\n",
       "      <td>P015099</td>\n",
       "      <td>F20</td>\n",
       "      <td>CBK200898</td>\n",
       "      <td>/mnt/micro-images-pvc/specs935-v1/specs935-v1-...</td>\n",
       "      <td>specs935-v1-FA-P015099-U2OS-48h-P12-L2_F20_s7_...</td>\n",
       "      <td>specs935-v1-FA-P015099-U2OS-48h-P12-L2_F20_s7_...</td>\n",
       "      <td>specs935-v1-FA-P015099-U2OS-48h-P12-L2_F20_s7_...</td>\n",
       "      <td>specs935-v1-FA-P015099-U2OS-48h-P12-L2_F20_s7_...</td>\n",
       "      <td>specs935-v1-FA-P015099-U2OS-48h-P12-L2_F20_s7_...</td>\n",
       "      <td>tubulin polymerization inhibitor</td>\n",
       "      <td>1</td>\n",
       "    </tr>\n",
       "    <tr>\n",
       "      <th>4</th>\n",
       "      <td>P015099</td>\n",
       "      <td>L04</td>\n",
       "      <td>CBK309538</td>\n",
       "      <td>/mnt/micro-images-pvc/specs935-v1/specs935-v1-...</td>\n",
       "      <td>specs935-v1-FA-P015099-U2OS-48h-P12-L2_L04_s4_...</td>\n",
       "      <td>specs935-v1-FA-P015099-U2OS-48h-P12-L2_L04_s4_...</td>\n",
       "      <td>specs935-v1-FA-P015099-U2OS-48h-P12-L2_L04_s4_...</td>\n",
       "      <td>specs935-v1-FA-P015099-U2OS-48h-P12-L2_L04_s4_...</td>\n",
       "      <td>specs935-v1-FA-P015099-U2OS-48h-P12-L2_L04_s4_...</td>\n",
       "      <td>protein synthesis inhibitor</td>\n",
       "      <td>3</td>\n",
       "    </tr>\n",
       "    <tr>\n",
       "      <th>5</th>\n",
       "      <td>P015098</td>\n",
       "      <td>L15</td>\n",
       "      <td>CBK309020</td>\n",
       "      <td>/mnt/micro-images-pvc/specs935-v1/specs935-v1-...</td>\n",
       "      <td>specs935-v1-FA-P015098-U2OS-48h-P12-L1_L15_s3_...</td>\n",
       "      <td>specs935-v1-FA-P015098-U2OS-48h-P12-L1_L15_s3_...</td>\n",
       "      <td>specs935-v1-FA-P015098-U2OS-48h-P12-L1_L15_s3_...</td>\n",
       "      <td>specs935-v1-FA-P015098-U2OS-48h-P12-L1_L15_s3_...</td>\n",
       "      <td>specs935-v1-FA-P015098-U2OS-48h-P12-L1_L15_s3_...</td>\n",
       "      <td>topoisomerase inhibitor</td>\n",
       "      <td>5</td>\n",
       "    </tr>\n",
       "    <tr>\n",
       "      <th>6</th>\n",
       "      <td>P015092</td>\n",
       "      <td>B08</td>\n",
       "      <td>CBK293875</td>\n",
       "      <td>/mnt/micro-images-pvc/specs935-v1/specs935-v1-...</td>\n",
       "      <td>specs935-v1-FA-P015092-U2OS-48h-P9-L1_B08_s1_w...</td>\n",
       "      <td>specs935-v1-FA-P015092-U2OS-48h-P9-L1_B08_s1_w...</td>\n",
       "      <td>specs935-v1-FA-P015092-U2OS-48h-P9-L1_B08_s1_w...</td>\n",
       "      <td>specs935-v1-FA-P015092-U2OS-48h-P9-L1_B08_s1_w...</td>\n",
       "      <td>specs935-v1-FA-P015092-U2OS-48h-P9-L1_B08_s1_w...</td>\n",
       "      <td>JAK inhibitor</td>\n",
       "      <td>2</td>\n",
       "    </tr>\n",
       "    <tr>\n",
       "      <th>7</th>\n",
       "      <td>P015084</td>\n",
       "      <td>N02</td>\n",
       "      <td>CBK291084</td>\n",
       "      <td>/mnt/micro-images-pvc/specs935-v1/specs935-v1-...</td>\n",
       "      <td>specs935-v1-FA-P015084-U2OS-48h-P5-L1_N02_s9_w...</td>\n",
       "      <td>specs935-v1-FA-P015084-U2OS-48h-P5-L1_N02_s9_w...</td>\n",
       "      <td>specs935-v1-FA-P015084-U2OS-48h-P5-L1_N02_s9_w...</td>\n",
       "      <td>specs935-v1-FA-P015084-U2OS-48h-P5-L1_N02_s9_w...</td>\n",
       "      <td>specs935-v1-FA-P015084-U2OS-48h-P5-L1_N02_s9_w...</td>\n",
       "      <td>ATPase inhibitor</td>\n",
       "      <td>7</td>\n",
       "    </tr>\n",
       "    <tr>\n",
       "      <th>8</th>\n",
       "      <td>P015085</td>\n",
       "      <td>B12</td>\n",
       "      <td>CBK201011</td>\n",
       "      <td>/mnt/micro-images-pvc/specs935-v1/specs935-v1-...</td>\n",
       "      <td>specs935-v1-FA-P015085-U2OS-48h-P5-L2-test_B12...</td>\n",
       "      <td>specs935-v1-FA-P015085-U2OS-48h-P5-L2-test_B12...</td>\n",
       "      <td>specs935-v1-FA-P015085-U2OS-48h-P5-L2-test_B12...</td>\n",
       "      <td>specs935-v1-FA-P015085-U2OS-48h-P5-L2-test_B12...</td>\n",
       "      <td>specs935-v1-FA-P015085-U2OS-48h-P5-L2-test_B12...</td>\n",
       "      <td>ATPase inhibitor</td>\n",
       "      <td>7</td>\n",
       "    </tr>\n",
       "    <tr>\n",
       "      <th>9</th>\n",
       "      <td>P015090</td>\n",
       "      <td>E18</td>\n",
       "      <td>CBK277961</td>\n",
       "      <td>/mnt/micro-images-pvc/specs935-v1/specs935-v1-...</td>\n",
       "      <td>specs935-v1-FA-P015090-U2OS-48h-P8-L1_E18_s9_w...</td>\n",
       "      <td>specs935-v1-FA-P015090-U2OS-48h-P8-L1_E18_s9_w...</td>\n",
       "      <td>specs935-v1-FA-P015090-U2OS-48h-P8-L1_E18_s9_w...</td>\n",
       "      <td>specs935-v1-FA-P015090-U2OS-48h-P8-L1_E18_s9_w...</td>\n",
       "      <td>specs935-v1-FA-P015090-U2OS-48h-P8-L1_E18_s9_w...</td>\n",
       "      <td>HDAC inhibitor</td>\n",
       "      <td>4</td>\n",
       "    </tr>\n",
       "  </tbody>\n",
       "</table>\n",
       "</div>"
      ],
      "text/plain": [
       "     plate well   compound                                               path  \\\n",
       "0  P015085  B22  CBK290770  /mnt/micro-images-pvc/specs935-v1/specs935-v1-...   \n",
       "1  P015099  I03  CBK309655  /mnt/micro-images-pvc/specs935-v1/specs935-v1-...   \n",
       "2  P015099  H21  CBK309040  /mnt/micro-images-pvc/specs935-v1/specs935-v1-...   \n",
       "3  P015099  F20  CBK200898  /mnt/micro-images-pvc/specs935-v1/specs935-v1-...   \n",
       "4  P015099  L04  CBK309538  /mnt/micro-images-pvc/specs935-v1/specs935-v1-...   \n",
       "5  P015098  L15  CBK309020  /mnt/micro-images-pvc/specs935-v1/specs935-v1-...   \n",
       "6  P015092  B08  CBK293875  /mnt/micro-images-pvc/specs935-v1/specs935-v1-...   \n",
       "7  P015084  N02  CBK291084  /mnt/micro-images-pvc/specs935-v1/specs935-v1-...   \n",
       "8  P015085  B12  CBK201011  /mnt/micro-images-pvc/specs935-v1/specs935-v1-...   \n",
       "9  P015090  E18  CBK277961  /mnt/micro-images-pvc/specs935-v1/specs935-v1-...   \n",
       "\n",
       "                                                  C1  \\\n",
       "0  specs935-v1-FA-P015085-U2OS-48h-P5-L2-test_B22...   \n",
       "1  specs935-v1-FA-P015099-U2OS-48h-P12-L2_I03_s4_...   \n",
       "2  specs935-v1-FA-P015099-U2OS-48h-P12-L2_H21_s4_...   \n",
       "3  specs935-v1-FA-P015099-U2OS-48h-P12-L2_F20_s7_...   \n",
       "4  specs935-v1-FA-P015099-U2OS-48h-P12-L2_L04_s4_...   \n",
       "5  specs935-v1-FA-P015098-U2OS-48h-P12-L1_L15_s3_...   \n",
       "6  specs935-v1-FA-P015092-U2OS-48h-P9-L1_B08_s1_w...   \n",
       "7  specs935-v1-FA-P015084-U2OS-48h-P5-L1_N02_s9_w...   \n",
       "8  specs935-v1-FA-P015085-U2OS-48h-P5-L2-test_B12...   \n",
       "9  specs935-v1-FA-P015090-U2OS-48h-P8-L1_E18_s9_w...   \n",
       "\n",
       "                                                  C2  \\\n",
       "0  specs935-v1-FA-P015085-U2OS-48h-P5-L2-test_B22...   \n",
       "1  specs935-v1-FA-P015099-U2OS-48h-P12-L2_I03_s4_...   \n",
       "2  specs935-v1-FA-P015099-U2OS-48h-P12-L2_H21_s4_...   \n",
       "3  specs935-v1-FA-P015099-U2OS-48h-P12-L2_F20_s7_...   \n",
       "4  specs935-v1-FA-P015099-U2OS-48h-P12-L2_L04_s4_...   \n",
       "5  specs935-v1-FA-P015098-U2OS-48h-P12-L1_L15_s3_...   \n",
       "6  specs935-v1-FA-P015092-U2OS-48h-P9-L1_B08_s1_w...   \n",
       "7  specs935-v1-FA-P015084-U2OS-48h-P5-L1_N02_s9_w...   \n",
       "8  specs935-v1-FA-P015085-U2OS-48h-P5-L2-test_B12...   \n",
       "9  specs935-v1-FA-P015090-U2OS-48h-P8-L1_E18_s9_w...   \n",
       "\n",
       "                                                  C3  \\\n",
       "0  specs935-v1-FA-P015085-U2OS-48h-P5-L2-test_B22...   \n",
       "1  specs935-v1-FA-P015099-U2OS-48h-P12-L2_I03_s4_...   \n",
       "2  specs935-v1-FA-P015099-U2OS-48h-P12-L2_H21_s4_...   \n",
       "3  specs935-v1-FA-P015099-U2OS-48h-P12-L2_F20_s7_...   \n",
       "4  specs935-v1-FA-P015099-U2OS-48h-P12-L2_L04_s4_...   \n",
       "5  specs935-v1-FA-P015098-U2OS-48h-P12-L1_L15_s3_...   \n",
       "6  specs935-v1-FA-P015092-U2OS-48h-P9-L1_B08_s1_w...   \n",
       "7  specs935-v1-FA-P015084-U2OS-48h-P5-L1_N02_s9_w...   \n",
       "8  specs935-v1-FA-P015085-U2OS-48h-P5-L2-test_B12...   \n",
       "9  specs935-v1-FA-P015090-U2OS-48h-P8-L1_E18_s9_w...   \n",
       "\n",
       "                                                  C4  \\\n",
       "0  specs935-v1-FA-P015085-U2OS-48h-P5-L2-test_B22...   \n",
       "1  specs935-v1-FA-P015099-U2OS-48h-P12-L2_I03_s4_...   \n",
       "2  specs935-v1-FA-P015099-U2OS-48h-P12-L2_H21_s4_...   \n",
       "3  specs935-v1-FA-P015099-U2OS-48h-P12-L2_F20_s7_...   \n",
       "4  specs935-v1-FA-P015099-U2OS-48h-P12-L2_L04_s4_...   \n",
       "5  specs935-v1-FA-P015098-U2OS-48h-P12-L1_L15_s3_...   \n",
       "6  specs935-v1-FA-P015092-U2OS-48h-P9-L1_B08_s1_w...   \n",
       "7  specs935-v1-FA-P015084-U2OS-48h-P5-L1_N02_s9_w...   \n",
       "8  specs935-v1-FA-P015085-U2OS-48h-P5-L2-test_B12...   \n",
       "9  specs935-v1-FA-P015090-U2OS-48h-P8-L1_E18_s9_w...   \n",
       "\n",
       "                                                  C5  \\\n",
       "0  specs935-v1-FA-P015085-U2OS-48h-P5-L2-test_B22...   \n",
       "1  specs935-v1-FA-P015099-U2OS-48h-P12-L2_I03_s4_...   \n",
       "2  specs935-v1-FA-P015099-U2OS-48h-P12-L2_H21_s4_...   \n",
       "3  specs935-v1-FA-P015099-U2OS-48h-P12-L2_F20_s7_...   \n",
       "4  specs935-v1-FA-P015099-U2OS-48h-P12-L2_L04_s4_...   \n",
       "5  specs935-v1-FA-P015098-U2OS-48h-P12-L1_L15_s3_...   \n",
       "6  specs935-v1-FA-P015092-U2OS-48h-P9-L1_B08_s1_w...   \n",
       "7  specs935-v1-FA-P015084-U2OS-48h-P5-L1_N02_s9_w...   \n",
       "8  specs935-v1-FA-P015085-U2OS-48h-P5-L2-test_B12...   \n",
       "9  specs935-v1-FA-P015090-U2OS-48h-P8-L1_E18_s9_w...   \n",
       "\n",
       "                                moa classes  \n",
       "0           Aurora kinase inhibitor       0  \n",
       "1           topoisomerase inhibitor       5  \n",
       "2           topoisomerase inhibitor       5  \n",
       "3  tubulin polymerization inhibitor       1  \n",
       "4       protein synthesis inhibitor       3  \n",
       "5           topoisomerase inhibitor       5  \n",
       "6                     JAK inhibitor       2  \n",
       "7                  ATPase inhibitor       7  \n",
       "8                  ATPase inhibitor       7  \n",
       "9                    HDAC inhibitor       4  "
      ]
     },
     "execution_count": 12,
     "metadata": {},
     "output_type": "execute_result"
    }
   ],
   "source": [
    "all_data.head(10)"
   ]
  },
  {
   "cell_type": "code",
   "execution_count": 13,
   "metadata": {
    "id": "jhksy76-KxaI",
    "tags": []
   },
   "outputs": [],
   "source": [
    "# get the compound-MoA pair \n",
    "compound_moa = all_data[['compound','moa']].drop_duplicates()"
   ]
  },
  {
   "cell_type": "code",
   "execution_count": 14,
   "metadata": {
    "tags": []
   },
   "outputs": [
    {
     "name": "stdout",
     "output_type": "stream",
     "text": [
      "    compound                               moa\n",
      "0  CBK290770           Aurora kinase inhibitor\n",
      "1  CBK309655           topoisomerase inhibitor\n",
      "2  CBK309040           topoisomerase inhibitor\n",
      "3  CBK200898  tubulin polymerization inhibitor\n",
      "4  CBK309538       protein synthesis inhibitor\n",
      "5  CBK309020           topoisomerase inhibitor\n",
      "6  CBK293875                     JAK inhibitor\n",
      "7  CBK291084                  ATPase inhibitor\n",
      "8  CBK201011                  ATPase inhibitor\n",
      "9  CBK277961                    HDAC inhibitor\n",
      " Number of elements: 456, Number of Rows: 228, Number of Cols: 2\n"
     ]
    }
   ],
   "source": [
    "# checking results of table with compound and class. Cross reference number of different compounds.\n",
    "print(compound_moa[0:10])\n",
    "print(f' Number of elements: {compound_moa.size}, Number of Rows: {compound_moa.shape[0]}, Number of Cols: {compound_moa.shape[1]}')"
   ]
  },
  {
   "cell_type": "code",
   "execution_count": 15,
   "metadata": {
    "tags": []
   },
   "outputs": [
    {
     "data": {
      "text/plain": [
       "HDAC inhibitor                      33\n",
       "topoisomerase inhibitor             32\n",
       "HSP inhibitor                       24\n",
       "protein synthesis inhibitor         23\n",
       "JAK inhibitor                       21\n",
       "PARP inhibitor                      20\n",
       "Aurora kinase inhibitor             20\n",
       "tubulin polymerization inhibitor    19\n",
       "retinoid receptor agonist           18\n",
       "ATPase inhibitor                    18\n",
       "Name: moa, dtype: int64"
      ]
     },
     "execution_count": 15,
     "metadata": {},
     "output_type": "execute_result"
    }
   ],
   "source": [
    "# we see that some of the classes have very few members because we limited the data set\n",
    "compound_moa.moa.value_counts()"
   ]
  },
  {
   "cell_type": "code",
   "execution_count": 16,
   "metadata": {
    "tags": []
   },
   "outputs": [],
   "source": [
    "# Attempt att limiting certain classes \n",
    "# Remove all except the four most represented classes\n",
    "#if testing == False:\n",
    "#    compound_moa = compound_moa.loc[compound_moa[\"moa\"].isin([\"HDAC inhibitor\", \"Aurora kinase inhibitor\", \"ATPase inhibitor\", \"HSP inhibitor\"])]      "
   ]
  },
  {
   "cell_type": "code",
   "execution_count": null,
   "metadata": {},
   "outputs": [],
   "source": []
  },
  {
   "cell_type": "code",
   "execution_count": null,
   "metadata": {},
   "outputs": [],
   "source": []
  },
  {
   "cell_type": "code",
   "execution_count": 17,
   "metadata": {
    "tags": []
   },
   "outputs": [
    {
     "data": {
      "text/plain": [
       "(tensor([0, 5, 5, 1, 3, 5, 2, 7, 7, 4, 1, 6, 0, 6, 3, 7, 0, 5, 8, 3, 6, 5, 1, 4,\n",
       "         2, 0, 1, 9, 4, 2, 7, 3, 8, 7, 4, 0, 2, 1, 1, 3, 0, 7, 6, 5, 5, 9, 5, 5,\n",
       "         7, 4, 0, 5, 0, 3, 2, 8, 4, 2, 5, 3, 0, 4, 9, 0, 8, 5, 5, 2, 5, 1, 7, 1,\n",
       "         0, 4, 4, 0, 5, 0, 0, 0, 4, 9, 4, 7, 1, 1, 1, 6, 6, 3, 4, 5, 4, 6, 6, 8,\n",
       "         9, 5, 5, 3, 1, 3, 9, 9, 0, 1, 9, 5, 8, 5, 2, 8, 7, 1, 1, 8, 0, 6, 3, 8,\n",
       "         0, 4, 4, 5, 4, 8, 6, 3, 7, 4, 5, 2, 9, 1, 2, 5, 1, 4, 6, 4, 8, 3, 0, 6,\n",
       "         9, 3, 4, 5, 4, 5, 5, 4, 3, 2, 5, 5, 1, 9, 0, 7, 4, 9, 7, 9, 3, 2, 5, 0,\n",
       "         8, 5, 8, 1, 7, 2, 0, 5, 8, 5, 5, 1, 4, 2, 8, 0, 8, 6, 6, 8, 1, 6, 0, 9,\n",
       "         5, 5, 4, 4, 7, 3, 5, 6, 8, 5, 3, 2, 1, 2, 9, 5, 0, 8, 7, 5, 4, 2, 6, 6,\n",
       "         5, 7, 4, 2, 3, 4, 9, 8, 4, 8, 5, 2, 5, 9, 5, 5, 4, 8, 9, 1, 7, 1, 2, 9,\n",
       "         6, 8, 5, 4, 2, 2, 4, 0, 2, 4, 2, 4, 4, 6, 0, 4, 8, 6, 5, 0, 8, 8, 4, 9,\n",
       "         0, 6, 8, 4, 9, 8, 6, 0, 6, 0, 6, 6, 1, 4, 4, 0, 5, 7, 8, 0, 8, 5, 6, 4,\n",
       "         2, 9, 6, 3, 5, 1, 4, 5, 5, 5, 8, 9, 1, 4, 0, 2, 0, 8, 6, 1, 2, 9, 4, 5,\n",
       "         0, 0, 0, 5, 8, 6, 2, 8, 6, 3, 4, 4, 4, 6, 4, 8, 7, 2, 6, 1, 4, 7, 8, 0,\n",
       "         3, 2, 3, 8, 3, 3, 0, 3, 4, 9, 2, 2, 8, 1, 3, 4, 5, 4, 8, 0, 0, 4, 9, 4,\n",
       "         7, 6, 7, 0, 6, 8, 4, 5, 2, 2, 7, 0, 0, 5, 1, 4, 7, 3, 8, 4, 5, 6, 3, 5,\n",
       "         6, 8, 3, 3, 7, 3, 5, 2, 9, 3, 3, 3, 5, 0, 0, 5, 8, 5, 6, 0, 2, 9, 4, 3,\n",
       "         3, 6, 4, 2, 4, 8, 2, 0, 5, 9, 4, 7, 5, 5, 2, 4, 2, 4, 9, 4, 1, 8, 4, 6,\n",
       "         4, 5, 5, 4, 1, 6, 7, 1, 3, 9, 7, 2, 0, 7, 9, 4, 7, 7, 0, 3, 8, 4, 8, 5,\n",
       "         6, 6, 9, 2, 5, 2, 6, 9, 7, 9, 3, 7, 1, 4, 9, 6, 7, 5, 4, 7, 6, 2, 0, 4,\n",
       "         3, 5, 4, 3, 6, 5, 4, 9, 5, 4, 0, 1, 3, 6, 7, 2, 8, 1, 5, 9, 4, 6, 0, 4,\n",
       "         2, 0, 4, 4, 9, 0, 4, 2, 1, 4, 4, 9, 2, 6, 0, 4, 9, 6, 8, 4, 1, 4, 0, 7,\n",
       "         8, 0, 3, 5, 6, 4, 2, 5, 9, 4, 8, 4, 4, 1, 6, 4, 4, 2, 5, 0, 5, 7, 1, 6,\n",
       "         4, 8, 0, 9, 1, 3, 4, 4, 8, 9, 9, 5, 1, 5, 4, 6, 4, 5, 7, 5, 8, 7, 3, 3,\n",
       "         4, 8, 3, 4, 2, 4, 5, 5, 0, 4, 4, 6, 3, 6, 3, 6, 7, 9, 8, 7, 8, 9, 9, 9,\n",
       "         4, 1, 7, 4, 4, 2, 5, 7, 6, 0, 8, 9, 7, 0, 6, 7, 1, 9, 6, 2, 2, 1, 9, 9,\n",
       "         4, 8, 4, 9, 4, 9, 0, 2, 5, 6, 2, 3, 1, 7, 6, 5, 5, 5, 3, 3, 4, 2, 7, 9,\n",
       "         8, 1, 9, 0, 0, 1, 0, 5, 5, 4, 4, 1, 0, 3, 6, 3, 5, 9, 6, 5, 9, 2, 3, 2,\n",
       "         4, 9, 5, 3, 3, 4, 9, 9, 9, 4, 5, 0, 5, 7, 4, 1, 2, 7, 3, 6, 1, 4, 3, 1,\n",
       "         2, 2, 2, 5, 4, 6, 4, 5, 5, 4, 3, 6, 7, 7, 0, 3, 0, 4, 3, 9, 6, 6, 4, 2,\n",
       "         5, 3, 0, 2, 1, 2, 5, 8, 1, 5, 4, 4, 4, 8, 0, 7, 9, 6, 4, 5, 5, 2, 7, 9,\n",
       "         4, 5, 4, 7, 2, 5, 8, 5, 5, 0, 8, 5, 4, 3, 4, 6, 0, 7, 5, 9, 8, 0, 5, 1,\n",
       "         5, 5, 8, 6, 9, 6, 3, 2, 1, 5, 9, 7, 5, 9, 0, 3, 3, 8, 1, 3, 1, 4, 3, 2,\n",
       "         0, 0, 1, 0, 0, 3, 9, 4, 3, 4, 2, 1, 6, 1, 8, 8, 9, 0, 9, 1, 5, 0, 4, 3,\n",
       "         7, 7, 5, 3, 9, 2, 2, 7, 8, 7, 4, 5, 3, 1, 5, 3, 3, 0, 0, 1, 4, 5, 9, 3,\n",
       "         8, 4, 8, 9, 9, 3, 7, 6, 1, 0, 8, 1, 9, 4, 8, 3, 4, 0, 4, 2, 9, 0, 2, 3,\n",
       "         6, 5, 4, 5, 4, 5, 9, 6, 5, 2, 7, 9, 0, 4, 7, 0, 4, 2, 7, 7, 7, 9, 6, 2,\n",
       "         3, 0, 7, 8, 3, 6, 5, 4, 2, 3, 2, 1, 2, 5, 9, 1, 1, 2, 0, 5, 5, 9, 5, 5,\n",
       "         7, 9, 1, 9, 7, 9, 2, 4, 5, 2, 1, 5, 1, 7, 2, 0, 5, 3, 0, 0, 3, 8, 5, 9,\n",
       "         2, 2, 7, 1, 1, 4, 2, 1, 2, 0, 1, 3, 0, 8, 6, 3, 4, 6, 1, 1, 1, 2, 6, 2,\n",
       "         4, 1, 6, 4, 2, 6, 7, 3, 5, 4, 9, 5, 3, 5, 1, 9, 5, 6, 4, 9, 4, 1, 3, 7,\n",
       "         1, 7, 8, 6, 6, 1, 5, 4, 5, 5, 7, 8, 9, 4, 3, 1]),\n",
       " torch.Size([1000]))"
      ]
     },
     "execution_count": 17,
     "metadata": {},
     "output_type": "execute_result"
    }
   ],
   "source": [
    "# creating tensor from all_data.df\n",
    "target = torch.tensor(all_data['classes'].values.astype(np.int64))\n",
    "target, target.shape"
   ]
  },
  {
   "cell_type": "code",
   "execution_count": 18,
   "metadata": {
    "tags": []
   },
   "outputs": [
    {
     "data": {
      "text/plain": [
       "tensor([[1., 0., 0.,  ..., 0., 0., 0.],\n",
       "        [0., 0., 0.,  ..., 0., 0., 0.],\n",
       "        [0., 0., 0.,  ..., 0., 0., 0.],\n",
       "        ...,\n",
       "        [0., 0., 0.,  ..., 0., 0., 0.],\n",
       "        [0., 0., 0.,  ..., 0., 0., 0.],\n",
       "        [0., 1., 0.,  ..., 0., 0., 0.]])"
      ]
     },
     "execution_count": 18,
     "metadata": {},
     "output_type": "execute_result"
    }
   ],
   "source": [
    "target_onehot = torch.zeros(target.shape[0], num_classes)\n",
    "target_onehot.scatter_(1, target.unsqueeze(1), 1.0)"
   ]
  },
  {
   "cell_type": "code",
   "execution_count": 19,
   "metadata": {
    "tags": []
   },
   "outputs": [
    {
     "data": {
      "text/plain": [
       "'bro = len(compound_moa.moa.value_counts())\\ntarget_onehot = torch.zeros(target.shape[0], bro)\\nprint(target_onehot)\\ntarget_onehot.scatter_(1, target.unsqueeze(1), 1.0)'"
      ]
     },
     "execution_count": 19,
     "metadata": {},
     "output_type": "execute_result"
    }
   ],
   "source": [
    "'''bro = len(compound_moa.moa.value_counts())\n",
    "target_onehot = torch.zeros(target.shape[0], bro)\n",
    "print(target_onehot)\n",
    "target_onehot.scatter_(1, target.unsqueeze(1), 1.0)'''"
   ]
  },
  {
   "cell_type": "code",
   "execution_count": 20,
   "metadata": {
    "tags": []
   },
   "outputs": [
    {
     "data": {
      "text/plain": [
       "HDAC inhibitor                      33\n",
       "topoisomerase inhibitor             32\n",
       "HSP inhibitor                       24\n",
       "protein synthesis inhibitor         23\n",
       "JAK inhibitor                       21\n",
       "PARP inhibitor                      20\n",
       "Aurora kinase inhibitor             20\n",
       "tubulin polymerization inhibitor    19\n",
       "retinoid receptor agonist           18\n",
       "ATPase inhibitor                    18\n",
       "Name: moa, dtype: int64"
      ]
     },
     "execution_count": 20,
     "metadata": {},
     "output_type": "execute_result"
    }
   ],
   "source": [
    "# Dubbel check that only four well-represented classes remain\n",
    "compound_moa.moa.value_counts()"
   ]
  },
  {
   "cell_type": "code",
   "execution_count": 21,
   "metadata": {
    "tags": []
   },
   "outputs": [
    {
     "name": "stdout",
     "output_type": "stream",
     "text": [
      "    compound                               moa\n",
      "0  CBK290770           Aurora kinase inhibitor\n",
      "1  CBK309655           topoisomerase inhibitor\n",
      "2  CBK309040           topoisomerase inhibitor\n",
      "3  CBK200898  tubulin polymerization inhibitor\n",
      "4  CBK309538       protein synthesis inhibitor\n",
      "5  CBK309020           topoisomerase inhibitor\n",
      "6  CBK293875                     JAK inhibitor\n",
      "7  CBK291084                  ATPase inhibitor\n",
      "8  CBK201011                  ATPase inhibitor\n",
      "9  CBK277961                    HDAC inhibitor\n"
     ]
    }
   ],
   "source": [
    "print(compound_moa[0:10])"
   ]
  },
  {
   "cell_type": "code",
   "execution_count": 22,
   "metadata": {
    "id": "Vp16IyZKKxdf",
    "tags": []
   },
   "outputs": [
    {
     "data": {
      "text/plain": [
       "' \\nExplanation:\\n- test_size: 10 % of data\\n- stratified: each set contains approximately the same percentage of samples of each target class as the complete set.\\n- random_state: the seed\\n- does shuffling of order\\n'"
      ]
     },
     "execution_count": 22,
     "metadata": {},
     "output_type": "execute_result"
    }
   ],
   "source": [
    "# split dataset into test and training/validation sets (10-90 split)\n",
    "compound_train_valid, compound_test, moa_train_valid, moa_test = train_test_split(\n",
    "  compound_moa.compound, compound_moa.moa, test_size = 0.10, stratify = compound_moa.moa, \n",
    "  shuffle = True, random_state = 1)\n",
    "''' \n",
    "Explanation:\n",
    "- test_size: 10 % of data\n",
    "- stratified: each set contains approximately the same percentage of samples of each target class as the complete set.\n",
    "- random_state: the seed\n",
    "- does shuffling of order\n",
    "'''"
   ]
  },
  {
   "cell_type": "code",
   "execution_count": 23,
   "metadata": {
    "tags": []
   },
   "outputs": [
    {
     "name": "stdout",
     "output_type": "stream",
     "text": [
      "84     CBK308966\n",
      "52     CBK308652\n",
      "420    CBK309021\n",
      "137    CBK291020\n",
      "565    CBK303985\n",
      "85     CBK041516\n",
      "225    CBK271643\n",
      "16     CBK290766\n",
      "32     CBK290101\n",
      "112    CBK309507\n",
      "Name: compound, dtype: object\n"
     ]
    }
   ],
   "source": [
    "print(compound_train_valid[0:10]) # produces index with compound"
   ]
  },
  {
   "cell_type": "code",
   "execution_count": 24,
   "metadata": {
    "id": "mgZQa4pTO7nE",
    "tags": []
   },
   "outputs": [],
   "source": [
    "# Split data set into training and validation sets (1 to 9)\n",
    "# Same as above, but does split of only training data into training and validation data (in order to take advantage of stratification parameter)\n",
    "compound_train, compound_valid, moa_train, moa_valid = train_test_split(\n",
    "  compound_train_valid, moa_train_valid, test_size = 10/90, stratify = moa_train_valid,\n",
    "  shuffle = True, random_state = 62757)"
   ]
  },
  {
   "cell_type": "code",
   "execution_count": 25,
   "metadata": {
    "tags": []
   },
   "outputs": [
    {
     "name": "stdout",
     "output_type": "stream",
     "text": [
      "112    CBK309507\n",
      "140    CBK289882\n",
      "212    CBK261295\n",
      "56     CBK290837\n",
      "11     CBK309255\n",
      "164    CBK042154\n",
      "29     CBK290877\n",
      "309    CBK277973\n",
      "5      CBK309020\n",
      "125    CBK308090\n",
      "Name: compound, dtype: object\n"
     ]
    }
   ],
   "source": [
    "print(compound_train[0:10])"
   ]
  },
  {
   "cell_type": "code",
   "execution_count": 26,
   "metadata": {
    "id": "73_IwUtfO7sm",
    "tags": []
   },
   "outputs": [
    {
     "data": {
      "text/plain": [
       "' Explanation\\nreset_index = create new index starting from zero \\ndrop: drop previous index.\\n'"
      ]
     },
     "execution_count": 26,
     "metadata": {},
     "output_type": "execute_result"
    }
   ],
   "source": [
    "# get the train, valid and test set by for every compound in data set, if it is in train, valid or test, return all info from all_data in new df.\n",
    "train = all_data[all_data['compound'].isin(compound_train)]\n",
    "valid = all_data[all_data['compound'].isin(compound_valid)]\n",
    "test  = all_data[all_data['compound'].isin(compound_test)]\n",
    "''' Explanation\n",
    "reset_index = create new index starting from zero \n",
    "drop: drop previous index.\n",
    "'''"
   ]
  },
  {
   "cell_type": "code",
   "execution_count": 27,
   "metadata": {
    "tags": []
   },
   "outputs": [
    {
     "name": "stdout",
     "output_type": "stream",
     "text": [
      "0    0\n",
      "1    5\n",
      "2    5\n",
      "3    1\n",
      "4    3\n",
      "Name: classes, dtype: object\n",
      "8     7\n",
      "14    3\n",
      "33    7\n",
      "45    9\n",
      "46    5\n",
      "Name: classes, dtype: object\n",
      "      plate well   compound  \\\n",
      "9   P015090  E18  CBK277961   \n",
      "10  P015099  B07  CBK308359   \n",
      "22  P015098  B08  CBK041720   \n",
      "23  P015090  M17  CBK291055   \n",
      "36  P015091  M07  CBK278016   \n",
      "\n",
      "                                                 path  \\\n",
      "9   /mnt/micro-images-pvc/specs935-v1/specs935-v1-...   \n",
      "10  /mnt/micro-images-pvc/specs935-v1/specs935-v1-...   \n",
      "22  /mnt/micro-images-pvc/specs935-v1/specs935-v1-...   \n",
      "23  /mnt/micro-images-pvc/specs935-v1/specs935-v1-...   \n",
      "36  /mnt/micro-images-pvc/specs935-v1/specs935-v1-...   \n",
      "\n",
      "                                                   C1  \\\n",
      "9   specs935-v1-FA-P015090-U2OS-48h-P8-L1_E18_s9_w...   \n",
      "10  specs935-v1-FA-P015099-U2OS-48h-P12-L2_B07_s8_...   \n",
      "22  specs935-v1-FA-P015098-U2OS-48h-P12-L1_B08_s7_...   \n",
      "23  specs935-v1-FA-P015090-U2OS-48h-P8-L1_M17_s3_w...   \n",
      "36  specs935-v1-FA-P015091-U2OS-48h-P8-L2_M07_s3_w...   \n",
      "\n",
      "                                                   C2  \\\n",
      "9   specs935-v1-FA-P015090-U2OS-48h-P8-L1_E18_s9_w...   \n",
      "10  specs935-v1-FA-P015099-U2OS-48h-P12-L2_B07_s8_...   \n",
      "22  specs935-v1-FA-P015098-U2OS-48h-P12-L1_B08_s7_...   \n",
      "23  specs935-v1-FA-P015090-U2OS-48h-P8-L1_M17_s3_w...   \n",
      "36  specs935-v1-FA-P015091-U2OS-48h-P8-L2_M07_s3_w...   \n",
      "\n",
      "                                                   C3  \\\n",
      "9   specs935-v1-FA-P015090-U2OS-48h-P8-L1_E18_s9_w...   \n",
      "10  specs935-v1-FA-P015099-U2OS-48h-P12-L2_B07_s8_...   \n",
      "22  specs935-v1-FA-P015098-U2OS-48h-P12-L1_B08_s7_...   \n",
      "23  specs935-v1-FA-P015090-U2OS-48h-P8-L1_M17_s3_w...   \n",
      "36  specs935-v1-FA-P015091-U2OS-48h-P8-L2_M07_s3_w...   \n",
      "\n",
      "                                                   C4  \\\n",
      "9   specs935-v1-FA-P015090-U2OS-48h-P8-L1_E18_s9_w...   \n",
      "10  specs935-v1-FA-P015099-U2OS-48h-P12-L2_B07_s8_...   \n",
      "22  specs935-v1-FA-P015098-U2OS-48h-P12-L1_B08_s7_...   \n",
      "23  specs935-v1-FA-P015090-U2OS-48h-P8-L1_M17_s3_w...   \n",
      "36  specs935-v1-FA-P015091-U2OS-48h-P8-L2_M07_s3_w...   \n",
      "\n",
      "                                                   C5  \\\n",
      "9   specs935-v1-FA-P015090-U2OS-48h-P8-L1_E18_s9_w...   \n",
      "10  specs935-v1-FA-P015099-U2OS-48h-P12-L2_B07_s8_...   \n",
      "22  specs935-v1-FA-P015098-U2OS-48h-P12-L1_B08_s7_...   \n",
      "23  specs935-v1-FA-P015090-U2OS-48h-P8-L1_M17_s3_w...   \n",
      "36  specs935-v1-FA-P015091-U2OS-48h-P8-L2_M07_s3_w...   \n",
      "\n",
      "                                 moa classes  \n",
      "9                     HDAC inhibitor       4  \n",
      "10  tubulin polymerization inhibitor       1  \n",
      "22  tubulin polymerization inhibitor       1  \n",
      "23                    HDAC inhibitor       4  \n",
      "36                     JAK inhibitor       2  \n"
     ]
    }
   ],
   "source": [
    "print(train.classes[0:5])\n",
    "print(valid.classes[0:5])\n",
    "print(test[0:5])"
   ]
  },
  {
   "cell_type": "code",
   "execution_count": 28,
   "metadata": {
    "tags": []
   },
   "outputs": [
    {
     "name": "stdout",
     "output_type": "stream",
     "text": [
      " Number of elements: 8734, Number of Rows: 794, Number of Cols: 11\n",
      " Number of elements: 1188, Number of Rows: 108, Number of Cols: 11\n",
      " Number of elements: 1078, Number of Rows: 98, Number of Cols: 11\n",
      " Train, Validation, and Test Set: 11000, Original Length 11000\n",
      " Train, Validation, and Test Set: 1000, Original Length 1000\n"
     ]
    }
   ],
   "source": [
    "# Checking to make sure that rows and columns are the same.\n",
    "print(f' Number of elements: {train.size}, Number of Rows: {train.shape[0]}, Number of Cols: {train.shape[1]}')\n",
    "print(f' Number of elements: {valid.size}, Number of Rows: {valid.shape[0]}, Number of Cols: {valid.shape[1]}')\n",
    "print(f' Number of elements: {test.size}, Number of Rows: {test.shape[0]}, Number of Cols: {test.shape[1]}')\n",
    "print(f' Train, Validation, and Test Set: {train.size + valid.size + test.size}, Original Length {all_data.size}' )\n",
    "print(f' Train, Validation, and Test Set: {train.shape[0] + valid.shape[0] + test.shape[0]}, Original Length {all_data.shape[0]}' )\n",
    " # The shape of a DataFrame is a tuple of array dimensions that tells the number of rows and columns of a given DataFrame."
   ]
  },
  {
   "cell_type": "markdown",
   "metadata": {},
   "source": [
    "## Preparing Images"
   ]
  },
  {
   "cell_type": "code",
   "execution_count": 29,
   "metadata": {
    "tags": []
   },
   "outputs": [
    {
     "name": "stdout",
     "output_type": "stream",
     "text": [
      "[0, 1, 2, 3, 4, 5, 6, 7, 11, 12, 13, 15, 16, 17, 18, 19, 20, 21, 24, 25]\n"
     ]
    }
   ],
   "source": [
    "# check to see that index of train looks reasonable\n",
    "print(train.index.tolist()[:20])"
   ]
  },
  {
   "cell_type": "code",
   "execution_count": 30,
   "metadata": {
    "tags": []
   },
   "outputs": [],
   "source": [
    "# create dictionary for parition\n",
    "partition = {\"train\": [], \"valid\": [], \"test\": []}\n",
    "\n",
    "# create lists with indexes in splits\n",
    "tr_list = train.index.tolist()\n",
    "va_list = valid.index.tolist()\n",
    "\n",
    "# place index into correct bin\n",
    "for index in all_data.index.tolist():\n",
    "#for index in compound_moa.index.tolist():\n",
    "    if index in tr_list:\n",
    "        partition[\"train\"] += [index]\n",
    "    elif index in va_list:\n",
    "        partition[\"valid\"]   += [index]\n",
    "    else:\n",
    "        partition[\"test\"]  += [index]"
   ]
  },
  {
   "cell_type": "code",
   "execution_count": 31,
   "metadata": {
    "tags": []
   },
   "outputs": [],
   "source": [
    "# check to see that indexes have been added to dictionary\n",
    "#print(partition) # functional"
   ]
  },
  {
   "cell_type": "code",
   "execution_count": 32,
   "metadata": {
    "tags": []
   },
   "outputs": [],
   "source": [
    "# create dictionary for labels\n",
    "#labels = {}\n",
    "#for index,compound in zip(all_data.index.tolist(), all_data[\"classes\"].tolist()):\n",
    "    #labels[index] = compound\n"
   ]
  },
  {
   "cell_type": "code",
   "execution_count": 33,
   "metadata": {
    "tags": []
   },
   "outputs": [],
   "source": [
    "# create dictionary for labels, using PyTorch\n",
    "labels = {}\n",
    "for index,compound in zip(all_data.index.tolist(), target_onehot):\n",
    "    labels[index] = compound"
   ]
  },
  {
   "cell_type": "code",
   "execution_count": 37,
   "metadata": {
    "tags": []
   },
   "outputs": [],
   "source": [
    "# check to see if dictionary with index: class pair exists\n",
    "#print(labels) # functional\n",
    "#labels[1000] # extract label from index"
   ]
  },
  {
   "cell_type": "code",
   "execution_count": 38,
   "metadata": {
    "tags": []
   },
   "outputs": [],
   "source": [
    "from torchvision import models\n",
    "#dir(models)"
   ]
  },
  {
   "cell_type": "code",
   "execution_count": 39,
   "metadata": {
    "id": "KDGCruBJA1J2",
    "tags": []
   },
   "outputs": [],
   "source": [
    "# on the fly data augmentation \n",
    "import albumentations as A\n",
    "train_transforms = A.Compose([A.Flip(),A.ShiftScaleRotate(scale_limit=0.2),A.RandomRotate90(),\n",
    "    A.OneOf([A.Flip(),A.ShiftScaleRotate(scale_limit=0.2),A.RandomRotate90(),],p = 0.2),\n",
    "    A.OneOf([A.Flip(),A.ShiftScaleRotate(scale_limit=0.2),A.RandomRotate90(),],p = 0.4),\n",
    "    A.OneOf([A.Flip(),A.ShiftScaleRotate(scale_limit=0.2),A.RandomRotate90(),],p = 0.5),\n",
    "    A.OneOf([A.Flip(),A.ShiftScaleRotate(scale_limit=0.2),A.RandomRotate90(),],p = 0.6),\n",
    "    A.OneOf([A.Flip(),A.ShiftScaleRotate(scale_limit=0.2),A.RandomRotate90(),],p = 0.8),\n",
    "    A.Flip(),A.ShiftScaleRotate(scale_limit=0.2),A.RandomRotate90(),])\n",
    "valid_transforms = A.Compose([])"
   ]
  },
  {
   "cell_type": "code",
   "execution_count": 40,
   "metadata": {
    "id": "oDZ2gf4WCxcW",
    "tags": []
   },
   "outputs": [],
   "source": [
    "valid_transforms = A.Compose([])"
   ]
  },
  {
   "cell_type": "code",
   "execution_count": 41,
   "metadata": {
    "id": "fOHasY7qCrm4",
    "tags": []
   },
   "outputs": [],
   "source": [
    "def channel_5_numpy(df, idx):\n",
    "    '''\n",
    "    Puts together all channels from CP imaging into a single 5 x 256 x 256 tensor (c x h x w) from all_data.csv\n",
    "    Input\n",
    "    df  : file which contains all rows of image data with compound information (type = csv)\n",
    "    idx : the index of the row (type = integer)\n",
    "    \n",
    "    Output:\n",
    "    image: a single 5 x 256 x 256 tensor (c x h x w)\n",
    "    '''\n",
    "    # extract row with index \n",
    "    row = df.iloc[idx]\n",
    "    \n",
    "    # loop through all of the channels and add to single array\n",
    "    im = []\n",
    "    for c in range(1, 6):\n",
    "        # extract by adding C to the integer we are looping\n",
    "        row_channel_path = row[\"C\" + str(c)]\n",
    "        local_im = cv2.imread(row.path + \"/\" + row[\"C\" + str(c)], -1) # row.path would be same for me, except str(row[path]))\n",
    "        \n",
    "        # directly resize down to 256 by 256\n",
    "        local_im = cv2.resize(local_im, (256, 256), interpolation = cv2.INTER_LINEAR)\n",
    "        # adds to array to the image vector \n",
    "        im.append(local_im)\n",
    "\n",
    "    # once we have all the channels, we covert it to a np.array, transpose so it has the correct dimensions and change the type for some reason\n",
    "    im = np.array(im).astype(\"int16\")\n",
    "    return torch.from_numpy(im)"
   ]
  },
  {
   "cell_type": "code",
   "execution_count": 42,
   "metadata": {
    "id": "cbPwaU-dCro5",
    "tags": []
   },
   "outputs": [],
   "source": [
    "class Dataset(torch.utils.data.Dataset):\n",
    "    def __init__(self, partition, labels, transform=None):\n",
    "        self.img_labels = labels\n",
    "        # print(self.img_labels)\n",
    "        self.list_ID = partition\n",
    "        self.transform = transform\n",
    "\n",
    "    def __len__(self):\n",
    "        ''' The number of data points '''\n",
    "        return len(self.img_labels)\n",
    "\n",
    "    def __getitem__(self, idx):\n",
    "        '''Retreiving the image '''\n",
    "        #print(idx)\n",
    "        ID = self.list_ID[idx]\n",
    "        image = channel_5_numpy(all_data, ID) # extract image from csv using index\n",
    "        #print(f' return from function: {image}')\n",
    "        label = self.img_labels[ID]          # extract calssification using index\n",
    "        #print(label)\n",
    "        label = torch.tensor(label, dtype=torch.short)\n",
    "        if self.transform:                         # uses Albumentations image pipeline to return an augmented image\n",
    "            image = self.transform(image)\n",
    "        #return image.float(), label.long()\n",
    "        return image.float(), label.float()"
   ]
  },
  {
   "cell_type": "code",
   "execution_count": 43,
   "metadata": {
    "tags": []
   },
   "outputs": [
    {
     "name": "stdout",
     "output_type": "stream",
     "text": [
      "1\n"
     ]
    }
   ],
   "source": [
    "# showing that I have no GPUs\n",
    "world_size = torch.cuda.device_count()\n",
    "print(world_size)"
   ]
  },
  {
   "cell_type": "code",
   "execution_count": 85,
   "metadata": {
    "tags": []
   },
   "outputs": [],
   "source": [
    "batch_size = 4 \n",
    "# parameters\n",
    "params = {'batch_size' : 4,\n",
    "         'num_workers' : 3,\n",
    "         'shuffle' : True,\n",
    "         'prefetch_factor' : 1} \n",
    "          \n",
    "# shuffle isn't working\n",
    "\n",
    "# Datasets\n",
    "partition = partition\n",
    "labels = labels\n",
    "\n",
    "# maxepochs\n",
    "max_epochs = 55"
   ]
  },
  {
   "cell_type": "markdown",
   "metadata": {
    "id": "9Mz8y7LJCrrG",
    "tags": []
   },
   "source": [
    "## Generators"
   ]
  },
  {
   "cell_type": "markdown",
   "metadata": {},
   "source": [
    "### Now works to shuffle the the batches"
   ]
  },
  {
   "cell_type": "code",
   "execution_count": 45,
   "metadata": {
    "tags": []
   },
   "outputs": [],
   "source": [
    "#partition['valid']+ partition['test']"
   ]
  },
  {
   "cell_type": "code",
   "execution_count": 46,
   "metadata": {
    "tags": []
   },
   "outputs": [],
   "source": [
    "# Create a dataset with all indices and labels\n",
    "everything = Dataset(partition[\"train\"]+partition['valid']+partition['test'], labels)"
   ]
  },
  {
   "cell_type": "code",
   "execution_count": 47,
   "metadata": {
    "tags": []
   },
   "outputs": [],
   "source": [
    "# generator: training\n",
    "# create a subset with only train indices\n",
    "training_set = torch.utils.data.Subset(everything, partition[\"train\"])\n",
    "\n",
    "# create generator that randomly takes indices from the training set\n",
    "training_generator = torch.utils.data.DataLoader(training_set, **params)\n",
    "# training_set = Dataset(partition[\"train\"], labels)"
   ]
  },
  {
   "cell_type": "code",
   "execution_count": 48,
   "metadata": {
    "tags": []
   },
   "outputs": [],
   "source": [
    "# create a subset with only train indices\n",
    "valid_set = torch.utils.data.Subset(everything, partition[\"valid\"])\n",
    "\n",
    "# create generator that randomly takes indices from the training set\n",
    "valid_generator = torch.utils.data.DataLoader(valid_set, **params)"
   ]
  },
  {
   "cell_type": "code",
   "execution_count": 49,
   "metadata": {
    "tags": []
   },
   "outputs": [],
   "source": [
    "# create a subset with only train indices\n",
    "test_set = torch.utils.data.Subset(everything, partition[\"test\"])\n",
    "\n",
    "# create generator that randomly takes indices from the training set\n",
    "test_generator = torch.utils.data.DataLoader(test_set, **params)"
   ]
  },
  {
   "cell_type": "code",
   "execution_count": 50,
   "metadata": {
    "tags": []
   },
   "outputs": [],
   "source": [
    "# generator: validation\n",
    "#valid_set = Dataset(partition['valid'], labels)\n",
    "#valid_generator = torch.utils.data.DataLoader(valid_set, **params)"
   ]
  },
  {
   "cell_type": "code",
   "execution_count": 51,
   "metadata": {
    "tags": []
   },
   "outputs": [],
   "source": [
    "# generator: test\n",
    "# test_set = Dataset(partition['test'], labels)\n",
    "# test_generator = torch.utils.data.DataLoader(test_set, **params)"
   ]
  },
  {
   "cell_type": "markdown",
   "metadata": {
    "tags": []
   },
   "source": [
    "### Testing Data Loaders"
   ]
  },
  {
   "cell_type": "code",
   "execution_count": 52,
   "metadata": {
    "tags": []
   },
   "outputs": [
    {
     "name": "stderr",
     "output_type": "stream",
     "text": [
      "/usr/local/lib/python3.6/dist-packages/ipykernel_launcher.py:20: UserWarning: To copy construct from a tensor, it is recommended to use sourceTensor.clone().detach() or sourceTensor.clone().detach().requires_grad_(True), rather than torch.tensor(sourceTensor).\n",
      "/usr/local/lib/python3.6/dist-packages/ipykernel_launcher.py:20: UserWarning: To copy construct from a tensor, it is recommended to use sourceTensor.clone().detach() or sourceTensor.clone().detach().requires_grad_(True), rather than torch.tensor(sourceTensor).\n",
      "/usr/local/lib/python3.6/dist-packages/ipykernel_launcher.py:20: UserWarning: To copy construct from a tensor, it is recommended to use sourceTensor.clone().detach() or sourceTensor.clone().detach().requires_grad_(True), rather than torch.tensor(sourceTensor).\n",
      "/usr/local/lib/python3.6/dist-packages/ipykernel_launcher.py:20: UserWarning: To copy construct from a tensor, it is recommended to use sourceTensor.clone().detach() or sourceTensor.clone().detach().requires_grad_(True), rather than torch.tensor(sourceTensor).\n"
     ]
    },
    {
     "name": "stdout",
     "output_type": "stream",
     "text": [
      "Feature batch shape: torch.Size([20, 5, 256, 256])\n",
      "Labels batch shape: torch.Size([20, 10])\n"
     ]
    }
   ],
   "source": [
    "# training data loader\n",
    "# Display image and label   # functional\n",
    "train_features, train_labels = next(iter(training_generator))\n",
    "print(f\"Feature batch shape: {train_features.size()}\")\n",
    "print(f\"Labels batch shape: {train_labels.size()}\")"
   ]
  },
  {
   "cell_type": "code",
   "execution_count": 53,
   "metadata": {
    "tags": []
   },
   "outputs": [
    {
     "name": "stderr",
     "output_type": "stream",
     "text": [
      "/usr/local/lib/python3.6/dist-packages/ipykernel_launcher.py:20: UserWarning: To copy construct from a tensor, it is recommended to use sourceTensor.clone().detach() or sourceTensor.clone().detach().requires_grad_(True), rather than torch.tensor(sourceTensor).\n",
      "/usr/local/lib/python3.6/dist-packages/ipykernel_launcher.py:20: UserWarning: To copy construct from a tensor, it is recommended to use sourceTensor.clone().detach() or sourceTensor.clone().detach().requires_grad_(True), rather than torch.tensor(sourceTensor).\n",
      "/usr/local/lib/python3.6/dist-packages/ipykernel_launcher.py:20: UserWarning: To copy construct from a tensor, it is recommended to use sourceTensor.clone().detach() or sourceTensor.clone().detach().requires_grad_(True), rather than torch.tensor(sourceTensor).\n",
      "/usr/local/lib/python3.6/dist-packages/ipykernel_launcher.py:20: UserWarning: To copy construct from a tensor, it is recommended to use sourceTensor.clone().detach() or sourceTensor.clone().detach().requires_grad_(True), rather than torch.tensor(sourceTensor).\n"
     ]
    },
    {
     "name": "stdout",
     "output_type": "stream",
     "text": [
      "Feature batch shape: torch.Size([20, 5, 256, 256])\n",
      "Labels batch shape: torch.Size([20, 10])\n"
     ]
    }
   ],
   "source": [
    "# valid data loader\n",
    "valid_features, valid_labels = next(iter(valid_generator))\n",
    "print(f\"Feature batch shape: {valid_features.size()}\")\n",
    "print(f\"Labels batch shape: {valid_labels.size()}\")"
   ]
  },
  {
   "cell_type": "code",
   "execution_count": 54,
   "metadata": {
    "tags": []
   },
   "outputs": [
    {
     "name": "stderr",
     "output_type": "stream",
     "text": [
      "/usr/local/lib/python3.6/dist-packages/ipykernel_launcher.py:20: UserWarning: To copy construct from a tensor, it is recommended to use sourceTensor.clone().detach() or sourceTensor.clone().detach().requires_grad_(True), rather than torch.tensor(sourceTensor).\n",
      "/usr/local/lib/python3.6/dist-packages/ipykernel_launcher.py:20: UserWarning: To copy construct from a tensor, it is recommended to use sourceTensor.clone().detach() or sourceTensor.clone().detach().requires_grad_(True), rather than torch.tensor(sourceTensor).\n",
      "/usr/local/lib/python3.6/dist-packages/ipykernel_launcher.py:20: UserWarning: To copy construct from a tensor, it is recommended to use sourceTensor.clone().detach() or sourceTensor.clone().detach().requires_grad_(True), rather than torch.tensor(sourceTensor).\n",
      "/usr/local/lib/python3.6/dist-packages/ipykernel_launcher.py:20: UserWarning: To copy construct from a tensor, it is recommended to use sourceTensor.clone().detach() or sourceTensor.clone().detach().requires_grad_(True), rather than torch.tensor(sourceTensor).\n"
     ]
    },
    {
     "name": "stdout",
     "output_type": "stream",
     "text": [
      "Feature batch shape: torch.Size([20, 5, 256, 256]), Data type: torch.float32 \n",
      "Labels batch shape: torch.Size([20, 10]), Data type: torch.float32 \n"
     ]
    }
   ],
   "source": [
    "# test data loader\n",
    "test_features, test_labels = next(iter(test_generator))\n",
    "print(f\"Feature batch shape: {test_features.size()}, Data type: {test_features.dtype} \")\n",
    "print(f\"Labels batch shape: {test_labels.size()}, Data type: {test_labels.dtype} \")\n"
   ]
  },
  {
   "cell_type": "markdown",
   "metadata": {},
   "source": [
    "# Efficient Net"
   ]
  },
  {
   "cell_type": "code",
   "execution_count": 55,
   "metadata": {
    "tags": []
   },
   "outputs": [],
   "source": [
    "from efficientnet_pytorch import EfficientNet             # have to download it, since latest version can use torchvision.models\n",
    "base_model = EfficientNet.from_name('efficientnet-b1', include_top=False, in_channels = 5)\n",
    "#torchinfo.summary(base_model, (32, 5, 256,256), col_names=[\"kernel_size\", \"output_size\", \"num_params\"])\n",
    "#custom_model = nn.Sequential(model,View((2)), nn.Dropout(0.3))\n",
    "#print(torchinfo.summary(custom_model, (32,5,256,256)))"
   ]
  },
  {
   "cell_type": "code",
   "execution_count": 56,
   "metadata": {
    "tags": []
   },
   "outputs": [],
   "source": [
    "class image_network(nn.Module):\n",
    "    def __init__(self):\n",
    "        super().__init__()\n",
    "        self.base_model = EfficientNet.from_name('efficientnet-b1', include_top=False, in_channels = 5)\n",
    "        self.dropout_1 = nn.Dropout(p = 0.3)\n",
    "        self.Linear_last = nn.Linear(1280, num_classes)\n",
    "        self.softmax = nn.Softmax(dim = 1)\n",
    "    \n",
    "    def forward(self, x):\n",
    "        out = self.dropout_1(self.base_model(x))\n",
    "        out = out.view(-1, 1280)\n",
    "        out = self.Linear_last(out)\n",
    "        # out = self.softmax(out) # don't need softmax when using CrossEntropyLoss\n",
    "        return out"
   ]
  },
  {
   "cell_type": "code",
   "execution_count": 57,
   "metadata": {
    "tags": []
   },
   "outputs": [
    {
     "data": {
      "text/plain": [
       "==================================================================================================================================\n",
       "Layer (type:depth-idx)                                  Kernel Shape              Output Shape              Param #\n",
       "==================================================================================================================================\n",
       "image_network                                           --                        --                        --\n",
       "├─EfficientNet: 1                                       --                        --                        --\n",
       "│    └─ModuleList: 2-1                                  --                        --                        --\n",
       "├─EfficientNet: 1-1                                     --                        [20, 1280, 1, 1]          --\n",
       "│    └─Conv2dStaticSamePadding: 2-2                     [5, 32, 3, 3]             [20, 32, 128, 128]        --\n",
       "│    │    └─ZeroPad2d: 3-1                              --                        [20, 5, 257, 257]         --\n",
       "│    └─BatchNorm2d: 2-3                                 [32]                      [20, 32, 128, 128]        64\n",
       "│    └─MemoryEfficientSwish: 2-4                        --                        [20, 32, 128, 128]        --\n",
       "│    └─ModuleList: 2-1                                  --                        --                        --\n",
       "│    │    └─MBConvBlock: 3-2                            --                        [20, 16, 128, 128]        1,448\n",
       "│    │    └─MBConvBlock: 3-3                            --                        [20, 16, 128, 128]        612\n",
       "│    │    └─MBConvBlock: 3-4                            --                        [20, 24, 64, 64]          6,004\n",
       "│    │    └─MBConvBlock: 3-5                            --                        [20, 24, 64, 64]          10,710\n",
       "│    │    └─MBConvBlock: 3-6                            --                        [20, 24, 64, 64]          10,710\n",
       "│    │    └─MBConvBlock: 3-7                            --                        [20, 40, 32, 32]          15,350\n",
       "│    │    └─MBConvBlock: 3-8                            --                        [20, 40, 32, 32]          31,290\n",
       "│    │    └─MBConvBlock: 3-9                            --                        [20, 40, 32, 32]          31,290\n",
       "│    │    └─MBConvBlock: 3-10                           --                        [20, 80, 16, 16]          37,130\n",
       "│    │    └─MBConvBlock: 3-11                           --                        [20, 80, 16, 16]          102,900\n",
       "│    │    └─MBConvBlock: 3-12                           --                        [20, 80, 16, 16]          102,900\n",
       "│    │    └─MBConvBlock: 3-13                           --                        [20, 80, 16, 16]          102,900\n",
       "│    │    └─MBConvBlock: 3-14                           --                        [20, 112, 16, 16]         126,004\n",
       "│    │    └─MBConvBlock: 3-15                           --                        [20, 112, 16, 16]         208,572\n",
       "│    │    └─MBConvBlock: 3-16                           --                        [20, 112, 16, 16]         208,572\n",
       "│    │    └─MBConvBlock: 3-17                           --                        [20, 112, 16, 16]         208,572\n",
       "│    │    └─MBConvBlock: 3-18                           --                        [20, 192, 8, 8]           262,492\n",
       "│    │    └─MBConvBlock: 3-19                           --                        [20, 192, 8, 8]           587,952\n",
       "│    │    └─MBConvBlock: 3-20                           --                        [20, 192, 8, 8]           587,952\n",
       "│    │    └─MBConvBlock: 3-21                           --                        [20, 192, 8, 8]           587,952\n",
       "│    │    └─MBConvBlock: 3-22                           --                        [20, 192, 8, 8]           587,952\n",
       "│    │    └─MBConvBlock: 3-23                           --                        [20, 320, 8, 8]           717,232\n",
       "│    │    └─MBConvBlock: 3-24                           --                        [20, 320, 8, 8]           1,563,600\n",
       "│    └─Conv2dStaticSamePadding: 2-5                     [320, 1280, 1, 1]         [20, 1280, 8, 8]          --\n",
       "│    │    └─Identity: 3-25                              --                        [20, 320, 8, 8]           --\n",
       "│    └─BatchNorm2d: 2-6                                 [1280]                    [20, 1280, 8, 8]          2,560\n",
       "│    └─MemoryEfficientSwish: 2-7                        --                        [20, 1280, 8, 8]          --\n",
       "│    └─AdaptiveAvgPool2d: 2-8                           --                        [20, 1280, 1, 1]          --\n",
       "├─Dropout: 1-2                                          --                        [20, 1280, 1, 1]          --\n",
       "├─Linear: 1-3                                           [1280, 10]                [20, 10]                  12,810\n",
       "==================================================================================================================================\n",
       "Total params: 74,858\n",
       "Trainable params: 74,858\n",
       "Non-trainable params: 0\n",
       "Total mult-adds (M): 1.50\n",
       "==================================================================================================================================\n",
       "Input size (MB): 26.21\n",
       "Forward/backward pass size (MB): 1951.99\n",
       "Params size (MB): 0.30\n",
       "Estimated Total Size (MB): 1978.51\n",
       "=================================================================================================================================="
      ]
     },
     "execution_count": 57,
     "metadata": {},
     "output_type": "execute_result"
    }
   ],
   "source": [
    "updated_model = image_network()\n",
    "num_classes = len(set(train['classes'].tolist())) \n",
    "torchinfo.summary(updated_model, (batch_size, 5, 256,256), col_names=[\"kernel_size\", \"output_size\", \"num_params\"])"
   ]
  },
  {
   "cell_type": "code",
   "execution_count": 58,
   "metadata": {
    "tags": []
   },
   "outputs": [],
   "source": [
    "#torchinfo.summary(custom_model, (32, 5, 256,256), col_names=[\"kernel_size\", \"output_size\", \"num_params\"])"
   ]
  },
  {
   "cell_type": "code",
   "execution_count": 59,
   "metadata": {
    "tags": []
   },
   "outputs": [
    {
     "name": "stdout",
     "output_type": "stream",
     "text": [
      "Training on device cuda. \n"
     ]
    }
   ],
   "source": [
    "device = (torch.device('cuda') if torch.cuda.is_available() else torch.device('cpu'))\n",
    "#device = torch.device('cpu')\n",
    "print(f'Training on device {device}. ' )"
   ]
  },
  {
   "cell_type": "code",
   "execution_count": 60,
   "metadata": {
    "tags": []
   },
   "outputs": [
    {
     "name": "stdout",
     "output_type": "stream",
     "text": [
      "HDAC inhibitor                      33\n",
      "topoisomerase inhibitor             32\n",
      "HSP inhibitor                       24\n",
      "protein synthesis inhibitor         23\n",
      "JAK inhibitor                       21\n",
      "PARP inhibitor                      20\n",
      "Aurora kinase inhibitor             20\n",
      "tubulin polymerization inhibitor    19\n",
      "retinoid receptor agonist           18\n",
      "ATPase inhibitor                    18\n",
      "Name: moa, dtype: int64\n",
      "10\n",
      "[20, 32, 19, 23, 21, 18, 33, 20, 18, 24]\n",
      "<class 'list'>\n",
      "tensor([0.0877, 0.1404, 0.0833, 0.1009, 0.0921, 0.0789, 0.1447, 0.0877, 0.0789,\n",
      "        0.1053], device='cuda:0')\n"
     ]
    }
   ],
   "source": [
    "# If applying class weights\n",
    "apply_class_weights = True\n",
    "if apply_class_weights:     # if we want to apply class weights\n",
    "    counts = compound_moa.moa.value_counts()  # count the number of moa in each class for the ENTiRE dataset\n",
    "    print(counts)\n",
    "    class_weights = []   # create list that will hold class weights\n",
    "    for moa in compound_moa.moa.unique():       # for each moa   \n",
    "        #print(moa)\n",
    "        counts[moa]\n",
    "        class_weights.append(counts[moa])  # add counts to class weights\n",
    "    print(len(class_weights))\n",
    "    print(class_weights)\n",
    "    print(type(class_weights))\n",
    "    # class_weights = 1 / (class_weights / sum(class_weights)) # divide all class weights by total moas\n",
    "    class_weights = [i / sum(class_weights) for  i in class_weights]\n",
    "    class_weights= torch.tensor(class_weights,dtype=torch.float).to(device) # transform into tensor, put onto device\n",
    "print(class_weights)"
   ]
  },
  {
   "cell_type": "code",
   "execution_count": 61,
   "metadata": {
    "tags": []
   },
   "outputs": [],
   "source": [
    "# optimizer_algorithm\n",
    "#cnn_optimizer = torch.optim.Adam(updated_model.parameters(),weight_decay = 1e-6, lr = 0.001, betas = (0.9, 0.999), eps = 1e-07)\n",
    "cnn_optimizer = torch.optim.Adam(updated_model.parameters(),weight_decay = 1e-6, lr = 0.001, betas = (0.9, 0.999), eps = 1e-07)\n",
    "# loss_function\n",
    "if apply_class_weights == True:\n",
    "    loss_function = torch.nn.CrossEntropyLoss(class_weights)\n",
    "else:\n",
    "    loss_function = torch.nn.CrossEntropyLoss()"
   ]
  },
  {
   "cell_type": "code",
   "execution_count": null,
   "metadata": {},
   "outputs": [],
   "source": []
  },
  {
   "cell_type": "code",
   "execution_count": null,
   "metadata": {},
   "outputs": [],
   "source": []
  },
  {
   "cell_type": "code",
   "execution_count": null,
   "metadata": {},
   "outputs": [],
   "source": []
  },
  {
   "cell_type": "code",
   "execution_count": null,
   "metadata": {},
   "outputs": [],
   "source": []
  },
  {
   "cell_type": "code",
   "execution_count": 62,
   "metadata": {
    "tags": []
   },
   "outputs": [],
   "source": [
    "def training_loop(n_epochs, optimizer, model, loss_fn, train_loader, valid_loader):\n",
    "    '''\n",
    "    n_epochs: number of epochs \n",
    "    optimizer: optimizer used to do backpropagation\n",
    "    model: deep learning architecture\n",
    "    loss_fn: loss function\n",
    "    train_loader: generator creating batches of training data\n",
    "    valid_loader: generator creating batches of validation data\n",
    "    '''\n",
    "    # lists keep track of loss and accuracy for training and validation set\n",
    "    optimizer = torch.optim.Adam(updated_model.parameters(),weight_decay = 1e-6, lr = 0.001, betas = (0.9, 0.999), eps = 1e-07)\n",
    "    train_loss_per_epoch = []\n",
    "    train_acc_per_epoch = []\n",
    "    val_loss_per_epoch = []\n",
    "    val_acc_per_epoch = []\n",
    "    for epoch in tqdm_notebook(range(1, max_epochs +1), desc = \"Epoch\"):\n",
    "        loss_train = 0.0\n",
    "        train_total = 0\n",
    "        train_correct = 0\n",
    "        for imgs, labels in tqdm_notebook(train_loader, desc = \"Batches w/in epoch\"):\n",
    "            optimizer.zero_grad()\n",
    "            # put model, images, labels on the same device\n",
    "            model = model.to(device)\n",
    "            imgs = imgs.to(device = device)\n",
    "            labels = labels.to(device= device)\n",
    "            # Training Model\n",
    "            outputs = model(imgs)\n",
    "            #print(f' Outputs : {outputs}') # tensor with 10 elements\n",
    "            #print(f' Labels : {labels}') # tensor that is a number\n",
    "            loss = loss_fn(outputs,labels)\n",
    "            # Update weights\n",
    "            loss.backward()\n",
    "            optimizer.step()\n",
    "            # Training Metrics\n",
    "            loss_train += loss.item()\n",
    "            #print(f' loss: {loss.item()}')\n",
    "            train_predicted = torch.argmax(outputs, 1)\n",
    "            #print(f' train_predicted {train_predicted}')\n",
    "            # NEW\n",
    "            labels = torch.argmax(labels,1)\n",
    "            #print(labels)\n",
    "            train_total += labels.shape[0]\n",
    "            train_correct += int((train_predicted == labels).sum())\n",
    "        # validation metrics from batch\n",
    "        val_correct, val_total, val_loss = validation_loop(model, loss_fn, valid_loader)\n",
    "        val_accuracy = val_correct/val_total\n",
    "        # printing results for epoch\n",
    "        if epoch == 1 or epoch %2 == 0:\n",
    "            print(f' {datetime.datetime.now()} Epoch: {epoch}, Training loss: {loss_train/len(train_loader)}, Validation Loss: {val_loss} ')\n",
    "        # adding epoch loss, accuracy to lists \n",
    "        val_loss_per_epoch.append(val_loss)\n",
    "        train_loss_per_epoch.append(loss_train/len(train_loader))\n",
    "        val_acc_per_epoch.append(val_accuracy)\n",
    "        train_acc_per_epoch.append(train_correct/train_total)\n",
    "    # return lists with loss, accuracy every epoch\n",
    "    return train_loss_per_epoch, train_acc_per_epoch, val_loss_per_epoch, val_acc_per_epoch\n",
    "                                "
   ]
  },
  {
   "cell_type": "code",
   "execution_count": 63,
   "metadata": {
    "tags": []
   },
   "outputs": [
    {
     "data": {
      "text/plain": [
       "\"\\ndef validation_loop05(n_epochs, model, loss_fn, valid_loader):\\n    for epoch in tqdm(range(1, max_epochs +1)):\\n        loss_per_epoch = []\\n        loss_train = 0.0\\n        correct = 0\\n        total = 0\\n        with torch.no_grad():\\n            for imgs, labels in tqdm(valid_loader):\\n                model = model.to(device)\\n                #imgs = imgs.float()\\n                imgs = imgs.to(device = device)\\n               # labels = labels.long()\\n                labels = labels.to(device= device)\\n                outputs = model(imgs)\\n                # print(f' Outputs : {outputs}') # tensor with 10 elements\\n                # print(f' Labels : {labels}') # tensor that is a number\\n                loss = loss_fn(outputs,labels)\\n                loss_train += loss.item()\\n                predicted = torch.argmax(outputs, 1)\\n                #print(predicted)\\n                #print(labels)\\n                total += labels.shape[0]\\n                correct += int((predicted == labels).sum())\\n        if epoch == 1 or epoch %2 == 0:\\n            print('{} Epoch {}, Validation loss {}'.format(\\n                datetime.datetime.now(), epoch,\\n                loss_train / len(valid_loader)))\\n        loss_per_epoch.append(loss_train)\\n    print(f'Correct: {correct}, Total: {total}')\\n\""
      ]
     },
     "execution_count": 63,
     "metadata": {},
     "output_type": "execute_result"
    }
   ],
   "source": [
    "'''\n",
    "def validation_loop05(n_epochs, model, loss_fn, valid_loader):\n",
    "    for epoch in tqdm(range(1, max_epochs +1)):\n",
    "        loss_per_epoch = []\n",
    "        loss_train = 0.0\n",
    "        correct = 0\n",
    "        total = 0\n",
    "        with torch.no_grad():\n",
    "            for imgs, labels in tqdm(valid_loader):\n",
    "                model = model.to(device)\n",
    "                #imgs = imgs.float()\n",
    "                imgs = imgs.to(device = device)\n",
    "               # labels = labels.long()\n",
    "                labels = labels.to(device= device)\n",
    "                outputs = model(imgs)\n",
    "                # print(f' Outputs : {outputs}') # tensor with 10 elements\n",
    "                # print(f' Labels : {labels}') # tensor that is a number\n",
    "                loss = loss_fn(outputs,labels)\n",
    "                loss_train += loss.item()\n",
    "                predicted = torch.argmax(outputs, 1)\n",
    "                #print(predicted)\n",
    "                #print(labels)\n",
    "                total += labels.shape[0]\n",
    "                correct += int((predicted == labels).sum())\n",
    "        if epoch == 1 or epoch %2 == 0:\n",
    "            print('{} Epoch {}, Validation loss {}'.format(\n",
    "                datetime.datetime.now(), epoch,\n",
    "                loss_train / len(valid_loader)))\n",
    "        loss_per_epoch.append(loss_train)\n",
    "    print(f'Correct: {correct}, Total: {total}')\n",
    "'''"
   ]
  },
  {
   "cell_type": "code",
   "execution_count": 64,
   "metadata": {
    "tags": []
   },
   "outputs": [],
   "source": [
    "def validation_loop(model, loss_fn, valid_loader):\n",
    "    '''\n",
    "    Assessing trained model on valiidation dataset \n",
    "    model: deep learning architecture getting updated by model\n",
    "    loss_fn: loss function\n",
    "    valid_loader: generator creating batches of validation data\n",
    "    '''\n",
    "    loss_val = 0.0\n",
    "    correct = 0\n",
    "    total = 0\n",
    "    with torch.no_grad():  # does not keep track of gradients so as to not train on validation data.\n",
    "        for imgs, labels in tqdm_notebook(valid_loader, desc = \"Val Batches w/in Epoch\"):\n",
    "            # Move to device MAY NOT BE NECESSARY\n",
    "            model = model.to(device)\n",
    "            imgs = imgs.to(device = device)\n",
    "            labels = labels.to(device= device)\n",
    "            # Assessing outputs\n",
    "            outputs = model(imgs)\n",
    "            # print(f' Outputs : {outputs}') # tensor with 10 elements\n",
    "            # print(f' Labels : {labels}') # tensor that is a number\n",
    "            loss = loss_fn(outputs,labels)\n",
    "            loss_val += loss.item()\n",
    "            predicted = torch.argmax(outputs, 1)\n",
    "            labels = torch.argmax(labels,1)\n",
    "            #print(predicted)\n",
    "            #print(labels)\n",
    "            total += labels.shape[0]\n",
    "            correct += int((predicted == labels).sum())\n",
    "        avg_val_loss = loss_val/len(valid_loader)  # average loss over batch\n",
    "    return correct, total, avg_val_loss"
   ]
  },
  {
   "cell_type": "code",
   "execution_count": 65,
   "metadata": {
    "tags": []
   },
   "outputs": [
    {
     "data": {
      "text/plain": [
       "'\\ndef validate(model, train_loader, val_loader):\\n    for name, loader in [(\"train\", train_loader), (\"val\", val_loader)]:\\n        correct = 0\\n        total = 0\\n        with torch.no_grad():\\n            for imgs, labels in loader:\\n                model = model.to(device)\\n                #imgs = imgs.float()\\n                imgs = imgs.to(device = device)\\n               # labels = labels.long()\\n                labels = labels.to(device= device)\\n                outputs = model(imgs)\\n                print(f\\' Outputs : {outputs}\\') # tensor with 10 elements\\n                print(f\\' Labels : {labels}\\') # tensor that is a number\\n                #model = model.to(device)\\n                #imgs  = imgs.to(device)\\n                #labels = labels.to(device =device)\\n                #outputs = model(imgs)\\n                print(f\\' output: {outputs}\\')\\n                predicted = torch.argmax(outputs, 1)\\n                print(f\\'predicted: {predicted}\\')\\n                print(f\\'_: {_}\\')\\n                \\n                total += labels.shape[0]\\n                correct += int((predicted == labels).sum())\\n    print(f\\' {name} : Total: {total}, Correct: {correct}\\')\\n'"
      ]
     },
     "execution_count": 65,
     "metadata": {},
     "output_type": "execute_result"
    }
   ],
   "source": [
    "'''\n",
    "def validate(model, train_loader, val_loader):\n",
    "    for name, loader in [(\"train\", train_loader), (\"val\", val_loader)]:\n",
    "        correct = 0\n",
    "        total = 0\n",
    "        with torch.no_grad():\n",
    "            for imgs, labels in loader:\n",
    "                model = model.to(device)\n",
    "                #imgs = imgs.float()\n",
    "                imgs = imgs.to(device = device)\n",
    "               # labels = labels.long()\n",
    "                labels = labels.to(device= device)\n",
    "                outputs = model(imgs)\n",
    "                print(f' Outputs : {outputs}') # tensor with 10 elements\n",
    "                print(f' Labels : {labels}') # tensor that is a number\n",
    "                #model = model.to(device)\n",
    "                #imgs  = imgs.to(device)\n",
    "                #labels = labels.to(device =device)\n",
    "                #outputs = model(imgs)\n",
    "                print(f' output: {outputs}')\n",
    "                predicted = torch.argmax(outputs, 1)\n",
    "                print(f'predicted: {predicted}')\n",
    "                print(f'_: {_}')\n",
    "                \n",
    "                total += labels.shape[0]\n",
    "                correct += int((predicted == labels).sum())\n",
    "    print(f' {name} : Total: {total}, Correct: {correct}')\n",
    "'''      "
   ]
  },
  {
   "cell_type": "code",
   "execution_count": 66,
   "metadata": {
    "tags": []
   },
   "outputs": [
    {
     "data": {
      "application/vnd.jupyter.widget-view+json": {
       "model_id": "aaf209294f22431d85938c2adaea32af",
       "version_major": 2,
       "version_minor": 0
      },
      "text/plain": [
       "Epoch:   0%|          | 0/1 [00:00<?, ?it/s]"
      ]
     },
     "metadata": {},
     "output_type": "display_data"
    },
    {
     "data": {
      "application/vnd.jupyter.widget-view+json": {
       "model_id": "68edc7262aa34254961f67f34b26fcd5",
       "version_major": 2,
       "version_minor": 0
      },
      "text/plain": [
       "Batches w/in epoch:   0%|          | 0/40 [00:00<?, ?it/s]"
      ]
     },
     "metadata": {},
     "output_type": "display_data"
    },
    {
     "name": "stderr",
     "output_type": "stream",
     "text": [
      "/usr/local/lib/python3.6/dist-packages/ipykernel_launcher.py:20: UserWarning: To copy construct from a tensor, it is recommended to use sourceTensor.clone().detach() or sourceTensor.clone().detach().requires_grad_(True), rather than torch.tensor(sourceTensor).\n",
      "/usr/local/lib/python3.6/dist-packages/ipykernel_launcher.py:20: UserWarning: To copy construct from a tensor, it is recommended to use sourceTensor.clone().detach() or sourceTensor.clone().detach().requires_grad_(True), rather than torch.tensor(sourceTensor).\n",
      "/usr/local/lib/python3.6/dist-packages/ipykernel_launcher.py:20: UserWarning: To copy construct from a tensor, it is recommended to use sourceTensor.clone().detach() or sourceTensor.clone().detach().requires_grad_(True), rather than torch.tensor(sourceTensor).\n",
      "/usr/local/lib/python3.6/dist-packages/ipykernel_launcher.py:20: UserWarning: To copy construct from a tensor, it is recommended to use sourceTensor.clone().detach() or sourceTensor.clone().detach().requires_grad_(True), rather than torch.tensor(sourceTensor).\n"
     ]
    },
    {
     "data": {
      "application/vnd.jupyter.widget-view+json": {
       "model_id": "da6e47d45fce48bf908a9ef583c1fe22",
       "version_major": 2,
       "version_minor": 0
      },
      "text/plain": [
       "Val Batches w/in Epoch:   0%|          | 0/6 [00:00<?, ?it/s]"
      ]
     },
     "metadata": {},
     "output_type": "display_data"
    },
    {
     "name": "stderr",
     "output_type": "stream",
     "text": [
      "/usr/local/lib/python3.6/dist-packages/ipykernel_launcher.py:20: UserWarning: To copy construct from a tensor, it is recommended to use sourceTensor.clone().detach() or sourceTensor.clone().detach().requires_grad_(True), rather than torch.tensor(sourceTensor).\n",
      "/usr/local/lib/python3.6/dist-packages/ipykernel_launcher.py:20: UserWarning: To copy construct from a tensor, it is recommended to use sourceTensor.clone().detach() or sourceTensor.clone().detach().requires_grad_(True), rather than torch.tensor(sourceTensor).\n",
      "/usr/local/lib/python3.6/dist-packages/ipykernel_launcher.py:20: UserWarning: To copy construct from a tensor, it is recommended to use sourceTensor.clone().detach() or sourceTensor.clone().detach().requires_grad_(True), rather than torch.tensor(sourceTensor).\n",
      "/usr/local/lib/python3.6/dist-packages/ipykernel_launcher.py:20: UserWarning: To copy construct from a tensor, it is recommended to use sourceTensor.clone().detach() or sourceTensor.clone().detach().requires_grad_(True), rather than torch.tensor(sourceTensor).\n"
     ]
    },
    {
     "name": "stdout",
     "output_type": "stream",
     "text": [
      " 2022-12-07 17:28:17.460826 Epoch: 1, Training loss: 0.23719425201416017, Validation Loss: 0.24633811662594476 \n"
     ]
    }
   ],
   "source": [
    "train_loss_per_epoch, train_acc_per_epoch, val_loss_per_epoch, val_acc_per_epoch = training_loop(n_epochs = max_epochs,\n",
    "              optimizer = cnn_optimizer,\n",
    "              model = updated_model,\n",
    "              loss_fn = loss_function,\n",
    "              train_loader=training_generator, \n",
    "              valid_loader=valid_generator)"
   ]
  },
  {
   "cell_type": "code",
   "execution_count": 67,
   "metadata": {
    "tags": []
   },
   "outputs": [
    {
     "name": "stdout",
     "output_type": "stream",
     "text": [
      "[0.23719425201416017] [0.11712846347607053] [0.24633811662594476] [0.046296296296296294]\n"
     ]
    }
   ],
   "source": [
    "print(train_loss_per_epoch, train_acc_per_epoch, val_loss_per_epoch, val_acc_per_epoch)"
   ]
  },
  {
   "cell_type": "code",
   "execution_count": 68,
   "metadata": {
    "tags": []
   },
   "outputs": [
    {
     "data": {
      "text/plain": [
       "'validation_loop(n_epochs = max_epochs,\\n              model = updated_model,\\n              loss_fn = loss_function,\\n              valid_loader=valid_generator)'"
      ]
     },
     "execution_count": 68,
     "metadata": {},
     "output_type": "execute_result"
    }
   ],
   "source": [
    "'''validation_loop(n_epochs = max_epochs,\n",
    "              model = updated_model,\n",
    "              loss_fn = loss_function,\n",
    "              valid_loader=valid_generator)'''"
   ]
  },
  {
   "cell_type": "code",
   "execution_count": 69,
   "metadata": {
    "tags": []
   },
   "outputs": [],
   "source": [
    "def val_vs_train_loss(epochs, train_loss, val_loss):\n",
    "    ''' \n",
    "    Plotting validation versus training loss over time\n",
    "    epochs: number of epochs that the model ran (int. hyperparameter)\n",
    "    train_loss: training loss per epoch (python list)\n",
    "    val_loss: validation loss per epoch (python list)\n",
    "    ''' \n",
    "    plt.figure()\n",
    "    x_axis = list(range(1, epochs +1)) # create x axis with number of\n",
    "    plt.plot(x_axis, train_loss, label = \"train_loss\")\n",
    "    plt.plot(x_axis, val_loss, label = \"val_loss\")\n",
    "    # Figure description\n",
    "    plt.xlabel('# of Epochs')\n",
    "    plt.ylabel('Loss')\n",
    "    plt.title('Validation versus Training Loss: CP Image Model')\n",
    "    plt.legend()\n",
    "    # plot\n",
    "    plt.show()"
   ]
  },
  {
   "cell_type": "code",
   "execution_count": 70,
   "metadata": {
    "tags": []
   },
   "outputs": [],
   "source": [
    "def val_vs_train_accuracy(epochs, train_acc, val_acc):\n",
    "    '''\n",
    "    Plotting validation versus training loss over time\n",
    "    epochs: number of epochs that the model ran (int. hyperparameter)\n",
    "    train_acc: accuracy loss per epoch (python list)\n",
    "    val_acc: accuracy loss per epoch (python list)\n",
    "    '''\n",
    "    plt.figure()\n",
    "    x_axis = list(range(1, epochs +1)) # create x axis with number of\n",
    "    plt.plot(x_axis, train_acc, label = \"train_acc\")\n",
    "    plt.plot(x_axis, val_acc, label = \"val_acc\")\n",
    "    # Figure description\n",
    "    plt.xlabel('# of Epochs')\n",
    "    plt.ylabel('Accuracy')\n",
    "    plt.title('Validation versus Training Accuracy: CP Image Model')\n",
    "    plt.legend()\n",
    "    # plot\n",
    "    plt.show()"
   ]
  },
  {
   "cell_type": "code",
   "execution_count": 71,
   "metadata": {
    "tags": []
   },
   "outputs": [
    {
     "data": {
      "image/png": "[encoded data removed]",
      "text/plain": [
       "<Figure size 432x288 with 1 Axes>"
      ]
     },
     "metadata": {
      "needs_background": "light"
     },
     "output_type": "display_data"
    }
   ],
   "source": [
    "val_vs_train_loss(max_epochs,train_loss_per_epoch, val_loss_per_epoch)"
   ]
  },
  {
   "cell_type": "code",
   "execution_count": 72,
   "metadata": {
    "tags": []
   },
   "outputs": [
    {
     "data": {
      "image/png": "[encoded data removed]",
      "text/plain": [
       "<Figure size 432x288 with 1 Axes>"
      ]
     },
     "metadata": {
      "needs_background": "light"
     },
     "output_type": "display_data"
    }
   ],
   "source": [
    "val_vs_train_accuracy(max_epochs, train_acc_per_epoch, val_acc_per_epoch)"
   ]
  },
  {
   "cell_type": "code",
   "execution_count": 73,
   "metadata": {
    "tags": []
   },
   "outputs": [
    {
     "name": "stdout",
     "output_type": "stream",
     "text": [
      "[1]\n"
     ]
    }
   ],
   "source": [
    "x_axis = list(range(1, max_epochs +1))\n",
    "print(x_axis)"
   ]
  },
  {
   "cell_type": "code",
   "execution_count": null,
   "metadata": {},
   "outputs": [],
   "source": []
  },
  {
   "cell_type": "code",
   "execution_count": 74,
   "metadata": {
    "id": "C-FX8pid1h_U",
    "tags": []
   },
   "outputs": [
    {
     "data": {
      "text/plain": [
       "'import tensorflow_addons as tfa\\nfrom tensorflow.keras import layers, models, optimizers, regularizers\\nfrom keras.layers import Dropout'"
      ]
     },
     "execution_count": 74,
     "metadata": {},
     "output_type": "execute_result"
    }
   ],
   "source": [
    "\"\"\"import tensorflow_addons as tfa\n",
    "from tensorflow.keras import layers, models, optimizers, regularizers\n",
    "from keras.layers import Dropout\"\"\""
   ]
  },
  {
   "cell_type": "code",
   "execution_count": 75,
   "metadata": {
    "id": "WbRdHCZx1h_U",
    "tags": []
   },
   "outputs": [
    {
     "data": {
      "text/plain": [
       "\"# complete the architecture of efficientnet b1\\ndrop = 0.30\\nnum_classes = len(set(train['classes'].tolist())) \\nx = base_model.output\\nx = Dropout(drop)(x)\\nx = layers.GlobalAveragePooling2D()(x)\\nx = Dropout(drop)(x)\\npreds = layers.Dense(num_classes, activation = 'softmax',                     \\n    kernel_regularizer = regularizers.L1L2(l1 = 1e-4, l2 = 1e-3),\\n    bias_regularizer = regularizers.L2(1e-3),\\n    activity_regularizer = regularizers.L2(1e-4))(x)\\ncnn_model = models.Model(inputs = base_model.input, outputs = preds)\""
      ]
     },
     "execution_count": 75,
     "metadata": {},
     "output_type": "execute_result"
    }
   ],
   "source": [
    "\"\"\"# complete the architecture of efficientnet b1\n",
    "drop = 0.30\n",
    "num_classes = len(set(train['classes'].tolist())) \n",
    "x = base_model.output\n",
    "x = Dropout(drop)(x)\n",
    "x = layers.GlobalAveragePooling2D()(x)\n",
    "x = Dropout(drop)(x)\n",
    "preds = layers.Dense(num_classes, activation = 'softmax',                     \n",
    "    kernel_regularizer = regularizers.L1L2(l1 = 1e-4, l2 = 1e-3),\n",
    "    bias_regularizer = regularizers.L2(1e-3),\n",
    "    activity_regularizer = regularizers.L2(1e-4))(x)\n",
    "cnn_model = models.Model(inputs = base_model.input, outputs = preds)\"\"\""
   ]
  },
  {
   "cell_type": "code",
   "execution_count": 76,
   "metadata": {
    "id": "rd4PkWWJ1h_V",
    "tags": []
   },
   "outputs": [
    {
     "data": {
      "text/plain": [
       "'# set the optimizer of efficientnet b1    \\ncnn_optimizer = tfa.optimizers.AdamW(weight_decay = 1e-6, learning_rate = 0.001, beta_1 = 0.9,\\n    beta_2 = 0.999, epsilon = 1e-07,)'"
      ]
     },
     "execution_count": 76,
     "metadata": {},
     "output_type": "execute_result"
    }
   ],
   "source": [
    "\"\"\"# set the optimizer of efficientnet b1    \n",
    "cnn_optimizer = tfa.optimizers.AdamW(weight_decay = 1e-6, learning_rate = 0.001, beta_1 = 0.9,\n",
    "    beta_2 = 0.999, epsilon = 1e-07,)\"\"\""
   ]
  },
  {
   "cell_type": "code",
   "execution_count": 77,
   "metadata": {
    "id": "fLZSv4icG6Qv",
    "tags": []
   },
   "outputs": [
    {
     "data": {
      "text/plain": [
       "\"# compile the model   \\ncnn_model.compile(optimizer = cnn_optimizer,\\n         loss = tf.keras.losses.SparseCategoricalCrossentropy(from_logits = True),\\n         metrics = ['accuracy'])\""
      ]
     },
     "execution_count": 77,
     "metadata": {},
     "output_type": "execute_result"
    }
   ],
   "source": [
    "\"\"\"# compile the model   \n",
    "cnn_model.compile(optimizer = cnn_optimizer,\n",
    "         loss = tf.keras.losses.SparseCategoricalCrossentropy(from_logits = True),\n",
    "         metrics = ['accuracy'])\"\"\""
   ]
  },
  {
   "cell_type": "code",
   "execution_count": 78,
   "metadata": {
    "id": "U2s1BvcYG--W",
    "tags": []
   },
   "outputs": [
    {
     "data": {
      "text/plain": [
       "\"# set the class weights \\nfrom sklearn.utils import class_weight\\nclass_weights = class_weight.compute_class_weight(class_weight = 'balanced', \\n         classes = np.unique(train.classes), y = train.classes)   \\nweight_dictionary = dict(zip(np.unique(train.classes), class_weights))\""
      ]
     },
     "execution_count": 78,
     "metadata": {},
     "output_type": "execute_result"
    }
   ],
   "source": [
    "\"\"\"# set the class weights \n",
    "from sklearn.utils import class_weight\n",
    "class_weights = class_weight.compute_class_weight(class_weight = 'balanced', \n",
    "         classes = np.unique(train.classes), y = train.classes)   \n",
    "weight_dictionary = dict(zip(np.unique(train.classes), class_weights))\"\"\""
   ]
  },
  {
   "cell_type": "code",
   "execution_count": 79,
   "metadata": {
    "id": "buV4eg24HERe",
    "tags": []
   },
   "outputs": [
    {
     "data": {
      "text/plain": [
       "\"# set the check point   \\nfrom keras.callbacks import ModelCheckpoint\\nfilepath_cnn = './content/shuffle_5_' + str(base_model.name) + '_weights.hdf5'\\ncheckpoint_cnn = ModelCheckpoint(filepath_cnn, monitor = 'val_accuracy', verbose = 0, \\n                  save_best_only = True, mode = 'max')\""
      ]
     },
     "execution_count": 79,
     "metadata": {},
     "output_type": "execute_result"
    }
   ],
   "source": [
    "\"\"\"# set the check point   \n",
    "from keras.callbacks import ModelCheckpoint\n",
    "filepath_cnn = './content/shuffle_5_' + str(base_model.name) + '_weights.hdf5'\n",
    "checkpoint_cnn = ModelCheckpoint(filepath_cnn, monitor = 'val_accuracy', verbose = 0, \n",
    "                  save_best_only = True, mode = 'max')\"\"\""
   ]
  },
  {
   "cell_type": "code",
   "execution_count": 80,
   "metadata": {
    "id": "ecAtvKNaHVec",
    "tags": []
   },
   "outputs": [
    {
     "data": {
      "text/plain": [
       "\"# train the efficientnet b1\\nfrom tensorflow.keras.callbacks import EarlyStopping  \\n\\nreduce_lr_loss_cnn = tf.keras.callbacks.ReduceLROnPlateau(monitor = 'val_loss',\\n              factor = 0.5, patience = 9, verbose = 2, min_lr = 1e-7, mode = 'min')\\n\\nhistory_cnn = cnn_model.fit(train_data, validation_data = valid_data, class_weight = weight_dictionary,\\n               verbose = 2, epochs = 100, callbacks=[reduce_lr_loss_cnn, checkpoint_cnn,])\""
      ]
     },
     "execution_count": 80,
     "metadata": {},
     "output_type": "execute_result"
    }
   ],
   "source": [
    "\"\"\"# train the efficientnet b1\n",
    "from tensorflow.keras.callbacks import EarlyStopping  \n",
    "\n",
    "reduce_lr_loss_cnn = tf.keras.callbacks.ReduceLROnPlateau(monitor = 'val_loss',\n",
    "              factor = 0.5, patience = 9, verbose = 2, min_lr = 1e-7, mode = 'min')\n",
    "\n",
    "history_cnn = cnn_model.fit(train_data, validation_data = valid_data, class_weight = weight_dictionary,\n",
    "               verbose = 2, epochs = 100, callbacks=[reduce_lr_loss_cnn, checkpoint_cnn,])\"\"\""
   ]
  },
  {
   "cell_type": "code",
   "execution_count": 81,
   "metadata": {
    "id": "ATgS1vCJp9ko",
    "tags": []
   },
   "outputs": [
    {
     "data": {
      "text/plain": [
       "'# get the best model \\nfrom keras.models import load_model\\nfrom sklearn.metrics import classification_report\\nbest_cnn_model = load_model() # Path has to be set'"
      ]
     },
     "execution_count": 81,
     "metadata": {},
     "output_type": "execute_result"
    }
   ],
   "source": [
    "\"\"\"# get the best model \n",
    "from keras.models import load_model\n",
    "from sklearn.metrics import classification_report\n",
    "best_cnn_model = load_model() # Path has to be set\"\"\""
   ]
  },
  {
   "cell_type": "code",
   "execution_count": 82,
   "metadata": {
    "id": "lPopQovGLhYp",
    "tags": []
   },
   "outputs": [
    {
     "data": {
      "text/plain": [
       "\"# evaluate the model   \\npredicted_test = []\\nfor i in range(test.shape[0]):    \\n  row = test.iloc[i]\\n\\n  assert row['digit']  not  in train.digit.tolist()\\n  assert row['compound'] not  in train.compound.tolist()\\n  \\n  assert row['digit']   not  in valid.digit.tolist()\\n  assert row['compound']  not  in valid.compound.tolist()\\n\\n  assert row['digit']     in test.digit.tolist()\\n  assert row['compound']    in test.compound.tolist()  \\n\\n  im = all_images[all_data.digit.tolist().index(row['digit'])] \\n  im = valid_transforms(image = im)['image']\\n  im = np.expand_dims(im, 0)\\n  value = best_cnn_model.predict(im).argmax()\\n  \\n  predicted_test.append(value)   \\n  \\nprint(classification_report(test.classes.tolist(), predicted_test))    \""
      ]
     },
     "execution_count": 82,
     "metadata": {},
     "output_type": "execute_result"
    }
   ],
   "source": [
    "\"\"\"# evaluate the model   \n",
    "predicted_test = []\n",
    "for i in range(test.shape[0]):    \n",
    "  row = test.iloc[i]\n",
    "\n",
    "  assert row['digit']  not  in train.digit.tolist()\n",
    "  assert row['compound'] not  in train.compound.tolist()\n",
    "  \n",
    "  assert row['digit']   not  in valid.digit.tolist()\n",
    "  assert row['compound']  not  in valid.compound.tolist()\n",
    "\n",
    "  assert row['digit']     in test.digit.tolist()\n",
    "  assert row['compound']    in test.compound.tolist()  \n",
    "\n",
    "  im = all_images[all_data.digit.tolist().index(row['digit'])] \n",
    "  im = valid_transforms(image = im)['image']\n",
    "  im = np.expand_dims(im, 0)\n",
    "  value = best_cnn_model.predict(im).argmax()\n",
    "  \n",
    "  predicted_test.append(value)   \n",
    "  \n",
    "print(classification_report(test.classes.tolist(), predicted_test))    \"\"\""
   ]
  },
  {
   "cell_type": "code",
   "execution_count": 83,
   "metadata": {
    "id": "6Kw9fcxklW2Y",
    "tags": []
   },
   "outputs": [],
   "source": [
    "# references \n",
    "# https://www.tensorflow.org/guide/data\n",
    "# https://www.tensorflow.org/api_docs/python/tf/data/Dataset\n",
    "# https://www.tensorflow.org/"
   ]
  },
  {
   "cell_type": "code",
   "execution_count": null,
   "metadata": {},
   "outputs": [],
   "source": []
  },
  {
   "cell_type": "code",
   "execution_count": null,
   "metadata": {},
   "outputs": [],
   "source": []
  }
 ],
 "metadata": {
  "accelerator": "GPU",
  "colab": {
   "collapsed_sections": [],
   "machine_shape": "hm",
   "provenance": []
  },
  "gpuClass": "standard",
  "kernelspec": {
   "display_name": "Python 3",
   "language": "python",
   "name": "python3"
  },
  "language_info": {
   "codemirror_mode": {
    "name": "ipython",
    "version": 3
   },
   "file_extension": ".py",
   "mimetype": "text/x-python",
   "name": "python",
   "nbconvert_exporter": "python",
   "pygments_lexer": "ipython3",
   "version": "3.6.9"
  },
  "widgets": {
   "application/vnd.jupyter.widget-state+json": {
    "state": {
     "01ec1db565794030849b7e9967990050": {
      "model_module": "@jupyter-widgets/controls",
      "model_module_version": "1.5.0",
      "model_name": "DescriptionStyleModel",
      "state": {
       "_model_module": "@jupyter-widgets/controls",
       "_model_module_version": "1.5.0",
       "_model_name": "DescriptionStyleModel",
       "_view_count": null,
       "_view_module": "@jupyter-widgets/base",
       "_view_module_version": "1.2.0",
       "_view_name": "StyleView",
       "description_width": ""
      }
     },
     "100480d79ac646e2bab6e243cbff5d23": {
      "model_module": "@jupyter-widgets/controls",
      "model_module_version": "1.5.0",
      "model_name": "HTMLModel",
      "state": {
       "_dom_classes": [],
       "_model_module": "@jupyter-widgets/controls",
       "_model_module_version": "1.5.0",
       "_model_name": "HTMLModel",
       "_view_count": null,
       "_view_module": "@jupyter-widgets/controls",
       "_view_module_version": "1.5.0",
       "_view_name": "HTMLView",
       "description": "",
       "description_tooltip": null,
       "layout": "IPY_MODEL_ee00250979ac42d18098eb9ea67769c7",
       "placeholder": "​",
       "style": "IPY_MODEL_5e1e11ce885947afac82a3fe1dfb2dbd",
       "value": "Batches w/in epoch: 100%"
      }
     },
     "11c6dc51aa4c44d688844438b812fb4b": {
      "model_module": "@jupyter-widgets/controls",
      "model_module_version": "1.5.0",
      "model_name": "HBoxModel",
      "state": {
       "_dom_classes": [],
       "_model_module": "@jupyter-widgets/controls",
       "_model_module_version": "1.5.0",
       "_model_name": "HBoxModel",
       "_view_count": null,
       "_view_module": "@jupyter-widgets/controls",
       "_view_module_version": "1.5.0",
       "_view_name": "HBoxView",
       "box_style": "",
       "children": [
        "IPY_MODEL_6ae21adaa5244df0b7c906ddcb392361",
        "IPY_MODEL_1f98dd31a7414876956a44793a72f778",
        "IPY_MODEL_d17fc3f1f8fe41e397d5c0ec698b0411"
       ],
       "layout": "IPY_MODEL_15f854f5a3034df8b0528ac6e083606c"
      }
     },
     "145857657b3e4a018ba1d7b434009e19": {
      "model_module": "@jupyter-widgets/controls",
      "model_module_version": "1.5.0",
      "model_name": "ProgressStyleModel",
      "state": {
       "_model_module": "@jupyter-widgets/controls",
       "_model_module_version": "1.5.0",
       "_model_name": "ProgressStyleModel",
       "_view_count": null,
       "_view_module": "@jupyter-widgets/base",
       "_view_module_version": "1.2.0",
       "_view_name": "StyleView",
       "bar_color": null,
       "description_width": ""
      }
     },
     "15f854f5a3034df8b0528ac6e083606c": {
      "model_module": "@jupyter-widgets/base",
      "model_module_version": "1.2.0",
      "model_name": "LayoutModel",
      "state": {
       "_model_module": "@jupyter-widgets/base",
       "_model_module_version": "1.2.0",
       "_model_name": "LayoutModel",
       "_view_count": null,
       "_view_module": "@jupyter-widgets/base",
       "_view_module_version": "1.2.0",
       "_view_name": "LayoutView",
       "align_content": null,
       "align_items": null,
       "align_self": null,
       "border": null,
       "bottom": null,
       "display": null,
       "flex": null,
       "flex_flow": null,
       "grid_area": null,
       "grid_auto_columns": null,
       "grid_auto_flow": null,
       "grid_auto_rows": null,
       "grid_column": null,
       "grid_gap": null,
       "grid_row": null,
       "grid_template_areas": null,
       "grid_template_columns": null,
       "grid_template_rows": null,
       "height": null,
       "justify_content": null,
       "justify_items": null,
       "left": null,
       "margin": null,
       "max_height": null,
       "max_width": null,
       "min_height": null,
       "min_width": null,
       "object_fit": null,
       "object_position": null,
       "order": null,
       "overflow": null,
       "overflow_x": null,
       "overflow_y": null,
       "padding": null,
       "right": null,
       "top": null,
       "visibility": null,
       "width": null
      }
     },
     "1e23178b4a7d48faa188b5914845157d": {
      "model_module": "@jupyter-widgets/base",
      "model_module_version": "1.2.0",
      "model_name": "LayoutModel",
      "state": {
       "_model_module": "@jupyter-widgets/base",
       "_model_module_version": "1.2.0",
       "_model_name": "LayoutModel",
       "_view_count": null,
       "_view_module": "@jupyter-widgets/base",
       "_view_module_version": "1.2.0",
       "_view_name": "LayoutView",
       "align_content": null,
       "align_items": null,
       "align_self": null,
       "border": null,
       "bottom": null,
       "display": null,
       "flex": null,
       "flex_flow": null,
       "grid_area": null,
       "grid_auto_columns": null,
       "grid_auto_flow": null,
       "grid_auto_rows": null,
       "grid_column": null,
       "grid_gap": null,
       "grid_row": null,
       "grid_template_areas": null,
       "grid_template_columns": null,
       "grid_template_rows": null,
       "height": null,
       "justify_content": null,
       "justify_items": null,
       "left": null,
       "margin": null,
       "max_height": null,
       "max_width": null,
       "min_height": null,
       "min_width": null,
       "object_fit": null,
       "object_position": null,
       "order": null,
       "overflow": null,
       "overflow_x": null,
       "overflow_y": null,
       "padding": null,
       "right": null,
       "top": null,
       "visibility": null,
       "width": null
      }
     },
     "1f98dd31a7414876956a44793a72f778": {
      "model_module": "@jupyter-widgets/controls",
      "model_module_version": "1.5.0",
      "model_name": "FloatProgressModel",
      "state": {
       "_dom_classes": [],
       "_model_module": "@jupyter-widgets/controls",
       "_model_module_version": "1.5.0",
       "_model_name": "FloatProgressModel",
       "_view_count": null,
       "_view_module": "@jupyter-widgets/controls",
       "_view_module_version": "1.5.0",
       "_view_name": "ProgressView",
       "bar_style": "success",
       "description": "",
       "description_tooltip": null,
       "layout": "IPY_MODEL_c3abc1d21c794b2d84c1cec32fd85ecc",
       "max": 63,
       "min": 0,
       "orientation": "horizontal",
       "style": "IPY_MODEL_394191278350414097838309bf58d531",
       "value": 63
      }
     },
     "2a0dbfa5a8924f76b462f969abb73248": {
      "model_module": "@jupyter-widgets/controls",
      "model_module_version": "1.5.0",
      "model_name": "DescriptionStyleModel",
      "state": {
       "_model_module": "@jupyter-widgets/controls",
       "_model_module_version": "1.5.0",
       "_model_name": "DescriptionStyleModel",
       "_view_count": null,
       "_view_module": "@jupyter-widgets/base",
       "_view_module_version": "1.2.0",
       "_view_name": "StyleView",
       "description_width": ""
      }
     },
     "34ea157d7a9e45c3b490312915c044f5": {
      "model_module": "@jupyter-widgets/controls",
      "model_module_version": "1.5.0",
      "model_name": "FloatProgressModel",
      "state": {
       "_dom_classes": [],
       "_model_module": "@jupyter-widgets/controls",
       "_model_module_version": "1.5.0",
       "_model_name": "FloatProgressModel",
       "_view_count": null,
       "_view_module": "@jupyter-widgets/controls",
       "_view_module_version": "1.5.0",
       "_view_name": "ProgressView",
       "bar_style": "success",
       "description": "",
       "description_tooltip": null,
       "layout": "IPY_MODEL_6c0eb0e4c4874121af35da8f1809baf5",
       "max": 1,
       "min": 0,
       "orientation": "horizontal",
       "style": "IPY_MODEL_fc371e16eccb4411b52b177a8f1bf90f",
       "value": 1
      }
     },
     "37ad0c6d12864a9b8c7c8fc1cd831b7f": {
      "model_module": "@jupyter-widgets/base",
      "model_module_version": "1.2.0",
      "model_name": "LayoutModel",
      "state": {
       "_model_module": "@jupyter-widgets/base",
       "_model_module_version": "1.2.0",
       "_model_name": "LayoutModel",
       "_view_count": null,
       "_view_module": "@jupyter-widgets/base",
       "_view_module_version": "1.2.0",
       "_view_name": "LayoutView",
       "align_content": null,
       "align_items": null,
       "align_self": null,
       "border": null,
       "bottom": null,
       "display": null,
       "flex": null,
       "flex_flow": null,
       "grid_area": null,
       "grid_auto_columns": null,
       "grid_auto_flow": null,
       "grid_auto_rows": null,
       "grid_column": null,
       "grid_gap": null,
       "grid_row": null,
       "grid_template_areas": null,
       "grid_template_columns": null,
       "grid_template_rows": null,
       "height": null,
       "justify_content": null,
       "justify_items": null,
       "left": null,
       "margin": null,
       "max_height": null,
       "max_width": null,
       "min_height": null,
       "min_width": null,
       "object_fit": null,
       "object_position": null,
       "order": null,
       "overflow": null,
       "overflow_x": null,
       "overflow_y": null,
       "padding": null,
       "right": null,
       "top": null,
       "visibility": null,
       "width": null
      }
     },
     "394191278350414097838309bf58d531": {
      "model_module": "@jupyter-widgets/controls",
      "model_module_version": "1.5.0",
      "model_name": "ProgressStyleModel",
      "state": {
       "_model_module": "@jupyter-widgets/controls",
       "_model_module_version": "1.5.0",
       "_model_name": "ProgressStyleModel",
       "_view_count": null,
       "_view_module": "@jupyter-widgets/base",
       "_view_module_version": "1.2.0",
       "_view_name": "StyleView",
       "bar_color": null,
       "description_width": ""
      }
     },
     "4a924aafc96043b1a5e9eb54253c2fda": {
      "model_module": "@jupyter-widgets/controls",
      "model_module_version": "1.5.0",
      "model_name": "HBoxModel",
      "state": {
       "_dom_classes": [],
       "_model_module": "@jupyter-widgets/controls",
       "_model_module_version": "1.5.0",
       "_model_name": "HBoxModel",
       "_view_count": null,
       "_view_module": "@jupyter-widgets/controls",
       "_view_module_version": "1.5.0",
       "_view_name": "HBoxView",
       "box_style": "",
       "children": [
        "IPY_MODEL_100480d79ac646e2bab6e243cbff5d23",
        "IPY_MODEL_e9d56afd68464b1eb13bfb7e012df640",
        "IPY_MODEL_c6f6aeb5ba8046c3af310a2686a62126"
       ],
       "layout": "IPY_MODEL_1e23178b4a7d48faa188b5914845157d"
      }
     },
     "5e1e11ce885947afac82a3fe1dfb2dbd": {
      "model_module": "@jupyter-widgets/controls",
      "model_module_version": "1.5.0",
      "model_name": "DescriptionStyleModel",
      "state": {
       "_model_module": "@jupyter-widgets/controls",
       "_model_module_version": "1.5.0",
       "_model_name": "DescriptionStyleModel",
       "_view_count": null,
       "_view_module": "@jupyter-widgets/base",
       "_view_module_version": "1.2.0",
       "_view_name": "StyleView",
       "description_width": ""
      }
     },
     "6ae21adaa5244df0b7c906ddcb392361": {
      "model_module": "@jupyter-widgets/controls",
      "model_module_version": "1.5.0",
      "model_name": "HTMLModel",
      "state": {
       "_dom_classes": [],
       "_model_module": "@jupyter-widgets/controls",
       "_model_module_version": "1.5.0",
       "_model_name": "HTMLModel",
       "_view_count": null,
       "_view_module": "@jupyter-widgets/controls",
       "_view_module_version": "1.5.0",
       "_view_name": "HTMLView",
       "description": "",
       "description_tooltip": null,
       "layout": "IPY_MODEL_e233e0425c30445ca8842ab229cbc386",
       "placeholder": "​",
       "style": "IPY_MODEL_ba140a0a36d344be92d74256a597f456",
       "value": "Val Batches w/in Epoch: 100%"
      }
     },
     "6c0eb0e4c4874121af35da8f1809baf5": {
      "model_module": "@jupyter-widgets/base",
      "model_module_version": "1.2.0",
      "model_name": "LayoutModel",
      "state": {
       "_model_module": "@jupyter-widgets/base",
       "_model_module_version": "1.2.0",
       "_model_name": "LayoutModel",
       "_view_count": null,
       "_view_module": "@jupyter-widgets/base",
       "_view_module_version": "1.2.0",
       "_view_name": "LayoutView",
       "align_content": null,
       "align_items": null,
       "align_self": null,
       "border": null,
       "bottom": null,
       "display": null,
       "flex": null,
       "flex_flow": null,
       "grid_area": null,
       "grid_auto_columns": null,
       "grid_auto_flow": null,
       "grid_auto_rows": null,
       "grid_column": null,
       "grid_gap": null,
       "grid_row": null,
       "grid_template_areas": null,
       "grid_template_columns": null,
       "grid_template_rows": null,
       "height": null,
       "justify_content": null,
       "justify_items": null,
       "left": null,
       "margin": null,
       "max_height": null,
       "max_width": null,
       "min_height": null,
       "min_width": null,
       "object_fit": null,
       "object_position": null,
       "order": null,
       "overflow": null,
       "overflow_x": null,
       "overflow_y": null,
       "padding": null,
       "right": null,
       "top": null,
       "visibility": null,
       "width": null
      }
     },
     "7211d2140fd34e1f94c37c91c85a685e": {
      "model_module": "@jupyter-widgets/controls",
      "model_module_version": "1.5.0",
      "model_name": "HTMLModel",
      "state": {
       "_dom_classes": [],
       "_model_module": "@jupyter-widgets/controls",
       "_model_module_version": "1.5.0",
       "_model_name": "HTMLModel",
       "_view_count": null,
       "_view_module": "@jupyter-widgets/controls",
       "_view_module_version": "1.5.0",
       "_view_name": "HTMLView",
       "description": "",
       "description_tooltip": null,
       "layout": "IPY_MODEL_b7c3f5ce84324bc6b64cbe84a793c8c2",
       "placeholder": "​",
       "style": "IPY_MODEL_01ec1db565794030849b7e9967990050",
       "value": "Epoch: 100%"
      }
     },
     "9a44f5501ce74a588b163458e71a4e97": {
      "model_module": "@jupyter-widgets/base",
      "model_module_version": "1.2.0",
      "model_name": "LayoutModel",
      "state": {
       "_model_module": "@jupyter-widgets/base",
       "_model_module_version": "1.2.0",
       "_model_name": "LayoutModel",
       "_view_count": null,
       "_view_module": "@jupyter-widgets/base",
       "_view_module_version": "1.2.0",
       "_view_name": "LayoutView",
       "align_content": null,
       "align_items": null,
       "align_self": null,
       "border": null,
       "bottom": null,
       "display": null,
       "flex": null,
       "flex_flow": null,
       "grid_area": null,
       "grid_auto_columns": null,
       "grid_auto_flow": null,
       "grid_auto_rows": null,
       "grid_column": null,
       "grid_gap": null,
       "grid_row": null,
       "grid_template_areas": null,
       "grid_template_columns": null,
       "grid_template_rows": null,
       "height": null,
       "justify_content": null,
       "justify_items": null,
       "left": null,
       "margin": null,
       "max_height": null,
       "max_width": null,
       "min_height": null,
       "min_width": null,
       "object_fit": null,
       "object_position": null,
       "order": null,
       "overflow": null,
       "overflow_x": null,
       "overflow_y": null,
       "padding": null,
       "right": null,
       "top": null,
       "visibility": null,
       "width": null
      }
     },
     "a70ca28a2d9b498a8ebc844ba73b3fd3": {
      "model_module": "@jupyter-widgets/controls",
      "model_module_version": "1.5.0",
      "model_name": "HTMLModel",
      "state": {
       "_dom_classes": [],
       "_model_module": "@jupyter-widgets/controls",
       "_model_module_version": "1.5.0",
       "_model_name": "HTMLModel",
       "_view_count": null,
       "_view_module": "@jupyter-widgets/controls",
       "_view_module_version": "1.5.0",
       "_view_name": "HTMLView",
       "description": "",
       "description_tooltip": null,
       "layout": "IPY_MODEL_d834fcbbaab84d31b35498baa5b8d34d",
       "placeholder": "​",
       "style": "IPY_MODEL_f327f3818d4c466cb88eebcc80f0436e",
       "value": " 1/1 [13:32&lt;00:00, 812.96s/it]"
      }
     },
     "b6a7a4c57d9d47cfb4b8ddb0551f73dd": {
      "model_module": "@jupyter-widgets/controls",
      "model_module_version": "1.5.0",
      "model_name": "HBoxModel",
      "state": {
       "_dom_classes": [],
       "_model_module": "@jupyter-widgets/controls",
       "_model_module_version": "1.5.0",
       "_model_name": "HBoxModel",
       "_view_count": null,
       "_view_module": "@jupyter-widgets/controls",
       "_view_module_version": "1.5.0",
       "_view_name": "HBoxView",
       "box_style": "",
       "children": [
        "IPY_MODEL_7211d2140fd34e1f94c37c91c85a685e",
        "IPY_MODEL_34ea157d7a9e45c3b490312915c044f5",
        "IPY_MODEL_a70ca28a2d9b498a8ebc844ba73b3fd3"
       ],
       "layout": "IPY_MODEL_9a44f5501ce74a588b163458e71a4e97"
      }
     },
     "b7c3f5ce84324bc6b64cbe84a793c8c2": {
      "model_module": "@jupyter-widgets/base",
      "model_module_version": "1.2.0",
      "model_name": "LayoutModel",
      "state": {
       "_model_module": "@jupyter-widgets/base",
       "_model_module_version": "1.2.0",
       "_model_name": "LayoutModel",
       "_view_count": null,
       "_view_module": "@jupyter-widgets/base",
       "_view_module_version": "1.2.0",
       "_view_name": "LayoutView",
       "align_content": null,
       "align_items": null,
       "align_self": null,
       "border": null,
       "bottom": null,
       "display": null,
       "flex": null,
       "flex_flow": null,
       "grid_area": null,
       "grid_auto_columns": null,
       "grid_auto_flow": null,
       "grid_auto_rows": null,
       "grid_column": null,
       "grid_gap": null,
       "grid_row": null,
       "grid_template_areas": null,
       "grid_template_columns": null,
       "grid_template_rows": null,
       "height": null,
       "justify_content": null,
       "justify_items": null,
       "left": null,
       "margin": null,
       "max_height": null,
       "max_width": null,
       "min_height": null,
       "min_width": null,
       "object_fit": null,
       "object_position": null,
       "order": null,
       "overflow": null,
       "overflow_x": null,
       "overflow_y": null,
       "padding": null,
       "right": null,
       "top": null,
       "visibility": null,
       "width": null
      }
     },
     "ba0af8d7a6ae4324b1bf18ff3c8c7030": {
      "model_module": "@jupyter-widgets/controls",
      "model_module_version": "1.5.0",
      "model_name": "DescriptionStyleModel",
      "state": {
       "_model_module": "@jupyter-widgets/controls",
       "_model_module_version": "1.5.0",
       "_model_name": "DescriptionStyleModel",
       "_view_count": null,
       "_view_module": "@jupyter-widgets/base",
       "_view_module_version": "1.2.0",
       "_view_name": "StyleView",
       "description_width": ""
      }
     },
     "ba140a0a36d344be92d74256a597f456": {
      "model_module": "@jupyter-widgets/controls",
      "model_module_version": "1.5.0",
      "model_name": "DescriptionStyleModel",
      "state": {
       "_model_module": "@jupyter-widgets/controls",
       "_model_module_version": "1.5.0",
       "_model_name": "DescriptionStyleModel",
       "_view_count": null,
       "_view_module": "@jupyter-widgets/base",
       "_view_module_version": "1.2.0",
       "_view_name": "StyleView",
       "description_width": ""
      }
     },
     "c3abc1d21c794b2d84c1cec32fd85ecc": {
      "model_module": "@jupyter-widgets/base",
      "model_module_version": "1.2.0",
      "model_name": "LayoutModel",
      "state": {
       "_model_module": "@jupyter-widgets/base",
       "_model_module_version": "1.2.0",
       "_model_name": "LayoutModel",
       "_view_count": null,
       "_view_module": "@jupyter-widgets/base",
       "_view_module_version": "1.2.0",
       "_view_name": "LayoutView",
       "align_content": null,
       "align_items": null,
       "align_self": null,
       "border": null,
       "bottom": null,
       "display": null,
       "flex": null,
       "flex_flow": null,
       "grid_area": null,
       "grid_auto_columns": null,
       "grid_auto_flow": null,
       "grid_auto_rows": null,
       "grid_column": null,
       "grid_gap": null,
       "grid_row": null,
       "grid_template_areas": null,
       "grid_template_columns": null,
       "grid_template_rows": null,
       "height": null,
       "justify_content": null,
       "justify_items": null,
       "left": null,
       "margin": null,
       "max_height": null,
       "max_width": null,
       "min_height": null,
       "min_width": null,
       "object_fit": null,
       "object_position": null,
       "order": null,
       "overflow": null,
       "overflow_x": null,
       "overflow_y": null,
       "padding": null,
       "right": null,
       "top": null,
       "visibility": null,
       "width": null
      }
     },
     "c6f6aeb5ba8046c3af310a2686a62126": {
      "model_module": "@jupyter-widgets/controls",
      "model_module_version": "1.5.0",
      "model_name": "HTMLModel",
      "state": {
       "_dom_classes": [],
       "_model_module": "@jupyter-widgets/controls",
       "_model_module_version": "1.5.0",
       "_model_name": "HTMLModel",
       "_view_count": null,
       "_view_module": "@jupyter-widgets/controls",
       "_view_module_version": "1.5.0",
       "_view_name": "HTMLView",
       "description": "",
       "description_tooltip": null,
       "layout": "IPY_MODEL_e73f77ca47e14bdb8925971fc9da1283",
       "placeholder": "​",
       "style": "IPY_MODEL_ba0af8d7a6ae4324b1bf18ff3c8c7030",
       "value": " 503/503 [12:15&lt;00:00,  1.85it/s]"
      }
     },
     "d17fc3f1f8fe41e397d5c0ec698b0411": {
      "model_module": "@jupyter-widgets/controls",
      "model_module_version": "1.5.0",
      "model_name": "HTMLModel",
      "state": {
       "_dom_classes": [],
       "_model_module": "@jupyter-widgets/controls",
       "_model_module_version": "1.5.0",
       "_model_name": "HTMLModel",
       "_view_count": null,
       "_view_module": "@jupyter-widgets/controls",
       "_view_module_version": "1.5.0",
       "_view_name": "HTMLView",
       "description": "",
       "description_tooltip": null,
       "layout": "IPY_MODEL_ef3d405c24bd4c65a1e6305a9fa7c4c6",
       "placeholder": "​",
       "style": "IPY_MODEL_2a0dbfa5a8924f76b462f969abb73248",
       "value": " 63/63 [01:17&lt;00:00,  1.20s/it]"
      }
     },
     "d834fcbbaab84d31b35498baa5b8d34d": {
      "model_module": "@jupyter-widgets/base",
      "model_module_version": "1.2.0",
      "model_name": "LayoutModel",
      "state": {
       "_model_module": "@jupyter-widgets/base",
       "_model_module_version": "1.2.0",
       "_model_name": "LayoutModel",
       "_view_count": null,
       "_view_module": "@jupyter-widgets/base",
       "_view_module_version": "1.2.0",
       "_view_name": "LayoutView",
       "align_content": null,
       "align_items": null,
       "align_self": null,
       "border": null,
       "bottom": null,
       "display": null,
       "flex": null,
       "flex_flow": null,
       "grid_area": null,
       "grid_auto_columns": null,
       "grid_auto_flow": null,
       "grid_auto_rows": null,
       "grid_column": null,
       "grid_gap": null,
       "grid_row": null,
       "grid_template_areas": null,
       "grid_template_columns": null,
       "grid_template_rows": null,
       "height": null,
       "justify_content": null,
       "justify_items": null,
       "left": null,
       "margin": null,
       "max_height": null,
       "max_width": null,
       "min_height": null,
       "min_width": null,
       "object_fit": null,
       "object_position": null,
       "order": null,
       "overflow": null,
       "overflow_x": null,
       "overflow_y": null,
       "padding": null,
       "right": null,
       "top": null,
       "visibility": null,
       "width": null
      }
     },
     "e233e0425c30445ca8842ab229cbc386": {
      "model_module": "@jupyter-widgets/base",
      "model_module_version": "1.2.0",
      "model_name": "LayoutModel",
      "state": {
       "_model_module": "@jupyter-widgets/base",
       "_model_module_version": "1.2.0",
       "_model_name": "LayoutModel",
       "_view_count": null,
       "_view_module": "@jupyter-widgets/base",
       "_view_module_version": "1.2.0",
       "_view_name": "LayoutView",
       "align_content": null,
       "align_items": null,
       "align_self": null,
       "border": null,
       "bottom": null,
       "display": null,
       "flex": null,
       "flex_flow": null,
       "grid_area": null,
       "grid_auto_columns": null,
       "grid_auto_flow": null,
       "grid_auto_rows": null,
       "grid_column": null,
       "grid_gap": null,
       "grid_row": null,
       "grid_template_areas": null,
       "grid_template_columns": null,
       "grid_template_rows": null,
       "height": null,
       "justify_content": null,
       "justify_items": null,
       "left": null,
       "margin": null,
       "max_height": null,
       "max_width": null,
       "min_height": null,
       "min_width": null,
       "object_fit": null,
       "object_position": null,
       "order": null,
       "overflow": null,
       "overflow_x": null,
       "overflow_y": null,
       "padding": null,
       "right": null,
       "top": null,
       "visibility": null,
       "width": null
      }
     },
     "e73f77ca47e14bdb8925971fc9da1283": {
      "model_module": "@jupyter-widgets/base",
      "model_module_version": "1.2.0",
      "model_name": "LayoutModel",
      "state": {
       "_model_module": "@jupyter-widgets/base",
       "_model_module_version": "1.2.0",
       "_model_name": "LayoutModel",
       "_view_count": null,
       "_view_module": "@jupyter-widgets/base",
       "_view_module_version": "1.2.0",
       "_view_name": "LayoutView",
       "align_content": null,
       "align_items": null,
       "align_self": null,
       "border": null,
       "bottom": null,
       "display": null,
       "flex": null,
       "flex_flow": null,
       "grid_area": null,
       "grid_auto_columns": null,
       "grid_auto_flow": null,
       "grid_auto_rows": null,
       "grid_column": null,
       "grid_gap": null,
       "grid_row": null,
       "grid_template_areas": null,
       "grid_template_columns": null,
       "grid_template_rows": null,
       "height": null,
       "justify_content": null,
       "justify_items": null,
       "left": null,
       "margin": null,
       "max_height": null,
       "max_width": null,
       "min_height": null,
       "min_width": null,
       "object_fit": null,
       "object_position": null,
       "order": null,
       "overflow": null,
       "overflow_x": null,
       "overflow_y": null,
       "padding": null,
       "right": null,
       "top": null,
       "visibility": null,
       "width": null
      }
     },
     "e9d56afd68464b1eb13bfb7e012df640": {
      "model_module": "@jupyter-widgets/controls",
      "model_module_version": "1.5.0",
      "model_name": "FloatProgressModel",
      "state": {
       "_dom_classes": [],
       "_model_module": "@jupyter-widgets/controls",
       "_model_module_version": "1.5.0",
       "_model_name": "FloatProgressModel",
       "_view_count": null,
       "_view_module": "@jupyter-widgets/controls",
       "_view_module_version": "1.5.0",
       "_view_name": "ProgressView",
       "bar_style": "success",
       "description": "",
       "description_tooltip": null,
       "layout": "IPY_MODEL_37ad0c6d12864a9b8c7c8fc1cd831b7f",
       "max": 503,
       "min": 0,
       "orientation": "horizontal",
       "style": "IPY_MODEL_145857657b3e4a018ba1d7b434009e19",
       "value": 503
      }
     },
     "ee00250979ac42d18098eb9ea67769c7": {
      "model_module": "@jupyter-widgets/base",
      "model_module_version": "1.2.0",
      "model_name": "LayoutModel",
      "state": {
       "_model_module": "@jupyter-widgets/base",
       "_model_module_version": "1.2.0",
       "_model_name": "LayoutModel",
       "_view_count": null,
       "_view_module": "@jupyter-widgets/base",
       "_view_module_version": "1.2.0",
       "_view_name": "LayoutView",
       "align_content": null,
       "align_items": null,
       "align_self": null,
       "border": null,
       "bottom": null,
       "display": null,
       "flex": null,
       "flex_flow": null,
       "grid_area": null,
       "grid_auto_columns": null,
       "grid_auto_flow": null,
       "grid_auto_rows": null,
       "grid_column": null,
       "grid_gap": null,
       "grid_row": null,
       "grid_template_areas": null,
       "grid_template_columns": null,
       "grid_template_rows": null,
       "height": null,
       "justify_content": null,
       "justify_items": null,
       "left": null,
       "margin": null,
       "max_height": null,
       "max_width": null,
       "min_height": null,
       "min_width": null,
       "object_fit": null,
       "object_position": null,
       "order": null,
       "overflow": null,
       "overflow_x": null,
       "overflow_y": null,
       "padding": null,
       "right": null,
       "top": null,
       "visibility": null,
       "width": null
      }
     },
     "ef3d405c24bd4c65a1e6305a9fa7c4c6": {
      "model_module": "@jupyter-widgets/base",
      "model_module_version": "1.2.0",
      "model_name": "LayoutModel",
      "state": {
       "_model_module": "@jupyter-widgets/base",
       "_model_module_version": "1.2.0",
       "_model_name": "LayoutModel",
       "_view_count": null,
       "_view_module": "@jupyter-widgets/base",
       "_view_module_version": "1.2.0",
       "_view_name": "LayoutView",
       "align_content": null,
       "align_items": null,
       "align_self": null,
       "border": null,
       "bottom": null,
       "display": null,
       "flex": null,
       "flex_flow": null,
       "grid_area": null,
       "grid_auto_columns": null,
       "grid_auto_flow": null,
       "grid_auto_rows": null,
       "grid_column": null,
       "grid_gap": null,
       "grid_row": null,
       "grid_template_areas": null,
       "grid_template_columns": null,
       "grid_template_rows": null,
       "height": null,
       "justify_content": null,
       "justify_items": null,
       "left": null,
       "margin": null,
       "max_height": null,
       "max_width": null,
       "min_height": null,
       "min_width": null,
       "object_fit": null,
       "object_position": null,
       "order": null,
       "overflow": null,
       "overflow_x": null,
       "overflow_y": null,
       "padding": null,
       "right": null,
       "top": null,
       "visibility": null,
       "width": null
      }
     },
     "f327f3818d4c466cb88eebcc80f0436e": {
      "model_module": "@jupyter-widgets/controls",
      "model_module_version": "1.5.0",
      "model_name": "DescriptionStyleModel",
      "state": {
       "_model_module": "@jupyter-widgets/controls",
       "_model_module_version": "1.5.0",
       "_model_name": "DescriptionStyleModel",
       "_view_count": null,
       "_view_module": "@jupyter-widgets/base",
       "_view_module_version": "1.2.0",
       "_view_name": "StyleView",
       "description_width": ""
      }
     },
     "fc371e16eccb4411b52b177a8f1bf90f": {
      "model_module": "@jupyter-widgets/controls",
      "model_module_version": "1.5.0",
      "model_name": "ProgressStyleModel",
      "state": {
       "_model_module": "@jupyter-widgets/controls",
       "_model_module_version": "1.5.0",
       "_model_name": "ProgressStyleModel",
       "_view_count": null,
       "_view_module": "@jupyter-widgets/base",
       "_view_module_version": "1.2.0",
       "_view_name": "StyleView",
       "bar_color": null,
       "description_width": ""
      }
     }
    },
    "version_major": 2,
    "version_minor": 0
   }
  }
 },
 "nbformat": 4,
 "nbformat_minor": 4
}

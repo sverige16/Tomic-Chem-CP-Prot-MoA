{
 "cells": [
  {
   "cell_type": "code",
   "execution_count": 1,
   "metadata": {},
   "outputs": [
    {
     "data": {
      "text/plain": [
       "'Albumentations is a Python library forfast and flexible image augmentations. \\nAlbumentations efficiently implements a rich variety of image transform operations that are optimized\\nfor performance, and does so while providing a concise, yet powerful image augmentation interface for \\ndifferent computer vision tasks, including object classification, segmentation, and detection. '"
      ]
     },
     "execution_count": 1,
     "metadata": {},
     "output_type": "execute_result"
    }
   ],
   "source": [
    "# Import Statements\n",
    "import pandas as pd\n",
    "import numpy as np\n",
    "import matplotlib.pyplot as plt\n",
    "from sklearn.model_selection import train_test_split # Functipn to split data into training, validation and test sets\n",
    "import pickle\n",
    "import glob   # The glob module finds all the pathnames matching a specified pattern according to the rules used by the Unix shell, although results are returned in arbitrary order. No tilde expansion is done, but *, ?, and character ranges expressed with [] will be correctly matched.\n",
    "import os   # miscellneous operating system interfaces. This module provides a portable way of using operating system dependent functionality. If you just want to read or write a file see open(), if you want to manipulate paths, see the os.path module, and if you want to read all the lines in all the files on the command line see the fileinput module.\n",
    "import random       \n",
    "from tqdm import tqdm \n",
    "from tqdm.notebook import tqdm_notebook\n",
    "import datetime\n",
    "\n",
    "# Torch\n",
    "import torch\n",
    "from torchvision import transforms\n",
    "import torchvision.models as models\n",
    "import torch.nn as nn\n",
    "import torchinfo\n",
    "\n",
    "\n",
    "# Image analysis packages\n",
    "import albumentations as A \n",
    "import cv2             \n",
    "'''Albumentations is a Python library forfast and flexible image augmentations. \n",
    "Albumentations efficiently implements a rich variety of image transform operations that are optimized\n",
    "for performance, and does so while providing a concise, yet powerful image augmentation interface for \n",
    "different computer vision tasks, including object classification, segmentation, and detection. '''\n",
    "# https://albumentations.ai/docs/getting_started/image_augmentation/"
   ]
  },
  {
   "cell_type": "code",
   "execution_count": 2,
   "metadata": {},
   "outputs": [
    {
     "name": "stdout",
     "output_type": "stream",
     "text": [
      "tensor([[0.0187, 0.9997, 0.8640],\n",
      "        [0.6282, 0.4172, 0.1323],\n",
      "        [0.3502, 0.6966, 0.9723],\n",
      "        [0.0512, 0.4006, 0.0615],\n",
      "        [0.6584, 0.5787, 0.7855]])\n"
     ]
    }
   ],
   "source": [
    "# checking that pytorch works\n",
    "x = torch.rand(5, 3)\n",
    "print(x)"
   ]
  },
  {
   "cell_type": "code",
   "execution_count": 3,
   "metadata": {
    "id": "sOCTxJS5_fM9"
   },
   "outputs": [],
   "source": [
    "# 10 selected MoAs \n",
    "moas_to_use = ['Aurora kinase inhibitor', 'tubulin polymerization inhibitor', 'JAK inhibitor', 'protein synthesis inhibitor', 'HDAC inhibitor', \n",
    "        'topoisomerase inhibitor', 'PARP inhibitor', 'ATPase inhibitor', 'retinoid receptor agonist', 'HSP inhibitor']"
   ]
  },
  {
   "cell_type": "code",
   "execution_count": 4,
   "metadata": {
    "id": "Lon5FqMB3JXq"
   },
   "outputs": [],
   "source": [
    "# read the data \n",
    "all_data = pd.read_csv('/home/jovyan/Tomics-CP-Chem-MoA/data_for_image_based_model/all_data.csv')"
   ]
  },
  {
   "cell_type": "code",
   "execution_count": 5,
   "metadata": {},
   "outputs": [],
   "source": [
    "# Limiting the data to the first 2000 rows\n",
    "testing = False\n",
    "if testing == True:\n",
    "    all_data = all_data[0:4000]"
   ]
  },
  {
   "cell_type": "code",
   "execution_count": 6,
   "metadata": {},
   "outputs": [
    {
     "data": {
      "text/html": [
       "<div>\n",
       "<style scoped>\n",
       "    .dataframe tbody tr th:only-of-type {\n",
       "        vertical-align: middle;\n",
       "    }\n",
       "\n",
       "    .dataframe tbody tr th {\n",
       "        vertical-align: top;\n",
       "    }\n",
       "\n",
       "    .dataframe thead th {\n",
       "        text-align: right;\n",
       "    }\n",
       "</style>\n",
       "<table border=\"1\" class=\"dataframe\">\n",
       "  <thead>\n",
       "    <tr style=\"text-align: right;\">\n",
       "      <th></th>\n",
       "      <th>Unnamed: 0</th>\n",
       "      <th>plate</th>\n",
       "      <th>well</th>\n",
       "      <th>compound</th>\n",
       "      <th>path</th>\n",
       "      <th>C1</th>\n",
       "      <th>C2</th>\n",
       "      <th>C3</th>\n",
       "      <th>C4</th>\n",
       "      <th>C5</th>\n",
       "      <th>moa</th>\n",
       "      <th>digit</th>\n",
       "      <th>classes</th>\n",
       "    </tr>\n",
       "  </thead>\n",
       "  <tbody>\n",
       "    <tr>\n",
       "      <th>0</th>\n",
       "      <td>497</td>\n",
       "      <td>P015085</td>\n",
       "      <td>B22</td>\n",
       "      <td>CBK290770</td>\n",
       "      <td>/mnt/micro-images-pvc/specs935-v1/specs935-v1-...</td>\n",
       "      <td>specs935-v1-FA-P015085-U2OS-48h-P5-L2-test_B22...</td>\n",
       "      <td>specs935-v1-FA-P015085-U2OS-48h-P5-L2-test_B22...</td>\n",
       "      <td>specs935-v1-FA-P015085-U2OS-48h-P5-L2-test_B22...</td>\n",
       "      <td>specs935-v1-FA-P015085-U2OS-48h-P5-L2-test_B22...</td>\n",
       "      <td>specs935-v1-FA-P015085-U2OS-48h-P5-L2-test_B22...</td>\n",
       "      <td>Aurora kinase inhibitor</td>\n",
       "      <td>9299</td>\n",
       "      <td>0</td>\n",
       "    </tr>\n",
       "    <tr>\n",
       "      <th>1</th>\n",
       "      <td>8157</td>\n",
       "      <td>P015099</td>\n",
       "      <td>I03</td>\n",
       "      <td>CBK309655</td>\n",
       "      <td>/mnt/micro-images-pvc/specs935-v1/specs935-v1-...</td>\n",
       "      <td>specs935-v1-FA-P015099-U2OS-48h-P12-L2_I03_s4_...</td>\n",
       "      <td>specs935-v1-FA-P015099-U2OS-48h-P12-L2_I03_s4_...</td>\n",
       "      <td>specs935-v1-FA-P015099-U2OS-48h-P12-L2_I03_s4_...</td>\n",
       "      <td>specs935-v1-FA-P015099-U2OS-48h-P12-L2_I03_s4_...</td>\n",
       "      <td>specs935-v1-FA-P015099-U2OS-48h-P12-L2_I03_s4_...</td>\n",
       "      <td>topoisomerase inhibitor</td>\n",
       "      <td>8157</td>\n",
       "      <td>5</td>\n",
       "    </tr>\n",
       "    <tr>\n",
       "      <th>2</th>\n",
       "      <td>8148</td>\n",
       "      <td>P015099</td>\n",
       "      <td>H21</td>\n",
       "      <td>CBK309040</td>\n",
       "      <td>/mnt/micro-images-pvc/specs935-v1/specs935-v1-...</td>\n",
       "      <td>specs935-v1-FA-P015099-U2OS-48h-P12-L2_H21_s4_...</td>\n",
       "      <td>specs935-v1-FA-P015099-U2OS-48h-P12-L2_H21_s4_...</td>\n",
       "      <td>specs935-v1-FA-P015099-U2OS-48h-P12-L2_H21_s4_...</td>\n",
       "      <td>specs935-v1-FA-P015099-U2OS-48h-P12-L2_H21_s4_...</td>\n",
       "      <td>specs935-v1-FA-P015099-U2OS-48h-P12-L2_H21_s4_...</td>\n",
       "      <td>topoisomerase inhibitor</td>\n",
       "      <td>8148</td>\n",
       "      <td>5</td>\n",
       "    </tr>\n",
       "    <tr>\n",
       "      <th>3</th>\n",
       "      <td>3471</td>\n",
       "      <td>P015099</td>\n",
       "      <td>F20</td>\n",
       "      <td>CBK200898</td>\n",
       "      <td>/mnt/micro-images-pvc/specs935-v1/specs935-v1-...</td>\n",
       "      <td>specs935-v1-FA-P015099-U2OS-48h-P12-L2_F20_s7_...</td>\n",
       "      <td>specs935-v1-FA-P015099-U2OS-48h-P12-L2_F20_s7_...</td>\n",
       "      <td>specs935-v1-FA-P015099-U2OS-48h-P12-L2_F20_s7_...</td>\n",
       "      <td>specs935-v1-FA-P015099-U2OS-48h-P12-L2_F20_s7_...</td>\n",
       "      <td>specs935-v1-FA-P015099-U2OS-48h-P12-L2_F20_s7_...</td>\n",
       "      <td>tubulin polymerization inhibitor</td>\n",
       "      <td>12273</td>\n",
       "      <td>1</td>\n",
       "    </tr>\n",
       "    <tr>\n",
       "      <th>4</th>\n",
       "      <td>8409</td>\n",
       "      <td>P015099</td>\n",
       "      <td>L04</td>\n",
       "      <td>CBK309538</td>\n",
       "      <td>/mnt/micro-images-pvc/specs935-v1/specs935-v1-...</td>\n",
       "      <td>specs935-v1-FA-P015099-U2OS-48h-P12-L2_L04_s4_...</td>\n",
       "      <td>specs935-v1-FA-P015099-U2OS-48h-P12-L2_L04_s4_...</td>\n",
       "      <td>specs935-v1-FA-P015099-U2OS-48h-P12-L2_L04_s4_...</td>\n",
       "      <td>specs935-v1-FA-P015099-U2OS-48h-P12-L2_L04_s4_...</td>\n",
       "      <td>specs935-v1-FA-P015099-U2OS-48h-P12-L2_L04_s4_...</td>\n",
       "      <td>protein synthesis inhibitor</td>\n",
       "      <td>8409</td>\n",
       "      <td>3</td>\n",
       "    </tr>\n",
       "    <tr>\n",
       "      <th>5</th>\n",
       "      <td>7202</td>\n",
       "      <td>P015098</td>\n",
       "      <td>L15</td>\n",
       "      <td>CBK309020</td>\n",
       "      <td>/mnt/micro-images-pvc/specs935-v1/specs935-v1-...</td>\n",
       "      <td>specs935-v1-FA-P015098-U2OS-48h-P12-L1_L15_s3_...</td>\n",
       "      <td>specs935-v1-FA-P015098-U2OS-48h-P12-L1_L15_s3_...</td>\n",
       "      <td>specs935-v1-FA-P015098-U2OS-48h-P12-L1_L15_s3_...</td>\n",
       "      <td>specs935-v1-FA-P015098-U2OS-48h-P12-L1_L15_s3_...</td>\n",
       "      <td>specs935-v1-FA-P015098-U2OS-48h-P12-L1_L15_s3_...</td>\n",
       "      <td>topoisomerase inhibitor</td>\n",
       "      <td>7202</td>\n",
       "      <td>5</td>\n",
       "    </tr>\n",
       "    <tr>\n",
       "      <th>6</th>\n",
       "      <td>3996</td>\n",
       "      <td>P015092</td>\n",
       "      <td>B08</td>\n",
       "      <td>CBK293875</td>\n",
       "      <td>/mnt/micro-images-pvc/specs935-v1/specs935-v1-...</td>\n",
       "      <td>specs935-v1-FA-P015092-U2OS-48h-P9-L1_B08_s1_w...</td>\n",
       "      <td>specs935-v1-FA-P015092-U2OS-48h-P9-L1_B08_s1_w...</td>\n",
       "      <td>specs935-v1-FA-P015092-U2OS-48h-P9-L1_B08_s1_w...</td>\n",
       "      <td>specs935-v1-FA-P015092-U2OS-48h-P9-L1_B08_s1_w...</td>\n",
       "      <td>specs935-v1-FA-P015092-U2OS-48h-P9-L1_B08_s1_w...</td>\n",
       "      <td>JAK inhibitor</td>\n",
       "      <td>3996</td>\n",
       "      <td>2</td>\n",
       "    </tr>\n",
       "    <tr>\n",
       "      <th>7</th>\n",
       "      <td>863</td>\n",
       "      <td>P015084</td>\n",
       "      <td>N02</td>\n",
       "      <td>CBK291084</td>\n",
       "      <td>/mnt/micro-images-pvc/specs935-v1/specs935-v1-...</td>\n",
       "      <td>specs935-v1-FA-P015084-U2OS-48h-P5-L1_N02_s9_w...</td>\n",
       "      <td>specs935-v1-FA-P015084-U2OS-48h-P5-L1_N02_s9_w...</td>\n",
       "      <td>specs935-v1-FA-P015084-U2OS-48h-P5-L1_N02_s9_w...</td>\n",
       "      <td>specs935-v1-FA-P015084-U2OS-48h-P5-L1_N02_s9_w...</td>\n",
       "      <td>specs935-v1-FA-P015084-U2OS-48h-P5-L1_N02_s9_w...</td>\n",
       "      <td>ATPase inhibitor</td>\n",
       "      <td>863</td>\n",
       "      <td>7</td>\n",
       "    </tr>\n",
       "    <tr>\n",
       "      <th>8</th>\n",
       "      <td>988</td>\n",
       "      <td>P015085</td>\n",
       "      <td>B12</td>\n",
       "      <td>CBK201011</td>\n",
       "      <td>/mnt/micro-images-pvc/specs935-v1/specs935-v1-...</td>\n",
       "      <td>specs935-v1-FA-P015085-U2OS-48h-P5-L2-test_B12...</td>\n",
       "      <td>specs935-v1-FA-P015085-U2OS-48h-P5-L2-test_B12...</td>\n",
       "      <td>specs935-v1-FA-P015085-U2OS-48h-P5-L2-test_B12...</td>\n",
       "      <td>specs935-v1-FA-P015085-U2OS-48h-P5-L2-test_B12...</td>\n",
       "      <td>specs935-v1-FA-P015085-U2OS-48h-P5-L2-test_B12...</td>\n",
       "      <td>ATPase inhibitor</td>\n",
       "      <td>988</td>\n",
       "      <td>7</td>\n",
       "    </tr>\n",
       "    <tr>\n",
       "      <th>9</th>\n",
       "      <td>935</td>\n",
       "      <td>P015090</td>\n",
       "      <td>E18</td>\n",
       "      <td>CBK277961</td>\n",
       "      <td>/mnt/micro-images-pvc/specs935-v1/specs935-v1-...</td>\n",
       "      <td>specs935-v1-FA-P015090-U2OS-48h-P8-L1_E18_s9_w...</td>\n",
       "      <td>specs935-v1-FA-P015090-U2OS-48h-P8-L1_E18_s9_w...</td>\n",
       "      <td>specs935-v1-FA-P015090-U2OS-48h-P8-L1_E18_s9_w...</td>\n",
       "      <td>specs935-v1-FA-P015090-U2OS-48h-P8-L1_E18_s9_w...</td>\n",
       "      <td>specs935-v1-FA-P015090-U2OS-48h-P8-L1_E18_s9_w...</td>\n",
       "      <td>HDAC inhibitor</td>\n",
       "      <td>9737</td>\n",
       "      <td>4</td>\n",
       "    </tr>\n",
       "  </tbody>\n",
       "</table>\n",
       "</div>"
      ],
      "text/plain": [
       "   Unnamed: 0    plate well   compound  \\\n",
       "0         497  P015085  B22  CBK290770   \n",
       "1        8157  P015099  I03  CBK309655   \n",
       "2        8148  P015099  H21  CBK309040   \n",
       "3        3471  P015099  F20  CBK200898   \n",
       "4        8409  P015099  L04  CBK309538   \n",
       "5        7202  P015098  L15  CBK309020   \n",
       "6        3996  P015092  B08  CBK293875   \n",
       "7         863  P015084  N02  CBK291084   \n",
       "8         988  P015085  B12  CBK201011   \n",
       "9         935  P015090  E18  CBK277961   \n",
       "\n",
       "                                                path  \\\n",
       "0  /mnt/micro-images-pvc/specs935-v1/specs935-v1-...   \n",
       "1  /mnt/micro-images-pvc/specs935-v1/specs935-v1-...   \n",
       "2  /mnt/micro-images-pvc/specs935-v1/specs935-v1-...   \n",
       "3  /mnt/micro-images-pvc/specs935-v1/specs935-v1-...   \n",
       "4  /mnt/micro-images-pvc/specs935-v1/specs935-v1-...   \n",
       "5  /mnt/micro-images-pvc/specs935-v1/specs935-v1-...   \n",
       "6  /mnt/micro-images-pvc/specs935-v1/specs935-v1-...   \n",
       "7  /mnt/micro-images-pvc/specs935-v1/specs935-v1-...   \n",
       "8  /mnt/micro-images-pvc/specs935-v1/specs935-v1-...   \n",
       "9  /mnt/micro-images-pvc/specs935-v1/specs935-v1-...   \n",
       "\n",
       "                                                  C1  \\\n",
       "0  specs935-v1-FA-P015085-U2OS-48h-P5-L2-test_B22...   \n",
       "1  specs935-v1-FA-P015099-U2OS-48h-P12-L2_I03_s4_...   \n",
       "2  specs935-v1-FA-P015099-U2OS-48h-P12-L2_H21_s4_...   \n",
       "3  specs935-v1-FA-P015099-U2OS-48h-P12-L2_F20_s7_...   \n",
       "4  specs935-v1-FA-P015099-U2OS-48h-P12-L2_L04_s4_...   \n",
       "5  specs935-v1-FA-P015098-U2OS-48h-P12-L1_L15_s3_...   \n",
       "6  specs935-v1-FA-P015092-U2OS-48h-P9-L1_B08_s1_w...   \n",
       "7  specs935-v1-FA-P015084-U2OS-48h-P5-L1_N02_s9_w...   \n",
       "8  specs935-v1-FA-P015085-U2OS-48h-P5-L2-test_B12...   \n",
       "9  specs935-v1-FA-P015090-U2OS-48h-P8-L1_E18_s9_w...   \n",
       "\n",
       "                                                  C2  \\\n",
       "0  specs935-v1-FA-P015085-U2OS-48h-P5-L2-test_B22...   \n",
       "1  specs935-v1-FA-P015099-U2OS-48h-P12-L2_I03_s4_...   \n",
       "2  specs935-v1-FA-P015099-U2OS-48h-P12-L2_H21_s4_...   \n",
       "3  specs935-v1-FA-P015099-U2OS-48h-P12-L2_F20_s7_...   \n",
       "4  specs935-v1-FA-P015099-U2OS-48h-P12-L2_L04_s4_...   \n",
       "5  specs935-v1-FA-P015098-U2OS-48h-P12-L1_L15_s3_...   \n",
       "6  specs935-v1-FA-P015092-U2OS-48h-P9-L1_B08_s1_w...   \n",
       "7  specs935-v1-FA-P015084-U2OS-48h-P5-L1_N02_s9_w...   \n",
       "8  specs935-v1-FA-P015085-U2OS-48h-P5-L2-test_B12...   \n",
       "9  specs935-v1-FA-P015090-U2OS-48h-P8-L1_E18_s9_w...   \n",
       "\n",
       "                                                  C3  \\\n",
       "0  specs935-v1-FA-P015085-U2OS-48h-P5-L2-test_B22...   \n",
       "1  specs935-v1-FA-P015099-U2OS-48h-P12-L2_I03_s4_...   \n",
       "2  specs935-v1-FA-P015099-U2OS-48h-P12-L2_H21_s4_...   \n",
       "3  specs935-v1-FA-P015099-U2OS-48h-P12-L2_F20_s7_...   \n",
       "4  specs935-v1-FA-P015099-U2OS-48h-P12-L2_L04_s4_...   \n",
       "5  specs935-v1-FA-P015098-U2OS-48h-P12-L1_L15_s3_...   \n",
       "6  specs935-v1-FA-P015092-U2OS-48h-P9-L1_B08_s1_w...   \n",
       "7  specs935-v1-FA-P015084-U2OS-48h-P5-L1_N02_s9_w...   \n",
       "8  specs935-v1-FA-P015085-U2OS-48h-P5-L2-test_B12...   \n",
       "9  specs935-v1-FA-P015090-U2OS-48h-P8-L1_E18_s9_w...   \n",
       "\n",
       "                                                  C4  \\\n",
       "0  specs935-v1-FA-P015085-U2OS-48h-P5-L2-test_B22...   \n",
       "1  specs935-v1-FA-P015099-U2OS-48h-P12-L2_I03_s4_...   \n",
       "2  specs935-v1-FA-P015099-U2OS-48h-P12-L2_H21_s4_...   \n",
       "3  specs935-v1-FA-P015099-U2OS-48h-P12-L2_F20_s7_...   \n",
       "4  specs935-v1-FA-P015099-U2OS-48h-P12-L2_L04_s4_...   \n",
       "5  specs935-v1-FA-P015098-U2OS-48h-P12-L1_L15_s3_...   \n",
       "6  specs935-v1-FA-P015092-U2OS-48h-P9-L1_B08_s1_w...   \n",
       "7  specs935-v1-FA-P015084-U2OS-48h-P5-L1_N02_s9_w...   \n",
       "8  specs935-v1-FA-P015085-U2OS-48h-P5-L2-test_B12...   \n",
       "9  specs935-v1-FA-P015090-U2OS-48h-P8-L1_E18_s9_w...   \n",
       "\n",
       "                                                  C5  \\\n",
       "0  specs935-v1-FA-P015085-U2OS-48h-P5-L2-test_B22...   \n",
       "1  specs935-v1-FA-P015099-U2OS-48h-P12-L2_I03_s4_...   \n",
       "2  specs935-v1-FA-P015099-U2OS-48h-P12-L2_H21_s4_...   \n",
       "3  specs935-v1-FA-P015099-U2OS-48h-P12-L2_F20_s7_...   \n",
       "4  specs935-v1-FA-P015099-U2OS-48h-P12-L2_L04_s4_...   \n",
       "5  specs935-v1-FA-P015098-U2OS-48h-P12-L1_L15_s3_...   \n",
       "6  specs935-v1-FA-P015092-U2OS-48h-P9-L1_B08_s1_w...   \n",
       "7  specs935-v1-FA-P015084-U2OS-48h-P5-L1_N02_s9_w...   \n",
       "8  specs935-v1-FA-P015085-U2OS-48h-P5-L2-test_B12...   \n",
       "9  specs935-v1-FA-P015090-U2OS-48h-P8-L1_E18_s9_w...   \n",
       "\n",
       "                                moa  digit  classes  \n",
       "0           Aurora kinase inhibitor   9299        0  \n",
       "1           topoisomerase inhibitor   8157        5  \n",
       "2           topoisomerase inhibitor   8148        5  \n",
       "3  tubulin polymerization inhibitor  12273        1  \n",
       "4       protein synthesis inhibitor   8409        3  \n",
       "5           topoisomerase inhibitor   7202        5  \n",
       "6                     JAK inhibitor   3996        2  \n",
       "7                  ATPase inhibitor    863        7  \n",
       "8                  ATPase inhibitor    988        7  \n",
       "9                    HDAC inhibitor   9737        4  "
      ]
     },
     "execution_count": 6,
     "metadata": {},
     "output_type": "execute_result"
    }
   ],
   "source": [
    "all_data.head(10)"
   ]
  },
  {
   "cell_type": "code",
   "execution_count": null,
   "metadata": {},
   "outputs": [],
   "source": []
  },
  {
   "cell_type": "code",
   "execution_count": 7,
   "metadata": {
    "id": "cEL4xND9DG9y"
   },
   "outputs": [
    {
     "data": {
      "text/html": [
       "<div>\n",
       "<style scoped>\n",
       "    .dataframe tbody tr th:only-of-type {\n",
       "        vertical-align: middle;\n",
       "    }\n",
       "\n",
       "    .dataframe tbody tr th {\n",
       "        vertical-align: top;\n",
       "    }\n",
       "\n",
       "    .dataframe thead th {\n",
       "        text-align: right;\n",
       "    }\n",
       "</style>\n",
       "<table border=\"1\" class=\"dataframe\">\n",
       "  <thead>\n",
       "    <tr style=\"text-align: right;\">\n",
       "      <th></th>\n",
       "      <th>plate</th>\n",
       "      <th>well</th>\n",
       "      <th>compound</th>\n",
       "      <th>path</th>\n",
       "      <th>C1</th>\n",
       "      <th>C2</th>\n",
       "      <th>C3</th>\n",
       "      <th>C4</th>\n",
       "      <th>C5</th>\n",
       "      <th>moa</th>\n",
       "    </tr>\n",
       "  </thead>\n",
       "  <tbody>\n",
       "    <tr>\n",
       "      <th>0</th>\n",
       "      <td>P015085</td>\n",
       "      <td>B22</td>\n",
       "      <td>CBK290770</td>\n",
       "      <td>/mnt/micro-images-pvc/specs935-v1/specs935-v1-...</td>\n",
       "      <td>specs935-v1-FA-P015085-U2OS-48h-P5-L2-test_B22...</td>\n",
       "      <td>specs935-v1-FA-P015085-U2OS-48h-P5-L2-test_B22...</td>\n",
       "      <td>specs935-v1-FA-P015085-U2OS-48h-P5-L2-test_B22...</td>\n",
       "      <td>specs935-v1-FA-P015085-U2OS-48h-P5-L2-test_B22...</td>\n",
       "      <td>specs935-v1-FA-P015085-U2OS-48h-P5-L2-test_B22...</td>\n",
       "      <td>Aurora kinase inhibitor</td>\n",
       "    </tr>\n",
       "    <tr>\n",
       "      <th>1</th>\n",
       "      <td>P015099</td>\n",
       "      <td>I03</td>\n",
       "      <td>CBK309655</td>\n",
       "      <td>/mnt/micro-images-pvc/specs935-v1/specs935-v1-...</td>\n",
       "      <td>specs935-v1-FA-P015099-U2OS-48h-P12-L2_I03_s4_...</td>\n",
       "      <td>specs935-v1-FA-P015099-U2OS-48h-P12-L2_I03_s4_...</td>\n",
       "      <td>specs935-v1-FA-P015099-U2OS-48h-P12-L2_I03_s4_...</td>\n",
       "      <td>specs935-v1-FA-P015099-U2OS-48h-P12-L2_I03_s4_...</td>\n",
       "      <td>specs935-v1-FA-P015099-U2OS-48h-P12-L2_I03_s4_...</td>\n",
       "      <td>topoisomerase inhibitor</td>\n",
       "    </tr>\n",
       "    <tr>\n",
       "      <th>2</th>\n",
       "      <td>P015099</td>\n",
       "      <td>H21</td>\n",
       "      <td>CBK309040</td>\n",
       "      <td>/mnt/micro-images-pvc/specs935-v1/specs935-v1-...</td>\n",
       "      <td>specs935-v1-FA-P015099-U2OS-48h-P12-L2_H21_s4_...</td>\n",
       "      <td>specs935-v1-FA-P015099-U2OS-48h-P12-L2_H21_s4_...</td>\n",
       "      <td>specs935-v1-FA-P015099-U2OS-48h-P12-L2_H21_s4_...</td>\n",
       "      <td>specs935-v1-FA-P015099-U2OS-48h-P12-L2_H21_s4_...</td>\n",
       "      <td>specs935-v1-FA-P015099-U2OS-48h-P12-L2_H21_s4_...</td>\n",
       "      <td>topoisomerase inhibitor</td>\n",
       "    </tr>\n",
       "    <tr>\n",
       "      <th>3</th>\n",
       "      <td>P015099</td>\n",
       "      <td>F20</td>\n",
       "      <td>CBK200898</td>\n",
       "      <td>/mnt/micro-images-pvc/specs935-v1/specs935-v1-...</td>\n",
       "      <td>specs935-v1-FA-P015099-U2OS-48h-P12-L2_F20_s7_...</td>\n",
       "      <td>specs935-v1-FA-P015099-U2OS-48h-P12-L2_F20_s7_...</td>\n",
       "      <td>specs935-v1-FA-P015099-U2OS-48h-P12-L2_F20_s7_...</td>\n",
       "      <td>specs935-v1-FA-P015099-U2OS-48h-P12-L2_F20_s7_...</td>\n",
       "      <td>specs935-v1-FA-P015099-U2OS-48h-P12-L2_F20_s7_...</td>\n",
       "      <td>tubulin polymerization inhibitor</td>\n",
       "    </tr>\n",
       "    <tr>\n",
       "      <th>4</th>\n",
       "      <td>P015099</td>\n",
       "      <td>L04</td>\n",
       "      <td>CBK309538</td>\n",
       "      <td>/mnt/micro-images-pvc/specs935-v1/specs935-v1-...</td>\n",
       "      <td>specs935-v1-FA-P015099-U2OS-48h-P12-L2_L04_s4_...</td>\n",
       "      <td>specs935-v1-FA-P015099-U2OS-48h-P12-L2_L04_s4_...</td>\n",
       "      <td>specs935-v1-FA-P015099-U2OS-48h-P12-L2_L04_s4_...</td>\n",
       "      <td>specs935-v1-FA-P015099-U2OS-48h-P12-L2_L04_s4_...</td>\n",
       "      <td>specs935-v1-FA-P015099-U2OS-48h-P12-L2_L04_s4_...</td>\n",
       "      <td>protein synthesis inhibitor</td>\n",
       "    </tr>\n",
       "    <tr>\n",
       "      <th>5</th>\n",
       "      <td>P015098</td>\n",
       "      <td>L15</td>\n",
       "      <td>CBK309020</td>\n",
       "      <td>/mnt/micro-images-pvc/specs935-v1/specs935-v1-...</td>\n",
       "      <td>specs935-v1-FA-P015098-U2OS-48h-P12-L1_L15_s3_...</td>\n",
       "      <td>specs935-v1-FA-P015098-U2OS-48h-P12-L1_L15_s3_...</td>\n",
       "      <td>specs935-v1-FA-P015098-U2OS-48h-P12-L1_L15_s3_...</td>\n",
       "      <td>specs935-v1-FA-P015098-U2OS-48h-P12-L1_L15_s3_...</td>\n",
       "      <td>specs935-v1-FA-P015098-U2OS-48h-P12-L1_L15_s3_...</td>\n",
       "      <td>topoisomerase inhibitor</td>\n",
       "    </tr>\n",
       "    <tr>\n",
       "      <th>6</th>\n",
       "      <td>P015092</td>\n",
       "      <td>B08</td>\n",
       "      <td>CBK293875</td>\n",
       "      <td>/mnt/micro-images-pvc/specs935-v1/specs935-v1-...</td>\n",
       "      <td>specs935-v1-FA-P015092-U2OS-48h-P9-L1_B08_s1_w...</td>\n",
       "      <td>specs935-v1-FA-P015092-U2OS-48h-P9-L1_B08_s1_w...</td>\n",
       "      <td>specs935-v1-FA-P015092-U2OS-48h-P9-L1_B08_s1_w...</td>\n",
       "      <td>specs935-v1-FA-P015092-U2OS-48h-P9-L1_B08_s1_w...</td>\n",
       "      <td>specs935-v1-FA-P015092-U2OS-48h-P9-L1_B08_s1_w...</td>\n",
       "      <td>JAK inhibitor</td>\n",
       "    </tr>\n",
       "    <tr>\n",
       "      <th>7</th>\n",
       "      <td>P015084</td>\n",
       "      <td>N02</td>\n",
       "      <td>CBK291084</td>\n",
       "      <td>/mnt/micro-images-pvc/specs935-v1/specs935-v1-...</td>\n",
       "      <td>specs935-v1-FA-P015084-U2OS-48h-P5-L1_N02_s9_w...</td>\n",
       "      <td>specs935-v1-FA-P015084-U2OS-48h-P5-L1_N02_s9_w...</td>\n",
       "      <td>specs935-v1-FA-P015084-U2OS-48h-P5-L1_N02_s9_w...</td>\n",
       "      <td>specs935-v1-FA-P015084-U2OS-48h-P5-L1_N02_s9_w...</td>\n",
       "      <td>specs935-v1-FA-P015084-U2OS-48h-P5-L1_N02_s9_w...</td>\n",
       "      <td>ATPase inhibitor</td>\n",
       "    </tr>\n",
       "    <tr>\n",
       "      <th>8</th>\n",
       "      <td>P015085</td>\n",
       "      <td>B12</td>\n",
       "      <td>CBK201011</td>\n",
       "      <td>/mnt/micro-images-pvc/specs935-v1/specs935-v1-...</td>\n",
       "      <td>specs935-v1-FA-P015085-U2OS-48h-P5-L2-test_B12...</td>\n",
       "      <td>specs935-v1-FA-P015085-U2OS-48h-P5-L2-test_B12...</td>\n",
       "      <td>specs935-v1-FA-P015085-U2OS-48h-P5-L2-test_B12...</td>\n",
       "      <td>specs935-v1-FA-P015085-U2OS-48h-P5-L2-test_B12...</td>\n",
       "      <td>specs935-v1-FA-P015085-U2OS-48h-P5-L2-test_B12...</td>\n",
       "      <td>ATPase inhibitor</td>\n",
       "    </tr>\n",
       "    <tr>\n",
       "      <th>9</th>\n",
       "      <td>P015090</td>\n",
       "      <td>E18</td>\n",
       "      <td>CBK277961</td>\n",
       "      <td>/mnt/micro-images-pvc/specs935-v1/specs935-v1-...</td>\n",
       "      <td>specs935-v1-FA-P015090-U2OS-48h-P8-L1_E18_s9_w...</td>\n",
       "      <td>specs935-v1-FA-P015090-U2OS-48h-P8-L1_E18_s9_w...</td>\n",
       "      <td>specs935-v1-FA-P015090-U2OS-48h-P8-L1_E18_s9_w...</td>\n",
       "      <td>specs935-v1-FA-P015090-U2OS-48h-P8-L1_E18_s9_w...</td>\n",
       "      <td>specs935-v1-FA-P015090-U2OS-48h-P8-L1_E18_s9_w...</td>\n",
       "      <td>HDAC inhibitor</td>\n",
       "    </tr>\n",
       "  </tbody>\n",
       "</table>\n",
       "</div>"
      ],
      "text/plain": [
       "     plate well   compound                                               path  \\\n",
       "0  P015085  B22  CBK290770  /mnt/micro-images-pvc/specs935-v1/specs935-v1-...   \n",
       "1  P015099  I03  CBK309655  /mnt/micro-images-pvc/specs935-v1/specs935-v1-...   \n",
       "2  P015099  H21  CBK309040  /mnt/micro-images-pvc/specs935-v1/specs935-v1-...   \n",
       "3  P015099  F20  CBK200898  /mnt/micro-images-pvc/specs935-v1/specs935-v1-...   \n",
       "4  P015099  L04  CBK309538  /mnt/micro-images-pvc/specs935-v1/specs935-v1-...   \n",
       "5  P015098  L15  CBK309020  /mnt/micro-images-pvc/specs935-v1/specs935-v1-...   \n",
       "6  P015092  B08  CBK293875  /mnt/micro-images-pvc/specs935-v1/specs935-v1-...   \n",
       "7  P015084  N02  CBK291084  /mnt/micro-images-pvc/specs935-v1/specs935-v1-...   \n",
       "8  P015085  B12  CBK201011  /mnt/micro-images-pvc/specs935-v1/specs935-v1-...   \n",
       "9  P015090  E18  CBK277961  /mnt/micro-images-pvc/specs935-v1/specs935-v1-...   \n",
       "\n",
       "                                                  C1  \\\n",
       "0  specs935-v1-FA-P015085-U2OS-48h-P5-L2-test_B22...   \n",
       "1  specs935-v1-FA-P015099-U2OS-48h-P12-L2_I03_s4_...   \n",
       "2  specs935-v1-FA-P015099-U2OS-48h-P12-L2_H21_s4_...   \n",
       "3  specs935-v1-FA-P015099-U2OS-48h-P12-L2_F20_s7_...   \n",
       "4  specs935-v1-FA-P015099-U2OS-48h-P12-L2_L04_s4_...   \n",
       "5  specs935-v1-FA-P015098-U2OS-48h-P12-L1_L15_s3_...   \n",
       "6  specs935-v1-FA-P015092-U2OS-48h-P9-L1_B08_s1_w...   \n",
       "7  specs935-v1-FA-P015084-U2OS-48h-P5-L1_N02_s9_w...   \n",
       "8  specs935-v1-FA-P015085-U2OS-48h-P5-L2-test_B12...   \n",
       "9  specs935-v1-FA-P015090-U2OS-48h-P8-L1_E18_s9_w...   \n",
       "\n",
       "                                                  C2  \\\n",
       "0  specs935-v1-FA-P015085-U2OS-48h-P5-L2-test_B22...   \n",
       "1  specs935-v1-FA-P015099-U2OS-48h-P12-L2_I03_s4_...   \n",
       "2  specs935-v1-FA-P015099-U2OS-48h-P12-L2_H21_s4_...   \n",
       "3  specs935-v1-FA-P015099-U2OS-48h-P12-L2_F20_s7_...   \n",
       "4  specs935-v1-FA-P015099-U2OS-48h-P12-L2_L04_s4_...   \n",
       "5  specs935-v1-FA-P015098-U2OS-48h-P12-L1_L15_s3_...   \n",
       "6  specs935-v1-FA-P015092-U2OS-48h-P9-L1_B08_s1_w...   \n",
       "7  specs935-v1-FA-P015084-U2OS-48h-P5-L1_N02_s9_w...   \n",
       "8  specs935-v1-FA-P015085-U2OS-48h-P5-L2-test_B12...   \n",
       "9  specs935-v1-FA-P015090-U2OS-48h-P8-L1_E18_s9_w...   \n",
       "\n",
       "                                                  C3  \\\n",
       "0  specs935-v1-FA-P015085-U2OS-48h-P5-L2-test_B22...   \n",
       "1  specs935-v1-FA-P015099-U2OS-48h-P12-L2_I03_s4_...   \n",
       "2  specs935-v1-FA-P015099-U2OS-48h-P12-L2_H21_s4_...   \n",
       "3  specs935-v1-FA-P015099-U2OS-48h-P12-L2_F20_s7_...   \n",
       "4  specs935-v1-FA-P015099-U2OS-48h-P12-L2_L04_s4_...   \n",
       "5  specs935-v1-FA-P015098-U2OS-48h-P12-L1_L15_s3_...   \n",
       "6  specs935-v1-FA-P015092-U2OS-48h-P9-L1_B08_s1_w...   \n",
       "7  specs935-v1-FA-P015084-U2OS-48h-P5-L1_N02_s9_w...   \n",
       "8  specs935-v1-FA-P015085-U2OS-48h-P5-L2-test_B12...   \n",
       "9  specs935-v1-FA-P015090-U2OS-48h-P8-L1_E18_s9_w...   \n",
       "\n",
       "                                                  C4  \\\n",
       "0  specs935-v1-FA-P015085-U2OS-48h-P5-L2-test_B22...   \n",
       "1  specs935-v1-FA-P015099-U2OS-48h-P12-L2_I03_s4_...   \n",
       "2  specs935-v1-FA-P015099-U2OS-48h-P12-L2_H21_s4_...   \n",
       "3  specs935-v1-FA-P015099-U2OS-48h-P12-L2_F20_s7_...   \n",
       "4  specs935-v1-FA-P015099-U2OS-48h-P12-L2_L04_s4_...   \n",
       "5  specs935-v1-FA-P015098-U2OS-48h-P12-L1_L15_s3_...   \n",
       "6  specs935-v1-FA-P015092-U2OS-48h-P9-L1_B08_s1_w...   \n",
       "7  specs935-v1-FA-P015084-U2OS-48h-P5-L1_N02_s9_w...   \n",
       "8  specs935-v1-FA-P015085-U2OS-48h-P5-L2-test_B12...   \n",
       "9  specs935-v1-FA-P015090-U2OS-48h-P8-L1_E18_s9_w...   \n",
       "\n",
       "                                                  C5  \\\n",
       "0  specs935-v1-FA-P015085-U2OS-48h-P5-L2-test_B22...   \n",
       "1  specs935-v1-FA-P015099-U2OS-48h-P12-L2_I03_s4_...   \n",
       "2  specs935-v1-FA-P015099-U2OS-48h-P12-L2_H21_s4_...   \n",
       "3  specs935-v1-FA-P015099-U2OS-48h-P12-L2_F20_s7_...   \n",
       "4  specs935-v1-FA-P015099-U2OS-48h-P12-L2_L04_s4_...   \n",
       "5  specs935-v1-FA-P015098-U2OS-48h-P12-L1_L15_s3_...   \n",
       "6  specs935-v1-FA-P015092-U2OS-48h-P9-L1_B08_s1_w...   \n",
       "7  specs935-v1-FA-P015084-U2OS-48h-P5-L1_N02_s9_w...   \n",
       "8  specs935-v1-FA-P015085-U2OS-48h-P5-L2-test_B12...   \n",
       "9  specs935-v1-FA-P015090-U2OS-48h-P8-L1_E18_s9_w...   \n",
       "\n",
       "                                moa  \n",
       "0           Aurora kinase inhibitor  \n",
       "1           topoisomerase inhibitor  \n",
       "2           topoisomerase inhibitor  \n",
       "3  tubulin polymerization inhibitor  \n",
       "4       protein synthesis inhibitor  \n",
       "5           topoisomerase inhibitor  \n",
       "6                     JAK inhibitor  \n",
       "7                  ATPase inhibitor  \n",
       "8                  ATPase inhibitor  \n",
       "9                    HDAC inhibitor  "
      ]
     },
     "execution_count": 7,
     "metadata": {},
     "output_type": "execute_result"
    }
   ],
   "source": [
    "# drop random previous index in table above\n",
    "all_data.drop(all_data.columns[[0,11, 12]], axis=1, inplace=True) # Check that reading the data worked \n",
    "all_data.head(10)"
   ]
  },
  {
   "cell_type": "code",
   "execution_count": 8,
   "metadata": {},
   "outputs": [
    {
     "name": "stdout",
     "output_type": "stream",
     "text": [
      " Number of elements: 40000, Number of Rows: 4000, Number of Cols: 10\n"
     ]
    }
   ],
   "source": [
    "# Dubbelcheck that columns and rows are correct\n",
    "print(f' Number of elements: {all_data.size}, Number of Rows: {all_data.shape[0]}, Number of Cols: {all_data.shape[1]}')"
   ]
  },
  {
   "cell_type": "code",
   "execution_count": 9,
   "metadata": {},
   "outputs": [],
   "source": [
    "dictionary = {'ATPase inhibitor': 7, 'Aurora kinase inhibitor': 0,\n",
    " 'HDAC inhibitor': 4, 'HSP inhibitor': 9, 'JAK inhibitor': 2, 'PARP inhibitor': 6,\n",
    " 'protein synthesis inhibitor': 3, 'retinoid receptor agonist': 8,\n",
    " 'topoisomerase inhibitor': 5, 'tubulin polymerization inhibitor': 1}"
   ]
  },
  {
   "cell_type": "code",
   "execution_count": 10,
   "metadata": {},
   "outputs": [
    {
     "data": {
      "text/plain": [
       "10"
      ]
     },
     "execution_count": 10,
     "metadata": {},
     "output_type": "execute_result"
    }
   ],
   "source": [
    "num_classes = len(dictionary) \n",
    "num_classes"
   ]
  },
  {
   "cell_type": "code",
   "execution_count": 11,
   "metadata": {},
   "outputs": [],
   "source": [
    "# change moa to classes \n",
    "all_data['classes'] = None\n",
    "for i in range(all_data.shape[0]):\n",
    "    all_data.iloc[i, 10] = dictionary[all_data.iloc[i, 9]]"
   ]
  },
  {
   "cell_type": "code",
   "execution_count": 12,
   "metadata": {},
   "outputs": [
    {
     "data": {
      "text/html": [
       "<div>\n",
       "<style scoped>\n",
       "    .dataframe tbody tr th:only-of-type {\n",
       "        vertical-align: middle;\n",
       "    }\n",
       "\n",
       "    .dataframe tbody tr th {\n",
       "        vertical-align: top;\n",
       "    }\n",
       "\n",
       "    .dataframe thead th {\n",
       "        text-align: right;\n",
       "    }\n",
       "</style>\n",
       "<table border=\"1\" class=\"dataframe\">\n",
       "  <thead>\n",
       "    <tr style=\"text-align: right;\">\n",
       "      <th></th>\n",
       "      <th>plate</th>\n",
       "      <th>well</th>\n",
       "      <th>compound</th>\n",
       "      <th>path</th>\n",
       "      <th>C1</th>\n",
       "      <th>C2</th>\n",
       "      <th>C3</th>\n",
       "      <th>C4</th>\n",
       "      <th>C5</th>\n",
       "      <th>moa</th>\n",
       "      <th>classes</th>\n",
       "    </tr>\n",
       "  </thead>\n",
       "  <tbody>\n",
       "    <tr>\n",
       "      <th>0</th>\n",
       "      <td>P015085</td>\n",
       "      <td>B22</td>\n",
       "      <td>CBK290770</td>\n",
       "      <td>/mnt/micro-images-pvc/specs935-v1/specs935-v1-...</td>\n",
       "      <td>specs935-v1-FA-P015085-U2OS-48h-P5-L2-test_B22...</td>\n",
       "      <td>specs935-v1-FA-P015085-U2OS-48h-P5-L2-test_B22...</td>\n",
       "      <td>specs935-v1-FA-P015085-U2OS-48h-P5-L2-test_B22...</td>\n",
       "      <td>specs935-v1-FA-P015085-U2OS-48h-P5-L2-test_B22...</td>\n",
       "      <td>specs935-v1-FA-P015085-U2OS-48h-P5-L2-test_B22...</td>\n",
       "      <td>Aurora kinase inhibitor</td>\n",
       "      <td>0</td>\n",
       "    </tr>\n",
       "    <tr>\n",
       "      <th>1</th>\n",
       "      <td>P015099</td>\n",
       "      <td>I03</td>\n",
       "      <td>CBK309655</td>\n",
       "      <td>/mnt/micro-images-pvc/specs935-v1/specs935-v1-...</td>\n",
       "      <td>specs935-v1-FA-P015099-U2OS-48h-P12-L2_I03_s4_...</td>\n",
       "      <td>specs935-v1-FA-P015099-U2OS-48h-P12-L2_I03_s4_...</td>\n",
       "      <td>specs935-v1-FA-P015099-U2OS-48h-P12-L2_I03_s4_...</td>\n",
       "      <td>specs935-v1-FA-P015099-U2OS-48h-P12-L2_I03_s4_...</td>\n",
       "      <td>specs935-v1-FA-P015099-U2OS-48h-P12-L2_I03_s4_...</td>\n",
       "      <td>topoisomerase inhibitor</td>\n",
       "      <td>5</td>\n",
       "    </tr>\n",
       "    <tr>\n",
       "      <th>2</th>\n",
       "      <td>P015099</td>\n",
       "      <td>H21</td>\n",
       "      <td>CBK309040</td>\n",
       "      <td>/mnt/micro-images-pvc/specs935-v1/specs935-v1-...</td>\n",
       "      <td>specs935-v1-FA-P015099-U2OS-48h-P12-L2_H21_s4_...</td>\n",
       "      <td>specs935-v1-FA-P015099-U2OS-48h-P12-L2_H21_s4_...</td>\n",
       "      <td>specs935-v1-FA-P015099-U2OS-48h-P12-L2_H21_s4_...</td>\n",
       "      <td>specs935-v1-FA-P015099-U2OS-48h-P12-L2_H21_s4_...</td>\n",
       "      <td>specs935-v1-FA-P015099-U2OS-48h-P12-L2_H21_s4_...</td>\n",
       "      <td>topoisomerase inhibitor</td>\n",
       "      <td>5</td>\n",
       "    </tr>\n",
       "    <tr>\n",
       "      <th>3</th>\n",
       "      <td>P015099</td>\n",
       "      <td>F20</td>\n",
       "      <td>CBK200898</td>\n",
       "      <td>/mnt/micro-images-pvc/specs935-v1/specs935-v1-...</td>\n",
       "      <td>specs935-v1-FA-P015099-U2OS-48h-P12-L2_F20_s7_...</td>\n",
       "      <td>specs935-v1-FA-P015099-U2OS-48h-P12-L2_F20_s7_...</td>\n",
       "      <td>specs935-v1-FA-P015099-U2OS-48h-P12-L2_F20_s7_...</td>\n",
       "      <td>specs935-v1-FA-P015099-U2OS-48h-P12-L2_F20_s7_...</td>\n",
       "      <td>specs935-v1-FA-P015099-U2OS-48h-P12-L2_F20_s7_...</td>\n",
       "      <td>tubulin polymerization inhibitor</td>\n",
       "      <td>1</td>\n",
       "    </tr>\n",
       "    <tr>\n",
       "      <th>4</th>\n",
       "      <td>P015099</td>\n",
       "      <td>L04</td>\n",
       "      <td>CBK309538</td>\n",
       "      <td>/mnt/micro-images-pvc/specs935-v1/specs935-v1-...</td>\n",
       "      <td>specs935-v1-FA-P015099-U2OS-48h-P12-L2_L04_s4_...</td>\n",
       "      <td>specs935-v1-FA-P015099-U2OS-48h-P12-L2_L04_s4_...</td>\n",
       "      <td>specs935-v1-FA-P015099-U2OS-48h-P12-L2_L04_s4_...</td>\n",
       "      <td>specs935-v1-FA-P015099-U2OS-48h-P12-L2_L04_s4_...</td>\n",
       "      <td>specs935-v1-FA-P015099-U2OS-48h-P12-L2_L04_s4_...</td>\n",
       "      <td>protein synthesis inhibitor</td>\n",
       "      <td>3</td>\n",
       "    </tr>\n",
       "    <tr>\n",
       "      <th>5</th>\n",
       "      <td>P015098</td>\n",
       "      <td>L15</td>\n",
       "      <td>CBK309020</td>\n",
       "      <td>/mnt/micro-images-pvc/specs935-v1/specs935-v1-...</td>\n",
       "      <td>specs935-v1-FA-P015098-U2OS-48h-P12-L1_L15_s3_...</td>\n",
       "      <td>specs935-v1-FA-P015098-U2OS-48h-P12-L1_L15_s3_...</td>\n",
       "      <td>specs935-v1-FA-P015098-U2OS-48h-P12-L1_L15_s3_...</td>\n",
       "      <td>specs935-v1-FA-P015098-U2OS-48h-P12-L1_L15_s3_...</td>\n",
       "      <td>specs935-v1-FA-P015098-U2OS-48h-P12-L1_L15_s3_...</td>\n",
       "      <td>topoisomerase inhibitor</td>\n",
       "      <td>5</td>\n",
       "    </tr>\n",
       "    <tr>\n",
       "      <th>6</th>\n",
       "      <td>P015092</td>\n",
       "      <td>B08</td>\n",
       "      <td>CBK293875</td>\n",
       "      <td>/mnt/micro-images-pvc/specs935-v1/specs935-v1-...</td>\n",
       "      <td>specs935-v1-FA-P015092-U2OS-48h-P9-L1_B08_s1_w...</td>\n",
       "      <td>specs935-v1-FA-P015092-U2OS-48h-P9-L1_B08_s1_w...</td>\n",
       "      <td>specs935-v1-FA-P015092-U2OS-48h-P9-L1_B08_s1_w...</td>\n",
       "      <td>specs935-v1-FA-P015092-U2OS-48h-P9-L1_B08_s1_w...</td>\n",
       "      <td>specs935-v1-FA-P015092-U2OS-48h-P9-L1_B08_s1_w...</td>\n",
       "      <td>JAK inhibitor</td>\n",
       "      <td>2</td>\n",
       "    </tr>\n",
       "    <tr>\n",
       "      <th>7</th>\n",
       "      <td>P015084</td>\n",
       "      <td>N02</td>\n",
       "      <td>CBK291084</td>\n",
       "      <td>/mnt/micro-images-pvc/specs935-v1/specs935-v1-...</td>\n",
       "      <td>specs935-v1-FA-P015084-U2OS-48h-P5-L1_N02_s9_w...</td>\n",
       "      <td>specs935-v1-FA-P015084-U2OS-48h-P5-L1_N02_s9_w...</td>\n",
       "      <td>specs935-v1-FA-P015084-U2OS-48h-P5-L1_N02_s9_w...</td>\n",
       "      <td>specs935-v1-FA-P015084-U2OS-48h-P5-L1_N02_s9_w...</td>\n",
       "      <td>specs935-v1-FA-P015084-U2OS-48h-P5-L1_N02_s9_w...</td>\n",
       "      <td>ATPase inhibitor</td>\n",
       "      <td>7</td>\n",
       "    </tr>\n",
       "    <tr>\n",
       "      <th>8</th>\n",
       "      <td>P015085</td>\n",
       "      <td>B12</td>\n",
       "      <td>CBK201011</td>\n",
       "      <td>/mnt/micro-images-pvc/specs935-v1/specs935-v1-...</td>\n",
       "      <td>specs935-v1-FA-P015085-U2OS-48h-P5-L2-test_B12...</td>\n",
       "      <td>specs935-v1-FA-P015085-U2OS-48h-P5-L2-test_B12...</td>\n",
       "      <td>specs935-v1-FA-P015085-U2OS-48h-P5-L2-test_B12...</td>\n",
       "      <td>specs935-v1-FA-P015085-U2OS-48h-P5-L2-test_B12...</td>\n",
       "      <td>specs935-v1-FA-P015085-U2OS-48h-P5-L2-test_B12...</td>\n",
       "      <td>ATPase inhibitor</td>\n",
       "      <td>7</td>\n",
       "    </tr>\n",
       "    <tr>\n",
       "      <th>9</th>\n",
       "      <td>P015090</td>\n",
       "      <td>E18</td>\n",
       "      <td>CBK277961</td>\n",
       "      <td>/mnt/micro-images-pvc/specs935-v1/specs935-v1-...</td>\n",
       "      <td>specs935-v1-FA-P015090-U2OS-48h-P8-L1_E18_s9_w...</td>\n",
       "      <td>specs935-v1-FA-P015090-U2OS-48h-P8-L1_E18_s9_w...</td>\n",
       "      <td>specs935-v1-FA-P015090-U2OS-48h-P8-L1_E18_s9_w...</td>\n",
       "      <td>specs935-v1-FA-P015090-U2OS-48h-P8-L1_E18_s9_w...</td>\n",
       "      <td>specs935-v1-FA-P015090-U2OS-48h-P8-L1_E18_s9_w...</td>\n",
       "      <td>HDAC inhibitor</td>\n",
       "      <td>4</td>\n",
       "    </tr>\n",
       "  </tbody>\n",
       "</table>\n",
       "</div>"
      ],
      "text/plain": [
       "     plate well   compound                                               path  \\\n",
       "0  P015085  B22  CBK290770  /mnt/micro-images-pvc/specs935-v1/specs935-v1-...   \n",
       "1  P015099  I03  CBK309655  /mnt/micro-images-pvc/specs935-v1/specs935-v1-...   \n",
       "2  P015099  H21  CBK309040  /mnt/micro-images-pvc/specs935-v1/specs935-v1-...   \n",
       "3  P015099  F20  CBK200898  /mnt/micro-images-pvc/specs935-v1/specs935-v1-...   \n",
       "4  P015099  L04  CBK309538  /mnt/micro-images-pvc/specs935-v1/specs935-v1-...   \n",
       "5  P015098  L15  CBK309020  /mnt/micro-images-pvc/specs935-v1/specs935-v1-...   \n",
       "6  P015092  B08  CBK293875  /mnt/micro-images-pvc/specs935-v1/specs935-v1-...   \n",
       "7  P015084  N02  CBK291084  /mnt/micro-images-pvc/specs935-v1/specs935-v1-...   \n",
       "8  P015085  B12  CBK201011  /mnt/micro-images-pvc/specs935-v1/specs935-v1-...   \n",
       "9  P015090  E18  CBK277961  /mnt/micro-images-pvc/specs935-v1/specs935-v1-...   \n",
       "\n",
       "                                                  C1  \\\n",
       "0  specs935-v1-FA-P015085-U2OS-48h-P5-L2-test_B22...   \n",
       "1  specs935-v1-FA-P015099-U2OS-48h-P12-L2_I03_s4_...   \n",
       "2  specs935-v1-FA-P015099-U2OS-48h-P12-L2_H21_s4_...   \n",
       "3  specs935-v1-FA-P015099-U2OS-48h-P12-L2_F20_s7_...   \n",
       "4  specs935-v1-FA-P015099-U2OS-48h-P12-L2_L04_s4_...   \n",
       "5  specs935-v1-FA-P015098-U2OS-48h-P12-L1_L15_s3_...   \n",
       "6  specs935-v1-FA-P015092-U2OS-48h-P9-L1_B08_s1_w...   \n",
       "7  specs935-v1-FA-P015084-U2OS-48h-P5-L1_N02_s9_w...   \n",
       "8  specs935-v1-FA-P015085-U2OS-48h-P5-L2-test_B12...   \n",
       "9  specs935-v1-FA-P015090-U2OS-48h-P8-L1_E18_s9_w...   \n",
       "\n",
       "                                                  C2  \\\n",
       "0  specs935-v1-FA-P015085-U2OS-48h-P5-L2-test_B22...   \n",
       "1  specs935-v1-FA-P015099-U2OS-48h-P12-L2_I03_s4_...   \n",
       "2  specs935-v1-FA-P015099-U2OS-48h-P12-L2_H21_s4_...   \n",
       "3  specs935-v1-FA-P015099-U2OS-48h-P12-L2_F20_s7_...   \n",
       "4  specs935-v1-FA-P015099-U2OS-48h-P12-L2_L04_s4_...   \n",
       "5  specs935-v1-FA-P015098-U2OS-48h-P12-L1_L15_s3_...   \n",
       "6  specs935-v1-FA-P015092-U2OS-48h-P9-L1_B08_s1_w...   \n",
       "7  specs935-v1-FA-P015084-U2OS-48h-P5-L1_N02_s9_w...   \n",
       "8  specs935-v1-FA-P015085-U2OS-48h-P5-L2-test_B12...   \n",
       "9  specs935-v1-FA-P015090-U2OS-48h-P8-L1_E18_s9_w...   \n",
       "\n",
       "                                                  C3  \\\n",
       "0  specs935-v1-FA-P015085-U2OS-48h-P5-L2-test_B22...   \n",
       "1  specs935-v1-FA-P015099-U2OS-48h-P12-L2_I03_s4_...   \n",
       "2  specs935-v1-FA-P015099-U2OS-48h-P12-L2_H21_s4_...   \n",
       "3  specs935-v1-FA-P015099-U2OS-48h-P12-L2_F20_s7_...   \n",
       "4  specs935-v1-FA-P015099-U2OS-48h-P12-L2_L04_s4_...   \n",
       "5  specs935-v1-FA-P015098-U2OS-48h-P12-L1_L15_s3_...   \n",
       "6  specs935-v1-FA-P015092-U2OS-48h-P9-L1_B08_s1_w...   \n",
       "7  specs935-v1-FA-P015084-U2OS-48h-P5-L1_N02_s9_w...   \n",
       "8  specs935-v1-FA-P015085-U2OS-48h-P5-L2-test_B12...   \n",
       "9  specs935-v1-FA-P015090-U2OS-48h-P8-L1_E18_s9_w...   \n",
       "\n",
       "                                                  C4  \\\n",
       "0  specs935-v1-FA-P015085-U2OS-48h-P5-L2-test_B22...   \n",
       "1  specs935-v1-FA-P015099-U2OS-48h-P12-L2_I03_s4_...   \n",
       "2  specs935-v1-FA-P015099-U2OS-48h-P12-L2_H21_s4_...   \n",
       "3  specs935-v1-FA-P015099-U2OS-48h-P12-L2_F20_s7_...   \n",
       "4  specs935-v1-FA-P015099-U2OS-48h-P12-L2_L04_s4_...   \n",
       "5  specs935-v1-FA-P015098-U2OS-48h-P12-L1_L15_s3_...   \n",
       "6  specs935-v1-FA-P015092-U2OS-48h-P9-L1_B08_s1_w...   \n",
       "7  specs935-v1-FA-P015084-U2OS-48h-P5-L1_N02_s9_w...   \n",
       "8  specs935-v1-FA-P015085-U2OS-48h-P5-L2-test_B12...   \n",
       "9  specs935-v1-FA-P015090-U2OS-48h-P8-L1_E18_s9_w...   \n",
       "\n",
       "                                                  C5  \\\n",
       "0  specs935-v1-FA-P015085-U2OS-48h-P5-L2-test_B22...   \n",
       "1  specs935-v1-FA-P015099-U2OS-48h-P12-L2_I03_s4_...   \n",
       "2  specs935-v1-FA-P015099-U2OS-48h-P12-L2_H21_s4_...   \n",
       "3  specs935-v1-FA-P015099-U2OS-48h-P12-L2_F20_s7_...   \n",
       "4  specs935-v1-FA-P015099-U2OS-48h-P12-L2_L04_s4_...   \n",
       "5  specs935-v1-FA-P015098-U2OS-48h-P12-L1_L15_s3_...   \n",
       "6  specs935-v1-FA-P015092-U2OS-48h-P9-L1_B08_s1_w...   \n",
       "7  specs935-v1-FA-P015084-U2OS-48h-P5-L1_N02_s9_w...   \n",
       "8  specs935-v1-FA-P015085-U2OS-48h-P5-L2-test_B12...   \n",
       "9  specs935-v1-FA-P015090-U2OS-48h-P8-L1_E18_s9_w...   \n",
       "\n",
       "                                moa classes  \n",
       "0           Aurora kinase inhibitor       0  \n",
       "1           topoisomerase inhibitor       5  \n",
       "2           topoisomerase inhibitor       5  \n",
       "3  tubulin polymerization inhibitor       1  \n",
       "4       protein synthesis inhibitor       3  \n",
       "5           topoisomerase inhibitor       5  \n",
       "6                     JAK inhibitor       2  \n",
       "7                  ATPase inhibitor       7  \n",
       "8                  ATPase inhibitor       7  \n",
       "9                    HDAC inhibitor       4  "
      ]
     },
     "execution_count": 12,
     "metadata": {},
     "output_type": "execute_result"
    }
   ],
   "source": [
    "all_data.head(10)"
   ]
  },
  {
   "cell_type": "code",
   "execution_count": 13,
   "metadata": {
    "id": "jhksy76-KxaI"
   },
   "outputs": [],
   "source": [
    "# get the compound-MoA pair \n",
    "compound_moa = all_data[['compound','moa']].drop_duplicates()"
   ]
  },
  {
   "cell_type": "code",
   "execution_count": 14,
   "metadata": {},
   "outputs": [
    {
     "name": "stdout",
     "output_type": "stream",
     "text": [
      "    compound                               moa\n",
      "0  CBK290770           Aurora kinase inhibitor\n",
      "1  CBK309655           topoisomerase inhibitor\n",
      "2  CBK309040           topoisomerase inhibitor\n",
      "3  CBK200898  tubulin polymerization inhibitor\n",
      "4  CBK309538       protein synthesis inhibitor\n",
      "5  CBK309020           topoisomerase inhibitor\n",
      "6  CBK293875                     JAK inhibitor\n",
      "7  CBK291084                  ATPase inhibitor\n",
      "8  CBK201011                  ATPase inhibitor\n",
      "9  CBK277961                    HDAC inhibitor\n",
      " Number of elements: 462, Number of Rows: 231, Number of Cols: 2\n"
     ]
    }
   ],
   "source": [
    "# checking results of table with compound and class. Cross reference number of different compounds.\n",
    "print(compound_moa[0:10])\n",
    "print(f' Number of elements: {compound_moa.size}, Number of Rows: {compound_moa.shape[0]}, Number of Cols: {compound_moa.shape[1]}')"
   ]
  },
  {
   "cell_type": "code",
   "execution_count": 15,
   "metadata": {},
   "outputs": [
    {
     "data": {
      "text/plain": [
       "HDAC inhibitor                      33\n",
       "topoisomerase inhibitor             32\n",
       "HSP inhibitor                       24\n",
       "protein synthesis inhibitor         23\n",
       "PARP inhibitor                      21\n",
       "JAK inhibitor                       21\n",
       "tubulin polymerization inhibitor    20\n",
       "Aurora kinase inhibitor             20\n",
       "retinoid receptor agonist           19\n",
       "ATPase inhibitor                    18\n",
       "Name: moa, dtype: int64"
      ]
     },
     "execution_count": 15,
     "metadata": {},
     "output_type": "execute_result"
    }
   ],
   "source": [
    "# we see that some of the classes have very few members because we limited the data set\n",
    "compound_moa.moa.value_counts()"
   ]
  },
  {
   "cell_type": "code",
   "execution_count": 74,
   "metadata": {},
   "outputs": [],
   "source": [
    "# Attempt att limiting certain classes \n",
    "# Remove all except the four most represented classes\n",
    "#if testing == False:\n",
    "#    compound_moa = compound_moa.loc[compound_moa[\"moa\"].isin([\"HDAC inhibitor\", \"Aurora kinase inhibitor\", \"ATPase inhibitor\", \"HSP inhibitor\"])]      "
   ]
  },
  {
   "cell_type": "code",
   "execution_count": null,
   "metadata": {},
   "outputs": [],
   "source": []
  },
  {
   "cell_type": "code",
   "execution_count": null,
   "metadata": {},
   "outputs": [],
   "source": []
  },
  {
   "cell_type": "code",
   "execution_count": 17,
   "metadata": {},
   "outputs": [
    {
     "data": {
      "text/plain": [
       "(tensor([0, 5, 5,  ..., 8, 7, 9]), torch.Size([4000]))"
      ]
     },
     "execution_count": 17,
     "metadata": {},
     "output_type": "execute_result"
    }
   ],
   "source": [
    "# creating tensor from all_data.df\n",
    "target = torch.tensor(all_data['classes'].values.astype(np.int64))\n",
    "target, target.shape"
   ]
  },
  {
   "cell_type": "code",
   "execution_count": 18,
   "metadata": {},
   "outputs": [
    {
     "data": {
      "text/plain": [
       "tensor([[1., 0., 0.,  ..., 0., 0., 0.],\n",
       "        [0., 0., 0.,  ..., 0., 0., 0.],\n",
       "        [0., 0., 0.,  ..., 0., 0., 0.],\n",
       "        ...,\n",
       "        [0., 0., 0.,  ..., 0., 1., 0.],\n",
       "        [0., 0., 0.,  ..., 1., 0., 0.],\n",
       "        [0., 0., 0.,  ..., 0., 0., 1.]])"
      ]
     },
     "execution_count": 18,
     "metadata": {},
     "output_type": "execute_result"
    }
   ],
   "source": [
    "target_onehot = torch.zeros(target.shape[0], num_classes)\n",
    "target_onehot.scatter_(1, target.unsqueeze(1), 1.0)"
   ]
  },
  {
   "cell_type": "code",
   "execution_count": 19,
   "metadata": {},
   "outputs": [
    {
     "data": {
      "text/plain": [
       "'bro = len(compound_moa.moa.value_counts())\\ntarget_onehot = torch.zeros(target.shape[0], bro)\\nprint(target_onehot)\\ntarget_onehot.scatter_(1, target.unsqueeze(1), 1.0)'"
      ]
     },
     "execution_count": 19,
     "metadata": {},
     "output_type": "execute_result"
    }
   ],
   "source": [
    "'''bro = len(compound_moa.moa.value_counts())\n",
    "target_onehot = torch.zeros(target.shape[0], bro)\n",
    "print(target_onehot)\n",
    "target_onehot.scatter_(1, target.unsqueeze(1), 1.0)'''"
   ]
  },
  {
   "cell_type": "code",
   "execution_count": 20,
   "metadata": {},
   "outputs": [
    {
     "data": {
      "text/plain": [
       "HDAC inhibitor                      33\n",
       "topoisomerase inhibitor             32\n",
       "HSP inhibitor                       24\n",
       "protein synthesis inhibitor         23\n",
       "PARP inhibitor                      21\n",
       "JAK inhibitor                       21\n",
       "tubulin polymerization inhibitor    20\n",
       "Aurora kinase inhibitor             20\n",
       "retinoid receptor agonist           19\n",
       "ATPase inhibitor                    18\n",
       "Name: moa, dtype: int64"
      ]
     },
     "execution_count": 20,
     "metadata": {},
     "output_type": "execute_result"
    }
   ],
   "source": [
    "# Dubbel check that only four well-represented classes remain\n",
    "compound_moa.moa.value_counts()"
   ]
  },
  {
   "cell_type": "code",
   "execution_count": 21,
   "metadata": {},
   "outputs": [
    {
     "name": "stdout",
     "output_type": "stream",
     "text": [
      "    compound                               moa\n",
      "0  CBK290770           Aurora kinase inhibitor\n",
      "1  CBK309655           topoisomerase inhibitor\n",
      "2  CBK309040           topoisomerase inhibitor\n",
      "3  CBK200898  tubulin polymerization inhibitor\n",
      "4  CBK309538       protein synthesis inhibitor\n",
      "5  CBK309020           topoisomerase inhibitor\n",
      "6  CBK293875                     JAK inhibitor\n",
      "7  CBK291084                  ATPase inhibitor\n",
      "8  CBK201011                  ATPase inhibitor\n",
      "9  CBK277961                    HDAC inhibitor\n"
     ]
    }
   ],
   "source": [
    "print(compound_moa[0:10])"
   ]
  },
  {
   "cell_type": "code",
   "execution_count": 22,
   "metadata": {
    "id": "Vp16IyZKKxdf"
   },
   "outputs": [
    {
     "data": {
      "text/plain": [
       "' \\nExplanation:\\n- test_size: 10 % of data\\n- stratified: each set contains approximately the same percentage of samples of each target class as the complete set.\\n- random_state: the seed\\n- does shuffling of order\\n'"
      ]
     },
     "execution_count": 22,
     "metadata": {},
     "output_type": "execute_result"
    }
   ],
   "source": [
    "# split dataset into test and training/validation sets (10-90 split)\n",
    "compound_train_valid, compound_test, moa_train_valid, moa_test = train_test_split(\n",
    "  compound_moa.compound, compound_moa.moa, test_size = 0.10, stratify = compound_moa.moa, \n",
    "  shuffle = True, random_state = 1)\n",
    "''' \n",
    "Explanation:\n",
    "- test_size: 10 % of data\n",
    "- stratified: each set contains approximately the same percentage of samples of each target class as the complete set.\n",
    "- random_state: the seed\n",
    "- does shuffling of order\n",
    "'''"
   ]
  },
  {
   "cell_type": "code",
   "execution_count": 23,
   "metadata": {},
   "outputs": [
    {
     "name": "stdout",
     "output_type": "stream",
     "text": [
      "981    CBK309437\n",
      "52     CBK308652\n",
      "6      CBK293875\n",
      "121    CBK290613\n",
      "44     CBK289760\n",
      "80     CBK290573\n",
      "37     CBK309391\n",
      "16     CBK290766\n",
      "107    CBK290683\n",
      "112    CBK309507\n",
      "Name: compound, dtype: object\n"
     ]
    }
   ],
   "source": [
    "print(compound_train_valid[0:10]) # produces index with compound"
   ]
  },
  {
   "cell_type": "code",
   "execution_count": 24,
   "metadata": {
    "id": "mgZQa4pTO7nE"
   },
   "outputs": [],
   "source": [
    "# Split data set into training and validation sets (1 to 9)\n",
    "# Same as above, but does split of only training data into training and validation data (in order to take advantage of stratification parameter)\n",
    "compound_train, compound_valid, moa_train, moa_valid = train_test_split(\n",
    "  compound_train_valid, moa_train_valid, test_size = 10/90, stratify = moa_train_valid,\n",
    "  shuffle = True, random_state = 62757)"
   ]
  },
  {
   "cell_type": "code",
   "execution_count": 25,
   "metadata": {},
   "outputs": [
    {
     "name": "stdout",
     "output_type": "stream",
     "text": [
      "39     CBK200927\n",
      "56     CBK290837\n",
      "30     CBK200716\n",
      "42     CBK308321\n",
      "26     CBK041184\n",
      "402    CBK290883\n",
      "213    CBK309059\n",
      "87     CBK290352\n",
      "17     CBK309084\n",
      "595    CBK290334\n",
      "Name: compound, dtype: object\n"
     ]
    }
   ],
   "source": [
    "print(compound_train[0:10])"
   ]
  },
  {
   "cell_type": "code",
   "execution_count": 26,
   "metadata": {
    "id": "73_IwUtfO7sm"
   },
   "outputs": [
    {
     "data": {
      "text/plain": [
       "' Explanation\\nreset_index = create new index starting from zero \\ndrop: drop previous index.\\n'"
      ]
     },
     "execution_count": 26,
     "metadata": {},
     "output_type": "execute_result"
    }
   ],
   "source": [
    "# get the train, valid and test set by for every compound in data set, if it is in train, valid or test, return all info from all_data in new df.\n",
    "train = all_data[all_data['compound'].isin(compound_train)]\n",
    "valid = all_data[all_data['compound'].isin(compound_valid)]\n",
    "test  = all_data[all_data['compound'].isin(compound_test)]\n",
    "''' Explanation\n",
    "reset_index = create new index starting from zero \n",
    "drop: drop previous index.\n",
    "'''"
   ]
  },
  {
   "cell_type": "code",
   "execution_count": 27,
   "metadata": {},
   "outputs": [
    {
     "name": "stdout",
     "output_type": "stream",
     "text": [
      "0    0\n",
      "1    5\n",
      "2    5\n",
      "3    1\n",
      "4    3\n",
      "Name: classes, dtype: object\n",
      "8     7\n",
      "13    6\n",
      "20    6\n",
      "33    7\n",
      "38    1\n",
      "Name: classes, dtype: object\n",
      "      plate well   compound  \\\n",
      "9   P015090  E18  CBK277961   \n",
      "10  P015099  B07  CBK308359   \n",
      "22  P015098  B08  CBK041720   \n",
      "23  P015090  M17  CBK291055   \n",
      "36  P015091  M07  CBK278016   \n",
      "\n",
      "                                                 path  \\\n",
      "9   /mnt/micro-images-pvc/specs935-v1/specs935-v1-...   \n",
      "10  /mnt/micro-images-pvc/specs935-v1/specs935-v1-...   \n",
      "22  /mnt/micro-images-pvc/specs935-v1/specs935-v1-...   \n",
      "23  /mnt/micro-images-pvc/specs935-v1/specs935-v1-...   \n",
      "36  /mnt/micro-images-pvc/specs935-v1/specs935-v1-...   \n",
      "\n",
      "                                                   C1  \\\n",
      "9   specs935-v1-FA-P015090-U2OS-48h-P8-L1_E18_s9_w...   \n",
      "10  specs935-v1-FA-P015099-U2OS-48h-P12-L2_B07_s8_...   \n",
      "22  specs935-v1-FA-P015098-U2OS-48h-P12-L1_B08_s7_...   \n",
      "23  specs935-v1-FA-P015090-U2OS-48h-P8-L1_M17_s3_w...   \n",
      "36  specs935-v1-FA-P015091-U2OS-48h-P8-L2_M07_s3_w...   \n",
      "\n",
      "                                                   C2  \\\n",
      "9   specs935-v1-FA-P015090-U2OS-48h-P8-L1_E18_s9_w...   \n",
      "10  specs935-v1-FA-P015099-U2OS-48h-P12-L2_B07_s8_...   \n",
      "22  specs935-v1-FA-P015098-U2OS-48h-P12-L1_B08_s7_...   \n",
      "23  specs935-v1-FA-P015090-U2OS-48h-P8-L1_M17_s3_w...   \n",
      "36  specs935-v1-FA-P015091-U2OS-48h-P8-L2_M07_s3_w...   \n",
      "\n",
      "                                                   C3  \\\n",
      "9   specs935-v1-FA-P015090-U2OS-48h-P8-L1_E18_s9_w...   \n",
      "10  specs935-v1-FA-P015099-U2OS-48h-P12-L2_B07_s8_...   \n",
      "22  specs935-v1-FA-P015098-U2OS-48h-P12-L1_B08_s7_...   \n",
      "23  specs935-v1-FA-P015090-U2OS-48h-P8-L1_M17_s3_w...   \n",
      "36  specs935-v1-FA-P015091-U2OS-48h-P8-L2_M07_s3_w...   \n",
      "\n",
      "                                                   C4  \\\n",
      "9   specs935-v1-FA-P015090-U2OS-48h-P8-L1_E18_s9_w...   \n",
      "10  specs935-v1-FA-P015099-U2OS-48h-P12-L2_B07_s8_...   \n",
      "22  specs935-v1-FA-P015098-U2OS-48h-P12-L1_B08_s7_...   \n",
      "23  specs935-v1-FA-P015090-U2OS-48h-P8-L1_M17_s3_w...   \n",
      "36  specs935-v1-FA-P015091-U2OS-48h-P8-L2_M07_s3_w...   \n",
      "\n",
      "                                                   C5  \\\n",
      "9   specs935-v1-FA-P015090-U2OS-48h-P8-L1_E18_s9_w...   \n",
      "10  specs935-v1-FA-P015099-U2OS-48h-P12-L2_B07_s8_...   \n",
      "22  specs935-v1-FA-P015098-U2OS-48h-P12-L1_B08_s7_...   \n",
      "23  specs935-v1-FA-P015090-U2OS-48h-P8-L1_M17_s3_w...   \n",
      "36  specs935-v1-FA-P015091-U2OS-48h-P8-L2_M07_s3_w...   \n",
      "\n",
      "                                 moa classes  \n",
      "9                     HDAC inhibitor       4  \n",
      "10  tubulin polymerization inhibitor       1  \n",
      "22  tubulin polymerization inhibitor       1  \n",
      "23                    HDAC inhibitor       4  \n",
      "36                     JAK inhibitor       2  \n"
     ]
    }
   ],
   "source": [
    "print(train.classes[0:5])\n",
    "print(valid.classes[0:5])\n",
    "print(test[0:5])"
   ]
  },
  {
   "cell_type": "code",
   "execution_count": 28,
   "metadata": {},
   "outputs": [
    {
     "name": "stdout",
     "output_type": "stream",
     "text": [
      " Number of elements: 35134, Number of Rows: 3194, Number of Cols: 11\n",
      " Number of elements: 4521, Number of Rows: 411, Number of Cols: 11\n",
      " Number of elements: 4345, Number of Rows: 395, Number of Cols: 11\n",
      " Train, Validation, and Test Set: 44000, Original Length 44000\n",
      " Train, Validation, and Test Set: 4000, Original Length 4000\n"
     ]
    }
   ],
   "source": [
    "# Checking to make sure that rows and columns are the same.\n",
    "print(f' Number of elements: {train.size}, Number of Rows: {train.shape[0]}, Number of Cols: {train.shape[1]}')\n",
    "print(f' Number of elements: {valid.size}, Number of Rows: {valid.shape[0]}, Number of Cols: {valid.shape[1]}')\n",
    "print(f' Number of elements: {test.size}, Number of Rows: {test.shape[0]}, Number of Cols: {test.shape[1]}')\n",
    "print(f' Train, Validation, and Test Set: {train.size + valid.size + test.size}, Original Length {all_data.size}' )\n",
    "print(f' Train, Validation, and Test Set: {train.shape[0] + valid.shape[0] + test.shape[0]}, Original Length {all_data.shape[0]}' )\n",
    " # The shape of a DataFrame is a tuple of array dimensions that tells the number of rows and columns of a given DataFrame."
   ]
  },
  {
   "cell_type": "markdown",
   "metadata": {},
   "source": [
    "## Preparing Images"
   ]
  },
  {
   "cell_type": "code",
   "execution_count": 29,
   "metadata": {},
   "outputs": [
    {
     "name": "stdout",
     "output_type": "stream",
     "text": [
      "[0, 1, 2, 3, 4, 5, 6, 7, 11, 12, 14, 15, 16, 17, 18, 19, 21, 24, 25, 26]\n"
     ]
    }
   ],
   "source": [
    "# check to see that index of train looks reasonable\n",
    "print(train.index.tolist()[:20])"
   ]
  },
  {
   "cell_type": "code",
   "execution_count": 30,
   "metadata": {},
   "outputs": [],
   "source": [
    "# create dictionary for parition\n",
    "partition = {\"train\": [], \"valid\": [], \"test\": []}\n",
    "\n",
    "# create lists with indexes in splits\n",
    "tr_list = train.index.tolist()\n",
    "va_list = valid.index.tolist()\n",
    "\n",
    "# place index into correct bin\n",
    "for index in all_data.index.tolist():\n",
    "#for index in compound_moa.index.tolist():\n",
    "    if index in tr_list:\n",
    "        partition[\"train\"] += [index]\n",
    "    elif index in va_list:\n",
    "        partition[\"valid\"]   += [index]\n",
    "    else:\n",
    "        partition[\"test\"]  += [index]"
   ]
  },
  {
   "cell_type": "code",
   "execution_count": 31,
   "metadata": {},
   "outputs": [],
   "source": [
    "# check to see that indexes have been added to dictionary\n",
    "#print(partition) # functional"
   ]
  },
  {
   "cell_type": "code",
   "execution_count": 32,
   "metadata": {},
   "outputs": [],
   "source": [
    "# create dictionary for labels\n",
    "#labels = {}\n",
    "#for index,compound in zip(all_data.index.tolist(), all_data[\"classes\"].tolist()):\n",
    "    #labels[index] = compound\n"
   ]
  },
  {
   "cell_type": "code",
   "execution_count": 33,
   "metadata": {},
   "outputs": [],
   "source": [
    "# create dictionary for labels, using PyTorch\n",
    "labels = {}\n",
    "for index,compound in zip(all_data.index.tolist(), target_onehot):\n",
    "    labels[index] = compound"
   ]
  },
  {
   "cell_type": "code",
   "execution_count": 34,
   "metadata": {},
   "outputs": [
    {
     "data": {
      "text/plain": [
       "tensor([0., 1., 0., 0., 0., 0., 0., 0., 0., 0.])"
      ]
     },
     "execution_count": 34,
     "metadata": {},
     "output_type": "execute_result"
    }
   ],
   "source": [
    "# check to see if dictionary with index: class pair exists\n",
    "#print(labels) # functional\n",
    "labels[1000] # extract label from index"
   ]
  },
  {
   "cell_type": "code",
   "execution_count": 35,
   "metadata": {},
   "outputs": [],
   "source": [
    "from torchvision import models\n",
    "#dir(models)"
   ]
  },
  {
   "cell_type": "code",
   "execution_count": 36,
   "metadata": {
    "id": "KDGCruBJA1J2"
   },
   "outputs": [],
   "source": [
    "# on the fly data augmentation \n",
    "import albumentations as A\n",
    "train_transforms = A.Compose([A.Flip(),A.ShiftScaleRotate(scale_limit=0.2),A.RandomRotate90(),\n",
    "    A.OneOf([A.Flip(),A.ShiftScaleRotate(scale_limit=0.2),A.RandomRotate90(),],p = 0.2),\n",
    "    A.OneOf([A.Flip(),A.ShiftScaleRotate(scale_limit=0.2),A.RandomRotate90(),],p = 0.4),\n",
    "    A.OneOf([A.Flip(),A.ShiftScaleRotate(scale_limit=0.2),A.RandomRotate90(),],p = 0.5),\n",
    "    A.OneOf([A.Flip(),A.ShiftScaleRotate(scale_limit=0.2),A.RandomRotate90(),],p = 0.6),\n",
    "    A.OneOf([A.Flip(),A.ShiftScaleRotate(scale_limit=0.2),A.RandomRotate90(),],p = 0.8),\n",
    "    A.Flip(),A.ShiftScaleRotate(scale_limit=0.2),A.RandomRotate90(),])\n",
    "valid_transforms = A.Compose([])"
   ]
  },
  {
   "cell_type": "code",
   "execution_count": 37,
   "metadata": {
    "id": "oDZ2gf4WCxcW"
   },
   "outputs": [],
   "source": [
    "valid_transforms = A.Compose([])"
   ]
  },
  {
   "cell_type": "code",
   "execution_count": 38,
   "metadata": {
    "id": "fOHasY7qCrm4"
   },
   "outputs": [],
   "source": [
    "def channel_5_numpy(df, idx):\n",
    "    '''\n",
    "    Puts together all channels from CP imaging into a single 5 x 256 x 256 tensor (c x h x w) from all_data.csv\n",
    "    Input\n",
    "    df  : file which contains all rows of image data with compound information (type = csv)\n",
    "    idx : the index of the row (type = integer)\n",
    "    \n",
    "    Output:\n",
    "    image: a single 5 x 256 x 256 tensor (c x h x w)\n",
    "    '''\n",
    "    # extract row with index \n",
    "    row = df.iloc[idx]\n",
    "    \n",
    "    # loop through all of the channels and add to single array\n",
    "    im = []\n",
    "    for c in range(1, 6):\n",
    "        # extract by adding C to the integer we are looping\n",
    "        row_channel_path = row[\"C\" + str(c)]\n",
    "        local_im = cv2.imread(row.path + \"/\" + row[\"C\" + str(c)], -1) # row.path would be same for me, except str(row[path]))\n",
    "        \n",
    "        # directly resize down to 256 by 256\n",
    "        local_im = cv2.resize(local_im, (256, 256), interpolation = cv2.INTER_LINEAR)\n",
    "        # adds to array to the image vector \n",
    "        im.append(local_im)\n",
    "\n",
    "    # once we have all the channels, we covert it to a np.array, transpose so it has the correct dimensions and change the type for some reason\n",
    "    im = np.array(im).astype(\"int16\")\n",
    "    return torch.from_numpy(im)"
   ]
  },
  {
   "cell_type": "code",
   "execution_count": 39,
   "metadata": {
    "id": "cbPwaU-dCro5"
   },
   "outputs": [],
   "source": [
    "class Dataset(torch.utils.data.Dataset):\n",
    "    def __init__(self, partition, labels, transform=None):\n",
    "        self.img_labels = labels\n",
    "        # print(self.img_labels)\n",
    "        self.list_ID = partition\n",
    "        self.transform = transform\n",
    "\n",
    "    def __len__(self):\n",
    "        ''' The number of data points '''\n",
    "        return len(self.img_labels)\n",
    "\n",
    "    def __getitem__(self, idx):\n",
    "        '''Retreiving the image '''\n",
    "        #print(idx)\n",
    "        ID = self.list_ID[idx]\n",
    "        image = channel_5_numpy(all_data, ID) # extract image from csv using index\n",
    "        #print(f' return from function: {image}')\n",
    "        label = self.img_labels[ID]          # extract calssification using index\n",
    "        #print(label)\n",
    "        label = torch.tensor(label, dtype=torch.short)\n",
    "        if self.transform:                         # uses Albumentations image pipeline to return an augmented image\n",
    "            image = self.transform(image)\n",
    "        #return image.float(), label.long()\n",
    "        return image.float(), label.float()"
   ]
  },
  {
   "cell_type": "code",
   "execution_count": 41,
   "metadata": {},
   "outputs": [
    {
     "name": "stdout",
     "output_type": "stream",
     "text": [
      "1\n"
     ]
    }
   ],
   "source": [
    "# showing that I have no GPUs\n",
    "world_size = torch.cuda.device_count()\n",
    "print(world_size)"
   ]
  },
  {
   "cell_type": "code",
   "execution_count": 75,
   "metadata": {},
   "outputs": [],
   "source": [
    "# parameters\n",
    "params = {'batch_size' : 20,\n",
    "         'num_workers' : 4,\n",
    "         'shuffle' : True,\n",
    "         'prefetch_factor' : 4} \n",
    "          \n",
    "# shuffle isn't working\n",
    "\n",
    "# Datasets\n",
    "partition = partition\n",
    "labels = labels\n",
    "\n",
    "# maxepochs\n",
    "max_epochs = 1"
   ]
  },
  {
   "cell_type": "markdown",
   "metadata": {
    "id": "9Mz8y7LJCrrG",
    "tags": []
   },
   "source": [
    "## Generators"
   ]
  },
  {
   "cell_type": "markdown",
   "metadata": {},
   "source": [
    "### Now works to shuffle the the batches"
   ]
  },
  {
   "cell_type": "code",
   "execution_count": 43,
   "metadata": {},
   "outputs": [],
   "source": [
    "#partition['valid']+ partition['test']"
   ]
  },
  {
   "cell_type": "code",
   "execution_count": 44,
   "metadata": {},
   "outputs": [],
   "source": [
    "# Create a dataset with all indices and labels\n",
    "everything = Dataset(partition[\"train\"]+partition['valid']+partition['test'], labels)"
   ]
  },
  {
   "cell_type": "code",
   "execution_count": 45,
   "metadata": {},
   "outputs": [],
   "source": [
    "# generator: training\n",
    "# create a subset with only train indices\n",
    "training_set = torch.utils.data.Subset(everything, partition[\"train\"])\n",
    "\n",
    "# create generator that randomly takes indices from the training set\n",
    "training_generator = torch.utils.data.DataLoader(training_set, **params)\n",
    "# training_set = Dataset(partition[\"train\"], labels)"
   ]
  },
  {
   "cell_type": "code",
   "execution_count": 46,
   "metadata": {},
   "outputs": [],
   "source": [
    "# create a subset with only train indices\n",
    "valid_set = torch.utils.data.Subset(everything, partition[\"valid\"])\n",
    "\n",
    "# create generator that randomly takes indices from the training set\n",
    "valid_generator = torch.utils.data.DataLoader(valid_set, **params)"
   ]
  },
  {
   "cell_type": "code",
   "execution_count": 47,
   "metadata": {},
   "outputs": [],
   "source": [
    "# create a subset with only train indices\n",
    "test_set = torch.utils.data.Subset(everything, partition[\"test\"])\n",
    "\n",
    "# create generator that randomly takes indices from the training set\n",
    "test_generator = torch.utils.data.DataLoader(test_set, **params)"
   ]
  },
  {
   "cell_type": "code",
   "execution_count": 48,
   "metadata": {},
   "outputs": [],
   "source": [
    "# generator: validation\n",
    "#valid_set = Dataset(partition['valid'], labels)\n",
    "#valid_generator = torch.utils.data.DataLoader(valid_set, **params)"
   ]
  },
  {
   "cell_type": "code",
   "execution_count": 49,
   "metadata": {},
   "outputs": [],
   "source": [
    "# generator: test\n",
    "# test_set = Dataset(partition['test'], labels)\n",
    "# test_generator = torch.utils.data.DataLoader(test_set, **params)"
   ]
  },
  {
   "cell_type": "markdown",
   "metadata": {
    "tags": []
   },
   "source": [
    "### Testing Data Loaders"
   ]
  },
  {
   "cell_type": "code",
   "execution_count": 50,
   "metadata": {},
   "outputs": [
    {
     "name": "stderr",
     "output_type": "stream",
     "text": [
      "/usr/local/lib/python3.6/dist-packages/ipykernel_launcher.py:20: UserWarning: To copy construct from a tensor, it is recommended to use sourceTensor.clone().detach() or sourceTensor.clone().detach().requires_grad_(True), rather than torch.tensor(sourceTensor).\n",
      "/usr/local/lib/python3.6/dist-packages/ipykernel_launcher.py:20: UserWarning: To copy construct from a tensor, it is recommended to use sourceTensor.clone().detach() or sourceTensor.clone().detach().requires_grad_(True), rather than torch.tensor(sourceTensor).\n",
      "/usr/local/lib/python3.6/dist-packages/ipykernel_launcher.py:20: UserWarning: To copy construct from a tensor, it is recommended to use sourceTensor.clone().detach() or sourceTensor.clone().detach().requires_grad_(True), rather than torch.tensor(sourceTensor).\n",
      "/usr/local/lib/python3.6/dist-packages/ipykernel_launcher.py:20: UserWarning: To copy construct from a tensor, it is recommended to use sourceTensor.clone().detach() or sourceTensor.clone().detach().requires_grad_(True), rather than torch.tensor(sourceTensor).\n"
     ]
    },
    {
     "name": "stdout",
     "output_type": "stream",
     "text": [
      "Feature batch shape: torch.Size([20, 5, 256, 256])\n",
      "Labels batch shape: torch.Size([20, 10])\n"
     ]
    }
   ],
   "source": [
    "# training data loader\n",
    "# Display image and label   # functional\n",
    "train_features, train_labels = next(iter(training_generator))\n",
    "print(f\"Feature batch shape: {train_features.size()}\")\n",
    "print(f\"Labels batch shape: {train_labels.size()}\")"
   ]
  },
  {
   "cell_type": "code",
   "execution_count": 51,
   "metadata": {},
   "outputs": [
    {
     "name": "stderr",
     "output_type": "stream",
     "text": [
      "/usr/local/lib/python3.6/dist-packages/ipykernel_launcher.py:20: UserWarning: To copy construct from a tensor, it is recommended to use sourceTensor.clone().detach() or sourceTensor.clone().detach().requires_grad_(True), rather than torch.tensor(sourceTensor).\n",
      "/usr/local/lib/python3.6/dist-packages/ipykernel_launcher.py:20: UserWarning: To copy construct from a tensor, it is recommended to use sourceTensor.clone().detach() or sourceTensor.clone().detach().requires_grad_(True), rather than torch.tensor(sourceTensor).\n",
      "/usr/local/lib/python3.6/dist-packages/ipykernel_launcher.py:20: UserWarning: To copy construct from a tensor, it is recommended to use sourceTensor.clone().detach() or sourceTensor.clone().detach().requires_grad_(True), rather than torch.tensor(sourceTensor).\n",
      "/usr/local/lib/python3.6/dist-packages/ipykernel_launcher.py:20: UserWarning: To copy construct from a tensor, it is recommended to use sourceTensor.clone().detach() or sourceTensor.clone().detach().requires_grad_(True), rather than torch.tensor(sourceTensor).\n"
     ]
    },
    {
     "name": "stdout",
     "output_type": "stream",
     "text": [
      "Feature batch shape: torch.Size([20, 5, 256, 256])\n",
      "Labels batch shape: torch.Size([20, 10])\n"
     ]
    }
   ],
   "source": [
    "# valid data loader\n",
    "valid_features, valid_labels = next(iter(valid_generator))\n",
    "print(f\"Feature batch shape: {valid_features.size()}\")\n",
    "print(f\"Labels batch shape: {valid_labels.size()}\")"
   ]
  },
  {
   "cell_type": "code",
   "execution_count": 52,
   "metadata": {},
   "outputs": [
    {
     "name": "stderr",
     "output_type": "stream",
     "text": [
      "/usr/local/lib/python3.6/dist-packages/ipykernel_launcher.py:20: UserWarning: To copy construct from a tensor, it is recommended to use sourceTensor.clone().detach() or sourceTensor.clone().detach().requires_grad_(True), rather than torch.tensor(sourceTensor).\n",
      "/usr/local/lib/python3.6/dist-packages/ipykernel_launcher.py:20: UserWarning: To copy construct from a tensor, it is recommended to use sourceTensor.clone().detach() or sourceTensor.clone().detach().requires_grad_(True), rather than torch.tensor(sourceTensor).\n",
      "/usr/local/lib/python3.6/dist-packages/ipykernel_launcher.py:20: UserWarning: To copy construct from a tensor, it is recommended to use sourceTensor.clone().detach() or sourceTensor.clone().detach().requires_grad_(True), rather than torch.tensor(sourceTensor).\n",
      "/usr/local/lib/python3.6/dist-packages/ipykernel_launcher.py:20: UserWarning: To copy construct from a tensor, it is recommended to use sourceTensor.clone().detach() or sourceTensor.clone().detach().requires_grad_(True), rather than torch.tensor(sourceTensor).\n"
     ]
    },
    {
     "name": "stdout",
     "output_type": "stream",
     "text": [
      "Feature batch shape: torch.Size([20, 5, 256, 256]), Data type: torch.float32 \n",
      "Labels batch shape: torch.Size([20, 10]), Data type: torch.float32 \n"
     ]
    }
   ],
   "source": [
    "# test data loader\n",
    "test_features, test_labels = next(iter(test_generator))\n",
    "print(f\"Feature batch shape: {test_features.size()}, Data type: {test_features.dtype} \")\n",
    "print(f\"Labels batch shape: {test_labels.size()}, Data type: {test_labels.dtype} \")\n"
   ]
  },
  {
   "cell_type": "markdown",
   "metadata": {},
   "source": [
    "# Efficient Net"
   ]
  },
  {
   "cell_type": "code",
   "execution_count": 53,
   "metadata": {},
   "outputs": [],
   "source": [
    "from efficientnet_pytorch import EfficientNet             # have to download it, since latest version can use torchvision.models\n",
    "base_model = EfficientNet.from_name('efficientnet-b1', include_top=False, in_channels = 5)\n",
    "#torchinfo.summary(base_model, (32, 5, 256,256), col_names=[\"kernel_size\", \"output_size\", \"num_params\"])\n",
    "#custom_model = nn.Sequential(model,View((2)), nn.Dropout(0.3))\n",
    "#print(torchinfo.summary(custom_model, (32,5,256,256)))"
   ]
  },
  {
   "cell_type": "code",
   "execution_count": 57,
   "metadata": {},
   "outputs": [],
   "source": [
    "class image_network(nn.Module):\n",
    "    def __init__(self):\n",
    "        super().__init__()\n",
    "        self.base_model = EfficientNet.from_name('efficientnet-b1', include_top=False, in_channels = 5)\n",
    "        self.dropout_1 = nn.Dropout(p = 0.3)\n",
    "        self.Linear_last = nn.Linear(1280, num_classes)\n",
    "        self.softmax = nn.Softmax(dim = 1)\n",
    "    \n",
    "    def forward(self, x):\n",
    "        out = self.dropout_1(self.base_model(x))\n",
    "        out = out.view(-1, 1280)\n",
    "        out = self.Linear_last(out)\n",
    "        # out = self.softmax(out) # don't need softmax when using CrossEntropyLoss\n",
    "        return out"
   ]
  },
  {
   "cell_type": "code",
   "execution_count": 58,
   "metadata": {},
   "outputs": [
    {
     "data": {
      "text/plain": [
       "==================================================================================================================================\n",
       "Layer (type:depth-idx)                                  Kernel Shape              Output Shape              Param #\n",
       "==================================================================================================================================\n",
       "image_network                                           --                        --                        --\n",
       "├─EfficientNet: 1                                       --                        --                        --\n",
       "│    └─ModuleList: 2-1                                  --                        --                        --\n",
       "├─EfficientNet: 1-1                                     --                        [20, 1280, 1, 1]          --\n",
       "│    └─Conv2dStaticSamePadding: 2-2                     [5, 32, 3, 3]             [20, 32, 128, 128]        --\n",
       "│    │    └─ZeroPad2d: 3-1                              --                        [20, 5, 257, 257]         --\n",
       "│    └─BatchNorm2d: 2-3                                 [32]                      [20, 32, 128, 128]        64\n",
       "│    └─MemoryEfficientSwish: 2-4                        --                        [20, 32, 128, 128]        --\n",
       "│    └─ModuleList: 2-1                                  --                        --                        --\n",
       "│    │    └─MBConvBlock: 3-2                            --                        [20, 16, 128, 128]        1,448\n",
       "│    │    └─MBConvBlock: 3-3                            --                        [20, 16, 128, 128]        612\n",
       "│    │    └─MBConvBlock: 3-4                            --                        [20, 24, 64, 64]          6,004\n",
       "│    │    └─MBConvBlock: 3-5                            --                        [20, 24, 64, 64]          10,710\n",
       "│    │    └─MBConvBlock: 3-6                            --                        [20, 24, 64, 64]          10,710\n",
       "│    │    └─MBConvBlock: 3-7                            --                        [20, 40, 32, 32]          15,350\n",
       "│    │    └─MBConvBlock: 3-8                            --                        [20, 40, 32, 32]          31,290\n",
       "│    │    └─MBConvBlock: 3-9                            --                        [20, 40, 32, 32]          31,290\n",
       "│    │    └─MBConvBlock: 3-10                           --                        [20, 80, 16, 16]          37,130\n",
       "│    │    └─MBConvBlock: 3-11                           --                        [20, 80, 16, 16]          102,900\n",
       "│    │    └─MBConvBlock: 3-12                           --                        [20, 80, 16, 16]          102,900\n",
       "│    │    └─MBConvBlock: 3-13                           --                        [20, 80, 16, 16]          102,900\n",
       "│    │    └─MBConvBlock: 3-14                           --                        [20, 112, 16, 16]         126,004\n",
       "│    │    └─MBConvBlock: 3-15                           --                        [20, 112, 16, 16]         208,572\n",
       "│    │    └─MBConvBlock: 3-16                           --                        [20, 112, 16, 16]         208,572\n",
       "│    │    └─MBConvBlock: 3-17                           --                        [20, 112, 16, 16]         208,572\n",
       "│    │    └─MBConvBlock: 3-18                           --                        [20, 192, 8, 8]           262,492\n",
       "│    │    └─MBConvBlock: 3-19                           --                        [20, 192, 8, 8]           587,952\n",
       "│    │    └─MBConvBlock: 3-20                           --                        [20, 192, 8, 8]           587,952\n",
       "│    │    └─MBConvBlock: 3-21                           --                        [20, 192, 8, 8]           587,952\n",
       "│    │    └─MBConvBlock: 3-22                           --                        [20, 192, 8, 8]           587,952\n",
       "│    │    └─MBConvBlock: 3-23                           --                        [20, 320, 8, 8]           717,232\n",
       "│    │    └─MBConvBlock: 3-24                           --                        [20, 320, 8, 8]           1,563,600\n",
       "│    └─Conv2dStaticSamePadding: 2-5                     [320, 1280, 1, 1]         [20, 1280, 8, 8]          --\n",
       "│    │    └─Identity: 3-25                              --                        [20, 320, 8, 8]           --\n",
       "│    └─BatchNorm2d: 2-6                                 [1280]                    [20, 1280, 8, 8]          2,560\n",
       "│    └─MemoryEfficientSwish: 2-7                        --                        [20, 1280, 8, 8]          --\n",
       "│    └─AdaptiveAvgPool2d: 2-8                           --                        [20, 1280, 1, 1]          --\n",
       "├─Dropout: 1-2                                          --                        [20, 1280, 1, 1]          --\n",
       "├─Linear: 1-3                                           [1280, 10]                [20, 10]                  12,810\n",
       "==================================================================================================================================\n",
       "Total params: 74,858\n",
       "Trainable params: 74,858\n",
       "Non-trainable params: 0\n",
       "Total mult-adds (M): 1.50\n",
       "==================================================================================================================================\n",
       "Input size (MB): 26.21\n",
       "Forward/backward pass size (MB): 1951.99\n",
       "Params size (MB): 0.30\n",
       "Estimated Total Size (MB): 1978.51\n",
       "=================================================================================================================================="
      ]
     },
     "execution_count": 58,
     "metadata": {},
     "output_type": "execute_result"
    }
   ],
   "source": [
    "updated_model = image_network()\n",
    "num_classes = len(set(train['classes'].tolist())) \n",
    "torchinfo.summary(updated_model, (20, 5, 256,256), col_names=[\"kernel_size\", \"output_size\", \"num_params\"])"
   ]
  },
  {
   "cell_type": "code",
   "execution_count": 59,
   "metadata": {},
   "outputs": [],
   "source": [
    "#torchinfo.summary(custom_model, (32, 5, 256,256), col_names=[\"kernel_size\", \"output_size\", \"num_params\"])"
   ]
  },
  {
   "cell_type": "code",
   "execution_count": 60,
   "metadata": {},
   "outputs": [
    {
     "name": "stdout",
     "output_type": "stream",
     "text": [
      "Training on device cuda. \n"
     ]
    }
   ],
   "source": [
    "device = (torch.device('cuda') if torch.cuda.is_available() else torch.device('cpu'))\n",
    "#device = torch.device('cpu')\n",
    "print(f'Training on device {device}. ' )"
   ]
  },
  {
   "cell_type": "code",
   "execution_count": 61,
   "metadata": {},
   "outputs": [
    {
     "name": "stdout",
     "output_type": "stream",
     "text": [
      "HDAC inhibitor                      33\n",
      "topoisomerase inhibitor             32\n",
      "HSP inhibitor                       24\n",
      "protein synthesis inhibitor         23\n",
      "PARP inhibitor                      21\n",
      "JAK inhibitor                       21\n",
      "tubulin polymerization inhibitor    20\n",
      "Aurora kinase inhibitor             20\n",
      "retinoid receptor agonist           19\n",
      "ATPase inhibitor                    18\n",
      "Name: moa, dtype: int64\n",
      "10\n",
      "[20, 32, 20, 23, 21, 18, 33, 21, 19, 24]\n",
      "<class 'list'>\n",
      "tensor([0.0866, 0.1385, 0.0866, 0.0996, 0.0909, 0.0779, 0.1429, 0.0909, 0.0823,\n",
      "        0.1039], device='cuda:0')\n"
     ]
    }
   ],
   "source": [
    "# If applying class weights\n",
    "apply_class_weights = True\n",
    "if apply_class_weights:     # if we want to apply class weights\n",
    "    counts = compound_moa.moa.value_counts()  # count the number of moa in each class for the ENTiRE dataset\n",
    "    print(counts)\n",
    "    class_weights = []   # create list that will hold class weights\n",
    "    for moa in compound_moa.moa.unique():       # for each moa   \n",
    "        #print(moa)\n",
    "        counts[moa]\n",
    "        class_weights.append(counts[moa])  # add counts to class weights\n",
    "    print(len(class_weights))\n",
    "    print(class_weights)\n",
    "    print(type(class_weights))\n",
    "    # class_weights = 1 / (class_weights / sum(class_weights)) # divide all class weights by total moas\n",
    "    class_weights = [i / sum(class_weights) for  i in class_weights]\n",
    "    class_weights= torch.tensor(class_weights,dtype=torch.float).to(device) # transform into tensor, put onto device\n",
    "print(class_weights)"
   ]
  },
  {
   "cell_type": "code",
   "execution_count": 68,
   "metadata": {},
   "outputs": [],
   "source": [
    "# optimizer_algorithm\n",
    "#cnn_optimizer = torch.optim.Adam(updated_model.parameters(),weight_decay = 1e-6, lr = 0.001, betas = (0.9, 0.999), eps = 1e-07)\n",
    "cnn_optimizer = torch.optim.Adam(updated_model.parameters(),weight_decay = 1e-6, lr = 0.001, betas = (0.9, 0.999), eps = 1e-07)\n",
    "# loss_function\n",
    "if apply_class_weights == True:\n",
    "    loss_function = torch.nn.CrossEntropyLoss(class_weights)\n",
    "else:\n",
    "    loss_function = torch.nn.CrossEntropyLoss()"
   ]
  },
  {
   "cell_type": "code",
   "execution_count": null,
   "metadata": {},
   "outputs": [],
   "source": []
  },
  {
   "cell_type": "code",
   "execution_count": null,
   "metadata": {},
   "outputs": [],
   "source": []
  },
  {
   "cell_type": "code",
   "execution_count": null,
   "metadata": {},
   "outputs": [],
   "source": []
  },
  {
   "cell_type": "code",
   "execution_count": null,
   "metadata": {},
   "outputs": [],
   "source": []
  },
  {
   "cell_type": "code",
   "execution_count": 69,
   "metadata": {},
   "outputs": [],
   "source": [
    "def training_loop(n_epochs, optimizer, model, loss_fn, train_loader, valid_loader):\n",
    "    '''\n",
    "    n_epochs: number of epochs \n",
    "    optimizer: optimizer used to do backpropagation\n",
    "    model: deep learning architecture\n",
    "    loss_fn: loss function\n",
    "    train_loader: generator creating batches of training data\n",
    "    valid_loader: generator creating batches of validation data\n",
    "    '''\n",
    "    # lists keep track of loss and accuracy for training and validation set\n",
    "    optimizer = torch.optim.Adam(updated_model.parameters(),weight_decay = 1e-6, lr = 0.001, betas = (0.9, 0.999), eps = 1e-07)\n",
    "    train_loss_per_epoch = []\n",
    "    train_acc_per_epoch = []\n",
    "    val_loss_per_epoch = []\n",
    "    val_acc_per_epoch = []\n",
    "    for epoch in tqdm_notebook(range(1, max_epochs +1), desc = \"Epoch\"):\n",
    "        loss_train = 0.0\n",
    "        train_total = 0\n",
    "        train_correct = 0\n",
    "        for imgs, labels in tqdm_notebook(train_loader, desc = \"Batches w/in epoch\"):\n",
    "            optimizer.zero_grad()\n",
    "            # put model, images, labels on the same device\n",
    "            model = model.to(device)\n",
    "            imgs = imgs.to(device = device)\n",
    "            labels = labels.to(device= device)\n",
    "            # Training Model\n",
    "            outputs = model(imgs)\n",
    "            #print(f' Outputs : {outputs}') # tensor with 10 elements\n",
    "            #print(f' Labels : {labels}') # tensor that is a number\n",
    "            loss = loss_fn(outputs,labels)\n",
    "            # Update weights\n",
    "            loss.backward()\n",
    "            optimizer.step()\n",
    "            # Training Metrics\n",
    "            loss_train += loss.item()\n",
    "            #print(f' loss: {loss.item()}')\n",
    "            train_predicted = torch.argmax(outputs, 1)\n",
    "            #print(f' train_predicted {train_predicted}')\n",
    "            # NEW\n",
    "            labels = torch.argmax(labels,1)\n",
    "            #print(labels)\n",
    "            train_total += labels.shape[0]\n",
    "            train_correct += int((train_predicted == labels).sum())\n",
    "        # validation metrics from batch\n",
    "        val_correct, val_total, val_loss = validation_loop(model, loss_fn, valid_loader)\n",
    "        val_accuracy = val_correct/val_total\n",
    "        # printing results for epoch\n",
    "        if epoch == 1 or epoch %2 == 0:\n",
    "            print(f' {datetime.datetime.now()} Epoch: {epoch}, Training loss: {loss_train/len(train_loader)}, Validation Loss: {val_loss} ')\n",
    "        # adding epoch loss, accuracy to lists \n",
    "        val_loss_per_epoch.append(val_loss)\n",
    "        train_loss_per_epoch.append(loss_train/len(train_loader))\n",
    "        val_acc_per_epoch.append(val_accuracy)\n",
    "        train_acc_per_epoch.append(train_correct/train_total)\n",
    "    # return lists with loss, accuracy every epoch\n",
    "    return train_loss_per_epoch, train_acc_per_epoch, val_loss_per_epoch, val_acc_per_epoch\n",
    "                                "
   ]
  },
  {
   "cell_type": "code",
   "execution_count": 70,
   "metadata": {},
   "outputs": [
    {
     "data": {
      "text/plain": [
       "\"\\ndef validation_loop05(n_epochs, model, loss_fn, valid_loader):\\n    for epoch in tqdm(range(1, max_epochs +1)):\\n        loss_per_epoch = []\\n        loss_train = 0.0\\n        correct = 0\\n        total = 0\\n        with torch.no_grad():\\n            for imgs, labels in tqdm(valid_loader):\\n                model = model.to(device)\\n                #imgs = imgs.float()\\n                imgs = imgs.to(device = device)\\n               # labels = labels.long()\\n                labels = labels.to(device= device)\\n                outputs = model(imgs)\\n                # print(f' Outputs : {outputs}') # tensor with 10 elements\\n                # print(f' Labels : {labels}') # tensor that is a number\\n                loss = loss_fn(outputs,labels)\\n                loss_train += loss.item()\\n                predicted = torch.argmax(outputs, 1)\\n                #print(predicted)\\n                #print(labels)\\n                total += labels.shape[0]\\n                correct += int((predicted == labels).sum())\\n        if epoch == 1 or epoch %2 == 0:\\n            print('{} Epoch {}, Validation loss {}'.format(\\n                datetime.datetime.now(), epoch,\\n                loss_train / len(valid_loader)))\\n        loss_per_epoch.append(loss_train)\\n    print(f'Correct: {correct}, Total: {total}')\\n\""
      ]
     },
     "execution_count": 70,
     "metadata": {},
     "output_type": "execute_result"
    }
   ],
   "source": [
    "'''\n",
    "def validation_loop05(n_epochs, model, loss_fn, valid_loader):\n",
    "    for epoch in tqdm(range(1, max_epochs +1)):\n",
    "        loss_per_epoch = []\n",
    "        loss_train = 0.0\n",
    "        correct = 0\n",
    "        total = 0\n",
    "        with torch.no_grad():\n",
    "            for imgs, labels in tqdm(valid_loader):\n",
    "                model = model.to(device)\n",
    "                #imgs = imgs.float()\n",
    "                imgs = imgs.to(device = device)\n",
    "               # labels = labels.long()\n",
    "                labels = labels.to(device= device)\n",
    "                outputs = model(imgs)\n",
    "                # print(f' Outputs : {outputs}') # tensor with 10 elements\n",
    "                # print(f' Labels : {labels}') # tensor that is a number\n",
    "                loss = loss_fn(outputs,labels)\n",
    "                loss_train += loss.item()\n",
    "                predicted = torch.argmax(outputs, 1)\n",
    "                #print(predicted)\n",
    "                #print(labels)\n",
    "                total += labels.shape[0]\n",
    "                correct += int((predicted == labels).sum())\n",
    "        if epoch == 1 or epoch %2 == 0:\n",
    "            print('{} Epoch {}, Validation loss {}'.format(\n",
    "                datetime.datetime.now(), epoch,\n",
    "                loss_train / len(valid_loader)))\n",
    "        loss_per_epoch.append(loss_train)\n",
    "    print(f'Correct: {correct}, Total: {total}')\n",
    "'''"
   ]
  },
  {
   "cell_type": "code",
   "execution_count": 71,
   "metadata": {},
   "outputs": [],
   "source": [
    "def validation_loop(model, loss_fn, valid_loader):\n",
    "    '''\n",
    "    Assessing trained model on valiidation dataset \n",
    "    model: deep learning architecture getting updated by model\n",
    "    loss_fn: loss function\n",
    "    valid_loader: generator creating batches of validation data\n",
    "    '''\n",
    "    loss_val = 0.0\n",
    "    correct = 0\n",
    "    total = 0\n",
    "    with torch.no_grad():  # does not keep track of gradients so as to not train on validation data.\n",
    "        for imgs, labels in tqdm_notebook(valid_loader, desc = \"Val Batches w/in Epoch\"):\n",
    "            # Move to device MAY NOT BE NECESSARY\n",
    "            model = model.to(device)\n",
    "            imgs = imgs.to(device = device)\n",
    "            labels = labels.to(device= device)\n",
    "            # Assessing outputs\n",
    "            outputs = model(imgs)\n",
    "            # print(f' Outputs : {outputs}') # tensor with 10 elements\n",
    "            # print(f' Labels : {labels}') # tensor that is a number\n",
    "            loss = loss_fn(outputs,labels)\n",
    "            loss_val += loss.item()\n",
    "            predicted = torch.argmax(outputs, 1)\n",
    "            labels = torch.argmax(labels,1)\n",
    "            #print(predicted)\n",
    "            #print(labels)\n",
    "            total += labels.shape[0]\n",
    "            correct += int((predicted == labels).sum())\n",
    "        avg_val_loss = loss_val/len(valid_loader)  # average loss over batch\n",
    "    return correct, total, avg_val_loss"
   ]
  },
  {
   "cell_type": "code",
   "execution_count": 72,
   "metadata": {},
   "outputs": [
    {
     "data": {
      "text/plain": [
       "'\\ndef validate(model, train_loader, val_loader):\\n    for name, loader in [(\"train\", train_loader), (\"val\", val_loader)]:\\n        correct = 0\\n        total = 0\\n        with torch.no_grad():\\n            for imgs, labels in loader:\\n                model = model.to(device)\\n                #imgs = imgs.float()\\n                imgs = imgs.to(device = device)\\n               # labels = labels.long()\\n                labels = labels.to(device= device)\\n                outputs = model(imgs)\\n                print(f\\' Outputs : {outputs}\\') # tensor with 10 elements\\n                print(f\\' Labels : {labels}\\') # tensor that is a number\\n                #model = model.to(device)\\n                #imgs  = imgs.to(device)\\n                #labels = labels.to(device =device)\\n                #outputs = model(imgs)\\n                print(f\\' output: {outputs}\\')\\n                predicted = torch.argmax(outputs, 1)\\n                print(f\\'predicted: {predicted}\\')\\n                print(f\\'_: {_}\\')\\n                \\n                total += labels.shape[0]\\n                correct += int((predicted == labels).sum())\\n    print(f\\' {name} : Total: {total}, Correct: {correct}\\')\\n'"
      ]
     },
     "execution_count": 72,
     "metadata": {},
     "output_type": "execute_result"
    }
   ],
   "source": [
    "'''\n",
    "def validate(model, train_loader, val_loader):\n",
    "    for name, loader in [(\"train\", train_loader), (\"val\", val_loader)]:\n",
    "        correct = 0\n",
    "        total = 0\n",
    "        with torch.no_grad():\n",
    "            for imgs, labels in loader:\n",
    "                model = model.to(device)\n",
    "                #imgs = imgs.float()\n",
    "                imgs = imgs.to(device = device)\n",
    "               # labels = labels.long()\n",
    "                labels = labels.to(device= device)\n",
    "                outputs = model(imgs)\n",
    "                print(f' Outputs : {outputs}') # tensor with 10 elements\n",
    "                print(f' Labels : {labels}') # tensor that is a number\n",
    "                #model = model.to(device)\n",
    "                #imgs  = imgs.to(device)\n",
    "                #labels = labels.to(device =device)\n",
    "                #outputs = model(imgs)\n",
    "                print(f' output: {outputs}')\n",
    "                predicted = torch.argmax(outputs, 1)\n",
    "                print(f'predicted: {predicted}')\n",
    "                print(f'_: {_}')\n",
    "                \n",
    "                total += labels.shape[0]\n",
    "                correct += int((predicted == labels).sum())\n",
    "    print(f' {name} : Total: {total}, Correct: {correct}')\n",
    "'''      "
   ]
  },
  {
   "cell_type": "code",
   "execution_count": 73,
   "metadata": {},
   "outputs": [
    {
     "data": {
      "application/vnd.jupyter.widget-view+json": {
       "model_id": "6d329b95fb754b4b8d00d1332443bf37",
       "version_major": 2,
       "version_minor": 0
      },
      "text/plain": [
       "Epoch:   0%|          | 0/5 [00:00<?, ?it/s]"
      ]
     },
     "metadata": {},
     "output_type": "display_data"
    },
    {
     "data": {
      "application/vnd.jupyter.widget-view+json": {
       "model_id": "399a7bbbd0b148989e8b176026b3f08e",
       "version_major": 2,
       "version_minor": 0
      },
      "text/plain": [
       "Batches w/in epoch:   0%|          | 0/160 [00:00<?, ?it/s]"
      ]
     },
     "metadata": {},
     "output_type": "display_data"
    },
    {
     "name": "stderr",
     "output_type": "stream",
     "text": [
      "/usr/local/lib/python3.6/dist-packages/ipykernel_launcher.py:20: UserWarning: To copy construct from a tensor, it is recommended to use sourceTensor.clone().detach() or sourceTensor.clone().detach().requires_grad_(True), rather than torch.tensor(sourceTensor).\n",
      "/usr/local/lib/python3.6/dist-packages/ipykernel_launcher.py:20: UserWarning: To copy construct from a tensor, it is recommended to use sourceTensor.clone().detach() or sourceTensor.clone().detach().requires_grad_(True), rather than torch.tensor(sourceTensor).\n",
      "/usr/local/lib/python3.6/dist-packages/ipykernel_launcher.py:20: UserWarning: To copy construct from a tensor, it is recommended to use sourceTensor.clone().detach() or sourceTensor.clone().detach().requires_grad_(True), rather than torch.tensor(sourceTensor).\n",
      "/usr/local/lib/python3.6/dist-packages/ipykernel_launcher.py:20: UserWarning: To copy construct from a tensor, it is recommended to use sourceTensor.clone().detach() or sourceTensor.clone().detach().requires_grad_(True), rather than torch.tensor(sourceTensor).\n"
     ]
    },
    {
     "data": {
      "application/vnd.jupyter.widget-view+json": {
       "model_id": "85f13e9bc7a3425db21f50308e22169d",
       "version_major": 2,
       "version_minor": 0
      },
      "text/plain": [
       "Val Batches w/in Epoch:   0%|          | 0/21 [00:00<?, ?it/s]"
      ]
     },
     "metadata": {},
     "output_type": "display_data"
    },
    {
     "name": "stderr",
     "output_type": "stream",
     "text": [
      "/usr/local/lib/python3.6/dist-packages/ipykernel_launcher.py:20: UserWarning: To copy construct from a tensor, it is recommended to use sourceTensor.clone().detach() or sourceTensor.clone().detach().requires_grad_(True), rather than torch.tensor(sourceTensor).\n",
      "/usr/local/lib/python3.6/dist-packages/ipykernel_launcher.py:20: UserWarning: To copy construct from a tensor, it is recommended to use sourceTensor.clone().detach() or sourceTensor.clone().detach().requires_grad_(True), rather than torch.tensor(sourceTensor).\n",
      "/usr/local/lib/python3.6/dist-packages/ipykernel_launcher.py:20: UserWarning: To copy construct from a tensor, it is recommended to use sourceTensor.clone().detach() or sourceTensor.clone().detach().requires_grad_(True), rather than torch.tensor(sourceTensor).\n",
      "/usr/local/lib/python3.6/dist-packages/ipykernel_launcher.py:20: UserWarning: To copy construct from a tensor, it is recommended to use sourceTensor.clone().detach() or sourceTensor.clone().detach().requires_grad_(True), rather than torch.tensor(sourceTensor).\n"
     ]
    },
    {
     "name": "stdout",
     "output_type": "stream",
     "text": [
      " 2022-12-07 15:02:58.151591 Epoch: 1, Training loss: 0.20535496463999153, Validation Loss: 0.18110765871547518 \n"
     ]
    },
    {
     "data": {
      "application/vnd.jupyter.widget-view+json": {
       "model_id": "3ee74e3d148349dea2fe32dbcc387735",
       "version_major": 2,
       "version_minor": 0
      },
      "text/plain": [
       "Batches w/in epoch:   0%|          | 0/160 [00:00<?, ?it/s]"
      ]
     },
     "metadata": {},
     "output_type": "display_data"
    },
    {
     "name": "stderr",
     "output_type": "stream",
     "text": [
      "/usr/local/lib/python3.6/dist-packages/ipykernel_launcher.py:20: UserWarning: To copy construct from a tensor, it is recommended to use sourceTensor.clone().detach() or sourceTensor.clone().detach().requires_grad_(True), rather than torch.tensor(sourceTensor).\n",
      "/usr/local/lib/python3.6/dist-packages/ipykernel_launcher.py:20: UserWarning: To copy construct from a tensor, it is recommended to use sourceTensor.clone().detach() or sourceTensor.clone().detach().requires_grad_(True), rather than torch.tensor(sourceTensor).\n",
      "/usr/local/lib/python3.6/dist-packages/ipykernel_launcher.py:20: UserWarning: To copy construct from a tensor, it is recommended to use sourceTensor.clone().detach() or sourceTensor.clone().detach().requires_grad_(True), rather than torch.tensor(sourceTensor).\n",
      "/usr/local/lib/python3.6/dist-packages/ipykernel_launcher.py:20: UserWarning: To copy construct from a tensor, it is recommended to use sourceTensor.clone().detach() or sourceTensor.clone().detach().requires_grad_(True), rather than torch.tensor(sourceTensor).\n"
     ]
    },
    {
     "ename": "KeyboardInterrupt",
     "evalue": "",
     "output_type": "error",
     "traceback": [
      "\u001b[0;31m---------------------------------------------------------------------------\u001b[0m",
      "\u001b[0;31mKeyboardInterrupt\u001b[0m                         Traceback (most recent call last)",
      "\u001b[0;32m<ipython-input-73-67d2cc83854f>\u001b[0m in \u001b[0;36m<module>\u001b[0;34m\u001b[0m\n\u001b[1;32m      4\u001b[0m               \u001b[0mloss_fn\u001b[0m \u001b[0;34m=\u001b[0m \u001b[0mloss_function\u001b[0m\u001b[0;34m,\u001b[0m\u001b[0;34m\u001b[0m\u001b[0;34m\u001b[0m\u001b[0m\n\u001b[1;32m      5\u001b[0m               \u001b[0mtrain_loader\u001b[0m\u001b[0;34m=\u001b[0m\u001b[0mtraining_generator\u001b[0m\u001b[0;34m,\u001b[0m\u001b[0;34m\u001b[0m\u001b[0;34m\u001b[0m\u001b[0m\n\u001b[0;32m----> 6\u001b[0;31m               valid_loader=valid_generator)\n\u001b[0m",
      "\u001b[0;32m<ipython-input-69-bbbc01a99749>\u001b[0m in \u001b[0;36mtraining_loop\u001b[0;34m(n_epochs, optimizer, model, loss_fn, train_loader, valid_loader)\u001b[0m\n\u001b[1;32m     30\u001b[0m             \u001b[0mloss\u001b[0m \u001b[0;34m=\u001b[0m \u001b[0mloss_fn\u001b[0m\u001b[0;34m(\u001b[0m\u001b[0moutputs\u001b[0m\u001b[0;34m,\u001b[0m\u001b[0mlabels\u001b[0m\u001b[0;34m)\u001b[0m\u001b[0;34m\u001b[0m\u001b[0;34m\u001b[0m\u001b[0m\n\u001b[1;32m     31\u001b[0m             \u001b[0;31m# Update weights\u001b[0m\u001b[0;34m\u001b[0m\u001b[0;34m\u001b[0m\u001b[0;34m\u001b[0m\u001b[0m\n\u001b[0;32m---> 32\u001b[0;31m             \u001b[0mloss\u001b[0m\u001b[0;34m.\u001b[0m\u001b[0mbackward\u001b[0m\u001b[0;34m(\u001b[0m\u001b[0;34m)\u001b[0m\u001b[0;34m\u001b[0m\u001b[0;34m\u001b[0m\u001b[0m\n\u001b[0m\u001b[1;32m     33\u001b[0m             \u001b[0moptimizer\u001b[0m\u001b[0;34m.\u001b[0m\u001b[0mstep\u001b[0m\u001b[0;34m(\u001b[0m\u001b[0;34m)\u001b[0m\u001b[0;34m\u001b[0m\u001b[0;34m\u001b[0m\u001b[0m\n\u001b[1;32m     34\u001b[0m             \u001b[0;31m# Training Metrics\u001b[0m\u001b[0;34m\u001b[0m\u001b[0;34m\u001b[0m\u001b[0;34m\u001b[0m\u001b[0m\n",
      "\u001b[0;32m~/.local/lib/python3.6/site-packages/torch/_tensor.py\u001b[0m in \u001b[0;36mbackward\u001b[0;34m(self, gradient, retain_graph, create_graph, inputs)\u001b[0m\n\u001b[1;32m    305\u001b[0m                 \u001b[0mcreate_graph\u001b[0m\u001b[0;34m=\u001b[0m\u001b[0mcreate_graph\u001b[0m\u001b[0;34m,\u001b[0m\u001b[0;34m\u001b[0m\u001b[0;34m\u001b[0m\u001b[0m\n\u001b[1;32m    306\u001b[0m                 inputs=inputs)\n\u001b[0;32m--> 307\u001b[0;31m         \u001b[0mtorch\u001b[0m\u001b[0;34m.\u001b[0m\u001b[0mautograd\u001b[0m\u001b[0;34m.\u001b[0m\u001b[0mbackward\u001b[0m\u001b[0;34m(\u001b[0m\u001b[0mself\u001b[0m\u001b[0;34m,\u001b[0m \u001b[0mgradient\u001b[0m\u001b[0;34m,\u001b[0m \u001b[0mretain_graph\u001b[0m\u001b[0;34m,\u001b[0m \u001b[0mcreate_graph\u001b[0m\u001b[0;34m,\u001b[0m \u001b[0minputs\u001b[0m\u001b[0;34m=\u001b[0m\u001b[0minputs\u001b[0m\u001b[0;34m)\u001b[0m\u001b[0;34m\u001b[0m\u001b[0;34m\u001b[0m\u001b[0m\n\u001b[0m\u001b[1;32m    308\u001b[0m \u001b[0;34m\u001b[0m\u001b[0m\n\u001b[1;32m    309\u001b[0m     \u001b[0;32mdef\u001b[0m \u001b[0mregister_hook\u001b[0m\u001b[0;34m(\u001b[0m\u001b[0mself\u001b[0m\u001b[0;34m,\u001b[0m \u001b[0mhook\u001b[0m\u001b[0;34m)\u001b[0m\u001b[0;34m:\u001b[0m\u001b[0;34m\u001b[0m\u001b[0;34m\u001b[0m\u001b[0m\n",
      "\u001b[0;32m~/.local/lib/python3.6/site-packages/torch/autograd/__init__.py\u001b[0m in \u001b[0;36mbackward\u001b[0;34m(tensors, grad_tensors, retain_graph, create_graph, grad_variables, inputs)\u001b[0m\n\u001b[1;32m    154\u001b[0m     Variable._execution_engine.run_backward(\n\u001b[1;32m    155\u001b[0m         \u001b[0mtensors\u001b[0m\u001b[0;34m,\u001b[0m \u001b[0mgrad_tensors_\u001b[0m\u001b[0;34m,\u001b[0m \u001b[0mretain_graph\u001b[0m\u001b[0;34m,\u001b[0m \u001b[0mcreate_graph\u001b[0m\u001b[0;34m,\u001b[0m \u001b[0minputs\u001b[0m\u001b[0;34m,\u001b[0m\u001b[0;34m\u001b[0m\u001b[0;34m\u001b[0m\u001b[0m\n\u001b[0;32m--> 156\u001b[0;31m         allow_unreachable=True, accumulate_grad=True)  # allow_unreachable flag\n\u001b[0m\u001b[1;32m    157\u001b[0m \u001b[0;34m\u001b[0m\u001b[0m\n\u001b[1;32m    158\u001b[0m \u001b[0;34m\u001b[0m\u001b[0m\n",
      "\u001b[0;31mKeyboardInterrupt\u001b[0m: "
     ]
    }
   ],
   "source": [
    "train_loss_per_epoch, train_acc_per_epoch, val_loss_per_epoch, val_acc_per_epoch = training_loop(n_epochs = max_epochs,\n",
    "              optimizer = cnn_optimizer,\n",
    "              model = updated_model,\n",
    "              loss_fn = loss_function,\n",
    "              train_loader=training_generator, \n",
    "              valid_loader=valid_generator)"
   ]
  },
  {
   "cell_type": "code",
   "execution_count": 444,
   "metadata": {},
   "outputs": [
    {
     "name": "stdout",
     "output_type": "stream",
     "text": [
      "[0.2095743198879063, 0.18313645282760263, 0.17217296604067087, 0.16922211716882885, 0.1618149450980127] [0.204445835942392, 0.25610519724483405, 0.2949279899812148, 0.28960551033187226, 0.3256105197244834] [0.19613784409704663, 0.17407426876681192, 0.17648476717017947, 0.1661557782263983, 0.16316401213407516] [0.24574209245742093, 0.26763990267639903, 0.25060827250608275, 0.2773722627737226, 0.34549878345498786]\n"
     ]
    }
   ],
   "source": [
    "print(train_loss_per_epoch, train_acc_per_epoch, val_loss_per_epoch, val_acc_per_epoch)"
   ]
  },
  {
   "cell_type": "code",
   "execution_count": 445,
   "metadata": {},
   "outputs": [
    {
     "data": {
      "text/plain": [
       "'validation_loop(n_epochs = max_epochs,\\n              model = updated_model,\\n              loss_fn = loss_function,\\n              valid_loader=valid_generator)'"
      ]
     },
     "execution_count": 445,
     "metadata": {},
     "output_type": "execute_result"
    }
   ],
   "source": [
    "'''validation_loop(n_epochs = max_epochs,\n",
    "              model = updated_model,\n",
    "              loss_fn = loss_function,\n",
    "              valid_loader=valid_generator)'''"
   ]
  },
  {
   "cell_type": "code",
   "execution_count": 446,
   "metadata": {},
   "outputs": [],
   "source": [
    "def val_vs_train_loss(epochs, train_loss, val_loss):\n",
    "    ''' \n",
    "    Plotting validation versus training loss over time\n",
    "    epochs: number of epochs that the model ran (int. hyperparameter)\n",
    "    train_loss: training loss per epoch (python list)\n",
    "    val_loss: validation loss per epoch (python list)\n",
    "    ''' \n",
    "    plt.figure()\n",
    "    x_axis = list(range(1, epochs +1)) # create x axis with number of\n",
    "    plt.plot(x_axis, train_loss, label = \"train_loss\")\n",
    "    plt.plot(x_axis, val_loss, label = \"val_loss\")\n",
    "    # Figure description\n",
    "    plt.xlabel('# of Epochs')\n",
    "    plt.ylabel('Loss')\n",
    "    plt.title('Validation versus Training Loss: CP Image Model')\n",
    "    plt.legend()\n",
    "    # plot\n",
    "    plt.show()"
   ]
  },
  {
   "cell_type": "code",
   "execution_count": 447,
   "metadata": {},
   "outputs": [],
   "source": [
    "def val_vs_train_accuracy(epochs, train_acc, val_acc):\n",
    "    '''\n",
    "    Plotting validation versus training loss over time\n",
    "    epochs: number of epochs that the model ran (int. hyperparameter)\n",
    "    train_acc: accuracy loss per epoch (python list)\n",
    "    val_acc: accuracy loss per epoch (python list)\n",
    "    '''\n",
    "    plt.figure()\n",
    "    x_axis = list(range(1, epochs +1)) # create x axis with number of\n",
    "    plt.plot(x_axis, train_acc, label = \"train_acc\")\n",
    "    plt.plot(x_axis, val_acc, label = \"val_acc\")\n",
    "    # Figure description\n",
    "    plt.xlabel('# of Epochs')\n",
    "    plt.ylabel('Accuracy')\n",
    "    plt.title('Validation versus Training Accuracy: CP Image Model')\n",
    "    plt.legend()\n",
    "    # plot\n",
    "    plt.show()"
   ]
  },
  {
   "cell_type": "code",
   "execution_count": 448,
   "metadata": {},
   "outputs": [
    {
     "data": {
      "image/png": "[encoded data removed]",
      "text/plain": [
       "<Figure size 432x288 with 1 Axes>"
      ]
     },
     "metadata": {
      "needs_background": "light"
     },
     "output_type": "display_data"
    }
   ],
   "source": [
    "val_vs_train_loss(max_epochs,train_loss_per_epoch, val_loss_per_epoch)"
   ]
  },
  {
   "cell_type": "code",
   "execution_count": 449,
   "metadata": {},
   "outputs": [
    {
     "data": {
      "image/png": "[encoded data removed]",
      "text/plain": [
       "<Figure size 432x288 with 1 Axes>"
      ]
     },
     "metadata": {
      "needs_background": "light"
     },
     "output_type": "display_data"
    }
   ],
   "source": [
    "val_vs_train_accuracy(max_epochs, train_acc_per_epoch, val_acc_per_epoch)"
   ]
  },
  {
   "cell_type": "code",
   "execution_count": 69,
   "metadata": {},
   "outputs": [
    {
     "name": "stdout",
     "output_type": "stream",
     "text": [
      "[1, 2]\n"
     ]
    }
   ],
   "source": [
    "x_axis = list(range(1, max_epochs +1))\n",
    "print(x_axis)"
   ]
  },
  {
   "cell_type": "code",
   "execution_count": null,
   "metadata": {},
   "outputs": [],
   "source": []
  },
  {
   "cell_type": "code",
   "execution_count": null,
   "metadata": {
    "id": "C-FX8pid1h_U"
   },
   "outputs": [],
   "source": [
    "import tensorflow_addons as tfa\n",
    "from tensorflow.keras import layers, models, optimizers, regularizers\n",
    "from keras.layers import Dropout"
   ]
  },
  {
   "cell_type": "code",
   "execution_count": null,
   "metadata": {
    "id": "WbRdHCZx1h_U"
   },
   "outputs": [],
   "source": [
    "# complete the architecture of efficientnet b1\n",
    "drop = 0.30\n",
    "num_classes = len(set(train['classes'].tolist())) \n",
    "x = base_model.output\n",
    "x = Dropout(drop)(x)\n",
    "x = layers.GlobalAveragePooling2D()(x)\n",
    "x = Dropout(drop)(x)\n",
    "preds = layers.Dense(num_classes, activation = 'softmax',                     \n",
    "    kernel_regularizer = regularizers.L1L2(l1 = 1e-4, l2 = 1e-3),\n",
    "    bias_regularizer = regularizers.L2(1e-3),\n",
    "    activity_regularizer = regularizers.L2(1e-4))(x)\n",
    "cnn_model = models.Model(inputs = base_model.input, outputs = preds)"
   ]
  },
  {
   "cell_type": "code",
   "execution_count": null,
   "metadata": {
    "id": "rd4PkWWJ1h_V"
   },
   "outputs": [],
   "source": [
    "# set the optimizer of efficientnet b1    \n",
    "cnn_optimizer = tfa.optimizers.AdamW(weight_decay = 1e-6, learning_rate = 0.001, beta_1 = 0.9,\n",
    "    beta_2 = 0.999, epsilon = 1e-07,)"
   ]
  },
  {
   "cell_type": "code",
   "execution_count": null,
   "metadata": {
    "id": "fLZSv4icG6Qv"
   },
   "outputs": [],
   "source": [
    "# compile the model   \n",
    "cnn_model.compile(optimizer = cnn_optimizer,\n",
    "         loss = tf.keras.losses.SparseCategoricalCrossentropy(from_logits = True),\n",
    "         metrics = ['accuracy'])"
   ]
  },
  {
   "cell_type": "code",
   "execution_count": null,
   "metadata": {
    "id": "U2s1BvcYG--W"
   },
   "outputs": [],
   "source": [
    "# set the class weights \n",
    "from sklearn.utils import class_weight\n",
    "class_weights = class_weight.compute_class_weight(class_weight = 'balanced', \n",
    "         classes = np.unique(train.classes), y = train.classes)   \n",
    "weight_dictionary = dict(zip(np.unique(train.classes), class_weights))"
   ]
  },
  {
   "cell_type": "code",
   "execution_count": null,
   "metadata": {
    "id": "buV4eg24HERe"
   },
   "outputs": [],
   "source": [
    "# set the check point   \n",
    "from keras.callbacks import ModelCheckpoint\n",
    "filepath_cnn = './content/shuffle_5_' + str(base_model.name) + '_weights.hdf5'\n",
    "checkpoint_cnn = ModelCheckpoint(filepath_cnn, monitor = 'val_accuracy', verbose = 0, \n",
    "                  save_best_only = True, mode = 'max')"
   ]
  },
  {
   "cell_type": "code",
   "execution_count": null,
   "metadata": {
    "id": "ecAtvKNaHVec"
   },
   "outputs": [],
   "source": [
    "# train the efficientnet b1\n",
    "from tensorflow.keras.callbacks import EarlyStopping  \n",
    "\n",
    "reduce_lr_loss_cnn = tf.keras.callbacks.ReduceLROnPlateau(monitor = 'val_loss',\n",
    "              factor = 0.5, patience = 9, verbose = 2, min_lr = 1e-7, mode = 'min')\n",
    "\n",
    "history_cnn = cnn_model.fit(train_data, validation_data = valid_data, class_weight = weight_dictionary,\n",
    "               verbose = 2, epochs = 100, callbacks=[reduce_lr_loss_cnn, checkpoint_cnn,])"
   ]
  },
  {
   "cell_type": "code",
   "execution_count": null,
   "metadata": {
    "id": "ATgS1vCJp9ko"
   },
   "outputs": [],
   "source": [
    "# get the best model \n",
    "from keras.models import load_model\n",
    "from sklearn.metrics import classification_report\n",
    "best_cnn_model = load_model() # Path has to be set"
   ]
  },
  {
   "cell_type": "code",
   "execution_count": null,
   "metadata": {
    "id": "lPopQovGLhYp"
   },
   "outputs": [],
   "source": [
    "# evaluate the model   \n",
    "predicted_test = []\n",
    "for i in range(test.shape[0]):    \n",
    "  row = test.iloc[i]\n",
    "\n",
    "  assert row['digit']  not  in train.digit.tolist()\n",
    "  assert row['compound'] not  in train.compound.tolist()\n",
    "  \n",
    "  assert row['digit']   not  in valid.digit.tolist()\n",
    "  assert row['compound']  not  in valid.compound.tolist()\n",
    "\n",
    "  assert row['digit']     in test.digit.tolist()\n",
    "  assert row['compound']    in test.compound.tolist()  \n",
    "\n",
    "  im = all_images[all_data.digit.tolist().index(row['digit'])] \n",
    "  im = valid_transforms(image = im)['image']\n",
    "  im = np.expand_dims(im, 0)\n",
    "  value = best_cnn_model.predict(im).argmax()\n",
    "  \n",
    "  predicted_test.append(value)   \n",
    "  \n",
    "print(classification_report(test.classes.tolist(), predicted_test))    "
   ]
  },
  {
   "cell_type": "code",
   "execution_count": null,
   "metadata": {
    "id": "6Kw9fcxklW2Y"
   },
   "outputs": [],
   "source": [
    "# references \n",
    "# https://www.tensorflow.org/guide/data\n",
    "# https://www.tensorflow.org/api_docs/python/tf/data/Dataset\n",
    "# https://www.tensorflow.org/"
   ]
  }
 ],
 "metadata": {
  "accelerator": "GPU",
  "colab": {
   "collapsed_sections": [],
   "machine_shape": "hm",
   "provenance": []
  },
  "gpuClass": "standard",
  "kernelspec": {
   "display_name": "Python 3",
   "language": "python",
   "name": "python3"
  },
  "language_info": {
   "codemirror_mode": {
    "name": "ipython",
    "version": 3
   },
   "file_extension": ".py",
   "mimetype": "text/x-python",
   "name": "python",
   "nbconvert_exporter": "python",
   "pygments_lexer": "ipython3",
   "version": "3.6.9"
  }
 },
 "nbformat": 4,
 "nbformat_minor": 4
}

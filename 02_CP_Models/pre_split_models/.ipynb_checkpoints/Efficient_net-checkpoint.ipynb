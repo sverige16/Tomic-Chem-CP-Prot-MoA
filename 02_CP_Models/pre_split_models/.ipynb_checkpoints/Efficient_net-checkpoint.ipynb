{
 "cells": [
  {
   "cell_type": "code",
   "execution_count": 2,
   "metadata": {},
   "outputs": [],
   "source": [
    "import pandas as pd\n",
    "import numpy as np"
   ]
  },
  {
   "cell_type": "markdown",
   "metadata": {},
   "source": [
    "# Plan\n",
    "1. Use splitting script to split compounds into test, validation and training data\n",
    "2. Extract the compounds for those and use them to group indices for picture data and chemical structure data\n",
    "3. Take those indices and adjust the EfficientNet and Chemical Structure Torch models \n",
    "4. Evaluate performance"
   ]
  },
  {
   "cell_type": "markdown",
   "metadata": {},
   "source": [
    "# 1"
   ]
  },
  {
   "cell_type": "code",
   "execution_count": 8,
   "metadata": {},
   "outputs": [],
   "source": [
    "# download split data\n",
    "test_data = pd.read_csv('/home/jovyan/Tomics-CP-Chem-MoA/04_Tomics_Models/data_split_csvs/L1000_test_set_cyclo_adr_3w.csv')\n",
    "train_data = pd.read_csv('/home/jovyan/Tomics-CP-Chem-MoA/04_Tomics_Models/data_split_csvs/L1000_training_set_cyclo_adr_3w.csv')\n",
    "valid_data = pd.read_csv('/home/jovyan/Tomics-CP-Chem-MoA/04_Tomics_Models/data_split_csvs/L1000_valid_set_cyclo_adr_3w.csv')"
   ]
  },
  {
   "cell_type": "code",
   "execution_count": 4,
   "metadata": {},
   "outputs": [
    {
     "data": {
      "text/html": [
       "<div>\n",
       "<style scoped>\n",
       "    .dataframe tbody tr th:only-of-type {\n",
       "        vertical-align: middle;\n",
       "    }\n",
       "\n",
       "    .dataframe tbody tr th {\n",
       "        vertical-align: top;\n",
       "    }\n",
       "\n",
       "    .dataframe thead th {\n",
       "        text-align: right;\n",
       "    }\n",
       "</style>\n",
       "<table border=\"1\" class=\"dataframe\">\n",
       "  <thead>\n",
       "    <tr style=\"text-align: right;\">\n",
       "      <th></th>\n",
       "      <th>Compound ID</th>\n",
       "      <th>sig_id</th>\n",
       "      <th>moa</th>\n",
       "    </tr>\n",
       "  </thead>\n",
       "  <tbody>\n",
       "    <tr>\n",
       "      <th>0</th>\n",
       "      <td>CBK290981</td>\n",
       "      <td>LRS001_PHH.MGH_24H:D11</td>\n",
       "      <td>0</td>\n",
       "    </tr>\n",
       "    <tr>\n",
       "      <th>1</th>\n",
       "      <td>CBK290981</td>\n",
       "      <td>LRS001_PHH.MGH_24H:D12</td>\n",
       "      <td>0</td>\n",
       "    </tr>\n",
       "    <tr>\n",
       "      <th>2</th>\n",
       "      <td>CBK290981</td>\n",
       "      <td>LRS001_PHH.MGH_24H:D10</td>\n",
       "      <td>0</td>\n",
       "    </tr>\n",
       "    <tr>\n",
       "      <th>3</th>\n",
       "      <td>CBK290981</td>\n",
       "      <td>CPC006_RMUGS_6H:H02</td>\n",
       "      <td>0</td>\n",
       "    </tr>\n",
       "    <tr>\n",
       "      <th>4</th>\n",
       "      <td>CBK290981</td>\n",
       "      <td>CPC006_SW620_6H:H02</td>\n",
       "      <td>0</td>\n",
       "    </tr>\n",
       "  </tbody>\n",
       "</table>\n",
       "</div>"
      ],
      "text/plain": [
       "  Compound ID                  sig_id  moa\n",
       "0   CBK290981  LRS001_PHH.MGH_24H:D11    0\n",
       "1   CBK290981  LRS001_PHH.MGH_24H:D12    0\n",
       "2   CBK290981  LRS001_PHH.MGH_24H:D10    0\n",
       "3   CBK290981     CPC006_RMUGS_6H:H02    0\n",
       "4   CBK290981     CPC006_SW620_6H:H02    0"
      ]
     },
     "execution_count": 4,
     "metadata": {},
     "output_type": "execute_result"
    }
   ],
   "source": [
    "# check if it seems reasonable\n",
    "test_data.head()"
   ]
  },
  {
   "cell_type": "markdown",
   "metadata": {},
   "source": [
    "# 2"
   ]
  },
  {
   "cell_type": "code",
   "execution_count": 11,
   "metadata": {},
   "outputs": [],
   "source": [
    "# extract compound IDs\n",
    "test_data_lst= list(test_data[\"Compound ID\"].unique())\n",
    "train_data_lst= list(train_data[\"Compound ID\"].unique())\n",
    "valid_data_lst= list(valid_data[\"Compound ID\"].unique())"
   ]
  },
  {
   "cell_type": "code",
   "execution_count": 14,
   "metadata": {},
   "outputs": [
    {
     "name": "stdout",
     "output_type": "stream",
     "text": [
      "['CBK041553', 'CBK011699', 'CBK041670', 'CBK290960', 'CBK200996', 'CBK013361', 'CBK011558', 'CBK011672', 'CBK011684', 'CBK016153', 'CBK018231', 'CBK041382', 'CBK041407', 'CBK041439', 'CBK041537', 'CBK041555', 'CBK041694', 'CBK041793', 'CBK041905', 'CBK041987', 'CBK042102', 'CBK200528', 'CBK200564', 'CBK200655', 'CBK200972', 'CBK201004', 'CBK289925', 'CBK290002', 'CBK290013', 'CBK290208', 'CBK290222', 'CBK307870', 'CBK042135', 'CBK023992', 'CBK011696', 'CBK308569', 'CBK041403', 'CBK200526', 'CBK200900', 'CBK201000', 'CBK200706', 'CBK041550', 'CBK041660', 'CBK041070', 'CBK041548', 'CBK200730', 'CBK290018', 'CBK200956']\n"
     ]
    }
   ],
   "source": [
    "# check if works\n",
    "print(train_data_lst)"
   ]
  },
  {
   "cell_type": "code",
   "execution_count": null,
   "metadata": {},
   "outputs": [],
   "source": []
  },
  {
   "cell_type": "code",
   "execution_count": 15,
   "metadata": {},
   "outputs": [],
   "source": [
    "all_data = pd.read_csv('/home/jovyan/Tomics-CP-Chem-MoA/data_for_models/all_data.csv')"
   ]
  },
  {
   "cell_type": "code",
   "execution_count": 23,
   "metadata": {},
   "outputs": [
    {
     "data": {
      "text/html": [
       "<div>\n",
       "<style scoped>\n",
       "    .dataframe tbody tr th:only-of-type {\n",
       "        vertical-align: middle;\n",
       "    }\n",
       "\n",
       "    .dataframe tbody tr th {\n",
       "        vertical-align: top;\n",
       "    }\n",
       "\n",
       "    .dataframe thead th {\n",
       "        text-align: right;\n",
       "    }\n",
       "</style>\n",
       "<table border=\"1\" class=\"dataframe\">\n",
       "  <thead>\n",
       "    <tr style=\"text-align: right;\">\n",
       "      <th></th>\n",
       "      <th>Unnamed: 0</th>\n",
       "      <th>plate</th>\n",
       "      <th>well</th>\n",
       "      <th>compound</th>\n",
       "      <th>path</th>\n",
       "      <th>C1</th>\n",
       "      <th>C2</th>\n",
       "      <th>C3</th>\n",
       "      <th>C4</th>\n",
       "      <th>C5</th>\n",
       "      <th>moa</th>\n",
       "      <th>digit</th>\n",
       "      <th>classes</th>\n",
       "    </tr>\n",
       "  </thead>\n",
       "  <tbody>\n",
       "    <tr>\n",
       "      <th>0</th>\n",
       "      <td>497</td>\n",
       "      <td>P015085</td>\n",
       "      <td>B22</td>\n",
       "      <td>CBK290770</td>\n",
       "      <td>/mnt/micro-images-pvc/specs935-v1/specs935-v1-...</td>\n",
       "      <td>specs935-v1-FA-P015085-U2OS-48h-P5-L2-test_B22...</td>\n",
       "      <td>specs935-v1-FA-P015085-U2OS-48h-P5-L2-test_B22...</td>\n",
       "      <td>specs935-v1-FA-P015085-U2OS-48h-P5-L2-test_B22...</td>\n",
       "      <td>specs935-v1-FA-P015085-U2OS-48h-P5-L2-test_B22...</td>\n",
       "      <td>specs935-v1-FA-P015085-U2OS-48h-P5-L2-test_B22...</td>\n",
       "      <td>Aurora kinase inhibitor</td>\n",
       "      <td>9299</td>\n",
       "      <td>0</td>\n",
       "    </tr>\n",
       "    <tr>\n",
       "      <th>1</th>\n",
       "      <td>8157</td>\n",
       "      <td>P015099</td>\n",
       "      <td>I03</td>\n",
       "      <td>CBK309655</td>\n",
       "      <td>/mnt/micro-images-pvc/specs935-v1/specs935-v1-...</td>\n",
       "      <td>specs935-v1-FA-P015099-U2OS-48h-P12-L2_I03_s4_...</td>\n",
       "      <td>specs935-v1-FA-P015099-U2OS-48h-P12-L2_I03_s4_...</td>\n",
       "      <td>specs935-v1-FA-P015099-U2OS-48h-P12-L2_I03_s4_...</td>\n",
       "      <td>specs935-v1-FA-P015099-U2OS-48h-P12-L2_I03_s4_...</td>\n",
       "      <td>specs935-v1-FA-P015099-U2OS-48h-P12-L2_I03_s4_...</td>\n",
       "      <td>topoisomerase inhibitor</td>\n",
       "      <td>8157</td>\n",
       "      <td>5</td>\n",
       "    </tr>\n",
       "    <tr>\n",
       "      <th>2</th>\n",
       "      <td>8148</td>\n",
       "      <td>P015099</td>\n",
       "      <td>H21</td>\n",
       "      <td>CBK309040</td>\n",
       "      <td>/mnt/micro-images-pvc/specs935-v1/specs935-v1-...</td>\n",
       "      <td>specs935-v1-FA-P015099-U2OS-48h-P12-L2_H21_s4_...</td>\n",
       "      <td>specs935-v1-FA-P015099-U2OS-48h-P12-L2_H21_s4_...</td>\n",
       "      <td>specs935-v1-FA-P015099-U2OS-48h-P12-L2_H21_s4_...</td>\n",
       "      <td>specs935-v1-FA-P015099-U2OS-48h-P12-L2_H21_s4_...</td>\n",
       "      <td>specs935-v1-FA-P015099-U2OS-48h-P12-L2_H21_s4_...</td>\n",
       "      <td>topoisomerase inhibitor</td>\n",
       "      <td>8148</td>\n",
       "      <td>5</td>\n",
       "    </tr>\n",
       "    <tr>\n",
       "      <th>3</th>\n",
       "      <td>3471</td>\n",
       "      <td>P015099</td>\n",
       "      <td>F20</td>\n",
       "      <td>CBK200898</td>\n",
       "      <td>/mnt/micro-images-pvc/specs935-v1/specs935-v1-...</td>\n",
       "      <td>specs935-v1-FA-P015099-U2OS-48h-P12-L2_F20_s7_...</td>\n",
       "      <td>specs935-v1-FA-P015099-U2OS-48h-P12-L2_F20_s7_...</td>\n",
       "      <td>specs935-v1-FA-P015099-U2OS-48h-P12-L2_F20_s7_...</td>\n",
       "      <td>specs935-v1-FA-P015099-U2OS-48h-P12-L2_F20_s7_...</td>\n",
       "      <td>specs935-v1-FA-P015099-U2OS-48h-P12-L2_F20_s7_...</td>\n",
       "      <td>tubulin polymerization inhibitor</td>\n",
       "      <td>12273</td>\n",
       "      <td>1</td>\n",
       "    </tr>\n",
       "    <tr>\n",
       "      <th>4</th>\n",
       "      <td>8409</td>\n",
       "      <td>P015099</td>\n",
       "      <td>L04</td>\n",
       "      <td>CBK309538</td>\n",
       "      <td>/mnt/micro-images-pvc/specs935-v1/specs935-v1-...</td>\n",
       "      <td>specs935-v1-FA-P015099-U2OS-48h-P12-L2_L04_s4_...</td>\n",
       "      <td>specs935-v1-FA-P015099-U2OS-48h-P12-L2_L04_s4_...</td>\n",
       "      <td>specs935-v1-FA-P015099-U2OS-48h-P12-L2_L04_s4_...</td>\n",
       "      <td>specs935-v1-FA-P015099-U2OS-48h-P12-L2_L04_s4_...</td>\n",
       "      <td>specs935-v1-FA-P015099-U2OS-48h-P12-L2_L04_s4_...</td>\n",
       "      <td>protein synthesis inhibitor</td>\n",
       "      <td>8409</td>\n",
       "      <td>3</td>\n",
       "    </tr>\n",
       "  </tbody>\n",
       "</table>\n",
       "</div>"
      ],
      "text/plain": [
       "   Unnamed: 0    plate well   compound  \\\n",
       "0         497  P015085  B22  CBK290770   \n",
       "1        8157  P015099  I03  CBK309655   \n",
       "2        8148  P015099  H21  CBK309040   \n",
       "3        3471  P015099  F20  CBK200898   \n",
       "4        8409  P015099  L04  CBK309538   \n",
       "\n",
       "                                                path  \\\n",
       "0  /mnt/micro-images-pvc/specs935-v1/specs935-v1-...   \n",
       "1  /mnt/micro-images-pvc/specs935-v1/specs935-v1-...   \n",
       "2  /mnt/micro-images-pvc/specs935-v1/specs935-v1-...   \n",
       "3  /mnt/micro-images-pvc/specs935-v1/specs935-v1-...   \n",
       "4  /mnt/micro-images-pvc/specs935-v1/specs935-v1-...   \n",
       "\n",
       "                                                  C1  \\\n",
       "0  specs935-v1-FA-P015085-U2OS-48h-P5-L2-test_B22...   \n",
       "1  specs935-v1-FA-P015099-U2OS-48h-P12-L2_I03_s4_...   \n",
       "2  specs935-v1-FA-P015099-U2OS-48h-P12-L2_H21_s4_...   \n",
       "3  specs935-v1-FA-P015099-U2OS-48h-P12-L2_F20_s7_...   \n",
       "4  specs935-v1-FA-P015099-U2OS-48h-P12-L2_L04_s4_...   \n",
       "\n",
       "                                                  C2  \\\n",
       "0  specs935-v1-FA-P015085-U2OS-48h-P5-L2-test_B22...   \n",
       "1  specs935-v1-FA-P015099-U2OS-48h-P12-L2_I03_s4_...   \n",
       "2  specs935-v1-FA-P015099-U2OS-48h-P12-L2_H21_s4_...   \n",
       "3  specs935-v1-FA-P015099-U2OS-48h-P12-L2_F20_s7_...   \n",
       "4  specs935-v1-FA-P015099-U2OS-48h-P12-L2_L04_s4_...   \n",
       "\n",
       "                                                  C3  \\\n",
       "0  specs935-v1-FA-P015085-U2OS-48h-P5-L2-test_B22...   \n",
       "1  specs935-v1-FA-P015099-U2OS-48h-P12-L2_I03_s4_...   \n",
       "2  specs935-v1-FA-P015099-U2OS-48h-P12-L2_H21_s4_...   \n",
       "3  specs935-v1-FA-P015099-U2OS-48h-P12-L2_F20_s7_...   \n",
       "4  specs935-v1-FA-P015099-U2OS-48h-P12-L2_L04_s4_...   \n",
       "\n",
       "                                                  C4  \\\n",
       "0  specs935-v1-FA-P015085-U2OS-48h-P5-L2-test_B22...   \n",
       "1  specs935-v1-FA-P015099-U2OS-48h-P12-L2_I03_s4_...   \n",
       "2  specs935-v1-FA-P015099-U2OS-48h-P12-L2_H21_s4_...   \n",
       "3  specs935-v1-FA-P015099-U2OS-48h-P12-L2_F20_s7_...   \n",
       "4  specs935-v1-FA-P015099-U2OS-48h-P12-L2_L04_s4_...   \n",
       "\n",
       "                                                  C5  \\\n",
       "0  specs935-v1-FA-P015085-U2OS-48h-P5-L2-test_B22...   \n",
       "1  specs935-v1-FA-P015099-U2OS-48h-P12-L2_I03_s4_...   \n",
       "2  specs935-v1-FA-P015099-U2OS-48h-P12-L2_H21_s4_...   \n",
       "3  specs935-v1-FA-P015099-U2OS-48h-P12-L2_F20_s7_...   \n",
       "4  specs935-v1-FA-P015099-U2OS-48h-P12-L2_L04_s4_...   \n",
       "\n",
       "                                moa  digit  classes  \n",
       "0           Aurora kinase inhibitor   9299        0  \n",
       "1           topoisomerase inhibitor   8157        5  \n",
       "2           topoisomerase inhibitor   8148        5  \n",
       "3  tubulin polymerization inhibitor  12273        1  \n",
       "4       protein synthesis inhibitor   8409        3  "
      ]
     },
     "execution_count": 23,
     "metadata": {},
     "output_type": "execute_result"
    }
   ],
   "source": [
    "all_data.head()"
   ]
  },
  {
   "cell_type": "code",
   "execution_count": null,
   "metadata": {},
   "outputs": [],
   "source": []
  },
  {
   "cell_type": "code",
   "execution_count": 16,
   "metadata": {},
   "outputs": [],
   "source": [
    "train_f = all_data[all_data['compound'].isin(train_data_lst)]\n",
    "valid_f = all_data[all_data['compound'].isin(valid_data_lst)]\n",
    "test_f  = all_data[all_data['compound'].isin(test_data_lst)]"
   ]
  },
  {
   "cell_type": "code",
   "execution_count": 17,
   "metadata": {},
   "outputs": [
    {
     "data": {
      "text/html": [
       "<div>\n",
       "<style scoped>\n",
       "    .dataframe tbody tr th:only-of-type {\n",
       "        vertical-align: middle;\n",
       "    }\n",
       "\n",
       "    .dataframe tbody tr th {\n",
       "        vertical-align: top;\n",
       "    }\n",
       "\n",
       "    .dataframe thead th {\n",
       "        text-align: right;\n",
       "    }\n",
       "</style>\n",
       "<table border=\"1\" class=\"dataframe\">\n",
       "  <thead>\n",
       "    <tr style=\"text-align: right;\">\n",
       "      <th></th>\n",
       "      <th>Unnamed: 0</th>\n",
       "      <th>plate</th>\n",
       "      <th>well</th>\n",
       "      <th>compound</th>\n",
       "      <th>path</th>\n",
       "      <th>C1</th>\n",
       "      <th>C2</th>\n",
       "      <th>C3</th>\n",
       "      <th>C4</th>\n",
       "      <th>C5</th>\n",
       "      <th>moa</th>\n",
       "      <th>digit</th>\n",
       "      <th>classes</th>\n",
       "    </tr>\n",
       "  </thead>\n",
       "  <tbody>\n",
       "  </tbody>\n",
       "</table>\n",
       "</div>"
      ],
      "text/plain": [
       "Empty DataFrame\n",
       "Columns: [Unnamed: 0, plate, well, compound, path, C1, C2, C3, C4, C5, moa, digit, classes]\n",
       "Index: []"
      ]
     },
     "execution_count": 17,
     "metadata": {},
     "output_type": "execute_result"
    }
   ],
   "source": [
    "train_f.head()"
   ]
  },
  {
   "cell_type": "code",
   "execution_count": 22,
   "metadata": {},
   "outputs": [
    {
     "data": {
      "text/html": [
       "<div>\n",
       "<style scoped>\n",
       "    .dataframe tbody tr th:only-of-type {\n",
       "        vertical-align: middle;\n",
       "    }\n",
       "\n",
       "    .dataframe tbody tr th {\n",
       "        vertical-align: top;\n",
       "    }\n",
       "\n",
       "    .dataframe thead th {\n",
       "        text-align: right;\n",
       "    }\n",
       "</style>\n",
       "<table border=\"1\" class=\"dataframe\">\n",
       "  <thead>\n",
       "    <tr style=\"text-align: right;\">\n",
       "      <th></th>\n",
       "      <th>Unnamed: 0</th>\n",
       "      <th>plate</th>\n",
       "      <th>well</th>\n",
       "      <th>compound</th>\n",
       "      <th>path</th>\n",
       "      <th>C1</th>\n",
       "      <th>C2</th>\n",
       "      <th>C3</th>\n",
       "      <th>C4</th>\n",
       "      <th>C5</th>\n",
       "      <th>moa</th>\n",
       "      <th>digit</th>\n",
       "      <th>classes</th>\n",
       "    </tr>\n",
       "  </thead>\n",
       "  <tbody>\n",
       "  </tbody>\n",
       "</table>\n",
       "</div>"
      ],
      "text/plain": [
       "Empty DataFrame\n",
       "Columns: [Unnamed: 0, plate, well, compound, path, C1, C2, C3, C4, C5, moa, digit, classes]\n",
       "Index: []"
      ]
     },
     "execution_count": 22,
     "metadata": {},
     "output_type": "execute_result"
    }
   ],
   "source": [
    "valid_f"
   ]
  },
  {
   "cell_type": "code",
   "execution_count": 20,
   "metadata": {},
   "outputs": [],
   "source": [
    "bro = all_data[all_data['compound'].isin(['CBK041553'])]"
   ]
  },
  {
   "cell_type": "code",
   "execution_count": null,
   "metadata": {},
   "outputs": [],
   "source": []
  },
  {
   "cell_type": "code",
   "execution_count": 21,
   "metadata": {},
   "outputs": [
    {
     "data": {
      "text/html": [
       "<div>\n",
       "<style scoped>\n",
       "    .dataframe tbody tr th:only-of-type {\n",
       "        vertical-align: middle;\n",
       "    }\n",
       "\n",
       "    .dataframe tbody tr th {\n",
       "        vertical-align: top;\n",
       "    }\n",
       "\n",
       "    .dataframe thead th {\n",
       "        text-align: right;\n",
       "    }\n",
       "</style>\n",
       "<table border=\"1\" class=\"dataframe\">\n",
       "  <thead>\n",
       "    <tr style=\"text-align: right;\">\n",
       "      <th></th>\n",
       "      <th>Unnamed: 0</th>\n",
       "      <th>plate</th>\n",
       "      <th>well</th>\n",
       "      <th>compound</th>\n",
       "      <th>path</th>\n",
       "      <th>C1</th>\n",
       "      <th>C2</th>\n",
       "      <th>C3</th>\n",
       "      <th>C4</th>\n",
       "      <th>C5</th>\n",
       "      <th>moa</th>\n",
       "      <th>digit</th>\n",
       "      <th>classes</th>\n",
       "    </tr>\n",
       "  </thead>\n",
       "  <tbody>\n",
       "  </tbody>\n",
       "</table>\n",
       "</div>"
      ],
      "text/plain": [
       "Empty DataFrame\n",
       "Columns: [Unnamed: 0, plate, well, compound, path, C1, C2, C3, C4, C5, moa, digit, classes]\n",
       "Index: []"
      ]
     },
     "execution_count": 21,
     "metadata": {},
     "output_type": "execute_result"
    }
   ],
   "source": [
    "bro"
   ]
  },
  {
   "cell_type": "code",
   "execution_count": null,
   "metadata": {},
   "outputs": [],
   "source": []
  }
 ],
 "metadata": {
  "accelerator": "GPU",
  "colab": {
   "collapsed_sections": [],
   "machine_shape": "hm",
   "provenance": []
  },
  "gpuClass": "standard",
  "kernelspec": {
   "display_name": "Python 3",
   "language": "python",
   "name": "python3"
  },
  "language_info": {
   "codemirror_mode": {
    "name": "ipython",
    "version": 3
   },
   "file_extension": ".py",
   "mimetype": "text/x-python",
   "name": "python",
   "nbconvert_exporter": "python",
   "pygments_lexer": "ipython3",
   "version": "3.6.9"
  }
 },
 "nbformat": 4,
 "nbformat_minor": 4
}

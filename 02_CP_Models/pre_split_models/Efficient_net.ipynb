{
 "cells": [
  {
   "cell_type": "code",
   "execution_count": 1,
   "metadata": {},
   "outputs": [],
   "source": [
    "import pandas as pd\n",
    "import numpy as np"
   ]
  },
  {
   "cell_type": "code",
   "execution_count": 2,
   "metadata": {},
   "outputs": [],
   "source": [
    "# download\n",
    "pd_image_norm = pd.read_csv('/home/jovyan/Tomics-CP-Chem-MoA/data_for_models/paths_to_channels_creation/dmso_stats_v1v2.csv')"
   ]
  },
  {
   "cell_type": "code",
   "execution_count": 44,
   "metadata": {},
   "outputs": [
    {
     "data": {
      "text/plain": [
       "array([[4.9e-324, 9.9e-324, 1.5e-323, 2.0e-323, 2.5e-323]])"
      ]
     },
     "execution_count": 44,
     "metadata": {},
     "output_type": "execute_result"
    }
   ],
   "source": [
    "np.empty(shape = (1, 5))"
   ]
  },
  {
   "cell_type": "code",
   "execution_count": 3,
   "metadata": {},
   "outputs": [
    {
     "data": {
      "text/html": [
       "<div>\n",
       "<style scoped>\n",
       "    .dataframe tbody tr th:only-of-type {\n",
       "        vertical-align: middle;\n",
       "    }\n",
       "\n",
       "    .dataframe tbody tr th {\n",
       "        vertical-align: top;\n",
       "    }\n",
       "\n",
       "    .dataframe thead th {\n",
       "        text-align: right;\n",
       "    }\n",
       "</style>\n",
       "<table border=\"1\" class=\"dataframe\">\n",
       "  <thead>\n",
       "    <tr style=\"text-align: right;\">\n",
       "      <th></th>\n",
       "      <th>Unnamed: 0</th>\n",
       "      <th>P015076</th>\n",
       "      <th>P015076.1</th>\n",
       "      <th>P015076.2</th>\n",
       "      <th>P015076.3</th>\n",
       "      <th>P015076.4</th>\n",
       "      <th>P015077</th>\n",
       "      <th>P015077.1</th>\n",
       "      <th>P015077.2</th>\n",
       "      <th>P015077.3</th>\n",
       "      <th>...</th>\n",
       "      <th>P101032</th>\n",
       "      <th>P101032.1</th>\n",
       "      <th>P101032.2</th>\n",
       "      <th>P101032.3</th>\n",
       "      <th>P101032.4</th>\n",
       "      <th>P101033</th>\n",
       "      <th>P101033.1</th>\n",
       "      <th>P101033.2</th>\n",
       "      <th>P101033.3</th>\n",
       "      <th>P101033.4</th>\n",
       "    </tr>\n",
       "  </thead>\n",
       "  <tbody>\n",
       "    <tr>\n",
       "      <th>0</th>\n",
       "      <td>NaN</td>\n",
       "      <td>C1</td>\n",
       "      <td>C2</td>\n",
       "      <td>C3</td>\n",
       "      <td>C4</td>\n",
       "      <td>C5</td>\n",
       "      <td>C1</td>\n",
       "      <td>C2</td>\n",
       "      <td>C3</td>\n",
       "      <td>C4</td>\n",
       "      <td>...</td>\n",
       "      <td>C1</td>\n",
       "      <td>C2</td>\n",
       "      <td>C3</td>\n",
       "      <td>C4</td>\n",
       "      <td>C5</td>\n",
       "      <td>C1</td>\n",
       "      <td>C2</td>\n",
       "      <td>C3</td>\n",
       "      <td>C4</td>\n",
       "      <td>C5</td>\n",
       "    </tr>\n",
       "    <tr>\n",
       "      <th>1</th>\n",
       "      <td>m</td>\n",
       "      <td>298.56553513638613</td>\n",
       "      <td>1182.599314422301</td>\n",
       "      <td>1740.3659357495999</td>\n",
       "      <td>1364.0816585652478</td>\n",
       "      <td>682.3957518471755</td>\n",
       "      <td>333.64529227135034</td>\n",
       "      <td>1350.6730676892814</td>\n",
       "      <td>2163.296099828229</td>\n",
       "      <td>1633.245623894769</td>\n",
       "      <td>...</td>\n",
       "      <td>768.9873166047475</td>\n",
       "      <td>939.7879726593701</td>\n",
       "      <td>2398.1907485384286</td>\n",
       "      <td>1741.027277214412</td>\n",
       "      <td>2286.808505239005</td>\n",
       "      <td>857.7293221922147</td>\n",
       "      <td>1140.2277511119682</td>\n",
       "      <td>2201.8708363130613</td>\n",
       "      <td>1827.0072842805962</td>\n",
       "      <td>2341.0384757127335</td>\n",
       "    </tr>\n",
       "    <tr>\n",
       "      <th>2</th>\n",
       "      <td>std</td>\n",
       "      <td>280.17719870419074</td>\n",
       "      <td>1628.216043824049</td>\n",
       "      <td>846.2971853421564</td>\n",
       "      <td>1029.1825133612128</td>\n",
       "      <td>704.7482234564715</td>\n",
       "      <td>339.08582350494197</td>\n",
       "      <td>1606.9584977581317</td>\n",
       "      <td>1011.646483085695</td>\n",
       "      <td>1160.5192705314935</td>\n",
       "      <td>...</td>\n",
       "      <td>1345.487814435877</td>\n",
       "      <td>1080.628213403506</td>\n",
       "      <td>1735.0736625552915</td>\n",
       "      <td>2178.6846020690264</td>\n",
       "      <td>1496.4279014680417</td>\n",
       "      <td>1353.2188428308662</td>\n",
       "      <td>1246.2801113854985</td>\n",
       "      <td>1516.8765772351915</td>\n",
       "      <td>1987.989843616199</td>\n",
       "      <td>1461.345761315124</td>\n",
       "    </tr>\n",
       "  </tbody>\n",
       "</table>\n",
       "<p>3 rows × 271 columns</p>\n",
       "</div>"
      ],
      "text/plain": [
       "  Unnamed: 0             P015076          P015076.1           P015076.2  \\\n",
       "0        NaN                  C1                 C2                  C3   \n",
       "1          m  298.56553513638613  1182.599314422301  1740.3659357495999   \n",
       "2        std  280.17719870419074  1628.216043824049   846.2971853421564   \n",
       "\n",
       "            P015076.3          P015076.4             P015077  \\\n",
       "0                  C4                 C5                  C1   \n",
       "1  1364.0816585652478  682.3957518471755  333.64529227135034   \n",
       "2  1029.1825133612128  704.7482234564715  339.08582350494197   \n",
       "\n",
       "            P015077.1          P015077.2           P015077.3  ...  \\\n",
       "0                  C2                 C3                  C4  ...   \n",
       "1  1350.6730676892814  2163.296099828229   1633.245623894769  ...   \n",
       "2  1606.9584977581317  1011.646483085695  1160.5192705314935  ...   \n",
       "\n",
       "             P101032          P101032.1           P101032.2  \\\n",
       "0                 C1                 C2                  C3   \n",
       "1  768.9873166047475  939.7879726593701  2398.1907485384286   \n",
       "2  1345.487814435877  1080.628213403506  1735.0736625552915   \n",
       "\n",
       "            P101032.3           P101032.4             P101033  \\\n",
       "0                  C4                  C5                  C1   \n",
       "1   1741.027277214412   2286.808505239005   857.7293221922147   \n",
       "2  2178.6846020690264  1496.4279014680417  1353.2188428308662   \n",
       "\n",
       "            P101033.1           P101033.2           P101033.3  \\\n",
       "0                  C2                  C3                  C4   \n",
       "1  1140.2277511119682  2201.8708363130613  1827.0072842805962   \n",
       "2  1246.2801113854985  1516.8765772351915   1987.989843616199   \n",
       "\n",
       "            P101033.4  \n",
       "0                  C5  \n",
       "1  2341.0384757127335  \n",
       "2   1461.345761315124  \n",
       "\n",
       "[3 rows x 271 columns]"
      ]
     },
     "execution_count": 3,
     "metadata": {},
     "output_type": "execute_result"
    }
   ],
   "source": [
    "# assess\n",
    "pd_image_norm.head(3)"
   ]
  },
  {
   "cell_type": "code",
   "execution_count": 28,
   "metadata": {},
   "outputs": [],
   "source": [
    "plate = 'P015076'\n",
    "channel = \"C2\""
   ]
  },
  {
   "cell_type": "code",
   "execution_count": 29,
   "metadata": {},
   "outputs": [],
   "source": [
    "if channel == \"C1\":\n",
    "    extract = plate\n",
    "elif channel == \"C2\":\n",
    "    extract = plate + '.1'\n",
    "elif channel == \"C3\":\n",
    "    extract = plate + '.2'\n",
    "elif channel == \"C4\":\n",
    "    extract = plate + '.3'\n",
    "else:\n",
    "    extract = plate + '.4'"
   ]
  },
  {
   "cell_type": "code",
   "execution_count": 30,
   "metadata": {},
   "outputs": [
    {
     "data": {
      "text/plain": [
       "'P015076.1'"
      ]
     },
     "execution_count": 30,
     "metadata": {},
     "output_type": "execute_result"
    }
   ],
   "source": [
    "extract"
   ]
  },
  {
   "cell_type": "code",
   "execution_count": 33,
   "metadata": {},
   "outputs": [],
   "source": [
    "ans = pd_image_norm[extract]"
   ]
  },
  {
   "cell_type": "code",
   "execution_count": 34,
   "metadata": {},
   "outputs": [
    {
     "data": {
      "text/plain": [
       "0                   C2\n",
       "1    1182.599314422301\n",
       "2    1628.216043824049\n",
       "Name: P015076.1, dtype: object"
      ]
     },
     "execution_count": 34,
     "metadata": {},
     "output_type": "execute_result"
    }
   ],
   "source": [
    "ans"
   ]
  },
  {
   "cell_type": "code",
   "execution_count": 40,
   "metadata": {},
   "outputs": [],
   "source": [
    "mean = float(ans.iloc[1])"
   ]
  },
  {
   "cell_type": "code",
   "execution_count": 41,
   "metadata": {},
   "outputs": [
    {
     "data": {
      "text/plain": [
       "1182.599314422301"
      ]
     },
     "execution_count": 41,
     "metadata": {},
     "output_type": "execute_result"
    }
   ],
   "source": [
    "mean"
   ]
  },
  {
   "cell_type": "markdown",
   "metadata": {},
   "source": [
    "# Plan\n",
    "1. Use splitting script to split compounds into test, validation and training data\n",
    "2. Extract the compounds for those and use them to group indices for picture data and chemical structure data\n",
    "3. Take those indices and adjust the EfficientNet and Chemical Structure Torch models \n",
    "4. Evaluate performance"
   ]
  },
  {
   "cell_type": "markdown",
   "metadata": {},
   "source": [
    "# 1"
   ]
  },
  {
   "cell_type": "code",
   "execution_count": 5,
   "metadata": {},
   "outputs": [],
   "source": [
    "paths_v1v2 = pd.read_csv('/home/jovyan/Tomics-CP-Chem-MoA/data_for_models/paths_to_channels_creation/paths_channels_treated_v1v2.csv')"
   ]
  },
  {
   "cell_type": "code",
   "execution_count": 16,
   "metadata": {},
   "outputs": [
    {
     "data": {
      "text/plain": [
       "Index(['Unnamed: 0', 'plate', 'well', 'compound', 'C1', 'C2', 'C3', 'C4', 'C5',\n",
       "       'moa'],\n",
       "      dtype='object')"
      ]
     },
     "execution_count": 16,
     "metadata": {},
     "output_type": "execute_result"
    }
   ],
   "source": [
    "paths_v1v2.columns"
   ]
  },
  {
   "cell_type": "code",
   "execution_count": 21,
   "metadata": {},
   "outputs": [],
   "source": [
    "# testing using pandas dataframe\n",
    "training_set = pd.read_csv('/home/jovyan/Tomics-CP-Chem-MoA/data_for_models/CS_data_splits/CS_training_set_cyclo_adr_2.csv')\n",
    "validation_set = pd.read_csv('/home/jovyan/Tomics-CP-Chem-MoA/data_for_models/CS_data_splits/CS_valid_set_cyclo_adr_2.csv')\n",
    "test_set = pd.read_csv('/home/jovyan/Tomics-CP-Chem-MoA/data_for_models/CS_data_splits/CS_test_set_cyclo_adr_2.csv')"
   ]
  },
  {
   "cell_type": "code",
   "execution_count": 22,
   "metadata": {},
   "outputs": [
    {
     "data": {
      "text/html": [
       "<div>\n",
       "<style scoped>\n",
       "    .dataframe tbody tr th:only-of-type {\n",
       "        vertical-align: middle;\n",
       "    }\n",
       "\n",
       "    .dataframe tbody tr th {\n",
       "        vertical-align: top;\n",
       "    }\n",
       "\n",
       "    .dataframe thead th {\n",
       "        text-align: right;\n",
       "    }\n",
       "</style>\n",
       "<table border=\"1\" class=\"dataframe\">\n",
       "  <thead>\n",
       "    <tr style=\"text-align: right;\">\n",
       "      <th></th>\n",
       "      <th>Unnamed: 0</th>\n",
       "      <th>Compound_ID</th>\n",
       "      <th>Batch_nr</th>\n",
       "      <th>CUSTOMER_ID</th>\n",
       "      <th>MOLFORMULA</th>\n",
       "      <th>MOLWEIGHT</th>\n",
       "      <th>NAME</th>\n",
       "      <th>VENDOR</th>\n",
       "      <th>ADD_INFO</th>\n",
       "      <th>SMILES</th>\n",
       "      <th>...</th>\n",
       "      <th>AC50</th>\n",
       "      <th>EFFICACY</th>\n",
       "      <th>REPRODUCIBILITY</th>\n",
       "      <th>CURVE_RANK</th>\n",
       "      <th>FLAG</th>\n",
       "      <th>CAS</th>\n",
       "      <th>PUBCHEM_CID</th>\n",
       "      <th>PUBCHEM_SID</th>\n",
       "      <th>PURITY_RATING</th>\n",
       "      <th>PURITY_RATING_4M</th>\n",
       "    </tr>\n",
       "  </thead>\n",
       "  <tbody>\n",
       "    <tr>\n",
       "      <th>0</th>\n",
       "      <td>20</td>\n",
       "      <td>CBK308624</td>\n",
       "      <td>BJ1896979</td>\n",
       "      <td>A19458515</td>\n",
       "      <td>C46H58ClN5O8</td>\n",
       "      <td>844.46</td>\n",
       "      <td>Proglumetacin</td>\n",
       "      <td>AK Scientific</td>\n",
       "      <td>57132-53-3</td>\n",
       "      <td>CCCN(CCC)C(=O)C(CCC(=O)OCCCN1CCN(CCOC(=O)Cc2c(...</td>\n",
       "      <td>...</td>\n",
       "      <td>7.555014</td>\n",
       "      <td>79.193028</td>\n",
       "      <td>active_match</td>\n",
       "      <td>6.0</td>\n",
       "      <td>NaN</td>\n",
       "      <td>57132-53-3</td>\n",
       "      <td>4921.0</td>\n",
       "      <td>144206876.0</td>\n",
       "      <td>A</td>\n",
       "      <td>A</td>\n",
       "    </tr>\n",
       "    <tr>\n",
       "      <th>1</th>\n",
       "      <td>213</td>\n",
       "      <td>CBK041670</td>\n",
       "      <td>BJ1895140</td>\n",
       "      <td>A22844106</td>\n",
       "      <td>C13H11N3O4S2</td>\n",
       "      <td>337.38</td>\n",
       "      <td>TENOXICAM</td>\n",
       "      <td>Microsource Discovery Systems</td>\n",
       "      <td>59804-37-4</td>\n",
       "      <td>CN1C(C(=O)Nc2ccccn2)C(=O)c2sccc2S1(=O)=O</td>\n",
       "      <td>...</td>\n",
       "      <td>NaN</td>\n",
       "      <td>NaN</td>\n",
       "      <td>NaN</td>\n",
       "      <td>NaN</td>\n",
       "      <td>NaN</td>\n",
       "      <td>NaN</td>\n",
       "      <td>NaN</td>\n",
       "      <td>NaN</td>\n",
       "      <td>NaN</td>\n",
       "      <td>NaN</td>\n",
       "    </tr>\n",
       "    <tr>\n",
       "      <th>2</th>\n",
       "      <td>232</td>\n",
       "      <td>CBK309288</td>\n",
       "      <td>BJ1897859</td>\n",
       "      <td>K19515365</td>\n",
       "      <td>C16H14N2O3</td>\n",
       "      <td>282.30</td>\n",
       "      <td>bendazac</td>\n",
       "      <td>Key Organics Ltd.</td>\n",
       "      <td>NaN</td>\n",
       "      <td>OC(=O)COc1nn(Cc2ccccc2)c2ccccc12</td>\n",
       "      <td>...</td>\n",
       "      <td>NaN</td>\n",
       "      <td>NaN</td>\n",
       "      <td>NaN</td>\n",
       "      <td>NaN</td>\n",
       "      <td>NaN</td>\n",
       "      <td>NaN</td>\n",
       "      <td>NaN</td>\n",
       "      <td>NaN</td>\n",
       "      <td>NaN</td>\n",
       "      <td>NaN</td>\n",
       "    </tr>\n",
       "    <tr>\n",
       "      <th>3</th>\n",
       "      <td>239</td>\n",
       "      <td>CBK201028</td>\n",
       "      <td>BJ1897386</td>\n",
       "      <td>K54770957</td>\n",
       "      <td>C18H15ClN2O2S</td>\n",
       "      <td>358.85</td>\n",
       "      <td>Etoricoxib</td>\n",
       "      <td>MedChemExpress</td>\n",
       "      <td>CAS 202409-33-4, target COX</td>\n",
       "      <td>O=S(C1=CC=C(C2=CC(Cl)=CN=C2C3=CC=C(C)N=C3)C=C1...</td>\n",
       "      <td>...</td>\n",
       "      <td>NaN</td>\n",
       "      <td>NaN</td>\n",
       "      <td>NaN</td>\n",
       "      <td>NaN</td>\n",
       "      <td>NaN</td>\n",
       "      <td>NaN</td>\n",
       "      <td>NaN</td>\n",
       "      <td>NaN</td>\n",
       "      <td>NaN</td>\n",
       "      <td>NaN</td>\n",
       "    </tr>\n",
       "    <tr>\n",
       "      <th>4</th>\n",
       "      <td>400</td>\n",
       "      <td>CBK004363</td>\n",
       "      <td>BJ1894494</td>\n",
       "      <td>K41524689</td>\n",
       "      <td>C8H9NO2</td>\n",
       "      <td>151.17</td>\n",
       "      <td>ACETAMINOPHEN</td>\n",
       "      <td>Microsource Discovery Systems</td>\n",
       "      <td>103-90-2</td>\n",
       "      <td>CC(=O)Nc1ccc(O)cc1</td>\n",
       "      <td>...</td>\n",
       "      <td>NaN</td>\n",
       "      <td>NaN</td>\n",
       "      <td>NaN</td>\n",
       "      <td>NaN</td>\n",
       "      <td>NaN</td>\n",
       "      <td>NaN</td>\n",
       "      <td>NaN</td>\n",
       "      <td>NaN</td>\n",
       "      <td>NaN</td>\n",
       "      <td>NaN</td>\n",
       "    </tr>\n",
       "  </tbody>\n",
       "</table>\n",
       "<p>5 rows × 33 columns</p>\n",
       "</div>"
      ],
      "text/plain": [
       "   Unnamed: 0 Compound_ID   Batch_nr CUSTOMER_ID     MOLFORMULA  MOLWEIGHT  \\\n",
       "0          20   CBK308624  BJ1896979   A19458515   C46H58ClN5O8     844.46   \n",
       "1         213   CBK041670  BJ1895140   A22844106   C13H11N3O4S2     337.38   \n",
       "2         232   CBK309288  BJ1897859   K19515365     C16H14N2O3     282.30   \n",
       "3         239   CBK201028  BJ1897386   K54770957  C18H15ClN2O2S     358.85   \n",
       "4         400   CBK004363  BJ1894494   K41524689        C8H9NO2     151.17   \n",
       "\n",
       "            NAME                         VENDOR                     ADD_INFO  \\\n",
       "0  Proglumetacin                  AK Scientific                   57132-53-3   \n",
       "1      TENOXICAM  Microsource Discovery Systems                   59804-37-4   \n",
       "2       bendazac              Key Organics Ltd.                          NaN   \n",
       "3     Etoricoxib                 MedChemExpress  CAS 202409-33-4, target COX   \n",
       "4  ACETAMINOPHEN  Microsource Discovery Systems                     103-90-2   \n",
       "\n",
       "                                              SMILES  ...      AC50  \\\n",
       "0  CCCN(CCC)C(=O)C(CCC(=O)OCCCN1CCN(CCOC(=O)Cc2c(...  ...  7.555014   \n",
       "1           CN1C(C(=O)Nc2ccccn2)C(=O)c2sccc2S1(=O)=O  ...       NaN   \n",
       "2                   OC(=O)COc1nn(Cc2ccccc2)c2ccccc12  ...       NaN   \n",
       "3  O=S(C1=CC=C(C2=CC(Cl)=CN=C2C3=CC=C(C)N=C3)C=C1...  ...       NaN   \n",
       "4                                 CC(=O)Nc1ccc(O)cc1  ...       NaN   \n",
       "\n",
       "    EFFICACY REPRODUCIBILITY CURVE_RANK  FLAG         CAS PUBCHEM_CID  \\\n",
       "0  79.193028    active_match        6.0   NaN  57132-53-3      4921.0   \n",
       "1        NaN             NaN        NaN   NaN         NaN         NaN   \n",
       "2        NaN             NaN        NaN   NaN         NaN         NaN   \n",
       "3        NaN             NaN        NaN   NaN         NaN         NaN   \n",
       "4        NaN             NaN        NaN   NaN         NaN         NaN   \n",
       "\n",
       "   PUBCHEM_SID PURITY_RATING PURITY_RATING_4M  \n",
       "0  144206876.0             A                A  \n",
       "1          NaN           NaN              NaN  \n",
       "2          NaN           NaN              NaN  \n",
       "3          NaN           NaN              NaN  \n",
       "4          NaN           NaN              NaN  \n",
       "\n",
       "[5 rows x 33 columns]"
      ]
     },
     "execution_count": 22,
     "metadata": {},
     "output_type": "execute_result"
    }
   ],
   "source": [
    "# check if it seems reasonable\n",
    "test_set.head()"
   ]
  },
  {
   "cell_type": "markdown",
   "metadata": {},
   "source": [
    "# 2"
   ]
  },
  {
   "cell_type": "code",
   "execution_count": 23,
   "metadata": {},
   "outputs": [],
   "source": [
    "# extract compound IDs\n",
    "test_data_lst= list(test_set[\"Compound_ID\"].unique())\n",
    "train_data_lst= list(training_set[\"Compound_ID\"].unique())\n",
    "valid_data_lst= list(validation_set[\"Compound_ID\"].unique())"
   ]
  },
  {
   "cell_type": "code",
   "execution_count": 24,
   "metadata": {},
   "outputs": [
    {
     "name": "stdout",
     "output_type": "stream",
     "text": [
      "['CBK290981', 'CBK041553', 'CBK011692', 'CBK290941', 'CBK200996', 'CBK013361', 'CBK011551', 'CBK011617', 'CBK011647', 'CBK011672', 'CBK011684', 'CBK011685', 'CBK015987', 'CBK016153', 'CBK016300', 'CBK018231', 'CBK024260', 'CBK041382', 'CBK041439', 'CBK041512', 'CBK041537', 'CBK041555', 'CBK041690', 'CBK041694', 'CBK041905', 'CBK042102', 'CBK200528', 'CBK200564', 'CBK200655', 'CBK200972', 'CBK200974', 'CBK201004', 'CBK289991', 'CBK290002', 'CBK290013', 'CBK290208', 'CBK290222', 'CBK290503', 'CBK290707', 'CBK307870', 'CBK042135', 'CBK011697', 'CBK023992', 'CBK042165', 'CBK308569', 'CBK011674', 'CBK041403', 'CBK024259', 'CBK200526', 'CBK200707', 'CBK200900', 'CBK201000', 'CBK308605', 'CBK308582', 'CBK041550', 'CBK041548', 'CBK200939', 'CBK308602', 'CBK308915', 'CBK290018', 'CBK200956']\n"
     ]
    }
   ],
   "source": [
    "# check if works\n",
    "print(train_data_lst)"
   ]
  },
  {
   "cell_type": "code",
   "execution_count": 25,
   "metadata": {},
   "outputs": [],
   "source": [
    "training_set = paths_v1v2[paths_v1v2[\"compound\"].isin(train_data_lst)].reset_index(drop=True)\n",
    "validation_set = paths_v1v2[paths_v1v2[\"compound\"].isin(valid_data_lst)].reset_index(drop=True)\n",
    "test_set = paths_v1v2[paths_v1v2[\"compound\"].isin(test_data_lst)].reset_index(drop=True)"
   ]
  },
  {
   "cell_type": "code",
   "execution_count": 26,
   "metadata": {},
   "outputs": [
    {
     "name": "stdout",
     "output_type": "stream",
     "text": [
      "(3402, 10)\n"
     ]
    },
    {
     "data": {
      "text/html": [
       "<div>\n",
       "<style scoped>\n",
       "    .dataframe tbody tr th:only-of-type {\n",
       "        vertical-align: middle;\n",
       "    }\n",
       "\n",
       "    .dataframe tbody tr th {\n",
       "        vertical-align: top;\n",
       "    }\n",
       "\n",
       "    .dataframe thead th {\n",
       "        text-align: right;\n",
       "    }\n",
       "</style>\n",
       "<table border=\"1\" class=\"dataframe\">\n",
       "  <thead>\n",
       "    <tr style=\"text-align: right;\">\n",
       "      <th></th>\n",
       "      <th>Unnamed: 0</th>\n",
       "      <th>plate</th>\n",
       "      <th>well</th>\n",
       "      <th>compound</th>\n",
       "      <th>C1</th>\n",
       "      <th>C2</th>\n",
       "      <th>C3</th>\n",
       "      <th>C4</th>\n",
       "      <th>C5</th>\n",
       "      <th>moa</th>\n",
       "    </tr>\n",
       "  </thead>\n",
       "  <tbody>\n",
       "    <tr>\n",
       "      <th>0</th>\n",
       "      <td>162</td>\n",
       "      <td>P015076</td>\n",
       "      <td>C10</td>\n",
       "      <td>CBK290981</td>\n",
       "      <td>/share/mikro/IMX/MDC_pharmbio/specs935-v1/spec...</td>\n",
       "      <td>/share/mikro/IMX/MDC_pharmbio/specs935-v1/spec...</td>\n",
       "      <td>/share/mikro/IMX/MDC_pharmbio/specs935-v1/spec...</td>\n",
       "      <td>/share/mikro/IMX/MDC_pharmbio/specs935-v1/spec...</td>\n",
       "      <td>/share/mikro/IMX/MDC_pharmbio/specs935-v1/spec...</td>\n",
       "      <td>cyclooxygenase inhibitor</td>\n",
       "    </tr>\n",
       "    <tr>\n",
       "      <th>1</th>\n",
       "      <td>163</td>\n",
       "      <td>P015076</td>\n",
       "      <td>C10</td>\n",
       "      <td>CBK290981</td>\n",
       "      <td>/share/mikro/IMX/MDC_pharmbio/specs935-v1/spec...</td>\n",
       "      <td>/share/mikro/IMX/MDC_pharmbio/specs935-v1/spec...</td>\n",
       "      <td>/share/mikro/IMX/MDC_pharmbio/specs935-v1/spec...</td>\n",
       "      <td>/share/mikro/IMX/MDC_pharmbio/specs935-v1/spec...</td>\n",
       "      <td>/share/mikro/IMX/MDC_pharmbio/specs935-v1/spec...</td>\n",
       "      <td>cyclooxygenase inhibitor</td>\n",
       "    </tr>\n",
       "    <tr>\n",
       "      <th>2</th>\n",
       "      <td>164</td>\n",
       "      <td>P015076</td>\n",
       "      <td>C10</td>\n",
       "      <td>CBK290981</td>\n",
       "      <td>/share/mikro/IMX/MDC_pharmbio/specs935-v1/spec...</td>\n",
       "      <td>/share/mikro/IMX/MDC_pharmbio/specs935-v1/spec...</td>\n",
       "      <td>/share/mikro/IMX/MDC_pharmbio/specs935-v1/spec...</td>\n",
       "      <td>/share/mikro/IMX/MDC_pharmbio/specs935-v1/spec...</td>\n",
       "      <td>/share/mikro/IMX/MDC_pharmbio/specs935-v1/spec...</td>\n",
       "      <td>cyclooxygenase inhibitor</td>\n",
       "    </tr>\n",
       "    <tr>\n",
       "      <th>3</th>\n",
       "      <td>165</td>\n",
       "      <td>P015076</td>\n",
       "      <td>C10</td>\n",
       "      <td>CBK290981</td>\n",
       "      <td>/share/mikro/IMX/MDC_pharmbio/specs935-v1/spec...</td>\n",
       "      <td>/share/mikro/IMX/MDC_pharmbio/specs935-v1/spec...</td>\n",
       "      <td>/share/mikro/IMX/MDC_pharmbio/specs935-v1/spec...</td>\n",
       "      <td>/share/mikro/IMX/MDC_pharmbio/specs935-v1/spec...</td>\n",
       "      <td>/share/mikro/IMX/MDC_pharmbio/specs935-v1/spec...</td>\n",
       "      <td>cyclooxygenase inhibitor</td>\n",
       "    </tr>\n",
       "    <tr>\n",
       "      <th>4</th>\n",
       "      <td>166</td>\n",
       "      <td>P015076</td>\n",
       "      <td>C10</td>\n",
       "      <td>CBK290981</td>\n",
       "      <td>/share/mikro/IMX/MDC_pharmbio/specs935-v1/spec...</td>\n",
       "      <td>/share/mikro/IMX/MDC_pharmbio/specs935-v1/spec...</td>\n",
       "      <td>/share/mikro/IMX/MDC_pharmbio/specs935-v1/spec...</td>\n",
       "      <td>/share/mikro/IMX/MDC_pharmbio/specs935-v1/spec...</td>\n",
       "      <td>/share/mikro/IMX/MDC_pharmbio/specs935-v1/spec...</td>\n",
       "      <td>cyclooxygenase inhibitor</td>\n",
       "    </tr>\n",
       "  </tbody>\n",
       "</table>\n",
       "</div>"
      ],
      "text/plain": [
       "   Unnamed: 0    plate well   compound  \\\n",
       "0         162  P015076  C10  CBK290981   \n",
       "1         163  P015076  C10  CBK290981   \n",
       "2         164  P015076  C10  CBK290981   \n",
       "3         165  P015076  C10  CBK290981   \n",
       "4         166  P015076  C10  CBK290981   \n",
       "\n",
       "                                                  C1  \\\n",
       "0  /share/mikro/IMX/MDC_pharmbio/specs935-v1/spec...   \n",
       "1  /share/mikro/IMX/MDC_pharmbio/specs935-v1/spec...   \n",
       "2  /share/mikro/IMX/MDC_pharmbio/specs935-v1/spec...   \n",
       "3  /share/mikro/IMX/MDC_pharmbio/specs935-v1/spec...   \n",
       "4  /share/mikro/IMX/MDC_pharmbio/specs935-v1/spec...   \n",
       "\n",
       "                                                  C2  \\\n",
       "0  /share/mikro/IMX/MDC_pharmbio/specs935-v1/spec...   \n",
       "1  /share/mikro/IMX/MDC_pharmbio/specs935-v1/spec...   \n",
       "2  /share/mikro/IMX/MDC_pharmbio/specs935-v1/spec...   \n",
       "3  /share/mikro/IMX/MDC_pharmbio/specs935-v1/spec...   \n",
       "4  /share/mikro/IMX/MDC_pharmbio/specs935-v1/spec...   \n",
       "\n",
       "                                                  C3  \\\n",
       "0  /share/mikro/IMX/MDC_pharmbio/specs935-v1/spec...   \n",
       "1  /share/mikro/IMX/MDC_pharmbio/specs935-v1/spec...   \n",
       "2  /share/mikro/IMX/MDC_pharmbio/specs935-v1/spec...   \n",
       "3  /share/mikro/IMX/MDC_pharmbio/specs935-v1/spec...   \n",
       "4  /share/mikro/IMX/MDC_pharmbio/specs935-v1/spec...   \n",
       "\n",
       "                                                  C4  \\\n",
       "0  /share/mikro/IMX/MDC_pharmbio/specs935-v1/spec...   \n",
       "1  /share/mikro/IMX/MDC_pharmbio/specs935-v1/spec...   \n",
       "2  /share/mikro/IMX/MDC_pharmbio/specs935-v1/spec...   \n",
       "3  /share/mikro/IMX/MDC_pharmbio/specs935-v1/spec...   \n",
       "4  /share/mikro/IMX/MDC_pharmbio/specs935-v1/spec...   \n",
       "\n",
       "                                                  C5                       moa  \n",
       "0  /share/mikro/IMX/MDC_pharmbio/specs935-v1/spec...  cyclooxygenase inhibitor  \n",
       "1  /share/mikro/IMX/MDC_pharmbio/specs935-v1/spec...  cyclooxygenase inhibitor  \n",
       "2  /share/mikro/IMX/MDC_pharmbio/specs935-v1/spec...  cyclooxygenase inhibitor  \n",
       "3  /share/mikro/IMX/MDC_pharmbio/specs935-v1/spec...  cyclooxygenase inhibitor  \n",
       "4  /share/mikro/IMX/MDC_pharmbio/specs935-v1/spec...  cyclooxygenase inhibitor  "
      ]
     },
     "execution_count": 26,
     "metadata": {},
     "output_type": "execute_result"
    }
   ],
   "source": [
    "print(training_set.shape)\n",
    "training_set.head()"
   ]
  },
  {
   "cell_type": "code",
   "execution_count": 1,
   "metadata": {},
   "outputs": [],
   "source": [
    "import torch\n",
    "state = torch.load('/home/jovyan/Tomics-CP-Chem-MoA/02_CP_Models/saved_models' +'/' + 'CP_least_loss_model')"
   ]
  },
  {
   "cell_type": "code",
   "execution_count": null,
   "metadata": {},
   "outputs": [],
   "source": []
  },
  {
   "cell_type": "code",
   "execution_count": 2,
   "metadata": {},
   "outputs": [
    {
     "data": {
      "text/plain": [
       "0.9252695159756236"
      ]
     },
     "execution_count": 2,
     "metadata": {},
     "output_type": "execute_result"
    }
   ],
   "source": [
    " state[\"f1_score\"]"
   ]
  },
  {
   "cell_type": "code",
   "execution_count": 3,
   "metadata": {},
   "outputs": [
    {
     "data": {
      "text/plain": [
       "0.9216524216524217"
      ]
     },
     "execution_count": 3,
     "metadata": {},
     "output_type": "execute_result"
    }
   ],
   "source": [
    "state[\"accuracy\"]"
   ]
  },
  {
   "cell_type": "code",
   "execution_count": 70,
   "metadata": {},
   "outputs": [
    {
     "data": {
      "text/plain": [
       "14.077402258210459"
      ]
     },
     "execution_count": 70,
     "metadata": {},
     "output_type": "execute_result"
    }
   ],
   "source": [
    "state[\"valid_loss\"]"
   ]
  },
  {
   "cell_type": "code",
   "execution_count": null,
   "metadata": {},
   "outputs": [],
   "source": []
  },
  {
   "cell_type": "code",
   "execution_count": 71,
   "metadata": {},
   "outputs": [
    {
     "ename": "Exception",
     "evalue": "File `'[metrics/epochs].py'` not found.",
     "output_type": "error",
     "traceback": [
      "\u001b[0;31m---------------------------------------------------------------------------\u001b[0m",
      "\u001b[0;31mOSError\u001b[0m                                   Traceback (most recent call last)",
      "File \u001b[0;32m/usr/local/lib/python3.8/dist-packages/IPython/core/magics/execution.py:696\u001b[0m, in \u001b[0;36mExecutionMagics.run\u001b[0;34m(self, parameter_s, runner, file_finder)\u001b[0m\n\u001b[1;32m    695\u001b[0m     fpath \u001b[38;5;241m=\u001b[39m arg_lst[\u001b[38;5;241m0\u001b[39m]\n\u001b[0;32m--> 696\u001b[0m     filename \u001b[38;5;241m=\u001b[39m \u001b[43mfile_finder\u001b[49m\u001b[43m(\u001b[49m\u001b[43mfpath\u001b[49m\u001b[43m)\u001b[49m\n\u001b[1;32m    697\u001b[0m \u001b[38;5;28;01mexcept\u001b[39;00m \u001b[38;5;167;01mIndexError\u001b[39;00m \u001b[38;5;28;01mas\u001b[39;00m e:\n",
      "File \u001b[0;32m/usr/local/lib/python3.8/dist-packages/IPython/utils/path.py:91\u001b[0m, in \u001b[0;36mget_py_filename\u001b[0;34m(name)\u001b[0m\n\u001b[1;32m     90\u001b[0m \u001b[38;5;28;01melse\u001b[39;00m:\n\u001b[0;32m---> 91\u001b[0m     \u001b[38;5;28;01mraise\u001b[39;00m \u001b[38;5;167;01mIOError\u001b[39;00m(\u001b[38;5;124m'\u001b[39m\u001b[38;5;124mFile `\u001b[39m\u001b[38;5;132;01m%r\u001b[39;00m\u001b[38;5;124m` not found.\u001b[39m\u001b[38;5;124m'\u001b[39m \u001b[38;5;241m%\u001b[39m name)\n",
      "\u001b[0;31mOSError\u001b[0m: File `'[metrics/epochs].py'` not found.",
      "\nThe above exception was the direct cause of the following exception:\n",
      "\u001b[0;31mException\u001b[0m                                 Traceback (most recent call last)",
      "Input \u001b[0;32mIn [71]\u001b[0m, in \u001b[0;36m<cell line: 1>\u001b[0;34m()\u001b[0m\n\u001b[0;32m----> 1\u001b[0m \u001b[43mget_ipython\u001b[49m\u001b[43m(\u001b[49m\u001b[43m)\u001b[49m\u001b[38;5;241;43m.\u001b[39;49m\u001b[43mrun_line_magic\u001b[49m\u001b[43m(\u001b[49m\u001b[38;5;124;43m'\u001b[39;49m\u001b[38;5;124;43mrun\u001b[39;49m\u001b[38;5;124;43m'\u001b[39;49m\u001b[43m,\u001b[49m\u001b[43m \u001b[49m\u001b[38;5;124;43m\"\u001b[39;49m\u001b[38;5;124;43m[\u001b[39;49m\u001b[38;5;124;43m'\u001b[39;49m\u001b[38;5;124;43mmetrics/epochs\u001b[39;49m\u001b[38;5;124;43m'\u001b[39;49m\u001b[38;5;124;43m] = max_epochs\u001b[39;49m\u001b[38;5;124;43m\"\u001b[39;49m\u001b[43m)\u001b[49m\n",
      "File \u001b[0;32m/usr/local/lib/python3.8/dist-packages/IPython/core/interactiveshell.py:2304\u001b[0m, in \u001b[0;36mInteractiveShell.run_line_magic\u001b[0;34m(self, magic_name, line, _stack_depth)\u001b[0m\n\u001b[1;32m   2302\u001b[0m     kwargs[\u001b[38;5;124m'\u001b[39m\u001b[38;5;124mlocal_ns\u001b[39m\u001b[38;5;124m'\u001b[39m] \u001b[38;5;241m=\u001b[39m \u001b[38;5;28mself\u001b[39m\u001b[38;5;241m.\u001b[39mget_local_scope(stack_depth)\n\u001b[1;32m   2303\u001b[0m \u001b[38;5;28;01mwith\u001b[39;00m \u001b[38;5;28mself\u001b[39m\u001b[38;5;241m.\u001b[39mbuiltin_trap:\n\u001b[0;32m-> 2304\u001b[0m     result \u001b[38;5;241m=\u001b[39m \u001b[43mfn\u001b[49m\u001b[43m(\u001b[49m\u001b[38;5;241;43m*\u001b[39;49m\u001b[43margs\u001b[49m\u001b[43m,\u001b[49m\u001b[43m \u001b[49m\u001b[38;5;241;43m*\u001b[39;49m\u001b[38;5;241;43m*\u001b[39;49m\u001b[43mkwargs\u001b[49m\u001b[43m)\u001b[49m\n\u001b[1;32m   2305\u001b[0m \u001b[38;5;28;01mreturn\u001b[39;00m result\n",
      "File \u001b[0;32m/usr/local/lib/python3.8/dist-packages/IPython/core/magics/execution.py:707\u001b[0m, in \u001b[0;36mExecutionMagics.run\u001b[0;34m(self, parameter_s, runner, file_finder)\u001b[0m\n\u001b[1;32m    705\u001b[0m     \u001b[38;5;28;01mif\u001b[39;00m os\u001b[38;5;241m.\u001b[39mname \u001b[38;5;241m==\u001b[39m \u001b[38;5;124m'\u001b[39m\u001b[38;5;124mnt\u001b[39m\u001b[38;5;124m'\u001b[39m \u001b[38;5;129;01mand\u001b[39;00m re\u001b[38;5;241m.\u001b[39mmatch(\u001b[38;5;124mr\u001b[39m\u001b[38;5;124m\"\u001b[39m\u001b[38;5;124m^\u001b[39m\u001b[38;5;124m'\u001b[39m\u001b[38;5;124m.*\u001b[39m\u001b[38;5;124m'\u001b[39m\u001b[38;5;124m$\u001b[39m\u001b[38;5;124m\"\u001b[39m,fpath):\n\u001b[1;32m    706\u001b[0m         warn(\u001b[38;5;124m'\u001b[39m\u001b[38;5;124mFor Windows, use double quotes to wrap a filename: \u001b[39m\u001b[38;5;132;01m%r\u001b[39;00m\u001b[38;5;124mun \u001b[39m\u001b[38;5;124m\"\u001b[39m\u001b[38;5;124mmypath\u001b[39m\u001b[38;5;130;01m\\\\\u001b[39;00m\u001b[38;5;124mmyfile.py\u001b[39m\u001b[38;5;124m\"\u001b[39m\u001b[38;5;124m'\u001b[39m)\n\u001b[0;32m--> 707\u001b[0m     \u001b[38;5;28;01mraise\u001b[39;00m \u001b[38;5;167;01mException\u001b[39;00m(msg) \u001b[38;5;28;01mfrom\u001b[39;00m \u001b[38;5;21;01me\u001b[39;00m\n\u001b[1;32m    708\u001b[0m \u001b[38;5;28;01mexcept\u001b[39;00m \u001b[38;5;167;01mTypeError\u001b[39;00m:\n\u001b[1;32m    709\u001b[0m     \u001b[38;5;28;01mif\u001b[39;00m fpath \u001b[38;5;129;01min\u001b[39;00m sys\u001b[38;5;241m.\u001b[39mmeta_path:\n",
      "\u001b[0;31mException\u001b[0m: File `'[metrics/epochs].py'` not found."
     ]
    }
   ],
   "source": [
    "run['metrics/epochs'] = max_epochs"
   ]
  },
  {
   "cell_type": "code",
   "execution_count": 63,
   "metadata": {},
   "outputs": [],
   "source": [
    "import torch\n",
    "state = torch.load('/home/jovyan/Tomics-CP-Chem-MoA/04_Tomics_Models/Best_Tomics_Model/saved_models' +'/' + 'Tomics_1DCNN')"
   ]
  },
  {
   "cell_type": "code",
   "execution_count": null,
   "metadata": {},
   "outputs": [],
   "source": []
  },
  {
   "cell_type": "code",
   "execution_count": 64,
   "metadata": {},
   "outputs": [
    {
     "data": {
      "text/plain": [
       "0.5092811377791403"
      ]
     },
     "execution_count": 64,
     "metadata": {},
     "output_type": "execute_result"
    }
   ],
   "source": [
    " state[\"f1_score\"]"
   ]
  },
  {
   "cell_type": "code",
   "execution_count": 65,
   "metadata": {},
   "outputs": [
    {
     "data": {
      "text/plain": [
       "0.4555635838150289"
      ]
     },
     "execution_count": 65,
     "metadata": {},
     "output_type": "execute_result"
    }
   ],
   "source": [
    "state[\"accuracy\"]"
   ]
  },
  {
   "cell_type": "code",
   "execution_count": 66,
   "metadata": {},
   "outputs": [
    {
     "data": {
      "text/plain": [
       "13.646594799875508"
      ]
     },
     "execution_count": 66,
     "metadata": {},
     "output_type": "execute_result"
    }
   ],
   "source": [
    "state[\"valid_loss\"]"
   ]
  },
  {
   "cell_type": "code",
   "execution_count": null,
   "metadata": {},
   "outputs": [],
   "source": []
  },
  {
   "cell_type": "code",
   "execution_count": null,
   "metadata": {},
   "outputs": [],
   "source": []
  }
 ],
 "metadata": {
  "accelerator": "GPU",
  "colab": {
   "collapsed_sections": [],
   "machine_shape": "hm",
   "provenance": []
  },
  "gpuClass": "standard",
  "kernelspec": {
   "display_name": "Python 3",
   "language": "python",
   "name": "python3"
  },
  "language_info": {
   "codemirror_mode": {
    "name": "ipython",
    "version": 3
   },
   "file_extension": ".py",
   "mimetype": "text/x-python",
   "name": "python",
   "nbconvert_exporter": "python",
   "pygments_lexer": "ipython3",
   "version": "3.8.10"
  }
 },
 "nbformat": 4,
 "nbformat_minor": 4
}

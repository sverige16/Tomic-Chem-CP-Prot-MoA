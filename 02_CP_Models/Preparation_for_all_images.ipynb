{
  "cells": [
    {
      "cell_type": "code",
      "execution_count": null,
      "id": "b6534b3e-28f4-4837-9c59-2cfe6157d25b",
      "metadata": {
        "id": "b6534b3e-28f4-4837-9c59-2cfe6157d25b"
      },
      "outputs": [],
      "source": [
        "# read in the all_data file  \n",
        "import numpy as np\n",
        "import pandas as pd\n",
        "df = pd.read_csv('../data_for_image_based_model/fl_data.csv')"
      ]
    },
    {
      "cell_type": "code",
      "execution_count": null,
      "id": "84a6b8a1-c1ba-4e2d-b7fb-4051cfc3717e",
      "metadata": {
        "id": "84a6b8a1-c1ba-4e2d-b7fb-4051cfc3717e"
      },
      "outputs": [],
      "source": [
        "# Drop the lines with DMSO \n",
        "df = df[df.moa != 'dmso']\n",
        "assert 'dmso' not in df.values"
      ]
    },
    {
      "cell_type": "code",
      "source": [
        "# shuffle the data \n",
        "df = df.sample(frac = 1, random_state = 1)"
      ],
      "metadata": {
        "id": "TLyAM6bLDivU"
      },
      "id": "TLyAM6bLDivU",
      "execution_count": null,
      "outputs": []
    },
    {
      "cell_type": "code",
      "execution_count": null,
      "id": "1094639a-cac7-4703-886e-c04201e428bf",
      "metadata": {
        "id": "1094639a-cac7-4703-886e-c04201e428bf"
      },
      "outputs": [],
      "source": [
        "# A function for DMSO normalization    \n",
        "dmso_stats_df = pd.read_csv('../data_for_image_based_model/dmso_stats.csv', header = [0,1], index_col = 0)\n",
        "def dmso_normalization(im, dmso_mean, dmso_std):\n",
        "    im_norm = (im.astype('float') - dmso_mean) / dmso_std\n",
        "    return im_norm"
      ]
    },
    {
      "cell_type": "code",
      "execution_count": null,
      "id": "b5ea19b4-8810-496e-917a-03d20f17d52b",
      "metadata": {
        "id": "b5ea19b4-8810-496e-917a-03d20f17d52b"
      },
      "outputs": [],
      "source": [
        "# A transform function for resizing  \n",
        "import albumentations as album\n",
        "import cv2\n",
        "image_size = 256\n",
        "easy_transforms = album.Compose([album.Resize(image_size, image_size)])"
      ]
    },
    {
      "cell_type": "code",
      "execution_count": null,
      "id": "0795c955-43e6-44a4-a71a-99b5ffa161d5",
      "metadata": {
        "id": "0795c955-43e6-44a4-a71a-99b5ffa161d5"
      },
      "outputs": [],
      "source": [
        "base_dir = 'path/to/data' # this has to be set "
      ]
    },
    {
      "cell_type": "code",
      "execution_count": null,
      "id": "5d600f2a-414b-48d5-8ade-4f54c4450b60",
      "metadata": {
        "id": "5d600f2a-414b-48d5-8ade-4f54c4450b60"
      },
      "outputs": [],
      "source": [
        "# A function for transfering image to numpy array \n",
        "def create_all_images(idx):\n",
        "    row = df.iloc[idx]\n",
        "    im = []\n",
        "    for i in range(1,6):\n",
        "        local_im = cv2.imread(base_dir + row.plate + '/' + row['C' + str(i)], -1)\n",
        "        dmso_mean = dmso_stats_df[row.plate]['C' + str(i)]['m']\n",
        "        dmso_std = dmso_stats_df[row.plate]['C' + str(i)]['std']\n",
        "        local_im = dmso_normalization(local_im, dmso_mean, dmso_std)\n",
        "\n",
        "        im.append(local_im)\n",
        "    im = np.array(im).transpose(1, 2, 0).astype(\"float\")\n",
        "    im = np.array(easy_transforms(image = im)['image'])\n",
        "\n",
        "    return im"
      ]
    },
    {
      "cell_type": "code",
      "execution_count": null,
      "id": "18f99c29-6d71-451d-bf2d-bf95d0cf984a",
      "metadata": {
        "id": "18f99c29-6d71-451d-bf2d-bf95d0cf984a"
      },
      "outputs": [],
      "source": [
        "# Write all the images into a big numpy array  \n",
        "all_images = np.zeros((df.shape[0], 256, 256, 5), dtype = np.float32)\n",
        "for f in range(df.shape[0]):\n",
        "    all_images[f] = create_all_images(f)"
      ]
    },
    {
      "cell_type": "code",
      "execution_count": null,
      "id": "cf256c15-bef7-4a5c-b2eb-7ef0e9e3a2cc",
      "metadata": {
        "id": "cf256c15-bef7-4a5c-b2eb-7ef0e9e3a2cc"
      },
      "outputs": [],
      "source": [
        "# Save the big numpy array \n",
        "with open('all_images.npy', 'wb') as f:\n",
        "    np.save(f, all_images)"
      ]
    }
  ],
  "metadata": {
    "kernelspec": {
      "display_name": "Python 3",
      "language": "python",
      "name": "python3"
    },
    "language_info": {
      "codemirror_mode": {
        "name": "ipython",
        "version": 3
      },
      "file_extension": ".py",
      "mimetype": "text/x-python",
      "name": "python",
      "nbconvert_exporter": "python",
      "pygments_lexer": "ipython3",
      "version": "3.6.9"
    },
    "colab": {
      "provenance": []
    }
  },
  "nbformat": 4,
  "nbformat_minor": 5
}
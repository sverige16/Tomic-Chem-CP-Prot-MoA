{
 "cells": [
  {
   "cell_type": "code",
   "execution_count": 6,
   "metadata": {},
   "outputs": [],
   "source": [
    "import matplotlib.pyplot as plt\n",
    "epochs = 5"
   ]
  },
  {
   "cell_type": "code",
   "execution_count": 7,
   "metadata": {},
   "outputs": [],
   "source": [
    "x_axis = list(range(1, epochs +1)) "
   ]
  },
  {
   "cell_type": "code",
   "execution_count": 8,
   "metadata": {
    "execution": {
     "iopub.execute_input": "2022-12-07T17:39:03.382493Z",
     "iopub.status.busy": "2022-12-07T17:39:03.380654Z",
     "iopub.status.idle": "2022-12-07T17:39:03.386864Z",
     "shell.execute_reply": "2022-12-07T17:39:03.387531Z"
    }
   },
   "outputs": [],
   "source": [
    "y_axis = list(range(1, epochs +1)) "
   ]
  },
  {
   "cell_type": "code",
   "execution_count": 13,
   "metadata": {
    "execution": {
     "iopub.execute_input": "2022-12-07T17:39:03.392530Z",
     "iopub.status.busy": "2022-12-07T17:39:03.391807Z",
     "iopub.status.idle": "2022-12-07T17:39:03.396519Z",
     "shell.execute_reply": "2022-12-07T17:39:03.395798Z"
    }
   },
   "outputs": [],
   "source": [
    "def test_save_pic(x_list, y_list):\n",
    "    new_image = 'special_sauce'\n",
    "    x_axis = x_list\n",
    "    y_axis = y_list\n",
    "    fig = plt.figure()\n",
    "    plt.plot(x_axis, y_axis)\n",
    "    plt.savefig('/home/jovyan/Tomics-CP-Chem-MoA/Image_based_model/saved_images' + '/' + 'special_sauce')\n",
    "\n",
    "\n"
   ]
  },
  {
   "cell_type": "markdown",
   "metadata": {},
   "source": []
  },
  {
   "cell_type": "code",
   "execution_count": 14,
   "metadata": {},
   "outputs": [
    {
     "data": {
      "image/png": "[encoded data removed]",
      "text/plain": [
       "<Figure size 432x288 with 1 Axes>"
      ]
     },
     "metadata": {
      "needs_background": "light"
     },
     "output_type": "display_data"
    }
   ],
   "source": [
    "test_save_pic(x_axis, y_axis)"
   ]
  },
  {
   "cell_type": "code",
   "execution_count": 1,
   "metadata": {},
   "outputs": [
    {
     "name": "stdout",
     "output_type": "stream",
     "text": [
      "0.24.2\n"
     ]
    }
   ],
   "source": [
    "import sklearn\n",
    "print(sklearn.__version__)"
   ]
  },
  {
   "cell_type": "code",
   "execution_count": 12,
   "metadata": {},
   "outputs": [
    {
     "name": "stdout",
     "output_type": "stream",
     "text": [
      "1296\n",
      "1296\n"
     ]
    },
    {
     "ename": "TypeError",
     "evalue": "classification_report() got an unexpected keyword argument 'output'",
     "output_type": "error",
     "traceback": [
      "\u001b[0;31m---------------------------------------------------------------------------\u001b[0m",
      "\u001b[0;31mTypeError\u001b[0m                                 Traceback (most recent call last)",
      "\u001b[0;32m<ipython-input-12-842c4171832b>\u001b[0m in \u001b[0;36m<module>\u001b[0;34m\u001b[0m\n\u001b[1;32m      8\u001b[0m \u001b[0mprint\u001b[0m\u001b[0;34m(\u001b[0m\u001b[0mlen\u001b[0m\u001b[0;34m(\u001b[0m\u001b[0mtrue\u001b[0m\u001b[0;34m)\u001b[0m\u001b[0;34m)\u001b[0m\u001b[0;34m\u001b[0m\u001b[0;34m\u001b[0m\u001b[0m\n\u001b[1;32m      9\u001b[0m \u001b[0mprint\u001b[0m\u001b[0;34m(\u001b[0m\u001b[0mlen\u001b[0m\u001b[0;34m(\u001b[0m\u001b[0mprediction\u001b[0m\u001b[0;34m)\u001b[0m\u001b[0;34m)\u001b[0m\u001b[0;34m\u001b[0m\u001b[0;34m\u001b[0m\u001b[0m\n\u001b[0;32m---> 10\u001b[0;31m \u001b[0mprint\u001b[0m\u001b[0;34m(\u001b[0m\u001b[0mclassification_report\u001b[0m\u001b[0;34m(\u001b[0m\u001b[0mtrue\u001b[0m\u001b[0;34m,\u001b[0m \u001b[0mprediction\u001b[0m\u001b[0;34m,\u001b[0m \u001b[0moutput\u001b[0m \u001b[0;34m=\u001b[0m \u001b[0;32mTrue\u001b[0m\u001b[0;34m)\u001b[0m\u001b[0;34m)\u001b[0m\u001b[0;34m\u001b[0m\u001b[0;34m\u001b[0m\u001b[0m\n\u001b[0m",
      "\u001b[0;32m/usr/local/lib/python3.6/dist-packages/sklearn/utils/validation.py\u001b[0m in \u001b[0;36minner_f\u001b[0;34m(*args, **kwargs)\u001b[0m\n\u001b[1;32m     61\u001b[0m             \u001b[0mextra_args\u001b[0m \u001b[0;34m=\u001b[0m \u001b[0mlen\u001b[0m\u001b[0;34m(\u001b[0m\u001b[0margs\u001b[0m\u001b[0;34m)\u001b[0m \u001b[0;34m-\u001b[0m \u001b[0mlen\u001b[0m\u001b[0;34m(\u001b[0m\u001b[0mall_args\u001b[0m\u001b[0;34m)\u001b[0m\u001b[0;34m\u001b[0m\u001b[0;34m\u001b[0m\u001b[0m\n\u001b[1;32m     62\u001b[0m             \u001b[0;32mif\u001b[0m \u001b[0mextra_args\u001b[0m \u001b[0;34m<=\u001b[0m \u001b[0;36m0\u001b[0m\u001b[0;34m:\u001b[0m\u001b[0;34m\u001b[0m\u001b[0;34m\u001b[0m\u001b[0m\n\u001b[0;32m---> 63\u001b[0;31m                 \u001b[0;32mreturn\u001b[0m \u001b[0mf\u001b[0m\u001b[0;34m(\u001b[0m\u001b[0;34m*\u001b[0m\u001b[0margs\u001b[0m\u001b[0;34m,\u001b[0m \u001b[0;34m**\u001b[0m\u001b[0mkwargs\u001b[0m\u001b[0;34m)\u001b[0m\u001b[0;34m\u001b[0m\u001b[0;34m\u001b[0m\u001b[0m\n\u001b[0m\u001b[1;32m     64\u001b[0m \u001b[0;34m\u001b[0m\u001b[0m\n\u001b[1;32m     65\u001b[0m             \u001b[0;31m# extra_args > 0\u001b[0m\u001b[0;34m\u001b[0m\u001b[0;34m\u001b[0m\u001b[0;34m\u001b[0m\u001b[0m\n",
      "\u001b[0;31mTypeError\u001b[0m: classification_report() got an unexpected keyword argument 'output'"
     ]
    }
   ],
   "source": [
    "from sklearn.metrics import classification_report\n",
    "target_names = ['Aurora kinase inhibitor', 'tubulin polymerization inhibitor',\n",
    "     'JAK inhibitor', 'protein synthesis inhibitor', 'HDAC inhibitor', 'topoisomerase inhibitor', \n",
    "     'PARP inhibitor','ATPase inhibitor', 'retinoid receptor agonist', 'HSP inhibitor']\n",
    "label = ['br0', 'br1', 'br1','br1','br1','br1','br1','br1','br1','br1',]\n",
    "true = [7, 8, 3, 7, 7, 3, 7, 7, 0, 0, 3, 7, 7, 2, 2, 3, 0, 3, 0, 7, 0, 7, 3, 5, 7, 8, 7, 7, 7, 7, 7, 3, 7, 7, 8, 7, 0, 5, 3, 6, 7, 3, 7, 3, 8, 0, 0, 7, 4, 3, 0, 8, 3, 7, 0, 7, 3, 5, 0, 1, 7, 5, 7, 3, 7, 6, 7, 3, 7, 7, 7, 9, 7, 1, 7, 7, 0, 7, 7, 1, 0, 7, 0, 7, 7, 9, 1, 3, 0, 1, 6, 0, 7, 0, 3, 3, 4, 8, 3, 7, 0, 3, 7, 7, 7, 4, 3, 8, 3, 1, 7, 3, 3, 2, 6, 2, 3, 7, 7, 8, 7, 0, 8, 7, 7, 6, 7, 7, 5, 8, 7, 2, 7, 7, 7, 1, 8, 3, 3, 7, 3, 2, 7, 7, 8, 8, 3, 8, 7, 1, 5, 8, 3, 3, 3, 3, 7, 7, 7, 4, 7, 5, 0, 0, 7, 3, 7, 3, 3, 3, 2, 8, 3, 0, 3, 7, 3, 7, 7, 3, 6, 7, 7, 3, 0, 7, 7, 8, 3, 7, 7, 7, 0, 3, 8, 7, 5, 3, 7, 3, 3, 7, 7, 7, 2, 5, 3, 9, 3, 7, 0, 7, 0, 3, 7, 7, 3, 3, 3, 3, 3, 3, 8, 3, 7, 3, 8, 8, 8, 7, 3, 7, 3, 7, 5, 7, 1, 7, 7, 7, 7, 7, 7, 7, 7, 7, 7, 9, 7, 0, 7, 3, 9, 5, 7, 8, 7, 3, 8, 6, 5, 2, 2, 7, 3, 4, 7, 7, 7, 3, 0, 7, 3, 8, 3, 3, 0, 7, 2, 7, 7, 7, 7, 3, 0, 0, 1, 3, 0, 7, 3, 8, 0, 7, 8, 3, 7, 7, 0, 5, 0, 2, 0, 8, 7, 7, 0, 2, 3, 7, 7, 8, 7, 3, 6, 7, 7, 7, 7, 0, 7, 9, 7, 7, 0, 6, 8, 0, 7, 3, 8, 7, 6, 7, 5, 7, 8, 7, 7, 3, 0, 8, 3, 6, 3, 3, 3, 7, 8, 3, 7, 1, 7, 7, 3, 7, 7, 7, 9, 0, 0, 3, 4, 8, 0, 7, 7, 3, 3, 3, 7, 3, 3, 7, 7, 3, 7, 3, 7, 5, 7, 7, 6, 3, 3, 7, 5, 9, 3, 7, 3, 8, 1, 7, 8, 5, 3, 7, 5, 9, 7, 7, 3, 5, 0, 0, 3, 7, 7, 0, 3, 7, 7, 7, 0, 3, 0, 8, 7, 2, 0, 0, 7, 0, 7, 7, 7, 0, 7, 0, 7, 3, 0, 8, 7, 0, 1, 0, 7, 2, 0, 7, 8, 5, 7, 7, 7, 9, 7, 7, 7, 7, 7, 7, 7, 3, 7, 7, 3, 7, 1, 0, 7, 9, 7, 4, 0, 3, 7, 0, 7, 0, 7, 8, 7, 5, 7, 7, 7, 8, 8, 7, 0, 7, 0, 7, 9, 3, 1, 5, 0, 7, 7, 8, 8, 0, 7, 0, 3, 3, 0, 7, 7, 0, 2, 3, 7, 7, 7, 3, 1, 7, 9, 9, 0, 7, 5, 0, 8, 0, 3, 7, 7, 7, 7, 1, 7, 7, 3, 4, 7, 3, 7, 8, 0, 9, 3, 0, 7, 4, 8, 7, 0, 1, 8, 0, 7, 7, 1, 1, 3, 8, 7, 3, 3, 7, 7, 7, 0, 3, 0, 7, 7, 0, 7, 7, 7, 7, 0, 7, 1, 0, 7, 3, 3, 0, 6, 0, 7, 7, 0, 0, 3, 0, 0, 7, 6, 7, 3, 7, 0, 7, 0, 3, 3, 0, 7, 0, 3, 0, 7, 0, 5, 7, 3, 8, 7, 7, 8, 1, 7, 9, 3, 7, 7, 7, 0, 7, 0, 7, 9, 1, 3, 3, 8, 2, 7, 7, 1, 8, 7, 0, 7, 2, 7, 1, 0, 7, 3, 3, 0, 8, 7, 7, 7, 0, 2, 9, 0, 7, 8, 7, 0, 7, 7, 7, 9, 3, 3, 8, 2, 0, 4, 7, 8, 0, 8, 7, 7, 0, 3, 8, 2, 7, 0, 3, 8, 0, 9, 7, 3, 7, 7, 0, 7, 7, 2, 7, 7, 7, 7, 7, 3, 7, 3, 5, 3, 5, 7, 3, 5, 7, 0, 0, 7, 8, 0, 7, 5, 3, 3, 7, 7, 7, 0, 5, 7, 1, 0, 0, 8, 7, 3, 3, 4, 3, 8, 0, 0, 8, 6, 0, 3, 6, 0, 5, 3, 7, 0, 3, 8, 7, 0, 7, 0, 5, 3, 3, 3, 7, 7, 7, 7, 7, 7, 7, 3, 7, 7, 7, 7, 0, 7, 0, 7, 8, 7, 7, 0, 7, 0, 7, 7, 7, 7, 7, 2, 3, 7, 3, 8, 4, 7, 3, 2, 7, 0, 0, 6, 4, 3, 7, 7, 5, 9, 0, 0, 4, 7, 3, 7, 7, 0, 7, 8, 7, 7, 7, 7, 7, 7, 1, 7, 8, 7, 0, 3, 0, 0, 7, 3, 3, 8, 0, 4, 7, 8, 3, 0, 7, 7, 8, 8, 7, 7, 2, 3, 8, 0, 8, 3, 2, 3, 0, 2, 3, 6, 1, 6, 7, 8, 3, 7, 7, 7, 3, 3, 7, 3, 8, 7, 7, 0, 7, 7, 8, 7, 7, 7, 7, 8, 7, 6, 2, 7, 3, 3, 3, 7, 0, 7, 5, 3, 3, 7, 0, 9, 7, 7, 7, 0, 7, 3, 3, 5, 7, 7, 7, 7, 3, 5, 3, 7, 0, 0, 4, 3, 1, 7, 5, 0, 7, 7, 0, 3, 7, 3, 8, 0, 8, 7, 7, 1, 0, 0, 3, 3, 7, 6, 7, 0, 3, 0, 7, 7, 7, 5, 3, 7, 5, 3, 3, 7, 0, 0, 0, 3, 0, 8, 7, 5, 0, 5, 0, 8, 2, 3, 7, 7, 7, 3, 7, 7, 7, 7, 7, 7, 7, 0, 7, 7, 0, 6, 7, 7, 7, 9, 0, 3, 8, 3, 7, 7, 7, 7, 0, 7, 7, 5, 3, 3, 0, 0, 3, 3, 3, 2, 3, 0, 3, 0, 7, 0, 7, 0, 7, 8, 7, 7, 7, 7, 7, 7, 7, 0, 7, 7, 0, 7, 7, 3, 7, 3, 6, 8, 7, 7, 4, 2, 7, 7, 7, 7, 3, 7, 7, 7, 8, 3, 3, 8, 3, 7, 7, 7, 0, 3, 2, 7, 7, 7, 7, 3, 9, 4, 7, 7, 3, 7, 0, 3, 8, 3, 7, 0, 0, 7, 8, 7, 7, 1, 7, 3, 1, 2, 0, 7, 7, 3, 7, 7, 7, 8, 7, 5, 7, 5, 8, 0, 7, 3, 7, 3, 7, 7, 3, 7, 7, 7, 0, 0, 9, 7, 0, 7, 7, 4, 7, 8, 7, 9, 6, 3, 7, 3, 7, 0, 0, 3, 7, 0, 0, 3, 7, 7, 7, 1, 7, 9, 7, 0, 0, 7, 3, 7, 0, 7, 7, 3, 8, 7, 3, 3, 0, 7, 7, 0, 6, 7, 7, 7, 8, 3, 7, 7, 0, 3, 7, 3, 1, 6, 3, 7, 0, 3, 3, 7, 3, 7, 7, 0, 7, 3, 7, 4, 7, 7, 3, 0, 3, 8, 0, 8, 7, 0, 3, 7, 0, 7, 7, 7, 3, 7, 3, 1, 7, 2, 7, 6, 7, 7, 7, 3, 8, 7, 7, 7, 7, 0, 3, 7, 0, 6, 3, 7, 7, 0, 1, 0, 7, 6, 7, 5, 2, 7, 0, 7, 3, 7, 7, 3, 7, 7, 0, 3, 7, 7, 5, 3, 7, 3, 6, 3, 5, 5, 7, 0, 3, 0, 1, 7, 7, 7, 3, 2, 7, 0, 0, 0, 3, 7, 7, 3, 3, 8, 7, 0, 7, 3, 3, 0, 7, 7, 7, 0, 3, 0, 3, 2, 3, 3, 6, 6, 7, 7, 3, 2, 7, 0, 7, 0, 7, 3, 3, 9, 0]\n",
    "prediction = [2, 3, 9, 4, 5, 1, 4, 5, 9, 2, 3, 7, 7, 0, 7, 5, 0, 5, 6, 7, 0, 4, 0, 6, 5, 4, 2, 3, 7, 5, 5, 3, 6, 4, 9, 6, 2, 4, 9, 1, 6, 2, 7, 7, 6, 0, 5, 4, 8, 5, 8, 8, 3, 0, 2, 9, 1, 6, 4, 4, 4, 5, 3, 3, 5, 2, 7, 3, 9, 4, 9, 2, 2, 3, 5, 1, 4, 5, 8, 0, 1, 7, 5, 5, 9, 4, 2, 4, 3, 9, 6, 0, 3, 3, 5, 9, 4, 4, 6, 3, 5, 8, 3, 2, 0, 4, 0, 4, 0, 4, 8, 3, 5, 9, 1, 2, 8, 8, 2, 4, 9, 2, 8, 1, 3, 1, 4, 1, 5, 2, 6, 8, 7, 6, 4, 2, 0, 2, 3, 7, 6, 5, 1, 1, 3, 5, 3, 8, 4, 4, 5, 2, 3, 3, 8, 9, 2, 4, 8, 5, 4, 0, 1, 6, 4, 8, 5, 3, 4, 3, 2, 8, 3, 4, 5, 2, 1, 1, 3, 5, 6, 5, 3, 3, 7, 1, 2, 5, 4, 6, 6, 9, 0, 4, 2, 0, 3, 4, 1, 5, 2, 1, 4, 8, 0, 8, 3, 4, 3, 5, 9, 1, 5, 9, 2, 5, 6, 4, 9, 6, 4, 5, 2, 1, 7, 6, 9, 9, 8, 4, 9, 0, 1, 4, 5, 5, 2, 7, 1, 9, 8, 5, 2, 4, 7, 1, 2, 2, 1, 5, 6, 3, 5, 5, 3, 3, 4, 4, 1, 3, 2, 9, 2, 8, 3, 5, 4, 6, 1, 2, 0, 6, 1, 8, 4, 5, 2, 5, 5, 6, 9, 1, 4, 3, 3, 3, 9, 5, 5, 2, 3, 4, 5, 7, 4, 4, 4, 2, 6, 5, 3, 0, 4, 4, 0, 4, 2, 3, 3, 4, 9, 6, 0, 5, 5, 7, 6, 9, 0, 4, 0, 3, 7, 8, 4, 4, 7, 2, 5, 5, 5, 2, 3, 7, 3, 4, 2, 8, 4, 9, 4, 2, 5, 4, 3, 8, 1, 6, 8, 9, 1, 9, 2, 1, 7, 7, 8, 9, 6, 6, 7, 8, 5, 4, 6, 1, 9, 7, 5, 4, 1, 4, 7, 4, 5, 5, 7, 3, 5, 3, 3, 8, 5, 1, 3, 6, 5, 9, 9, 4, 7, 2, 1, 4, 4, 3, 9, 5, 5, 9, 5, 1, 3, 8, 0, 8, 9, 1, 4, 1, 5, 2, 7, 1, 8, 4, 4, 2, 9, 2, 4, 2, 7, 9, 2, 8, 9, 4, 1, 4, 7, 9, 4, 4, 7, 9, 2, 2, 2, 8, 2, 6, 8, 3, 1, 8, 9, 9, 6, 0, 4, 7, 0, 3, 5, 5, 3, 9, 3, 4, 9, 4, 2, 5, 8, 3, 2, 4, 6, 1, 9, 0, 8, 8, 1, 0, 6, 9, 8, 6, 7, 3, 2, 9, 8, 7, 9, 3, 9, 5, 8, 6, 6, 8, 4, 5, 7, 5, 0, 5, 7, 1, 2, 5, 5, 6, 3, 6, 6, 3, 1, 7, 0, 9, 0, 8, 6, 5, 4, 4, 5, 9, 8, 1, 6, 9, 9, 5, 2, 9, 4, 2, 2, 8, 4, 2, 5, 6, 1, 4, 8, 3, 3, 4, 2, 5, 3, 8, 5, 2, 3, 8, 6, 0, 9, 8, 4, 1, 6, 4, 4, 9, 5, 6, 0, 8, 5, 3, 9, 1, 1, 4, 9, 6, 2, 6, 6, 2, 1, 8, 5, 2, 5, 5, 2, 2, 2, 7, 1, 4, 8, 8, 4, 0, 5, 3, 8, 4, 8, 8, 0, 8, 7, 6, 3, 4, 5, 2, 4, 0, 5, 0, 3, 1, 2, 9, 4, 3, 0, 6, 6, 1, 9, 3, 8, 2, 8, 7, 1, 4, 0, 7, 5, 3, 3, 1, 6, 3, 3, 6, 6, 8, 2, 2, 4, 6, 0, 7, 3, 4, 9, 6, 4, 4, 1, 7, 6, 3, 5, 9, 9, 8, 8, 7, 3, 1, 1, 5, 1, 4, 5, 6, 2, 1, 7, 8, 3, 4, 1, 4, 5, 4, 4, 2, 0, 8, 2, 4, 1, 1, 6, 5, 3, 0, 4, 7, 9, 2, 0, 2, 5, 8, 5, 8, 8, 1, 4, 7, 1, 6, 6, 1, 9, 4, 0, 6, 2, 5, 4, 6, 8, 4, 2, 5, 9, 3, 5, 4, 7, 4, 5, 0, 4, 4, 9, 5, 9, 3, 4, 1, 4, 0, 6, 1, 7, 4, 1, 6, 8, 5, 4, 8, 4, 4, 2, 9, 5, 4, 7, 6, 5, 5, 2, 9, 0, 9, 8, 3, 7, 4, 9, 2, 4, 4, 3, 3, 6, 7, 3, 6, 8, 8, 9, 4, 2, 2, 1, 5, 6, 4, 5, 4, 6, 5, 5, 2, 5, 5, 6, 6, 5, 9, 1, 4, 6, 5, 9, 6, 0, 4, 7, 1, 3, 4, 9, 8, 5, 4, 9, 9, 5, 0, 5, 7, 4, 5, 0, 2, 1, 8, 6, 3, 8, 0, 5, 6, 5, 3, 6, 8, 0, 4, 5, 0, 2, 3, 3, 0, 2, 5, 9, 6, 0, 4, 8, 5, 1, 6, 0, 8, 6, 9, 2, 0, 4, 4, 0, 6, 9, 4, 4, 3, 5, 2, 8, 3, 8, 2, 0, 2, 0, 5, 2, 7, 4, 6, 0, 0, 6, 1, 9, 6, 6, 4, 5, 3, 6, 8, 7, 6, 5, 9, 6, 5, 0, 4, 6, 6, 4, 4, 4, 5, 6, 0, 0, 4, 4, 6, 0, 4, 4, 9, 9, 2, 1, 9, 1, 5, 9, 4, 4, 4, 2, 3, 4, 1, 5, 5, 2, 3, 1, 7, 0, 3, 7, 3, 5, 6, 8, 0, 3, 6, 5, 4, 6, 4, 3, 7, 8, 9, 3, 5, 6, 1, 9, 8, 6, 6, 8, 1, 7, 3, 4, 3, 3, 3, 7, 4, 0, 5, 0, 4, 3, 7, 7, 6, 6, 4, 4, 7, 5, 0, 5, 9, 3, 0, 0, 2, 4, 5, 3, 6, 9, 2, 4, 8, 9, 5, 4, 4, 8, 2, 2, 0, 2, 7, 7, 8, 0, 2, 3, 7, 0, 1, 1, 5, 5, 4, 2, 2, 4, 9, 3, 2, 0, 8, 6, 6, 0, 6, 2, 1, 7, 4, 1, 0, 0, 6, 9, 7, 4, 4, 5, 9, 4, 3, 4, 5, 7, 6, 0, 2, 5, 0, 4, 7, 5, 1, 4, 4, 0, 1, 3, 2, 5, 6, 9, 1, 7, 0, 6, 9, 8, 9, 5, 5, 5, 8, 0, 6, 5, 1, 5, 1, 1, 3, 9, 4, 0, 1, 1, 9, 4, 1, 6, 4, 8, 1, 8, 2, 5, 7, 7, 8, 3, 4, 8, 1, 2, 4, 1, 8, 3, 4, 5, 7, 0, 2, 9, 9, 3, 0, 7, 3, 9, 3, 4, 9, 3, 2, 7, 0, 8, 4, 7, 2, 0, 5, 3, 0, 2, 5, 5, 7, 9, 6, 5, 6, 5, 1, 5, 5, 9, 8, 1, 5, 5, 4, 7, 2, 2, 7, 0, 2, 8, 4, 0, 2, 8, 5, 4, 2, 4, 4, 6, 2, 2, 9, 2, 7, 8, 0, 4, 3, 1, 6, 5, 6, 0, 9, 2, 4, 8, 1, 8, 4, 5, 6, 0, 3, 4, 4, 0, 9, 0, 6, 0, 1, 5, 1, 2, 6, 9, 0, 4, 5, 5, 2, 7, 5, 5, 9, 4, 5, 5, 1, 1, 5, 2, 4, 5, 4, 3, 5, 5, 2, 3, 2, 0, 3, 9, 1, 1, 3, 1, 2, 2, 4, 2, 7, 4, 3, 9, 4, 9, 2, 1, 7, 1, 6, 5, 2, 2, 6, 2, 3, 0, 1, 2, 2, 3, 5, 5, 8, 7, 4, 6, 1, 6, 1, 6, 9, 7, 3, 3, 9]\n",
    "print(len(true))\n",
    "print(len(prediction))\n",
    "print(classification_report(true, prediction))"
   ]
  },
  {
   "cell_type": "code",
   "execution_count": null,
   "metadata": {},
   "outputs": [],
   "source": []
  }
 ],
 "metadata": {
  "kernelspec": {
   "display_name": "Python 3",
   "language": "python",
   "name": "python3"
  },
  "language_info": {
   "codemirror_mode": {
    "name": "ipython",
    "version": 3
   },
   "file_extension": ".py",
   "mimetype": "text/x-python",
   "name": "python",
   "nbconvert_exporter": "python",
   "pygments_lexer": "ipython3",
   "version": "3.6.9"
  }
 },
 "nbformat": 4,
 "nbformat_minor": 4
}

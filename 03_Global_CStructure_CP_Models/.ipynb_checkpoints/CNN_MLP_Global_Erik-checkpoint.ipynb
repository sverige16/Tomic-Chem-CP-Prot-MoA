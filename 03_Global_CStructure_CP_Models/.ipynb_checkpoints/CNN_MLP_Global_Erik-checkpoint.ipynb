{
 "cells": [
  {
   "cell_type": "markdown",
   "metadata": {
    "id": "FlP8CMo59cL2"
   },
   "source": [
    "# Integrate MLP and CNN."
   ]
  },
  {
   "cell_type": "code",
   "execution_count": 1,
   "metadata": {},
   "outputs": [],
   "source": [
    "# Import Statements\n",
    "from rdkit import Chem\n",
    "from rdkit.Chem import DataStructs, AllChem\n",
    "import pandas as pd\n",
    "import numpy as np\n",
    "import matplotlib.pyplot as plt\n",
    "from sklearn.model_selection import train_test_split # Functipn to split data into training, validation and test sets\n",
    "from sklearn.metrics import classification_report, confusion_matrix\n",
    "import pickle\n",
    "import glob   # The glob module finds all the pathnames matching a specified pattern according to the rules used by the Unix shell, although results are returned in arbitrary order. No tilde expansion is done, but *, ?, and character ranges expressed with [] will be correctly matched.\n",
    "import os   # miscellneous operating system interfaces. This module provides a portable way of using operating system dependent functionality. If you just want to read or write a file see open(), if you want to manipulate paths, see the os.path module, and if you want to read all the lines in all the files on the command line see the fileinput module.\n",
    "import random       \n",
    "from tqdm import tqdm \n",
    "from tqdm.notebook import tqdm_notebook\n",
    "import datetime\n",
    "import time\n",
    "from tabulate import tabulate\n",
    "\n",
    "# Torch\n",
    "import torch\n",
    "from torchvision import transforms\n",
    "import torchvision.models as models\n",
    "import torch.nn as nn\n",
    "import torchinfo\n",
    "\n",
    "\n",
    "# Image analysis packages\n",
    "import albumentations as A \n",
    "import cv2          "
   ]
  },
  {
   "cell_type": "code",
   "execution_count": 19,
   "metadata": {},
   "outputs": [],
   "source": [
    "# In[2]:\n",
    "start = time.time()\n",
    "now = datetime.datetime.now()\n",
    "now = now.strftime(\"%d_%m_%Y-%H:%M:%S\")\n",
    "\n",
    "# get the dictionary for compound_id-SMILES pair \n",
    "compound_smiles_dictionary = pickle.load(open(\"/home/jovyan/Tomics-CP-Chem-MoA/data_for_models/dictionary2.pickle\", \"rb\"))"
   ]
  },
  {
   "cell_type": "code",
   "execution_count": null,
   "metadata": {},
   "outputs": [],
   "source": []
  },
  {
   "cell_type": "code",
   "execution_count": 19,
   "metadata": {},
   "outputs": [],
   "source": [
    "# 10 selected MoAs \n",
    "moas_to_use = ['Aurora kinase inhibitor', 'tubulin polymerization inhibitor', 'JAK inhibitor', 'protein synthesis inhibitor', 'HDAC inhibitor', \n",
    "        'topoisomerase inhibitor', 'PARP inhibitor', 'ATPase inhibitor', 'retinoid receptor agonist', 'HSP inhibitor']\n",
    "\n",
    "\n",
    "# read the data \n",
    "all_data = pd.read_csv('/home/jovyan/Tomics-CP-Chem-MoA/data_for_models/all_data.csv')\n",
    "\n",
    "\n",
    "# In[6]:\n",
    "\n",
    "\n",
    "# Limiting the data to the first 2000 rows\n",
    "testing = True\n",
    "if testing == True:\n",
    "    all_data = all_data[0:1000]\n",
    "\n",
    "\n",
    "# In[7]:\n",
    "\n",
    "\n",
    "# drop random previous index in table above\n",
    "all_data.drop(all_data.columns[[0,11, 12]], axis=1, inplace=True) # Check that reading the data worked \n",
    "\n",
    "\n",
    "# In[8]:\n",
    "\n",
    "\n",
    "dictionary = {'ATPase inhibitor': 7, 'Aurora kinase inhibitor': 0,\n",
    " 'HDAC inhibitor': 4, 'HSP inhibitor': 9, 'JAK inhibitor': 2, 'PARP inhibitor': 6,\n",
    " 'protein synthesis inhibitor': 3, 'retinoid receptor agonist': 8,\n",
    " 'topoisomerase inhibitor': 5, 'tubulin polymerization inhibitor': 1}\n",
    "\n",
    "\n",
    "# In[9]:\n",
    "\n",
    "\n",
    "num_classes = len(dictionary) \n",
    "#num_classes\n",
    "\n",
    "\n",
    "# In[10]:\n",
    "\n",
    "\n",
    "# change moa to classes \n",
    "all_data['classes'] = None\n",
    "for i in range(all_data.shape[0]):\n",
    "    all_data.iloc[i, 10] = dictionary[all_data.iloc[i, 9]]\n",
    "\n",
    "\n",
    "# In[11]:\n",
    "\n",
    "\n",
    "# get the compound-MoA pair \n",
    "compound_moa = all_data[['compound','moa']].drop_duplicates()\n",
    "\n",
    "\n",
    "# In[12]:\n",
    "\n",
    "\n",
    "# creating tensor from all_data.df\n",
    "target = torch.tensor(all_data['classes'].values.astype(np.int64))\n",
    "target, target.shape\n",
    "\n",
    "\n",
    "# In[13]:\n",
    "\n",
    "# For each row, take the index of the tar- get label\n",
    "# (which coincides with the score in our case) and use it as the column index to set the value 1.0.” \n",
    "target_onehot = torch.zeros(target.shape[0], num_classes)\n",
    "target_onehot.scatter_(1, target.unsqueeze(1), 1.0)\n",
    "\n",
    "\n",
    "# In[14]:"
   ]
  },
  {
   "cell_type": "code",
   "execution_count": 19,
   "metadata": {},
   "outputs": [],
   "source": [
    "# split dataset into test and training/validation sets (10-90 split)\n",
    "compound_CP_train_valid, compound_CP_test, compound_CP_moa_train_valid, compound_CP_moa_test = train_test_split(\n",
    "  compound_moa.compound, compound_moa.moa, test_size = 0.10, stratify = compound_moa.moa, \n",
    "  shuffle = True, random_state = 1)\n",
    "\n",
    "\n",
    "# Split data set into training and validation sets (1 to 9)\n",
    "# Same as above, but does split of only training data into training and validation data (in order to take advantage of stratification parameter)\n",
    "compound_CP_train, compound_CP_valid, compound_CP_moa_train, compound_CP_moa_valid = train_test_split(\n",
    "  compound_CP_train_valid, compound_CP_moa_train_valid, test_size = 10/90, stratify = compound_CP_moa_train_valid,\n",
    "  shuffle = True, random_state = 62757)"
   ]
  },
  {
   "cell_type": "code",
   "execution_count": 62,
   "metadata": {},
   "outputs": [
    {
     "name": "stdout",
     "output_type": "stream",
     "text": [
      "Int64Index([  0,   1,   2,   3,   4,   5,   6,   7,   8,   9,\n",
      "            ...\n",
      "            615, 622, 638, 643, 711, 715, 755, 822, 870, 981],\n",
      "           dtype='int64', length=228)\n"
     ]
    }
   ],
   "source": [
    "print(compound_moa.index)\n"
   ]
  },
  {
   "cell_type": "code",
   "execution_count": 19,
   "metadata": {},
   "outputs": [],
   "source": [
    "# get the train, valid and test set by for every compound in data set, if it is in train, valid or test, return all info from all_data in new df.\n",
    "train = all_data[all_data['compound'].isin(compound_CP_train)]\n",
    "valid = all_data[all_data['compound'].isin(compound_CP_valid)]\n",
    "test  = all_data[all_data['compound'].isin(compound_CP_test)]\n",
    "''' Explanation\n",
    "reset_index = create new index starting from zero \n",
    "drop: drop previous index.\n",
    "'''"
   ]
  },
  {
   "cell_type": "code",
   "execution_count": 42,
   "metadata": {},
   "outputs": [
    {
     "data": {
      "text/html": [
       "<div>\n",
       "<style scoped>\n",
       "    .dataframe tbody tr th:only-of-type {\n",
       "        vertical-align: middle;\n",
       "    }\n",
       "\n",
       "    .dataframe tbody tr th {\n",
       "        vertical-align: top;\n",
       "    }\n",
       "\n",
       "    .dataframe thead th {\n",
       "        text-align: right;\n",
       "    }\n",
       "</style>\n",
       "<table border=\"1\" class=\"dataframe\">\n",
       "  <thead>\n",
       "    <tr style=\"text-align: right;\">\n",
       "      <th></th>\n",
       "      <th>plate</th>\n",
       "      <th>well</th>\n",
       "      <th>compound</th>\n",
       "      <th>path</th>\n",
       "      <th>C1</th>\n",
       "      <th>C2</th>\n",
       "      <th>C3</th>\n",
       "      <th>C4</th>\n",
       "      <th>C5</th>\n",
       "      <th>moa</th>\n",
       "      <th>classes</th>\n",
       "    </tr>\n",
       "  </thead>\n",
       "  <tbody>\n",
       "  </tbody>\n",
       "</table>\n",
       "</div>"
      ],
      "text/plain": [
       "Empty DataFrame\n",
       "Columns: [plate, well, compound, path, C1, C2, C3, C4, C5, moa, classes]\n",
       "Index: []"
      ]
     },
     "execution_count": 42,
     "metadata": {},
     "output_type": "execute_result"
    }
   ],
   "source": [
    "train[train.compound.isin(valid.compound.unique())]"
   ]
  },
  {
   "cell_type": "code",
   "execution_count": 48,
   "metadata": {},
   "outputs": [],
   "source": [
    "# create dictionary for parition\n",
    "partition = {\"train\": [], \"valid\": [], \"test\": []}\n",
    "\n",
    "# create lists with indexes in splits\n",
    "tr_list = train.index.tolist()\n",
    "va_list = valid.index.tolist()\n",
    "\n",
    "# place index into correct bin\n",
    "for index in all_data.index.tolist():\n",
    "#for index in compound_moa.index.tolist():\n",
    "    if index in tr_list:\n",
    "        partition[\"train\"] += [index]\n",
    "    elif index in va_list:\n",
    "        partition[\"valid\"]   += [index]\n",
    "    else:\n",
    "        partition[\"test\"]  += [index]"
   ]
  },
  {
   "cell_type": "code",
   "execution_count": 51,
   "metadata": {},
   "outputs": [
    {
     "data": {
      "text/plain": [
       "[]"
      ]
     },
     "execution_count": 51,
     "metadata": {},
     "output_type": "execute_result"
    }
   ],
   "source": [
    "a = partition[\"train\"]\n",
    "b = partition[\"valid\"]\n",
    "c = [i for i in a if i in b]\n",
    "c"
   ]
  },
  {
   "cell_type": "code",
   "execution_count": null,
   "metadata": {},
   "outputs": [],
   "source": [
    "CBK308980"
   ]
  },
  {
   "cell_type": "code",
   "execution_count": 79,
   "metadata": {},
   "outputs": [
    {
     "name": "stdout",
     "output_type": "stream",
     "text": [
      "Training on device cuda. \n"
     ]
    }
   ],
   "source": [
    "# In[18]:\n",
    "\n",
    "\n",
    "# create dictionary for labels, using PyTorch\n",
    "labels = {}\n",
    "for index,compound in zip(all_data.index.tolist(), target_onehot):\n",
    "    labels[index] = compound\n",
    "\n",
    "\n",
    "# In[73]:\n",
    "\n",
    "\n",
    "batch_size = 5\n",
    "# parameters\n",
    "params = {'batch_size' : 5,\n",
    "         'num_workers' : 3,\n",
    "         'shuffle' : True,\n",
    "         'prefetch_factor' : 1} \n",
    "          \n",
    "# shuffle isn't working\n",
    "\n",
    "# maxepochs\n",
    "max_epochs = 10\n",
    "\n",
    "\n",
    "# In[74]:\n",
    "\n",
    "\n",
    "device = (torch.device('cuda') if torch.cuda.is_available() else torch.device('cpu'))\n",
    "#device = torch.device('cpu')\n",
    "print(f'Training on device {device}. ' )\n",
    "\n",
    "\n",
    "# In[75]:\n",
    "import albumentations as A\n",
    "train_transforms = A.Compose([A.Flip(),A.ShiftScaleRotate(scale_limit=0.2),A.RandomRotate90(),\n",
    "    A.OneOf([A.Flip(),A.ShiftScaleRotate(scale_limit=0.2),A.RandomRotate90(),],p = 0.2),\n",
    "    A.OneOf([A.Flip(),A.ShiftScaleRotate(scale_limit=0.2),A.RandomRotate90(),],p = 0.4),\n",
    "    A.OneOf([A.Flip(),A.ShiftScaleRotate(scale_limit=0.2),A.RandomRotate90(),],p = 0.5),\n",
    "    A.OneOf([A.Flip(),A.ShiftScaleRotate(scale_limit=0.2),A.RandomRotate90(),],p = 0.6),\n",
    "    A.OneOf([A.Flip(),A.ShiftScaleRotate(scale_limit=0.2),A.RandomRotate90(),],p = 0.8),\n",
    "    A.Flip(),A.ShiftScaleRotate(scale_limit=0.2),A.RandomRotate90(),])\n",
    "valid_transforms = A.Compose([])\n",
    "\n",
    "def channel_5_numpy(df, idx):\n",
    "    '''\n",
    "    Puts together all channels from CP imaging into a single 5 x 256 x 256 tensor (c x h x w) from all_data.csv\n",
    "    Input\n",
    "    df  : file which contains all rows of image data with compound information (type = csv)\n",
    "    idx : the index of the row (type = integer)\n",
    "    \n",
    "    Output:\n",
    "    image: a single 5 x 256 x 256 tensor (c x h x w)\n",
    "    '''\n",
    "    # extract row with index \n",
    "    row = df.iloc[idx]\n",
    "    \n",
    "    # loop through all of the channels and add to single array\n",
    "    im = []\n",
    "    for c in range(1, 6):\n",
    "        # extract by adding C to the integer we are looping\n",
    "        row_channel_path = row[\"C\" + str(c)]\n",
    "        local_im = cv2.imread(row.path + \"/\" + row[\"C\" + str(c)], -1) # row.path would be same for me, except str(row[path]))\n",
    "        \n",
    "        # directly resize down to 256 by 256\n",
    "        local_im = cv2.resize(local_im, (256, 256), interpolation = cv2.INTER_LINEAR)\n",
    "        # adds to array to the image vector \n",
    "        im.append(local_im)\n",
    "\n",
    "    # once we have all the channels, we covert it to a np.array, transpose so it has the correct dimensions and change the type for some reason\n",
    "    im = np.array(im).astype(\"int16\")\n",
    "    return torch.from_numpy(im)\n",
    "\n",
    "# A function changing SMILES to Morgan fingerprints \n",
    "def smiles_to_array(smiles):\n",
    "    molecules = Chem.MolFromSmiles(smiles) \n",
    "    fingerprints = AllChem.GetMorganFingerprintAsBitVect(molecules, 2)\n",
    "    x_array = []\n",
    "    arrays = np.zeros(0,)\n",
    "    DataStructs.ConvertToNumpyArray(fingerprints, arrays)\n",
    "    x_array.append(arrays)\n",
    "    x_array = np.asarray(x_array)\n",
    "    x_array = ((np.squeeze(x_array)).astype(int)) \n",
    "    x_array = torch.from_numpy(x_array)\n",
    "    return x_array                  \n",
    "\n",
    "\n",
    "# create Torch.dataset\n",
    "class Dataset(torch.utils.data.Dataset):\n",
    "    def __init__(self, partition, labels, transform= None):\n",
    "        self.compound_labels = labels    # the entire length of the correct classes that we are trying to predict\n",
    "        # print(self.img_labels)\n",
    "        self.list_ID = partition         # list of indexes that are a part of training, validation, tes sets\n",
    "        self.transform = transform       # any transformations done\n",
    "\n",
    "    def __len__(self):\n",
    "        ''' The number of data points '''\n",
    "        return len(self.compound_labels)      \n",
    "\n",
    "    def __getitem__(self, idx):\n",
    "        '''Retrieving the compound '''\n",
    "        #print(idx)                                    # check to see if idx is monotonically growing starting from zero\n",
    "        ID = self.list_ID[idx]                        # we extract an index in partition representing training/valid/test set\n",
    "        nrow = all_data.iloc[ID]    # extract row from csv using index\n",
    "        b= nrow[\"compound\"]\n",
    "        print(f' nrow {b}')\n",
    "        a = compound_moa.index[compound_moa['compound']== nrow[\"compound\"]]\n",
    "        a = a[0]\n",
    "        print(f' finding it in moa = {a}')\n",
    "        print(f' commpound {nrow[\"compound\"]}')\n",
    "        print(f' the compound ive extracted: {compound_moa.iloc[a]}')\n",
    "        compound = compound_smiles_dictionary[compound_moa.iloc[a]]\n",
    "        #compound = compound_smiles_dictionary[nrow[\"compound\"]]      # returns smiles by using compound as key\n",
    "        compound_array = smiles_to_array(compound)\n",
    "        image = channel_5_numpy(all_data, ID)\n",
    "        #print(f' return from function: {compound}')\n",
    "        #print(f' matrix: {compound_array}')\n",
    "        label = self.compound_labels[ID]             # extract classification using index\n",
    "        #print(f' label: {label}')\n",
    "        #label = torch.tensor(label, dtype=torch.float)\n",
    "        if self.transform:                         # uses Albumentations image pipeline to return an augmented image\n",
    "            image = self.transform(image)\n",
    "        #return image.float(), label.long()\n",
    "\n",
    "        #print(f' Compound {compound_array.float()}')\n",
    "        #print(f' Image {image.float()}')\n",
    "        #print(f' Label {label.float()}')\n",
    "        return compound_array.float(), image.float(), label.float()"
   ]
  },
  {
   "cell_type": "code",
   "execution_count": 80,
   "metadata": {},
   "outputs": [],
   "source": [
    "\n",
    "# Create a dataset with all indices and labels\n",
    "everything = Dataset(partition[\"train\"]+partition['valid']+partition['test'], labels)\n",
    "\n",
    "\n",
    "# In[81]:\n",
    "\n",
    "\n",
    "# generator for training data\n",
    "\n",
    "\n",
    "# In[82]:\n",
    "\n",
    "\n",
    "# generator: training\n",
    "# create a subset with only train indices\n",
    "training_set = torch.utils.data.Subset(everything, partition[\"train\"])\n",
    "\n",
    "# create generator that randomly takes indices from the training set\n",
    "training_generator = torch.utils.data.DataLoader(training_set, **params)\n",
    "# training_set = Dataset(partition[\"train\"], labels)\n",
    "\n",
    "\n",
    "# In[83]:\n",
    "\n",
    "\n",
    "# training data loader\n",
    "# Display image and label   # functional\n",
    "#train_features, train_labels = next(iter(training_generator))\n",
    "#print(f\"Feature batch shape: {train_features.size()}\")\n",
    "#print(f\"Labels batch shape: {train_labels.size()}\")\n",
    "\n",
    "\n",
    "# In[84]:\n",
    "\n",
    "\n",
    "# Validation Set\n",
    "# create a subset with only valid indices\n",
    "valid_set = torch.utils.data.Subset(everything, partition[\"valid\"])\n",
    "    \n",
    "# create generator that randomly takes indices from the validation set\n",
    "valid_generator = torch.utils.data.DataLoader(valid_set, **params)\n",
    "\n",
    "# Test set\n",
    "# create a subset with only test indices\n",
    "test_set = torch.utils.data.Subset(everything, partition[\"test\"])\n",
    "\n",
    "# create generator that randomly takes indices from the test set\n",
    "test_generator = torch.utils.data.DataLoader(test_set, **params)# generator for validation data\n",
    "\n",
    "# If applying class weights\n",
    "apply_class_weights = True\n",
    "if apply_class_weights:     # if we want to apply class weights\n",
    "    counts = compound_moa.moa.value_counts()  # count the number of moa in each class for the ENTiRE dataset\n",
    "    #print(counts)\n",
    "    class_weights = []   # create list that will hold class weights\n",
    "    for moa in compound_moa.moa.unique():       # for each moa   \n",
    "        #print(moa)\n",
    "        counts[moa]\n",
    "        class_weights.append(counts[moa])  # add counts to class weights\n",
    "    #print(len(class_weights))\n",
    "    #print(class_weights)\n",
    "    #print(type(class_weights))\n",
    "    # class_weights = 1 / (class_weights / sum(class_weights)) # divide all class weights by total moas\n",
    "    class_weights = [i / sum(class_weights) for  i in class_weights]\n",
    "    class_weights= torch.tensor(class_weights,dtype=torch.float).to(device) # transform into tensor, put onto device\n",
    "#print(class_weights)\n"
   ]
  },
  {
   "cell_type": "code",
   "execution_count": 81,
   "metadata": {},
   "outputs": [
    {
     "name": "stdout",
     "output_type": "stream",
     "text": [
      " nrow CBK308980\n",
      " nrow CBK277968\n",
      " finding it in moa = 333\n",
      " finding it in moa = 54\n",
      " commpound CBK308980\n",
      " commpound CBK277968\n",
      " nrow CBK290154\n",
      " finding it in moa = 422\n",
      " commpound CBK290154\n",
      " the compound ive extracted: compound                  CBK041182\n",
      "moa         topoisomerase inhibitor\n",
      "Name: 58, dtype: object\n",
      " nrow CBK309639\n",
      " finding it in moa = 315\n",
      " commpound CBK309639\n"
     ]
    },
    {
     "ename": "TypeError",
     "evalue": "Caught TypeError in DataLoader worker process 0.\nOriginal Traceback (most recent call last):\n  File \"/home/jovyan/.local/lib/python3.6/site-packages/torch/utils/data/_utils/worker.py\", line 287, in _worker_loop\n    data = fetcher.fetch(index)\n  File \"/home/jovyan/.local/lib/python3.6/site-packages/torch/utils/data/_utils/fetch.py\", line 49, in fetch\n    data = [self.dataset[idx] for idx in possibly_batched_index]\n  File \"/home/jovyan/.local/lib/python3.6/site-packages/torch/utils/data/_utils/fetch.py\", line 49, in <listcomp>\n    data = [self.dataset[idx] for idx in possibly_batched_index]\n  File \"/home/jovyan/.local/lib/python3.6/site-packages/torch/utils/data/dataset.py\", line 363, in __getitem__\n    return self.dataset[self.indices[idx]]\n  File \"<ipython-input-79-c66eb8aa8d8f>\", line 112, in __getitem__\n    compound = compound_smiles_dictionary[compound_moa.iloc[a]]\n  File \"/usr/local/lib/python3.6/dist-packages/pandas/core/generic.py\", line 1669, in __hash__\n    f\"{repr(type(self).__name__)} objects are mutable, \"\nTypeError: 'Series' objects are mutable, thus they cannot be hashed\n",
     "output_type": "error",
     "traceback": [
      "\u001b[0;31m---------------------------------------------------------------------------\u001b[0m",
      "\u001b[0;31mTypeError\u001b[0m                                 Traceback (most recent call last)",
      "\u001b[0;32m<ipython-input-81-eb69ac89849e>\u001b[0m in \u001b[0;36m<module>\u001b[0;34m\u001b[0m\n\u001b[1;32m      1\u001b[0m \u001b[0;31m# training data loader\u001b[0m\u001b[0;34m\u001b[0m\u001b[0;34m\u001b[0m\u001b[0;34m\u001b[0m\u001b[0m\n\u001b[1;32m      2\u001b[0m \u001b[0;31m# Display image and label   # functional\u001b[0m\u001b[0;34m\u001b[0m\u001b[0;34m\u001b[0m\u001b[0;34m\u001b[0m\u001b[0m\n\u001b[0;32m----> 3\u001b[0;31m \u001b[0mtrain_compounds\u001b[0m\u001b[0;34m,\u001b[0m \u001b[0mtrain_imgs\u001b[0m\u001b[0;34m,\u001b[0m \u001b[0mtrain_labels\u001b[0m \u001b[0;34m=\u001b[0m \u001b[0mnext\u001b[0m\u001b[0;34m(\u001b[0m\u001b[0miter\u001b[0m\u001b[0;34m(\u001b[0m\u001b[0mtraining_generator\u001b[0m\u001b[0;34m)\u001b[0m\u001b[0;34m)\u001b[0m\u001b[0;34m\u001b[0m\u001b[0;34m\u001b[0m\u001b[0m\n\u001b[0m\u001b[1;32m      4\u001b[0m \u001b[0;31m#print(f\"Feature batch shape: {train_features.size()}\")\u001b[0m\u001b[0;34m\u001b[0m\u001b[0;34m\u001b[0m\u001b[0;34m\u001b[0m\u001b[0m\n\u001b[1;32m      5\u001b[0m \u001b[0;31m#print(f\"Labels batch shape: {train_labels.size()}\")\u001b[0m\u001b[0;34m\u001b[0m\u001b[0;34m\u001b[0m\u001b[0;34m\u001b[0m\u001b[0m\n",
      "\u001b[0;32m~/.local/lib/python3.6/site-packages/torch/utils/data/dataloader.py\u001b[0m in \u001b[0;36m__next__\u001b[0;34m(self)\u001b[0m\n\u001b[1;32m    519\u001b[0m             \u001b[0;32mif\u001b[0m \u001b[0mself\u001b[0m\u001b[0;34m.\u001b[0m\u001b[0m_sampler_iter\u001b[0m \u001b[0;32mis\u001b[0m \u001b[0;32mNone\u001b[0m\u001b[0;34m:\u001b[0m\u001b[0;34m\u001b[0m\u001b[0;34m\u001b[0m\u001b[0m\n\u001b[1;32m    520\u001b[0m                 \u001b[0mself\u001b[0m\u001b[0;34m.\u001b[0m\u001b[0m_reset\u001b[0m\u001b[0;34m(\u001b[0m\u001b[0;34m)\u001b[0m\u001b[0;34m\u001b[0m\u001b[0;34m\u001b[0m\u001b[0m\n\u001b[0;32m--> 521\u001b[0;31m             \u001b[0mdata\u001b[0m \u001b[0;34m=\u001b[0m \u001b[0mself\u001b[0m\u001b[0;34m.\u001b[0m\u001b[0m_next_data\u001b[0m\u001b[0;34m(\u001b[0m\u001b[0;34m)\u001b[0m\u001b[0;34m\u001b[0m\u001b[0;34m\u001b[0m\u001b[0m\n\u001b[0m\u001b[1;32m    522\u001b[0m             \u001b[0mself\u001b[0m\u001b[0;34m.\u001b[0m\u001b[0m_num_yielded\u001b[0m \u001b[0;34m+=\u001b[0m \u001b[0;36m1\u001b[0m\u001b[0;34m\u001b[0m\u001b[0;34m\u001b[0m\u001b[0m\n\u001b[1;32m    523\u001b[0m             \u001b[0;32mif\u001b[0m \u001b[0mself\u001b[0m\u001b[0;34m.\u001b[0m\u001b[0m_dataset_kind\u001b[0m \u001b[0;34m==\u001b[0m \u001b[0m_DatasetKind\u001b[0m\u001b[0;34m.\u001b[0m\u001b[0mIterable\u001b[0m \u001b[0;32mand\u001b[0m\u001b[0;31m \u001b[0m\u001b[0;31m\\\u001b[0m\u001b[0;34m\u001b[0m\u001b[0;34m\u001b[0m\u001b[0m\n",
      "\u001b[0;32m~/.local/lib/python3.6/site-packages/torch/utils/data/dataloader.py\u001b[0m in \u001b[0;36m_next_data\u001b[0;34m(self)\u001b[0m\n\u001b[1;32m   1201\u001b[0m             \u001b[0;32melse\u001b[0m\u001b[0;34m:\u001b[0m\u001b[0;34m\u001b[0m\u001b[0;34m\u001b[0m\u001b[0m\n\u001b[1;32m   1202\u001b[0m                 \u001b[0;32mdel\u001b[0m \u001b[0mself\u001b[0m\u001b[0;34m.\u001b[0m\u001b[0m_task_info\u001b[0m\u001b[0;34m[\u001b[0m\u001b[0midx\u001b[0m\u001b[0;34m]\u001b[0m\u001b[0;34m\u001b[0m\u001b[0;34m\u001b[0m\u001b[0m\n\u001b[0;32m-> 1203\u001b[0;31m                 \u001b[0;32mreturn\u001b[0m \u001b[0mself\u001b[0m\u001b[0;34m.\u001b[0m\u001b[0m_process_data\u001b[0m\u001b[0;34m(\u001b[0m\u001b[0mdata\u001b[0m\u001b[0;34m)\u001b[0m\u001b[0;34m\u001b[0m\u001b[0;34m\u001b[0m\u001b[0m\n\u001b[0m\u001b[1;32m   1204\u001b[0m \u001b[0;34m\u001b[0m\u001b[0m\n\u001b[1;32m   1205\u001b[0m     \u001b[0;32mdef\u001b[0m \u001b[0m_try_put_index\u001b[0m\u001b[0;34m(\u001b[0m\u001b[0mself\u001b[0m\u001b[0;34m)\u001b[0m\u001b[0;34m:\u001b[0m\u001b[0;34m\u001b[0m\u001b[0;34m\u001b[0m\u001b[0m\n",
      "\u001b[0;32m~/.local/lib/python3.6/site-packages/torch/utils/data/dataloader.py\u001b[0m in \u001b[0;36m_process_data\u001b[0;34m(self, data)\u001b[0m\n\u001b[1;32m   1227\u001b[0m         \u001b[0mself\u001b[0m\u001b[0;34m.\u001b[0m\u001b[0m_try_put_index\u001b[0m\u001b[0;34m(\u001b[0m\u001b[0;34m)\u001b[0m\u001b[0;34m\u001b[0m\u001b[0;34m\u001b[0m\u001b[0m\n\u001b[1;32m   1228\u001b[0m         \u001b[0;32mif\u001b[0m \u001b[0misinstance\u001b[0m\u001b[0;34m(\u001b[0m\u001b[0mdata\u001b[0m\u001b[0;34m,\u001b[0m \u001b[0mExceptionWrapper\u001b[0m\u001b[0;34m)\u001b[0m\u001b[0;34m:\u001b[0m\u001b[0;34m\u001b[0m\u001b[0;34m\u001b[0m\u001b[0m\n\u001b[0;32m-> 1229\u001b[0;31m             \u001b[0mdata\u001b[0m\u001b[0;34m.\u001b[0m\u001b[0mreraise\u001b[0m\u001b[0;34m(\u001b[0m\u001b[0;34m)\u001b[0m\u001b[0;34m\u001b[0m\u001b[0;34m\u001b[0m\u001b[0m\n\u001b[0m\u001b[1;32m   1230\u001b[0m         \u001b[0;32mreturn\u001b[0m \u001b[0mdata\u001b[0m\u001b[0;34m\u001b[0m\u001b[0;34m\u001b[0m\u001b[0m\n\u001b[1;32m   1231\u001b[0m \u001b[0;34m\u001b[0m\u001b[0m\n",
      "\u001b[0;32m~/.local/lib/python3.6/site-packages/torch/_utils.py\u001b[0m in \u001b[0;36mreraise\u001b[0;34m(self)\u001b[0m\n\u001b[1;32m    432\u001b[0m             \u001b[0;31m# instantiate since we don't know how to\u001b[0m\u001b[0;34m\u001b[0m\u001b[0;34m\u001b[0m\u001b[0;34m\u001b[0m\u001b[0m\n\u001b[1;32m    433\u001b[0m             \u001b[0;32mraise\u001b[0m \u001b[0mRuntimeError\u001b[0m\u001b[0;34m(\u001b[0m\u001b[0mmsg\u001b[0m\u001b[0;34m)\u001b[0m \u001b[0;32mfrom\u001b[0m \u001b[0;32mNone\u001b[0m\u001b[0;34m\u001b[0m\u001b[0;34m\u001b[0m\u001b[0m\n\u001b[0;32m--> 434\u001b[0;31m         \u001b[0;32mraise\u001b[0m \u001b[0mexception\u001b[0m\u001b[0;34m\u001b[0m\u001b[0;34m\u001b[0m\u001b[0m\n\u001b[0m\u001b[1;32m    435\u001b[0m \u001b[0;34m\u001b[0m\u001b[0m\n\u001b[1;32m    436\u001b[0m \u001b[0;34m\u001b[0m\u001b[0m\n",
      "\u001b[0;31mTypeError\u001b[0m: Caught TypeError in DataLoader worker process 0.\nOriginal Traceback (most recent call last):\n  File \"/home/jovyan/.local/lib/python3.6/site-packages/torch/utils/data/_utils/worker.py\", line 287, in _worker_loop\n    data = fetcher.fetch(index)\n  File \"/home/jovyan/.local/lib/python3.6/site-packages/torch/utils/data/_utils/fetch.py\", line 49, in fetch\n    data = [self.dataset[idx] for idx in possibly_batched_index]\n  File \"/home/jovyan/.local/lib/python3.6/site-packages/torch/utils/data/_utils/fetch.py\", line 49, in <listcomp>\n    data = [self.dataset[idx] for idx in possibly_batched_index]\n  File \"/home/jovyan/.local/lib/python3.6/site-packages/torch/utils/data/dataset.py\", line 363, in __getitem__\n    return self.dataset[self.indices[idx]]\n  File \"<ipython-input-79-c66eb8aa8d8f>\", line 112, in __getitem__\n    compound = compound_smiles_dictionary[compound_moa.iloc[a]]\n  File \"/usr/local/lib/python3.6/dist-packages/pandas/core/generic.py\", line 1669, in __hash__\n    f\"{repr(type(self).__name__)} objects are mutable, \"\nTypeError: 'Series' objects are mutable, thus they cannot be hashed\n"
     ]
    }
   ],
   "source": [
    "# training data loader\n",
    "# Display image and label   # functional\n",
    "train_compounds, train_imgs, train_labels = next(iter(training_generator))\n",
    "#print(f\"Feature batch shape: {train_features.size()}\")\n",
    "#print(f\"Labels batch shape: {train_labels.size()}\")"
   ]
  },
  {
   "cell_type": "code",
   "execution_count": null,
   "metadata": {},
   "outputs": [],
   "source": [
    "def training_loop(n_epochs, model, loss_fn, train_loader, valid_loader):\n",
    "    '''\n",
    "    n_epochs: number of epochs \n",
    "    optimizer: optimizer used to do backpropagation\n",
    "    model: deep learning architecture\n",
    "    loss_fn: loss function\n",
    "    train_loader: generator creating batches of training data\n",
    "    valid_loader: generator creating batches of validation data\n",
    "    '''\n",
    "    # lists keep track of loss and accuracy for training and validation set\n",
    "    model = model.to(device=device)\n",
    "    optimizer = torch.optim.Adam(model.parameters(),weight_decay = 1e-6, lr = 0.001, betas = (0.9, 0.999), eps = 1e-07)\n",
    "    train_loss_per_epoch = []\n",
    "    train_acc_per_epoch = []\n",
    "    val_loss_per_epoch = []\n",
    "    val_acc_per_epoch = []\n",
    "    best_val_loss = np.inf\n",
    "    for epoch in tqdm(range(1, max_epochs +1), desc = \"Epoch\", position=0, leave= True):\n",
    "        loss_train = 0.0\n",
    "        train_total = 0\n",
    "        train_correct = 0\n",
    "        for compounds, imgs, labels in train_loader:\n",
    "            optimizer.zero_grad()\n",
    "            # put model, images, labels on the same device\n",
    "            compounds = compounds.to(device = device)\n",
    "            imgs = imgs.to(device = device)\n",
    "            labels = labels.to(device= device)\n",
    "            # Training Model\n",
    "            outputs = model(compounds, imgs)\n",
    "            #print(f' Outputs : {outputs}') # tensor with 10 elements\n",
    "            #print(f' Labels : {labels}') # tensor that is a number\n",
    "            loss = loss_fn(outputs,labels)\n",
    "            # For L2 regularization\n",
    "            l2_lambda = 0.000001\n",
    "            l2_norm = sum(p.pow(2.0).sum() for p in model.parameters())\n",
    "            loss = loss + l2_lambda * l2_norm\n",
    "            # Update weights\n",
    "            loss.backward()\n",
    "            optimizer.step()\n",
    "            # Training Metrics\n",
    "            loss_train += loss.item()\n",
    "            #print(f' loss: {loss.item()}')\n",
    "            train_predicted = torch.argmax(outputs, 1)\n",
    "            #print(f' train_predicted {train_predicted}')\n",
    "            # NEW\n",
    "            labels = torch.argmax(labels,1)\n",
    "            #print(labels)\n",
    "            train_total += labels.shape[0]\n",
    "            train_correct += int((train_predicted == labels).sum())\n",
    "        # validation metrics from batch\n",
    "        val_correct, val_total, val_loss, best_val_loss_upd = validation_loop(model, loss_fn, valid_loader, best_val_loss)\n",
    "        best_val_loss = best_val_loss_upd\n",
    "        val_accuracy = val_correct/val_total\n",
    "        # printing results for epoch\n",
    "        if epoch == 1 or epoch %5 == 0:\n",
    "            print(f' {datetime.datetime.now()} Epoch: {epoch}, Training loss: {loss_train/len(train_loader)}, Validation Loss: {val_loss} ')\n",
    "        # adding epoch loss, accuracy to lists \n",
    "        val_loss_per_epoch.append(val_loss)\n",
    "        train_loss_per_epoch.append(loss_train/len(train_loader))\n",
    "        val_acc_per_epoch.append(val_accuracy)\n",
    "        train_acc_per_epoch.append(train_correct/train_total)\n",
    "    # return lists with loss, accuracy every epoch\n",
    "    return train_loss_per_epoch, train_acc_per_epoch, val_loss_per_epoch, val_acc_per_epoch\n",
    "                                \n",
    "\n",
    "# In[64]:\n",
    "\n",
    "def validation_loop(model, loss_fn, valid_loader, best_val_loss):\n",
    "    '''\n",
    "    Assessing trained model on valiidation dataset \n",
    "    model: deep learning architecture getting updated by model\n",
    "    loss_fn: loss function\n",
    "    valid_loader: generator creating batches of validation data\n",
    "    '''\n",
    "    model = model.to(device)\n",
    "    model.eval()\n",
    "    loss_val = 0.0\n",
    "    correct = 0\n",
    "    total = 0\n",
    "    with torch.no_grad():  # does not keep track of gradients so as to not train on validation data.\n",
    "        for compounds, imgs, labels in valid_loader:\n",
    "            # Move to device MAY NOT BE NECESSARY\n",
    "            compounds = compounds.to(device=device)\n",
    "            imgs = imgs.to(device = device)\n",
    "            labels = labels.to(device= device)\n",
    "            # Assessing outputs\n",
    "            outputs = model(compounds, imgs)\n",
    "            #print(f' Outputs : {outputs}') # tensor with 10 elements\n",
    "            #print(f' Labels : {labels}') # tensor that is a number\n",
    "            loss = loss_fn(outputs,labels)\n",
    "            loss_val += loss.item()\n",
    "            predicted = torch.argmax(outputs, 1)\n",
    "            labels = torch.argmax(labels,1)\n",
    "            #print(predicted)\n",
    "            #print(labels)\n",
    "            total += labels.shape[0]\n",
    "            correct += int((predicted == labels).sum())\n",
    "        avg_val_loss = loss_val/len(valid_loader)  # average loss over batch\n",
    "        if best_val_loss > loss_val:\n",
    "            best_val_loss = loss_val\n",
    "            torch.save(\n",
    "                {\n",
    "                    'model_state_dict' : model.state_dict(),\n",
    "                    'valid_loss' : loss_val\n",
    "            },  '/home/jovyan/Tomics-CP-Chem-MoA/03_Global_CStructure_CP_Models/saved_models' +'/' + 'CS_CP_least_loss_model'\n",
    "            )\n",
    "    model.train()\n",
    "    return correct, total, avg_val_loss, best_val_loss\n",
    "\n",
    "def results_assessment(y_true, y_pred):\n",
    "    save_path = '/home/jovyan/Tomics-CP-Chem-MoA/03_Global_CStructure_CP_Models/'\n",
    "    target_names = ['Aurora kinase inhibitor', 'tubulin polymerization inhibitor',\n",
    "     'JAK inhibitor', 'protein synthesis inhibitor', 'HDAC inhibitor', 'topoisomerase inhibitor', \n",
    "     'PARP inhibitor','ATPase inhibitor', 'retinoid receptor agonist', 'HSP inhibitor']\n",
    "    #print(f' true {y_true}')\n",
    "    #print(f' prediction {y_pred}')\n",
    "    for count, ele in enumerate(target_names):\n",
    "        #print(count)\n",
    "        #print(ele)\n",
    "        #print(dictionary[ele])\n",
    "        assert count == dictionary[ele], \"Mismatch with dictionary\"\n",
    "    \n",
    "    class_report_output = classification_report(y_true, y_pred)\n",
    "    try:\n",
    "        chem_struc_file= open(save_path + 'saved_classification_reports' + '/' + now + '_classif_report.txt', 'a')\n",
    "        chem_struc_file.write((class_report_output))\n",
    "        chem_struc_file.close()\n",
    "    except:\n",
    "        print(\"Unable to append to file\")\n",
    "    \n",
    "    conf_matrix = confusion_matrix(y_true, y_pred)\n",
    "    np.save((save_path + 'saved_confusion_matrices/'  + now + '_confusion_matrix.npy'), conf_matrix)\n",
    "\n",
    "\n",
    "\n",
    "def test_loop(model, loss_fn, test_loader):\n",
    "    '''\n",
    "    Assessing trained model on test dataset \n",
    "    model: deep learning architecture getting updated by model\n",
    "    loss_fn: loss function\n",
    "    test_loader: generator creating batches of test data\n",
    "    '''\n",
    "    model = model.to(device)\n",
    "    model.eval()\n",
    "    loss_test = 0.0\n",
    "    correct = 0\n",
    "    total = 0\n",
    "    all_predictions = []\n",
    "    all_labels = []\n",
    "    with torch.no_grad():  # does not keep track of gradients so as to not train on test data.\n",
    "        for compounds, imgs, labels in tqdm(test_loader,\n",
    "                                            desc = \"Test Batches w/in Epoch\",\n",
    "                                              position = 0,\n",
    "                                              leave = True):\n",
    "            # Move to device MAY NOT BE NECESSARY\n",
    "            imgs = imgs.to(device = device)\n",
    "            compounds = compounds.to(device = device)\n",
    "            labels = labels.to(device= device)\n",
    "            # Assessing outputs\n",
    "            outputs = model(compounds, imgs)\n",
    "            # print(f' Outputs : {outputs}') # tensor with 10 elements\n",
    "            # print(f' Labels : {labels}') # tensor that is a number\n",
    "            loss = loss_fn(outputs,labels)\n",
    "            loss_test += loss.item()\n",
    "            predicted = torch.argmax(outputs, 1)\n",
    "            labels = torch.argmax(labels,1)\n",
    "            #print(predicted)\n",
    "            #print(labels)\n",
    "            total += labels.shape[0]\n",
    "            correct += int((predicted == labels).sum())\n",
    "            #print(f' Predicted: {predicted.tolist()}')\n",
    "            #print(f' Labels: {predicted.tolist()}')\n",
    "            all_predictions = all_predictions + predicted.tolist()\n",
    "            all_labels = all_labels + labels.tolist()\n",
    "        results_assessment(all_predictions, all_labels)\n",
    "        avg_test_loss = loss_test/len(test_loader)  # average loss over batch\n",
    "    return correct, total, avg_test_loss\n",
    "\n",
    "\n",
    "\n",
    "# In[69]:\n",
    "\n",
    "\n",
    "def val_vs_train_loss(epochs, train_loss, val_loss):\n",
    "    ''' \n",
    "    Plotting validation versus training loss over time\n",
    "    epochs: number of epochs that the model ran (int. hyperparameter)\n",
    "    train_loss: training loss per epoch (python list)\n",
    "    val_loss: validation loss per epoch (python list)\n",
    "    ''' \n",
    "    loss_path_to_save = '/home/jovyan/Tomics-CP-Chem-MoA/03_Global_CStructure_CP_Models/saved_images'\n",
    "    plt.figure()\n",
    "    x_axis = list(range(1, epochs +1)) # create x axis with number of\n",
    "    plt.plot(x_axis, train_loss, label = \"train_loss\")\n",
    "    plt.plot(x_axis, val_loss, label = \"val_loss\")\n",
    "    # Figure description\n",
    "    plt.xlabel('# of Epochs')\n",
    "    plt.ylabel('Loss')\n",
    "    plt.title('Validation versus Training Loss: CP Image Model')\n",
    "    plt.legend()\n",
    "    # plot\n",
    "    plt.show()\n",
    "    plt.savefig(loss_path_to_save + '/' + 'loss_train_val'+ now)\n",
    "\n",
    "\n",
    "\n",
    "# In[70]:\n",
    "\n",
    "\n",
    "def val_vs_train_accuracy(epochs, train_acc, val_acc):\n",
    "    '''\n",
    "    Plotting validation versus training loss over time\n",
    "    epochs: number of epochs that the model ran (int. hyperparameter)\n",
    "    train_acc: accuracy loss per epoch (python list)\n",
    "    val_acc: accuracy loss per epoch (python list)\n",
    "    '''\n",
    "    acc_path_to_save = '/home/jovyan/Tomics-CP-Chem-MoA/03_Global_CStructure_CP_Models/saved_images'\n",
    "    plt.figure()\n",
    "    x_axis = list(range(1, epochs +1)) # create x axis with number of\n",
    "    plt.plot(x_axis, train_acc, label = \"train_acc\")\n",
    "    plt.plot(x_axis, val_acc, label = \"val_acc\")\n",
    "    # Figure description\n",
    "    plt.xlabel('# of Epochs')\n",
    "    plt.ylabel('Accuracy')\n",
    "    plt.title('Validation versus Training Accuracy: CP Image Model')\n",
    "    plt.legend()\n",
    "    # plot\n",
    "    plt.savefig(acc_path_to_save + '/' + 'acc_train_val' + now)\n",
    "\n",
    "\n",
    "# In[71]:\n",
    "\n",
    "\n"
   ]
  },
  {
   "cell_type": "code",
   "execution_count": null,
   "metadata": {},
   "outputs": [],
   "source": [
    "# loss_function\n",
    "if apply_class_weights == True:\n",
    "    loss_function = torch.nn.CrossEntropyLoss(class_weights)\n",
    "else:\n",
    "    loss_function = torch.nn.CrossEntropyLoss()\n"
   ]
  },
  {
   "cell_type": "code",
   "execution_count": null,
   "metadata": {},
   "outputs": [],
   "source": [
    "def set_parameter_requires_grad(model, feature_extracting):\n",
    "    '''\n",
    "    Turns off tracking of gradients\n",
    "    '''\n",
    "    print(\"feature extracting in progress\")\n",
    "    if feature_extracting:\n",
    "        for param in model.parameters():\n",
    "            param.requires_grad = False\n",
    "    else:\n",
    "        for param in model.parameters():\n",
    "            param.requires_grad = True"
   ]
  },
  {
   "cell_type": "code",
   "execution_count": 25,
   "metadata": {},
   "outputs": [],
   "source": [
    "from efficientnet_pytorch import EfficientNet             # have to download it, since latest version can use torchvision.models\n",
    "#base_model = EfficientNet.from_name('efficientnet-b1', include_top=False, in_channels = 5)\n",
    "\n",
    "class image_network(nn.Module):\n",
    "    def __init__(self):\n",
    "        super().__init__()\n",
    "        self.base_model = EfficientNet.from_name('efficientnet-b1', include_top=False, in_channels = 5)\n",
    "        self.dropout_1 = nn.Dropout(p = 0.3)\n",
    "        self.Linear_last = nn.Linear(1280, 10)\n",
    "        #self.softmax = nn.Softmax(dim = 1)\n",
    "    \n",
    "    def forward(self, x):\n",
    "        out = self.dropout_1(self.base_model(x))\n",
    "        out = out.view(-1, 1280)\n",
    "        out = self.Linear_last(out)\n",
    "        # out = self.softmax(out) # don't need softmax when using CrossEntropyLoss\n",
    "        return out"
   ]
  },
  {
   "cell_type": "code",
   "execution_count": 26,
   "metadata": {},
   "outputs": [],
   "source": [
    "seq_model = nn.Sequential(\n",
    "    nn.Linear(2048, 128),\n",
    "    nn.ReLU(),\n",
    "    nn.Dropout(p = 0.89),\n",
    "    nn.Linear(128,64),\n",
    "    nn.ReLU(),\n",
    "    nn.Linear(64, 10))"
   ]
  },
  {
   "cell_type": "code",
   "execution_count": 27,
   "metadata": {},
   "outputs": [],
   "source": [
    "# create a model combining both models\n",
    "class CStructure_CP(nn.Module):\n",
    "    def __init__(self, modelCS, modelCP):\n",
    "        super(CStructure_CP, self).__init__()\n",
    "        self.modelCS = modelCS\n",
    "        self.modelCP = modelCP\n",
    "        self.linear_layer1 = nn.Linear(int(1280 + 64), 128)\n",
    "        self.relu1 = nn.ReLU()\n",
    "        self.linear_layer2 = nn.Linear(128,10)\n",
    "       \n",
    "    def forward(self, x1, x2):\n",
    "        #print(f' compound: {x1.size()}')\n",
    "        #print(f' image: {x2.size()}')\n",
    "        x1 = self.modelCS(x1)\n",
    "        x2 = self.modelCP(x2)\n",
    "        x  = torch.cat((x1, x2), dim = 1)\n",
    "        x = self.relu1(self.linear_layer1(x))\n",
    "        output = self.linear_layer2(x)\n",
    "        return output"
   ]
  },
  {
   "cell_type": "markdown",
   "metadata": {},
   "source": [
    "## Feature Extraction"
   ]
  },
  {
   "cell_type": "code",
   "execution_count": 28,
   "metadata": {},
   "outputs": [],
   "source": [
    "model_extraction = True"
   ]
  },
  {
   "cell_type": "code",
   "execution_count": 29,
   "metadata": {},
   "outputs": [],
   "source": [
    "#modelCP= torch.load('/home/jovyan/Tomics-CP-Chem-MoA/02_CP_Models/saved_models/CP_least_loss_model')\n",
    "#modelCP.parameters()"
   ]
  },
  {
   "cell_type": "code",
   "execution_count": 30,
   "metadata": {},
   "outputs": [
    {
     "name": "stdout",
     "output_type": "stream",
     "text": [
      "feature extracting in progress\n"
     ]
    },
    {
     "data": {
      "text/plain": [
       "==================================================================================================================================\n",
       "Layer (type:depth-idx)                                  Kernel Shape              Output Shape              Param #\n",
       "==================================================================================================================================\n",
       "image_network                                           --                        --                        --\n",
       "├─EfficientNet: 1                                       --                        --                        --\n",
       "│    └─ModuleList: 2-1                                  --                        --                        --\n",
       "├─EfficientNet: 1-1                                     --                        [4, 1280, 1, 1]           --\n",
       "│    └─Conv2dStaticSamePadding: 2-2                     [5, 32, 3, 3]             [4, 32, 128, 128]         --\n",
       "│    │    └─ZeroPad2d: 3-1                              --                        [4, 5, 257, 257]          --\n",
       "│    └─BatchNorm2d: 2-3                                 [32]                      [4, 32, 128, 128]         (64)\n",
       "│    └─MemoryEfficientSwish: 2-4                        --                        [4, 32, 128, 128]         --\n",
       "│    └─ModuleList: 2-1                                  --                        --                        --\n",
       "│    │    └─MBConvBlock: 3-2                            --                        [4, 16, 128, 128]         (1,448)\n",
       "│    │    └─MBConvBlock: 3-3                            --                        [4, 16, 128, 128]         (612)\n",
       "│    │    └─MBConvBlock: 3-4                            --                        [4, 24, 64, 64]           (6,004)\n",
       "│    │    └─MBConvBlock: 3-5                            --                        [4, 24, 64, 64]           (10,710)\n",
       "│    │    └─MBConvBlock: 3-6                            --                        [4, 24, 64, 64]           (10,710)\n",
       "│    │    └─MBConvBlock: 3-7                            --                        [4, 40, 32, 32]           (15,350)\n",
       "│    │    └─MBConvBlock: 3-8                            --                        [4, 40, 32, 32]           (31,290)\n",
       "│    │    └─MBConvBlock: 3-9                            --                        [4, 40, 32, 32]           (31,290)\n",
       "│    │    └─MBConvBlock: 3-10                           --                        [4, 80, 16, 16]           (37,130)\n",
       "│    │    └─MBConvBlock: 3-11                           --                        [4, 80, 16, 16]           (102,900)\n",
       "│    │    └─MBConvBlock: 3-12                           --                        [4, 80, 16, 16]           (102,900)\n",
       "│    │    └─MBConvBlock: 3-13                           --                        [4, 80, 16, 16]           (102,900)\n",
       "│    │    └─MBConvBlock: 3-14                           --                        [4, 112, 16, 16]          (126,004)\n",
       "│    │    └─MBConvBlock: 3-15                           --                        [4, 112, 16, 16]          (208,572)\n",
       "│    │    └─MBConvBlock: 3-16                           --                        [4, 112, 16, 16]          (208,572)\n",
       "│    │    └─MBConvBlock: 3-17                           --                        [4, 112, 16, 16]          (208,572)\n",
       "│    │    └─MBConvBlock: 3-18                           --                        [4, 192, 8, 8]            (262,492)\n",
       "│    │    └─MBConvBlock: 3-19                           --                        [4, 192, 8, 8]            (587,952)\n",
       "│    │    └─MBConvBlock: 3-20                           --                        [4, 192, 8, 8]            (587,952)\n",
       "│    │    └─MBConvBlock: 3-21                           --                        [4, 192, 8, 8]            (587,952)\n",
       "│    │    └─MBConvBlock: 3-22                           --                        [4, 192, 8, 8]            (587,952)\n",
       "│    │    └─MBConvBlock: 3-23                           --                        [4, 320, 8, 8]            (717,232)\n",
       "│    │    └─MBConvBlock: 3-24                           --                        [4, 320, 8, 8]            (1,563,600)\n",
       "│    └─Conv2dStaticSamePadding: 2-5                     [320, 1280, 1, 1]         [4, 1280, 8, 8]           --\n",
       "│    │    └─Identity: 3-25                              --                        [4, 320, 8, 8]            --\n",
       "│    └─BatchNorm2d: 2-6                                 [1280]                    [4, 1280, 8, 8]           (2,560)\n",
       "│    └─MemoryEfficientSwish: 2-7                        --                        [4, 1280, 8, 8]           --\n",
       "│    └─AdaptiveAvgPool2d: 2-8                           --                        [4, 1280, 1, 1]           --\n",
       "├─Dropout: 1-2                                          --                        [4, 1280, 1, 1]           --\n",
       "├─Identity: 1-3                                         --                        [4, 1280]                 --\n",
       "==================================================================================================================================\n",
       "Total params: 62,048\n",
       "Trainable params: 0\n",
       "Non-trainable params: 62,048\n",
       "Total mult-adds (M): 0.25\n",
       "==================================================================================================================================\n",
       "Input size (MB): 5.24\n",
       "Forward/backward pass size (MB): 390.40\n",
       "Params size (MB): 0.25\n",
       "Estimated Total Size (MB): 395.89\n",
       "=================================================================================================================================="
      ]
     },
     "execution_count": 30,
     "metadata": {},
     "output_type": "execute_result"
    }
   ],
   "source": [
    "# Create Model for Cell Painting\n",
    "modelCP = image_network()\n",
    "checkpoint = torch.load('/home/jovyan/Tomics-CP-Chem-MoA/02_CP_Models/saved_models/CP_least_loss_model') # gives dictionary\n",
    "#try: \n",
    "#    checkpoint.eval()\n",
    "#except AttributeError as error:\n",
    "#    print(\"error\")\n",
    "\n",
    "### 'dict' object has no attribute 'eval'\n",
    "modelCP.load_state_dict(checkpoint[\"model_state_dict\"])\n",
    "set_parameter_requires_grad(modelCP, model_extraction)\n",
    "modelCP.Linear_last = nn.Identity()\n",
    "# modelCP.to(device)\n",
    "torchinfo.summary(modelCP, (4, 5, 256,256), col_names=[\"kernel_size\", \"output_size\", \"num_params\"])"
   ]
  },
  {
   "cell_type": "markdown",
   "metadata": {},
   "source": []
  },
  {
   "cell_type": "code",
   "execution_count": 31,
   "metadata": {},
   "outputs": [
    {
     "data": {
      "text/plain": [
       "===================================================================================================================\n",
       "Layer (type:depth-idx)                   Kernel Shape              Output Shape              Param #\n",
       "===================================================================================================================\n",
       "Sequential                               --                        --                        --\n",
       "├─Linear: 1-1                            [2048, 128]               [4, 128]                  262,272\n",
       "├─ReLU: 1-2                              --                        [4, 128]                  --\n",
       "├─Dropout: 1-3                           --                        [4, 128]                  --\n",
       "├─Linear: 1-4                            [128, 64]                 [4, 64]                   8,256\n",
       "===================================================================================================================\n",
       "Total params: 270,528\n",
       "Trainable params: 270,528\n",
       "Non-trainable params: 0\n",
       "Total mult-adds (M): 1.08\n",
       "===================================================================================================================\n",
       "Input size (MB): 0.03\n",
       "Forward/backward pass size (MB): 0.01\n",
       "Params size (MB): 1.08\n",
       "Estimated Total Size (MB): 1.12\n",
       "==================================================================================================================="
      ]
     },
     "execution_count": 31,
     "metadata": {},
     "output_type": "execute_result"
    }
   ],
   "source": [
    "modelCS = seq_model\n",
    "checkpoint = torch.load('/home/jovyan/Tomics-CP-Chem-MoA/01_CStructure_Models/saved_models/ChemStruc_Least_Loss_Model')\n",
    "modelCS.load_state_dict(checkpoint[\"model_state_dict\"])\n",
    "modelCS = nn.Sequential(*[modelCS[i] for i in range(4)])\n",
    "modelCS.to(device)\n",
    "torchinfo.summary(modelCS, (4, 2048), col_names=[\"kernel_size\", \"output_size\", \"num_params\"])\n",
    "#set_parameter_requires_grad(modelCP, model_extraction)"
   ]
  },
  {
   "cell_type": "markdown",
   "metadata": {},
   "source": []
  },
  {
   "cell_type": "code",
   "execution_count": 32,
   "metadata": {},
   "outputs": [],
   "source": [
    "# Load state_dicts\n",
    "CS_CP_jointmodel = CStructure_CP(modelCS, modelCP)\n"
   ]
  },
  {
   "cell_type": "code",
   "execution_count": 33,
   "metadata": {},
   "outputs": [
    {
     "name": "stderr",
     "output_type": "stream",
     "text": [
      "Epoch:  10%|█         | 1/10 [00:18<02:50, 18.90s/it]"
     ]
    },
    {
     "name": "stdout",
     "output_type": "stream",
     "text": [
      " 2022-12-19 17:19:39.750212 Epoch: 1, Training loss: 0.10917505276324989, Validation Loss: 0.01658000157807361 \n"
     ]
    },
    {
     "name": "stderr",
     "output_type": "stream",
     "text": [
      "Epoch:  50%|█████     | 5/10 [01:18<01:15, 15.12s/it]"
     ]
    },
    {
     "name": "stdout",
     "output_type": "stream",
     "text": [
      " 2022-12-19 17:20:39.512735 Epoch: 5, Training loss: 0.03251455396812104, Validation Loss: 0.003473779281193856 \n"
     ]
    },
    {
     "name": "stderr",
     "output_type": "stream",
     "text": [
      "Epoch: 100%|██████████| 10/10 [02:30<00:00, 15.05s/it]"
     ]
    },
    {
     "name": "stdout",
     "output_type": "stream",
     "text": [
      " 2022-12-19 17:21:51.392020 Epoch: 10, Training loss: 0.025921447425143525, Validation Loss: 0.0034234904092820466 \n"
     ]
    },
    {
     "name": "stderr",
     "output_type": "stream",
     "text": [
      "\n"
     ]
    }
   ],
   "source": [
    "train_loss_per_epoch, train_acc_per_epoch, val_loss_per_epoch, val_acc_per_epoch = training_loop(n_epochs = max_epochs,\n",
    "              #optimizer = optimizer,\n",
    "              model = CS_CP_jointmodel,\n",
    "              loss_fn = loss_function,\n",
    "              train_loader=training_generator, \n",
    "              valid_loader=valid_generator)\n"
   ]
  },
  {
   "cell_type": "code",
   "execution_count": 34,
   "metadata": {},
   "outputs": [
    {
     "data": {
      "image/png": "[encoded data removed]",
      "text/plain": [
       "<Figure size 432x288 with 1 Axes>"
      ]
     },
     "metadata": {
      "needs_background": "light"
     },
     "output_type": "display_data"
    },
    {
     "name": "stderr",
     "output_type": "stream",
     "text": [
      "Test Batches w/in Epoch: 100%|██████████| 20/20 [00:03<00:00,  6.24it/s]\n"
     ]
    },
    {
     "name": "stdout",
     "output_type": "stream",
     "text": [
      "╒══════════════════════╤══════════╕\n",
      "│ Time to Run Program  │ 2.67 min │\n",
      "├──────────────────────┼──────────┤\n",
      "│ Accuracy of Test Set │ 98.98 %  │\n",
      "╘══════════════════════╧══════════╛\n"
     ]
    },
    {
     "data": {
      "text/plain": [
       "<Figure size 432x288 with 0 Axes>"
      ]
     },
     "metadata": {},
     "output_type": "display_data"
    },
    {
     "data": {
      "image/png": "[encoded data removed]",
      "text/plain": [
       "<Figure size 432x288 with 1 Axes>"
      ]
     },
     "metadata": {
      "needs_background": "light"
     },
     "output_type": "display_data"
    }
   ],
   "source": [
    "val_vs_train_loss(max_epochs,train_loss_per_epoch, val_loss_per_epoch)\n",
    "\n",
    "\n",
    "# In[72]:\n",
    "\n",
    "\n",
    "val_vs_train_accuracy(max_epochs, train_acc_per_epoch, val_acc_per_epoch)\n",
    "\n",
    "correct, total, avg_test_loss = test_loop(model = CS_CP_jointmodel,\n",
    "                                          loss_fn = loss_function, \n",
    "                                          test_loader = test_generator)\n",
    "\n",
    "end = time.time()\n",
    "def program_elapsed_time(start, end):\n",
    "    program_time = round(end - start, 2) \n",
    "    #print(program_time)\n",
    "    if program_time > float(60) and program_time < 60*60:\n",
    "        program_time =  program_time/60\n",
    "        time_elapsed = str(program_time) + ' min'\n",
    "    elif program_time > 60*60:\n",
    "        program_time = program_time/3600\n",
    "        time_elapsed = str(program_time) + ' hrs'\n",
    "    else:\n",
    "        time_elapsed = str(program_time) + ' sec'\n",
    "    return time_elapsed\n",
    "program_elapsed_time = program_elapsed_time(start, end)\n",
    "\n",
    "test_set_acc = f' {round(correct/total*100, 2)} %'\n",
    "table = [[\"Time to Run Program\", program_elapsed_time],\n",
    "['Accuracy of Test Set', test_set_acc]]\n",
    "print(tabulate(table, tablefmt='fancy_grid'))\n"
   ]
  },
  {
   "cell_type": "markdown",
   "metadata": {},
   "source": [
    "## Fintuning"
   ]
  },
  {
   "cell_type": "code",
   "execution_count": 35,
   "metadata": {},
   "outputs": [
    {
     "name": "stdout",
     "output_type": "stream",
     "text": [
      "feature extracting in progress\n"
     ]
    }
   ],
   "source": [
    "model_extraction = False\n",
    "set_parameter_requires_grad(CS_CP_jointmodel, model_extraction)\n"
   ]
  },
  {
   "cell_type": "code",
   "execution_count": 36,
   "metadata": {},
   "outputs": [
    {
     "name": "stderr",
     "output_type": "stream",
     "text": [
      "Epoch:  10%|█         | 1/10 [00:28<04:13, 28.13s/it]"
     ]
    },
    {
     "name": "stdout",
     "output_type": "stream",
     "text": [
      " 2022-12-19 17:22:23.349737 Epoch: 1, Training loss: 0.01772420039787045, Validation Loss: 0.0034807326711643327 \n"
     ]
    },
    {
     "name": "stderr",
     "output_type": "stream",
     "text": [
      "Epoch:  50%|█████     | 5/10 [02:25<02:25, 29.19s/it]"
     ]
    },
    {
     "name": "stdout",
     "output_type": "stream",
     "text": [
      " 2022-12-19 17:24:20.640232 Epoch: 5, Training loss: 0.031441239118810346, Validation Loss: 0.006736137258588893 \n"
     ]
    },
    {
     "name": "stderr",
     "output_type": "stream",
     "text": [
      "Epoch: 100%|██████████| 10/10 [04:51<00:00, 29.15s/it]"
     ]
    },
    {
     "name": "stdout",
     "output_type": "stream",
     "text": [
      " 2022-12-19 17:26:46.710989 Epoch: 10, Training loss: 0.03604169228588635, Validation Loss: 0.001539302654132319 \n"
     ]
    },
    {
     "name": "stderr",
     "output_type": "stream",
     "text": [
      "\n"
     ]
    }
   ],
   "source": [
    "train_loss_per_epoch, train_acc_per_epoch, val_loss_per_epoch, val_acc_per_epoch = training_loop(n_epochs = max_epochs,\n",
    "              #optimizer = optimizer,\n",
    "              model = CS_CP_jointmodel,\n",
    "              loss_fn = loss_function,\n",
    "              train_loader=training_generator, \n",
    "              valid_loader=valid_generator)\n"
   ]
  },
  {
   "cell_type": "code",
   "execution_count": 37,
   "metadata": {},
   "outputs": [
    {
     "data": {
      "image/png": "[encoded data removed]",
      "text/plain": [
       "<Figure size 432x288 with 1 Axes>"
      ]
     },
     "metadata": {
      "needs_background": "light"
     },
     "output_type": "display_data"
    },
    {
     "name": "stderr",
     "output_type": "stream",
     "text": [
      "Test Batches w/in Epoch: 100%|██████████| 20/20 [00:02<00:00,  9.75it/s]"
     ]
    },
    {
     "name": "stdout",
     "output_type": "stream",
     "text": [
      "454.31\n",
      "╒══════════════════════╤═══════════════════════╕\n",
      "│ Time to Run Program  │ 7.571833333333333 min │\n",
      "├──────────────────────┼───────────────────────┤\n",
      "│ Accuracy of Test Set │ 100.0 %               │\n",
      "╘══════════════════════╧═══════════════════════╛\n"
     ]
    },
    {
     "name": "stderr",
     "output_type": "stream",
     "text": [
      "\n"
     ]
    },
    {
     "data": {
      "text/plain": [
       "<Figure size 432x288 with 0 Axes>"
      ]
     },
     "metadata": {},
     "output_type": "display_data"
    },
    {
     "data": {
      "image/png": "[encoded data removed]",
      "text/plain": [
       "<Figure size 432x288 with 1 Axes>"
      ]
     },
     "metadata": {
      "needs_background": "light"
     },
     "output_type": "display_data"
    }
   ],
   "source": [
    "val_vs_train_loss(max_epochs,train_loss_per_epoch, val_loss_per_epoch)\n",
    "\n",
    "\n",
    "# In[72]:\n",
    "\n",
    "\n",
    "val_vs_train_accuracy(max_epochs, train_acc_per_epoch, val_acc_per_epoch)\n",
    "\n",
    "correct, total, avg_test_loss = test_loop(model = CS_CP_jointmodel,\n",
    "                                          loss_fn = loss_function, \n",
    "                                          test_loader = test_generator)\n",
    "\n",
    "end = time.time()\n",
    "def program_elapsed_time(start, end):\n",
    "    program_time = round(end - start, 2) \n",
    "    print(program_time)\n",
    "    if program_time > float(60) and program_time < 60*60:\n",
    "        program_time =  program_time/60\n",
    "        time_elapsed = str(program_time) + ' min'\n",
    "    elif program_time > 60*60:\n",
    "        program_time = program_time/3600\n",
    "        time_elapsed = str(program_time) + ' hrs'\n",
    "    else:\n",
    "        time_elapsed = str(program_time) + ' sec'\n",
    "    return time_elapsed\n",
    "program_elapsed_time = program_elapsed_time(start, end)\n",
    "\n",
    "test_set_acc = f' {round(correct/total*100, 2)} %'\n",
    "table = [[\"Time to Run Program\", program_elapsed_time],\n",
    "['Accuracy of Test Set', test_set_acc]]\n",
    "print(tabulate(table, tablefmt='fancy_grid'))"
   ]
  },
  {
   "cell_type": "code",
   "execution_count": null,
   "metadata": {},
   "outputs": [],
   "source": []
  }
 ],
 "metadata": {
  "accelerator": "GPU",
  "colab": {
   "collapsed_sections": [],
   "machine_shape": "hm",
   "provenance": []
  },
  "gpuClass": "standard",
  "kernelspec": {
   "display_name": "Python 3",
   "language": "python",
   "name": "python3"
  },
  "language_info": {
   "codemirror_mode": {
    "name": "ipython",
    "version": 3
   },
   "file_extension": ".py",
   "mimetype": "text/x-python",
   "name": "python",
   "nbconvert_exporter": "python",
   "pygments_lexer": "ipython3",
   "version": "3.6.9"
  },
  "vscode": {
   "interpreter": {
    "hash": "767d51c1340bd893661ea55ea3124f6de3c7a262a8b4abca0554b478b1e2ff90"
   }
  }
 },
 "nbformat": 4,
 "nbformat_minor": 4
}

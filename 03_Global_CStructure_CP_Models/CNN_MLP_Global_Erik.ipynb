{
 "cells": [
  {
   "cell_type": "markdown",
   "metadata": {
    "id": "FlP8CMo59cL2"
   },
   "source": [
    "# Integrate MLP and CNN."
   ]
  },
  {
   "cell_type": "code",
   "execution_count": 517,
   "metadata": {},
   "outputs": [],
   "source": [
    "# Import Statements\n",
    "from rdkit import Chem\n",
    "from rdkit.Chem import DataStructs, AllChem\n",
    "import pandas as pd\n",
    "import numpy as np\n",
    "import matplotlib.pyplot as plt\n",
    "from sklearn.model_selection import train_test_split # Functipn to split data into training, validation and test sets\n",
    "from sklearn.metrics import classification_report, confusion_matrix\n",
    "import pickle\n",
    "import glob   # The glob module finds all the pathnames matching a specified pattern according to the rules used by the Unix shell, although results are returned in arbitrary order. No tilde expansion is done, but *, ?, and character ranges expressed with [] will be correctly matched.\n",
    "import os   # miscellneous operating system interfaces. This module provides a portable way of using operating system dependent functionality. If you just want to read or write a file see open(), if you want to manipulate paths, see the os.path module, and if you want to read all the lines in all the files on the command line see the fileinput module.\n",
    "import random       \n",
    "from tqdm import tqdm \n",
    "from tqdm.notebook import tqdm_notebook\n",
    "import datetime\n",
    "import time\n",
    "from tabulate import tabulate\n",
    "\n",
    "# Torch\n",
    "import torch\n",
    "from torchvision import transforms\n",
    "import torchvision.models as models\n",
    "import torch.nn as nn\n",
    "import torchinfo\n",
    "\n",
    "\n",
    "# Image analysis packages\n",
    "import albumentations as A \n",
    "import cv2          "
   ]
  },
  {
   "cell_type": "code",
   "execution_count": 518,
   "metadata": {},
   "outputs": [],
   "source": [
    "# In[2]:\n",
    "start = time.time()\n",
    "now = datetime.datetime.now()\n",
    "now = now.strftime(\"%d_%m_%Y-%H:%M:%S\")\n",
    "\n",
    "# get the dictionary for compound_id-SMILES pair \n",
    "compound_smiles_dictionary = pickle.load(open(\"/home/jovyan/Tomics-CP-Chem-MoA/data_for_models/dictionary2.pickle\", \"rb\"))"
   ]
  },
  {
   "cell_type": "code",
   "execution_count": null,
   "metadata": {},
   "outputs": [],
   "source": []
  },
  {
   "cell_type": "code",
   "execution_count": 519,
   "metadata": {},
   "outputs": [
    {
     "data": {
      "text/plain": [
       "tensor([[1., 0., 0.,  ..., 0., 0., 0.],\n",
       "        [0., 0., 0.,  ..., 0., 0., 0.],\n",
       "        [0., 0., 0.,  ..., 0., 0., 0.],\n",
       "        ...,\n",
       "        [0., 0., 0.,  ..., 0., 0., 0.],\n",
       "        [0., 0., 0.,  ..., 0., 0., 0.],\n",
       "        [0., 1., 0.,  ..., 0., 0., 0.]])"
      ]
     },
     "execution_count": 519,
     "metadata": {},
     "output_type": "execute_result"
    }
   ],
   "source": [
    "# 10 selected MoAs \n",
    "moas_to_use = ['Aurora kinase inhibitor', 'tubulin polymerization inhibitor', 'JAK inhibitor', 'protein synthesis inhibitor', 'HDAC inhibitor', \n",
    "        'topoisomerase inhibitor', 'PARP inhibitor', 'ATPase inhibitor', 'retinoid receptor agonist', 'HSP inhibitor']\n",
    "\n",
    "\n",
    "# read the data \n",
    "all_data = pd.read_csv('/home/jovyan/Tomics-CP-Chem-MoA/data_for_models/all_data.csv')\n",
    "\n",
    "\n",
    "# In[6]:\n",
    "\n",
    "\n",
    "# Limiting the data to the first 2000 rows\n",
    "testing = True\n",
    "if testing == True:\n",
    "    all_data = all_data[0:1000]\n",
    "\n",
    "\n",
    "# In[7]:\n",
    "\n",
    "\n",
    "# drop random previous index in table above\n",
    "all_data.drop(all_data.columns[[0,11, 12]], axis=1, inplace=True) # Check that reading the data worked \n",
    "\n",
    "\n",
    "# In[8]:\n",
    "\n",
    "\n",
    "dictionary = {'ATPase inhibitor': 7, 'Aurora kinase inhibitor': 0,\n",
    " 'HDAC inhibitor': 4, 'HSP inhibitor': 9, 'JAK inhibitor': 2, 'PARP inhibitor': 6,\n",
    " 'protein synthesis inhibitor': 3, 'retinoid receptor agonist': 8,\n",
    " 'topoisomerase inhibitor': 5, 'tubulin polymerization inhibitor': 1}\n",
    "\n",
    "\n",
    "# In[9]:\n",
    "\n",
    "\n",
    "num_classes = len(dictionary) \n",
    "#num_classes\n",
    "\n",
    "\n",
    "# In[10]:\n",
    "\n",
    "\n",
    "# change moa to classes \n",
    "all_data['classes'] = None\n",
    "for i in range(all_data.shape[0]):\n",
    "    all_data.iloc[i, 10] = dictionary[all_data.iloc[i, 9]]\n",
    "\n",
    "\n",
    "# In[11]:\n",
    "\n",
    "\n",
    "# get the compound-MoA pair \n",
    "compound_moa = all_data[['compound','moa']].drop_duplicates()\n",
    "\n",
    "\n",
    "# In[12]:\n",
    "\n",
    "\n",
    "# creating tensor from all_data.df\n",
    "target = torch.tensor(all_data['classes'].values.astype(np.int64))\n",
    "target, target.shape\n",
    "\n",
    "\n",
    "# In[13]:\n",
    "\n",
    "# For each row, take the index of the tar- get label\n",
    "# (which coincides with the score in our case) and use it as the column index to set the value 1.0.” \n",
    "target_onehot = torch.zeros(target.shape[0], num_classes)\n",
    "target_onehot.scatter_(1, target.unsqueeze(1), 1.0)\n",
    "\n",
    "\n",
    "# In[14]:"
   ]
  },
  {
   "cell_type": "code",
   "execution_count": 520,
   "metadata": {},
   "outputs": [],
   "source": [
    "# split dataset into test and training/validation sets (10-90 split)\n",
    "compound_CP_train_valid, compound_CP_test, compound_CP_moa_train_valid, compound_CP_moa_test = train_test_split(\n",
    "  compound_moa.compound, compound_moa.moa, test_size = 0.10, stratify = compound_moa.moa, \n",
    "  shuffle = True, random_state = 1)\n",
    "\n",
    "\n",
    "# Split data set into training and validation sets (1 to 9)\n",
    "# Same as above, but does split of only training data into training and validation data (in order to take advantage of stratification parameter)\n",
    "compound_CP_train, compound_CP_valid, compound_CP_moa_train, compound_CP_moa_valid = train_test_split(\n",
    "  compound_CP_train_valid, compound_CP_moa_train_valid, test_size = 10/90, stratify = compound_CP_moa_train_valid,\n",
    "  shuffle = True, random_state = 62757)"
   ]
  },
  {
   "cell_type": "code",
   "execution_count": 521,
   "metadata": {},
   "outputs": [
    {
     "data": {
      "text/plain": [
       "dtype('O')"
      ]
     },
     "execution_count": 521,
     "metadata": {},
     "output_type": "execute_result"
    }
   ],
   "source": [
    "compound_CP_train.dtypes\n"
   ]
  },
  {
   "cell_type": "code",
   "execution_count": 522,
   "metadata": {},
   "outputs": [
    {
     "data": {
      "text/plain": [
       "' Explanation\\nreset_index = create new index starting from zero \\ndrop: drop previous index.\\n'"
      ]
     },
     "execution_count": 522,
     "metadata": {},
     "output_type": "execute_result"
    }
   ],
   "source": [
    "# get the train, valid and test set by for every compound in data set, if it is in train, valid or test, return all info from all_data in new df.\n",
    "train = all_data[all_data['compound'].isin(compound_CP_train)]\n",
    "valid = all_data[all_data['compound'].isin(compound_CP_valid)]\n",
    "test  = all_data[all_data['compound'].isin(compound_CP_test)]\n",
    "''' Explanation\n",
    "reset_index = create new index starting from zero \n",
    "drop: drop previous index.\n",
    "'''"
   ]
  },
  {
   "cell_type": "code",
   "execution_count": 523,
   "metadata": {},
   "outputs": [
    {
     "data": {
      "text/html": [
       "<div>\n",
       "<style scoped>\n",
       "    .dataframe tbody tr th:only-of-type {\n",
       "        vertical-align: middle;\n",
       "    }\n",
       "\n",
       "    .dataframe tbody tr th {\n",
       "        vertical-align: top;\n",
       "    }\n",
       "\n",
       "    .dataframe thead th {\n",
       "        text-align: right;\n",
       "    }\n",
       "</style>\n",
       "<table border=\"1\" class=\"dataframe\">\n",
       "  <thead>\n",
       "    <tr style=\"text-align: right;\">\n",
       "      <th></th>\n",
       "      <th>plate</th>\n",
       "      <th>well</th>\n",
       "      <th>compound</th>\n",
       "      <th>path</th>\n",
       "      <th>C1</th>\n",
       "      <th>C2</th>\n",
       "      <th>C3</th>\n",
       "      <th>C4</th>\n",
       "      <th>C5</th>\n",
       "      <th>moa</th>\n",
       "      <th>classes</th>\n",
       "    </tr>\n",
       "  </thead>\n",
       "  <tbody>\n",
       "  </tbody>\n",
       "</table>\n",
       "</div>"
      ],
      "text/plain": [
       "Empty DataFrame\n",
       "Columns: [plate, well, compound, path, C1, C2, C3, C4, C5, moa, classes]\n",
       "Index: []"
      ]
     },
     "execution_count": 523,
     "metadata": {},
     "output_type": "execute_result"
    }
   ],
   "source": [
    "train[train.compound.isin(valid.compound.unique())]"
   ]
  },
  {
   "cell_type": "code",
   "execution_count": 524,
   "metadata": {},
   "outputs": [
    {
     "data": {
      "text/html": [
       "<div>\n",
       "<style scoped>\n",
       "    .dataframe tbody tr th:only-of-type {\n",
       "        vertical-align: middle;\n",
       "    }\n",
       "\n",
       "    .dataframe tbody tr th {\n",
       "        vertical-align: top;\n",
       "    }\n",
       "\n",
       "    .dataframe thead th {\n",
       "        text-align: right;\n",
       "    }\n",
       "</style>\n",
       "<table border=\"1\" class=\"dataframe\">\n",
       "  <thead>\n",
       "    <tr style=\"text-align: right;\">\n",
       "      <th></th>\n",
       "      <th>plate</th>\n",
       "      <th>well</th>\n",
       "      <th>compound</th>\n",
       "      <th>path</th>\n",
       "      <th>C1</th>\n",
       "      <th>C2</th>\n",
       "      <th>C3</th>\n",
       "      <th>C4</th>\n",
       "      <th>C5</th>\n",
       "      <th>moa</th>\n",
       "      <th>classes</th>\n",
       "    </tr>\n",
       "  </thead>\n",
       "  <tbody>\n",
       "  </tbody>\n",
       "</table>\n",
       "</div>"
      ],
      "text/plain": [
       "Empty DataFrame\n",
       "Columns: [plate, well, compound, path, C1, C2, C3, C4, C5, moa, classes]\n",
       "Index: []"
      ]
     },
     "execution_count": 524,
     "metadata": {},
     "output_type": "execute_result"
    }
   ],
   "source": [
    "test[test.compound.isin(valid.compound.unique())]"
   ]
  },
  {
   "cell_type": "code",
   "execution_count": 525,
   "metadata": {},
   "outputs": [
    {
     "data": {
      "text/html": [
       "<div>\n",
       "<style scoped>\n",
       "    .dataframe tbody tr th:only-of-type {\n",
       "        vertical-align: middle;\n",
       "    }\n",
       "\n",
       "    .dataframe tbody tr th {\n",
       "        vertical-align: top;\n",
       "    }\n",
       "\n",
       "    .dataframe thead th {\n",
       "        text-align: right;\n",
       "    }\n",
       "</style>\n",
       "<table border=\"1\" class=\"dataframe\">\n",
       "  <thead>\n",
       "    <tr style=\"text-align: right;\">\n",
       "      <th></th>\n",
       "      <th>plate</th>\n",
       "      <th>well</th>\n",
       "      <th>compound</th>\n",
       "      <th>path</th>\n",
       "      <th>C1</th>\n",
       "      <th>C2</th>\n",
       "      <th>C3</th>\n",
       "      <th>C4</th>\n",
       "      <th>C5</th>\n",
       "      <th>moa</th>\n",
       "      <th>classes</th>\n",
       "    </tr>\n",
       "  </thead>\n",
       "  <tbody>\n",
       "  </tbody>\n",
       "</table>\n",
       "</div>"
      ],
      "text/plain": [
       "Empty DataFrame\n",
       "Columns: [plate, well, compound, path, C1, C2, C3, C4, C5, moa, classes]\n",
       "Index: []"
      ]
     },
     "execution_count": 525,
     "metadata": {},
     "output_type": "execute_result"
    }
   ],
   "source": [
    "train[train.compound.isin(test.compound.unique())]"
   ]
  },
  {
   "cell_type": "code",
   "execution_count": 526,
   "metadata": {},
   "outputs": [],
   "source": [
    "# create dictionary for parition\n",
    "partition = {\"train\": [], \"valid\": [], \"test\": []}\n",
    "\n",
    "# create lists with indexes in splits\n",
    "tr_list = train.index.tolist()\n",
    "va_list = valid.index.tolist()\n",
    "\n",
    "# place index into correct bin\n",
    "for index in all_data.index.tolist():\n",
    "#for index in compound_moa.index.tolist():\n",
    "    if index in tr_list:\n",
    "        partition[\"train\"] += [index]\n",
    "    elif index in va_list:\n",
    "        partition[\"valid\"]   += [index]\n",
    "    else:\n",
    "        partition[\"test\"]  += [index]"
   ]
  },
  {
   "cell_type": "code",
   "execution_count": 527,
   "metadata": {},
   "outputs": [
    {
     "data": {
      "text/plain": [
       "[]"
      ]
     },
     "execution_count": 527,
     "metadata": {},
     "output_type": "execute_result"
    }
   ],
   "source": [
    "a = partition[\"train\"]\n",
    "b = partition[\"valid\"]\n",
    "c = [i for i in a if i in b]\n",
    "c"
   ]
  },
  {
   "cell_type": "code",
   "execution_count": 528,
   "metadata": {},
   "outputs": [],
   "source": [
    "#CBK308980"
   ]
  },
  {
   "cell_type": "code",
   "execution_count": 529,
   "metadata": {},
   "outputs": [
    {
     "name": "stdout",
     "output_type": "stream",
     "text": [
      "Training on device cuda. \n"
     ]
    }
   ],
   "source": [
    "# create dictionary for labels, using PyTorch\n",
    "labels = {}\n",
    "for index,compound in zip(all_data.index.tolist(), target_onehot):\n",
    "    labels[index] = compound\n",
    "\n",
    "\n",
    "batch_size = 20\n",
    "# parameters\n",
    "params = {'batch_size' : 20,\n",
    "         'num_workers' : 3,\n",
    "         'shuffle' : True,\n",
    "         'prefetch_factor' : 1} \n",
    "          \n",
    "# shuffle isn't working\n",
    "\n",
    "# maxepochs\n",
    "max_epochs = 10\n",
    "\n",
    "\n",
    "# In[74]:\n",
    "\n",
    "\n",
    "device = (torch.device('cuda') if torch.cuda.is_available() else torch.device('cpu'))\n",
    "#device = torch.device('cpu')\n",
    "print(f'Training on device {device}. ' )\n",
    "\n",
    "\n",
    "# In[75]:\n",
    "import albumentations as A\n",
    "train_transforms = A.Compose([A.Flip(),A.ShiftScaleRotate(scale_limit=0.2),A.RandomRotate90(),\n",
    "    A.OneOf([A.Flip(),A.ShiftScaleRotate(scale_limit=0.2),A.RandomRotate90(),],p = 0.2),\n",
    "    A.OneOf([A.Flip(),A.ShiftScaleRotate(scale_limit=0.2),A.RandomRotate90(),],p = 0.4),\n",
    "    A.OneOf([A.Flip(),A.ShiftScaleRotate(scale_limit=0.2),A.RandomRotate90(),],p = 0.5),\n",
    "    A.OneOf([A.Flip(),A.ShiftScaleRotate(scale_limit=0.2),A.RandomRotate90(),],p = 0.6),\n",
    "    A.OneOf([A.Flip(),A.ShiftScaleRotate(scale_limit=0.2),A.RandomRotate90(),],p = 0.8),\n",
    "    A.Flip(),A.ShiftScaleRotate(scale_limit=0.2),A.RandomRotate90(),])\n",
    "valid_transforms = A.Compose([])\n",
    "\n",
    "def channel_5_numpy(df, idx):\n",
    "    '''\n",
    "    Puts together all channels from CP imaging into a single 5 x 256 x 256 tensor (c x h x w) from all_data.csv\n",
    "    Input\n",
    "    df  : file which contains all rows of image data with compound information (type = csv)\n",
    "    idx : the index of the row (type = integer)\n",
    "    \n",
    "    Output:\n",
    "    image: a single 5 x 256 x 256 tensor (c x h x w)\n",
    "    '''\n",
    "    # extract row with index \n",
    "    row = df.iloc[idx]\n",
    "    \n",
    "    # loop through all of the channels and add to single array\n",
    "    im = []\n",
    "    for c in range(1, 6):\n",
    "        # extract by adding C to the integer we are looping\n",
    "        row_channel_path = row[\"C\" + str(c)]\n",
    "        local_im = cv2.imread(row.path + \"/\" + row[\"C\" + str(c)], -1) # row.path would be same for me, except str(row[path]))\n",
    "        \n",
    "        # directly resize down to 256 by 256\n",
    "        local_im = cv2.resize(local_im, (256, 256), interpolation = cv2.INTER_LINEAR)\n",
    "        # adds to array to the image vector \n",
    "        im.append(local_im)\n",
    "\n",
    "    # once we have all the channels, we covert it to a np.array, transpose so it has the correct dimensions and change the type for some reason\n",
    "    im = np.array(im).astype(\"int16\")\n",
    "    return torch.from_numpy(im)\n",
    "\n",
    "# A function changing SMILES to Morgan fingerprints \n",
    "def smiles_to_array(smiles):\n",
    "    molecules = Chem.MolFromSmiles(smiles) \n",
    "    fingerprints = AllChem.GetMorganFingerprintAsBitVect(molecules, 2)\n",
    "    x_array = []\n",
    "    arrays = np.zeros(0,)\n",
    "    DataStructs.ConvertToNumpyArray(fingerprints, arrays)\n",
    "    x_array.append(arrays)\n",
    "    x_array = np.asarray(x_array)\n",
    "    x_array = ((np.squeeze(x_array)).astype(int)) \n",
    "    x_array = torch.from_numpy(x_array)\n",
    "    return x_array                  \n",
    "\n",
    "\n",
    "# create Torch.dataset\n",
    "class Dataset(torch.utils.data.Dataset):\n",
    "    def __init__(self, partition, labels, transform= None):\n",
    "        self.compound_labels = labels    # the entire length of the correct classes that we are trying to predict\n",
    "        # print(self.img_labels)\n",
    "        self.list_ID = partition         # list of indexes that are a part of training, validation, tes sets\n",
    "        self.transform = transform       # any transformations done\n",
    "\n",
    "    def __len__(self):\n",
    "        ''' The number of data points '''\n",
    "        return len(self.compound_labels)      \n",
    "\n",
    "    def __getitem__(self, idx):\n",
    "        '''Retrieving the compound '''\n",
    "        #print(idx)                                    # check to see if idx is monotonically growing starting from zero\n",
    "        #ID = self.list_ID[idx]                        # we extract an index in partition representing training/valid/test set\n",
    "        #print(ID)\n",
    "        ID = idx\n",
    "        nrow = all_data.iloc[ID]    # extract row from csv using index\n",
    "        b = nrow[\"compound\"]\n",
    "        #print(f' {b}')\n",
    "        #b= nrow[\"compound\"]\n",
    "        #print(f' nrow {b}')\n",
    "        #a = compound_moa.index[compound_moa['compound']== nrow[\"compound\"]]\n",
    "        #a = a[0]\n",
    "        #print(f' finding it in moa = {a}')\n",
    "        #print(f' commpound {nrow[\"compound\"]}')\n",
    "        #print(f' the compound ive extracted: {compound_moa.iloc[a]}')\n",
    "        #compound = compound_smiles_dictionary[compound_moa.iloc[a]]\n",
    "        compound = compound_smiles_dictionary[nrow[\"compound\"]]      # returns smiles by using compound as key\n",
    "        compound_array = smiles_to_array(compound)\n",
    "        image = channel_5_numpy(all_data, ID)\n",
    "        #print(f' return from function: {compound}')\n",
    "        #print(f' matrix: {compound_array}')\n",
    "        label = self.compound_labels[ID]             # extract classification using index\n",
    "        #print(f' label: {label}')\n",
    "        #label = torch.tensor(label, dtype=torch.float)\n",
    "        if self.transform:                         # uses Albumentations image pipeline to return an augmented image\n",
    "            image = self.transform(image)\n",
    "        #return image.float(), label.long()\n",
    "\n",
    "        #print(f' Compound {compound_array.float()}')\n",
    "        #print(f' Image {image.float()}')\n",
    "        #print(f' Label {label.float()}')\n",
    "        return compound_array.float(), image.float(), label.float()"
   ]
  },
  {
   "cell_type": "code",
   "execution_count": 530,
   "metadata": {},
   "outputs": [],
   "source": [
    "# Create a dataset with all indices and labels\n",
    "everything = Dataset(partition[\"train\"]+partition['valid']+partition['test'], labels)\n",
    "\n",
    "\n",
    "\n",
    "# generator: training\n",
    "# create a subset with only train indices\n",
    "training_set = torch.utils.data.Subset(everything, partition[\"train\"])\n",
    "\n",
    "# create generator that randomly takes indices from the training set\n",
    "training_generator = torch.utils.data.DataLoader(training_set, **params)\n",
    "# training_set = Dataset(partition[\"train\"], labels)\n",
    "\n",
    "\n",
    "# In[83]:"
   ]
  },
  {
   "cell_type": "code",
   "execution_count": 531,
   "metadata": {},
   "outputs": [],
   "source": [
    "# training data loader\n",
    "# Display image and label   # functional\n",
    "train_compounds, train_imgs, train_labels = next(iter(training_generator))\n",
    "#print(f\"Feature batch shape: {train_features.size()}\")\n",
    "#print(f\"Labels batch shape: {train_labels.size()}\")"
   ]
  },
  {
   "cell_type": "code",
   "execution_count": 532,
   "metadata": {},
   "outputs": [
    {
     "data": {
      "text/plain": [
       "[0, 1, 2, 3, 4, 5, 6, 7, 11, 12, 13, 15, 16, 17, 18, 19, 20, 21, 24, 25]"
      ]
     },
     "execution_count": 532,
     "metadata": {},
     "output_type": "execute_result"
    }
   ],
   "source": [
    "partition['train'][0:20]"
   ]
  },
  {
   "cell_type": "code",
   "execution_count": 533,
   "metadata": {},
   "outputs": [
    {
     "name": "stdout",
     "output_type": "stream",
     "text": [
      "['CBK290655', 'CBK288286', 'CBK277950', 'CBK308484', 'CBK200838', 'CBK308980', 'CBK290684', 'CBK308359', 'CBK290287', 'CBK041487', 'CBK277934', 'CBK290848', 'CBK303867', 'CBK291055', 'CBK041720', 'CBK277909', 'CBK307816', 'CBK290588', 'CBK277961', 'CBK290717', 'CBK309522', 'CBK278016', 'CBK201093']\n",
      "in train\n",
      "in train\n",
      "in train\n",
      "in train\n",
      "in train\n",
      "in train\n",
      "in train\n",
      "in train\n",
      "in train\n",
      "in train\n",
      "in train\n",
      "in train\n",
      "in train\n",
      "in train\n",
      "in train\n",
      "in train\n",
      "in train\n",
      "in train\n",
      "in train\n",
      "in train\n"
     ]
    }
   ],
   "source": [
    "hello = compound_CP_train.tolist()\n",
    "bro = compound_CP_valid.tolist()\n",
    "cnn = compound_CP_test.tolist()\n",
    "print(cnn)\n",
    "#for i in  ['CBK290493', 'CBK290052', 'CBK288284', 'CBK277990', 'CBK290683','CBK201011','CBK303971','CBK293875','CBK200860','CBK290573','CBK309538','CBK308097','CBK278067','CBK200551','CBK309084']:\n",
    "#for i in  ['CBK288327','CBK308232','CBK288302','CBK277950','CBK291055','CBK289731','CBK308631','CBK277968','CBK308108','CBK290573','CBK201016','CBK308819','CBK277973','CBK290217','CBK041779']:\n",
    "for i in ['CBK290770',\n",
    " 'CBK309655',\n",
    " 'CBK309040',\n",
    " 'CBK200898',\n",
    " 'CBK309538',\n",
    " 'CBK309020',\n",
    " 'CBK293875',\n",
    " 'CBK291084',\n",
    " 'CBK309255',\n",
    " 'CBK308864',\n",
    " 'CBK041804',\n",
    " 'CBK200551',\n",
    " 'CBK290766',\n",
    " 'CBK309084',\n",
    " 'CBK011613',\n",
    " 'CBK200860',\n",
    " 'CBK289987',\n",
    " 'CBK307798',\n",
    " 'CBK041242',\n",
    " 'CBK288285']:\n",
    "    if i in hello:\n",
    "        print(\"in train\")\n",
    "        \n",
    "    elif i in bro:\n",
    "        print(i)\n",
    "        print(\"in valid\")\n",
    "    else:\n",
    "        print(i)\n",
    "        print(\"in test\")\n"
   ]
  },
  {
   "cell_type": "code",
   "execution_count": 534,
   "metadata": {},
   "outputs": [],
   "source": [
    "# training data loader\n",
    "# Display image and label   # functional\n",
    "#train_features, train_labels = next(iter(training_generator))\n",
    "#print(f\"Feature batch shape: {train_features.size()}\")\n",
    "#print(f\"Labels batch shape: {train_labels.size()}\")\n",
    "\n",
    "\n",
    "# In[84]:\n",
    "\n",
    "\n",
    "# Validation Set\n",
    "# create a subset with only valid indices\n",
    "valid_set = torch.utils.data.Subset(everything, partition[\"valid\"])\n",
    "    \n",
    "# create generator that randomly takes indices from the validation set\n",
    "valid_generator = torch.utils.data.DataLoader(valid_set, **params)\n",
    "valid_compounds, valid_imgs, valid_labels = next(iter(valid_generator))"
   ]
  },
  {
   "cell_type": "code",
   "execution_count": 535,
   "metadata": {},
   "outputs": [
    {
     "data": {
      "text/plain": [
       "[8,\n",
       " 14,\n",
       " 33,\n",
       " 45,\n",
       " 46,\n",
       " 49,\n",
       " 57,\n",
       " 78,\n",
       " 81,\n",
       " 84,\n",
       " 86,\n",
       " 114,\n",
       " 120,\n",
       " 124,\n",
       " 141,\n",
       " 145,\n",
       " 159,\n",
       " 167,\n",
       " 186,\n",
       " 193]"
      ]
     },
     "execution_count": 535,
     "metadata": {},
     "output_type": "execute_result"
    }
   ],
   "source": [
    "partition['valid'][0:20]"
   ]
  },
  {
   "cell_type": "code",
   "execution_count": 536,
   "metadata": {},
   "outputs": [],
   "source": [
    "# Test set\n",
    "# create a subset with only test indices\n",
    "test_set = torch.utils.data.Subset(everything, partition[\"test\"])\n",
    "\n",
    "# create generator that randomly takes indices from the test set\n",
    "test_generator = torch.utils.data.DataLoader(test_set, **params)# generator for validation data"
   ]
  },
  {
   "cell_type": "code",
   "execution_count": 537,
   "metadata": {},
   "outputs": [],
   "source": [
    "# If applying class weights\n",
    "apply_class_weights = True\n",
    "if apply_class_weights:     # if we want to apply class weights\n",
    "    counts = compound_moa.moa.value_counts()  # count the number of moa in each class for the ENTiRE dataset\n",
    "    #print(counts)\n",
    "    class_weights = []   # create list that will hold class weights\n",
    "    for moa in compound_moa.moa.unique():       # for each moa   \n",
    "        #print(moa)\n",
    "        counts[moa]\n",
    "        class_weights.append(counts[moa])  # add counts to class weights\n",
    "    #print(len(class_weights))\n",
    "    #print(class_weights)\n",
    "    #print(type(class_weights))\n",
    "    # class_weights = 1 / (class_weights / sum(class_weights)) # divide all class weights by total moas\n",
    "    class_weights = [i / sum(class_weights) for  i in class_weights]\n",
    "    class_weights= torch.tensor(class_weights,dtype=torch.float).to(device) # transform into tensor, put onto device\n",
    "#print(class_weights)"
   ]
  },
  {
   "cell_type": "code",
   "execution_count": 538,
   "metadata": {},
   "outputs": [],
   "source": [
    "# training data loader\n",
    "# Display image and label   # functional\n",
    "train_compounds, train_imgs, train_labels = next(iter(training_generator))\n",
    "#print(f\"Feature batch shape: {train_features.size()}\")\n",
    "#print(f\"Labels batch shape: {train_labels.size()}\")"
   ]
  },
  {
   "cell_type": "code",
   "execution_count": 539,
   "metadata": {},
   "outputs": [],
   "source": [
    "def training_loop(n_epochs, model, loss_fn, train_loader, valid_loader):\n",
    "    '''\n",
    "    n_epochs: number of epochs \n",
    "    optimizer: optimizer used to do backpropagation\n",
    "    model: deep learning architecture\n",
    "    loss_fn: loss function\n",
    "    train_loader: generator creating batches of training data\n",
    "    valid_loader: generator creating batches of validation data\n",
    "    '''\n",
    "    # lists keep track of loss and accuracy for training and validation set\n",
    "    model = model.to(device=device)\n",
    "    optimizer = torch.optim.Adam(model.parameters(),weight_decay = 1e-6, lr = 0.001, betas = (0.9, 0.999), eps = 1e-07)\n",
    "    train_loss_per_epoch = []\n",
    "    train_acc_per_epoch = []\n",
    "    val_loss_per_epoch = []\n",
    "    val_acc_per_epoch = []\n",
    "    best_val_loss = np.inf\n",
    "    for epoch in tqdm(range(1, max_epochs +1), desc = \"Epoch\", position=0, leave= True):\n",
    "        loss_train = 0.0\n",
    "        train_total = 0\n",
    "        train_correct = 0\n",
    "        for compounds, imgs, labels in train_loader:\n",
    "            optimizer.zero_grad()\n",
    "            # put model, images, labels on the same device\n",
    "            compounds = compounds.to(device = device)\n",
    "            imgs = imgs.to(device = device)\n",
    "            labels = labels.to(device= device)\n",
    "            # Training Model\n",
    "            outputs = model(compounds, imgs)\n",
    "            #print(f' Outputs : {outputs}') # tensor with 10 elements\n",
    "            #print(f' Labels : {labels}') # tensor that is a number\n",
    "            loss = loss_fn(outputs,labels)\n",
    "            # For L2 regularization\n",
    "            l2_lambda = 0.000001\n",
    "            l2_norm = sum(p.pow(2.0).sum() for p in model.parameters())\n",
    "            loss = loss + l2_lambda * l2_norm\n",
    "            # Update weights\n",
    "            loss.backward()\n",
    "            optimizer.step()\n",
    "            # Training Metrics\n",
    "            loss_train += loss.item()\n",
    "            #print(f' loss: {loss.item()}')\n",
    "            train_predicted = torch.argmax(outputs, 1)\n",
    "            #print(f' train_predicted {train_predicted}')\n",
    "            # NEW\n",
    "            labels = torch.argmax(labels,1)\n",
    "            #print(labels)\n",
    "            train_total += labels.shape[0]\n",
    "            train_correct += int((train_predicted == labels).sum())\n",
    "        # validation metrics from batch\n",
    "        val_correct, val_total, val_loss, best_val_loss_upd = validation_loop(model, loss_fn, valid_loader, best_val_loss)\n",
    "        best_val_loss = best_val_loss_upd\n",
    "        val_accuracy = val_correct/val_total\n",
    "        # printing results for epoch\n",
    "        if epoch == 1 or epoch %5 == 0:\n",
    "            print(f' {datetime.datetime.now()} Epoch: {epoch}, Training loss: {loss_train/len(train_loader)}, Validation Loss: {val_loss} ')\n",
    "        # adding epoch loss, accuracy to lists \n",
    "        val_loss_per_epoch.append(val_loss)\n",
    "        train_loss_per_epoch.append(loss_train/len(train_loader))\n",
    "        val_acc_per_epoch.append(val_accuracy)\n",
    "        train_acc_per_epoch.append(train_correct/train_total)\n",
    "    # return lists with loss, accuracy every epoch\n",
    "    return train_loss_per_epoch, train_acc_per_epoch, val_loss_per_epoch, val_acc_per_epoch\n",
    "                                \n",
    "\n",
    "# In[64]:\n",
    "\n",
    "def validation_loop(model, loss_fn, valid_loader, best_val_loss):\n",
    "    '''\n",
    "    Assessing trained model on valiidation dataset \n",
    "    model: deep learning architecture getting updated by model\n",
    "    loss_fn: loss function\n",
    "    valid_loader: generator creating batches of validation data\n",
    "    '''\n",
    "    model = model.to(device)\n",
    "    model.eval()\n",
    "    loss_val = 0.0\n",
    "    correct = 0\n",
    "    total = 0\n",
    "    with torch.no_grad():  # does not keep track of gradients so as to not train on validation data.\n",
    "        for compounds, imgs, labels in valid_loader:\n",
    "            # Move to device MAY NOT BE NECESSARY\n",
    "            compounds = compounds.to(device=device)\n",
    "            imgs = imgs.to(device = device)\n",
    "            labels = labels.to(device= device)\n",
    "            # Assessing outputs\n",
    "            outputs = model(compounds, imgs)\n",
    "            #print(f' Outputs : {outputs}') # tensor with 10 elements\n",
    "            #print(f' Labels : {labels}') # tensor that is a number\n",
    "            loss = loss_fn(outputs,labels)\n",
    "            loss_val += loss.item()\n",
    "            predicted = torch.argmax(outputs, 1)\n",
    "            labels = torch.argmax(labels,1)\n",
    "            #print(predicted)\n",
    "            #print(labels)\n",
    "            total += labels.shape[0]\n",
    "            correct += int((predicted == labels).sum())\n",
    "        avg_val_loss = loss_val/len(valid_loader)  # average loss over batch\n",
    "        if best_val_loss > loss_val:\n",
    "            best_val_loss = loss_val\n",
    "            torch.save(\n",
    "                {\n",
    "                    'model_state_dict' : model.state_dict(),\n",
    "                    'valid_loss' : loss_val\n",
    "            },  '/home/jovyan/Tomics-CP-Chem-MoA/03_Global_CStructure_CP_Models/saved_models' +'/' + 'CS_CP_least_loss_model'\n",
    "            )\n",
    "    model.train()\n",
    "    return correct, total, avg_val_loss, best_val_loss\n",
    "\n",
    "def results_assessment(y_true, y_pred):\n",
    "    save_path = '/home/jovyan/Tomics-CP-Chem-MoA/03_Global_CStructure_CP_Models/'\n",
    "    target_names = ['Aurora kinase inhibitor', 'tubulin polymerization inhibitor',\n",
    "     'JAK inhibitor', 'protein synthesis inhibitor', 'HDAC inhibitor', 'topoisomerase inhibitor', \n",
    "     'PARP inhibitor','ATPase inhibitor', 'retinoid receptor agonist', 'HSP inhibitor']\n",
    "    #print(f' true {y_true}')\n",
    "    #print(f' prediction {y_pred}')\n",
    "    for count, ele in enumerate(target_names):\n",
    "        #print(count)\n",
    "        #print(ele)\n",
    "        #print(dictionary[ele])\n",
    "        assert count == dictionary[ele], \"Mismatch with dictionary\"\n",
    "    \n",
    "    class_report_output = classification_report(y_true, y_pred)\n",
    "    try:\n",
    "        chem_struc_file= open(save_path + 'saved_classification_reports' + '/' + now + '_classif_report.txt', 'a')\n",
    "        chem_struc_file.write((class_report_output))\n",
    "        chem_struc_file.close()\n",
    "    except:\n",
    "        print(\"Unable to append to file\")\n",
    "    \n",
    "    conf_matrix = confusion_matrix(y_true, y_pred)\n",
    "    np.save((save_path + 'saved_confusion_matrices/'  + now + '_confusion_matrix.npy'), conf_matrix)\n",
    "\n",
    "\n",
    "\n",
    "def test_loop(model, loss_fn, test_loader):\n",
    "    '''\n",
    "    Assessing trained model on test dataset \n",
    "    model: deep learning architecture getting updated by model\n",
    "    loss_fn: loss function\n",
    "    test_loader: generator creating batches of test data\n",
    "    '''\n",
    "    model = model.to(device)\n",
    "    model.eval()\n",
    "    loss_test = 0.0\n",
    "    correct = 0\n",
    "    total = 0\n",
    "    all_predictions = []\n",
    "    all_labels = []\n",
    "    with torch.no_grad():  # does not keep track of gradients so as to not train on test data.\n",
    "        for compounds, imgs, labels in tqdm(test_loader,\n",
    "                                            desc = \"Test Batches w/in Epoch\",\n",
    "                                              position = 0,\n",
    "                                              leave = True):\n",
    "            # Move to device MAY NOT BE NECESSARY\n",
    "            imgs = imgs.to(device = device)\n",
    "            compounds = compounds.to(device = device)\n",
    "            labels = labels.to(device= device)\n",
    "            # Assessing outputs\n",
    "            outputs = model(compounds, imgs)\n",
    "            # print(f' Outputs : {outputs}') # tensor with 10 elements\n",
    "            # print(f' Labels : {labels}') # tensor that is a number\n",
    "            loss = loss_fn(outputs,labels)\n",
    "            loss_test += loss.item()\n",
    "            predicted = torch.argmax(outputs, 1)\n",
    "            labels = torch.argmax(labels,1)\n",
    "            #print(predicted)\n",
    "            #print(labels)\n",
    "            total += labels.shape[0]\n",
    "            correct += int((predicted == labels).sum())\n",
    "            #print(f' Predicted: {predicted.tolist()}')\n",
    "            #print(f' Labels: {predicted.tolist()}')\n",
    "            all_predictions = all_predictions + predicted.tolist()\n",
    "            all_labels = all_labels + labels.tolist()\n",
    "        results_assessment(all_predictions, all_labels)\n",
    "        avg_test_loss = loss_test/len(test_loader)  # average loss over batch\n",
    "    return correct, total, avg_test_loss\n",
    "\n",
    "\n",
    "\n",
    "# In[69]:\n",
    "\n",
    "\n",
    "def val_vs_train_loss(epochs, train_loss, val_loss):\n",
    "    ''' \n",
    "    Plotting validation versus training loss over time\n",
    "    epochs: number of epochs that the model ran (int. hyperparameter)\n",
    "    train_loss: training loss per epoch (python list)\n",
    "    val_loss: validation loss per epoch (python list)\n",
    "    ''' \n",
    "    loss_path_to_save = '/home/jovyan/Tomics-CP-Chem-MoA/03_Global_CStructure_CP_Models/saved_images'\n",
    "    plt.figure()\n",
    "    x_axis = list(range(1, epochs +1)) # create x axis with number of\n",
    "    plt.plot(x_axis, train_loss, label = \"train_loss\")\n",
    "    plt.plot(x_axis, val_loss, label = \"val_loss\")\n",
    "    # Figure description\n",
    "    plt.xlabel('# of Epochs')\n",
    "    plt.ylabel('Loss')\n",
    "    plt.title('Validation versus Training Loss: CP Image Model')\n",
    "    plt.legend()\n",
    "    # plot\n",
    "    plt.show()\n",
    "    plt.savefig(loss_path_to_save + '/' + 'loss_train_val'+ now)\n",
    "\n",
    "\n",
    "\n",
    "# In[70]:\n",
    "\n",
    "\n",
    "def val_vs_train_accuracy(epochs, train_acc, val_acc):\n",
    "    '''\n",
    "    Plotting validation versus training loss over time\n",
    "    epochs: number of epochs that the model ran (int. hyperparameter)\n",
    "    train_acc: accuracy loss per epoch (python list)\n",
    "    val_acc: accuracy loss per epoch (python list)\n",
    "    '''\n",
    "    acc_path_to_save = '/home/jovyan/Tomics-CP-Chem-MoA/03_Global_CStructure_CP_Models/saved_images'\n",
    "    plt.figure()\n",
    "    x_axis = list(range(1, epochs +1)) # create x axis with number of\n",
    "    plt.plot(x_axis, train_acc, label = \"train_acc\")\n",
    "    plt.plot(x_axis, val_acc, label = \"val_acc\")\n",
    "    # Figure description\n",
    "    plt.xlabel('# of Epochs')\n",
    "    plt.ylabel('Accuracy')\n",
    "    plt.title('Validation versus Training Accuracy: CP Image Model')\n",
    "    plt.legend()\n",
    "    # plot\n",
    "    plt.savefig(acc_path_to_save + '/' + 'acc_train_val' + now)\n",
    "\n",
    "\n",
    "# In[71]:\n",
    "\n",
    "\n"
   ]
  },
  {
   "cell_type": "code",
   "execution_count": 540,
   "metadata": {},
   "outputs": [],
   "source": [
    "# loss_function\n",
    "if apply_class_weights == True:\n",
    "    loss_function = torch.nn.CrossEntropyLoss(class_weights)\n",
    "else:\n",
    "    loss_function = torch.nn.CrossEntropyLoss()\n"
   ]
  },
  {
   "cell_type": "code",
   "execution_count": 554,
   "metadata": {},
   "outputs": [],
   "source": [
    "def set_parameter_requires_grad(model, feature_extracting):\n",
    "    '''\n",
    "    Turns off tracking of gradients\n",
    "    '''\n",
    "    \n",
    "    if feature_extracting:\n",
    "        print(\"feature extracting in progress\")\n",
    "        for param in model.parameters():\n",
    "            param.requires_grad = False\n",
    "    else:\n",
    "        print(\"fine_tuning in progress\")\n",
    "        for param in model.parameters():\n",
    "            param.requires_grad = True"
   ]
  },
  {
   "cell_type": "code",
   "execution_count": 542,
   "metadata": {},
   "outputs": [],
   "source": [
    "from efficientnet_pytorch import EfficientNet             # have to download it, since latest version can use torchvision.models\n",
    "#base_model = EfficientNet.from_name('efficientnet-b1', include_top=False, in_channels = 5)\n",
    "\n",
    "class image_network(nn.Module):\n",
    "    def __init__(self):\n",
    "        super().__init__()\n",
    "        self.base_model = EfficientNet.from_name('efficientnet-b1', include_top=False, in_channels = 5)\n",
    "        self.dropout_1 = nn.Dropout(p = 0.3)\n",
    "        self.Linear_last = nn.Linear(1280, 10)\n",
    "        #self.softmax = nn.Softmax(dim = 1)\n",
    "    \n",
    "    def forward(self, x):\n",
    "        out = self.dropout_1(self.base_model(x))\n",
    "        out = out.view(-1, 1280)\n",
    "        out = self.Linear_last(out)\n",
    "        # out = self.softmax(out) # don't need softmax when using CrossEntropyLoss\n",
    "        return out"
   ]
  },
  {
   "cell_type": "code",
   "execution_count": 543,
   "metadata": {},
   "outputs": [],
   "source": [
    "seq_model = nn.Sequential(\n",
    "    nn.Linear(2048, 128),\n",
    "    nn.ReLU(),\n",
    "    nn.Dropout(p = 0.3),\n",
    "    nn.Linear(128,64),\n",
    "    nn.ReLU(),\n",
    "    nn.Linear(64, 10))"
   ]
  },
  {
   "cell_type": "code",
   "execution_count": 544,
   "metadata": {},
   "outputs": [],
   "source": [
    "# create a model combining both models\n",
    "class CStructure_CP(nn.Module):\n",
    "    def __init__(self, modelCS, modelCP):\n",
    "        super(CStructure_CP, self).__init__()\n",
    "        self.modelCS = modelCS\n",
    "        self.modelCP = modelCP\n",
    "        self.linear_layer1 = nn.Linear(int(1280 + 64), 128)\n",
    "        self.selu = nn.SELU()\n",
    "        self.Dropout = nn.Dropout(p = 0.5)\n",
    "        self.linear_layer2 = nn.Linear(128,10)\n",
    "       \n",
    "    def forward(self, x1, x2):\n",
    "        #print(f' compound: {x1.size()}')\n",
    "        #print(f' image: {x2.size()}')\n",
    "        x1 = self.modelCS(x1)\n",
    "        x2 = self.modelCP(x2)\n",
    "        x  = torch.cat((x1, x2), dim = 1)\n",
    "        x = self.Dropout(self.selu(self.linear_layer1(x)))\n",
    "        output = self.linear_layer2(x)\n",
    "        return output"
   ]
  },
  {
   "cell_type": "markdown",
   "metadata": {},
   "source": [
    "## Feature Extraction"
   ]
  },
  {
   "cell_type": "code",
   "execution_count": 545,
   "metadata": {},
   "outputs": [],
   "source": [
    "model_extraction = True"
   ]
  },
  {
   "cell_type": "code",
   "execution_count": 546,
   "metadata": {},
   "outputs": [],
   "source": [
    "#modelCP= torch.load('/home/jovyan/Tomics-CP-Chem-MoA/02_CP_Models/saved_models/CP_least_loss_model')\n",
    "#modelCP.parameters()"
   ]
  },
  {
   "cell_type": "code",
   "execution_count": 555,
   "metadata": {},
   "outputs": [
    {
     "name": "stdout",
     "output_type": "stream",
     "text": [
      "fine_tuning in progress\n"
     ]
    }
   ],
   "source": [
    "# Create Model for Cell Painting\n",
    "modelCP = image_network()\n",
    "checkpoint = torch.load('/home/jovyan/Tomics-CP-Chem-MoA/02_CP_Models/saved_models/CP_least_loss_model') # gives dictionary\n",
    "#try: \n",
    "#    checkpoint.eval()\n",
    "#except AttributeError as error:\n",
    "#    print(\"error\")\n",
    "\n",
    "### 'dict' object has no attribute 'eval'\n",
    "modelCP.load_state_dict(checkpoint[\"model_state_dict\"])\n",
    "set_parameter_requires_grad(modelCP, model_extraction)\n",
    "modelCP.Linear_last = nn.Identity()\n",
    "# modelCP.to(device)\n",
    "#torchinfo.summary(modelCP, (4, 5, 256,256), col_names=[\"kernel_size\", \"output_size\", \"num_params\"])"
   ]
  },
  {
   "cell_type": "markdown",
   "metadata": {},
   "source": []
  },
  {
   "cell_type": "code",
   "execution_count": 556,
   "metadata": {},
   "outputs": [
    {
     "data": {
      "text/plain": [
       "Sequential(\n",
       "  (0): Linear(in_features=2048, out_features=128, bias=True)\n",
       "  (1): ReLU()\n",
       "  (2): Dropout(p=0.3, inplace=False)\n",
       "  (3): Linear(in_features=128, out_features=64, bias=True)\n",
       ")"
      ]
     },
     "execution_count": 556,
     "metadata": {},
     "output_type": "execute_result"
    }
   ],
   "source": [
    "modelCS = seq_model\n",
    "checkpoint = torch.load('/home/jovyan/Tomics-CP-Chem-MoA/01_CStructure_Models/saved_models/ChemStruc_Least_Loss_Model')\n",
    "modelCS.load_state_dict(checkpoint[\"model_state_dict\"])\n",
    "modelCS = nn.Sequential(*[modelCS[i] for i in range(4)])\n",
    "modelCS.to(device)\n",
    "#torchinfo.summary(modelCS, (4, 2048), col_names=[\"kernel_size\", \"output_size\", \"num_params\"])\n",
    "#set_parameter_requires_grad(modelCP, model_extraction)"
   ]
  },
  {
   "cell_type": "code",
   "execution_count": 549,
   "metadata": {},
   "outputs": [
    {
     "data": {
      "text/plain": [
       "'20_12_2022-10:57:57'"
      ]
     },
     "execution_count": 549,
     "metadata": {},
     "output_type": "execute_result"
    }
   ],
   "source": [
    "checkpoint[\"time_create\"]"
   ]
  },
  {
   "cell_type": "markdown",
   "metadata": {},
   "source": []
  },
  {
   "cell_type": "code",
   "execution_count": 550,
   "metadata": {},
   "outputs": [],
   "source": [
    "# Load state_dicts\n",
    "CS_CP_jointmodel = CStructure_CP(modelCS, modelCP)\n"
   ]
  },
  {
   "cell_type": "code",
   "execution_count": 551,
   "metadata": {},
   "outputs": [
    {
     "name": "stderr",
     "output_type": "stream",
     "text": [
      "Epoch:  10%|█         | 1/10 [00:13<01:59, 13.23s/it]"
     ]
    },
    {
     "name": "stdout",
     "output_type": "stream",
     "text": [
      " 2022-12-21 09:20:35.844402 Epoch: 1, Training loss: 0.07788850422948598, Validation Loss: 0.017501999003191788 \n"
     ]
    },
    {
     "name": "stderr",
     "output_type": "stream",
     "text": [
      "Epoch:  50%|█████     | 5/10 [01:08<01:08, 13.70s/it]"
     ]
    },
    {
     "name": "stdout",
     "output_type": "stream",
     "text": [
      " 2022-12-21 09:21:30.685152 Epoch: 5, Training loss: 0.008808909030631185, Validation Loss: 0.0061861144786234945 \n"
     ]
    },
    {
     "name": "stderr",
     "output_type": "stream",
     "text": [
      "Epoch: 100%|██████████| 10/10 [02:16<00:00, 13.68s/it]"
     ]
    },
    {
     "name": "stdout",
     "output_type": "stream",
     "text": [
      " 2022-12-21 09:22:39.381294 Epoch: 10, Training loss: 0.008364439848810435, Validation Loss: 0.004806690888168911 \n"
     ]
    },
    {
     "name": "stderr",
     "output_type": "stream",
     "text": [
      "\n"
     ]
    }
   ],
   "source": [
    "train_loss_per_epoch, train_acc_per_epoch, val_loss_per_epoch, val_acc_per_epoch = training_loop(n_epochs = max_epochs,\n",
    "              #optimizer = optimizer,\n",
    "              model = CS_CP_jointmodel,\n",
    "              loss_fn = loss_function,\n",
    "              train_loader=training_generator, \n",
    "              valid_loader=valid_generator)\n"
   ]
  },
  {
   "cell_type": "code",
   "execution_count": 552,
   "metadata": {},
   "outputs": [
    {
     "data": {
      "image/png": "[encoded data removed]",
      "text/plain": [
       "<Figure size 432x288 with 1 Axes>"
      ]
     },
     "metadata": {
      "needs_background": "light"
     },
     "output_type": "display_data"
    },
    {
     "name": "stderr",
     "output_type": "stream",
     "text": [
      "Test Batches w/in Epoch: 100%|██████████| 5/5 [00:03<00:00,  1.65it/s]"
     ]
    },
    {
     "name": "stdout",
     "output_type": "stream",
     "text": [
      "╒══════════════════════╤════════════╕\n",
      "│ Time to Run Program  │ 2.8985 min │\n",
      "├──────────────────────┼────────────┤\n",
      "│ Accuracy of Test Set │ 80.61 %    │\n",
      "╘══════════════════════╧════════════╛\n"
     ]
    },
    {
     "name": "stderr",
     "output_type": "stream",
     "text": [
      "\n"
     ]
    },
    {
     "data": {
      "text/plain": [
       "<Figure size 432x288 with 0 Axes>"
      ]
     },
     "metadata": {},
     "output_type": "display_data"
    },
    {
     "data": {
      "image/png": "[encoded data removed]",
      "text/plain": [
       "<Figure size 432x288 with 1 Axes>"
      ]
     },
     "metadata": {
      "needs_background": "light"
     },
     "output_type": "display_data"
    }
   ],
   "source": [
    "val_vs_train_loss(max_epochs,train_loss_per_epoch, val_loss_per_epoch)\n",
    "\n",
    "\n",
    "# In[72]:\n",
    "\n",
    "\n",
    "val_vs_train_accuracy(max_epochs, train_acc_per_epoch, val_acc_per_epoch)\n",
    "\n",
    "correct, total, avg_test_loss = test_loop(model = CS_CP_jointmodel,\n",
    "                                          loss_fn = loss_function, \n",
    "                                          test_loader = test_generator)\n",
    "\n",
    "end = time.time()\n",
    "def program_elapsed_time(start, end):\n",
    "    program_time = round(end - start, 2) \n",
    "    #print(program_time)\n",
    "    if program_time > float(60) and program_time < 60*60:\n",
    "        program_time =  program_time/60\n",
    "        time_elapsed = str(program_time) + ' min'\n",
    "    elif program_time > 60*60:\n",
    "        program_time = program_time/3600\n",
    "        time_elapsed = str(program_time) + ' hrs'\n",
    "    else:\n",
    "        time_elapsed = str(program_time) + ' sec'\n",
    "    return time_elapsed\n",
    "program_elapsed_time = program_elapsed_time(start, end)\n",
    "\n",
    "test_set_acc = f' {round(correct/total*100, 2)} %'\n",
    "table = [[\"Time to Run Program\", program_elapsed_time],\n",
    "['Accuracy of Test Set', test_set_acc]]\n",
    "print(tabulate(table, tablefmt='fancy_grid'))\n"
   ]
  },
  {
   "cell_type": "markdown",
   "metadata": {},
   "source": [
    "## Fintuning"
   ]
  },
  {
   "cell_type": "code",
   "execution_count": 553,
   "metadata": {},
   "outputs": [
    {
     "name": "stdout",
     "output_type": "stream",
     "text": [
      "feature extracting in progress\n",
      "feature extracting in progress\n"
     ]
    }
   ],
   "source": [
    "model_extraction = False\n",
    "set_parameter_requires_grad(modelCS, model_extraction)\n",
    "set_parameter_requires_grad(modelCP, model_extraction)\n",
    "max_epochs = 2\n"
   ]
  },
  {
   "cell_type": "code",
   "execution_count": 506,
   "metadata": {},
   "outputs": [
    {
     "name": "stderr",
     "output_type": "stream",
     "text": [
      "Epoch:  50%|█████     | 1/2 [00:16<00:16, 16.05s/it]"
     ]
    },
    {
     "name": "stdout",
     "output_type": "stream",
     "text": [
      " 2022-12-21 09:12:29.340099 Epoch: 1, Training loss: 0.005884548090398312, Validation Loss: 0.08305453571180503 \n"
     ]
    },
    {
     "name": "stderr",
     "output_type": "stream",
     "text": [
      "Epoch: 100%|██████████| 2/2 [00:30<00:00, 15.33s/it]\n"
     ]
    }
   ],
   "source": [
    "train_loss_per_epoch, train_acc_per_epoch, val_loss_per_epoch, val_acc_per_epoch = training_loop(n_epochs = max_epochs,\n",
    "              #optimizer = optimizer,\n",
    "              model = CS_CP_jointmodel,\n",
    "              loss_fn = loss_function,\n",
    "              train_loader=training_generator, \n",
    "              valid_loader=valid_generator)\n"
   ]
  },
  {
   "cell_type": "code",
   "execution_count": 507,
   "metadata": {},
   "outputs": [
    {
     "data": {
      "image/png": "[encoded data removed]",
      "text/plain": [
       "<Figure size 432x288 with 1 Axes>"
      ]
     },
     "metadata": {
      "needs_background": "light"
     },
     "output_type": "display_data"
    },
    {
     "name": "stderr",
     "output_type": "stream",
     "text": [
      "Test Batches w/in Epoch: 100%|██████████| 5/5 [00:02<00:00,  2.11it/s]"
     ]
    },
    {
     "name": "stdout",
     "output_type": "stream",
     "text": [
      "1296.28\n",
      "╒══════════════════════╤════════════════════════╕\n",
      "│ Time to Run Program  │ 21.604666666666667 min │\n",
      "├──────────────────────┼────────────────────────┤\n",
      "│ Accuracy of Test Set │ 61.22 %                │\n",
      "╘══════════════════════╧════════════════════════╛\n"
     ]
    },
    {
     "name": "stderr",
     "output_type": "stream",
     "text": [
      "\n",
      "/usr/local/lib/python3.6/dist-packages/sklearn/metrics/_classification.py:1248: UndefinedMetricWarning: Recall and F-score are ill-defined and being set to 0.0 in labels with no true samples. Use `zero_division` parameter to control this behavior.\n",
      "  _warn_prf(average, modifier, msg_start, len(result))\n",
      "/usr/local/lib/python3.6/dist-packages/sklearn/metrics/_classification.py:1248: UndefinedMetricWarning: Recall and F-score are ill-defined and being set to 0.0 in labels with no true samples. Use `zero_division` parameter to control this behavior.\n",
      "  _warn_prf(average, modifier, msg_start, len(result))\n",
      "/usr/local/lib/python3.6/dist-packages/sklearn/metrics/_classification.py:1248: UndefinedMetricWarning: Recall and F-score are ill-defined and being set to 0.0 in labels with no true samples. Use `zero_division` parameter to control this behavior.\n",
      "  _warn_prf(average, modifier, msg_start, len(result))\n"
     ]
    },
    {
     "data": {
      "text/plain": [
       "<Figure size 432x288 with 0 Axes>"
      ]
     },
     "metadata": {},
     "output_type": "display_data"
    },
    {
     "data": {
      "image/png": "[encoded data removed]",
      "text/plain": [
       "<Figure size 432x288 with 1 Axes>"
      ]
     },
     "metadata": {
      "needs_background": "light"
     },
     "output_type": "display_data"
    }
   ],
   "source": [
    "val_vs_train_loss(max_epochs,train_loss_per_epoch, val_loss_per_epoch)\n",
    "\n",
    "\n",
    "# In[72]:\n",
    "\n",
    "\n",
    "val_vs_train_accuracy(max_epochs, train_acc_per_epoch, val_acc_per_epoch)\n",
    "\n",
    "correct, total, avg_test_loss = test_loop(model = CS_CP_jointmodel,\n",
    "                                          loss_fn = loss_function, \n",
    "                                          test_loader = test_generator)\n",
    "\n",
    "end = time.time()\n",
    "def program_elapsed_time(start, end):\n",
    "    program_time = round(end - start, 2) \n",
    "    print(program_time)\n",
    "    if program_time > float(60) and program_time < 60*60:\n",
    "        program_time =  program_time/60\n",
    "        time_elapsed = str(program_time) + ' min'\n",
    "    elif program_time > 60*60:\n",
    "        program_time = program_time/3600\n",
    "        time_elapsed = str(program_time) + ' hrs'\n",
    "    else:\n",
    "        time_elapsed = str(program_time) + ' sec'\n",
    "    return time_elapsed\n",
    "program_elapsed_time = program_elapsed_time(start, end)\n",
    "\n",
    "test_set_acc = f' {round(correct/total*100, 2)} %'\n",
    "table = [[\"Time to Run Program\", program_elapsed_time],\n",
    "['Accuracy of Test Set', test_set_acc]]\n",
    "print(tabulate(table, tablefmt='fancy_grid'))"
   ]
  },
  {
   "cell_type": "code",
   "execution_count": null,
   "metadata": {},
   "outputs": [],
   "source": []
  }
 ],
 "metadata": {
  "accelerator": "GPU",
  "colab": {
   "collapsed_sections": [],
   "machine_shape": "hm",
   "provenance": []
  },
  "gpuClass": "standard",
  "kernelspec": {
   "display_name": "Python 3",
   "language": "python",
   "name": "python3"
  },
  "language_info": {
   "codemirror_mode": {
    "name": "ipython",
    "version": 3
   },
   "file_extension": ".py",
   "mimetype": "text/x-python",
   "name": "python",
   "nbconvert_exporter": "python",
   "pygments_lexer": "ipython3",
   "version": "3.6.9"
  },
  "vscode": {
   "interpreter": {
    "hash": "767d51c1340bd893661ea55ea3124f6de3c7a262a8b4abca0554b478b1e2ff90"
   }
  }
 },
 "nbformat": 4,
 "nbformat_minor": 4
}

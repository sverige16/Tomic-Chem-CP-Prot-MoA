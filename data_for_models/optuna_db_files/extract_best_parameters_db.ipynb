{
 "cells": [
  {
   "cell_type": "code",
   "execution_count": 2,
   "metadata": {},
   "outputs": [],
   "source": [
    "import sqlite3\n"
   ]
  },
  {
   "cell_type": "code",
   "execution_count": 3,
   "metadata": {},
   "outputs": [],
   "source": [
    "def extract_best_parameters_db(db_file):\n",
    "    # Connect to the SQLite database\n",
    "    connection = sqlite3.connect(db_file)\n",
    "\n",
    "    # Create a cursor object to execute SQL commands\n",
    "    cursor = connection.cursor()\n",
    "\n",
    "    # Get the trial with the best value (replace 'MAX' with 'MIN' if you are minimizing the metric)\n",
    "    cursor.execute(\"SELECT trial_id, value FROM trial_values WHERE value=(SELECT MAX(value) FROM trial_values)\")\n",
    "    best_trial_id, best_value = cursor.fetchone()\n",
    "\n",
    "    # Get the optimal parameters\n",
    "    cursor.execute(\"SELECT param_name, param_value FROM trial_params WHERE trial_id=?\", (best_trial_id,))\n",
    "    optimal_params = cursor.fetchall()\n",
    "\n",
    "    # Print the results\n",
    "    print(f\"Best trial ID: {best_trial_id}\")\n",
    "    print(f\"Best value: {best_value}\")\n",
    "    print(\"Optimal parameters:\")\n",
    "    for param_name, param_value in optimal_params:\n",
    "        print(f\"  {param_name}: {param_value}\")\n",
    "\n",
    "    # Close the connection\n",
    "    connection.close()"
   ]
  },
  {
   "cell_type": "code",
   "execution_count": 4,
   "metadata": {},
   "outputs": [
    {
     "name": "stdout",
     "output_type": "stream",
     "text": [
      "1D-CNN\n",
      "Best trial ID: 3\n",
      "Best value: 0.4460406202455486\n",
      "Optimal parameters:\n",
      "  T_max: 9.0\n",
      "  dropout_rate1: 0.3483945766265415\n",
      "  dropout_rate2: 0.408144359891371\n",
      "  dropout_rate3: 0.3718565001384708\n",
      "  dropout_rate4: 0.2712714934244445\n",
      "  dropout_rate5: 0.3823529290021656\n",
      "  dropout_rate6: 0.45601244515222367\n",
      "  loss_fn: 2.0\n",
      "  loss_train_fn: 0.0\n",
      "  lr: 0.002660779294588925\n",
      "  optimizer: 0.0\n",
      "  scheduler: 2.0\n",
      "  yn_class_weights: 1.0\n"
     ]
    }
   ],
   "source": [
    "# 1D-CNN\n",
    "print(\"1D-CNN\")\n",
    "extract_best_parameters_db('1DCNN_optuna.db')"
   ]
  },
  {
   "cell_type": "code",
   "execution_count": 5,
   "metadata": {},
   "outputs": [
    {
     "name": "stdout",
     "output_type": "stream",
     "text": [
      "Simple NN\n",
      "Best trial ID: 76\n",
      "Best value: 0.4388592483682342\n",
      "Optimal parameters:\n",
      "  T_max: 10.0\n",
      "  alpha: 0.20730849127124368\n",
      "  dropout_l0: 0.24509543540660458\n",
      "  loss_fn: 2.0\n",
      "  loss_train_fn: 1.0\n",
      "  lr: 0.04556199943839492\n",
      "  n_layers: 1.0\n",
      "  n_units_l0: 49.0\n",
      "  optimizer: 1.0\n",
      "  scheduler: 2.0\n",
      "  smoothing: 0.24296117253545618\n",
      "  yn_class_weights: 0.0\n"
     ]
    }
   ],
   "source": [
    "# Simple NN\n",
    "print(\"Simple NN\")\n",
    "extract_best_parameters_db('SimpleNN_L1000_optuna.db')"
   ]
  },
  {
   "cell_type": "code",
   "execution_count": 6,
   "metadata": {},
   "outputs": [
    {
     "name": "stdout",
     "output_type": "stream",
     "text": [
      "DeepInsight\n",
      "Best trial ID: 58\n",
      "Best value: 0.4238776615604121\n",
      "Optimal parameters:\n",
      "  dropout_rate: 0.23753380635366567\n",
      "  gamma: 0.8432222781730062\n",
      "  loss_fn: 2.0\n",
      "  loss_train_fn: 0.0\n",
      "  lr: 0.0005706036846126339\n",
      "  num_features1: 323.0\n",
      "  num_features2: 654.0\n",
      "  optimizer: 0.0\n",
      "  scheduler: 0.0\n",
      "  step_size: 19.0\n",
      "  yn_class_weights: 1.0\n"
     ]
    }
   ],
   "source": [
    "# DeepInsight\n",
    "print(\"DeepInsight\")\n",
    "extract_best_parameters_db('DeepInsight.db')"
   ]
  },
  {
   "cell_type": "code",
   "execution_count": 7,
   "metadata": {},
   "outputs": [
    {
     "name": "stdout",
     "output_type": "stream",
     "text": [
      "DeepInsight\n",
      "Best trial ID: 78\n",
      "Best value: 0.35830096330096334\n",
      "Optimal parameters:\n",
      "  alpha: 0.6854878869112724\n",
      "  gamma: 0.7949870139012913\n",
      "  loss_fn: 2.0\n",
      "  loss_train_fn: 1.0\n",
      "  lr: 0.0008271360695780358\n",
      "  model: 0.0\n",
      "  optimizer: 0.0\n",
      "  pretrained: 1.0\n",
      "  scheduler: 0.0\n",
      "  smoothing: 0.06895853013598055\n",
      "  step_size: 12.0\n",
      "  yn_class_weights: 1.0\n"
     ]
    }
   ],
   "source": [
    "# DWTM\n",
    "print(\"DWTM\")\n",
    "extract_best_parameters_db('DWTM.db')"
   ]
  },
  {
   "cell_type": "code",
   "execution_count": 8,
   "metadata": {},
   "outputs": [
    {
     "name": "stdout",
     "output_type": "stream",
     "text": [
      "Chemical Structure\n",
      "Best trial ID: 23\n",
      "Best value: 0.7208502608502608\n",
      "Optimal parameters:\n",
      "  dropout_l0: 0.4569154983892409\n",
      "  dropout_l1: 0.43536602761042376\n",
      "  gamma: 0.3535797529154048\n",
      "  loss_fn: 0.0\n",
      "  loss_train_fn: 0.0\n",
      "  lr: 0.03255344818733807\n",
      "  n_layers: 2.0\n",
      "  n_units_l0: 128.0\n",
      "  n_units_l1: 111.0\n",
      "  optimizer: 1.0\n",
      "  scheduler: 0.0\n",
      "  step_size: 13.0\n",
      "  yn_class_weights: 1.0\n"
     ]
    }
   ],
   "source": [
    "# DWTM\n",
    "print(\"Chemical Structure\")\n",
    "extract_best_parameters_db('Chemical_Structure_Optuna.db')"
   ]
  },
  {
   "cell_type": "code",
   "execution_count": 12,
   "metadata": {},
   "outputs": [
    {
     "name": "stdout",
     "output_type": "stream",
     "text": [
      "IGTD\n",
      "Number of finished trials: 150\n",
      "{'dropout_rate1': 0.2000578900281615, 'hidden_layer1': 2447, 'hidden_layer2': 230, 'channel_num': 12, 'optimizer': 'Adam', 'lr': 0.00046372531356603854, 'scheduler': 'StepLR', 'step_size': 18, 'gamma': 0.7910577406713815, 'yn_class_weights': False, 'loss_fn': 'BCE', 'loss_train_fn': 'false'}\n",
      "0.43660910343371\n"
     ]
    }
   ],
   "source": [
    "print(\"IGTD\")\n",
    "print('''Number of finished trials: 150\n",
    "{'dropout_rate1': 0.2000578900281615, 'hidden_layer1': 2447, 'hidden_layer2': 230, 'channel_num': 12, 'optimizer': 'Adam', 'lr': 0.00046372531356603854, 'scheduler': 'StepLR', 'step_size': 18, 'gamma': 0.7910577406713815, 'yn_class_weights': False, 'loss_fn': 'BCE', 'loss_train_fn': 'false'}\n",
    "0.43660910343371''')\n"
   ]
  },
  {
   "cell_type": "code",
   "execution_count": 4,
   "metadata": {},
   "outputs": [
    {
     "name": "stdout",
     "output_type": "stream",
     "text": [
      "Chemical Structure Average\n",
      "Best trial ID: 43\n",
      "Best value: 0.7183105565458506\n",
      "Optimal parameters:\n",
      "  alpha: 0.8945292907426503\n",
      "  dropout_l0: 0.3910762221579472\n",
      "  dropout_l1: 0.3284304805669022\n",
      "  gamma: 0.7390193870363918\n",
      "  loss_fn: 2.0\n",
      "  loss_train_fn: 1.0\n",
      "  lr: 0.07025377271459003\n",
      "  n_layers: 2.0\n",
      "  n_units_l0: 120.0\n",
      "  n_units_l1: 103.0\n",
      "  optimizer: 1.0\n",
      "  scheduler: 0.0\n",
      "  smoothing: 0.25978341135337146\n",
      "  step_size: 30.0\n",
      "  yn_class_weights: 1.0\n"
     ]
    }
   ],
   "source": [
    "# Chemical Structure Average\n",
    "print(\"Chemical Structure Average\")\n",
    "extract_best_parameters_db('Chemical_Structure_Optuna_avg.db')"
   ]
  },
  {
   "cell_type": "code",
   "execution_count": null,
   "metadata": {},
   "outputs": [],
   "source": []
  }
 ],
 "metadata": {
  "kernelspec": {
   "display_name": "Python 3",
   "language": "python",
   "name": "python3"
  },
  "language_info": {
   "codemirror_mode": {
    "name": "ipython",
    "version": 3
   },
   "file_extension": ".py",
   "mimetype": "text/x-python",
   "name": "python",
   "nbconvert_exporter": "python",
   "pygments_lexer": "ipython3",
   "version": "3.8.10"
  },
  "orig_nbformat": 4,
  "vscode": {
   "interpreter": {
    "hash": "31f2aee4e71d21fbe5cf8b01ff0e069b9275f58929596ceb00d14d90e3e16cd6"
   }
  }
 },
 "nbformat": 4,
 "nbformat_minor": 2
}

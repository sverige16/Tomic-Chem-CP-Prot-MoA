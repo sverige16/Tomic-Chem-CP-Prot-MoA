{
 "cells": [
  {
   "cell_type": "code",
   "execution_count": 41,
   "id": "3d27c99f-2f55-4582-9cf1-555451467534",
   "metadata": {},
   "outputs": [],
   "source": [
    "import pandas as pd"
   ]
  },
  {
   "cell_type": "markdown",
   "id": "65a25c44-6332-4502-b76b-8a1f46edbd51",
   "metadata": {},
   "source": [
    "# Combining Compounds_v1 and Compounds_v2"
   ]
  },
  {
   "cell_type": "code",
   "execution_count": 55,
   "id": "ca8422b9-9f0c-4560-b8a6-5b57b76e3e37",
   "metadata": {},
   "outputs": [],
   "source": [
    "compounds_v1 = pd.read_csv('/home/jovyan/Tomics-CP-Chem-MoA/data_for_models/specs935-v1-compounds.csv', sep=',')\n",
    "compounds_v2 = pd.read_csv('/home/jovyan/Tomics-CP-Chem-MoA/data_for_models/specs1k-v2-compounds.csv', sep=',')"
   ]
  },
  {
   "cell_type": "code",
   "execution_count": 56,
   "id": "73e215dc-2e31-47bf-89fc-13539323c580",
   "metadata": {},
   "outputs": [
    {
     "name": "stdout",
     "output_type": "stream",
     "text": [
      "('Compound ID', 'Compound_ID')\n",
      "('Batch nr', 'Batch_nr')\n",
      "('CUSTOMER_ID', 'CUSTOMER_ID')\n",
      "('MOLFORMULA', 'MOLFORMULA')\n",
      "('MOLWEIGHT', 'MOLWEIGHT')\n",
      "('NAME', 'NAME_x')\n",
      "('VENDOR', 'VENDOR')\n",
      "('ADD_INFO', 'ADD_INFO')\n",
      "('SMILES', 'SMILES_x')\n",
      "('IUPAC_NAME', 'IUPAC_NAME')\n",
      "('STEREOCHEMISTRY', 'STEREOCHEMISTRY')\n",
      "('pert_iname', 'pert_iname')\n",
      "('clinical_phase', 'clinical_phase')\n",
      "('moa', 'moa')\n",
      "('target', 'target')\n",
      "('disease_area', 'disease_area')\n",
      "('indication', 'indication')\n",
      "('SAMPLE_ID', 'SAMPLE_ID')\n",
      "('PROTOCOL_NAME', 'PROTOCOL_NAME')\n",
      "('SAMPLE_DATA_TYPE', 'SAMPLE_DATA_TYPE')\n",
      "('ASSAY_OUTCOME', 'ASSAY_OUTCOME')\n",
      "('CHANNEL_OUTCOME', 'CHANNEL_OUTCOME')\n",
      "('AC50', 'AC50')\n",
      "('EFFICACY', 'EFFICACY')\n",
      "('REPRODUCIBILITY', 'REPRODUCIBILITY')\n",
      "('CURVE_RANK', 'CURVE_RANK')\n",
      "('FLAG', 'FLAG')\n",
      "('CAS', 'CAS')\n",
      "('PUBCHEM_CID', 'PUBCHEM_CID')\n",
      "('PUBCHEM_SID', 'PUBCHEM_SID')\n",
      "('PURITY_RATING', 'PURITY_RATING')\n",
      "('PURITY_RATING_4M', 'PURITY_RATING_4M')\n",
      "('TOX21_ID', 'NAME_y')\n",
      "('DILIST_ID', 'SMILES_y')\n",
      "('DILIst Classification', 'TOX21_ID')\n",
      "('Routs of Administration', 'Selected_mechanism of action (MoA)')\n",
      "('selected_mechanism of action (MoA)', 'selected_mechanism')\n"
     ]
    }
   ],
   "source": [
    "# checking to see the different names of the columns. Some differences occur which could be fixed (notice x with SMILES for example), but does not effect following\n",
    "for col1,col2 in zip(compounds_v1.columns[1:], compounds_v2.columns):\n",
    "    print((col1,col2))"
   ]
  },
  {
   "cell_type": "code",
   "execution_count": 57,
   "id": "7bc71d17-88cc-45a7-bfa7-31745e3dc79f",
   "metadata": {},
   "outputs": [],
   "source": [
    "compounds_v1 = compounds_v1.rename(columns={\"Compound ID\": \"Compound_ID\", \"Batch nr\": \"Batch_nr\"})\n",
    "compounds_v2 = compounds_v2.rename(columns={\"NAME_x\": \"NAME\", \"SMILES_x\": \"SMILES\"})\n",
    "# Concatenating both specs into a large dataframe\n",
    "compounds_v1 = compounds_v1.iloc[:, 1:-6]\n",
    "compounds_v2 = compounds_v2.iloc[:, :-5]"
   ]
  },
  {
   "cell_type": "code",
   "execution_count": 58,
   "id": "919569a8-d52b-4925-96c4-e07d15d44dee",
   "metadata": {},
   "outputs": [
    {
     "data": {
      "text/html": [
       "<div>\n",
       "<style scoped>\n",
       "    .dataframe tbody tr th:only-of-type {\n",
       "        vertical-align: middle;\n",
       "    }\n",
       "\n",
       "    .dataframe tbody tr th {\n",
       "        vertical-align: top;\n",
       "    }\n",
       "\n",
       "    .dataframe thead th {\n",
       "        text-align: right;\n",
       "    }\n",
       "</style>\n",
       "<table border=\"1\" class=\"dataframe\">\n",
       "  <thead>\n",
       "    <tr style=\"text-align: right;\">\n",
       "      <th></th>\n",
       "      <th>Compound_ID</th>\n",
       "      <th>Batch_nr</th>\n",
       "      <th>CUSTOMER_ID</th>\n",
       "      <th>MOLFORMULA</th>\n",
       "      <th>MOLWEIGHT</th>\n",
       "      <th>NAME</th>\n",
       "      <th>VENDOR</th>\n",
       "      <th>ADD_INFO</th>\n",
       "      <th>SMILES</th>\n",
       "      <th>IUPAC_NAME</th>\n",
       "      <th>...</th>\n",
       "      <th>AC50</th>\n",
       "      <th>EFFICACY</th>\n",
       "      <th>REPRODUCIBILITY</th>\n",
       "      <th>CURVE_RANK</th>\n",
       "      <th>FLAG</th>\n",
       "      <th>CAS</th>\n",
       "      <th>PUBCHEM_CID</th>\n",
       "      <th>PUBCHEM_SID</th>\n",
       "      <th>PURITY_RATING</th>\n",
       "      <th>PURITY_RATING_4M</th>\n",
       "    </tr>\n",
       "  </thead>\n",
       "  <tbody>\n",
       "    <tr>\n",
       "      <th>0</th>\n",
       "      <td>CBK290537</td>\n",
       "      <td>BJ1898259</td>\n",
       "      <td>A39052811</td>\n",
       "      <td>C21H25ClFN3O3.C6H8O7</td>\n",
       "      <td>614.03</td>\n",
       "      <td>Mosapride citrate</td>\n",
       "      <td>Selleck Chemicals</td>\n",
       "      <td>112885-42-4</td>\n",
       "      <td>CCOc1cc(N)c(Cl)cc1C(=O)NCC1CN(Cc2ccc(F)cc2)CCO1</td>\n",
       "      <td>4-amino-5-chloro-2-ethoxy-N-{[4-(4-fluorobenzy...</td>\n",
       "      <td>...</td>\n",
       "      <td>0.5731488281</td>\n",
       "      <td>46.089456</td>\n",
       "      <td>active_match</td>\n",
       "      <td>7.00000</td>\n",
       "      <td>NaN</td>\n",
       "      <td>112885-42-4</td>\n",
       "      <td>119583.0</td>\n",
       "      <td>144205427.0</td>\n",
       "      <td>A</td>\n",
       "      <td>A</td>\n",
       "    </tr>\n",
       "    <tr>\n",
       "      <th>1</th>\n",
       "      <td>CBK308456</td>\n",
       "      <td>BJ1896690</td>\n",
       "      <td>A54275602</td>\n",
       "      <td>C14H10ClN3S2</td>\n",
       "      <td>319.84</td>\n",
       "      <td>Lanoconazole</td>\n",
       "      <td>AK Scientific</td>\n",
       "      <td>CAS 101530-10-3</td>\n",
       "      <td>Clc1ccccc1C1CS\\C(S1)=C(\\C#N)n1ccnc1</td>\n",
       "      <td>(2E)-2-[4-(2-chlorophenyl)-1,3-dithiolan-2-yli...</td>\n",
       "      <td>...</td>\n",
       "      <td>5.9557173066</td>\n",
       "      <td>48.753082</td>\n",
       "      <td>active_match</td>\n",
       "      <td>8.33333</td>\n",
       "      <td>NaN</td>\n",
       "      <td>101530-10-3</td>\n",
       "      <td>9927058.0</td>\n",
       "      <td>144205726.0</td>\n",
       "      <td>A</td>\n",
       "      <td>A</td>\n",
       "    </tr>\n",
       "    <tr>\n",
       "      <th>2</th>\n",
       "      <td>CBK200938</td>\n",
       "      <td>BJ1897571</td>\n",
       "      <td>A84465106</td>\n",
       "      <td>C20H24N2O6</td>\n",
       "      <td>388.42</td>\n",
       "      <td>Nisoldipine</td>\n",
       "      <td>MedChemExpress</td>\n",
       "      <td>CAS 63675-72-9, target Calcium Channel</td>\n",
       "      <td>O=C(C1=C(C)NC(C)=C(C(OCC(C)C)=O)C1C2=CC=CC=C2[...</td>\n",
       "      <td>O5-isobutyl O3-methyl 2,6-dimethyl-4-(2-nitrop...</td>\n",
       "      <td>...</td>\n",
       "      <td>9.4391758155</td>\n",
       "      <td>15.773386</td>\n",
       "      <td>active_match</td>\n",
       "      <td>4.00000</td>\n",
       "      <td>NaN</td>\n",
       "      <td>63675-72-9</td>\n",
       "      <td>4499.0</td>\n",
       "      <td>144205804.0</td>\n",
       "      <td>F</td>\n",
       "      <td>Fc</td>\n",
       "    </tr>\n",
       "    <tr>\n",
       "      <th>3</th>\n",
       "      <td>CBK290948</td>\n",
       "      <td>BJ1899032</td>\n",
       "      <td>K05977823</td>\n",
       "      <td>C20H23N3O2S</td>\n",
       "      <td>369.49</td>\n",
       "      <td>Tenovin-1</td>\n",
       "      <td>Selleck Chemicals</td>\n",
       "      <td>380315-80-0</td>\n",
       "      <td>CC(=O)Nc1ccc(NC(=S)NC(=O)c2ccc(cc2)C(C)(C)C)cc1</td>\n",
       "      <td>N-[4-({[(4-tert-butylbenzoyl)amino]carbothioyl...</td>\n",
       "      <td>...</td>\n",
       "      <td>1.4960085492</td>\n",
       "      <td>28.504547</td>\n",
       "      <td>active_match</td>\n",
       "      <td>4.33333</td>\n",
       "      <td>NaN</td>\n",
       "      <td>380315-80-0</td>\n",
       "      <td>1013376.0</td>\n",
       "      <td>144206362.0</td>\n",
       "      <td>W</td>\n",
       "      <td>NaN</td>\n",
       "    </tr>\n",
       "    <tr>\n",
       "      <th>4</th>\n",
       "      <td>CBK200855</td>\n",
       "      <td>BJ1895358</td>\n",
       "      <td>K09255212</td>\n",
       "      <td>C9H5ClINO</td>\n",
       "      <td>305.50</td>\n",
       "      <td>CLIOQUINOL</td>\n",
       "      <td>Microsource Discovery Systems</td>\n",
       "      <td>130-26-7</td>\n",
       "      <td>Oc1c(I)cc(Cl)c2cccnc12</td>\n",
       "      <td>5-chloro-7-iodo-quinolin-8-ol</td>\n",
       "      <td>...</td>\n",
       "      <td>5.1081943071</td>\n",
       "      <td>48.015811</td>\n",
       "      <td>active_match</td>\n",
       "      <td>6.66667</td>\n",
       "      <td>NaN</td>\n",
       "      <td>130-26-7</td>\n",
       "      <td>2788.0</td>\n",
       "      <td>144203967.0</td>\n",
       "      <td>A</td>\n",
       "      <td>A</td>\n",
       "    </tr>\n",
       "  </tbody>\n",
       "</table>\n",
       "<p>5 rows × 32 columns</p>\n",
       "</div>"
      ],
      "text/plain": [
       "  Compound_ID   Batch_nr CUSTOMER_ID            MOLFORMULA  MOLWEIGHT  \\\n",
       "0   CBK290537  BJ1898259   A39052811  C21H25ClFN3O3.C6H8O7     614.03   \n",
       "1   CBK308456  BJ1896690   A54275602          C14H10ClN3S2     319.84   \n",
       "2   CBK200938  BJ1897571   A84465106            C20H24N2O6     388.42   \n",
       "3   CBK290948  BJ1899032   K05977823           C20H23N3O2S     369.49   \n",
       "4   CBK200855  BJ1895358   K09255212             C9H5ClINO     305.50   \n",
       "\n",
       "                NAME                         VENDOR  \\\n",
       "0  Mosapride citrate              Selleck Chemicals   \n",
       "1       Lanoconazole                  AK Scientific   \n",
       "2        Nisoldipine                 MedChemExpress   \n",
       "3          Tenovin-1              Selleck Chemicals   \n",
       "4         CLIOQUINOL  Microsource Discovery Systems   \n",
       "\n",
       "                                 ADD_INFO  \\\n",
       "0                             112885-42-4   \n",
       "1                         CAS 101530-10-3   \n",
       "2  CAS 63675-72-9, target Calcium Channel   \n",
       "3                             380315-80-0   \n",
       "4                                130-26-7   \n",
       "\n",
       "                                              SMILES  \\\n",
       "0    CCOc1cc(N)c(Cl)cc1C(=O)NCC1CN(Cc2ccc(F)cc2)CCO1   \n",
       "1                Clc1ccccc1C1CS\\C(S1)=C(\\C#N)n1ccnc1   \n",
       "2  O=C(C1=C(C)NC(C)=C(C(OCC(C)C)=O)C1C2=CC=CC=C2[...   \n",
       "3    CC(=O)Nc1ccc(NC(=S)NC(=O)c2ccc(cc2)C(C)(C)C)cc1   \n",
       "4                             Oc1c(I)cc(Cl)c2cccnc12   \n",
       "\n",
       "                                          IUPAC_NAME  ...          AC50  \\\n",
       "0  4-amino-5-chloro-2-ethoxy-N-{[4-(4-fluorobenzy...  ...  0.5731488281   \n",
       "1  (2E)-2-[4-(2-chlorophenyl)-1,3-dithiolan-2-yli...  ...  5.9557173066   \n",
       "2  O5-isobutyl O3-methyl 2,6-dimethyl-4-(2-nitrop...  ...  9.4391758155   \n",
       "3  N-[4-({[(4-tert-butylbenzoyl)amino]carbothioyl...  ...  1.4960085492   \n",
       "4                      5-chloro-7-iodo-quinolin-8-ol  ...  5.1081943071   \n",
       "\n",
       "    EFFICACY REPRODUCIBILITY CURVE_RANK FLAG          CAS PUBCHEM_CID  \\\n",
       "0  46.089456    active_match    7.00000  NaN  112885-42-4    119583.0   \n",
       "1  48.753082    active_match    8.33333  NaN  101530-10-3   9927058.0   \n",
       "2  15.773386    active_match    4.00000  NaN   63675-72-9      4499.0   \n",
       "3  28.504547    active_match    4.33333  NaN  380315-80-0   1013376.0   \n",
       "4  48.015811    active_match    6.66667  NaN     130-26-7      2788.0   \n",
       "\n",
       "   PUBCHEM_SID PURITY_RATING PURITY_RATING_4M  \n",
       "0  144205427.0             A                A  \n",
       "1  144205726.0             A                A  \n",
       "2  144205804.0             F               Fc  \n",
       "3  144206362.0             W              NaN  \n",
       "4  144203967.0             A                A  \n",
       "\n",
       "[5 rows x 32 columns]"
      ]
     },
     "execution_count": 58,
     "metadata": {},
     "output_type": "execute_result"
    }
   ],
   "source": [
    "compounds_v1.head()"
   ]
  },
  {
   "cell_type": "code",
   "execution_count": 59,
   "id": "a672e330-606a-41b1-840a-461f4ca4e412",
   "metadata": {},
   "outputs": [
    {
     "name": "stdout",
     "output_type": "stream",
     "text": [
      "('Compound_ID', 'Compound_ID')\n",
      "('Batch_nr', 'Batch_nr')\n",
      "('CUSTOMER_ID', 'CUSTOMER_ID')\n",
      "('MOLFORMULA', 'MOLFORMULA')\n",
      "('MOLWEIGHT', 'MOLWEIGHT')\n",
      "('NAME', 'NAME')\n",
      "('VENDOR', 'VENDOR')\n",
      "('ADD_INFO', 'ADD_INFO')\n",
      "('SMILES', 'SMILES')\n",
      "('IUPAC_NAME', 'IUPAC_NAME')\n",
      "('STEREOCHEMISTRY', 'STEREOCHEMISTRY')\n",
      "('pert_iname', 'pert_iname')\n",
      "('clinical_phase', 'clinical_phase')\n",
      "('moa', 'moa')\n",
      "('target', 'target')\n",
      "('disease_area', 'disease_area')\n",
      "('indication', 'indication')\n",
      "('SAMPLE_ID', 'SAMPLE_ID')\n",
      "('PROTOCOL_NAME', 'PROTOCOL_NAME')\n",
      "('SAMPLE_DATA_TYPE', 'SAMPLE_DATA_TYPE')\n",
      "('ASSAY_OUTCOME', 'ASSAY_OUTCOME')\n",
      "('CHANNEL_OUTCOME', 'CHANNEL_OUTCOME')\n",
      "('AC50', 'AC50')\n",
      "('EFFICACY', 'EFFICACY')\n",
      "('REPRODUCIBILITY', 'REPRODUCIBILITY')\n",
      "('CURVE_RANK', 'CURVE_RANK')\n",
      "('FLAG', 'FLAG')\n",
      "('CAS', 'CAS')\n",
      "('PUBCHEM_CID', 'PUBCHEM_CID')\n",
      "('PUBCHEM_SID', 'PUBCHEM_SID')\n",
      "('PURITY_RATING', 'PURITY_RATING')\n",
      "('PURITY_RATING_4M', 'PURITY_RATING_4M')\n"
     ]
    }
   ],
   "source": [
    "# checking to see the different names of the columns. Some differences occur which could be fixed (notice x with SMILES for example), but does not effect following\n",
    "for col1,col2 in zip(compounds_v1.columns, compounds_v2.columns):\n",
    "    print((col1,col2))"
   ]
  },
  {
   "cell_type": "code",
   "execution_count": 60,
   "id": "e9997749-4b32-4290-98b0-d170de992cf3",
   "metadata": {},
   "outputs": [
    {
     "name": "stdout",
     "output_type": "stream",
     "text": [
      "32\n"
     ]
    },
    {
     "data": {
      "text/plain": [
       "32"
      ]
     },
     "execution_count": 60,
     "metadata": {},
     "output_type": "execute_result"
    }
   ],
   "source": [
    "print(len(compounds_v1.columns))\n",
    "len(compounds_v2.columns)"
   ]
  },
  {
   "cell_type": "code",
   "execution_count": 61,
   "id": "9d2f92fd-6e28-4e38-a74a-a0adf69dc82b",
   "metadata": {},
   "outputs": [
    {
     "data": {
      "text/plain": [
       "(1934, 32)"
      ]
     },
     "execution_count": 61,
     "metadata": {},
     "output_type": "execute_result"
    }
   ],
   "source": [
    "frames = [compounds_v1, compounds_v2]\n",
    "compounds_v1v2 = pd.concat(frames)\n",
    "compounds_v1v2.shape"
   ]
  },
  {
   "cell_type": "code",
   "execution_count": 62,
   "id": "50b1115a-e67a-4111-b691-7afc63ffbfb7",
   "metadata": {},
   "outputs": [
    {
     "data": {
      "text/html": [
       "<div>\n",
       "<style scoped>\n",
       "    .dataframe tbody tr th:only-of-type {\n",
       "        vertical-align: middle;\n",
       "    }\n",
       "\n",
       "    .dataframe tbody tr th {\n",
       "        vertical-align: top;\n",
       "    }\n",
       "\n",
       "    .dataframe thead th {\n",
       "        text-align: right;\n",
       "    }\n",
       "</style>\n",
       "<table border=\"1\" class=\"dataframe\">\n",
       "  <thead>\n",
       "    <tr style=\"text-align: right;\">\n",
       "      <th></th>\n",
       "      <th>Compound_ID</th>\n",
       "      <th>Batch_nr</th>\n",
       "      <th>CUSTOMER_ID</th>\n",
       "      <th>MOLFORMULA</th>\n",
       "      <th>MOLWEIGHT</th>\n",
       "      <th>NAME</th>\n",
       "      <th>VENDOR</th>\n",
       "      <th>ADD_INFO</th>\n",
       "      <th>SMILES</th>\n",
       "      <th>IUPAC_NAME</th>\n",
       "      <th>...</th>\n",
       "      <th>AC50</th>\n",
       "      <th>EFFICACY</th>\n",
       "      <th>REPRODUCIBILITY</th>\n",
       "      <th>CURVE_RANK</th>\n",
       "      <th>FLAG</th>\n",
       "      <th>CAS</th>\n",
       "      <th>PUBCHEM_CID</th>\n",
       "      <th>PUBCHEM_SID</th>\n",
       "      <th>PURITY_RATING</th>\n",
       "      <th>PURITY_RATING_4M</th>\n",
       "    </tr>\n",
       "  </thead>\n",
       "  <tbody>\n",
       "    <tr>\n",
       "      <th>0</th>\n",
       "      <td>CBK290537</td>\n",
       "      <td>BJ1898259</td>\n",
       "      <td>A39052811</td>\n",
       "      <td>C21H25ClFN3O3.C6H8O7</td>\n",
       "      <td>614.03</td>\n",
       "      <td>Mosapride citrate</td>\n",
       "      <td>Selleck Chemicals</td>\n",
       "      <td>112885-42-4</td>\n",
       "      <td>CCOc1cc(N)c(Cl)cc1C(=O)NCC1CN(Cc2ccc(F)cc2)CCO1</td>\n",
       "      <td>4-amino-5-chloro-2-ethoxy-N-{[4-(4-fluorobenzy...</td>\n",
       "      <td>...</td>\n",
       "      <td>0.5731488281</td>\n",
       "      <td>46.089456</td>\n",
       "      <td>active_match</td>\n",
       "      <td>7.00000</td>\n",
       "      <td>NaN</td>\n",
       "      <td>112885-42-4</td>\n",
       "      <td>119583.0</td>\n",
       "      <td>144205427.0</td>\n",
       "      <td>A</td>\n",
       "      <td>A</td>\n",
       "    </tr>\n",
       "    <tr>\n",
       "      <th>1</th>\n",
       "      <td>CBK308456</td>\n",
       "      <td>BJ1896690</td>\n",
       "      <td>A54275602</td>\n",
       "      <td>C14H10ClN3S2</td>\n",
       "      <td>319.84</td>\n",
       "      <td>Lanoconazole</td>\n",
       "      <td>AK Scientific</td>\n",
       "      <td>CAS 101530-10-3</td>\n",
       "      <td>Clc1ccccc1C1CS\\C(S1)=C(\\C#N)n1ccnc1</td>\n",
       "      <td>(2E)-2-[4-(2-chlorophenyl)-1,3-dithiolan-2-yli...</td>\n",
       "      <td>...</td>\n",
       "      <td>5.9557173066</td>\n",
       "      <td>48.753082</td>\n",
       "      <td>active_match</td>\n",
       "      <td>8.33333</td>\n",
       "      <td>NaN</td>\n",
       "      <td>101530-10-3</td>\n",
       "      <td>9927058.0</td>\n",
       "      <td>144205726.0</td>\n",
       "      <td>A</td>\n",
       "      <td>A</td>\n",
       "    </tr>\n",
       "    <tr>\n",
       "      <th>2</th>\n",
       "      <td>CBK200938</td>\n",
       "      <td>BJ1897571</td>\n",
       "      <td>A84465106</td>\n",
       "      <td>C20H24N2O6</td>\n",
       "      <td>388.42</td>\n",
       "      <td>Nisoldipine</td>\n",
       "      <td>MedChemExpress</td>\n",
       "      <td>CAS 63675-72-9, target Calcium Channel</td>\n",
       "      <td>O=C(C1=C(C)NC(C)=C(C(OCC(C)C)=O)C1C2=CC=CC=C2[...</td>\n",
       "      <td>O5-isobutyl O3-methyl 2,6-dimethyl-4-(2-nitrop...</td>\n",
       "      <td>...</td>\n",
       "      <td>9.4391758155</td>\n",
       "      <td>15.773386</td>\n",
       "      <td>active_match</td>\n",
       "      <td>4.00000</td>\n",
       "      <td>NaN</td>\n",
       "      <td>63675-72-9</td>\n",
       "      <td>4499.0</td>\n",
       "      <td>144205804.0</td>\n",
       "      <td>F</td>\n",
       "      <td>Fc</td>\n",
       "    </tr>\n",
       "  </tbody>\n",
       "</table>\n",
       "<p>3 rows × 32 columns</p>\n",
       "</div>"
      ],
      "text/plain": [
       "  Compound_ID   Batch_nr CUSTOMER_ID            MOLFORMULA  MOLWEIGHT  \\\n",
       "0   CBK290537  BJ1898259   A39052811  C21H25ClFN3O3.C6H8O7     614.03   \n",
       "1   CBK308456  BJ1896690   A54275602          C14H10ClN3S2     319.84   \n",
       "2   CBK200938  BJ1897571   A84465106            C20H24N2O6     388.42   \n",
       "\n",
       "                NAME             VENDOR  \\\n",
       "0  Mosapride citrate  Selleck Chemicals   \n",
       "1       Lanoconazole      AK Scientific   \n",
       "2        Nisoldipine     MedChemExpress   \n",
       "\n",
       "                                 ADD_INFO  \\\n",
       "0                             112885-42-4   \n",
       "1                         CAS 101530-10-3   \n",
       "2  CAS 63675-72-9, target Calcium Channel   \n",
       "\n",
       "                                              SMILES  \\\n",
       "0    CCOc1cc(N)c(Cl)cc1C(=O)NCC1CN(Cc2ccc(F)cc2)CCO1   \n",
       "1                Clc1ccccc1C1CS\\C(S1)=C(\\C#N)n1ccnc1   \n",
       "2  O=C(C1=C(C)NC(C)=C(C(OCC(C)C)=O)C1C2=CC=CC=C2[...   \n",
       "\n",
       "                                          IUPAC_NAME  ...          AC50  \\\n",
       "0  4-amino-5-chloro-2-ethoxy-N-{[4-(4-fluorobenzy...  ...  0.5731488281   \n",
       "1  (2E)-2-[4-(2-chlorophenyl)-1,3-dithiolan-2-yli...  ...  5.9557173066   \n",
       "2  O5-isobutyl O3-methyl 2,6-dimethyl-4-(2-nitrop...  ...  9.4391758155   \n",
       "\n",
       "    EFFICACY REPRODUCIBILITY CURVE_RANK FLAG          CAS PUBCHEM_CID  \\\n",
       "0  46.089456    active_match    7.00000  NaN  112885-42-4    119583.0   \n",
       "1  48.753082    active_match    8.33333  NaN  101530-10-3   9927058.0   \n",
       "2  15.773386    active_match    4.00000  NaN   63675-72-9      4499.0   \n",
       "\n",
       "   PUBCHEM_SID PURITY_RATING PURITY_RATING_4M  \n",
       "0  144205427.0             A                A  \n",
       "1  144205726.0             A                A  \n",
       "2  144205804.0             F               Fc  \n",
       "\n",
       "[3 rows x 32 columns]"
      ]
     },
     "execution_count": 62,
     "metadata": {},
     "output_type": "execute_result"
    }
   ],
   "source": [
    "compounds_v1v2.head(3)"
   ]
  },
  {
   "cell_type": "code",
   "execution_count": 63,
   "id": "b1b3c15b-04fe-4e78-be93-f31c03a65f09",
   "metadata": {},
   "outputs": [],
   "source": [
    "compounds_v1v2.to_csv('/home/jovyan/Tomics-CP-Chem-MoA/data_for_models/compounds_v1v2.csv')"
   ]
  },
  {
   "cell_type": "markdown",
   "id": "663b5005-6305-43ba-a515-97a9b927d2ea",
   "metadata": {},
   "source": [
    "# Creating and saving dictionary with compounds and smiles strings as pickle"
   ]
  },
  {
   "cell_type": "code",
   "execution_count": 68,
   "id": "6127a9bb-b845-4aac-8d11-a90930118674",
   "metadata": {},
   "outputs": [
    {
     "data": {
      "text/plain": [
       "1934"
      ]
     },
     "execution_count": 68,
     "metadata": {},
     "output_type": "execute_result"
    }
   ],
   "source": [
    "compounds_v1v2.shape[0]"
   ]
  },
  {
   "cell_type": "code",
   "execution_count": 72,
   "id": "7f478af5-bebe-4308-a087-a4e6d53f99c2",
   "metadata": {},
   "outputs": [],
   "source": [
    "cmpds_v1v2_no_enants = compounds_v1v2.drop_duplicates(subset=[\"Compound_ID\"])"
   ]
  },
  {
   "cell_type": "code",
   "execution_count": 73,
   "id": "4899b235-724a-40be-9a77-5baf8a4e49d2",
   "metadata": {},
   "outputs": [
    {
     "data": {
      "text/plain": [
       "1912"
      ]
     },
     "execution_count": 73,
     "metadata": {},
     "output_type": "execute_result"
    }
   ],
   "source": [
    "cmpds_v1v2_no_enants.shape[0]"
   ]
  },
  {
   "cell_type": "code",
   "execution_count": 74,
   "id": "41aa396d-c121-4a4c-a83f-77ac824cd8ee",
   "metadata": {},
   "outputs": [],
   "source": [
    "cmpds_v1v2_no_enants.to_csv('/home/jovyan/Tomics-CP-Chem-MoA/data_for_models/cmpds_v1v2_no_enants.csv')"
   ]
  },
  {
   "cell_type": "code",
   "execution_count": null,
   "id": "0505159a-0387-408c-987a-ce5b29005b3e",
   "metadata": {},
   "outputs": [],
   "source": []
  }
 ],
 "metadata": {
  "kernelspec": {
   "display_name": "Python 3",
   "language": "python",
   "name": "python3"
  },
  "language_info": {
   "codemirror_mode": {
    "name": "ipython",
    "version": 3
   },
   "file_extension": ".py",
   "mimetype": "text/x-python",
   "name": "python",
   "nbconvert_exporter": "python",
   "pygments_lexer": "ipython3",
   "version": "3.8.10"
  }
 },
 "nbformat": 4,
 "nbformat_minor": 5
}

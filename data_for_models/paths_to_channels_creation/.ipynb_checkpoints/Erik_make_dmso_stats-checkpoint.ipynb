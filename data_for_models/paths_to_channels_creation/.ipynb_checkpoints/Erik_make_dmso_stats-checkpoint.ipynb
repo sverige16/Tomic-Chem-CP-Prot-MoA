{
 "cells": [
  {
   "cell_type": "code",
   "execution_count": 1,
   "id": "33d71e03-96ce-496c-bb69-bb46215e605a",
   "metadata": {},
   "outputs": [],
   "source": [
    "import pandas as pd\n",
    "import numpy as np\n",
    "import cv2\n",
    "import matplotlib.pyplot as plt\n",
    "#from functions import *\n",
    "import tqdm"
   ]
  },
  {
   "cell_type": "code",
   "execution_count": 52,
   "id": "f5dfb611-b082-48be-9350-4aad4c7179dd",
   "metadata": {},
   "outputs": [],
   "source": [
    "dmso_csv_path = '/home/jovyan/Tomics-CP-Chem-MoA/data_for_models/paths_to_channels_creation/paths_dmso_v1v2.csv'"
   ]
  },
  {
   "cell_type": "code",
   "execution_count": 53,
   "id": "c7e1a1d8-a3ac-4a67-a1d8-2acef18d3b04",
   "metadata": {},
   "outputs": [],
   "source": [
    "df_dmso = pd.read_csv(dmso_csv_path)"
   ]
  },
  {
   "cell_type": "code",
   "execution_count": 54,
   "id": "08410895-0016-4ddb-af0b-650c88197bbe",
   "metadata": {},
   "outputs": [
    {
     "data": {
      "text/html": [
       "<div>\n",
       "<style scoped>\n",
       "    .dataframe tbody tr th:only-of-type {\n",
       "        vertical-align: middle;\n",
       "    }\n",
       "\n",
       "    .dataframe tbody tr th {\n",
       "        vertical-align: top;\n",
       "    }\n",
       "\n",
       "    .dataframe thead th {\n",
       "        text-align: right;\n",
       "    }\n",
       "</style>\n",
       "<table border=\"1\" class=\"dataframe\">\n",
       "  <thead>\n",
       "    <tr style=\"text-align: right;\">\n",
       "      <th></th>\n",
       "      <th>Unnamed: 0</th>\n",
       "      <th>plate</th>\n",
       "      <th>well</th>\n",
       "      <th>neg_control_type</th>\n",
       "      <th>C1</th>\n",
       "      <th>C2</th>\n",
       "      <th>C3</th>\n",
       "      <th>C4</th>\n",
       "      <th>C5</th>\n",
       "    </tr>\n",
       "  </thead>\n",
       "  <tbody>\n",
       "    <tr>\n",
       "      <th>0</th>\n",
       "      <td>0</td>\n",
       "      <td>P015076</td>\n",
       "      <td>B23</td>\n",
       "      <td>[dmso]</td>\n",
       "      <td>/share/mikro/IMX/MDC_pharmbio/specs935-v1/spec...</td>\n",
       "      <td>/share/mikro/IMX/MDC_pharmbio/specs935-v1/spec...</td>\n",
       "      <td>/share/mikro/IMX/MDC_pharmbio/specs935-v1/spec...</td>\n",
       "      <td>/share/mikro/IMX/MDC_pharmbio/specs935-v1/spec...</td>\n",
       "      <td>/share/mikro/IMX/MDC_pharmbio/specs935-v1/spec...</td>\n",
       "    </tr>\n",
       "    <tr>\n",
       "      <th>1</th>\n",
       "      <td>1</td>\n",
       "      <td>P015076</td>\n",
       "      <td>B23</td>\n",
       "      <td>[dmso]</td>\n",
       "      <td>/share/mikro/IMX/MDC_pharmbio/specs935-v1/spec...</td>\n",
       "      <td>/share/mikro/IMX/MDC_pharmbio/specs935-v1/spec...</td>\n",
       "      <td>/share/mikro/IMX/MDC_pharmbio/specs935-v1/spec...</td>\n",
       "      <td>/share/mikro/IMX/MDC_pharmbio/specs935-v1/spec...</td>\n",
       "      <td>/share/mikro/IMX/MDC_pharmbio/specs935-v1/spec...</td>\n",
       "    </tr>\n",
       "    <tr>\n",
       "      <th>2</th>\n",
       "      <td>2</td>\n",
       "      <td>P015076</td>\n",
       "      <td>B23</td>\n",
       "      <td>[dmso]</td>\n",
       "      <td>/share/mikro/IMX/MDC_pharmbio/specs935-v1/spec...</td>\n",
       "      <td>/share/mikro/IMX/MDC_pharmbio/specs935-v1/spec...</td>\n",
       "      <td>/share/mikro/IMX/MDC_pharmbio/specs935-v1/spec...</td>\n",
       "      <td>/share/mikro/IMX/MDC_pharmbio/specs935-v1/spec...</td>\n",
       "      <td>/share/mikro/IMX/MDC_pharmbio/specs935-v1/spec...</td>\n",
       "    </tr>\n",
       "    <tr>\n",
       "      <th>3</th>\n",
       "      <td>3</td>\n",
       "      <td>P015076</td>\n",
       "      <td>B23</td>\n",
       "      <td>[dmso]</td>\n",
       "      <td>/share/mikro/IMX/MDC_pharmbio/specs935-v1/spec...</td>\n",
       "      <td>/share/mikro/IMX/MDC_pharmbio/specs935-v1/spec...</td>\n",
       "      <td>/share/mikro/IMX/MDC_pharmbio/specs935-v1/spec...</td>\n",
       "      <td>/share/mikro/IMX/MDC_pharmbio/specs935-v1/spec...</td>\n",
       "      <td>/share/mikro/IMX/MDC_pharmbio/specs935-v1/spec...</td>\n",
       "    </tr>\n",
       "    <tr>\n",
       "      <th>4</th>\n",
       "      <td>4</td>\n",
       "      <td>P015076</td>\n",
       "      <td>B23</td>\n",
       "      <td>[dmso]</td>\n",
       "      <td>/share/mikro/IMX/MDC_pharmbio/specs935-v1/spec...</td>\n",
       "      <td>/share/mikro/IMX/MDC_pharmbio/specs935-v1/spec...</td>\n",
       "      <td>/share/mikro/IMX/MDC_pharmbio/specs935-v1/spec...</td>\n",
       "      <td>/share/mikro/IMX/MDC_pharmbio/specs935-v1/spec...</td>\n",
       "      <td>/share/mikro/IMX/MDC_pharmbio/specs935-v1/spec...</td>\n",
       "    </tr>\n",
       "  </tbody>\n",
       "</table>\n",
       "</div>"
      ],
      "text/plain": [
       "   Unnamed: 0    plate well neg_control_type  \\\n",
       "0           0  P015076  B23           [dmso]   \n",
       "1           1  P015076  B23           [dmso]   \n",
       "2           2  P015076  B23           [dmso]   \n",
       "3           3  P015076  B23           [dmso]   \n",
       "4           4  P015076  B23           [dmso]   \n",
       "\n",
       "                                                  C1  \\\n",
       "0  /share/mikro/IMX/MDC_pharmbio/specs935-v1/spec...   \n",
       "1  /share/mikro/IMX/MDC_pharmbio/specs935-v1/spec...   \n",
       "2  /share/mikro/IMX/MDC_pharmbio/specs935-v1/spec...   \n",
       "3  /share/mikro/IMX/MDC_pharmbio/specs935-v1/spec...   \n",
       "4  /share/mikro/IMX/MDC_pharmbio/specs935-v1/spec...   \n",
       "\n",
       "                                                  C2  \\\n",
       "0  /share/mikro/IMX/MDC_pharmbio/specs935-v1/spec...   \n",
       "1  /share/mikro/IMX/MDC_pharmbio/specs935-v1/spec...   \n",
       "2  /share/mikro/IMX/MDC_pharmbio/specs935-v1/spec...   \n",
       "3  /share/mikro/IMX/MDC_pharmbio/specs935-v1/spec...   \n",
       "4  /share/mikro/IMX/MDC_pharmbio/specs935-v1/spec...   \n",
       "\n",
       "                                                  C3  \\\n",
       "0  /share/mikro/IMX/MDC_pharmbio/specs935-v1/spec...   \n",
       "1  /share/mikro/IMX/MDC_pharmbio/specs935-v1/spec...   \n",
       "2  /share/mikro/IMX/MDC_pharmbio/specs935-v1/spec...   \n",
       "3  /share/mikro/IMX/MDC_pharmbio/specs935-v1/spec...   \n",
       "4  /share/mikro/IMX/MDC_pharmbio/specs935-v1/spec...   \n",
       "\n",
       "                                                  C4  \\\n",
       "0  /share/mikro/IMX/MDC_pharmbio/specs935-v1/spec...   \n",
       "1  /share/mikro/IMX/MDC_pharmbio/specs935-v1/spec...   \n",
       "2  /share/mikro/IMX/MDC_pharmbio/specs935-v1/spec...   \n",
       "3  /share/mikro/IMX/MDC_pharmbio/specs935-v1/spec...   \n",
       "4  /share/mikro/IMX/MDC_pharmbio/specs935-v1/spec...   \n",
       "\n",
       "                                                  C5  \n",
       "0  /share/mikro/IMX/MDC_pharmbio/specs935-v1/spec...  \n",
       "1  /share/mikro/IMX/MDC_pharmbio/specs935-v1/spec...  \n",
       "2  /share/mikro/IMX/MDC_pharmbio/specs935-v1/spec...  \n",
       "3  /share/mikro/IMX/MDC_pharmbio/specs935-v1/spec...  \n",
       "4  /share/mikro/IMX/MDC_pharmbio/specs935-v1/spec...  "
      ]
     },
     "execution_count": 54,
     "metadata": {},
     "output_type": "execute_result"
    }
   ],
   "source": [
    "df_dmso.head()"
   ]
  },
  {
   "cell_type": "code",
   "execution_count": 55,
   "id": "97905ae4-1635-40a0-8ba8-830bca1d9333",
   "metadata": {},
   "outputs": [],
   "source": [
    "df_dmso = df_dmso[df_dmso[\"neg_control_type\"] == '[dmso]']\n",
    "suspects = df_dmso.plate.unique()[34:40]\n"
   ]
  },
  {
   "cell_type": "code",
   "execution_count": 56,
   "id": "cec1cdb2-72f9-4290-93bf-5fcc78f6c391",
   "metadata": {},
   "outputs": [
    {
     "data": {
      "text/plain": [
       "array(['P100990', 'P100991', 'P101016', 'P101017', 'P101018', 'P101019'],\n",
       "      dtype=object)"
      ]
     },
     "execution_count": 56,
     "metadata": {},
     "output_type": "execute_result"
    }
   ],
   "source": [
    "suspects"
   ]
  },
  {
   "cell_type": "code",
   "execution_count": 57,
   "id": "37d52169-2dcc-4696-b1d4-da069da7acb1",
   "metadata": {},
   "outputs": [],
   "source": [
    "df_dmso = df_dmso[df_dmso[\"plate\"].isin(suspects)]"
   ]
  },
  {
   "cell_type": "code",
   "execution_count": 59,
   "id": "f0d5c4ef-a5cd-4be1-9d27-5e11beead04f",
   "metadata": {},
   "outputs": [
    {
     "ename": "KeyError",
     "evalue": "0",
     "output_type": "error",
     "traceback": [
      "\u001b[0;31m---------------------------------------------------------------------------\u001b[0m",
      "\u001b[0;31mKeyError\u001b[0m                                  Traceback (most recent call last)",
      "File \u001b[0;32m/usr/local/lib/python3.8/dist-packages/pandas/core/indexes/base.py:3629\u001b[0m, in \u001b[0;36mIndex.get_loc\u001b[0;34m(self, key, method, tolerance)\u001b[0m\n\u001b[1;32m   3628\u001b[0m \u001b[38;5;28;01mtry\u001b[39;00m:\n\u001b[0;32m-> 3629\u001b[0m     \u001b[38;5;28;01mreturn\u001b[39;00m \u001b[38;5;28;43mself\u001b[39;49m\u001b[38;5;241;43m.\u001b[39;49m\u001b[43m_engine\u001b[49m\u001b[38;5;241;43m.\u001b[39;49m\u001b[43mget_loc\u001b[49m\u001b[43m(\u001b[49m\u001b[43mcasted_key\u001b[49m\u001b[43m)\u001b[49m\n\u001b[1;32m   3630\u001b[0m \u001b[38;5;28;01mexcept\u001b[39;00m \u001b[38;5;167;01mKeyError\u001b[39;00m \u001b[38;5;28;01mas\u001b[39;00m err:\n",
      "File \u001b[0;32m/usr/local/lib/python3.8/dist-packages/pandas/_libs/index.pyx:136\u001b[0m, in \u001b[0;36mpandas._libs.index.IndexEngine.get_loc\u001b[0;34m()\u001b[0m\n",
      "File \u001b[0;32m/usr/local/lib/python3.8/dist-packages/pandas/_libs/index.pyx:163\u001b[0m, in \u001b[0;36mpandas._libs.index.IndexEngine.get_loc\u001b[0;34m()\u001b[0m\n",
      "File \u001b[0;32mpandas/_libs/hashtable_class_helper.pxi:2131\u001b[0m, in \u001b[0;36mpandas._libs.hashtable.Int64HashTable.get_item\u001b[0;34m()\u001b[0m\n",
      "File \u001b[0;32mpandas/_libs/hashtable_class_helper.pxi:2140\u001b[0m, in \u001b[0;36mpandas._libs.hashtable.Int64HashTable.get_item\u001b[0;34m()\u001b[0m\n",
      "\u001b[0;31mKeyError\u001b[0m: 0",
      "\nThe above exception was the direct cause of the following exception:\n",
      "\u001b[0;31mKeyError\u001b[0m                                  Traceback (most recent call last)",
      "Input \u001b[0;32mIn [59]\u001b[0m, in \u001b[0;36m<cell line: 1>\u001b[0;34m()\u001b[0m\n\u001b[0;32m----> 1\u001b[0m \u001b[43mdf_dmso\u001b[49m\u001b[43m[\u001b[49m\u001b[38;5;124;43m\"\u001b[39;49m\u001b[38;5;124;43mC1\u001b[39;49m\u001b[38;5;124;43m\"\u001b[39;49m\u001b[43m]\u001b[49m\u001b[43m[\u001b[49m\u001b[38;5;241;43m0\u001b[39;49m\u001b[43m]\u001b[49m\n",
      "File \u001b[0;32m/usr/local/lib/python3.8/dist-packages/pandas/core/series.py:958\u001b[0m, in \u001b[0;36mSeries.__getitem__\u001b[0;34m(self, key)\u001b[0m\n\u001b[1;32m    955\u001b[0m     \u001b[38;5;28;01mreturn\u001b[39;00m \u001b[38;5;28mself\u001b[39m\u001b[38;5;241m.\u001b[39m_values[key]\n\u001b[1;32m    957\u001b[0m \u001b[38;5;28;01melif\u001b[39;00m key_is_scalar:\n\u001b[0;32m--> 958\u001b[0m     \u001b[38;5;28;01mreturn\u001b[39;00m \u001b[38;5;28;43mself\u001b[39;49m\u001b[38;5;241;43m.\u001b[39;49m\u001b[43m_get_value\u001b[49m\u001b[43m(\u001b[49m\u001b[43mkey\u001b[49m\u001b[43m)\u001b[49m\n\u001b[1;32m    960\u001b[0m \u001b[38;5;28;01mif\u001b[39;00m is_hashable(key):\n\u001b[1;32m    961\u001b[0m     \u001b[38;5;66;03m# Otherwise index.get_value will raise InvalidIndexError\u001b[39;00m\n\u001b[1;32m    962\u001b[0m     \u001b[38;5;28;01mtry\u001b[39;00m:\n\u001b[1;32m    963\u001b[0m         \u001b[38;5;66;03m# For labels that don't resolve as scalars like tuples and frozensets\u001b[39;00m\n",
      "File \u001b[0;32m/usr/local/lib/python3.8/dist-packages/pandas/core/series.py:1069\u001b[0m, in \u001b[0;36mSeries._get_value\u001b[0;34m(self, label, takeable)\u001b[0m\n\u001b[1;32m   1066\u001b[0m     \u001b[38;5;28;01mreturn\u001b[39;00m \u001b[38;5;28mself\u001b[39m\u001b[38;5;241m.\u001b[39m_values[label]\n\u001b[1;32m   1068\u001b[0m \u001b[38;5;66;03m# Similar to Index.get_value, but we do not fall back to positional\u001b[39;00m\n\u001b[0;32m-> 1069\u001b[0m loc \u001b[38;5;241m=\u001b[39m \u001b[38;5;28;43mself\u001b[39;49m\u001b[38;5;241;43m.\u001b[39;49m\u001b[43mindex\u001b[49m\u001b[38;5;241;43m.\u001b[39;49m\u001b[43mget_loc\u001b[49m\u001b[43m(\u001b[49m\u001b[43mlabel\u001b[49m\u001b[43m)\u001b[49m\n\u001b[1;32m   1070\u001b[0m \u001b[38;5;28;01mreturn\u001b[39;00m \u001b[38;5;28mself\u001b[39m\u001b[38;5;241m.\u001b[39mindex\u001b[38;5;241m.\u001b[39m_get_values_for_loc(\u001b[38;5;28mself\u001b[39m, loc, label)\n",
      "File \u001b[0;32m/usr/local/lib/python3.8/dist-packages/pandas/core/indexes/base.py:3631\u001b[0m, in \u001b[0;36mIndex.get_loc\u001b[0;34m(self, key, method, tolerance)\u001b[0m\n\u001b[1;32m   3629\u001b[0m     \u001b[38;5;28;01mreturn\u001b[39;00m \u001b[38;5;28mself\u001b[39m\u001b[38;5;241m.\u001b[39m_engine\u001b[38;5;241m.\u001b[39mget_loc(casted_key)\n\u001b[1;32m   3630\u001b[0m \u001b[38;5;28;01mexcept\u001b[39;00m \u001b[38;5;167;01mKeyError\u001b[39;00m \u001b[38;5;28;01mas\u001b[39;00m err:\n\u001b[0;32m-> 3631\u001b[0m     \u001b[38;5;28;01mraise\u001b[39;00m \u001b[38;5;167;01mKeyError\u001b[39;00m(key) \u001b[38;5;28;01mfrom\u001b[39;00m \u001b[38;5;21;01merr\u001b[39;00m\n\u001b[1;32m   3632\u001b[0m \u001b[38;5;28;01mexcept\u001b[39;00m \u001b[38;5;167;01mTypeError\u001b[39;00m:\n\u001b[1;32m   3633\u001b[0m     \u001b[38;5;66;03m# If we have a listlike key, _check_indexing_error will raise\u001b[39;00m\n\u001b[1;32m   3634\u001b[0m     \u001b[38;5;66;03m#  InvalidIndexError. Otherwise we fall through and re-raise\u001b[39;00m\n\u001b[1;32m   3635\u001b[0m     \u001b[38;5;66;03m#  the TypeError.\u001b[39;00m\n\u001b[1;32m   3636\u001b[0m     \u001b[38;5;28mself\u001b[39m\u001b[38;5;241m.\u001b[39m_check_indexing_error(key)\n",
      "\u001b[0;31mKeyError\u001b[0m: 0"
     ]
    }
   ],
   "source": [
    "df_dmso[\"C1\"][0]"
   ]
  },
  {
   "cell_type": "code",
   "execution_count": 43,
   "id": "9482fe61-0ee2-44fc-b209-1516f090a651",
   "metadata": {},
   "outputs": [
    {
     "data": {
      "text/plain": [
       "True    4896\n",
       "Name: C1, dtype: int64"
      ]
     },
     "execution_count": 43,
     "metadata": {},
     "output_type": "execute_result"
    }
   ],
   "source": [
    "df_dmso.C1.str.contains(\"/share\").value_counts()\n"
   ]
  },
  {
   "cell_type": "code",
   "execution_count": 44,
   "id": "dd344bca-94e6-4dc0-aa9e-24845c51dd83",
   "metadata": {},
   "outputs": [
    {
     "data": {
      "text/plain": [
       "True    4896\n",
       "Name: C2, dtype: int64"
      ]
     },
     "execution_count": 44,
     "metadata": {},
     "output_type": "execute_result"
    }
   ],
   "source": [
    "df_dmso.C2.str.contains(\"/share\").value_counts()\n"
   ]
  },
  {
   "cell_type": "code",
   "execution_count": 45,
   "id": "ee6dfb55-bf82-49b2-8dd0-d5ba09f27fac",
   "metadata": {},
   "outputs": [
    {
     "data": {
      "text/plain": [
       "True    4896\n",
       "Name: C3, dtype: int64"
      ]
     },
     "execution_count": 45,
     "metadata": {},
     "output_type": "execute_result"
    }
   ],
   "source": [
    "df_dmso.C3.str.contains(\"/share\").value_counts()\n"
   ]
  },
  {
   "cell_type": "code",
   "execution_count": 46,
   "id": "6cd0cd8a-dfcc-4403-9b28-f44ed1422514",
   "metadata": {},
   "outputs": [
    {
     "data": {
      "text/plain": [
       "True    4896\n",
       "Name: C4, dtype: int64"
      ]
     },
     "execution_count": 46,
     "metadata": {},
     "output_type": "execute_result"
    }
   ],
   "source": [
    "df_dmso.C4.str.contains(\"/share\").value_counts()\n"
   ]
  },
  {
   "cell_type": "code",
   "execution_count": 47,
   "id": "ad5101ba-ca87-4f96-b583-c0d38e3a4da9",
   "metadata": {},
   "outputs": [
    {
     "data": {
      "text/plain": [
       "True    4896\n",
       "Name: C5, dtype: int64"
      ]
     },
     "execution_count": 47,
     "metadata": {},
     "output_type": "execute_result"
    }
   ],
   "source": [
    "df_dmso.C5.str.contains(\"/share\").value_counts()\n"
   ]
  },
  {
   "cell_type": "code",
   "execution_count": 21,
   "id": "5c224872-7848-4124-98fb-cd00674f6b6b",
   "metadata": {},
   "outputs": [],
   "source": [
    "test= [df_dmso.plate.unique()[0]]"
   ]
  },
  {
   "cell_type": "code",
   "execution_count": 22,
   "id": "8dc4023c-36aa-4018-ac47-1981709cdada",
   "metadata": {},
   "outputs": [
    {
     "data": {
      "text/plain": [
       "['P015076']"
      ]
     },
     "execution_count": 22,
     "metadata": {},
     "output_type": "execute_result"
    }
   ],
   "source": [
    "test"
   ]
  },
  {
   "cell_type": "code",
   "execution_count": 23,
   "id": "38c656b0-9985-4b78-9094-ec50d67351aa",
   "metadata": {},
   "outputs": [
    {
     "name": "stderr",
     "output_type": "stream",
     "text": [
      "  0%|          | 0/1 [00:00<?, ?it/s]"
     ]
    },
    {
     "name": "stdout",
     "output_type": "stream",
     "text": [
      "P015076\n"
     ]
    },
    {
     "name": "stderr",
     "output_type": "stream",
     "text": [
      "\n",
      "  0%|          | 0/5 [00:00<?, ?it/s]\u001b[A\n",
      " 20%|██        | 1/5 [00:09<00:37,  9.47s/it]\u001b[A\n",
      " 40%|████      | 2/5 [00:24<00:37, 12.67s/it]\u001b[A\n",
      " 60%|██████    | 3/5 [00:46<00:34, 17.19s/it]\u001b[A\n",
      " 80%|████████  | 4/5 [01:06<00:18, 18.22s/it]\u001b[A\n",
      "100%|██████████| 5/5 [01:26<00:00, 17.22s/it]\u001b[A\n",
      "100%|██████████| 1/1 [01:26<00:00, 86.11s/it]\n"
     ]
    }
   ],
   "source": [
    "dmso_stats = {}\n",
    "\n",
    "for plate in tqdm.tqdm(test):\n",
    "    print(plate)\n",
    "    dmso_stats[plate] = {}\n",
    "    rows = df_dmso[df_dmso.plate == plate]\n",
    "    for c in tqdm.tqdm(['C1','C2','C3','C4','C5']):\n",
    "        im = []\n",
    "        \n",
    "        for i in range(len(rows)):\n",
    "            path = rows[c].iloc[i]\n",
    "            im.append(cv2.imread(path, -1))\n",
    "        \n",
    "        dmso_stats[plate][c] = {'m': np.mean(im), 'std':np.std(im)}"
   ]
  },
  {
   "cell_type": "code",
   "execution_count": 24,
   "id": "fd8f5cc4-6b1b-40b9-ae60-71429fdc9584",
   "metadata": {},
   "outputs": [
    {
     "data": {
      "text/plain": [
       "{'P015076': {'C1': {'m': 298.56553513638613, 'std': 280.17719870419074},\n",
       "  'C2': {'m': 1182.599314422301, 'std': 1628.216043824049},\n",
       "  'C3': {'m': 1740.3659357495999, 'std': 846.2971853421564},\n",
       "  'C4': {'m': 1364.0816585652478, 'std': 1029.1825133612128},\n",
       "  'C5': {'m': 682.3957518471755, 'std': 704.7482234564715}}}"
      ]
     },
     "execution_count": 24,
     "metadata": {},
     "output_type": "execute_result"
    }
   ],
   "source": [
    "dmso_stats"
   ]
  },
  {
   "cell_type": "code",
   "execution_count": 25,
   "id": "d51149f5-6119-4a19-9e11-08cf9f7118b7",
   "metadata": {},
   "outputs": [],
   "source": [
    "reform = {(outerKey, innerKey): values for outerKey, innerDict in dmso_stats.items() for innerKey, values in innerDict.items()}"
   ]
  },
  {
   "cell_type": "code",
   "execution_count": 26,
   "id": "1067ddd1-24f3-46cc-abd0-470f2a5f5b19",
   "metadata": {},
   "outputs": [],
   "source": [
    "df_test = pd.DataFrame(reform)"
   ]
  },
  {
   "cell_type": "code",
   "execution_count": 27,
   "id": "1e8babba-dcb8-4a78-8987-7da9324d2b2d",
   "metadata": {},
   "outputs": [
    {
     "data": {
      "text/html": [
       "<div>\n",
       "<style scoped>\n",
       "    .dataframe tbody tr th:only-of-type {\n",
       "        vertical-align: middle;\n",
       "    }\n",
       "\n",
       "    .dataframe tbody tr th {\n",
       "        vertical-align: top;\n",
       "    }\n",
       "\n",
       "    .dataframe thead tr th {\n",
       "        text-align: left;\n",
       "    }\n",
       "</style>\n",
       "<table border=\"1\" class=\"dataframe\">\n",
       "  <thead>\n",
       "    <tr>\n",
       "      <th></th>\n",
       "      <th colspan=\"5\" halign=\"left\">P015076</th>\n",
       "    </tr>\n",
       "    <tr>\n",
       "      <th></th>\n",
       "      <th>C1</th>\n",
       "      <th>C2</th>\n",
       "      <th>C3</th>\n",
       "      <th>C4</th>\n",
       "      <th>C5</th>\n",
       "    </tr>\n",
       "  </thead>\n",
       "  <tbody>\n",
       "    <tr>\n",
       "      <th>m</th>\n",
       "      <td>298.565535</td>\n",
       "      <td>1182.599314</td>\n",
       "      <td>1740.365936</td>\n",
       "      <td>1364.081659</td>\n",
       "      <td>682.395752</td>\n",
       "    </tr>\n",
       "    <tr>\n",
       "      <th>std</th>\n",
       "      <td>280.177199</td>\n",
       "      <td>1628.216044</td>\n",
       "      <td>846.297185</td>\n",
       "      <td>1029.182513</td>\n",
       "      <td>704.748223</td>\n",
       "    </tr>\n",
       "  </tbody>\n",
       "</table>\n",
       "</div>"
      ],
      "text/plain": [
       "        P015076                                                   \n",
       "             C1           C2           C3           C4          C5\n",
       "m    298.565535  1182.599314  1740.365936  1364.081659  682.395752\n",
       "std  280.177199  1628.216044   846.297185  1029.182513  704.748223"
      ]
     },
     "execution_count": 27,
     "metadata": {},
     "output_type": "execute_result"
    }
   ],
   "source": [
    "df_test.head()"
   ]
  },
  {
   "cell_type": "code",
   "execution_count": 28,
   "id": "7cd8667c-1f6d-4c3c-b8a0-e4e60ce3ad9a",
   "metadata": {},
   "outputs": [
    {
     "data": {
      "text/plain": [
       "MultiIndex([('P015076', 'C1'),\n",
       "            ('P015076', 'C2'),\n",
       "            ('P015076', 'C3'),\n",
       "            ('P015076', 'C4'),\n",
       "            ('P015076', 'C5')],\n",
       "           )"
      ]
     },
     "execution_count": 28,
     "metadata": {},
     "output_type": "execute_result"
    }
   ],
   "source": [
    "df_test.columns\n"
   ]
  },
  {
   "cell_type": "code",
   "execution_count": 29,
   "id": "b28e8117-e46f-408f-b479-dbfc56c20682",
   "metadata": {},
   "outputs": [
    {
     "data": {
      "text/plain": [
       "298.56553513638613"
      ]
     },
     "execution_count": 29,
     "metadata": {},
     "output_type": "execute_result"
    }
   ],
   "source": [
    "df_test['P015076']['C1']['m']"
   ]
  },
  {
   "cell_type": "code",
   "execution_count": 30,
   "id": "967005f7-db99-4b75-b47c-b09865b346f8",
   "metadata": {},
   "outputs": [],
   "source": [
    "df_test.to_csv('/home/jovyan/Tomics-CP-Chem-MoA/data_for_models/paths_to_channels_creation/dmso_stats_v1v2.csv')"
   ]
  },
  {
   "cell_type": "code",
   "execution_count": 31,
   "id": "6384aaa0-5b09-41f7-97f4-3876fd07c1bf",
   "metadata": {},
   "outputs": [
    {
     "data": {
      "text/html": [
       "<div>\n",
       "<style scoped>\n",
       "    .dataframe tbody tr th:only-of-type {\n",
       "        vertical-align: middle;\n",
       "    }\n",
       "\n",
       "    .dataframe tbody tr th {\n",
       "        vertical-align: top;\n",
       "    }\n",
       "\n",
       "    .dataframe thead th {\n",
       "        text-align: right;\n",
       "    }\n",
       "</style>\n",
       "<table border=\"1\" class=\"dataframe\">\n",
       "  <thead>\n",
       "    <tr style=\"text-align: right;\">\n",
       "      <th></th>\n",
       "      <th>Unnamed: 0</th>\n",
       "      <th>plate</th>\n",
       "      <th>well</th>\n",
       "      <th>neg_control_type</th>\n",
       "      <th>C1</th>\n",
       "      <th>C2</th>\n",
       "      <th>C3</th>\n",
       "      <th>C4</th>\n",
       "      <th>C5</th>\n",
       "    </tr>\n",
       "  </thead>\n",
       "  <tbody>\n",
       "    <tr>\n",
       "      <th>0</th>\n",
       "      <td>0</td>\n",
       "      <td>P015076</td>\n",
       "      <td>B23</td>\n",
       "      <td>[dmso]</td>\n",
       "      <td>/share/mikro/IMX/MDC_pharmbio/specs935-v1/spec...</td>\n",
       "      <td>/share/mikro/IMX/MDC_pharmbio/specs935-v1/spec...</td>\n",
       "      <td>/share/mikro/IMX/MDC_pharmbio/specs935-v1/spec...</td>\n",
       "      <td>/share/mikro/IMX/MDC_pharmbio/specs935-v1/spec...</td>\n",
       "      <td>/share/mikro/IMX/MDC_pharmbio/specs935-v1/spec...</td>\n",
       "    </tr>\n",
       "    <tr>\n",
       "      <th>1</th>\n",
       "      <td>1</td>\n",
       "      <td>P015076</td>\n",
       "      <td>B23</td>\n",
       "      <td>[dmso]</td>\n",
       "      <td>/share/mikro/IMX/MDC_pharmbio/specs935-v1/spec...</td>\n",
       "      <td>/share/mikro/IMX/MDC_pharmbio/specs935-v1/spec...</td>\n",
       "      <td>/share/mikro/IMX/MDC_pharmbio/specs935-v1/spec...</td>\n",
       "      <td>/share/mikro/IMX/MDC_pharmbio/specs935-v1/spec...</td>\n",
       "      <td>/share/mikro/IMX/MDC_pharmbio/specs935-v1/spec...</td>\n",
       "    </tr>\n",
       "    <tr>\n",
       "      <th>2</th>\n",
       "      <td>2</td>\n",
       "      <td>P015076</td>\n",
       "      <td>B23</td>\n",
       "      <td>[dmso]</td>\n",
       "      <td>/share/mikro/IMX/MDC_pharmbio/specs935-v1/spec...</td>\n",
       "      <td>/share/mikro/IMX/MDC_pharmbio/specs935-v1/spec...</td>\n",
       "      <td>/share/mikro/IMX/MDC_pharmbio/specs935-v1/spec...</td>\n",
       "      <td>/share/mikro/IMX/MDC_pharmbio/specs935-v1/spec...</td>\n",
       "      <td>/share/mikro/IMX/MDC_pharmbio/specs935-v1/spec...</td>\n",
       "    </tr>\n",
       "    <tr>\n",
       "      <th>3</th>\n",
       "      <td>3</td>\n",
       "      <td>P015076</td>\n",
       "      <td>B23</td>\n",
       "      <td>[dmso]</td>\n",
       "      <td>/share/mikro/IMX/MDC_pharmbio/specs935-v1/spec...</td>\n",
       "      <td>/share/mikro/IMX/MDC_pharmbio/specs935-v1/spec...</td>\n",
       "      <td>/share/mikro/IMX/MDC_pharmbio/specs935-v1/spec...</td>\n",
       "      <td>/share/mikro/IMX/MDC_pharmbio/specs935-v1/spec...</td>\n",
       "      <td>/share/mikro/IMX/MDC_pharmbio/specs935-v1/spec...</td>\n",
       "    </tr>\n",
       "    <tr>\n",
       "      <th>4</th>\n",
       "      <td>4</td>\n",
       "      <td>P015076</td>\n",
       "      <td>B23</td>\n",
       "      <td>[dmso]</td>\n",
       "      <td>/share/mikro/IMX/MDC_pharmbio/specs935-v1/spec...</td>\n",
       "      <td>/share/mikro/IMX/MDC_pharmbio/specs935-v1/spec...</td>\n",
       "      <td>/share/mikro/IMX/MDC_pharmbio/specs935-v1/spec...</td>\n",
       "      <td>/share/mikro/IMX/MDC_pharmbio/specs935-v1/spec...</td>\n",
       "      <td>/share/mikro/IMX/MDC_pharmbio/specs935-v1/spec...</td>\n",
       "    </tr>\n",
       "    <tr>\n",
       "      <th>...</th>\n",
       "      <td>...</td>\n",
       "      <td>...</td>\n",
       "      <td>...</td>\n",
       "      <td>...</td>\n",
       "      <td>...</td>\n",
       "      <td>...</td>\n",
       "      <td>...</td>\n",
       "      <td>...</td>\n",
       "      <td>...</td>\n",
       "    </tr>\n",
       "    <tr>\n",
       "      <th>21595</th>\n",
       "      <td>15547</td>\n",
       "      <td>P101033</td>\n",
       "      <td>O23</td>\n",
       "      <td>[dmso]</td>\n",
       "      <td>/share/data/external-datasets/compoundcenter/s...</td>\n",
       "      <td>/share/data/external-datasets/compoundcenter/s...</td>\n",
       "      <td>/share/data/external-datasets/compoundcenter/s...</td>\n",
       "      <td>/share/data/external-datasets/compoundcenter/s...</td>\n",
       "      <td>/share/data/external-datasets/compoundcenter/s...</td>\n",
       "    </tr>\n",
       "    <tr>\n",
       "      <th>21596</th>\n",
       "      <td>15548</td>\n",
       "      <td>P101033</td>\n",
       "      <td>O23</td>\n",
       "      <td>[dmso]</td>\n",
       "      <td>/share/data/external-datasets/compoundcenter/s...</td>\n",
       "      <td>/share/data/external-datasets/compoundcenter/s...</td>\n",
       "      <td>/share/data/external-datasets/compoundcenter/s...</td>\n",
       "      <td>/share/data/external-datasets/compoundcenter/s...</td>\n",
       "      <td>/share/data/external-datasets/compoundcenter/s...</td>\n",
       "    </tr>\n",
       "    <tr>\n",
       "      <th>21597</th>\n",
       "      <td>15549</td>\n",
       "      <td>P101033</td>\n",
       "      <td>O23</td>\n",
       "      <td>[dmso]</td>\n",
       "      <td>/share/data/external-datasets/compoundcenter/s...</td>\n",
       "      <td>/share/data/external-datasets/compoundcenter/s...</td>\n",
       "      <td>/share/data/external-datasets/compoundcenter/s...</td>\n",
       "      <td>/share/data/external-datasets/compoundcenter/s...</td>\n",
       "      <td>/share/data/external-datasets/compoundcenter/s...</td>\n",
       "    </tr>\n",
       "    <tr>\n",
       "      <th>21598</th>\n",
       "      <td>15550</td>\n",
       "      <td>P101033</td>\n",
       "      <td>O23</td>\n",
       "      <td>[dmso]</td>\n",
       "      <td>/share/data/external-datasets/compoundcenter/s...</td>\n",
       "      <td>/share/data/external-datasets/compoundcenter/s...</td>\n",
       "      <td>/share/data/external-datasets/compoundcenter/s...</td>\n",
       "      <td>/share/data/external-datasets/compoundcenter/s...</td>\n",
       "      <td>/share/data/external-datasets/compoundcenter/s...</td>\n",
       "    </tr>\n",
       "    <tr>\n",
       "      <th>21599</th>\n",
       "      <td>15551</td>\n",
       "      <td>P101033</td>\n",
       "      <td>O23</td>\n",
       "      <td>[dmso]</td>\n",
       "      <td>/share/data/external-datasets/compoundcenter/s...</td>\n",
       "      <td>/share/data/external-datasets/compoundcenter/s...</td>\n",
       "      <td>/share/data/external-datasets/compoundcenter/s...</td>\n",
       "      <td>/share/data/external-datasets/compoundcenter/s...</td>\n",
       "      <td>/share/data/external-datasets/compoundcenter/s...</td>\n",
       "    </tr>\n",
       "  </tbody>\n",
       "</table>\n",
       "<p>18900 rows × 9 columns</p>\n",
       "</div>"
      ],
      "text/plain": [
       "       Unnamed: 0    plate well neg_control_type  \\\n",
       "0               0  P015076  B23           [dmso]   \n",
       "1               1  P015076  B23           [dmso]   \n",
       "2               2  P015076  B23           [dmso]   \n",
       "3               3  P015076  B23           [dmso]   \n",
       "4               4  P015076  B23           [dmso]   \n",
       "...           ...      ...  ...              ...   \n",
       "21595       15547  P101033  O23           [dmso]   \n",
       "21596       15548  P101033  O23           [dmso]   \n",
       "21597       15549  P101033  O23           [dmso]   \n",
       "21598       15550  P101033  O23           [dmso]   \n",
       "21599       15551  P101033  O23           [dmso]   \n",
       "\n",
       "                                                      C1  \\\n",
       "0      /share/mikro/IMX/MDC_pharmbio/specs935-v1/spec...   \n",
       "1      /share/mikro/IMX/MDC_pharmbio/specs935-v1/spec...   \n",
       "2      /share/mikro/IMX/MDC_pharmbio/specs935-v1/spec...   \n",
       "3      /share/mikro/IMX/MDC_pharmbio/specs935-v1/spec...   \n",
       "4      /share/mikro/IMX/MDC_pharmbio/specs935-v1/spec...   \n",
       "...                                                  ...   \n",
       "21595  /share/data/external-datasets/compoundcenter/s...   \n",
       "21596  /share/data/external-datasets/compoundcenter/s...   \n",
       "21597  /share/data/external-datasets/compoundcenter/s...   \n",
       "21598  /share/data/external-datasets/compoundcenter/s...   \n",
       "21599  /share/data/external-datasets/compoundcenter/s...   \n",
       "\n",
       "                                                      C2  \\\n",
       "0      /share/mikro/IMX/MDC_pharmbio/specs935-v1/spec...   \n",
       "1      /share/mikro/IMX/MDC_pharmbio/specs935-v1/spec...   \n",
       "2      /share/mikro/IMX/MDC_pharmbio/specs935-v1/spec...   \n",
       "3      /share/mikro/IMX/MDC_pharmbio/specs935-v1/spec...   \n",
       "4      /share/mikro/IMX/MDC_pharmbio/specs935-v1/spec...   \n",
       "...                                                  ...   \n",
       "21595  /share/data/external-datasets/compoundcenter/s...   \n",
       "21596  /share/data/external-datasets/compoundcenter/s...   \n",
       "21597  /share/data/external-datasets/compoundcenter/s...   \n",
       "21598  /share/data/external-datasets/compoundcenter/s...   \n",
       "21599  /share/data/external-datasets/compoundcenter/s...   \n",
       "\n",
       "                                                      C3  \\\n",
       "0      /share/mikro/IMX/MDC_pharmbio/specs935-v1/spec...   \n",
       "1      /share/mikro/IMX/MDC_pharmbio/specs935-v1/spec...   \n",
       "2      /share/mikro/IMX/MDC_pharmbio/specs935-v1/spec...   \n",
       "3      /share/mikro/IMX/MDC_pharmbio/specs935-v1/spec...   \n",
       "4      /share/mikro/IMX/MDC_pharmbio/specs935-v1/spec...   \n",
       "...                                                  ...   \n",
       "21595  /share/data/external-datasets/compoundcenter/s...   \n",
       "21596  /share/data/external-datasets/compoundcenter/s...   \n",
       "21597  /share/data/external-datasets/compoundcenter/s...   \n",
       "21598  /share/data/external-datasets/compoundcenter/s...   \n",
       "21599  /share/data/external-datasets/compoundcenter/s...   \n",
       "\n",
       "                                                      C4  \\\n",
       "0      /share/mikro/IMX/MDC_pharmbio/specs935-v1/spec...   \n",
       "1      /share/mikro/IMX/MDC_pharmbio/specs935-v1/spec...   \n",
       "2      /share/mikro/IMX/MDC_pharmbio/specs935-v1/spec...   \n",
       "3      /share/mikro/IMX/MDC_pharmbio/specs935-v1/spec...   \n",
       "4      /share/mikro/IMX/MDC_pharmbio/specs935-v1/spec...   \n",
       "...                                                  ...   \n",
       "21595  /share/data/external-datasets/compoundcenter/s...   \n",
       "21596  /share/data/external-datasets/compoundcenter/s...   \n",
       "21597  /share/data/external-datasets/compoundcenter/s...   \n",
       "21598  /share/data/external-datasets/compoundcenter/s...   \n",
       "21599  /share/data/external-datasets/compoundcenter/s...   \n",
       "\n",
       "                                                      C5  \n",
       "0      /share/mikro/IMX/MDC_pharmbio/specs935-v1/spec...  \n",
       "1      /share/mikro/IMX/MDC_pharmbio/specs935-v1/spec...  \n",
       "2      /share/mikro/IMX/MDC_pharmbio/specs935-v1/spec...  \n",
       "3      /share/mikro/IMX/MDC_pharmbio/specs935-v1/spec...  \n",
       "4      /share/mikro/IMX/MDC_pharmbio/specs935-v1/spec...  \n",
       "...                                                  ...  \n",
       "21595  /share/data/external-datasets/compoundcenter/s...  \n",
       "21596  /share/data/external-datasets/compoundcenter/s...  \n",
       "21597  /share/data/external-datasets/compoundcenter/s...  \n",
       "21598  /share/data/external-datasets/compoundcenter/s...  \n",
       "21599  /share/data/external-datasets/compoundcenter/s...  \n",
       "\n",
       "[18900 rows x 9 columns]"
      ]
     },
     "execution_count": 31,
     "metadata": {},
     "output_type": "execute_result"
    }
   ],
   "source": [
    "df_dmso"
   ]
  },
  {
   "cell_type": "code",
   "execution_count": 33,
   "id": "b199e8c3-ec6e-4970-b3eb-134db29e52dc",
   "metadata": {},
   "outputs": [
    {
     "data": {
      "text/plain": [
       "False"
      ]
     },
     "execution_count": 33,
     "metadata": {},
     "output_type": "execute_result"
    }
   ],
   "source": [
    "df_dmso.isnull().values.any()"
   ]
  },
  {
   "cell_type": "code",
   "execution_count": null,
   "id": "4028c731-fd38-4972-89b5-523802f8bcf7",
   "metadata": {},
   "outputs": [],
   "source": []
  }
 ],
 "metadata": {
  "kernelspec": {
   "display_name": "Python 3",
   "language": "python",
   "name": "python3"
  },
  "language_info": {
   "codemirror_mode": {
    "name": "ipython",
    "version": 3
   },
   "file_extension": ".py",
   "mimetype": "text/x-python",
   "name": "python",
   "nbconvert_exporter": "python",
   "pygments_lexer": "ipython3",
   "version": "3.8.10"
  }
 },
 "nbformat": 4,
 "nbformat_minor": 5
}

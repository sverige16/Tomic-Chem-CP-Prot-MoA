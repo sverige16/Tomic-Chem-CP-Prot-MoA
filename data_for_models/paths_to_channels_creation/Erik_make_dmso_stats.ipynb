{
 "cells": [
  {
   "cell_type": "code",
   "execution_count": 1,
   "id": "33d71e03-96ce-496c-bb69-bb46215e605a",
   "metadata": {},
   "outputs": [],
   "source": [
    "import pandas as pd\n",
    "import numpy as np\n",
    "import cv2\n",
    "import matplotlib.pyplot as plt\n",
    "#from functions import *\n",
    "import tqdm"
   ]
  },
  {
   "cell_type": "code",
   "execution_count": 2,
   "id": "f5dfb611-b082-48be-9350-4aad4c7179dd",
   "metadata": {},
   "outputs": [],
   "source": [
    "dmso_csv_path = '/home/jovyan/Tomics-CP-Chem-MoA/data_for_models/paths_to_channels_creation/paths_dmso_v1v2.csv'"
   ]
  },
  {
   "cell_type": "code",
   "execution_count": 3,
   "id": "c7e1a1d8-a3ac-4a67-a1d8-2acef18d3b04",
   "metadata": {},
   "outputs": [],
   "source": [
    "df_dmso = pd.read_csv(dmso_csv_path)"
   ]
  },
  {
   "cell_type": "code",
   "execution_count": 4,
   "id": "08410895-0016-4ddb-af0b-650c88197bbe",
   "metadata": {},
   "outputs": [
    {
     "data": {
      "text/html": [
       "<div>\n",
       "<style scoped>\n",
       "    .dataframe tbody tr th:only-of-type {\n",
       "        vertical-align: middle;\n",
       "    }\n",
       "\n",
       "    .dataframe tbody tr th {\n",
       "        vertical-align: top;\n",
       "    }\n",
       "\n",
       "    .dataframe thead th {\n",
       "        text-align: right;\n",
       "    }\n",
       "</style>\n",
       "<table border=\"1\" class=\"dataframe\">\n",
       "  <thead>\n",
       "    <tr style=\"text-align: right;\">\n",
       "      <th></th>\n",
       "      <th>Unnamed: 0</th>\n",
       "      <th>plate</th>\n",
       "      <th>well</th>\n",
       "      <th>neg_control_type</th>\n",
       "      <th>C1</th>\n",
       "      <th>C2</th>\n",
       "      <th>C3</th>\n",
       "      <th>C4</th>\n",
       "      <th>C5</th>\n",
       "    </tr>\n",
       "  </thead>\n",
       "  <tbody>\n",
       "    <tr>\n",
       "      <th>0</th>\n",
       "      <td>0</td>\n",
       "      <td>P015076</td>\n",
       "      <td>B23</td>\n",
       "      <td>[dmso]</td>\n",
       "      <td>/share/mikro/IMX/MDC_pharmbio/specs935-v1/spec...</td>\n",
       "      <td>/share/mikro/IMX/MDC_pharmbio/specs935-v1/spec...</td>\n",
       "      <td>/share/mikro/IMX/MDC_pharmbio/specs935-v1/spec...</td>\n",
       "      <td>/share/mikro/IMX/MDC_pharmbio/specs935-v1/spec...</td>\n",
       "      <td>/share/mikro/IMX/MDC_pharmbio/specs935-v1/spec...</td>\n",
       "    </tr>\n",
       "    <tr>\n",
       "      <th>1</th>\n",
       "      <td>1</td>\n",
       "      <td>P015076</td>\n",
       "      <td>B23</td>\n",
       "      <td>[dmso]</td>\n",
       "      <td>/share/mikro/IMX/MDC_pharmbio/specs935-v1/spec...</td>\n",
       "      <td>/share/mikro/IMX/MDC_pharmbio/specs935-v1/spec...</td>\n",
       "      <td>/share/mikro/IMX/MDC_pharmbio/specs935-v1/spec...</td>\n",
       "      <td>/share/mikro/IMX/MDC_pharmbio/specs935-v1/spec...</td>\n",
       "      <td>/share/mikro/IMX/MDC_pharmbio/specs935-v1/spec...</td>\n",
       "    </tr>\n",
       "    <tr>\n",
       "      <th>2</th>\n",
       "      <td>2</td>\n",
       "      <td>P015076</td>\n",
       "      <td>B23</td>\n",
       "      <td>[dmso]</td>\n",
       "      <td>/share/mikro/IMX/MDC_pharmbio/specs935-v1/spec...</td>\n",
       "      <td>/share/mikro/IMX/MDC_pharmbio/specs935-v1/spec...</td>\n",
       "      <td>/share/mikro/IMX/MDC_pharmbio/specs935-v1/spec...</td>\n",
       "      <td>/share/mikro/IMX/MDC_pharmbio/specs935-v1/spec...</td>\n",
       "      <td>/share/mikro/IMX/MDC_pharmbio/specs935-v1/spec...</td>\n",
       "    </tr>\n",
       "    <tr>\n",
       "      <th>3</th>\n",
       "      <td>3</td>\n",
       "      <td>P015076</td>\n",
       "      <td>B23</td>\n",
       "      <td>[dmso]</td>\n",
       "      <td>/share/mikro/IMX/MDC_pharmbio/specs935-v1/spec...</td>\n",
       "      <td>/share/mikro/IMX/MDC_pharmbio/specs935-v1/spec...</td>\n",
       "      <td>/share/mikro/IMX/MDC_pharmbio/specs935-v1/spec...</td>\n",
       "      <td>/share/mikro/IMX/MDC_pharmbio/specs935-v1/spec...</td>\n",
       "      <td>/share/mikro/IMX/MDC_pharmbio/specs935-v1/spec...</td>\n",
       "    </tr>\n",
       "    <tr>\n",
       "      <th>4</th>\n",
       "      <td>4</td>\n",
       "      <td>P015076</td>\n",
       "      <td>B23</td>\n",
       "      <td>[dmso]</td>\n",
       "      <td>/share/mikro/IMX/MDC_pharmbio/specs935-v1/spec...</td>\n",
       "      <td>/share/mikro/IMX/MDC_pharmbio/specs935-v1/spec...</td>\n",
       "      <td>/share/mikro/IMX/MDC_pharmbio/specs935-v1/spec...</td>\n",
       "      <td>/share/mikro/IMX/MDC_pharmbio/specs935-v1/spec...</td>\n",
       "      <td>/share/mikro/IMX/MDC_pharmbio/specs935-v1/spec...</td>\n",
       "    </tr>\n",
       "  </tbody>\n",
       "</table>\n",
       "</div>"
      ],
      "text/plain": [
       "   Unnamed: 0    plate well neg_control_type  \\\n",
       "0           0  P015076  B23           [dmso]   \n",
       "1           1  P015076  B23           [dmso]   \n",
       "2           2  P015076  B23           [dmso]   \n",
       "3           3  P015076  B23           [dmso]   \n",
       "4           4  P015076  B23           [dmso]   \n",
       "\n",
       "                                                  C1  \\\n",
       "0  /share/mikro/IMX/MDC_pharmbio/specs935-v1/spec...   \n",
       "1  /share/mikro/IMX/MDC_pharmbio/specs935-v1/spec...   \n",
       "2  /share/mikro/IMX/MDC_pharmbio/specs935-v1/spec...   \n",
       "3  /share/mikro/IMX/MDC_pharmbio/specs935-v1/spec...   \n",
       "4  /share/mikro/IMX/MDC_pharmbio/specs935-v1/spec...   \n",
       "\n",
       "                                                  C2  \\\n",
       "0  /share/mikro/IMX/MDC_pharmbio/specs935-v1/spec...   \n",
       "1  /share/mikro/IMX/MDC_pharmbio/specs935-v1/spec...   \n",
       "2  /share/mikro/IMX/MDC_pharmbio/specs935-v1/spec...   \n",
       "3  /share/mikro/IMX/MDC_pharmbio/specs935-v1/spec...   \n",
       "4  /share/mikro/IMX/MDC_pharmbio/specs935-v1/spec...   \n",
       "\n",
       "                                                  C3  \\\n",
       "0  /share/mikro/IMX/MDC_pharmbio/specs935-v1/spec...   \n",
       "1  /share/mikro/IMX/MDC_pharmbio/specs935-v1/spec...   \n",
       "2  /share/mikro/IMX/MDC_pharmbio/specs935-v1/spec...   \n",
       "3  /share/mikro/IMX/MDC_pharmbio/specs935-v1/spec...   \n",
       "4  /share/mikro/IMX/MDC_pharmbio/specs935-v1/spec...   \n",
       "\n",
       "                                                  C4  \\\n",
       "0  /share/mikro/IMX/MDC_pharmbio/specs935-v1/spec...   \n",
       "1  /share/mikro/IMX/MDC_pharmbio/specs935-v1/spec...   \n",
       "2  /share/mikro/IMX/MDC_pharmbio/specs935-v1/spec...   \n",
       "3  /share/mikro/IMX/MDC_pharmbio/specs935-v1/spec...   \n",
       "4  /share/mikro/IMX/MDC_pharmbio/specs935-v1/spec...   \n",
       "\n",
       "                                                  C5  \n",
       "0  /share/mikro/IMX/MDC_pharmbio/specs935-v1/spec...  \n",
       "1  /share/mikro/IMX/MDC_pharmbio/specs935-v1/spec...  \n",
       "2  /share/mikro/IMX/MDC_pharmbio/specs935-v1/spec...  \n",
       "3  /share/mikro/IMX/MDC_pharmbio/specs935-v1/spec...  \n",
       "4  /share/mikro/IMX/MDC_pharmbio/specs935-v1/spec...  "
      ]
     },
     "execution_count": 4,
     "metadata": {},
     "output_type": "execute_result"
    }
   ],
   "source": [
    "df_dmso.head()"
   ]
  },
  {
   "cell_type": "code",
   "execution_count": 5,
   "id": "97905ae4-1635-40a0-8ba8-830bca1d9333",
   "metadata": {},
   "outputs": [
    {
     "data": {
      "text/plain": [
       "array(['P015076', 'P015077', 'P015078', 'P015079', 'P015080', 'P015081',\n",
       "       'P015082', 'P015083', 'P015084', 'P015085', 'P015086', 'P015087',\n",
       "       'P015088', 'P015089', 'P015090', 'P015091', 'P015092', 'P015093',\n",
       "       'P015094', 'P015095', 'P015096', 'P015097', 'P015098', 'P015099',\n",
       "       'P100980', 'P100981', 'P100982', 'P100983', 'P100984', 'P100985',\n",
       "       'P100986', 'P100987', 'P100988', 'P100989', 'P100990', 'P100991',\n",
       "       'P101016', 'P101017', 'P101018', 'P101019', 'P101020', 'P101021',\n",
       "       'P101022', 'P101023', 'P101024', 'P101025', 'P101026', 'P101027',\n",
       "       'P101028', 'P101029', 'P101030', 'P101031', 'P101032', 'P101033'],\n",
       "      dtype=object)"
      ]
     },
     "execution_count": 5,
     "metadata": {},
     "output_type": "execute_result"
    }
   ],
   "source": [
    "df_dmso = df_dmso[df_dmso[\"neg_control_type\"] == '[dmso]']\n",
    "df_dmso.plate.unique()\n"
   ]
  },
  {
   "cell_type": "code",
   "execution_count": 33,
   "id": "5c224872-7848-4124-98fb-cd00674f6b6b",
   "metadata": {},
   "outputs": [],
   "source": [
    "test= df_dmso.plate.unique()[0:2]"
   ]
  },
  {
   "cell_type": "code",
   "execution_count": 34,
   "id": "8dc4023c-36aa-4018-ac47-1981709cdada",
   "metadata": {},
   "outputs": [
    {
     "data": {
      "text/plain": [
       "array(['P015076', 'P015077'], dtype=object)"
      ]
     },
     "execution_count": 34,
     "metadata": {},
     "output_type": "execute_result"
    }
   ],
   "source": [
    "test"
   ]
  },
  {
   "cell_type": "code",
   "execution_count": 35,
   "id": "38c656b0-9985-4b78-9094-ec50d67351aa",
   "metadata": {},
   "outputs": [
    {
     "name": "stderr",
     "output_type": "stream",
     "text": [
      "  0%|          | 0/2 [00:00<?, ?it/s]"
     ]
    },
    {
     "name": "stdout",
     "output_type": "stream",
     "text": [
      "198\n"
     ]
    },
    {
     "name": "stderr",
     "output_type": "stream",
     "text": [
      "\n",
      "  0%|          | 0/5 [00:00<?, ?it/s]\u001b[A\n",
      " 20%|██        | 1/5 [00:09<00:38,  9.72s/it]\u001b[A\n",
      " 40%|████      | 2/5 [00:19<00:29,  9.76s/it]\u001b[A\n",
      " 60%|██████    | 3/5 [00:29<00:19,  9.79s/it]\u001b[A\n",
      " 80%|████████  | 4/5 [00:39<00:09,  9.77s/it]\u001b[A\n",
      "100%|██████████| 5/5 [00:48<00:00,  9.77s/it]\u001b[A\n",
      " 50%|█████     | 1/2 [00:48<00:48, 48.88s/it]"
     ]
    },
    {
     "name": "stdout",
     "output_type": "stream",
     "text": [
      "198\n"
     ]
    },
    {
     "name": "stderr",
     "output_type": "stream",
     "text": [
      "\n",
      "  0%|          | 0/5 [00:00<?, ?it/s]\u001b[A\n",
      " 20%|██        | 1/5 [00:13<00:53, 13.29s/it]\u001b[A\n",
      " 40%|████      | 2/5 [00:34<00:53, 17.78s/it]\u001b[A\n",
      " 60%|██████    | 3/5 [00:55<00:39, 19.51s/it]\u001b[A\n",
      " 80%|████████  | 4/5 [01:18<00:20, 20.68s/it]\u001b[A\n",
      "100%|██████████| 5/5 [01:39<00:00, 19.94s/it]\u001b[A\n",
      "100%|██████████| 2/2 [02:28<00:00, 74.29s/it]\n"
     ]
    }
   ],
   "source": [
    "dmso_stats = {}\n",
    "\n",
    "for plate in tqdm.tqdm(test):\n",
    "    dmso_stats[plate] = {}\n",
    "    rows = df_dmso[df_dmso.plate == plate]\n",
    "    print(len(rows))\n",
    "    for c in tqdm.tqdm(['C1','C2','C3','C4','C5']):\n",
    "        im = []\n",
    "        \n",
    "        for i in range(len(rows)):\n",
    "            path = rows[c].iloc[i]\n",
    "            im.append(cv2.imread(path, -1))\n",
    "        \n",
    "        dmso_stats[plate][c] = {'m': np.mean(im), 'std':np.std(im)}"
   ]
  },
  {
   "cell_type": "code",
   "execution_count": 36,
   "id": "fd8f5cc4-6b1b-40b9-ae60-71429fdc9584",
   "metadata": {},
   "outputs": [
    {
     "data": {
      "text/plain": [
       "{'P015076': {'C1': {'m': 298.56553513638613, 'std': 280.17719870419074},\n",
       "  'C2': {'m': 1182.599314422301, 'std': 1628.216043824049},\n",
       "  'C3': {'m': 1740.3659357495999, 'std': 846.2971853421564},\n",
       "  'C4': {'m': 1364.0816585652478, 'std': 1029.1825133612128},\n",
       "  'C5': {'m': 682.3957518471755, 'std': 704.7482234564715}},\n",
       " 'P015077': {'C1': {'m': 333.64529227135034, 'std': 339.08582350494197},\n",
       "  'C2': {'m': 1350.6730676892814, 'std': 1606.9584977581317},\n",
       "  'C3': {'m': 2163.296099828229, 'std': 1011.646483085695},\n",
       "  'C4': {'m': 1633.245623894769, 'std': 1160.5192705314935},\n",
       "  'C5': {'m': 846.2881181705169, 'std': 813.9777711274285}}}"
      ]
     },
     "execution_count": 36,
     "metadata": {},
     "output_type": "execute_result"
    }
   ],
   "source": [
    "dmso_stats"
   ]
  },
  {
   "cell_type": "code",
   "execution_count": 37,
   "id": "d51149f5-6119-4a19-9e11-08cf9f7118b7",
   "metadata": {},
   "outputs": [],
   "source": [
    "reform = {(outerKey, innerKey): values for outerKey, innerDict in dmso_stats.items() for innerKey, values in innerDict.items()}"
   ]
  },
  {
   "cell_type": "code",
   "execution_count": 38,
   "id": "1067ddd1-24f3-46cc-abd0-470f2a5f5b19",
   "metadata": {},
   "outputs": [],
   "source": [
    "df_test = pd.DataFrame(reform)"
   ]
  },
  {
   "cell_type": "code",
   "execution_count": 39,
   "id": "1e8babba-dcb8-4a78-8987-7da9324d2b2d",
   "metadata": {},
   "outputs": [
    {
     "data": {
      "text/html": [
       "<div>\n",
       "<style scoped>\n",
       "    .dataframe tbody tr th:only-of-type {\n",
       "        vertical-align: middle;\n",
       "    }\n",
       "\n",
       "    .dataframe tbody tr th {\n",
       "        vertical-align: top;\n",
       "    }\n",
       "\n",
       "    .dataframe thead tr th {\n",
       "        text-align: left;\n",
       "    }\n",
       "</style>\n",
       "<table border=\"1\" class=\"dataframe\">\n",
       "  <thead>\n",
       "    <tr>\n",
       "      <th></th>\n",
       "      <th colspan=\"5\" halign=\"left\">P015076</th>\n",
       "      <th colspan=\"5\" halign=\"left\">P015077</th>\n",
       "    </tr>\n",
       "    <tr>\n",
       "      <th></th>\n",
       "      <th>C1</th>\n",
       "      <th>C2</th>\n",
       "      <th>C3</th>\n",
       "      <th>C4</th>\n",
       "      <th>C5</th>\n",
       "      <th>C1</th>\n",
       "      <th>C2</th>\n",
       "      <th>C3</th>\n",
       "      <th>C4</th>\n",
       "      <th>C5</th>\n",
       "    </tr>\n",
       "  </thead>\n",
       "  <tbody>\n",
       "    <tr>\n",
       "      <th>m</th>\n",
       "      <td>298.565535</td>\n",
       "      <td>1182.599314</td>\n",
       "      <td>1740.365936</td>\n",
       "      <td>1364.081659</td>\n",
       "      <td>682.395752</td>\n",
       "      <td>333.645292</td>\n",
       "      <td>1350.673068</td>\n",
       "      <td>2163.296100</td>\n",
       "      <td>1633.245624</td>\n",
       "      <td>846.288118</td>\n",
       "    </tr>\n",
       "    <tr>\n",
       "      <th>std</th>\n",
       "      <td>280.177199</td>\n",
       "      <td>1628.216044</td>\n",
       "      <td>846.297185</td>\n",
       "      <td>1029.182513</td>\n",
       "      <td>704.748223</td>\n",
       "      <td>339.085824</td>\n",
       "      <td>1606.958498</td>\n",
       "      <td>1011.646483</td>\n",
       "      <td>1160.519271</td>\n",
       "      <td>813.977771</td>\n",
       "    </tr>\n",
       "  </tbody>\n",
       "</table>\n",
       "</div>"
      ],
      "text/plain": [
       "        P015076                                                     \\\n",
       "             C1           C2           C3           C4          C5   \n",
       "m    298.565535  1182.599314  1740.365936  1364.081659  682.395752   \n",
       "std  280.177199  1628.216044   846.297185  1029.182513  704.748223   \n",
       "\n",
       "        P015077                                                     \n",
       "             C1           C2           C3           C4          C5  \n",
       "m    333.645292  1350.673068  2163.296100  1633.245624  846.288118  \n",
       "std  339.085824  1606.958498  1011.646483  1160.519271  813.977771  "
      ]
     },
     "execution_count": 39,
     "metadata": {},
     "output_type": "execute_result"
    }
   ],
   "source": [
    "df_test.head()"
   ]
  },
  {
   "cell_type": "code",
   "execution_count": null,
   "id": "967005f7-db99-4b75-b47c-b09865b346f8",
   "metadata": {},
   "outputs": [],
   "source": [
    "df_test.to_csv('stats/bf_dmso_stats.csv')"
   ]
  },
  {
   "cell_type": "code",
   "execution_count": null,
   "id": "6384aaa0-5b09-41f7-97f4-3876fd07c1bf",
   "metadata": {},
   "outputs": [],
   "source": []
  }
 ],
 "metadata": {
  "kernelspec": {
   "display_name": "Python 3",
   "language": "python",
   "name": "python3"
  },
  "language_info": {
   "codemirror_mode": {
    "name": "ipython",
    "version": 3
   },
   "file_extension": ".py",
   "mimetype": "text/x-python",
   "name": "python",
   "nbconvert_exporter": "python",
   "pygments_lexer": "ipython3",
   "version": "3.8.10"
  }
 },
 "nbformat": 4,
 "nbformat_minor": 5
}

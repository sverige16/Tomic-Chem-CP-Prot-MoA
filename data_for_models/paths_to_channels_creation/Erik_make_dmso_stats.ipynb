{
 "cells": [
  {
   "cell_type": "code",
   "execution_count": 1,
   "id": "33d71e03-96ce-496c-bb69-bb46215e605a",
   "metadata": {},
   "outputs": [],
   "source": [
    "import pandas as pd\n",
    "import numpy as np\n",
    "import cv2\n",
    "import matplotlib.pyplot as plt\n",
    "#from functions import *\n",
    "import tqdm"
   ]
  },
  {
   "cell_type": "code",
   "execution_count": 2,
   "id": "f5dfb611-b082-48be-9350-4aad4c7179dd",
   "metadata": {},
   "outputs": [],
   "source": [
    "dmso_csv_path = '/home/jovyan/Tomics-CP-Chem-MoA/data_for_models/paths_to_channels_creation/paths_dmso_v1v2.csv'"
   ]
  },
  {
   "cell_type": "code",
   "execution_count": 3,
   "id": "c7e1a1d8-a3ac-4a67-a1d8-2acef18d3b04",
   "metadata": {},
   "outputs": [],
   "source": [
    "df_dmso = pd.read_csv(dmso_csv_path)"
   ]
  },
  {
   "cell_type": "code",
   "execution_count": 4,
   "id": "08410895-0016-4ddb-af0b-650c88197bbe",
   "metadata": {},
   "outputs": [
    {
     "data": {
      "text/html": [
       "<div>\n",
       "<style scoped>\n",
       "    .dataframe tbody tr th:only-of-type {\n",
       "        vertical-align: middle;\n",
       "    }\n",
       "\n",
       "    .dataframe tbody tr th {\n",
       "        vertical-align: top;\n",
       "    }\n",
       "\n",
       "    .dataframe thead th {\n",
       "        text-align: right;\n",
       "    }\n",
       "</style>\n",
       "<table border=\"1\" class=\"dataframe\">\n",
       "  <thead>\n",
       "    <tr style=\"text-align: right;\">\n",
       "      <th></th>\n",
       "      <th>Unnamed: 0</th>\n",
       "      <th>plate</th>\n",
       "      <th>well</th>\n",
       "      <th>neg_control_type</th>\n",
       "      <th>C1</th>\n",
       "      <th>C2</th>\n",
       "      <th>C3</th>\n",
       "      <th>C4</th>\n",
       "      <th>C5</th>\n",
       "    </tr>\n",
       "  </thead>\n",
       "  <tbody>\n",
       "    <tr>\n",
       "      <th>0</th>\n",
       "      <td>0</td>\n",
       "      <td>P015076</td>\n",
       "      <td>B23</td>\n",
       "      <td>[dmso]</td>\n",
       "      <td>/share/mikro/IMX/MDC_pharmbio/specs935-v1/spec...</td>\n",
       "      <td>/share/mikro/IMX/MDC_pharmbio/specs935-v1/spec...</td>\n",
       "      <td>/share/mikro/IMX/MDC_pharmbio/specs935-v1/spec...</td>\n",
       "      <td>/share/mikro/IMX/MDC_pharmbio/specs935-v1/spec...</td>\n",
       "      <td>/share/mikro/IMX/MDC_pharmbio/specs935-v1/spec...</td>\n",
       "    </tr>\n",
       "    <tr>\n",
       "      <th>1</th>\n",
       "      <td>1</td>\n",
       "      <td>P015076</td>\n",
       "      <td>B23</td>\n",
       "      <td>[dmso]</td>\n",
       "      <td>/share/mikro/IMX/MDC_pharmbio/specs935-v1/spec...</td>\n",
       "      <td>/share/mikro/IMX/MDC_pharmbio/specs935-v1/spec...</td>\n",
       "      <td>/share/mikro/IMX/MDC_pharmbio/specs935-v1/spec...</td>\n",
       "      <td>/share/mikro/IMX/MDC_pharmbio/specs935-v1/spec...</td>\n",
       "      <td>/share/mikro/IMX/MDC_pharmbio/specs935-v1/spec...</td>\n",
       "    </tr>\n",
       "    <tr>\n",
       "      <th>2</th>\n",
       "      <td>2</td>\n",
       "      <td>P015076</td>\n",
       "      <td>B23</td>\n",
       "      <td>[dmso]</td>\n",
       "      <td>/share/mikro/IMX/MDC_pharmbio/specs935-v1/spec...</td>\n",
       "      <td>/share/mikro/IMX/MDC_pharmbio/specs935-v1/spec...</td>\n",
       "      <td>/share/mikro/IMX/MDC_pharmbio/specs935-v1/spec...</td>\n",
       "      <td>/share/mikro/IMX/MDC_pharmbio/specs935-v1/spec...</td>\n",
       "      <td>/share/mikro/IMX/MDC_pharmbio/specs935-v1/spec...</td>\n",
       "    </tr>\n",
       "    <tr>\n",
       "      <th>3</th>\n",
       "      <td>3</td>\n",
       "      <td>P015076</td>\n",
       "      <td>B23</td>\n",
       "      <td>[dmso]</td>\n",
       "      <td>/share/mikro/IMX/MDC_pharmbio/specs935-v1/spec...</td>\n",
       "      <td>/share/mikro/IMX/MDC_pharmbio/specs935-v1/spec...</td>\n",
       "      <td>/share/mikro/IMX/MDC_pharmbio/specs935-v1/spec...</td>\n",
       "      <td>/share/mikro/IMX/MDC_pharmbio/specs935-v1/spec...</td>\n",
       "      <td>/share/mikro/IMX/MDC_pharmbio/specs935-v1/spec...</td>\n",
       "    </tr>\n",
       "    <tr>\n",
       "      <th>4</th>\n",
       "      <td>4</td>\n",
       "      <td>P015076</td>\n",
       "      <td>B23</td>\n",
       "      <td>[dmso]</td>\n",
       "      <td>/share/mikro/IMX/MDC_pharmbio/specs935-v1/spec...</td>\n",
       "      <td>/share/mikro/IMX/MDC_pharmbio/specs935-v1/spec...</td>\n",
       "      <td>/share/mikro/IMX/MDC_pharmbio/specs935-v1/spec...</td>\n",
       "      <td>/share/mikro/IMX/MDC_pharmbio/specs935-v1/spec...</td>\n",
       "      <td>/share/mikro/IMX/MDC_pharmbio/specs935-v1/spec...</td>\n",
       "    </tr>\n",
       "  </tbody>\n",
       "</table>\n",
       "</div>"
      ],
      "text/plain": [
       "   Unnamed: 0    plate well neg_control_type  \\\n",
       "0           0  P015076  B23           [dmso]   \n",
       "1           1  P015076  B23           [dmso]   \n",
       "2           2  P015076  B23           [dmso]   \n",
       "3           3  P015076  B23           [dmso]   \n",
       "4           4  P015076  B23           [dmso]   \n",
       "\n",
       "                                                  C1  \\\n",
       "0  /share/mikro/IMX/MDC_pharmbio/specs935-v1/spec...   \n",
       "1  /share/mikro/IMX/MDC_pharmbio/specs935-v1/spec...   \n",
       "2  /share/mikro/IMX/MDC_pharmbio/specs935-v1/spec...   \n",
       "3  /share/mikro/IMX/MDC_pharmbio/specs935-v1/spec...   \n",
       "4  /share/mikro/IMX/MDC_pharmbio/specs935-v1/spec...   \n",
       "\n",
       "                                                  C2  \\\n",
       "0  /share/mikro/IMX/MDC_pharmbio/specs935-v1/spec...   \n",
       "1  /share/mikro/IMX/MDC_pharmbio/specs935-v1/spec...   \n",
       "2  /share/mikro/IMX/MDC_pharmbio/specs935-v1/spec...   \n",
       "3  /share/mikro/IMX/MDC_pharmbio/specs935-v1/spec...   \n",
       "4  /share/mikro/IMX/MDC_pharmbio/specs935-v1/spec...   \n",
       "\n",
       "                                                  C3  \\\n",
       "0  /share/mikro/IMX/MDC_pharmbio/specs935-v1/spec...   \n",
       "1  /share/mikro/IMX/MDC_pharmbio/specs935-v1/spec...   \n",
       "2  /share/mikro/IMX/MDC_pharmbio/specs935-v1/spec...   \n",
       "3  /share/mikro/IMX/MDC_pharmbio/specs935-v1/spec...   \n",
       "4  /share/mikro/IMX/MDC_pharmbio/specs935-v1/spec...   \n",
       "\n",
       "                                                  C4  \\\n",
       "0  /share/mikro/IMX/MDC_pharmbio/specs935-v1/spec...   \n",
       "1  /share/mikro/IMX/MDC_pharmbio/specs935-v1/spec...   \n",
       "2  /share/mikro/IMX/MDC_pharmbio/specs935-v1/spec...   \n",
       "3  /share/mikro/IMX/MDC_pharmbio/specs935-v1/spec...   \n",
       "4  /share/mikro/IMX/MDC_pharmbio/specs935-v1/spec...   \n",
       "\n",
       "                                                  C5  \n",
       "0  /share/mikro/IMX/MDC_pharmbio/specs935-v1/spec...  \n",
       "1  /share/mikro/IMX/MDC_pharmbio/specs935-v1/spec...  \n",
       "2  /share/mikro/IMX/MDC_pharmbio/specs935-v1/spec...  \n",
       "3  /share/mikro/IMX/MDC_pharmbio/specs935-v1/spec...  \n",
       "4  /share/mikro/IMX/MDC_pharmbio/specs935-v1/spec...  "
      ]
     },
     "execution_count": 4,
     "metadata": {},
     "output_type": "execute_result"
    }
   ],
   "source": [
    "df_dmso.head()"
   ]
  },
  {
   "cell_type": "code",
   "execution_count": 5,
   "id": "d2c3c701",
   "metadata": {},
   "outputs": [
    {
     "data": {
      "text/plain": [
       "'/share/mikro/IMX/MDC_pharmbio/specs935-v1/specs935-v1-FA-P015076-U2OS-48h-P1-L1/2021-12-16/847/specs935-v1-FA-P015076-U2OS-48h-P1-L1_B23_s1_w117B7B230-3012-469F-8007-1D45C61E6444.tif'"
      ]
     },
     "execution_count": 5,
     "metadata": {},
     "output_type": "execute_result"
    }
   ],
   "source": [
    "df_dmso[\"C1\"][0]"
   ]
  },
  {
   "cell_type": "code",
   "execution_count": 6,
   "id": "97905ae4-1635-40a0-8ba8-830bca1d9333",
   "metadata": {},
   "outputs": [],
   "source": [
    "df_dmso = df_dmso[df_dmso[\"neg_control_type\"] == '[dmso]']\n",
    "suspects = df_dmso.plate.unique()[-2:]\n"
   ]
  },
  {
   "cell_type": "code",
   "execution_count": 7,
   "id": "ff2377eb-ddaf-405f-aa0e-7d93e080ef6c",
   "metadata": {},
   "outputs": [
    {
     "data": {
      "text/plain": [
       "array(['P015076', 'P015077', 'P015078', 'P015079', 'P015080', 'P015081',\n",
       "       'P015082', 'P015083', 'P015084', 'P015085', 'P015086', 'P015087',\n",
       "       'P015088', 'P015089', 'P015090', 'P015091', 'P015092', 'P015093',\n",
       "       'P015094', 'P015095', 'P015096', 'P015097', 'P015098', 'P015099',\n",
       "       'P100980', 'P100981', 'P100982', 'P100983', 'P100984', 'P100985',\n",
       "       'P100986', 'P100987', 'P100988', 'P100989', 'P100990', 'P100991',\n",
       "       'P101016', 'P101017', 'P101018', 'P101019', 'P101020', 'P101021',\n",
       "       'P101022', 'P101023', 'P101024', 'P101025', 'P101026', 'P101027',\n",
       "       'P101028', 'P101029', 'P101030', 'P101031', 'P101032', 'P101033'],\n",
       "      dtype=object)"
      ]
     },
     "execution_count": 7,
     "metadata": {},
     "output_type": "execute_result"
    }
   ],
   "source": [
    "df_dmso.plate.unique()"
   ]
  },
  {
   "cell_type": "code",
   "execution_count": 8,
   "id": "cec1cdb2-72f9-4290-93bf-5fcc78f6c391",
   "metadata": {},
   "outputs": [
    {
     "data": {
      "text/plain": [
       "array(['P101032', 'P101033'], dtype=object)"
      ]
     },
     "execution_count": 8,
     "metadata": {},
     "output_type": "execute_result"
    }
   ],
   "source": [
    "suspects"
   ]
  },
  {
   "cell_type": "code",
   "execution_count": 9,
   "id": "37d52169-2dcc-4696-b1d4-da069da7acb1",
   "metadata": {},
   "outputs": [],
   "source": [
    "df_dmso = df_dmso[df_dmso[\"plate\"].isin(suspects)]"
   ]
  },
  {
   "cell_type": "code",
   "execution_count": 10,
   "id": "8ddd0803",
   "metadata": {},
   "outputs": [
    {
     "data": {
      "text/html": [
       "<div>\n",
       "<style scoped>\n",
       "    .dataframe tbody tr th:only-of-type {\n",
       "        vertical-align: middle;\n",
       "    }\n",
       "\n",
       "    .dataframe tbody tr th {\n",
       "        vertical-align: top;\n",
       "    }\n",
       "\n",
       "    .dataframe thead th {\n",
       "        text-align: right;\n",
       "    }\n",
       "</style>\n",
       "<table border=\"1\" class=\"dataframe\">\n",
       "  <thead>\n",
       "    <tr style=\"text-align: right;\">\n",
       "      <th></th>\n",
       "      <th>Unnamed: 0</th>\n",
       "      <th>plate</th>\n",
       "      <th>well</th>\n",
       "      <th>neg_control_type</th>\n",
       "      <th>C1</th>\n",
       "      <th>C2</th>\n",
       "      <th>C3</th>\n",
       "      <th>C4</th>\n",
       "      <th>C5</th>\n",
       "    </tr>\n",
       "  </thead>\n",
       "  <tbody>\n",
       "    <tr>\n",
       "      <th>17100</th>\n",
       "      <td>11052</td>\n",
       "      <td>P101032</td>\n",
       "      <td>B02</td>\n",
       "      <td>[dmso]</td>\n",
       "      <td>/share/data/external-datasets/compoundcenter/s...</td>\n",
       "      <td>/share/data/external-datasets/compoundcenter/s...</td>\n",
       "      <td>/share/data/external-datasets/compoundcenter/s...</td>\n",
       "      <td>/share/data/external-datasets/compoundcenter/s...</td>\n",
       "      <td>/share/data/external-datasets/compoundcenter/s...</td>\n",
       "    </tr>\n",
       "    <tr>\n",
       "      <th>17101</th>\n",
       "      <td>11053</td>\n",
       "      <td>P101032</td>\n",
       "      <td>B02</td>\n",
       "      <td>[dmso]</td>\n",
       "      <td>/share/data/external-datasets/compoundcenter/s...</td>\n",
       "      <td>/share/data/external-datasets/compoundcenter/s...</td>\n",
       "      <td>/share/data/external-datasets/compoundcenter/s...</td>\n",
       "      <td>/share/data/external-datasets/compoundcenter/s...</td>\n",
       "      <td>/share/data/external-datasets/compoundcenter/s...</td>\n",
       "    </tr>\n",
       "    <tr>\n",
       "      <th>17102</th>\n",
       "      <td>11054</td>\n",
       "      <td>P101032</td>\n",
       "      <td>B02</td>\n",
       "      <td>[dmso]</td>\n",
       "      <td>/share/data/external-datasets/compoundcenter/s...</td>\n",
       "      <td>/share/data/external-datasets/compoundcenter/s...</td>\n",
       "      <td>/share/data/external-datasets/compoundcenter/s...</td>\n",
       "      <td>/share/data/external-datasets/compoundcenter/s...</td>\n",
       "      <td>/share/data/external-datasets/compoundcenter/s...</td>\n",
       "    </tr>\n",
       "    <tr>\n",
       "      <th>17103</th>\n",
       "      <td>11055</td>\n",
       "      <td>P101032</td>\n",
       "      <td>B02</td>\n",
       "      <td>[dmso]</td>\n",
       "      <td>/share/data/external-datasets/compoundcenter/s...</td>\n",
       "      <td>/share/data/external-datasets/compoundcenter/s...</td>\n",
       "      <td>/share/data/external-datasets/compoundcenter/s...</td>\n",
       "      <td>/share/data/external-datasets/compoundcenter/s...</td>\n",
       "      <td>/share/data/external-datasets/compoundcenter/s...</td>\n",
       "    </tr>\n",
       "    <tr>\n",
       "      <th>17104</th>\n",
       "      <td>11056</td>\n",
       "      <td>P101032</td>\n",
       "      <td>B02</td>\n",
       "      <td>[dmso]</td>\n",
       "      <td>/share/data/external-datasets/compoundcenter/s...</td>\n",
       "      <td>/share/data/external-datasets/compoundcenter/s...</td>\n",
       "      <td>/share/data/external-datasets/compoundcenter/s...</td>\n",
       "      <td>/share/data/external-datasets/compoundcenter/s...</td>\n",
       "      <td>/share/data/external-datasets/compoundcenter/s...</td>\n",
       "    </tr>\n",
       "    <tr>\n",
       "      <th>...</th>\n",
       "      <td>...</td>\n",
       "      <td>...</td>\n",
       "      <td>...</td>\n",
       "      <td>...</td>\n",
       "      <td>...</td>\n",
       "      <td>...</td>\n",
       "      <td>...</td>\n",
       "      <td>...</td>\n",
       "      <td>...</td>\n",
       "    </tr>\n",
       "    <tr>\n",
       "      <th>21595</th>\n",
       "      <td>15547</td>\n",
       "      <td>P101033</td>\n",
       "      <td>O23</td>\n",
       "      <td>[dmso]</td>\n",
       "      <td>/share/data/external-datasets/compoundcenter/s...</td>\n",
       "      <td>/share/data/external-datasets/compoundcenter/s...</td>\n",
       "      <td>/share/data/external-datasets/compoundcenter/s...</td>\n",
       "      <td>/share/data/external-datasets/compoundcenter/s...</td>\n",
       "      <td>/share/data/external-datasets/compoundcenter/s...</td>\n",
       "    </tr>\n",
       "    <tr>\n",
       "      <th>21596</th>\n",
       "      <td>15548</td>\n",
       "      <td>P101033</td>\n",
       "      <td>O23</td>\n",
       "      <td>[dmso]</td>\n",
       "      <td>/share/data/external-datasets/compoundcenter/s...</td>\n",
       "      <td>/share/data/external-datasets/compoundcenter/s...</td>\n",
       "      <td>/share/data/external-datasets/compoundcenter/s...</td>\n",
       "      <td>/share/data/external-datasets/compoundcenter/s...</td>\n",
       "      <td>/share/data/external-datasets/compoundcenter/s...</td>\n",
       "    </tr>\n",
       "    <tr>\n",
       "      <th>21597</th>\n",
       "      <td>15549</td>\n",
       "      <td>P101033</td>\n",
       "      <td>O23</td>\n",
       "      <td>[dmso]</td>\n",
       "      <td>/share/data/external-datasets/compoundcenter/s...</td>\n",
       "      <td>/share/data/external-datasets/compoundcenter/s...</td>\n",
       "      <td>/share/data/external-datasets/compoundcenter/s...</td>\n",
       "      <td>/share/data/external-datasets/compoundcenter/s...</td>\n",
       "      <td>/share/data/external-datasets/compoundcenter/s...</td>\n",
       "    </tr>\n",
       "    <tr>\n",
       "      <th>21598</th>\n",
       "      <td>15550</td>\n",
       "      <td>P101033</td>\n",
       "      <td>O23</td>\n",
       "      <td>[dmso]</td>\n",
       "      <td>/share/data/external-datasets/compoundcenter/s...</td>\n",
       "      <td>/share/data/external-datasets/compoundcenter/s...</td>\n",
       "      <td>/share/data/external-datasets/compoundcenter/s...</td>\n",
       "      <td>/share/data/external-datasets/compoundcenter/s...</td>\n",
       "      <td>/share/data/external-datasets/compoundcenter/s...</td>\n",
       "    </tr>\n",
       "    <tr>\n",
       "      <th>21599</th>\n",
       "      <td>15551</td>\n",
       "      <td>P101033</td>\n",
       "      <td>O23</td>\n",
       "      <td>[dmso]</td>\n",
       "      <td>/share/data/external-datasets/compoundcenter/s...</td>\n",
       "      <td>/share/data/external-datasets/compoundcenter/s...</td>\n",
       "      <td>/share/data/external-datasets/compoundcenter/s...</td>\n",
       "      <td>/share/data/external-datasets/compoundcenter/s...</td>\n",
       "      <td>/share/data/external-datasets/compoundcenter/s...</td>\n",
       "    </tr>\n",
       "  </tbody>\n",
       "</table>\n",
       "<p>4500 rows × 9 columns</p>\n",
       "</div>"
      ],
      "text/plain": [
       "       Unnamed: 0    plate well neg_control_type  \\\n",
       "17100       11052  P101032  B02           [dmso]   \n",
       "17101       11053  P101032  B02           [dmso]   \n",
       "17102       11054  P101032  B02           [dmso]   \n",
       "17103       11055  P101032  B02           [dmso]   \n",
       "17104       11056  P101032  B02           [dmso]   \n",
       "...           ...      ...  ...              ...   \n",
       "21595       15547  P101033  O23           [dmso]   \n",
       "21596       15548  P101033  O23           [dmso]   \n",
       "21597       15549  P101033  O23           [dmso]   \n",
       "21598       15550  P101033  O23           [dmso]   \n",
       "21599       15551  P101033  O23           [dmso]   \n",
       "\n",
       "                                                      C1  \\\n",
       "17100  /share/data/external-datasets/compoundcenter/s...   \n",
       "17101  /share/data/external-datasets/compoundcenter/s...   \n",
       "17102  /share/data/external-datasets/compoundcenter/s...   \n",
       "17103  /share/data/external-datasets/compoundcenter/s...   \n",
       "17104  /share/data/external-datasets/compoundcenter/s...   \n",
       "...                                                  ...   \n",
       "21595  /share/data/external-datasets/compoundcenter/s...   \n",
       "21596  /share/data/external-datasets/compoundcenter/s...   \n",
       "21597  /share/data/external-datasets/compoundcenter/s...   \n",
       "21598  /share/data/external-datasets/compoundcenter/s...   \n",
       "21599  /share/data/external-datasets/compoundcenter/s...   \n",
       "\n",
       "                                                      C2  \\\n",
       "17100  /share/data/external-datasets/compoundcenter/s...   \n",
       "17101  /share/data/external-datasets/compoundcenter/s...   \n",
       "17102  /share/data/external-datasets/compoundcenter/s...   \n",
       "17103  /share/data/external-datasets/compoundcenter/s...   \n",
       "17104  /share/data/external-datasets/compoundcenter/s...   \n",
       "...                                                  ...   \n",
       "21595  /share/data/external-datasets/compoundcenter/s...   \n",
       "21596  /share/data/external-datasets/compoundcenter/s...   \n",
       "21597  /share/data/external-datasets/compoundcenter/s...   \n",
       "21598  /share/data/external-datasets/compoundcenter/s...   \n",
       "21599  /share/data/external-datasets/compoundcenter/s...   \n",
       "\n",
       "                                                      C3  \\\n",
       "17100  /share/data/external-datasets/compoundcenter/s...   \n",
       "17101  /share/data/external-datasets/compoundcenter/s...   \n",
       "17102  /share/data/external-datasets/compoundcenter/s...   \n",
       "17103  /share/data/external-datasets/compoundcenter/s...   \n",
       "17104  /share/data/external-datasets/compoundcenter/s...   \n",
       "...                                                  ...   \n",
       "21595  /share/data/external-datasets/compoundcenter/s...   \n",
       "21596  /share/data/external-datasets/compoundcenter/s...   \n",
       "21597  /share/data/external-datasets/compoundcenter/s...   \n",
       "21598  /share/data/external-datasets/compoundcenter/s...   \n",
       "21599  /share/data/external-datasets/compoundcenter/s...   \n",
       "\n",
       "                                                      C4  \\\n",
       "17100  /share/data/external-datasets/compoundcenter/s...   \n",
       "17101  /share/data/external-datasets/compoundcenter/s...   \n",
       "17102  /share/data/external-datasets/compoundcenter/s...   \n",
       "17103  /share/data/external-datasets/compoundcenter/s...   \n",
       "17104  /share/data/external-datasets/compoundcenter/s...   \n",
       "...                                                  ...   \n",
       "21595  /share/data/external-datasets/compoundcenter/s...   \n",
       "21596  /share/data/external-datasets/compoundcenter/s...   \n",
       "21597  /share/data/external-datasets/compoundcenter/s...   \n",
       "21598  /share/data/external-datasets/compoundcenter/s...   \n",
       "21599  /share/data/external-datasets/compoundcenter/s...   \n",
       "\n",
       "                                                      C5  \n",
       "17100  /share/data/external-datasets/compoundcenter/s...  \n",
       "17101  /share/data/external-datasets/compoundcenter/s...  \n",
       "17102  /share/data/external-datasets/compoundcenter/s...  \n",
       "17103  /share/data/external-datasets/compoundcenter/s...  \n",
       "17104  /share/data/external-datasets/compoundcenter/s...  \n",
       "...                                                  ...  \n",
       "21595  /share/data/external-datasets/compoundcenter/s...  \n",
       "21596  /share/data/external-datasets/compoundcenter/s...  \n",
       "21597  /share/data/external-datasets/compoundcenter/s...  \n",
       "21598  /share/data/external-datasets/compoundcenter/s...  \n",
       "21599  /share/data/external-datasets/compoundcenter/s...  \n",
       "\n",
       "[4500 rows x 9 columns]"
      ]
     },
     "execution_count": 10,
     "metadata": {},
     "output_type": "execute_result"
    }
   ],
   "source": [
    "df_dmso"
   ]
  },
  {
   "cell_type": "code",
   "execution_count": 11,
   "id": "f0d5c4ef-a5cd-4be1-9d27-5e11beead04f",
   "metadata": {},
   "outputs": [],
   "source": [
    "del df_dmso[df_dmso.columns[0]] "
   ]
  },
  {
   "cell_type": "code",
   "execution_count": 12,
   "id": "9a4aa99e",
   "metadata": {},
   "outputs": [
    {
     "data": {
      "text/html": [
       "<div>\n",
       "<style scoped>\n",
       "    .dataframe tbody tr th:only-of-type {\n",
       "        vertical-align: middle;\n",
       "    }\n",
       "\n",
       "    .dataframe tbody tr th {\n",
       "        vertical-align: top;\n",
       "    }\n",
       "\n",
       "    .dataframe thead th {\n",
       "        text-align: right;\n",
       "    }\n",
       "</style>\n",
       "<table border=\"1\" class=\"dataframe\">\n",
       "  <thead>\n",
       "    <tr style=\"text-align: right;\">\n",
       "      <th></th>\n",
       "      <th>plate</th>\n",
       "      <th>well</th>\n",
       "      <th>neg_control_type</th>\n",
       "      <th>C1</th>\n",
       "      <th>C2</th>\n",
       "      <th>C3</th>\n",
       "      <th>C4</th>\n",
       "      <th>C5</th>\n",
       "    </tr>\n",
       "  </thead>\n",
       "  <tbody>\n",
       "    <tr>\n",
       "      <th>17100</th>\n",
       "      <td>P101032</td>\n",
       "      <td>B02</td>\n",
       "      <td>[dmso]</td>\n",
       "      <td>/share/data/external-datasets/compoundcenter/s...</td>\n",
       "      <td>/share/data/external-datasets/compoundcenter/s...</td>\n",
       "      <td>/share/data/external-datasets/compoundcenter/s...</td>\n",
       "      <td>/share/data/external-datasets/compoundcenter/s...</td>\n",
       "      <td>/share/data/external-datasets/compoundcenter/s...</td>\n",
       "    </tr>\n",
       "    <tr>\n",
       "      <th>17101</th>\n",
       "      <td>P101032</td>\n",
       "      <td>B02</td>\n",
       "      <td>[dmso]</td>\n",
       "      <td>/share/data/external-datasets/compoundcenter/s...</td>\n",
       "      <td>/share/data/external-datasets/compoundcenter/s...</td>\n",
       "      <td>/share/data/external-datasets/compoundcenter/s...</td>\n",
       "      <td>/share/data/external-datasets/compoundcenter/s...</td>\n",
       "      <td>/share/data/external-datasets/compoundcenter/s...</td>\n",
       "    </tr>\n",
       "    <tr>\n",
       "      <th>17102</th>\n",
       "      <td>P101032</td>\n",
       "      <td>B02</td>\n",
       "      <td>[dmso]</td>\n",
       "      <td>/share/data/external-datasets/compoundcenter/s...</td>\n",
       "      <td>/share/data/external-datasets/compoundcenter/s...</td>\n",
       "      <td>/share/data/external-datasets/compoundcenter/s...</td>\n",
       "      <td>/share/data/external-datasets/compoundcenter/s...</td>\n",
       "      <td>/share/data/external-datasets/compoundcenter/s...</td>\n",
       "    </tr>\n",
       "    <tr>\n",
       "      <th>17103</th>\n",
       "      <td>P101032</td>\n",
       "      <td>B02</td>\n",
       "      <td>[dmso]</td>\n",
       "      <td>/share/data/external-datasets/compoundcenter/s...</td>\n",
       "      <td>/share/data/external-datasets/compoundcenter/s...</td>\n",
       "      <td>/share/data/external-datasets/compoundcenter/s...</td>\n",
       "      <td>/share/data/external-datasets/compoundcenter/s...</td>\n",
       "      <td>/share/data/external-datasets/compoundcenter/s...</td>\n",
       "    </tr>\n",
       "    <tr>\n",
       "      <th>17104</th>\n",
       "      <td>P101032</td>\n",
       "      <td>B02</td>\n",
       "      <td>[dmso]</td>\n",
       "      <td>/share/data/external-datasets/compoundcenter/s...</td>\n",
       "      <td>/share/data/external-datasets/compoundcenter/s...</td>\n",
       "      <td>/share/data/external-datasets/compoundcenter/s...</td>\n",
       "      <td>/share/data/external-datasets/compoundcenter/s...</td>\n",
       "      <td>/share/data/external-datasets/compoundcenter/s...</td>\n",
       "    </tr>\n",
       "    <tr>\n",
       "      <th>...</th>\n",
       "      <td>...</td>\n",
       "      <td>...</td>\n",
       "      <td>...</td>\n",
       "      <td>...</td>\n",
       "      <td>...</td>\n",
       "      <td>...</td>\n",
       "      <td>...</td>\n",
       "      <td>...</td>\n",
       "    </tr>\n",
       "    <tr>\n",
       "      <th>21595</th>\n",
       "      <td>P101033</td>\n",
       "      <td>O23</td>\n",
       "      <td>[dmso]</td>\n",
       "      <td>/share/data/external-datasets/compoundcenter/s...</td>\n",
       "      <td>/share/data/external-datasets/compoundcenter/s...</td>\n",
       "      <td>/share/data/external-datasets/compoundcenter/s...</td>\n",
       "      <td>/share/data/external-datasets/compoundcenter/s...</td>\n",
       "      <td>/share/data/external-datasets/compoundcenter/s...</td>\n",
       "    </tr>\n",
       "    <tr>\n",
       "      <th>21596</th>\n",
       "      <td>P101033</td>\n",
       "      <td>O23</td>\n",
       "      <td>[dmso]</td>\n",
       "      <td>/share/data/external-datasets/compoundcenter/s...</td>\n",
       "      <td>/share/data/external-datasets/compoundcenter/s...</td>\n",
       "      <td>/share/data/external-datasets/compoundcenter/s...</td>\n",
       "      <td>/share/data/external-datasets/compoundcenter/s...</td>\n",
       "      <td>/share/data/external-datasets/compoundcenter/s...</td>\n",
       "    </tr>\n",
       "    <tr>\n",
       "      <th>21597</th>\n",
       "      <td>P101033</td>\n",
       "      <td>O23</td>\n",
       "      <td>[dmso]</td>\n",
       "      <td>/share/data/external-datasets/compoundcenter/s...</td>\n",
       "      <td>/share/data/external-datasets/compoundcenter/s...</td>\n",
       "      <td>/share/data/external-datasets/compoundcenter/s...</td>\n",
       "      <td>/share/data/external-datasets/compoundcenter/s...</td>\n",
       "      <td>/share/data/external-datasets/compoundcenter/s...</td>\n",
       "    </tr>\n",
       "    <tr>\n",
       "      <th>21598</th>\n",
       "      <td>P101033</td>\n",
       "      <td>O23</td>\n",
       "      <td>[dmso]</td>\n",
       "      <td>/share/data/external-datasets/compoundcenter/s...</td>\n",
       "      <td>/share/data/external-datasets/compoundcenter/s...</td>\n",
       "      <td>/share/data/external-datasets/compoundcenter/s...</td>\n",
       "      <td>/share/data/external-datasets/compoundcenter/s...</td>\n",
       "      <td>/share/data/external-datasets/compoundcenter/s...</td>\n",
       "    </tr>\n",
       "    <tr>\n",
       "      <th>21599</th>\n",
       "      <td>P101033</td>\n",
       "      <td>O23</td>\n",
       "      <td>[dmso]</td>\n",
       "      <td>/share/data/external-datasets/compoundcenter/s...</td>\n",
       "      <td>/share/data/external-datasets/compoundcenter/s...</td>\n",
       "      <td>/share/data/external-datasets/compoundcenter/s...</td>\n",
       "      <td>/share/data/external-datasets/compoundcenter/s...</td>\n",
       "      <td>/share/data/external-datasets/compoundcenter/s...</td>\n",
       "    </tr>\n",
       "  </tbody>\n",
       "</table>\n",
       "<p>4500 rows × 8 columns</p>\n",
       "</div>"
      ],
      "text/plain": [
       "         plate well neg_control_type  \\\n",
       "17100  P101032  B02           [dmso]   \n",
       "17101  P101032  B02           [dmso]   \n",
       "17102  P101032  B02           [dmso]   \n",
       "17103  P101032  B02           [dmso]   \n",
       "17104  P101032  B02           [dmso]   \n",
       "...        ...  ...              ...   \n",
       "21595  P101033  O23           [dmso]   \n",
       "21596  P101033  O23           [dmso]   \n",
       "21597  P101033  O23           [dmso]   \n",
       "21598  P101033  O23           [dmso]   \n",
       "21599  P101033  O23           [dmso]   \n",
       "\n",
       "                                                      C1  \\\n",
       "17100  /share/data/external-datasets/compoundcenter/s...   \n",
       "17101  /share/data/external-datasets/compoundcenter/s...   \n",
       "17102  /share/data/external-datasets/compoundcenter/s...   \n",
       "17103  /share/data/external-datasets/compoundcenter/s...   \n",
       "17104  /share/data/external-datasets/compoundcenter/s...   \n",
       "...                                                  ...   \n",
       "21595  /share/data/external-datasets/compoundcenter/s...   \n",
       "21596  /share/data/external-datasets/compoundcenter/s...   \n",
       "21597  /share/data/external-datasets/compoundcenter/s...   \n",
       "21598  /share/data/external-datasets/compoundcenter/s...   \n",
       "21599  /share/data/external-datasets/compoundcenter/s...   \n",
       "\n",
       "                                                      C2  \\\n",
       "17100  /share/data/external-datasets/compoundcenter/s...   \n",
       "17101  /share/data/external-datasets/compoundcenter/s...   \n",
       "17102  /share/data/external-datasets/compoundcenter/s...   \n",
       "17103  /share/data/external-datasets/compoundcenter/s...   \n",
       "17104  /share/data/external-datasets/compoundcenter/s...   \n",
       "...                                                  ...   \n",
       "21595  /share/data/external-datasets/compoundcenter/s...   \n",
       "21596  /share/data/external-datasets/compoundcenter/s...   \n",
       "21597  /share/data/external-datasets/compoundcenter/s...   \n",
       "21598  /share/data/external-datasets/compoundcenter/s...   \n",
       "21599  /share/data/external-datasets/compoundcenter/s...   \n",
       "\n",
       "                                                      C3  \\\n",
       "17100  /share/data/external-datasets/compoundcenter/s...   \n",
       "17101  /share/data/external-datasets/compoundcenter/s...   \n",
       "17102  /share/data/external-datasets/compoundcenter/s...   \n",
       "17103  /share/data/external-datasets/compoundcenter/s...   \n",
       "17104  /share/data/external-datasets/compoundcenter/s...   \n",
       "...                                                  ...   \n",
       "21595  /share/data/external-datasets/compoundcenter/s...   \n",
       "21596  /share/data/external-datasets/compoundcenter/s...   \n",
       "21597  /share/data/external-datasets/compoundcenter/s...   \n",
       "21598  /share/data/external-datasets/compoundcenter/s...   \n",
       "21599  /share/data/external-datasets/compoundcenter/s...   \n",
       "\n",
       "                                                      C4  \\\n",
       "17100  /share/data/external-datasets/compoundcenter/s...   \n",
       "17101  /share/data/external-datasets/compoundcenter/s...   \n",
       "17102  /share/data/external-datasets/compoundcenter/s...   \n",
       "17103  /share/data/external-datasets/compoundcenter/s...   \n",
       "17104  /share/data/external-datasets/compoundcenter/s...   \n",
       "...                                                  ...   \n",
       "21595  /share/data/external-datasets/compoundcenter/s...   \n",
       "21596  /share/data/external-datasets/compoundcenter/s...   \n",
       "21597  /share/data/external-datasets/compoundcenter/s...   \n",
       "21598  /share/data/external-datasets/compoundcenter/s...   \n",
       "21599  /share/data/external-datasets/compoundcenter/s...   \n",
       "\n",
       "                                                      C5  \n",
       "17100  /share/data/external-datasets/compoundcenter/s...  \n",
       "17101  /share/data/external-datasets/compoundcenter/s...  \n",
       "17102  /share/data/external-datasets/compoundcenter/s...  \n",
       "17103  /share/data/external-datasets/compoundcenter/s...  \n",
       "17104  /share/data/external-datasets/compoundcenter/s...  \n",
       "...                                                  ...  \n",
       "21595  /share/data/external-datasets/compoundcenter/s...  \n",
       "21596  /share/data/external-datasets/compoundcenter/s...  \n",
       "21597  /share/data/external-datasets/compoundcenter/s...  \n",
       "21598  /share/data/external-datasets/compoundcenter/s...  \n",
       "21599  /share/data/external-datasets/compoundcenter/s...  \n",
       "\n",
       "[4500 rows x 8 columns]"
      ]
     },
     "execution_count": 12,
     "metadata": {},
     "output_type": "execute_result"
    }
   ],
   "source": [
    "df_dmso"
   ]
  },
  {
   "cell_type": "code",
   "execution_count": 13,
   "id": "578b7de3",
   "metadata": {},
   "outputs": [
    {
     "data": {
      "text/plain": [
       "'/share/data/external-datasets/compoundcenter/specs1K-v2/P101032_specs1K-v2-run2-DMSO-batch3-L3/TimePoint_1/P101032-nov11_B02_s1_w1.TIF'"
      ]
     },
     "execution_count": 13,
     "metadata": {},
     "output_type": "execute_result"
    }
   ],
   "source": [
    "df_dmso[\"C1\"].iloc[0]\n"
   ]
  },
  {
   "cell_type": "code",
   "execution_count": 14,
   "id": "9482fe61-0ee2-44fc-b209-1516f090a651",
   "metadata": {},
   "outputs": [
    {
     "data": {
      "text/plain": [
       "True    4500\n",
       "Name: C1, dtype: int64"
      ]
     },
     "execution_count": 14,
     "metadata": {},
     "output_type": "execute_result"
    }
   ],
   "source": [
    "df_dmso.C1.str.contains(\"/share\").value_counts()\n"
   ]
  },
  {
   "cell_type": "code",
   "execution_count": 15,
   "id": "dd344bca-94e6-4dc0-aa9e-24845c51dd83",
   "metadata": {},
   "outputs": [
    {
     "data": {
      "text/plain": [
       "True    4500\n",
       "Name: C2, dtype: int64"
      ]
     },
     "execution_count": 15,
     "metadata": {},
     "output_type": "execute_result"
    }
   ],
   "source": [
    "df_dmso.C2.str.contains(\"/share\").value_counts()\n"
   ]
  },
  {
   "cell_type": "code",
   "execution_count": 16,
   "id": "ee6dfb55-bf82-49b2-8dd0-d5ba09f27fac",
   "metadata": {},
   "outputs": [
    {
     "data": {
      "text/plain": [
       "True    4500\n",
       "Name: C3, dtype: int64"
      ]
     },
     "execution_count": 16,
     "metadata": {},
     "output_type": "execute_result"
    }
   ],
   "source": [
    "df_dmso.C3.str.contains(\"/share\").value_counts()\n"
   ]
  },
  {
   "cell_type": "code",
   "execution_count": 17,
   "id": "6cd0cd8a-dfcc-4403-9b28-f44ed1422514",
   "metadata": {},
   "outputs": [
    {
     "data": {
      "text/plain": [
       "True    4500\n",
       "Name: C4, dtype: int64"
      ]
     },
     "execution_count": 17,
     "metadata": {},
     "output_type": "execute_result"
    }
   ],
   "source": [
    "df_dmso.C4.str.contains(\"/share\").value_counts()\n"
   ]
  },
  {
   "cell_type": "code",
   "execution_count": 18,
   "id": "ad5101ba-ca87-4f96-b583-c0d38e3a4da9",
   "metadata": {},
   "outputs": [
    {
     "data": {
      "text/plain": [
       "True    4500\n",
       "Name: C5, dtype: int64"
      ]
     },
     "execution_count": 18,
     "metadata": {},
     "output_type": "execute_result"
    }
   ],
   "source": [
    "df_dmso.C5.str.contains(\"/share\").value_counts()\n"
   ]
  },
  {
   "cell_type": "code",
   "execution_count": null,
   "id": "5c224872-7848-4124-98fb-cd00674f6b6b",
   "metadata": {},
   "outputs": [],
   "source": []
  },
  {
   "cell_type": "code",
   "execution_count": 19,
   "id": "8dc4023c-36aa-4018-ac47-1981709cdada",
   "metadata": {},
   "outputs": [
    {
     "data": {
      "text/plain": [
       "array(['P101032', 'P101033'], dtype=object)"
      ]
     },
     "execution_count": 19,
     "metadata": {},
     "output_type": "execute_result"
    }
   ],
   "source": [
    "suspects"
   ]
  },
  {
   "cell_type": "code",
   "execution_count": 20,
   "id": "38c656b0-9985-4b78-9094-ec50d67351aa",
   "metadata": {},
   "outputs": [
    {
     "name": "stderr",
     "output_type": "stream",
     "text": [
      "  0%|          | 0/2 [00:00<?, ?it/s]"
     ]
    },
    {
     "name": "stdout",
     "output_type": "stream",
     "text": [
      "P101032\n"
     ]
    },
    {
     "name": "stderr",
     "output_type": "stream",
     "text": [
      "  0%|          | 0/5 [02:42<?, ?it/s]\n",
      "  0%|          | 0/2 [02:42<?, ?it/s]\n"
     ]
    },
    {
     "ename": "KeyboardInterrupt",
     "evalue": "",
     "output_type": "error",
     "traceback": [
      "\u001b[0;31m---------------------------------------------------------------------------\u001b[0m",
      "\u001b[0;31mKeyboardInterrupt\u001b[0m                         Traceback (most recent call last)",
      "\u001b[1;32m/home/jovyan/Tomics-CP-Chem-MoA/data_for_models/paths_to_channels_creation/Erik_make_dmso_stats.ipynb Cell 21\u001b[0m in \u001b[0;36m<cell line: 3>\u001b[0;34m()\u001b[0m\n\u001b[1;32m     <a href='vscode-notebook-cell://k8s-container%2Bcontext%3Dk8s-prod-pharmbio%2Bpodname%3Derikep-notebook-gpu-5c4b88cbcf-6c8xg%2Bnamespace%3Dlabinf%2Bname%3Derikep-notebook-gpu%2Bimage%3Dpharmbio%252fpharmbio-notebook%253atf-2.8.1-pytorch-gpu/home/jovyan/Tomics-CP-Chem-MoA/data_for_models/paths_to_channels_creation/Erik_make_dmso_stats.ipynb#X26sdnNjb2RlLXJlbW90ZQ%3D%3D?line=10'>11</a>\u001b[0m     path \u001b[39m=\u001b[39m rows[c]\u001b[39m.\u001b[39miloc[i]\n\u001b[1;32m     <a href='vscode-notebook-cell://k8s-container%2Bcontext%3Dk8s-prod-pharmbio%2Bpodname%3Derikep-notebook-gpu-5c4b88cbcf-6c8xg%2Bnamespace%3Dlabinf%2Bname%3Derikep-notebook-gpu%2Bimage%3Dpharmbio%252fpharmbio-notebook%253atf-2.8.1-pytorch-gpu/home/jovyan/Tomics-CP-Chem-MoA/data_for_models/paths_to_channels_creation/Erik_make_dmso_stats.ipynb#X26sdnNjb2RlLXJlbW90ZQ%3D%3D?line=11'>12</a>\u001b[0m     im\u001b[39m.\u001b[39mappend(cv2\u001b[39m.\u001b[39mimread(path, \u001b[39m-\u001b[39m\u001b[39m1\u001b[39m))\n\u001b[0;32m---> <a href='vscode-notebook-cell://k8s-container%2Bcontext%3Dk8s-prod-pharmbio%2Bpodname%3Derikep-notebook-gpu-5c4b88cbcf-6c8xg%2Bnamespace%3Dlabinf%2Bname%3Derikep-notebook-gpu%2Bimage%3Dpharmbio%252fpharmbio-notebook%253atf-2.8.1-pytorch-gpu/home/jovyan/Tomics-CP-Chem-MoA/data_for_models/paths_to_channels_creation/Erik_make_dmso_stats.ipynb#X26sdnNjb2RlLXJlbW90ZQ%3D%3D?line=13'>14</a>\u001b[0m dmso_stats[plate][c] \u001b[39m=\u001b[39m {\u001b[39m'\u001b[39m\u001b[39mm\u001b[39m\u001b[39m'\u001b[39m: np\u001b[39m.\u001b[39;49mmean(im), \u001b[39m'\u001b[39m\u001b[39mstd\u001b[39m\u001b[39m'\u001b[39m:np\u001b[39m.\u001b[39mstd(im)}\n",
      "File \u001b[0;32m<__array_function__ internals>:180\u001b[0m, in \u001b[0;36mmean\u001b[0;34m(*args, **kwargs)\u001b[0m\n",
      "File \u001b[0;32m/usr/local/lib/python3.8/dist-packages/numpy/core/fromnumeric.py:3474\u001b[0m, in \u001b[0;36mmean\u001b[0;34m(a, axis, dtype, out, keepdims, where)\u001b[0m\n\u001b[1;32m   3471\u001b[0m     \u001b[39melse\u001b[39;00m:\n\u001b[1;32m   3472\u001b[0m         \u001b[39mreturn\u001b[39;00m mean(axis\u001b[39m=\u001b[39maxis, dtype\u001b[39m=\u001b[39mdtype, out\u001b[39m=\u001b[39mout, \u001b[39m*\u001b[39m\u001b[39m*\u001b[39mkwargs)\n\u001b[0;32m-> 3474\u001b[0m \u001b[39mreturn\u001b[39;00m _methods\u001b[39m.\u001b[39;49m_mean(a, axis\u001b[39m=\u001b[39;49maxis, dtype\u001b[39m=\u001b[39;49mdtype,\n\u001b[1;32m   3475\u001b[0m                       out\u001b[39m=\u001b[39;49mout, \u001b[39m*\u001b[39;49m\u001b[39m*\u001b[39;49mkwargs)\n",
      "File \u001b[0;32m/usr/local/lib/python3.8/dist-packages/numpy/core/_methods.py:179\u001b[0m, in \u001b[0;36m_mean\u001b[0;34m(a, axis, dtype, out, keepdims, where)\u001b[0m\n\u001b[1;32m    176\u001b[0m         dtype \u001b[39m=\u001b[39m mu\u001b[39m.\u001b[39mdtype(\u001b[39m'\u001b[39m\u001b[39mf4\u001b[39m\u001b[39m'\u001b[39m)\n\u001b[1;32m    177\u001b[0m         is_float16_result \u001b[39m=\u001b[39m \u001b[39mTrue\u001b[39;00m\n\u001b[0;32m--> 179\u001b[0m ret \u001b[39m=\u001b[39m umr_sum(arr, axis, dtype, out, keepdims, where\u001b[39m=\u001b[39;49mwhere)\n\u001b[1;32m    180\u001b[0m \u001b[39mif\u001b[39;00m \u001b[39misinstance\u001b[39m(ret, mu\u001b[39m.\u001b[39mndarray):\n\u001b[1;32m    181\u001b[0m     ret \u001b[39m=\u001b[39m um\u001b[39m.\u001b[39mtrue_divide(\n\u001b[1;32m    182\u001b[0m             ret, rcount, out\u001b[39m=\u001b[39mret, casting\u001b[39m=\u001b[39m\u001b[39m'\u001b[39m\u001b[39munsafe\u001b[39m\u001b[39m'\u001b[39m, subok\u001b[39m=\u001b[39m\u001b[39mFalse\u001b[39;00m)\n",
      "\u001b[0;31mKeyboardInterrupt\u001b[0m: "
     ]
    }
   ],
   "source": [
    "dmso_stats = {}\n",
    "\n",
    "for plate in tqdm.tqdm(suspects):\n",
    "    print(plate)\n",
    "    dmso_stats[plate] = {}\n",
    "    rows = df_dmso[df_dmso.plate == plate]\n",
    "    for c in tqdm.tqdm(['C1','C2','C3','C4','C5']):\n",
    "        im = []\n",
    "        \n",
    "        for i in range(len(rows)):\n",
    "            path = rows[c].iloc[i]\n",
    "            im.append(cv2.imread(path, -1))\n",
    "        \n",
    "        dmso_stats[plate][c] = {'m': np.mean(im), 'std':np.std(im)}"
   ]
  },
  {
   "cell_type": "code",
   "execution_count": 64,
   "id": "fd8f5cc4-6b1b-40b9-ae60-71429fdc9584",
   "metadata": {},
   "outputs": [
    {
     "data": {
      "text/plain": [
       "{'P015076': {'C1': {'m': nan, 'std': nan},\n",
       "  'C2': {'m': nan, 'std': nan},\n",
       "  'C3': {'m': nan, 'std': nan},\n",
       "  'C4': {'m': nan, 'std': nan},\n",
       "  'C5': {'m': nan, 'std': nan}}}"
      ]
     },
     "execution_count": 64,
     "metadata": {},
     "output_type": "execute_result"
    }
   ],
   "source": [
    "dmso_stats"
   ]
  },
  {
   "cell_type": "code",
   "execution_count": 65,
   "id": "d51149f5-6119-4a19-9e11-08cf9f7118b7",
   "metadata": {},
   "outputs": [],
   "source": [
    "reform = {(outerKey, innerKey): values for outerKey, innerDict in dmso_stats.items() for innerKey, values in innerDict.items()}"
   ]
  },
  {
   "cell_type": "code",
   "execution_count": 26,
   "id": "1067ddd1-24f3-46cc-abd0-470f2a5f5b19",
   "metadata": {},
   "outputs": [],
   "source": [
    "df_test = pd.DataFrame(reform)"
   ]
  },
  {
   "cell_type": "code",
   "execution_count": 27,
   "id": "1e8babba-dcb8-4a78-8987-7da9324d2b2d",
   "metadata": {},
   "outputs": [
    {
     "data": {
      "text/html": [
       "<div>\n",
       "<style scoped>\n",
       "    .dataframe tbody tr th:only-of-type {\n",
       "        vertical-align: middle;\n",
       "    }\n",
       "\n",
       "    .dataframe tbody tr th {\n",
       "        vertical-align: top;\n",
       "    }\n",
       "\n",
       "    .dataframe thead tr th {\n",
       "        text-align: left;\n",
       "    }\n",
       "</style>\n",
       "<table border=\"1\" class=\"dataframe\">\n",
       "  <thead>\n",
       "    <tr>\n",
       "      <th></th>\n",
       "      <th colspan=\"5\" halign=\"left\">P015076</th>\n",
       "    </tr>\n",
       "    <tr>\n",
       "      <th></th>\n",
       "      <th>C1</th>\n",
       "      <th>C2</th>\n",
       "      <th>C3</th>\n",
       "      <th>C4</th>\n",
       "      <th>C5</th>\n",
       "    </tr>\n",
       "  </thead>\n",
       "  <tbody>\n",
       "    <tr>\n",
       "      <th>m</th>\n",
       "      <td>298.565535</td>\n",
       "      <td>1182.599314</td>\n",
       "      <td>1740.365936</td>\n",
       "      <td>1364.081659</td>\n",
       "      <td>682.395752</td>\n",
       "    </tr>\n",
       "    <tr>\n",
       "      <th>std</th>\n",
       "      <td>280.177199</td>\n",
       "      <td>1628.216044</td>\n",
       "      <td>846.297185</td>\n",
       "      <td>1029.182513</td>\n",
       "      <td>704.748223</td>\n",
       "    </tr>\n",
       "  </tbody>\n",
       "</table>\n",
       "</div>"
      ],
      "text/plain": [
       "        P015076                                                   \n",
       "             C1           C2           C3           C4          C5\n",
       "m    298.565535  1182.599314  1740.365936  1364.081659  682.395752\n",
       "std  280.177199  1628.216044   846.297185  1029.182513  704.748223"
      ]
     },
     "execution_count": 27,
     "metadata": {},
     "output_type": "execute_result"
    }
   ],
   "source": [
    "df_test.head()"
   ]
  },
  {
   "cell_type": "code",
   "execution_count": 28,
   "id": "7cd8667c-1f6d-4c3c-b8a0-e4e60ce3ad9a",
   "metadata": {},
   "outputs": [
    {
     "data": {
      "text/plain": [
       "MultiIndex([('P015076', 'C1'),\n",
       "            ('P015076', 'C2'),\n",
       "            ('P015076', 'C3'),\n",
       "            ('P015076', 'C4'),\n",
       "            ('P015076', 'C5')],\n",
       "           )"
      ]
     },
     "execution_count": 28,
     "metadata": {},
     "output_type": "execute_result"
    }
   ],
   "source": [
    "df_test.columns\n"
   ]
  },
  {
   "cell_type": "code",
   "execution_count": 29,
   "id": "b28e8117-e46f-408f-b479-dbfc56c20682",
   "metadata": {},
   "outputs": [
    {
     "data": {
      "text/plain": [
       "298.56553513638613"
      ]
     },
     "execution_count": 29,
     "metadata": {},
     "output_type": "execute_result"
    }
   ],
   "source": [
    "df_test['P015076']['C1']['m']"
   ]
  },
  {
   "cell_type": "code",
   "execution_count": 30,
   "id": "967005f7-db99-4b75-b47c-b09865b346f8",
   "metadata": {},
   "outputs": [],
   "source": [
    "df_test.to_csv('/home/jovyan/Tomics-CP-Chem-MoA/data_for_models/paths_to_channels_creation/dmso_stats_v1v2.csv')"
   ]
  },
  {
   "cell_type": "code",
   "execution_count": 31,
   "id": "6384aaa0-5b09-41f7-97f4-3876fd07c1bf",
   "metadata": {},
   "outputs": [
    {
     "data": {
      "text/html": [
       "<div>\n",
       "<style scoped>\n",
       "    .dataframe tbody tr th:only-of-type {\n",
       "        vertical-align: middle;\n",
       "    }\n",
       "\n",
       "    .dataframe tbody tr th {\n",
       "        vertical-align: top;\n",
       "    }\n",
       "\n",
       "    .dataframe thead th {\n",
       "        text-align: right;\n",
       "    }\n",
       "</style>\n",
       "<table border=\"1\" class=\"dataframe\">\n",
       "  <thead>\n",
       "    <tr style=\"text-align: right;\">\n",
       "      <th></th>\n",
       "      <th>Unnamed: 0</th>\n",
       "      <th>plate</th>\n",
       "      <th>well</th>\n",
       "      <th>neg_control_type</th>\n",
       "      <th>C1</th>\n",
       "      <th>C2</th>\n",
       "      <th>C3</th>\n",
       "      <th>C4</th>\n",
       "      <th>C5</th>\n",
       "    </tr>\n",
       "  </thead>\n",
       "  <tbody>\n",
       "    <tr>\n",
       "      <th>0</th>\n",
       "      <td>0</td>\n",
       "      <td>P015076</td>\n",
       "      <td>B23</td>\n",
       "      <td>[dmso]</td>\n",
       "      <td>/share/mikro/IMX/MDC_pharmbio/specs935-v1/spec...</td>\n",
       "      <td>/share/mikro/IMX/MDC_pharmbio/specs935-v1/spec...</td>\n",
       "      <td>/share/mikro/IMX/MDC_pharmbio/specs935-v1/spec...</td>\n",
       "      <td>/share/mikro/IMX/MDC_pharmbio/specs935-v1/spec...</td>\n",
       "      <td>/share/mikro/IMX/MDC_pharmbio/specs935-v1/spec...</td>\n",
       "    </tr>\n",
       "    <tr>\n",
       "      <th>1</th>\n",
       "      <td>1</td>\n",
       "      <td>P015076</td>\n",
       "      <td>B23</td>\n",
       "      <td>[dmso]</td>\n",
       "      <td>/share/mikro/IMX/MDC_pharmbio/specs935-v1/spec...</td>\n",
       "      <td>/share/mikro/IMX/MDC_pharmbio/specs935-v1/spec...</td>\n",
       "      <td>/share/mikro/IMX/MDC_pharmbio/specs935-v1/spec...</td>\n",
       "      <td>/share/mikro/IMX/MDC_pharmbio/specs935-v1/spec...</td>\n",
       "      <td>/share/mikro/IMX/MDC_pharmbio/specs935-v1/spec...</td>\n",
       "    </tr>\n",
       "    <tr>\n",
       "      <th>2</th>\n",
       "      <td>2</td>\n",
       "      <td>P015076</td>\n",
       "      <td>B23</td>\n",
       "      <td>[dmso]</td>\n",
       "      <td>/share/mikro/IMX/MDC_pharmbio/specs935-v1/spec...</td>\n",
       "      <td>/share/mikro/IMX/MDC_pharmbio/specs935-v1/spec...</td>\n",
       "      <td>/share/mikro/IMX/MDC_pharmbio/specs935-v1/spec...</td>\n",
       "      <td>/share/mikro/IMX/MDC_pharmbio/specs935-v1/spec...</td>\n",
       "      <td>/share/mikro/IMX/MDC_pharmbio/specs935-v1/spec...</td>\n",
       "    </tr>\n",
       "    <tr>\n",
       "      <th>3</th>\n",
       "      <td>3</td>\n",
       "      <td>P015076</td>\n",
       "      <td>B23</td>\n",
       "      <td>[dmso]</td>\n",
       "      <td>/share/mikro/IMX/MDC_pharmbio/specs935-v1/spec...</td>\n",
       "      <td>/share/mikro/IMX/MDC_pharmbio/specs935-v1/spec...</td>\n",
       "      <td>/share/mikro/IMX/MDC_pharmbio/specs935-v1/spec...</td>\n",
       "      <td>/share/mikro/IMX/MDC_pharmbio/specs935-v1/spec...</td>\n",
       "      <td>/share/mikro/IMX/MDC_pharmbio/specs935-v1/spec...</td>\n",
       "    </tr>\n",
       "    <tr>\n",
       "      <th>4</th>\n",
       "      <td>4</td>\n",
       "      <td>P015076</td>\n",
       "      <td>B23</td>\n",
       "      <td>[dmso]</td>\n",
       "      <td>/share/mikro/IMX/MDC_pharmbio/specs935-v1/spec...</td>\n",
       "      <td>/share/mikro/IMX/MDC_pharmbio/specs935-v1/spec...</td>\n",
       "      <td>/share/mikro/IMX/MDC_pharmbio/specs935-v1/spec...</td>\n",
       "      <td>/share/mikro/IMX/MDC_pharmbio/specs935-v1/spec...</td>\n",
       "      <td>/share/mikro/IMX/MDC_pharmbio/specs935-v1/spec...</td>\n",
       "    </tr>\n",
       "    <tr>\n",
       "      <th>...</th>\n",
       "      <td>...</td>\n",
       "      <td>...</td>\n",
       "      <td>...</td>\n",
       "      <td>...</td>\n",
       "      <td>...</td>\n",
       "      <td>...</td>\n",
       "      <td>...</td>\n",
       "      <td>...</td>\n",
       "      <td>...</td>\n",
       "    </tr>\n",
       "    <tr>\n",
       "      <th>21595</th>\n",
       "      <td>15547</td>\n",
       "      <td>P101033</td>\n",
       "      <td>O23</td>\n",
       "      <td>[dmso]</td>\n",
       "      <td>/share/data/external-datasets/compoundcenter/s...</td>\n",
       "      <td>/share/data/external-datasets/compoundcenter/s...</td>\n",
       "      <td>/share/data/external-datasets/compoundcenter/s...</td>\n",
       "      <td>/share/data/external-datasets/compoundcenter/s...</td>\n",
       "      <td>/share/data/external-datasets/compoundcenter/s...</td>\n",
       "    </tr>\n",
       "    <tr>\n",
       "      <th>21596</th>\n",
       "      <td>15548</td>\n",
       "      <td>P101033</td>\n",
       "      <td>O23</td>\n",
       "      <td>[dmso]</td>\n",
       "      <td>/share/data/external-datasets/compoundcenter/s...</td>\n",
       "      <td>/share/data/external-datasets/compoundcenter/s...</td>\n",
       "      <td>/share/data/external-datasets/compoundcenter/s...</td>\n",
       "      <td>/share/data/external-datasets/compoundcenter/s...</td>\n",
       "      <td>/share/data/external-datasets/compoundcenter/s...</td>\n",
       "    </tr>\n",
       "    <tr>\n",
       "      <th>21597</th>\n",
       "      <td>15549</td>\n",
       "      <td>P101033</td>\n",
       "      <td>O23</td>\n",
       "      <td>[dmso]</td>\n",
       "      <td>/share/data/external-datasets/compoundcenter/s...</td>\n",
       "      <td>/share/data/external-datasets/compoundcenter/s...</td>\n",
       "      <td>/share/data/external-datasets/compoundcenter/s...</td>\n",
       "      <td>/share/data/external-datasets/compoundcenter/s...</td>\n",
       "      <td>/share/data/external-datasets/compoundcenter/s...</td>\n",
       "    </tr>\n",
       "    <tr>\n",
       "      <th>21598</th>\n",
       "      <td>15550</td>\n",
       "      <td>P101033</td>\n",
       "      <td>O23</td>\n",
       "      <td>[dmso]</td>\n",
       "      <td>/share/data/external-datasets/compoundcenter/s...</td>\n",
       "      <td>/share/data/external-datasets/compoundcenter/s...</td>\n",
       "      <td>/share/data/external-datasets/compoundcenter/s...</td>\n",
       "      <td>/share/data/external-datasets/compoundcenter/s...</td>\n",
       "      <td>/share/data/external-datasets/compoundcenter/s...</td>\n",
       "    </tr>\n",
       "    <tr>\n",
       "      <th>21599</th>\n",
       "      <td>15551</td>\n",
       "      <td>P101033</td>\n",
       "      <td>O23</td>\n",
       "      <td>[dmso]</td>\n",
       "      <td>/share/data/external-datasets/compoundcenter/s...</td>\n",
       "      <td>/share/data/external-datasets/compoundcenter/s...</td>\n",
       "      <td>/share/data/external-datasets/compoundcenter/s...</td>\n",
       "      <td>/share/data/external-datasets/compoundcenter/s...</td>\n",
       "      <td>/share/data/external-datasets/compoundcenter/s...</td>\n",
       "    </tr>\n",
       "  </tbody>\n",
       "</table>\n",
       "<p>18900 rows × 9 columns</p>\n",
       "</div>"
      ],
      "text/plain": [
       "       Unnamed: 0    plate well neg_control_type  \\\n",
       "0               0  P015076  B23           [dmso]   \n",
       "1               1  P015076  B23           [dmso]   \n",
       "2               2  P015076  B23           [dmso]   \n",
       "3               3  P015076  B23           [dmso]   \n",
       "4               4  P015076  B23           [dmso]   \n",
       "...           ...      ...  ...              ...   \n",
       "21595       15547  P101033  O23           [dmso]   \n",
       "21596       15548  P101033  O23           [dmso]   \n",
       "21597       15549  P101033  O23           [dmso]   \n",
       "21598       15550  P101033  O23           [dmso]   \n",
       "21599       15551  P101033  O23           [dmso]   \n",
       "\n",
       "                                                      C1  \\\n",
       "0      /share/mikro/IMX/MDC_pharmbio/specs935-v1/spec...   \n",
       "1      /share/mikro/IMX/MDC_pharmbio/specs935-v1/spec...   \n",
       "2      /share/mikro/IMX/MDC_pharmbio/specs935-v1/spec...   \n",
       "3      /share/mikro/IMX/MDC_pharmbio/specs935-v1/spec...   \n",
       "4      /share/mikro/IMX/MDC_pharmbio/specs935-v1/spec...   \n",
       "...                                                  ...   \n",
       "21595  /share/data/external-datasets/compoundcenter/s...   \n",
       "21596  /share/data/external-datasets/compoundcenter/s...   \n",
       "21597  /share/data/external-datasets/compoundcenter/s...   \n",
       "21598  /share/data/external-datasets/compoundcenter/s...   \n",
       "21599  /share/data/external-datasets/compoundcenter/s...   \n",
       "\n",
       "                                                      C2  \\\n",
       "0      /share/mikro/IMX/MDC_pharmbio/specs935-v1/spec...   \n",
       "1      /share/mikro/IMX/MDC_pharmbio/specs935-v1/spec...   \n",
       "2      /share/mikro/IMX/MDC_pharmbio/specs935-v1/spec...   \n",
       "3      /share/mikro/IMX/MDC_pharmbio/specs935-v1/spec...   \n",
       "4      /share/mikro/IMX/MDC_pharmbio/specs935-v1/spec...   \n",
       "...                                                  ...   \n",
       "21595  /share/data/external-datasets/compoundcenter/s...   \n",
       "21596  /share/data/external-datasets/compoundcenter/s...   \n",
       "21597  /share/data/external-datasets/compoundcenter/s...   \n",
       "21598  /share/data/external-datasets/compoundcenter/s...   \n",
       "21599  /share/data/external-datasets/compoundcenter/s...   \n",
       "\n",
       "                                                      C3  \\\n",
       "0      /share/mikro/IMX/MDC_pharmbio/specs935-v1/spec...   \n",
       "1      /share/mikro/IMX/MDC_pharmbio/specs935-v1/spec...   \n",
       "2      /share/mikro/IMX/MDC_pharmbio/specs935-v1/spec...   \n",
       "3      /share/mikro/IMX/MDC_pharmbio/specs935-v1/spec...   \n",
       "4      /share/mikro/IMX/MDC_pharmbio/specs935-v1/spec...   \n",
       "...                                                  ...   \n",
       "21595  /share/data/external-datasets/compoundcenter/s...   \n",
       "21596  /share/data/external-datasets/compoundcenter/s...   \n",
       "21597  /share/data/external-datasets/compoundcenter/s...   \n",
       "21598  /share/data/external-datasets/compoundcenter/s...   \n",
       "21599  /share/data/external-datasets/compoundcenter/s...   \n",
       "\n",
       "                                                      C4  \\\n",
       "0      /share/mikro/IMX/MDC_pharmbio/specs935-v1/spec...   \n",
       "1      /share/mikro/IMX/MDC_pharmbio/specs935-v1/spec...   \n",
       "2      /share/mikro/IMX/MDC_pharmbio/specs935-v1/spec...   \n",
       "3      /share/mikro/IMX/MDC_pharmbio/specs935-v1/spec...   \n",
       "4      /share/mikro/IMX/MDC_pharmbio/specs935-v1/spec...   \n",
       "...                                                  ...   \n",
       "21595  /share/data/external-datasets/compoundcenter/s...   \n",
       "21596  /share/data/external-datasets/compoundcenter/s...   \n",
       "21597  /share/data/external-datasets/compoundcenter/s...   \n",
       "21598  /share/data/external-datasets/compoundcenter/s...   \n",
       "21599  /share/data/external-datasets/compoundcenter/s...   \n",
       "\n",
       "                                                      C5  \n",
       "0      /share/mikro/IMX/MDC_pharmbio/specs935-v1/spec...  \n",
       "1      /share/mikro/IMX/MDC_pharmbio/specs935-v1/spec...  \n",
       "2      /share/mikro/IMX/MDC_pharmbio/specs935-v1/spec...  \n",
       "3      /share/mikro/IMX/MDC_pharmbio/specs935-v1/spec...  \n",
       "4      /share/mikro/IMX/MDC_pharmbio/specs935-v1/spec...  \n",
       "...                                                  ...  \n",
       "21595  /share/data/external-datasets/compoundcenter/s...  \n",
       "21596  /share/data/external-datasets/compoundcenter/s...  \n",
       "21597  /share/data/external-datasets/compoundcenter/s...  \n",
       "21598  /share/data/external-datasets/compoundcenter/s...  \n",
       "21599  /share/data/external-datasets/compoundcenter/s...  \n",
       "\n",
       "[18900 rows x 9 columns]"
      ]
     },
     "execution_count": 31,
     "metadata": {},
     "output_type": "execute_result"
    }
   ],
   "source": [
    "df_dmso"
   ]
  },
  {
   "cell_type": "code",
   "execution_count": 33,
   "id": "b199e8c3-ec6e-4970-b3eb-134db29e52dc",
   "metadata": {},
   "outputs": [
    {
     "data": {
      "text/plain": [
       "False"
      ]
     },
     "execution_count": 33,
     "metadata": {},
     "output_type": "execute_result"
    }
   ],
   "source": [
    "df_dmso.isnull().values.any()"
   ]
  },
  {
   "cell_type": "code",
   "execution_count": null,
   "id": "4028c731-fd38-4972-89b5-523802f8bcf7",
   "metadata": {},
   "outputs": [],
   "source": []
  }
 ],
 "metadata": {
  "kernelspec": {
   "display_name": "Python 3",
   "language": "python",
   "name": "python3"
  },
  "language_info": {
   "codemirror_mode": {
    "name": "ipython",
    "version": 3
   },
   "file_extension": ".py",
   "mimetype": "text/x-python",
   "name": "python",
   "nbconvert_exporter": "python",
   "pygments_lexer": "ipython3",
   "version": "3.8.10"
  }
 },
 "nbformat": 4,
 "nbformat_minor": 5
}

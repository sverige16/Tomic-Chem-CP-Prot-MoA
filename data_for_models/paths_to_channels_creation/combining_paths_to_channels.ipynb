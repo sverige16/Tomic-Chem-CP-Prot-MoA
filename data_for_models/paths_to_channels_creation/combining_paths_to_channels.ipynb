{
 "cells": [
  {
   "cell_type": "code",
   "execution_count": 1,
   "id": "6c969862-74b9-4add-a2dc-6e7cb33b4f25",
   "metadata": {},
   "outputs": [],
   "source": [
    "import pandas as pd"
   ]
  },
  {
   "cell_type": "code",
   "execution_count": 6,
   "id": "f3946c6f-72c1-460d-ac9e-f6e22bd73460",
   "metadata": {},
   "outputs": [],
   "source": [
    "paths_channels_v1 = pd.read_csv('/home/jovyan/Tomics-CP-Chem-MoA/data_for_models/paths_to_channels_creation/specs935-v1_paths_treated.csv', sep=',')\n",
    "paths_channels_v2 = pd.read_csv('/home/jovyan/Tomics-CP-Chem-MoA/data_for_models/paths_to_channels_creation/specs1k_v2_paths_treated.csv', sep=',')"
   ]
  },
  {
   "cell_type": "code",
   "execution_count": 7,
   "id": "b86ac31b-f414-4441-ae0c-70ae2662dcf3",
   "metadata": {},
   "outputs": [
    {
     "name": "stdout",
     "output_type": "stream",
     "text": [
      "('Unnamed: 0', 'Unnamed: 0')\n",
      "('plate', 'plate')\n",
      "('well', 'well')\n",
      "('compound', 'compound')\n",
      "('C1', 'C1')\n",
      "('C2', 'C2')\n",
      "('C3', 'C3')\n",
      "('C4', 'C4')\n",
      "('C5', 'C5')\n",
      "('moa', 'moa')\n"
     ]
    }
   ],
   "source": [
    "# checking to see the different names of the columns. Some differences occur which could be fixed (notice x with SMILES for example), but does not effect following\n",
    "for col1,col2 in zip(paths_channels_v1.columns, paths_channels_v2.columns):\n",
    "    print((col1,col2))"
   ]
  },
  {
   "cell_type": "code",
   "execution_count": 8,
   "id": "937fc305-4807-4992-bbd5-b4ed2713a98a",
   "metadata": {},
   "outputs": [
    {
     "data": {
      "text/html": [
       "<div>\n",
       "<style scoped>\n",
       "    .dataframe tbody tr th:only-of-type {\n",
       "        vertical-align: middle;\n",
       "    }\n",
       "\n",
       "    .dataframe tbody tr th {\n",
       "        vertical-align: top;\n",
       "    }\n",
       "\n",
       "    .dataframe thead th {\n",
       "        text-align: right;\n",
       "    }\n",
       "</style>\n",
       "<table border=\"1\" class=\"dataframe\">\n",
       "  <thead>\n",
       "    <tr style=\"text-align: right;\">\n",
       "      <th></th>\n",
       "      <th>Unnamed: 0</th>\n",
       "      <th>plate</th>\n",
       "      <th>well</th>\n",
       "      <th>compound</th>\n",
       "      <th>C1</th>\n",
       "      <th>C2</th>\n",
       "      <th>C3</th>\n",
       "      <th>C4</th>\n",
       "      <th>C5</th>\n",
       "      <th>moa</th>\n",
       "    </tr>\n",
       "  </thead>\n",
       "  <tbody>\n",
       "    <tr>\n",
       "      <th>0</th>\n",
       "      <td>9</td>\n",
       "      <td>P015076</td>\n",
       "      <td>B04</td>\n",
       "      <td>CBK041257</td>\n",
       "      <td>/share/mikro/IMX/MDC_pharmbio/specs935-v1/spec...</td>\n",
       "      <td>/share/mikro/IMX/MDC_pharmbio/specs935-v1/spec...</td>\n",
       "      <td>/share/mikro/IMX/MDC_pharmbio/specs935-v1/spec...</td>\n",
       "      <td>/share/mikro/IMX/MDC_pharmbio/specs935-v1/spec...</td>\n",
       "      <td>/share/mikro/IMX/MDC_pharmbio/specs935-v1/spec...</td>\n",
       "      <td>cytochrome P450 inhibitor|SIRT activator</td>\n",
       "    </tr>\n",
       "    <tr>\n",
       "      <th>1</th>\n",
       "      <td>10</td>\n",
       "      <td>P015076</td>\n",
       "      <td>B04</td>\n",
       "      <td>CBK041257</td>\n",
       "      <td>/share/mikro/IMX/MDC_pharmbio/specs935-v1/spec...</td>\n",
       "      <td>/share/mikro/IMX/MDC_pharmbio/specs935-v1/spec...</td>\n",
       "      <td>/share/mikro/IMX/MDC_pharmbio/specs935-v1/spec...</td>\n",
       "      <td>/share/mikro/IMX/MDC_pharmbio/specs935-v1/spec...</td>\n",
       "      <td>/share/mikro/IMX/MDC_pharmbio/specs935-v1/spec...</td>\n",
       "      <td>cytochrome P450 inhibitor|SIRT activator</td>\n",
       "    </tr>\n",
       "    <tr>\n",
       "      <th>2</th>\n",
       "      <td>11</td>\n",
       "      <td>P015076</td>\n",
       "      <td>B04</td>\n",
       "      <td>CBK041257</td>\n",
       "      <td>/share/mikro/IMX/MDC_pharmbio/specs935-v1/spec...</td>\n",
       "      <td>/share/mikro/IMX/MDC_pharmbio/specs935-v1/spec...</td>\n",
       "      <td>/share/mikro/IMX/MDC_pharmbio/specs935-v1/spec...</td>\n",
       "      <td>/share/mikro/IMX/MDC_pharmbio/specs935-v1/spec...</td>\n",
       "      <td>/share/mikro/IMX/MDC_pharmbio/specs935-v1/spec...</td>\n",
       "      <td>cytochrome P450 inhibitor|SIRT activator</td>\n",
       "    </tr>\n",
       "  </tbody>\n",
       "</table>\n",
       "</div>"
      ],
      "text/plain": [
       "   Unnamed: 0    plate well   compound  \\\n",
       "0           9  P015076  B04  CBK041257   \n",
       "1          10  P015076  B04  CBK041257   \n",
       "2          11  P015076  B04  CBK041257   \n",
       "\n",
       "                                                  C1  \\\n",
       "0  /share/mikro/IMX/MDC_pharmbio/specs935-v1/spec...   \n",
       "1  /share/mikro/IMX/MDC_pharmbio/specs935-v1/spec...   \n",
       "2  /share/mikro/IMX/MDC_pharmbio/specs935-v1/spec...   \n",
       "\n",
       "                                                  C2  \\\n",
       "0  /share/mikro/IMX/MDC_pharmbio/specs935-v1/spec...   \n",
       "1  /share/mikro/IMX/MDC_pharmbio/specs935-v1/spec...   \n",
       "2  /share/mikro/IMX/MDC_pharmbio/specs935-v1/spec...   \n",
       "\n",
       "                                                  C3  \\\n",
       "0  /share/mikro/IMX/MDC_pharmbio/specs935-v1/spec...   \n",
       "1  /share/mikro/IMX/MDC_pharmbio/specs935-v1/spec...   \n",
       "2  /share/mikro/IMX/MDC_pharmbio/specs935-v1/spec...   \n",
       "\n",
       "                                                  C4  \\\n",
       "0  /share/mikro/IMX/MDC_pharmbio/specs935-v1/spec...   \n",
       "1  /share/mikro/IMX/MDC_pharmbio/specs935-v1/spec...   \n",
       "2  /share/mikro/IMX/MDC_pharmbio/specs935-v1/spec...   \n",
       "\n",
       "                                                  C5  \\\n",
       "0  /share/mikro/IMX/MDC_pharmbio/specs935-v1/spec...   \n",
       "1  /share/mikro/IMX/MDC_pharmbio/specs935-v1/spec...   \n",
       "2  /share/mikro/IMX/MDC_pharmbio/specs935-v1/spec...   \n",
       "\n",
       "                                        moa  \n",
       "0  cytochrome P450 inhibitor|SIRT activator  \n",
       "1  cytochrome P450 inhibitor|SIRT activator  \n",
       "2  cytochrome P450 inhibitor|SIRT activator  "
      ]
     },
     "execution_count": 8,
     "metadata": {},
     "output_type": "execute_result"
    }
   ],
   "source": [
    "paths_channels_v1.head(3)"
   ]
  },
  {
   "cell_type": "code",
   "execution_count": 10,
   "id": "f4f63137-e81d-4649-b8d3-81e04f3875d4",
   "metadata": {},
   "outputs": [],
   "source": [
    "paths_channels_v1  = paths_channels_v1 .iloc[:, 1:]\n",
    "paths_channels_v2  = paths_channels_v2 .iloc[:, 1:]"
   ]
  },
  {
   "cell_type": "code",
   "execution_count": 11,
   "id": "5cfa37d0-c8bd-4ad9-a263-21473ac4954c",
   "metadata": {},
   "outputs": [
    {
     "name": "stdout",
     "output_type": "stream",
     "text": [
      "('plate', 'plate')\n",
      "('well', 'well')\n",
      "('compound', 'compound')\n",
      "('C1', 'C1')\n",
      "('C2', 'C2')\n",
      "('C3', 'C3')\n",
      "('C4', 'C4')\n",
      "('C5', 'C5')\n",
      "('moa', 'moa')\n"
     ]
    }
   ],
   "source": [
    "# checking to see the different names of the columns. Some differences occur which could be fixed (notice x with SMILES for example), but does not effect following\n",
    "for col1,col2 in zip(paths_channels_v1.columns, paths_channels_v2.columns):\n",
    "    print((col1,col2))"
   ]
  },
  {
   "cell_type": "code",
   "execution_count": 12,
   "id": "0af35921-7a52-4e1a-ad3a-cda333f2b77e",
   "metadata": {},
   "outputs": [
    {
     "data": {
      "text/plain": [
       "(91143, 9)"
      ]
     },
     "execution_count": 12,
     "metadata": {},
     "output_type": "execute_result"
    }
   ],
   "source": [
    "frames = [paths_channels_v1, paths_channels_v2]\n",
    "paths_channels_v1v2 = pd.concat(frames)\n",
    "paths_channels_v1v2.shape"
   ]
  },
  {
   "cell_type": "code",
   "execution_count": 13,
   "id": "0251fa88-1556-4f31-bc14-6362f301d2d9",
   "metadata": {},
   "outputs": [
    {
     "data": {
      "text/html": [
       "<div>\n",
       "<style scoped>\n",
       "    .dataframe tbody tr th:only-of-type {\n",
       "        vertical-align: middle;\n",
       "    }\n",
       "\n",
       "    .dataframe tbody tr th {\n",
       "        vertical-align: top;\n",
       "    }\n",
       "\n",
       "    .dataframe thead th {\n",
       "        text-align: right;\n",
       "    }\n",
       "</style>\n",
       "<table border=\"1\" class=\"dataframe\">\n",
       "  <thead>\n",
       "    <tr style=\"text-align: right;\">\n",
       "      <th></th>\n",
       "      <th>plate</th>\n",
       "      <th>well</th>\n",
       "      <th>compound</th>\n",
       "      <th>C1</th>\n",
       "      <th>C2</th>\n",
       "      <th>C3</th>\n",
       "      <th>C4</th>\n",
       "      <th>C5</th>\n",
       "      <th>moa</th>\n",
       "    </tr>\n",
       "  </thead>\n",
       "  <tbody>\n",
       "    <tr>\n",
       "      <th>0</th>\n",
       "      <td>P015076</td>\n",
       "      <td>B04</td>\n",
       "      <td>CBK041257</td>\n",
       "      <td>/share/mikro/IMX/MDC_pharmbio/specs935-v1/spec...</td>\n",
       "      <td>/share/mikro/IMX/MDC_pharmbio/specs935-v1/spec...</td>\n",
       "      <td>/share/mikro/IMX/MDC_pharmbio/specs935-v1/spec...</td>\n",
       "      <td>/share/mikro/IMX/MDC_pharmbio/specs935-v1/spec...</td>\n",
       "      <td>/share/mikro/IMX/MDC_pharmbio/specs935-v1/spec...</td>\n",
       "      <td>cytochrome P450 inhibitor|SIRT activator</td>\n",
       "    </tr>\n",
       "    <tr>\n",
       "      <th>1</th>\n",
       "      <td>P015076</td>\n",
       "      <td>B04</td>\n",
       "      <td>CBK041257</td>\n",
       "      <td>/share/mikro/IMX/MDC_pharmbio/specs935-v1/spec...</td>\n",
       "      <td>/share/mikro/IMX/MDC_pharmbio/specs935-v1/spec...</td>\n",
       "      <td>/share/mikro/IMX/MDC_pharmbio/specs935-v1/spec...</td>\n",
       "      <td>/share/mikro/IMX/MDC_pharmbio/specs935-v1/spec...</td>\n",
       "      <td>/share/mikro/IMX/MDC_pharmbio/specs935-v1/spec...</td>\n",
       "      <td>cytochrome P450 inhibitor|SIRT activator</td>\n",
       "    </tr>\n",
       "    <tr>\n",
       "      <th>2</th>\n",
       "      <td>P015076</td>\n",
       "      <td>B04</td>\n",
       "      <td>CBK041257</td>\n",
       "      <td>/share/mikro/IMX/MDC_pharmbio/specs935-v1/spec...</td>\n",
       "      <td>/share/mikro/IMX/MDC_pharmbio/specs935-v1/spec...</td>\n",
       "      <td>/share/mikro/IMX/MDC_pharmbio/specs935-v1/spec...</td>\n",
       "      <td>/share/mikro/IMX/MDC_pharmbio/specs935-v1/spec...</td>\n",
       "      <td>/share/mikro/IMX/MDC_pharmbio/specs935-v1/spec...</td>\n",
       "      <td>cytochrome P450 inhibitor|SIRT activator</td>\n",
       "    </tr>\n",
       "  </tbody>\n",
       "</table>\n",
       "</div>"
      ],
      "text/plain": [
       "     plate well   compound                                                 C1  \\\n",
       "0  P015076  B04  CBK041257  /share/mikro/IMX/MDC_pharmbio/specs935-v1/spec...   \n",
       "1  P015076  B04  CBK041257  /share/mikro/IMX/MDC_pharmbio/specs935-v1/spec...   \n",
       "2  P015076  B04  CBK041257  /share/mikro/IMX/MDC_pharmbio/specs935-v1/spec...   \n",
       "\n",
       "                                                  C2  \\\n",
       "0  /share/mikro/IMX/MDC_pharmbio/specs935-v1/spec...   \n",
       "1  /share/mikro/IMX/MDC_pharmbio/specs935-v1/spec...   \n",
       "2  /share/mikro/IMX/MDC_pharmbio/specs935-v1/spec...   \n",
       "\n",
       "                                                  C3  \\\n",
       "0  /share/mikro/IMX/MDC_pharmbio/specs935-v1/spec...   \n",
       "1  /share/mikro/IMX/MDC_pharmbio/specs935-v1/spec...   \n",
       "2  /share/mikro/IMX/MDC_pharmbio/specs935-v1/spec...   \n",
       "\n",
       "                                                  C4  \\\n",
       "0  /share/mikro/IMX/MDC_pharmbio/specs935-v1/spec...   \n",
       "1  /share/mikro/IMX/MDC_pharmbio/specs935-v1/spec...   \n",
       "2  /share/mikro/IMX/MDC_pharmbio/specs935-v1/spec...   \n",
       "\n",
       "                                                  C5  \\\n",
       "0  /share/mikro/IMX/MDC_pharmbio/specs935-v1/spec...   \n",
       "1  /share/mikro/IMX/MDC_pharmbio/specs935-v1/spec...   \n",
       "2  /share/mikro/IMX/MDC_pharmbio/specs935-v1/spec...   \n",
       "\n",
       "                                        moa  \n",
       "0  cytochrome P450 inhibitor|SIRT activator  \n",
       "1  cytochrome P450 inhibitor|SIRT activator  \n",
       "2  cytochrome P450 inhibitor|SIRT activator  "
      ]
     },
     "execution_count": 13,
     "metadata": {},
     "output_type": "execute_result"
    }
   ],
   "source": [
    "paths_channels_v1v2.head(3)"
   ]
  },
  {
   "cell_type": "code",
   "execution_count": 15,
   "id": "c9cf3589-0cc9-4f9d-82ab-ffdf1f501ae2",
   "metadata": {},
   "outputs": [],
   "source": [
    "paths_channels_v1v2.to_csv('/home/jovyan/Tomics-CP-Chem-MoA/data_for_models/paths_to_channels_creation/paths_channels_v1v2.csv')"
   ]
  }
 ],
 "metadata": {
  "kernelspec": {
   "display_name": "Python 3",
   "language": "python",
   "name": "python3"
  },
  "language_info": {
   "codemirror_mode": {
    "name": "ipython",
    "version": 3
   },
   "file_extension": ".py",
   "mimetype": "text/x-python",
   "name": "python",
   "nbconvert_exporter": "python",
   "pygments_lexer": "ipython3",
   "version": "3.8.10"
  }
 },
 "nbformat": 4,
 "nbformat_minor": 5
}

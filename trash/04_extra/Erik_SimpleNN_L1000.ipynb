{
 "cells": [
  {
   "cell_type": "code",
   "execution_count": 2,
   "metadata": {},
   "outputs": [],
   "source": [
    "# Import Statements\n",
    "import pandas as pd\n",
    "import numpy as np\n",
    "import matplotlib.pyplot as plt\n",
    "from sklearn.model_selection import train_test_split # Functipn to split data into training, validation and test sets\n",
    "from sklearn.metrics import classification_report, confusion_matrix\n",
    "import pickle\n",
    "import glob   # The glob module finds all the pathnames matching a specified pattern according to the rules used by the Unix shell, although results are returned in arbitrary order. No tilde expansion is done, but *, ?, and character ranges expressed with [] will be correctly matched.\n",
    "import os   # miscellneous operating system interfaces. This module provides a portable way of using operating system dependent functionality. If you just want to read or write a file see open(), if you want to manipulate paths, see the os.path module, and if you want to read all the lines in all the files on the command line see the fileinput module.\n",
    "import random       \n",
    "from tqdm import tqdm \n",
    "from tqdm.notebook import tqdm_notebook\n",
    "import datetime\n",
    "import time\n",
    "from tabulate import tabulate\n",
    "\n",
    "# Torch\n",
    "import torch\n",
    "from torchvision import transforms\n",
    "import torchvision.models as models\n",
    "import torch.nn as nn\n",
    "import torchinfo\n",
    "import torch.nn.functional as F\n",
    "\n",
    "\n",
    "from sklearn.preprocessing import StandardScaler\n",
    "from sklearn.metrics import precision_recall_curve,log_loss\n",
    "from sklearn.metrics import average_precision_score,roc_auc_score\n",
    "import os\n",
    "import time\n",
    "from time import time\n",
    "import datetime\n",
    "import pandas as pd\n",
    "import numpy as np\n",
    "#from iterstrat.ml_stratifiers import MultilabelStratifiedKFold\n",
    "from skmultilearn.adapt import MLkNN\n",
    "\n",
    "# CMAP (extracting relevant transcriptomic profiles)\n",
    "from cmapPy.pandasGEXpress.parse import parse\n",
    "import cmapPy.pandasGEXpress.subset_gctoo as sg\n",
    "import seaborn as sns\n",
    "import matplotlib.pyplot as plt\n",
    "\n",
    "import datetime\n",
    "import time"
   ]
  },
  {
   "cell_type": "code",
   "execution_count": 3,
   "metadata": {},
   "outputs": [],
   "source": [
    "from ML_battery_L1000 import tprofiles_gc_too_func, extract_tprofile, load_train_valid_data"
   ]
  },
  {
   "cell_type": "code",
   "execution_count": 4,
   "metadata": {},
   "outputs": [],
   "source": [
    "using_cuda = True\n",
    "hidden_size = 1024"
   ]
  },
  {
   "cell_type": "code",
   "execution_count": 5,
   "metadata": {},
   "outputs": [],
   "source": [
    "# Downloading all relevant data frames and csv files ----------------------------------------------------------\n",
    "\n",
    "# clue column metadata with columns representing compounds in common with SPECs 1 & 2\n",
    "clue_sig_in_SPECS = pd.read_csv('/home/jovyan/Tomics-CP-Chem-MoA/04_Tomics_Models/init_data_expl/clue_sig_in_SPECS1&2.csv', delimiter = \",\")\n",
    "\n",
    "# clue row metadata with rows representing transcription levels of specific genes\n",
    "clue_gene = pd.read_csv('/home/jovyan/Tomics-CP-Chem-MoA/04_Tomics_Models/init_data_expl/clue_geneinfo_beta.txt', delimiter = \"\\t\")\n"
   ]
  },
  {
   "cell_type": "code",
   "execution_count": 6,
   "metadata": {},
   "outputs": [],
   "source": [
    "def splitting_into_tensor(df, num_classes):\n",
    "    '''Splitting data into two parts:\n",
    "    1. input : the pointer showing where the transcriptomic profile is  \n",
    "    2. target one hot : labels (the correct MoA) '''\n",
    "    \n",
    "    # one-hot encoding labels\n",
    "     # creating tensor from all_data.df\n",
    "    target = torch.tensor(df['moa'].values.astype(np.int64))\n",
    "\n",
    "    # For each row, take the index of the target label\n",
    "    # (which coincides with the score in our case) and use it as the column index to set the value 1.0.” \n",
    "    target_onehot = torch.zeros(target.shape[0], num_classes)\n",
    "    target_onehot.scatter_(1, target.unsqueeze(1), 1.0)\n",
    "    \n",
    "    input =  df.drop('moa', axis = 1)\n",
    "    \n",
    "    return input, target_onehot\n"
   ]
  },
  {
   "cell_type": "code",
   "execution_count": 7,
   "metadata": {},
   "outputs": [],
   "source": [
    "class Transcriptomic_Profiles(torch.utils.data.Dataset):\n",
    "    def __init__(self, labels, gc_too):\n",
    "        self.tprofile_labels = labels\n",
    "        self.profiles_gc_too = gc_too\n",
    "        \n",
    "    def __len__(self):\n",
    "        ''' The number of data points '''\n",
    "        return len(self.tprofile_labels)\n",
    "\n",
    "    def __getitem__(self, idx):\n",
    "        '''Retreiving the transcriptomic profile and label'''\n",
    "        t_profile = extract_tprofile(self.profiles_gc_too, idx)          # extract image from csv using index\n",
    "        t_profile = torch.tensor(t_profile)       # turn t profile into a floating torch tensor\n",
    "        label = self.tprofile_labels[idx]          # extract calssification using index\n",
    "        return torch.squeeze(t_profile), torch.squeeze(label) \n"
   ]
  },
  {
   "cell_type": "code",
   "execution_count": 8,
   "metadata": {},
   "outputs": [
    {
     "name": "stdout",
     "output_type": "stream",
     "text": [
      "Training on device cuda. \n"
     ]
    }
   ],
   "source": [
    "batch_size = 50\n",
    "WEIGHT_DECAY = 1e-5\n",
    "learning_rate = 5e-3 \n",
    "# parameters\n",
    "params = {'batch_size' : batch_size,\n",
    "         'num_workers' : 3,\n",
    "         'shuffle' : True,\n",
    "         'prefetch_factor' : 2} \n",
    "          \n",
    "if using_cuda:\n",
    "    device = (torch.device('cuda') if torch.cuda.is_available() else torch.device('cpu'))\n",
    "else:\n",
    "    device = torch.device('cpu')\n",
    "print(f'Training on device {device}. ' )\n"
   ]
  },
  {
   "cell_type": "code",
   "execution_count": null,
   "metadata": {},
   "outputs": [],
   "source": []
  },
  {
   "cell_type": "code",
   "execution_count": 9,
   "metadata": {},
   "outputs": [],
   "source": [
    "train_filename = 'L1000_training_set_cyclo_adr_2.csv'\n",
    "valid_filename = 'L1000_test_set_cyclo_adr_2.csv'\n",
    "L1000_training, L1000_validation = load_train_valid_data(train_filename, valid_filename)"
   ]
  },
  {
   "cell_type": "code",
   "execution_count": 10,
   "metadata": {},
   "outputs": [],
   "source": [
    "# shuffling training and validation data \n",
    "# May not be necessary given params\n",
    "L1000_training = L1000_training.sample(frac = 1, random_state = 1)\n",
    "L1000_validation = L1000_validation.sample(frac = 1, random_state = 1)"
   ]
  },
  {
   "cell_type": "code",
   "execution_count": 11,
   "metadata": {},
   "outputs": [
    {
     "data": {
      "text/html": [
       "<div>\n",
       "<style scoped>\n",
       "    .dataframe tbody tr th:only-of-type {\n",
       "        vertical-align: middle;\n",
       "    }\n",
       "\n",
       "    .dataframe tbody tr th {\n",
       "        vertical-align: top;\n",
       "    }\n",
       "\n",
       "    .dataframe thead th {\n",
       "        text-align: right;\n",
       "    }\n",
       "</style>\n",
       "<table border=\"1\" class=\"dataframe\">\n",
       "  <thead>\n",
       "    <tr style=\"text-align: right;\">\n",
       "      <th></th>\n",
       "      <th>Compound ID</th>\n",
       "      <th>sig_id</th>\n",
       "      <th>moa</th>\n",
       "    </tr>\n",
       "  </thead>\n",
       "  <tbody>\n",
       "    <tr>\n",
       "      <th>133</th>\n",
       "      <td>CBK004363</td>\n",
       "      <td>LCP001_MCF10A.KRAS.HG_24H:B10</td>\n",
       "      <td>0</td>\n",
       "    </tr>\n",
       "    <tr>\n",
       "      <th>349</th>\n",
       "      <td>CBK041382</td>\n",
       "      <td>CPC011_VCAP_6H:BRD-K10670311-001-12-2:10</td>\n",
       "      <td>0</td>\n",
       "    </tr>\n",
       "    <tr>\n",
       "      <th>1036</th>\n",
       "      <td>CBK041944</td>\n",
       "      <td>CPC018_PHH_24H:BRD-A03623303-045-05-3:10</td>\n",
       "      <td>1</td>\n",
       "    </tr>\n",
       "    <tr>\n",
       "      <th>268</th>\n",
       "      <td>CBK016153</td>\n",
       "      <td>CPC004_PC3_6H:BRD-K12513978-001-16-7:10</td>\n",
       "      <td>0</td>\n",
       "    </tr>\n",
       "    <tr>\n",
       "      <th>899</th>\n",
       "      <td>CBK290222</td>\n",
       "      <td>CPC016_NEU_24H:BRD-A87479750-001-01-9:10</td>\n",
       "      <td>0</td>\n",
       "    </tr>\n",
       "  </tbody>\n",
       "</table>\n",
       "</div>"
      ],
      "text/plain": [
       "     Compound ID                                    sig_id  moa\n",
       "133    CBK004363             LCP001_MCF10A.KRAS.HG_24H:B10    0\n",
       "349    CBK041382  CPC011_VCAP_6H:BRD-K10670311-001-12-2:10    0\n",
       "1036   CBK041944  CPC018_PHH_24H:BRD-A03623303-045-05-3:10    1\n",
       "268    CBK016153   CPC004_PC3_6H:BRD-K12513978-001-16-7:10    0\n",
       "899    CBK290222  CPC016_NEU_24H:BRD-A87479750-001-01-9:10    0"
      ]
     },
     "execution_count": 11,
     "metadata": {},
     "output_type": "execute_result"
    }
   ],
   "source": [
    "L1000_training.head()"
   ]
  },
  {
   "cell_type": "code",
   "execution_count": 12,
   "metadata": {},
   "outputs": [
    {
     "data": {
      "text/plain": [
       "0    894\n",
       "1    389\n",
       "Name: moa, dtype: int64"
      ]
     },
     "execution_count": 12,
     "metadata": {},
     "output_type": "execute_result"
    }
   ],
   "source": [
    "L1000_training[\"moa\"].value_counts()"
   ]
  },
  {
   "cell_type": "code",
   "execution_count": 13,
   "metadata": {},
   "outputs": [
    {
     "data": {
      "text/html": [
       "<div>\n",
       "<style scoped>\n",
       "    .dataframe tbody tr th:only-of-type {\n",
       "        vertical-align: middle;\n",
       "    }\n",
       "\n",
       "    .dataframe tbody tr th {\n",
       "        vertical-align: top;\n",
       "    }\n",
       "\n",
       "    .dataframe thead th {\n",
       "        text-align: right;\n",
       "    }\n",
       "</style>\n",
       "<table border=\"1\" class=\"dataframe\">\n",
       "  <thead>\n",
       "    <tr style=\"text-align: right;\">\n",
       "      <th></th>\n",
       "      <th>Compound ID</th>\n",
       "      <th>sig_id</th>\n",
       "      <th>moa</th>\n",
       "    </tr>\n",
       "  </thead>\n",
       "  <tbody>\n",
       "    <tr>\n",
       "      <th>358</th>\n",
       "      <td>CBK041406</td>\n",
       "      <td>CPC005_A549_24H:BRD-K46211610-003-15-0:10</td>\n",
       "      <td>1</td>\n",
       "    </tr>\n",
       "    <tr>\n",
       "      <th>164</th>\n",
       "      <td>CBK011617</td>\n",
       "      <td>LIVB001_HUH7_72H:B16</td>\n",
       "      <td>0</td>\n",
       "    </tr>\n",
       "    <tr>\n",
       "      <th>17</th>\n",
       "      <td>CBK290981</td>\n",
       "      <td>CPC006_CORL23_6H:BRD-K12994359-001-07-7:177.6</td>\n",
       "      <td>0</td>\n",
       "    </tr>\n",
       "    <tr>\n",
       "      <th>67</th>\n",
       "      <td>CBK290981</td>\n",
       "      <td>CPC006_NOMO1_6H:BRD-K12994359-001-07-7:177.6</td>\n",
       "      <td>0</td>\n",
       "    </tr>\n",
       "    <tr>\n",
       "      <th>4</th>\n",
       "      <td>CBK290981</td>\n",
       "      <td>CPC006_SW620_6H:H02</td>\n",
       "      <td>0</td>\n",
       "    </tr>\n",
       "  </tbody>\n",
       "</table>\n",
       "</div>"
      ],
      "text/plain": [
       "    Compound ID                                         sig_id  moa\n",
       "358   CBK041406      CPC005_A549_24H:BRD-K46211610-003-15-0:10    1\n",
       "164   CBK011617                           LIVB001_HUH7_72H:B16    0\n",
       "17    CBK290981  CPC006_CORL23_6H:BRD-K12994359-001-07-7:177.6    0\n",
       "67    CBK290981   CPC006_NOMO1_6H:BRD-K12994359-001-07-7:177.6    0\n",
       "4     CBK290981                            CPC006_SW620_6H:H02    0"
      ]
     },
     "execution_count": 13,
     "metadata": {},
     "output_type": "execute_result"
    }
   ],
   "source": [
    "L1000_validation.head()"
   ]
  },
  {
   "cell_type": "code",
   "execution_count": 14,
   "metadata": {},
   "outputs": [
    {
     "data": {
      "text/plain": [
       "0    290\n",
       "1    128\n",
       "Name: moa, dtype: int64"
      ]
     },
     "execution_count": 14,
     "metadata": {},
     "output_type": "execute_result"
    }
   ],
   "source": [
    "L1000_validation[\"moa\"].value_counts()"
   ]
  },
  {
   "cell_type": "code",
   "execution_count": null,
   "metadata": {},
   "outputs": [],
   "source": []
  },
  {
   "cell_type": "code",
   "execution_count": 15,
   "metadata": {},
   "outputs": [],
   "source": [
    "profiles_gc_too_train = tprofiles_gc_too_func(L1000_training, clue_gene)\n",
    "profiles_gc_too_valid = tprofiles_gc_too_func(L1000_validation, clue_gene)\n"
   ]
  },
  {
   "cell_type": "code",
   "execution_count": 16,
   "metadata": {},
   "outputs": [
    {
     "data": {
      "text/plain": [
       "Index(['Compound ID', 'sig_id', 'moa'], dtype='object')"
      ]
     },
     "execution_count": 16,
     "metadata": {},
     "output_type": "execute_result"
    }
   ],
   "source": [
    "L1000_training.columns"
   ]
  },
  {
   "cell_type": "code",
   "execution_count": 17,
   "metadata": {},
   "outputs": [
    {
     "data": {
      "text/plain": [
       "2"
      ]
     },
     "execution_count": 17,
     "metadata": {},
     "output_type": "execute_result"
    }
   ],
   "source": [
    "num_classes = len(L1000_training[\"moa\"].unique())\n",
    "num_classes"
   ]
  },
  {
   "cell_type": "code",
   "execution_count": 18,
   "metadata": {},
   "outputs": [],
   "source": [
    "# splitting\n",
    "input_df_val, labels_train = splitting_into_tensor(L1000_training, num_classes) \n",
    "input_df_val, labels_val = splitting_into_tensor(L1000_validation, num_classes) "
   ]
  },
  {
   "cell_type": "code",
   "execution_count": 19,
   "metadata": {},
   "outputs": [],
   "source": [
    "# generator: training\n",
    "# create a subset with only train indices\n",
    "\n",
    "# create generator that randomly takes indices from the training set\n",
    "training_dataset = Transcriptomic_Profiles(labels_train, profiles_gc_too_train)\n",
    "\n",
    "\n",
    "\n",
    "training_generator = torch.utils.data.DataLoader(training_dataset, **params)\n",
    "\n"
   ]
  },
  {
   "cell_type": "code",
   "execution_count": 20,
   "metadata": {},
   "outputs": [],
   "source": [
    "# generator: validation\n",
    "# create a subset with only valid indices\n",
    "\n",
    "# create generator that randomly takes indices from the validation set\n",
    "validation_dataset = Transcriptomic_Profiles(labels_val, profiles_gc_too_valid)\n",
    "\n",
    "\n",
    "\n",
    "validation_generator = torch.utils.data.DataLoader(validation_dataset, **params)\n",
    "\n"
   ]
  },
  {
   "cell_type": "code",
   "execution_count": 21,
   "metadata": {},
   "outputs": [],
   "source": [
    "train_profile, train_labels = next(iter(training_generator))\n",
    "\n"
   ]
  },
  {
   "cell_type": "code",
   "execution_count": 22,
   "metadata": {},
   "outputs": [
    {
     "data": {
      "text/plain": [
       "tensor([[ 0.2102, -0.6772, -0.5527,  ...,  0.6463, -0.6224, -1.0164],\n",
       "        [-0.9024,  2.0847,  0.0076,  ...,  0.3009,  0.1045, -0.2208],\n",
       "        [-5.4819, -2.3780,  0.8990,  ..., -0.7983,  0.0737, -0.9017],\n",
       "        ...,\n",
       "        [-0.0179,  0.2595, -0.1286,  ...,  0.6645,  0.0750,  0.0646],\n",
       "        [ 0.4010,  0.5181,  0.2431,  ...,  0.3165,  0.7806, -0.2596],\n",
       "        [-0.1564,  0.5546,  0.4146,  ...,  0.2178,  0.9820,  0.1740]])"
      ]
     },
     "execution_count": 22,
     "metadata": {},
     "output_type": "execute_result"
    }
   ],
   "source": [
    "train_profile"
   ]
  },
  {
   "cell_type": "code",
   "execution_count": null,
   "metadata": {},
   "outputs": [],
   "source": []
  },
  {
   "cell_type": "code",
   "execution_count": 23,
   "metadata": {},
   "outputs": [
    {
     "name": "stdout",
     "output_type": "stream",
     "text": [
      "profile: tensor([[ 0.2102, -0.6772, -0.5527,  ...,  0.6463, -0.6224, -1.0164],\n",
      "        [-0.9024,  2.0847,  0.0076,  ...,  0.3009,  0.1045, -0.2208],\n",
      "        [-5.4819, -2.3780,  0.8990,  ..., -0.7983,  0.0737, -0.9017],\n",
      "        ...,\n",
      "        [-0.0179,  0.2595, -0.1286,  ...,  0.6645,  0.0750,  0.0646],\n",
      "        [ 0.4010,  0.5181,  0.2431,  ...,  0.3165,  0.7806, -0.2596],\n",
      "        [-0.1564,  0.5546,  0.4146,  ...,  0.2178,  0.9820,  0.1740]]), train label: tensor([[0., 1.],\n",
      "        [1., 0.],\n",
      "        [0., 1.],\n",
      "        [1., 0.],\n",
      "        [1., 0.],\n",
      "        [0., 1.],\n",
      "        [0., 1.],\n",
      "        [1., 0.],\n",
      "        [1., 0.],\n",
      "        [1., 0.],\n",
      "        [0., 1.],\n",
      "        [0., 1.],\n",
      "        [0., 1.],\n",
      "        [0., 1.],\n",
      "        [0., 1.],\n",
      "        [1., 0.],\n",
      "        [1., 0.],\n",
      "        [1., 0.],\n",
      "        [0., 1.],\n",
      "        [0., 1.],\n",
      "        [0., 1.],\n",
      "        [0., 1.],\n",
      "        [1., 0.],\n",
      "        [0., 1.],\n",
      "        [0., 1.],\n",
      "        [1., 0.],\n",
      "        [1., 0.],\n",
      "        [1., 0.],\n",
      "        [1., 0.],\n",
      "        [0., 1.],\n",
      "        [0., 1.],\n",
      "        [1., 0.],\n",
      "        [1., 0.],\n",
      "        [0., 1.],\n",
      "        [1., 0.],\n",
      "        [1., 0.],\n",
      "        [1., 0.],\n",
      "        [1., 0.],\n",
      "        [1., 0.],\n",
      "        [1., 0.],\n",
      "        [1., 0.],\n",
      "        [0., 1.],\n",
      "        [1., 0.],\n",
      "        [1., 0.],\n",
      "        [1., 0.],\n",
      "        [1., 0.],\n",
      "        [1., 0.],\n",
      "        [1., 0.],\n",
      "        [1., 0.],\n",
      "        [0., 1.]])\n"
     ]
    }
   ],
   "source": [
    "print(f'profile: {train_profile}, train label: {train_labels}')"
   ]
  },
  {
   "cell_type": "code",
   "execution_count": 24,
   "metadata": {},
   "outputs": [
    {
     "data": {
      "text/plain": [
       "978"
      ]
     },
     "execution_count": 24,
     "metadata": {},
     "output_type": "execute_result"
    }
   ],
   "source": [
    "train_profile.shape[1]"
   ]
  },
  {
   "cell_type": "code",
   "execution_count": 25,
   "metadata": {},
   "outputs": [],
   "source": [
    "valid_profile, valid_labels = next(iter(validation_generator))"
   ]
  },
  {
   "cell_type": "code",
   "execution_count": 26,
   "metadata": {},
   "outputs": [
    {
     "name": "stdout",
     "output_type": "stream",
     "text": [
      "profile: tensor([[ 0.1450, -0.5532, -1.0051,  ...,  2.0738,  0.4996, -0.1193],\n",
      "        [-0.8692,  0.8690,  1.6033,  ...,  0.5633,  0.9441, -0.0739],\n",
      "        [-2.0174,  0.2177,  0.1947,  ..., -0.0871, -0.0122, -1.9245],\n",
      "        ...,\n",
      "        [ 0.1068,  0.4535,  0.3614,  ..., -0.8379,  0.3471,  0.6554],\n",
      "        [ 0.6692,  1.0530, -0.0680,  ...,  1.1166, -0.2148,  1.5593],\n",
      "        [-0.4435,  1.1193,  1.4305,  ...,  1.4778,  1.5503, -0.3528]]), train label: tensor([[1., 0.],\n",
      "        [1., 0.],\n",
      "        [1., 0.],\n",
      "        [0., 1.],\n",
      "        [0., 1.],\n",
      "        [0., 1.],\n",
      "        [1., 0.],\n",
      "        [0., 1.],\n",
      "        [1., 0.],\n",
      "        [1., 0.],\n",
      "        [0., 1.],\n",
      "        [1., 0.],\n",
      "        [1., 0.],\n",
      "        [0., 1.],\n",
      "        [1., 0.],\n",
      "        [1., 0.],\n",
      "        [1., 0.],\n",
      "        [0., 1.],\n",
      "        [0., 1.],\n",
      "        [1., 0.],\n",
      "        [0., 1.],\n",
      "        [1., 0.],\n",
      "        [0., 1.],\n",
      "        [0., 1.],\n",
      "        [0., 1.],\n",
      "        [1., 0.],\n",
      "        [1., 0.],\n",
      "        [1., 0.],\n",
      "        [0., 1.],\n",
      "        [1., 0.],\n",
      "        [1., 0.],\n",
      "        [0., 1.],\n",
      "        [1., 0.],\n",
      "        [1., 0.],\n",
      "        [1., 0.],\n",
      "        [1., 0.],\n",
      "        [1., 0.],\n",
      "        [1., 0.],\n",
      "        [1., 0.],\n",
      "        [1., 0.],\n",
      "        [1., 0.],\n",
      "        [0., 1.],\n",
      "        [0., 1.],\n",
      "        [1., 0.],\n",
      "        [1., 0.],\n",
      "        [1., 0.],\n",
      "        [1., 0.],\n",
      "        [0., 1.],\n",
      "        [0., 1.],\n",
      "        [1., 0.]])\n"
     ]
    }
   ],
   "source": [
    "print(f'profile: {valid_profile}, train label: {valid_labels}')"
   ]
  },
  {
   "cell_type": "code",
   "execution_count": 27,
   "metadata": {},
   "outputs": [],
   "source": [
    "class SimpleNN_Model(nn.Module):\n",
    "    \"\"\"\n",
    "    Simple 3-Layer FeedForward Neural Network\n",
    "    \n",
    "    For more info: https://github.com/guitarmind/kaggle_moa_winner_hungry_for_gold\\\n",
    "    /blob/main/final/Best%20LB/Training/3-stagenn-train.ipynb\n",
    "    \"\"\"\n",
    "    def __init__(self, num_features = None, num_targets = None, hidden_size = None):\n",
    "        super(SimpleNN_Model, self).__init__()\n",
    "        self.batch_norm1 = nn.BatchNorm1d(num_features)\n",
    "        self.dropout1 = nn.Dropout(0.25)\n",
    "        self.dense1 = nn.utils.weight_norm(nn.Linear(num_features, hidden_size))\n",
    "        \n",
    "        self.batch_norm2 = nn.BatchNorm1d(hidden_size)\n",
    "        self.dropout2 = nn.Dropout(0.3)\n",
    "        self.dense2 = nn.Linear(hidden_size, hidden_size)\n",
    "        \n",
    "        self.batch_norm3 = nn.BatchNorm1d(hidden_size)\n",
    "        self.dropout3 = nn.Dropout(0.3)\n",
    "        self.dense3 = nn.utils.weight_norm(nn.Linear(hidden_size, num_targets))\n",
    "    \n",
    "    def forward(self, x):\n",
    "        x = self.batch_norm1(x)\n",
    "        x = self.dropout1(x)\n",
    "        x = F.leaky_relu(self.dense1(x))\n",
    "        \n",
    "        x = self.batch_norm2(x)\n",
    "        x = self.dropout2(x)\n",
    "        x = F.leaky_relu(self.dense2(x))\n",
    "        \n",
    "        x = self.batch_norm3(x)\n",
    "        x = self.dropout3(x)\n",
    "        x = self.dense3(x)\n",
    "        \n",
    "        return x"
   ]
  },
  {
   "cell_type": "code",
   "execution_count": 28,
   "metadata": {},
   "outputs": [],
   "source": [
    "model = SimpleNN_Model(num_features = train_profile.shape[1], num_targets= num_classes, hidden_size= hidden_size)\n",
    "optimizer = torch.optim.Adam(model.parameters(),  weight_decay=WEIGHT_DECAY, lr=learning_rate)\n",
    "loss_fn = torch.nn.BCEWithLogitsLoss()\n"
   ]
  },
  {
   "cell_type": "code",
   "execution_count": 29,
   "metadata": {},
   "outputs": [
    {
     "name": "stdout",
     "output_type": "stream",
     "text": [
      "Begin Training\n"
     ]
    }
   ],
   "source": [
    "# ----------------------------------------- hyperparameters ---------------------------------------#\n",
    "# Hyperparameters\n",
    "testing = False # decides if we take a subset of the data\n",
    "max_epochs = 50 # number of epochs we are going to run \n",
    "# apply_class_weights = True # weight the classes based on number of compounds\n",
    "using_cuda = True # to use available GPUs\n",
    "world_size = torch.cuda.device_count()\n",
    "\n",
    "#----------------------------------------- pre-processing -----------------------------------------#\n",
    "start = time.time()\n",
    "now = datetime.datetime.now()\n",
    "now = now.strftime(\"%d_%m_%Y-%H:%M:%S\")\n",
    "print(\"Begin Training\")"
   ]
  },
  {
   "cell_type": "code",
   "execution_count": 30,
   "metadata": {},
   "outputs": [],
   "source": [
    "# --------------------------Function to perform training, validation, testing, and assessment ------------------\n",
    "\n",
    "\n",
    "def training_loop(n_epochs, optimizer, model, loss_fn, train_loader, valid_loader):\n",
    "    '''\n",
    "    n_epochs: number of epochs \n",
    "    optimizer: optimizer used to do backpropagation\n",
    "    model: deep learning architecture\n",
    "    loss_fn: loss function\n",
    "    train_loader: generator creating batches of training data\n",
    "    valid_loader: generator creating batches of validation data\n",
    "    '''\n",
    "    # lists keep track of loss and accuracy for training and validation set\n",
    "    model = model.to(device)\n",
    "    train_loss_per_epoch = []\n",
    "    train_acc_per_epoch = []\n",
    "    val_loss_per_epoch = []\n",
    "    val_acc_per_epoch = []\n",
    "    best_val_loss = np.inf\n",
    "    for epoch in tqdm(range(1, max_epochs +1), desc = \"Epoch\", position=0, leave= True):\n",
    "        loss_train = 0.0\n",
    "        train_total = 0\n",
    "        train_correct = 0\n",
    "        for tprofiles, labels in train_loader:\n",
    "            optimizer.zero_grad()\n",
    "            # put model, images, labels on the same device\n",
    "            tprofiles = tprofiles.to(device = device)\n",
    "            labels = labels.to(device= device)\n",
    "            # Training Model\n",
    "            outputs = model(tprofiles)\n",
    "            #print(f' Outputs : {outputs}') # tensor with 10 elements\n",
    "            #print(f' Labels : {labels}') # tensor that is a number\n",
    "            loss = loss_fn(outputs,labels)\n",
    "            # For L2 regularization\n",
    "            #l2_lambda = 0.000001\n",
    "            #l2_norm = sum(p.pow(2.0).sum() for p in model.parameters())\n",
    "            #loss = loss + l2_lambda * l2_norm\n",
    "            # Update weights\n",
    "            loss.backward()\n",
    "            optimizer.step()\n",
    "            # Training Metrics\n",
    "            loss_train += loss.item()\n",
    "            #print(f' loss: {loss.item()}')\n",
    "            train_predicted = torch.argmax(outputs, 1)\n",
    "            #print(f' train_predicted {train_predicted}')\n",
    "            # NEW\n",
    "            labels = torch.argmax(labels,1)\n",
    "            #print(labels)\n",
    "            train_total += labels.shape[0]\n",
    "            train_correct += int((train_predicted == labels).sum())\n",
    "        # validation metrics from batch\n",
    "        val_correct, val_total, val_loss, best_val_loss_upd = validation_loop(model, loss_fn, valid_loader, best_val_loss)\n",
    "        best_val_loss = best_val_loss_upd\n",
    "        val_accuracy = val_correct/val_total\n",
    "        # printing results for epoch\n",
    "        if epoch == 1 or epoch %5 == 0:\n",
    "            print(f' {datetime.datetime.now()} Epoch: {epoch}, Training loss: {loss_train/len(train_loader)}, Validation Loss: {val_loss} ')\n",
    "        # adding epoch loss, accuracy to lists \n",
    "        val_loss_per_epoch.append(val_loss)\n",
    "        train_loss_per_epoch.append(loss_train/len(train_loader))\n",
    "        val_acc_per_epoch.append(val_accuracy)\n",
    "        train_acc_per_epoch.append(train_correct/train_total)\n",
    "    # return lists with loss, accuracy every epoch\n",
    "    return train_loss_per_epoch, train_acc_per_epoch, val_loss_per_epoch, val_acc_per_epoch\n",
    "                                \n",
    "\n",
    "def validation_loop(model, loss_fn, valid_loader, best_val_loss):\n",
    "    '''\n",
    "    Assessing trained model on valiidation dataset \n",
    "    model: deep learning architecture getting updated by model\n",
    "    loss_fn: loss function\n",
    "    valid_loader: generator creating batches of validation data\n",
    "    '''\n",
    "    model = model.to(device)\n",
    "    model.eval()\n",
    "    loss_val = 0.0\n",
    "    correct = 0\n",
    "    total = 0\n",
    "    with torch.no_grad():  # does not keep track of gradients so as to not train on validation data.\n",
    "        for tprofiles, labels in valid_loader:\n",
    "            # Move to device MAY NOT BE NECESSARY\n",
    "            tprofiles = tprofiles.to(device = device)\n",
    "            labels = labels.to(device= device)\n",
    "            # Assessing outputs\n",
    "            outputs = model(tprofiles)\n",
    "            loss = loss_fn(outputs,labels)\n",
    "            loss_val += loss.item()\n",
    "            predicted = torch.argmax(outputs, 1)\n",
    "            labels = torch.argmax(labels,1)\n",
    "            total += labels.shape[0]\n",
    "            correct += int((predicted == labels).sum())\n",
    "        avg_val_loss = loss_val/len(valid_loader)  # average loss over batch\n",
    "        if best_val_loss > avg_val_loss:\n",
    "            best_val_loss = avg_val_loss\n",
    "            torch.save(\n",
    "                {\n",
    "                    'model_state_dict' : model.state_dict(),\n",
    "                    'valid_loss' : loss_val\n",
    "            },  '/home/jovyan/Tomics-CP-Chem-MoA/04_Tomics_Models/Best_Tomics_Model/saved_models' +'/' + 'Tomics_SimpleNN'\n",
    "            )\n",
    "    model.train()\n",
    "    return correct, total, avg_val_loss, best_val_loss\n",
    "\n",
    "#---------------------------------------- Visual Assessment ---------------------------------# \n",
    "\n",
    "def val_vs_train_loss(epochs, train_loss, val_loss):\n",
    "    ''' \n",
    "    Plotting validation versus training loss over time\n",
    "    epochs: number of epochs that the model ran (int. hyperparameter)\n",
    "    train_loss: training loss per epoch (python list)\n",
    "    val_loss: validation loss per epoch (python list)\n",
    "    ''' \n",
    "    loss_path_to_save = '/home/jovyan/Tomics-CP-Chem-MoA/04_Tomics_Models/Best_Tomics_Model/saved_images'\n",
    "    plt.figure()\n",
    "    x_axis = list(range(1, epochs +1)) # create x axis with number of\n",
    "    plt.plot(x_axis, train_loss, label = \"train_loss\")\n",
    "    plt.plot(x_axis, val_loss, label = \"val_loss\")\n",
    "    # Figure description\n",
    "    plt.xlabel('# of Epochs')\n",
    "    plt.ylabel('Loss')\n",
    "    plt.title('Validation versus Training Loss: Tomics SimpleNN Model')\n",
    "    plt.legend()\n",
    "    # plot\n",
    "    plt.savefig(loss_path_to_save + '/' + 'loss_train_val_simpleNN' + now)\n",
    "\n",
    "\n",
    "def val_vs_train_accuracy(epochs, train_acc, val_acc):\n",
    "    '''\n",
    "    Plotting validation versus training loss over time\n",
    "    epochs: number of epochs that the model ran (int. hyperparameter)\n",
    "    train_acc: accuracy loss per epoch (python list)\n",
    "    val_acc: accuracy loss per epoch (python list)\n",
    "    '''\n",
    "    acc_path_to_save = '/home/jovyan/Tomics-CP-Chem-MoA/04_Tomics_Models/Best_Tomics_Model/saved_images'\n",
    "    plt.figure()\n",
    "    x_axis = list(range(1, epochs +1)) # create x axis with number of\n",
    "    plt.plot(x_axis, train_acc, label = \"train_acc\")\n",
    "    plt.plot(x_axis, val_acc, label = \"val_acc\")\n",
    "    # Figure description\n",
    "    plt.xlabel('# of Epochs')\n",
    "    plt.ylabel('Accuracy')\n",
    "    plt.title('Validation versus Training Accuracy: Tomics SimpleNN Model')\n",
    "    plt.legend()\n",
    "    # plot\n",
    "    plt.savefig(acc_path_to_save + '/' + 'acc_train_val_simpleNN' + now)\n",
    "\n"
   ]
  },
  {
   "cell_type": "code",
   "execution_count": 33,
   "metadata": {},
   "outputs": [
    {
     "name": "stderr",
     "output_type": "stream",
     "text": [
      "Epoch:   2%|▏         | 1/50 [00:02<02:16,  2.79s/it]"
     ]
    },
    {
     "name": "stdout",
     "output_type": "stream",
     "text": [
      " 2023-01-26 10:29:35.131949 Epoch: 1, Training loss: 1.8633783260981243, Validation Loss: 0.046285590586753994 \n"
     ]
    },
    {
     "name": "stderr",
     "output_type": "stream",
     "text": [
      "Epoch:  10%|█         | 5/50 [00:14<02:06,  2.80s/it]"
     ]
    },
    {
     "name": "stdout",
     "output_type": "stream",
     "text": [
      " 2023-01-26 10:29:46.361838 Epoch: 5, Training loss: 0.22218404875861275, Validation Loss: 0.32060902279156905 \n"
     ]
    },
    {
     "name": "stderr",
     "output_type": "stream",
     "text": [
      "Epoch:  20%|██        | 10/50 [00:27<01:51,  2.78s/it]"
     ]
    },
    {
     "name": "stdout",
     "output_type": "stream",
     "text": [
      " 2023-01-26 10:30:00.235836 Epoch: 10, Training loss: 0.06421460087100665, Validation Loss: 0.32533287457548654 \n"
     ]
    },
    {
     "name": "stderr",
     "output_type": "stream",
     "text": [
      "Epoch:  30%|███       | 15/50 [00:42<01:38,  2.83s/it]"
     ]
    },
    {
     "name": "stdout",
     "output_type": "stream",
     "text": [
      " 2023-01-26 10:30:14.367351 Epoch: 15, Training loss: 0.048771308890233435, Validation Loss: 0.47089989254107845 \n"
     ]
    },
    {
     "name": "stderr",
     "output_type": "stream",
     "text": [
      "Epoch:  40%|████      | 20/50 [00:55<01:22,  2.76s/it]"
     ]
    },
    {
     "name": "stdout",
     "output_type": "stream",
     "text": [
      " 2023-01-26 10:30:28.103569 Epoch: 20, Training loss: 0.02934030702130662, Validation Loss: 0.42673947604802936 \n"
     ]
    },
    {
     "name": "stderr",
     "output_type": "stream",
     "text": [
      "Epoch:  50%|█████     | 25/50 [01:09<01:08,  2.76s/it]"
     ]
    },
    {
     "name": "stdout",
     "output_type": "stream",
     "text": [
      " 2023-01-26 10:30:41.953078 Epoch: 25, Training loss: 0.023035837182154257, Validation Loss: 0.5894661797926977 \n"
     ]
    },
    {
     "name": "stderr",
     "output_type": "stream",
     "text": [
      "Epoch:  60%|██████    | 30/50 [01:23<00:54,  2.72s/it]"
     ]
    },
    {
     "name": "stdout",
     "output_type": "stream",
     "text": [
      " 2023-01-26 10:30:55.506112 Epoch: 30, Training loss: 0.051390350692802005, Validation Loss: 0.6633964169483918 \n"
     ]
    },
    {
     "name": "stderr",
     "output_type": "stream",
     "text": [
      "Epoch:  70%|███████   | 35/50 [01:37<00:41,  2.76s/it]"
     ]
    },
    {
     "name": "stdout",
     "output_type": "stream",
     "text": [
      " 2023-01-26 10:31:09.353373 Epoch: 35, Training loss: 0.021013858158969216, Validation Loss: 0.6165892120737296 \n"
     ]
    },
    {
     "name": "stderr",
     "output_type": "stream",
     "text": [
      "Epoch:  80%|████████  | 40/50 [01:50<00:27,  2.75s/it]"
     ]
    },
    {
     "name": "stdout",
     "output_type": "stream",
     "text": [
      " 2023-01-26 10:31:23.026057 Epoch: 40, Training loss: 0.02510971912286348, Validation Loss: 0.6641331509901927 \n"
     ]
    },
    {
     "name": "stderr",
     "output_type": "stream",
     "text": [
      "Epoch:  90%|█████████ | 45/50 [02:04<00:13,  2.74s/it]"
     ]
    },
    {
     "name": "stdout",
     "output_type": "stream",
     "text": [
      " 2023-01-26 10:31:36.760036 Epoch: 45, Training loss: 0.038094143021023937, Validation Loss: 0.7024673773692205 \n"
     ]
    },
    {
     "name": "stderr",
     "output_type": "stream",
     "text": [
      "Epoch: 100%|██████████| 50/50 [02:18<00:00,  2.76s/it]"
     ]
    },
    {
     "name": "stdout",
     "output_type": "stream",
     "text": [
      " 2023-01-26 10:31:50.503986 Epoch: 50, Training loss: 0.022983290099849302, Validation Loss: 0.7767477665956204 \n"
     ]
    },
    {
     "name": "stderr",
     "output_type": "stream",
     "text": [
      "\n"
     ]
    }
   ],
   "source": [
    "train_loss_per_epoch, train_acc_per_epoch, val_loss_per_epoch, val_acc_per_epoch = training_loop(n_epochs = max_epochs,\n",
    "              optimizer = optimizer,\n",
    "              model = model,\n",
    "              loss_fn = loss_fn,\n",
    "              train_loader=validation_generator, \n",
    "              valid_loader=training_generator)"
   ]
  },
  {
   "cell_type": "code",
   "execution_count": 34,
   "metadata": {},
   "outputs": [
    {
     "name": "stdout",
     "output_type": "stream",
     "text": [
      "1644.87\n",
      "╒═════════════════════╤════════════════════════╕\n",
      "│ Time to Run Program │ 27.414499999999997 min │\n",
      "╘═════════════════════╧════════════════════════╛\n"
     ]
    },
    {
     "data": {
      "image/png": "[encoded data removed]",
      "text/plain": [
       "<Figure size 432x288 with 1 Axes>"
      ]
     },
     "metadata": {
      "needs_background": "light"
     },
     "output_type": "display_data"
    },
    {
     "data": {
      "image/png": "[encoded data removed]",
      "text/plain": [
       "<Figure size 432x288 with 1 Axes>"
      ]
     },
     "metadata": {
      "needs_background": "light"
     },
     "output_type": "display_data"
    }
   ],
   "source": [
    "val_vs_train_loss(max_epochs,train_loss_per_epoch, val_loss_per_epoch)\n",
    "val_vs_train_accuracy(max_epochs, train_acc_per_epoch, val_acc_per_epoch)\n",
    "\n",
    "#-------------------------------- Writing interesting info into terminal ------------------------# \n",
    "\n",
    "end = time.time()\n",
    "def program_elapsed_time(start, end):\n",
    "    program_time = round(end - start, 2) \n",
    "    print(program_time)\n",
    "    if program_time > float(60) and program_time < 60*60:\n",
    "        program_time =  program_time/60\n",
    "        time_elapsed = str(program_time) + ' min'\n",
    "    elif program_time > 60*60:\n",
    "        program_time = program_time/3600\n",
    "        time_elapsed = str(program_time) + ' hrs'\n",
    "    else:\n",
    "        time_elapsed = str(program_time) + ' sec'\n",
    "    return time_elapsed\n",
    "program_elapsed_time = program_elapsed_time(start, end)\n",
    "\n",
    "#test_set_acc = f' {round(correct/total*100, 2)} %'\n",
    "table = [[\"Time to Run Program\", program_elapsed_time]]\n",
    "#['Accuracy of Test Set', test_set_acc]]\n",
    "print(tabulate(table, tablefmt='fancy_grid'))\n",
    "\n"
   ]
  },
  {
   "cell_type": "code",
   "execution_count": null,
   "metadata": {},
   "outputs": [],
   "source": []
  }
 ],
 "metadata": {
  "kernelspec": {
   "display_name": "Python 3",
   "language": "python",
   "name": "python3"
  },
  "language_info": {
   "codemirror_mode": {
    "name": "ipython",
    "version": 3
   },
   "file_extension": ".py",
   "mimetype": "text/x-python",
   "name": "python",
   "nbconvert_exporter": "python",
   "pygments_lexer": "ipython3",
   "version": "3.6.9"
  }
 },
 "nbformat": 4,
 "nbformat_minor": 4
}

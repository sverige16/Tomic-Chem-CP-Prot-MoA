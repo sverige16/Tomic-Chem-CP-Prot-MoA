{
 "cells": [
  {
   "cell_type": "code",
   "execution_count": null,
   "metadata": {
    "id": "O9GYJo2v9Zu9"
   },
   "outputs": [],
   "source": [
    "# read the SMILES-MoA data  \n",
    "import pandas as pd\n",
    "df = pd.read_csv('top_20_MOAs.txt', sep = '\\t')"
   ]
  },
  {
   "cell_type": "code",
   "execution_count": null,
   "metadata": {
    "id": "17c5-JuGBwb0"
   },
   "outputs": [],
   "source": [
    "# change 20 MoAs to classes \n",
    "MOA_class_dictionary = {'EGFR inhibitor': 8,\n",
    " 'HDAC inhibitor': 16,\n",
    " 'PI3K inhibitor': 13,\n",
    " 'acetylcholine receptor agonist': 1,\n",
    " 'acetylcholine receptor antagonist': 4,\n",
    " 'adrenergic receptor agonist': 18,\n",
    " 'adrenergic receptor antagonist': 15,\n",
    " 'bacterial cell wall synthesis inhibitor': 14,\n",
    " 'benzodiazepine receptor agonist': 10,\n",
    " 'calcium channel blocker': 5,\n",
    " 'cyclooxygenase inhibitor': 6,\n",
    " 'dopamine receptor antagonist': 12,\n",
    " 'glucocorticoid receptor agonist': 9,\n",
    " 'glutamate receptor antagonist': 19,\n",
    " 'histamine receptor antagonist': 17,\n",
    " 'phosphodiesterase inhibitor': 3,\n",
    " 'serotonin receptor agonist': 7,\n",
    " 'serotonin receptor antagonist': 2,\n",
    " 'sodium channel blocker': 11,\n",
    " 'topoisomerase inhibitor': 0}"
   ]
  },
  {
   "cell_type": "code",
   "execution_count": null,
   "metadata": {
    "id": "lF5D5wb6CRCn"
   },
   "outputs": [],
   "source": [
    "# add classes column \n",
    "df['classes'] = None\n",
    "for i in range(df.shape[0]):\n",
    "  df.iloc[i,2] = MOA_class_dictionary[df.iloc[i,1]]"
   ]
  },
  {
   "cell_type": "code",
   "execution_count": null,
   "metadata": {
    "id": "RfbsXXcT_sb7"
   },
   "outputs": [],
   "source": [
    "import rdkit\n",
    "import numpy as np\n",
    "from rdkit import *\n",
    "from rdkit import Chem, DataStructs\n",
    "from rdkit.Chem import AllChem"
   ]
  },
  {
   "cell_type": "code",
   "execution_count": null,
   "metadata": {
    "id": "xowg0CstLlC-"
   },
   "outputs": [],
   "source": [
    "# Split out the test set  \n",
    "from sklearn.model_selection import train_test_split\n",
    "x_train_valid, x_test, y_train_valid, y_test = train_test_split(df.SMILES, df.classes, test_size =10/100,\n",
    " stratify = df.classes, shuffle = True, random_state = 1000)"
   ]
  },
  {
   "cell_type": "code",
   "execution_count": null,
   "metadata": {
    "id": "BLlcRhSeU6xW"
   },
   "outputs": [],
   "source": [
    "# kfold\n",
    "from sklearn.model_selection import StratifiedKFold\n",
    "skf = StratifiedKFold(n_splits = 9)\n",
    "skf.get_n_splits(np.array(list(x_train_valid)), np.array(list(y_train_valid)))\n",
    "train_index_list = []\n",
    "valid_index_list = []\n",
    "for train_index, valid_index in skf.split(np.array(list(x_train_valid)), np.array(list(y_train_valid))):\n",
    "  train_index_list.append(train_index)\n",
    "  valid_index_list.append(valid_index)"
   ]
  },
  {
   "cell_type": "code",
   "execution_count": null,
   "metadata": {
    "id": "aOFIJo5MEMT0"
   },
   "outputs": [],
   "source": [
    "number_of_kfold = 6 # change the number from 0-8 to get 9 shuffles\n",
    "x_train = list(np.array(list(x_train_valid))[train_index_list[ number_of_kfold ]])\n",
    "x_valid = list(np.array(list(x_train_valid))[valid_index_list[ number_of_kfold ]])\n",
    "y_train = list(np.array(list(y_train_valid))[train_index_list[ number_of_kfold ]])\n",
    "y_valid = list(np.array(list(y_train_valid))[valid_index_list[ number_of_kfold ]])\n",
    "x_test = list(x_test)\n",
    "y_test = list(y_test)"
   ]
  },
  {
   "cell_type": "code",
   "execution_count": null,
   "metadata": {
    "id": "L0OPr-gtR8sj"
   },
   "outputs": [],
   "source": [
    "# turn to cannoical  smiles\n",
    "x_train = [Chem.MolToSmiles(Chem.MolFromSmiles(smi),True) for smi in x_train]\n",
    "x_valid = [Chem.MolToSmiles(Chem.MolFromSmiles(smi),True) for smi in x_valid]\n",
    "x_test = [Chem.MolToSmiles(Chem.MolFromSmiles(smi),True) for smi in x_test]"
   ]
  },
  {
   "cell_type": "code",
   "execution_count": null,
   "metadata": {
    "id": "ZB4WWi8wKB59"
   },
   "outputs": [],
   "source": [
    "def smiles_to_array(smiles):\n",
    "  molecules = Chem.MolFromSmiles(smiles) \n",
    "  fingerprints = AllChem.GetMorganFingerprintAsBitVect(molecules, 2)\n",
    "  x_array = []\n",
    "  arrays = np.zeros(0,)\n",
    "  DataStructs.ConvertToNumpyArray(fingerprints, arrays)\n",
    "  x_array.append(arrays)\n",
    "  x_array = np.asarray(x_array)\n",
    "  x_array = ((np.squeeze(x_array)).astype(int)) \n",
    "  return x_array"
   ]
  },
  {
   "cell_type": "code",
   "execution_count": null,
   "metadata": {
    "id": "a6Fy6iGdLSVP"
   },
   "outputs": [],
   "source": [
    "# get the training set \n",
    "train_x = np.zeros((len(x_train), 2048), dtype = np.float32)\n",
    "for f in range(train_x.shape[0]):\n",
    "  train_x[f] = smiles_to_array(x_train[f])"
   ]
  },
  {
   "cell_type": "code",
   "execution_count": null,
   "metadata": {
    "id": "dKhQc7EOKHMM"
   },
   "outputs": [],
   "source": [
    "# get the validation set \n",
    "valid_x = np.zeros((len(x_valid), 2048), dtype = np.float32)\n",
    "for f in range(valid_x.shape[0]):\n",
    "  valid_x[f] = smiles_to_array(x_valid[f])"
   ]
  },
  {
   "cell_type": "code",
   "execution_count": null,
   "metadata": {
    "id": "eSJBpQREMRYr"
   },
   "outputs": [],
   "source": [
    "# get the test set \n",
    "test_x = np.zeros((len(x_test), 2048), dtype = np.float32)\n",
    "for f in range(test_x.shape[0]):\n",
    "  test_x[f] = smiles_to_array(x_test[f])"
   ]
  },
  {
   "cell_type": "code",
   "execution_count": null,
   "metadata": {
    "id": "557ApFkFa6j7"
   },
   "outputs": [],
   "source": [
    "y_train = np.array(y_train).astype(int)\n",
    "y_valid = np.array(y_valid).astype(int)\n",
    "y_test = np.array(y_test).astype(int)"
   ]
  },
  {
   "cell_type": "code",
   "execution_count": null,
   "metadata": {
    "id": "KlcQEfe9M-VV"
   },
   "outputs": [],
   "source": [
    "# Create class weights\n",
    "from sklearn.utils import class_weight\n",
    "y_unique = np.unique(np.array(y_train))\n",
    "class_weights = class_weight.compute_class_weight(class_weight = 'balanced', classes = y_unique,\n",
    "                y = np.array(y_train)) \n",
    "class_weights_dict45 = dict(enumerate(class_weights))"
   ]
  },
  {
   "cell_type": "code",
   "execution_count": null,
   "metadata": {
    "id": "OXXeIq_4i8-3"
   },
   "outputs": [],
   "source": [
    "from sklearn.ensemble import RandomForestClassifier, AdaBoostClassifier, GradientBoostingClassifier, ExtraTreesClassifier, VotingClassifier\n",
    "from sklearn.metrics import classification_report"
   ]
  },
  {
   "cell_type": "code",
   "execution_count": null,
   "metadata": {
    "id": "2kuvAGR_i9BG"
   },
   "outputs": [],
   "source": [
    "assert list(y_test[0:5]) == [14, 12, 6, 13, 14]\n",
    "therandomforest = RandomForestClassifier(random_state = 0, class_weight = class_weights_dict45)\n",
    "print(therandomforest.fit(train_x, y_train).score(test_x, y_test),\n",
    "   classification_report(y_test, therandomforest.predict(test_x)))"
   ]
  },
  {
   "cell_type": "code",
   "execution_count": null,
   "metadata": {
    "id": "PtmrMb5pi9DX"
   },
   "outputs": [],
   "source": [
    "assert list(y_test[0:5])  == [14, 12, 6, 13, 14]\n",
    "from sklearn.neighbors import KNeighborsClassifier\n",
    "theneighbor = KNeighborsClassifier(n_neighbors = 1, algorithm = 'kd_tree')\n",
    "print(theneighbor.fit(train_x , y_train).score(test_x, y_test),\n",
    "   classification_report(y_test, theneighbor.predict(test_x)))"
   ]
  },
  {
   "cell_type": "code",
   "execution_count": null,
   "metadata": {
    "id": "0LBW5RJyi9F3"
   },
   "outputs": [],
   "source": [
    "assert  list(y_test[0:5]) == [14, 12, 6, 13, 14]\n",
    "from sklearn.linear_model import LogisticRegression\n",
    "thelogisticregression = LogisticRegression(random_state = 0, class_weight = class_weights_dict45) \n",
    "print(thelogisticregression.fit(train_x, y_train).score(test_x, y_test),\n",
    "   classification_report(y_test, thelogisticregression.predict(test_x)))"
   ]
  },
  {
   "cell_type": "code",
   "execution_count": null,
   "metadata": {
    "id": "i0byo27yi9H3"
   },
   "outputs": [],
   "source": [
    "assert list(y_test[0:5])  == [14, 12, 6, 13, 14]\n",
    "from lightgbm import LGBMClassifier\n",
    "thelgbclassifier = LGBMClassifier(class_weight = class_weights_dict45)\n",
    "print(thelgbclassifier.fit(train_x, y_train).score(test_x, y_test),\n",
    "   classification_report(y_test, thelgbclassifier.predict(test_x), ))"
   ]
  },
  {
   "cell_type": "code",
   "execution_count": null,
   "metadata": {
    "id": "FuTaUYWWlTpE"
   },
   "outputs": [],
   "source": [
    "from catboost import CatBoostClassifier\n",
    "assert list(y_test[0:5]) == [14, 12, 6, 13, 14]\n",
    "thecatboost = CatBoostClassifier(verbose = 0, class_weights = class_weights_dict45, task_type = \"GPU\")\n",
    "print(thecatboost.fit(train_x, y_train).score(test_x, y_test),\n",
    "   classification_report(y_test, thecatboost.predict(test_x)))"
   ]
  },
  {
   "cell_type": "code",
   "execution_count": null,
   "metadata": {
    "id": "TrjNHrKtlTrJ"
   },
   "outputs": [],
   "source": [
    "assert list(y_test[0:5]) == [14, 12, 6, 13, 14]\n",
    "from sklearn.ensemble import BaggingClassifier\n",
    "thebagging = BaggingClassifier(base_estimator = therandomforest, random_state = 0)\n",
    "print(thebagging.fit(train_x, y_train).score(test_x, y_test),\n",
    "   classification_report(y_test, thebagging.predict(test_x),))"
   ]
  },
  {
   "cell_type": "code",
   "execution_count": null,
   "metadata": {
    "id": "1OsBvbMnlTtj"
   },
   "outputs": [],
   "source": [
    "assert list(y_test[0:5]) == [14, 12, 6, 13, 14]\n",
    "from sklearn.ensemble import StackingClassifier\n",
    "estimators = [\n",
    "('therandomforest', therandomforest), \n",
    "('thecatboost', thecatboost), \n",
    "('thelogisticregression', thelogisticregression)]\n",
    "thestacking = StackingClassifier(estimators = estimators, final_estimator = therandomforest)\n",
    "print(thestacking.fit(train_x, y_train).score(test_x, y_test),\n",
    "  classification_report(y_test, thestacking.predict(test_x),))"
   ]
  },
  {
   "cell_type": "code",
   "execution_count": null,
   "metadata": {
    "id": "4h5WzZOXlTvm"
   },
   "outputs": [],
   "source": [
    "assert list(y_test[0:5]) == [14, 12, 6, 13, 14]\n",
    "thevoting = VotingClassifier(estimators = [\n",
    "('therandomforest', therandomforest), \n",
    "('thecatboost', thecatboost), \n",
    "('thelogisticregression', thelogisticregression)], \n",
    "voting = 'soft', n_jobs = -1)\n",
    "print(thevoting.fit(train_x, y_train).score(test_x, y_test),\n",
    "   classification_report(y_test, thevoting.predict(test_x)))"
   ]
  },
  {
   "cell_type": "code",
   "execution_count": null,
   "metadata": {
    "id": "mvA0JaiZlTx6"
   },
   "outputs": [],
   "source": [
    "assert list(y_test[0:5]) == [14, 12, 6, 13, 14]\n",
    "from sklearn.ensemble import AdaBoostClassifier  \n",
    "theadaboost = AdaBoostClassifier(base_estimator = therandomforest)\n",
    "print(theadaboost.fit(train_x, y_train).score(test_x, y_test),\n",
    "      classification_report(y_test, theadaboost.predict(test_x)))"
   ]
  },
  {
   "cell_type": "code",
   "execution_count": null,
   "metadata": {
    "id": "dmteC1TiiXFE"
   },
   "outputs": [],
   "source": [
    "# References\n",
    "# https://future-chem.com/rdkit-google-colab/#toc5\n",
    "# https://www.rdkit.org/docs/index.html"
   ]
  }
 ],
 "metadata": {
  "accelerator": "GPU",
  "colab": {
   "collapsed_sections": [],
   "machine_shape": "hm",
   "provenance": []
  },
  "gpuClass": "standard",
  "kernelspec": {
   "display_name": "Python 3",
   "language": "python",
   "name": "python3"
  },
  "language_info": {
   "codemirror_mode": {
    "name": "ipython",
    "version": 3
   },
   "file_extension": ".py",
   "mimetype": "text/x-python",
   "name": "python",
   "nbconvert_exporter": "python",
   "pygments_lexer": "ipython3",
   "version": "3.8.10"
  }
 },
 "nbformat": 4,
 "nbformat_minor": 4
}

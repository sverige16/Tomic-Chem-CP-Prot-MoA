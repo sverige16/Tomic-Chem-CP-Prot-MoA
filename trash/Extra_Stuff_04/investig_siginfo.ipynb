{
 "cells": [
  {
   "cell_type": "code",
   "execution_count": 6,
   "metadata": {},
   "outputs": [],
   "source": [
    "import pandas as pd\n",
    "import numpy as np\n",
    "import os\n",
    "import cv2\n",
    "import tqdm\n",
    "import glob"
   ]
  },
  {
   "cell_type": "code",
   "execution_count": 7,
   "metadata": {},
   "outputs": [
    {
     "name": "stderr",
     "output_type": "stream",
     "text": [
      "<ipython-input-7-ce47ba2aa24e>:2: DtypeWarning: Columns (0,3,4,28,29) have mixed types. Specify dtype option on import or set low_memory=False.\n",
      "  clue_sig = pd.read_csv('/home/jovyan/Tomics-CP-Chem-MoA/04_Tomics_Models/init_data_expl/clue_siginfo_beta.txt', delimiter = \"\\t\")\n"
     ]
    }
   ],
   "source": [
    "# from https://clue.io/\n",
    "clue_sig = pd.read_csv('/home/jovyan/Tomics-CP-Chem-MoA/04_Tomics_Models/init_data_expl/clue_siginfo_beta.txt', delimiter = \"\\t\")"
   ]
  },
  {
   "cell_type": "code",
   "execution_count": 9,
   "metadata": {},
   "outputs": [
    {
     "name": "stdout",
     "output_type": "stream",
     "text": [
      "<class 'pandas.core.frame.DataFrame'>\n",
      "RangeIndex: 555113 entries, 0 to 555112\n",
      "Data columns (total 37 columns):\n",
      " #   Column                        Non-Null Count   Dtype  \n",
      "---  ------                        --------------   -----  \n",
      " 0   bead_batch                    493797 non-null  object \n",
      " 1   nearest_dose                  272164 non-null  float64\n",
      " 2   pert_dose                     348348 non-null  float64\n",
      " 3   pert_dose_unit                347506 non-null  object \n",
      " 4   pert_idose                    347397 non-null  object \n",
      " 5   pert_itime                    554838 non-null  object \n",
      " 6   pert_time                     555113 non-null  float64\n",
      " 7   pert_time_unit                555113 non-null  object \n",
      " 8   cell_mfc_name                 555113 non-null  object \n",
      " 9   pert_mfc_id                   555113 non-null  object \n",
      " 10  nsample                       555113 non-null  int64  \n",
      " 11  cc_q75                        555113 non-null  float64\n",
      " 12  ss_ngene                      555113 non-null  int64  \n",
      " 13  tas                           555113 non-null  float64\n",
      " 14  pct_self_rank_q25             555113 non-null  float64\n",
      " 15  wt                            555113 non-null  object \n",
      " 16  median_recall_rank_spearman   555113 non-null  float64\n",
      " 17  median_recall_rank_wtcs_50    555113 non-null  float64\n",
      " 18  median_recall_score_spearman  555113 non-null  float64\n",
      " 19  median_recall_score_wtcs_50   555113 non-null  float64\n",
      " 20  batch_effect_tstat            555113 non-null  float64\n",
      " 21  batch_effect_tstat_pct        555113 non-null  float64\n",
      " 22  is_hiq                        555113 non-null  int64  \n",
      " 23  qc_pass                       555113 non-null  int64  \n",
      " 24  pert_id                       555112 non-null  object \n",
      " 25  sig_id                        555112 non-null  object \n",
      " 26  pert_type                     555112 non-null  object \n",
      " 27  cell_iname                    555112 non-null  object \n",
      " 28  det_wells                     493796 non-null  object \n",
      " 29  det_plates                    493796 non-null  object \n",
      " 30  distil_ids                    555112 non-null  object \n",
      " 31  build_name                    0 non-null       float64\n",
      " 32  project_code                  555112 non-null  object \n",
      " 33  cmap_name                     555112 non-null  object \n",
      " 34  is_exemplar_sig               555112 non-null  float64\n",
      " 35  is_ncs_sig                    555112 non-null  float64\n",
      " 36  is_null_sig                   555112 non-null  float64\n",
      "dtypes: float64(16), int64(4), object(17)\n",
      "memory usage: 156.7+ MB\n"
     ]
    }
   ],
   "source": [
    "clue_sig.info()"
   ]
  },
  {
   "cell_type": "code",
   "execution_count": 10,
   "metadata": {},
   "outputs": [
    {
     "data": {
      "text/plain": [
       "Index(['bead_batch', 'nearest_dose', 'pert_dose', 'pert_dose_unit',\n",
       "       'pert_idose', 'pert_itime', 'pert_time', 'pert_time_unit',\n",
       "       'cell_mfc_name', 'pert_mfc_id', 'nsample', 'cc_q75', 'ss_ngene', 'tas',\n",
       "       'pct_self_rank_q25', 'wt', 'median_recall_rank_spearman',\n",
       "       'median_recall_rank_wtcs_50', 'median_recall_score_spearman',\n",
       "       'median_recall_score_wtcs_50', 'batch_effect_tstat',\n",
       "       'batch_effect_tstat_pct', 'is_hiq', 'qc_pass', 'pert_id', 'sig_id',\n",
       "       'pert_type', 'cell_iname', 'det_wells', 'det_plates', 'distil_ids',\n",
       "       'build_name', 'project_code', 'cmap_name', 'is_exemplar_sig',\n",
       "       'is_ncs_sig', 'is_null_sig'],\n",
       "      dtype='object')"
      ]
     },
     "execution_count": 10,
     "metadata": {},
     "output_type": "execute_result"
    }
   ],
   "source": [
    "clue_sig.columns"
   ]
  },
  {
   "cell_type": "code",
   "execution_count": 11,
   "metadata": {},
   "outputs": [
    {
     "data": {
      "text/plain": [
       "array(['trt_cp', 'trt_oe', 'trt_sh', 'trt_si', 'trt_aby', 'trt_lig',\n",
       "       'trt_xpr', 'ctl_vector', 'ctl_vehicle', 'ctl_untrt',\n",
       "       'ctl_vector.cns', 'ctl_vehicle.cns', 'ctl_untrt.cns', 'ctl_x',\n",
       "       'trt_sh.cgs', 'trt_sh.css', nan], dtype=object)"
      ]
     },
     "execution_count": 11,
     "metadata": {},
     "output_type": "execute_result"
    }
   ],
   "source": [
    "clue_sig.pert_type.unique()"
   ]
  },
  {
   "cell_type": "code",
   "execution_count": 12,
   "metadata": {},
   "outputs": [
    {
     "data": {
      "text/plain": [
       "0    396642\n",
       "1    158471\n",
       "Name: is_hiq, dtype: int64"
      ]
     },
     "execution_count": 12,
     "metadata": {},
     "output_type": "execute_result"
    }
   ],
   "source": [
    "clue_sig.is_hiq.value_counts()"
   ]
  },
  {
   "cell_type": "code",
   "execution_count": 13,
   "metadata": {},
   "outputs": [
    {
     "name": "stdout",
     "output_type": "stream",
     "text": [
      " Low quality t_profiles: 0.7145247904480709\n",
      " High quality t_profiles: 0.28547520955192907\n"
     ]
    }
   ],
   "source": [
    "print(f' Low quality t_profiles: {396642/clue_sig.shape[0]}')\n",
    "print(f' High quality t_profiles: {158471/clue_sig.shape[0]}')"
   ]
  },
  {
   "cell_type": "code",
   "execution_count": 6,
   "metadata": {},
   "outputs": [
    {
     "data": {
      "text/plain": [
       "0         NAMEC8\n",
       "1           A549\n",
       "2           HT29\n",
       "3           HME1\n",
       "4          H1975\n",
       "           ...  \n",
       "555108     SKBR3\n",
       "555109     SKBR3\n",
       "555110      A375\n",
       "555111      HELA\n",
       "555112       NaN\n",
       "Name: cell_iname, Length: 555113, dtype: object"
      ]
     },
     "execution_count": 6,
     "metadata": {},
     "output_type": "execute_result"
    }
   ],
   "source": [
    "clue_sig.cell_iname"
   ]
  },
  {
   "cell_type": "code",
   "execution_count": null,
   "metadata": {},
   "outputs": [],
   "source": []
  },
  {
   "cell_type": "code",
   "execution_count": null,
   "metadata": {},
   "outputs": [],
   "source": []
  }
 ],
 "metadata": {
  "kernelspec": {
   "display_name": "Python 3",
   "language": "python",
   "name": "python3"
  },
  "language_info": {
   "codemirror_mode": {
    "name": "ipython",
    "version": 3
   },
   "file_extension": ".py",
   "mimetype": "text/x-python",
   "name": "python",
   "nbconvert_exporter": "python",
   "pygments_lexer": "ipython3",
   "version": "3.8.10"
  },
  "vscode": {
   "interpreter": {
    "hash": "31f2aee4e71d21fbe5cf8b01ff0e069b9275f58929596ceb00d14d90e3e16cd6"
   }
  }
 },
 "nbformat": 4,
 "nbformat_minor": 4
}

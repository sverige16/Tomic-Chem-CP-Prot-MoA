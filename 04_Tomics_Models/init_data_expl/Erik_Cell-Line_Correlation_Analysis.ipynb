{
 "cells": [
  {
   "cell_type": "code",
   "execution_count": null,
   "metadata": {},
   "outputs": [],
   "source": []
  },
  {
   "cell_type": "code",
   "execution_count": null,
   "metadata": {},
   "outputs": [],
   "source": [
    "def compound_moa_classes(clue_sig, compounds1_2, moas, cell_name_string, cell_name, lower_doses, higher_doses, head_num = 5):\n",
    "    '''Creates a table that assesses the number of transcriptomic profiles given a certain dosage range and a selection of \n",
    "    cell line from the clue.io database\n",
    "    \n",
    "    Input:\n",
    "    clue_sig:         metadata from all transcriptomic level 5 signatures\n",
    "    compounds1_2:     combined list of compounds found in SPECS V1 and V2.\n",
    "    moas:             list of strings representing a subset of MoA classes to investigatedd\n",
    "    cell_name_string: list of strings representing cell line name\n",
    "    cell_name:        list of strings of the cell lines to include\n",
    "    lower_doses:      list of integers representing lower range of dosages\n",
    "    higher_doses:     list of integers representing higher range of dosages\n",
    "    head_num:         int that determines number of rows displayed by datafram\n",
    "    \n",
    "    Output:\n",
    "    Several data frames of a length determined by head_num\n",
    "    '''\n",
    "    \n",
    "    for i, s in zip(cell_name, cell_name_string):\n",
    "        for a,f in zip(lower_doses, higher_doses):\n",
    "            clue_sig = clue_sig[clue_sig.pert_id.isin(compounds1_2.CUSTOMER_ID)]\n",
    "            check = clue_sig[clue_sig.cell_iname.isin(i)]\n",
    "            check_with_correct_dosage = check[check.pert_dose.between(a,f)].reset_index(drop=True)\n",
    "            unique_all = check_with_correct_dosage.drop_duplicates(subset=[\"pert_id\"])\n",
    "            \n",
    "            # printing MoA classes with x number of compounds targeting specific MoA class \n",
    "            print(f\" \\033[1m{'Cell Line(s):' : >20}\\033[0m  {s}\")\n",
    "            print(f\" \\033[1m{'Dosage Range:' : >20}\\033[0m  [{a},{f}]\")\n",
    "            print(f\" \\033[1m{'All Compounds Found in SPECS v1 and V2' : >20}\\033[0m\")\n",
    "            print(unique_all.moa.value_counts().head(head_num))\n",
    "            print(f'Enantiomers: {unique_all[unique_all.duplicated(\"Compound ID\")].shape[0]}')\n",
    "            chosen_MoA_classes = check_with_correct_dosage[check_with_correct_dosage.moa.isin(moas)]\n",
    "            unique_chosen_MoA_classes = chosen_MoA_classes.drop_duplicates(subset=[\"pert_id\"])\n",
    "            \n",
    "            # printing MoA classes with x number of compounds targeting specific MoA class (Chosen Subset)\n",
    "            print(f\" \\033[1m{'Selected MoAS' : >20}\\033[0m\" )\n",
    "            print(unique_chosen_MoA_classes.moa.value_counts().head(head_num))\n",
    "            print(f'Enantiomers: {unique_chosen_MoA_classes[unique_chosen_MoA_classes.duplicated(\"Compound ID\")].shape[0]}')\n",
    "            print(chr(10))\n"
   ]
  }
 ],
 "metadata": {
  "kernelspec": {
   "display_name": "Python 3",
   "language": "python",
   "name": "python3"
  },
  "language_info": {
   "name": "python",
   "version": "3.8.10 (default, Mar 15 2022, 12:22:08) \n[GCC 9.4.0]"
  },
  "orig_nbformat": 4,
  "vscode": {
   "interpreter": {
    "hash": "31f2aee4e71d21fbe5cf8b01ff0e069b9275f58929596ceb00d14d90e3e16cd6"
   }
  }
 },
 "nbformat": 4,
 "nbformat_minor": 2
}

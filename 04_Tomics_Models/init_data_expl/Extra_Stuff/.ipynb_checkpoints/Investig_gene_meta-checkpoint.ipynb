{
 "cells": [
  {
   "cell_type": "code",
   "execution_count": 3,
   "metadata": {},
   "outputs": [],
   "source": [
    "import pandas as pd"
   ]
  },
  {
   "cell_type": "code",
   "execution_count": 4,
   "metadata": {},
   "outputs": [],
   "source": [
    "# Here we get gene information, but unsure exactly what this is. It's not expression data. Looks like the sets of genes associated with\n",
    "# one purturbation\n",
    "clue_gene = pd.read_csv('/home/jovyan/Tomics-CP-Chem-MoA/04_Tomics_Models/init_data_expl/clue_geneinfo_beta.txt', delimiter = \"\\t\")"
   ]
  },
  {
   "cell_type": "code",
   "execution_count": 7,
   "metadata": {},
   "outputs": [
    {
     "data": {
      "text/html": [
       "<div>\n",
       "<style scoped>\n",
       "    .dataframe tbody tr th:only-of-type {\n",
       "        vertical-align: middle;\n",
       "    }\n",
       "\n",
       "    .dataframe tbody tr th {\n",
       "        vertical-align: top;\n",
       "    }\n",
       "\n",
       "    .dataframe thead th {\n",
       "        text-align: right;\n",
       "    }\n",
       "</style>\n",
       "<table border=\"1\" class=\"dataframe\">\n",
       "  <thead>\n",
       "    <tr style=\"text-align: right;\">\n",
       "      <th></th>\n",
       "      <th>gene_id</th>\n",
       "      <th>gene_symbol</th>\n",
       "      <th>ensembl_id</th>\n",
       "      <th>gene_title</th>\n",
       "      <th>gene_type</th>\n",
       "      <th>src</th>\n",
       "      <th>feature_space</th>\n",
       "    </tr>\n",
       "  </thead>\n",
       "  <tbody>\n",
       "    <tr>\n",
       "      <th>0</th>\n",
       "      <td>750</td>\n",
       "      <td>GAS8-AS1</td>\n",
       "      <td>ENSG00000221819</td>\n",
       "      <td>GAS8 antisense RNA 1</td>\n",
       "      <td>ncRNA</td>\n",
       "      <td>NCBI</td>\n",
       "      <td>inferred</td>\n",
       "    </tr>\n",
       "    <tr>\n",
       "      <th>1</th>\n",
       "      <td>6315</td>\n",
       "      <td>ATXN8OS</td>\n",
       "      <td>NaN</td>\n",
       "      <td>ATXN8 opposite strand lncRNA</td>\n",
       "      <td>ncRNA</td>\n",
       "      <td>NCBI</td>\n",
       "      <td>inferred</td>\n",
       "    </tr>\n",
       "    <tr>\n",
       "      <th>2</th>\n",
       "      <td>7503</td>\n",
       "      <td>XIST</td>\n",
       "      <td>ENSG00000229807</td>\n",
       "      <td>X inactive specific transcript</td>\n",
       "      <td>ncRNA</td>\n",
       "      <td>NCBI</td>\n",
       "      <td>inferred</td>\n",
       "    </tr>\n",
       "    <tr>\n",
       "      <th>3</th>\n",
       "      <td>8552</td>\n",
       "      <td>INE1</td>\n",
       "      <td>ENSG00000224975</td>\n",
       "      <td>inactivation escape 1</td>\n",
       "      <td>ncRNA</td>\n",
       "      <td>NCBI</td>\n",
       "      <td>inferred</td>\n",
       "    </tr>\n",
       "    <tr>\n",
       "      <th>4</th>\n",
       "      <td>9834</td>\n",
       "      <td>FAM30A</td>\n",
       "      <td>ENSG00000226777</td>\n",
       "      <td>family with sequence similarity 30 member A</td>\n",
       "      <td>ncRNA</td>\n",
       "      <td>NCBI</td>\n",
       "      <td>inferred</td>\n",
       "    </tr>\n",
       "    <tr>\n",
       "      <th>5</th>\n",
       "      <td>10141</td>\n",
       "      <td>LINC01587</td>\n",
       "      <td>ENSG00000082929</td>\n",
       "      <td>long intergenic non-protein coding RNA 1587</td>\n",
       "      <td>ncRNA</td>\n",
       "      <td>NCBI</td>\n",
       "      <td>inferred</td>\n",
       "    </tr>\n",
       "    <tr>\n",
       "      <th>6</th>\n",
       "      <td>10255</td>\n",
       "      <td>HCG9</td>\n",
       "      <td>ENSG00000204625</td>\n",
       "      <td>HLA complex group 9</td>\n",
       "      <td>ncRNA</td>\n",
       "      <td>NCBI</td>\n",
       "      <td>inferred</td>\n",
       "    </tr>\n",
       "    <tr>\n",
       "      <th>7</th>\n",
       "      <td>10281</td>\n",
       "      <td>DSCR4</td>\n",
       "      <td>ENSG00000184029</td>\n",
       "      <td>Down syndrome critical region 4</td>\n",
       "      <td>ncRNA</td>\n",
       "      <td>NCBI</td>\n",
       "      <td>inferred</td>\n",
       "    </tr>\n",
       "    <tr>\n",
       "      <th>8</th>\n",
       "      <td>23434</td>\n",
       "      <td>LINC01565</td>\n",
       "      <td>ENSG00000198685</td>\n",
       "      <td>long intergenic non-protein coding RNA 1565</td>\n",
       "      <td>ncRNA</td>\n",
       "      <td>NCBI</td>\n",
       "      <td>inferred</td>\n",
       "    </tr>\n",
       "    <tr>\n",
       "      <th>9</th>\n",
       "      <td>23591</td>\n",
       "      <td>FAM215A</td>\n",
       "      <td>ENSG00000267496</td>\n",
       "      <td>family with sequence similarity 215 member A</td>\n",
       "      <td>ncRNA</td>\n",
       "      <td>NCBI</td>\n",
       "      <td>inferred</td>\n",
       "    </tr>\n",
       "  </tbody>\n",
       "</table>\n",
       "</div>"
      ],
      "text/plain": [
       "   gene_id gene_symbol       ensembl_id  \\\n",
       "0      750    GAS8-AS1  ENSG00000221819   \n",
       "1     6315     ATXN8OS              NaN   \n",
       "2     7503        XIST  ENSG00000229807   \n",
       "3     8552        INE1  ENSG00000224975   \n",
       "4     9834      FAM30A  ENSG00000226777   \n",
       "5    10141   LINC01587  ENSG00000082929   \n",
       "6    10255        HCG9  ENSG00000204625   \n",
       "7    10281       DSCR4  ENSG00000184029   \n",
       "8    23434   LINC01565  ENSG00000198685   \n",
       "9    23591     FAM215A  ENSG00000267496   \n",
       "\n",
       "                                     gene_title gene_type   src feature_space  \n",
       "0                          GAS8 antisense RNA 1     ncRNA  NCBI      inferred  \n",
       "1                  ATXN8 opposite strand lncRNA     ncRNA  NCBI      inferred  \n",
       "2                X inactive specific transcript     ncRNA  NCBI      inferred  \n",
       "3                         inactivation escape 1     ncRNA  NCBI      inferred  \n",
       "4   family with sequence similarity 30 member A     ncRNA  NCBI      inferred  \n",
       "5   long intergenic non-protein coding RNA 1587     ncRNA  NCBI      inferred  \n",
       "6                           HLA complex group 9     ncRNA  NCBI      inferred  \n",
       "7               Down syndrome critical region 4     ncRNA  NCBI      inferred  \n",
       "8   long intergenic non-protein coding RNA 1565     ncRNA  NCBI      inferred  \n",
       "9  family with sequence similarity 215 member A     ncRNA  NCBI      inferred  "
      ]
     },
     "execution_count": 7,
     "metadata": {},
     "output_type": "execute_result"
    }
   ],
   "source": [
    "clue_gene[:10]"
   ]
  },
  {
   "cell_type": "code",
   "execution_count": 8,
   "metadata": {},
   "outputs": [
    {
     "data": {
      "text/plain": [
       "Index(['gene_id', 'gene_symbol', 'ensembl_id', 'gene_title', 'gene_type',\n",
       "       'src', 'feature_space'],\n",
       "      dtype='object')"
      ]
     },
     "execution_count": 8,
     "metadata": {},
     "output_type": "execute_result"
    }
   ],
   "source": [
    "clue_gene.columns"
   ]
  },
  {
   "cell_type": "code",
   "execution_count": 9,
   "metadata": {},
   "outputs": [
    {
     "data": {
      "text/plain": [
       "(12328, 7)"
      ]
     },
     "execution_count": 9,
     "metadata": {},
     "output_type": "execute_result"
    }
   ],
   "source": [
    "clue_gene.shape"
   ]
  },
  {
   "cell_type": "code",
   "execution_count": null,
   "metadata": {},
   "outputs": [],
   "source": []
  }
 ],
 "metadata": {
  "kernelspec": {
   "display_name": "Python 3",
   "language": "python",
   "name": "python3"
  },
  "language_info": {
   "codemirror_mode": {
    "name": "ipython",
    "version": 3
   },
   "file_extension": ".py",
   "mimetype": "text/x-python",
   "name": "python",
   "nbconvert_exporter": "python",
   "pygments_lexer": "ipython3",
   "version": "3.6.9"
  }
 },
 "nbformat": 4,
 "nbformat_minor": 4
}

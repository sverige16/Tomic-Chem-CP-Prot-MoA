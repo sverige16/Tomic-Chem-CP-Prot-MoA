{
 "cells": [
  {
   "cell_type": "code",
   "execution_count": 3,
   "metadata": {},
   "outputs": [],
   "source": [
    "import pandas as pd\n",
    "import numpy as np\n",
    "import os\n",
    "import cv2\n",
    "import tqdm\n",
    "import glob"
   ]
  },
  {
   "cell_type": "code",
   "execution_count": 4,
   "metadata": {},
   "outputs": [],
   "source": [
    " moas = ['Aurora kinase inhibitor', 'tubulin polymerization inhibitor', 'JAK inhibitor', 'protein synthesis inhibitor', 'HDAC inhibitor', \n",
    "        'topoisomerase inhibitor', 'PARP inhibitor', 'ATPase inhibitor', 'retinoid receptor agonist', 'HSP inhibitor']"
   ]
  },
  {
   "cell_type": "code",
   "execution_count": 59,
   "metadata": {},
   "outputs": [
    {
     "data": {
      "text/plain": [
       "(935, 39)"
      ]
     },
     "execution_count": 59,
     "metadata": {},
     "output_type": "execute_result"
    }
   ],
   "source": [
    "# Download compounds that were used to perturb cells for HIC from first batch that comes from PharmBio Lab\n",
    "compounds = pd.read_csv('/home/jovyan/scratch-shared/erik/from_phil/specs935-v1-compounds.csv', sep=',')\n",
    "compounds.shape"
   ]
  },
  {
   "cell_type": "code",
   "execution_count": 6,
   "metadata": {},
   "outputs": [],
   "source": [
    "# Download all the compounds that exist on CLUE --> gene expression data from LINCS\n",
    "# from https://clue.io/\n",
    "clue_compounds = pd.read_csv('/home/jovyan/scratch-shared/erik/from_phil/clue_compoundinfo_beta.txt', delimiter = \"\\t\")"
   ]
  },
  {
   "cell_type": "markdown",
   "metadata": {},
   "source": [
    "## Clue Compounds"
   ]
  },
  {
   "cell_type": "code",
   "execution_count": 7,
   "metadata": {},
   "outputs": [
    {
     "data": {
      "text/html": [
       "<div>\n",
       "<style scoped>\n",
       "    .dataframe tbody tr th:only-of-type {\n",
       "        vertical-align: middle;\n",
       "    }\n",
       "\n",
       "    .dataframe tbody tr th {\n",
       "        vertical-align: top;\n",
       "    }\n",
       "\n",
       "    .dataframe thead th {\n",
       "        text-align: right;\n",
       "    }\n",
       "</style>\n",
       "<table border=\"1\" class=\"dataframe\">\n",
       "  <thead>\n",
       "    <tr style=\"text-align: right;\">\n",
       "      <th></th>\n",
       "      <th>pert_id</th>\n",
       "      <th>cmap_name</th>\n",
       "      <th>target</th>\n",
       "      <th>moa</th>\n",
       "      <th>canonical_smiles</th>\n",
       "      <th>inchi_key</th>\n",
       "      <th>compound_aliases</th>\n",
       "    </tr>\n",
       "  </thead>\n",
       "  <tbody>\n",
       "    <tr>\n",
       "      <th>0</th>\n",
       "      <td>BRD-A08715367</td>\n",
       "      <td>L-theanine</td>\n",
       "      <td>NaN</td>\n",
       "      <td>NaN</td>\n",
       "      <td>CCNC(=O)CCC(N)C(O)=O</td>\n",
       "      <td>DATAGRPVKZEWHA-UHFFFAOYSA-N</td>\n",
       "      <td>l-theanine</td>\n",
       "    </tr>\n",
       "    <tr>\n",
       "      <th>1</th>\n",
       "      <td>BRD-A12237696</td>\n",
       "      <td>L-citrulline</td>\n",
       "      <td>NaN</td>\n",
       "      <td>NaN</td>\n",
       "      <td>NC(CCCNC(N)=O)C(O)=O</td>\n",
       "      <td>RHGKLRLOHDJJDR-UHFFFAOYSA-N</td>\n",
       "      <td>l-citrulline</td>\n",
       "    </tr>\n",
       "    <tr>\n",
       "      <th>2</th>\n",
       "      <td>BRD-A18795974</td>\n",
       "      <td>BRD-A18795974</td>\n",
       "      <td>NaN</td>\n",
       "      <td>NaN</td>\n",
       "      <td>CCCN(CCC)C1CCc2ccc(O)cc2C1</td>\n",
       "      <td>BLYMJBIZMIGWFK-UHFFFAOYSA-N</td>\n",
       "      <td>7-hydroxy-DPAT</td>\n",
       "    </tr>\n",
       "    <tr>\n",
       "      <th>3</th>\n",
       "      <td>BRD-A27924917</td>\n",
       "      <td>BRD-A27924917</td>\n",
       "      <td>NaN</td>\n",
       "      <td>NaN</td>\n",
       "      <td>NCC(O)(CS(O)(=O)=O)c1ccc(Cl)cc1</td>\n",
       "      <td>WBSMZVIMANOCNX-UHFFFAOYSA-N</td>\n",
       "      <td>2-hydroxysaclofen</td>\n",
       "    </tr>\n",
       "    <tr>\n",
       "      <th>4</th>\n",
       "      <td>BRD-A35931254</td>\n",
       "      <td>BRD-A35931254</td>\n",
       "      <td>NaN</td>\n",
       "      <td>NaN</td>\n",
       "      <td>CN1CCc2cccc-3c2C1Cc1ccc(O)c(O)c-31</td>\n",
       "      <td>VMWNQDUVQKEIOC-UHFFFAOYSA-N</td>\n",
       "      <td>r(-)-apomorphine</td>\n",
       "    </tr>\n",
       "    <tr>\n",
       "      <th>...</th>\n",
       "      <td>...</td>\n",
       "      <td>...</td>\n",
       "      <td>...</td>\n",
       "      <td>...</td>\n",
       "      <td>...</td>\n",
       "      <td>...</td>\n",
       "      <td>...</td>\n",
       "    </tr>\n",
       "    <tr>\n",
       "      <th>39316</th>\n",
       "      <td>BRD-K62685538</td>\n",
       "      <td>triptorelin</td>\n",
       "      <td>GNRHR</td>\n",
       "      <td>Gonadotropin releasing factor hormone receptor...</td>\n",
       "      <td>CC(C)C[C@H](NC(=O)[C@@H](Cc1c[nH]c2ccccc12)NC(...</td>\n",
       "      <td>VXKHXGOKWPXYNA-PGBVPBMZSA-N</td>\n",
       "      <td>NaN</td>\n",
       "    </tr>\n",
       "    <tr>\n",
       "      <th>39317</th>\n",
       "      <td>BRD-K62221994</td>\n",
       "      <td>T-98475</td>\n",
       "      <td>GNRHR</td>\n",
       "      <td>Gonadotropin releasing factor hormone receptor...</td>\n",
       "      <td>CC(C)OC(=O)c1cn(Cc2c(F)cccc2F)c3sc(c(CN(C)Cc4c...</td>\n",
       "      <td>RANJJVIMTOIWIN-UHFFFAOYSA-N</td>\n",
       "      <td>NaN</td>\n",
       "    </tr>\n",
       "    <tr>\n",
       "      <th>39318</th>\n",
       "      <td>BRD-K53397409</td>\n",
       "      <td>benzoic-acid</td>\n",
       "      <td>RAB9A</td>\n",
       "      <td>Precursor for food preservatives, plasticizers...</td>\n",
       "      <td>OC(=O)c1ccccc1</td>\n",
       "      <td>WPYMKLBDIGXBTP-UHFFFAOYSA-N</td>\n",
       "      <td>NaN</td>\n",
       "    </tr>\n",
       "    <tr>\n",
       "      <th>39319</th>\n",
       "      <td>BRD-A62182663</td>\n",
       "      <td>YK-4279</td>\n",
       "      <td>DHX9</td>\n",
       "      <td>Binding of RNA helicase A to the transcription...</td>\n",
       "      <td>COc1ccc(cc1)C(=O)CC1(O)C(=O)Nc2c1c(Cl)ccc2Cl</td>\n",
       "      <td>HLXSCTYHLQHQDJ-UHFFFAOYSA-N</td>\n",
       "      <td>NaN</td>\n",
       "    </tr>\n",
       "    <tr>\n",
       "      <th>39320</th>\n",
       "      <td>BRD-A62182663</td>\n",
       "      <td>YK-4279</td>\n",
       "      <td>FLI1</td>\n",
       "      <td>Binding of RNA helicase A to the transcription...</td>\n",
       "      <td>COc1ccc(cc1)C(=O)CC1(O)C(=O)Nc2c1c(Cl)ccc2Cl</td>\n",
       "      <td>HLXSCTYHLQHQDJ-UHFFFAOYSA-N</td>\n",
       "      <td>NaN</td>\n",
       "    </tr>\n",
       "  </tbody>\n",
       "</table>\n",
       "<p>39321 rows × 7 columns</p>\n",
       "</div>"
      ],
      "text/plain": [
       "             pert_id      cmap_name target  \\\n",
       "0      BRD-A08715367     L-theanine    NaN   \n",
       "1      BRD-A12237696   L-citrulline    NaN   \n",
       "2      BRD-A18795974  BRD-A18795974    NaN   \n",
       "3      BRD-A27924917  BRD-A27924917    NaN   \n",
       "4      BRD-A35931254  BRD-A35931254    NaN   \n",
       "...              ...            ...    ...   \n",
       "39316  BRD-K62685538    triptorelin  GNRHR   \n",
       "39317  BRD-K62221994        T-98475  GNRHR   \n",
       "39318  BRD-K53397409   benzoic-acid  RAB9A   \n",
       "39319  BRD-A62182663        YK-4279   DHX9   \n",
       "39320  BRD-A62182663        YK-4279   FLI1   \n",
       "\n",
       "                                                     moa  \\\n",
       "0                                                    NaN   \n",
       "1                                                    NaN   \n",
       "2                                                    NaN   \n",
       "3                                                    NaN   \n",
       "4                                                    NaN   \n",
       "...                                                  ...   \n",
       "39316  Gonadotropin releasing factor hormone receptor...   \n",
       "39317  Gonadotropin releasing factor hormone receptor...   \n",
       "39318  Precursor for food preservatives, plasticizers...   \n",
       "39319  Binding of RNA helicase A to the transcription...   \n",
       "39320  Binding of RNA helicase A to the transcription...   \n",
       "\n",
       "                                        canonical_smiles  \\\n",
       "0                                   CCNC(=O)CCC(N)C(O)=O   \n",
       "1                                   NC(CCCNC(N)=O)C(O)=O   \n",
       "2                             CCCN(CCC)C1CCc2ccc(O)cc2C1   \n",
       "3                        NCC(O)(CS(O)(=O)=O)c1ccc(Cl)cc1   \n",
       "4                     CN1CCc2cccc-3c2C1Cc1ccc(O)c(O)c-31   \n",
       "...                                                  ...   \n",
       "39316  CC(C)C[C@H](NC(=O)[C@@H](Cc1c[nH]c2ccccc12)NC(...   \n",
       "39317  CC(C)OC(=O)c1cn(Cc2c(F)cccc2F)c3sc(c(CN(C)Cc4c...   \n",
       "39318                                     OC(=O)c1ccccc1   \n",
       "39319       COc1ccc(cc1)C(=O)CC1(O)C(=O)Nc2c1c(Cl)ccc2Cl   \n",
       "39320       COc1ccc(cc1)C(=O)CC1(O)C(=O)Nc2c1c(Cl)ccc2Cl   \n",
       "\n",
       "                         inchi_key   compound_aliases  \n",
       "0      DATAGRPVKZEWHA-UHFFFAOYSA-N         l-theanine  \n",
       "1      RHGKLRLOHDJJDR-UHFFFAOYSA-N       l-citrulline  \n",
       "2      BLYMJBIZMIGWFK-UHFFFAOYSA-N     7-hydroxy-DPAT  \n",
       "3      WBSMZVIMANOCNX-UHFFFAOYSA-N  2-hydroxysaclofen  \n",
       "4      VMWNQDUVQKEIOC-UHFFFAOYSA-N   r(-)-apomorphine  \n",
       "...                            ...                ...  \n",
       "39316  VXKHXGOKWPXYNA-PGBVPBMZSA-N                NaN  \n",
       "39317  RANJJVIMTOIWIN-UHFFFAOYSA-N                NaN  \n",
       "39318  WPYMKLBDIGXBTP-UHFFFAOYSA-N                NaN  \n",
       "39319  HLXSCTYHLQHQDJ-UHFFFAOYSA-N                NaN  \n",
       "39320  HLXSCTYHLQHQDJ-UHFFFAOYSA-N                NaN  \n",
       "\n",
       "[39321 rows x 7 columns]"
      ]
     },
     "execution_count": 7,
     "metadata": {},
     "output_type": "execute_result"
    }
   ],
   "source": [
    "clue_compounds"
   ]
  },
  {
   "cell_type": "code",
   "execution_count": 8,
   "metadata": {},
   "outputs": [
    {
     "name": "stdout",
     "output_type": "stream",
     "text": [
      "<class 'pandas.core.frame.DataFrame'>\n",
      "RangeIndex: 39321 entries, 0 to 39320\n",
      "Data columns (total 7 columns):\n",
      " #   Column            Non-Null Count  Dtype \n",
      "---  ------            --------------  ----- \n",
      " 0   pert_id           39321 non-null  object\n",
      " 1   cmap_name         39321 non-null  object\n",
      " 2   target            8046 non-null   object\n",
      " 3   moa               8046 non-null   object\n",
      " 4   canonical_smiles  33531 non-null  object\n",
      " 5   inchi_key         26838 non-null  object\n",
      " 6   compound_aliases  855 non-null    object\n",
      "dtypes: object(7)\n",
      "memory usage: 2.1+ MB\n"
     ]
    }
   ],
   "source": [
    "clue_compounds.info()"
   ]
  },
  {
   "cell_type": "markdown",
   "metadata": {},
   "source": [
    "Looks like 39321 different molecules, but we only have 8046 with an identifiable MoA"
   ]
  },
  {
   "cell_type": "code",
   "execution_count": 10,
   "metadata": {},
   "outputs": [],
   "source": [
    "# Remove all the BRD from the unique code to identify common compounds that the Broad Institute places on there.\n",
    "clue_compounds['pert_id'] =  clue_compounds['pert_id'].map(lambda x: x.lstrip('BRD-'))"
   ]
  },
  {
   "cell_type": "code",
   "execution_count": 11,
   "metadata": {},
   "outputs": [
    {
     "data": {
      "text/html": [
       "<div>\n",
       "<style scoped>\n",
       "    .dataframe tbody tr th:only-of-type {\n",
       "        vertical-align: middle;\n",
       "    }\n",
       "\n",
       "    .dataframe tbody tr th {\n",
       "        vertical-align: top;\n",
       "    }\n",
       "\n",
       "    .dataframe thead th {\n",
       "        text-align: right;\n",
       "    }\n",
       "</style>\n",
       "<table border=\"1\" class=\"dataframe\">\n",
       "  <thead>\n",
       "    <tr style=\"text-align: right;\">\n",
       "      <th></th>\n",
       "      <th>pert_id</th>\n",
       "      <th>cmap_name</th>\n",
       "      <th>target</th>\n",
       "      <th>moa</th>\n",
       "      <th>canonical_smiles</th>\n",
       "      <th>inchi_key</th>\n",
       "      <th>compound_aliases</th>\n",
       "    </tr>\n",
       "  </thead>\n",
       "  <tbody>\n",
       "    <tr>\n",
       "      <th>0</th>\n",
       "      <td>A08715367</td>\n",
       "      <td>L-theanine</td>\n",
       "      <td>NaN</td>\n",
       "      <td>NaN</td>\n",
       "      <td>CCNC(=O)CCC(N)C(O)=O</td>\n",
       "      <td>DATAGRPVKZEWHA-UHFFFAOYSA-N</td>\n",
       "      <td>l-theanine</td>\n",
       "    </tr>\n",
       "    <tr>\n",
       "      <th>1</th>\n",
       "      <td>A12237696</td>\n",
       "      <td>L-citrulline</td>\n",
       "      <td>NaN</td>\n",
       "      <td>NaN</td>\n",
       "      <td>NC(CCCNC(N)=O)C(O)=O</td>\n",
       "      <td>RHGKLRLOHDJJDR-UHFFFAOYSA-N</td>\n",
       "      <td>l-citrulline</td>\n",
       "    </tr>\n",
       "    <tr>\n",
       "      <th>2</th>\n",
       "      <td>A18795974</td>\n",
       "      <td>BRD-A18795974</td>\n",
       "      <td>NaN</td>\n",
       "      <td>NaN</td>\n",
       "      <td>CCCN(CCC)C1CCc2ccc(O)cc2C1</td>\n",
       "      <td>BLYMJBIZMIGWFK-UHFFFAOYSA-N</td>\n",
       "      <td>7-hydroxy-DPAT</td>\n",
       "    </tr>\n",
       "    <tr>\n",
       "      <th>3</th>\n",
       "      <td>A27924917</td>\n",
       "      <td>BRD-A27924917</td>\n",
       "      <td>NaN</td>\n",
       "      <td>NaN</td>\n",
       "      <td>NCC(O)(CS(O)(=O)=O)c1ccc(Cl)cc1</td>\n",
       "      <td>WBSMZVIMANOCNX-UHFFFAOYSA-N</td>\n",
       "      <td>2-hydroxysaclofen</td>\n",
       "    </tr>\n",
       "    <tr>\n",
       "      <th>4</th>\n",
       "      <td>A35931254</td>\n",
       "      <td>BRD-A35931254</td>\n",
       "      <td>NaN</td>\n",
       "      <td>NaN</td>\n",
       "      <td>CN1CCc2cccc-3c2C1Cc1ccc(O)c(O)c-31</td>\n",
       "      <td>VMWNQDUVQKEIOC-UHFFFAOYSA-N</td>\n",
       "      <td>r(-)-apomorphine</td>\n",
       "    </tr>\n",
       "    <tr>\n",
       "      <th>5</th>\n",
       "      <td>A39230911</td>\n",
       "      <td>chlorphensin</td>\n",
       "      <td>NaN</td>\n",
       "      <td>NaN</td>\n",
       "      <td>NC(=O)OCC(O)COc1ccc(Cl)cc1</td>\n",
       "      <td>SKPLBLUECSEIFO-UHFFFAOYSA-N</td>\n",
       "      <td>chlorphenesin-carbamate</td>\n",
       "    </tr>\n",
       "    <tr>\n",
       "      <th>6</th>\n",
       "      <td>A77577770</td>\n",
       "      <td>BRD-A77577770</td>\n",
       "      <td>NaN</td>\n",
       "      <td>NaN</td>\n",
       "      <td>CCCCCCCCCCCCCCCC(=O)OC(CC(O)=O)C[N+](C)(C)C</td>\n",
       "      <td>XOMRRQXKHMYMOC-UHFFFAOYSA-O</td>\n",
       "      <td>palmitoylcarnitine</td>\n",
       "    </tr>\n",
       "    <tr>\n",
       "      <th>7</th>\n",
       "      <td>A86415025</td>\n",
       "      <td>BRD-A86415025</td>\n",
       "      <td>NaN</td>\n",
       "      <td>NaN</td>\n",
       "      <td>C(C(N1CCCCC1)c1ccccc1)c1ccccc1</td>\n",
       "      <td>JQWJJJYHVHNXJH-UHFFFAOYSA-N</td>\n",
       "      <td>1-(1,2-diphenylethyl)piperidine-(+/-)</td>\n",
       "    </tr>\n",
       "    <tr>\n",
       "      <th>8</th>\n",
       "      <td>K05674516</td>\n",
       "      <td>PSI-7976</td>\n",
       "      <td>NaN</td>\n",
       "      <td>NaN</td>\n",
       "      <td>CC(C)OC(=O)[C@H](C)N[P@@](=O)(OC[C@H]1O[C@@H](...</td>\n",
       "      <td>TTZHDVOVKQGIBA-YBSJRAAASA-N</td>\n",
       "      <td>sofosbuvir</td>\n",
       "    </tr>\n",
       "    <tr>\n",
       "      <th>9</th>\n",
       "      <td>K10673031</td>\n",
       "      <td>S-isopropylisothiourea</td>\n",
       "      <td>NaN</td>\n",
       "      <td>NaN</td>\n",
       "      <td>CC(C)SC(N)=N</td>\n",
       "      <td>XSSNABKEYXKKMK-UHFFFAOYSA-N</td>\n",
       "      <td>s-isopropylisothiourea</td>\n",
       "    </tr>\n",
       "  </tbody>\n",
       "</table>\n",
       "</div>"
      ],
      "text/plain": [
       "     pert_id               cmap_name target  moa  \\\n",
       "0  A08715367              L-theanine    NaN  NaN   \n",
       "1  A12237696            L-citrulline    NaN  NaN   \n",
       "2  A18795974           BRD-A18795974    NaN  NaN   \n",
       "3  A27924917           BRD-A27924917    NaN  NaN   \n",
       "4  A35931254           BRD-A35931254    NaN  NaN   \n",
       "5  A39230911            chlorphensin    NaN  NaN   \n",
       "6  A77577770           BRD-A77577770    NaN  NaN   \n",
       "7  A86415025           BRD-A86415025    NaN  NaN   \n",
       "8  K05674516                PSI-7976    NaN  NaN   \n",
       "9  K10673031  S-isopropylisothiourea    NaN  NaN   \n",
       "\n",
       "                                    canonical_smiles  \\\n",
       "0                               CCNC(=O)CCC(N)C(O)=O   \n",
       "1                               NC(CCCNC(N)=O)C(O)=O   \n",
       "2                         CCCN(CCC)C1CCc2ccc(O)cc2C1   \n",
       "3                    NCC(O)(CS(O)(=O)=O)c1ccc(Cl)cc1   \n",
       "4                 CN1CCc2cccc-3c2C1Cc1ccc(O)c(O)c-31   \n",
       "5                         NC(=O)OCC(O)COc1ccc(Cl)cc1   \n",
       "6        CCCCCCCCCCCCCCCC(=O)OC(CC(O)=O)C[N+](C)(C)C   \n",
       "7                     C(C(N1CCCCC1)c1ccccc1)c1ccccc1   \n",
       "8  CC(C)OC(=O)[C@H](C)N[P@@](=O)(OC[C@H]1O[C@@H](...   \n",
       "9                                       CC(C)SC(N)=N   \n",
       "\n",
       "                     inchi_key                       compound_aliases  \n",
       "0  DATAGRPVKZEWHA-UHFFFAOYSA-N                             l-theanine  \n",
       "1  RHGKLRLOHDJJDR-UHFFFAOYSA-N                           l-citrulline  \n",
       "2  BLYMJBIZMIGWFK-UHFFFAOYSA-N                         7-hydroxy-DPAT  \n",
       "3  WBSMZVIMANOCNX-UHFFFAOYSA-N                      2-hydroxysaclofen  \n",
       "4  VMWNQDUVQKEIOC-UHFFFAOYSA-N                       r(-)-apomorphine  \n",
       "5  SKPLBLUECSEIFO-UHFFFAOYSA-N                chlorphenesin-carbamate  \n",
       "6  XOMRRQXKHMYMOC-UHFFFAOYSA-O                     palmitoylcarnitine  \n",
       "7  JQWJJJYHVHNXJH-UHFFFAOYSA-N  1-(1,2-diphenylethyl)piperidine-(+/-)  \n",
       "8  TTZHDVOVKQGIBA-YBSJRAAASA-N                             sofosbuvir  \n",
       "9  XSSNABKEYXKKMK-UHFFFAOYSA-N                 s-isopropylisothiourea  "
      ]
     },
     "execution_count": 11,
     "metadata": {},
     "output_type": "execute_result"
    }
   ],
   "source": [
    "clue_compounds[0:10]"
   ]
  },
  {
   "cell_type": "code",
   "execution_count": 12,
   "metadata": {},
   "outputs": [],
   "source": [
    "clue_compounds = list(clue_compounds['pert_id'])"
   ]
  },
  {
   "cell_type": "markdown",
   "metadata": {},
   "source": [
    "## SPECS V1 only Compounds"
   ]
  },
  {
   "cell_type": "code",
   "execution_count": 13,
   "metadata": {},
   "outputs": [],
   "source": [
    "# If the ID in compounds is in the list of clue compounds, include it in a new data frame. \n",
    "compounds_wge = compounds[compounds.CUSTOMER_ID.isin(clue_compounds)].reset_index(drop=True)"
   ]
  },
  {
   "cell_type": "code",
   "execution_count": 14,
   "metadata": {},
   "outputs": [
    {
     "data": {
      "text/html": [
       "<div>\n",
       "<style scoped>\n",
       "    .dataframe tbody tr th:only-of-type {\n",
       "        vertical-align: middle;\n",
       "    }\n",
       "\n",
       "    .dataframe tbody tr th {\n",
       "        vertical-align: top;\n",
       "    }\n",
       "\n",
       "    .dataframe thead th {\n",
       "        text-align: right;\n",
       "    }\n",
       "</style>\n",
       "<table border=\"1\" class=\"dataframe\">\n",
       "  <thead>\n",
       "    <tr style=\"text-align: right;\">\n",
       "      <th></th>\n",
       "      <th>Library</th>\n",
       "      <th>Compound ID</th>\n",
       "      <th>Batch nr</th>\n",
       "      <th>CUSTOMER_ID</th>\n",
       "      <th>MOLFORMULA</th>\n",
       "      <th>MOLWEIGHT</th>\n",
       "      <th>NAME</th>\n",
       "      <th>VENDOR</th>\n",
       "      <th>ADD_INFO</th>\n",
       "      <th>SMILES</th>\n",
       "      <th>...</th>\n",
       "      <th>PUBCHEM_CID</th>\n",
       "      <th>PUBCHEM_SID</th>\n",
       "      <th>PURITY_RATING</th>\n",
       "      <th>PURITY_RATING_4M</th>\n",
       "      <th>TOX21_ID</th>\n",
       "      <th>DILIST_ID</th>\n",
       "      <th>DILIst Classification</th>\n",
       "      <th>Routs of Administration</th>\n",
       "      <th>selected_mechanism of action (MoA)</th>\n",
       "      <th>selected_mechanism</th>\n",
       "    </tr>\n",
       "  </thead>\n",
       "  <tbody>\n",
       "    <tr>\n",
       "      <th>0</th>\n",
       "      <td>SPECS</td>\n",
       "      <td>CBK290537</td>\n",
       "      <td>BJ1898259</td>\n",
       "      <td>A39052811</td>\n",
       "      <td>C21H25ClFN3O3.C6H8O7</td>\n",
       "      <td>614.03</td>\n",
       "      <td>Mosapride citrate</td>\n",
       "      <td>Selleck Chemicals</td>\n",
       "      <td>112885-42-4</td>\n",
       "      <td>CCOc1cc(N)c(Cl)cc1C(=O)NCC1CN(Cc2ccc(F)cc2)CCO1</td>\n",
       "      <td>...</td>\n",
       "      <td>119583.0</td>\n",
       "      <td>144205427.0</td>\n",
       "      <td>A</td>\n",
       "      <td>A</td>\n",
       "      <td>Tox21_111874</td>\n",
       "      <td>NaN</td>\n",
       "      <td>NaN</td>\n",
       "      <td>NaN</td>\n",
       "      <td>serotonin receptor agonist</td>\n",
       "      <td>aryl hydrocarbon receptor agonist</td>\n",
       "    </tr>\n",
       "    <tr>\n",
       "      <th>1</th>\n",
       "      <td>SPECS</td>\n",
       "      <td>CBK200938</td>\n",
       "      <td>BJ1897571</td>\n",
       "      <td>A84465106</td>\n",
       "      <td>C20H24N2O6</td>\n",
       "      <td>388.42</td>\n",
       "      <td>Nisoldipine</td>\n",
       "      <td>MedChemExpress</td>\n",
       "      <td>CAS 63675-72-9, target Calcium Channel</td>\n",
       "      <td>O=C(C1=C(C)NC(C)=C(C(OCC(C)C)=O)C1C2=CC=CC=C2[...</td>\n",
       "      <td>...</td>\n",
       "      <td>4499.0</td>\n",
       "      <td>144205804.0</td>\n",
       "      <td>F</td>\n",
       "      <td>Fc</td>\n",
       "      <td>Tox21_112251</td>\n",
       "      <td>NaN</td>\n",
       "      <td>NaN</td>\n",
       "      <td>NaN</td>\n",
       "      <td>calcium channel blocker</td>\n",
       "      <td>aryl hydrocarbon receptor agonist</td>\n",
       "    </tr>\n",
       "    <tr>\n",
       "      <th>2</th>\n",
       "      <td>SPECS</td>\n",
       "      <td>CBK290948</td>\n",
       "      <td>BJ1899032</td>\n",
       "      <td>K05977823</td>\n",
       "      <td>C20H23N3O2S</td>\n",
       "      <td>369.49</td>\n",
       "      <td>Tenovin-1</td>\n",
       "      <td>Selleck Chemicals</td>\n",
       "      <td>380315-80-0</td>\n",
       "      <td>CC(=O)Nc1ccc(NC(=S)NC(=O)c2ccc(cc2)C(C)(C)C)cc1</td>\n",
       "      <td>...</td>\n",
       "      <td>1013376.0</td>\n",
       "      <td>144206362.0</td>\n",
       "      <td>W</td>\n",
       "      <td>NaN</td>\n",
       "      <td>Tox21_112809</td>\n",
       "      <td>NaN</td>\n",
       "      <td>NaN</td>\n",
       "      <td>NaN</td>\n",
       "      <td>SIRT inhibitor|TP53 activator</td>\n",
       "      <td>aryl hydrocarbon receptor agonist</td>\n",
       "    </tr>\n",
       "    <tr>\n",
       "      <th>3</th>\n",
       "      <td>SPECS</td>\n",
       "      <td>CBK200855</td>\n",
       "      <td>BJ1895358</td>\n",
       "      <td>K09255212</td>\n",
       "      <td>C9H5ClINO</td>\n",
       "      <td>305.50</td>\n",
       "      <td>CLIOQUINOL</td>\n",
       "      <td>Microsource Discovery Systems</td>\n",
       "      <td>130-26-7</td>\n",
       "      <td>Oc1c(I)cc(Cl)c2cccnc12</td>\n",
       "      <td>...</td>\n",
       "      <td>2788.0</td>\n",
       "      <td>144203967.0</td>\n",
       "      <td>A</td>\n",
       "      <td>A</td>\n",
       "      <td>Tox21_110416</td>\n",
       "      <td>NaN</td>\n",
       "      <td>NaN</td>\n",
       "      <td>NaN</td>\n",
       "      <td>chelating agent</td>\n",
       "      <td>aryl hydrocarbon receptor agonist</td>\n",
       "    </tr>\n",
       "    <tr>\n",
       "      <th>4</th>\n",
       "      <td>SPECS</td>\n",
       "      <td>CBK015802</td>\n",
       "      <td>BJ1895142</td>\n",
       "      <td>K17075857</td>\n",
       "      <td>C9H5Cl2NO</td>\n",
       "      <td>214.05</td>\n",
       "      <td>CHLOROXINE</td>\n",
       "      <td>Microsource Discovery Systems</td>\n",
       "      <td>773-76-2</td>\n",
       "      <td>Oc1c(Cl)cc(Cl)c2cccnc12</td>\n",
       "      <td>...</td>\n",
       "      <td>2722.0</td>\n",
       "      <td>144205047.0</td>\n",
       "      <td>A</td>\n",
       "      <td>A</td>\n",
       "      <td>Tox21_111494</td>\n",
       "      <td>NaN</td>\n",
       "      <td>NaN</td>\n",
       "      <td>NaN</td>\n",
       "      <td>opioid receptor antagonist</td>\n",
       "      <td>aryl hydrocarbon receptor agonist</td>\n",
       "    </tr>\n",
       "    <tr>\n",
       "      <th>...</th>\n",
       "      <td>...</td>\n",
       "      <td>...</td>\n",
       "      <td>...</td>\n",
       "      <td>...</td>\n",
       "      <td>...</td>\n",
       "      <td>...</td>\n",
       "      <td>...</td>\n",
       "      <td>...</td>\n",
       "      <td>...</td>\n",
       "      <td>...</td>\n",
       "      <td>...</td>\n",
       "      <td>...</td>\n",
       "      <td>...</td>\n",
       "      <td>...</td>\n",
       "      <td>...</td>\n",
       "      <td>...</td>\n",
       "      <td>...</td>\n",
       "      <td>...</td>\n",
       "      <td>...</td>\n",
       "      <td>...</td>\n",
       "      <td>...</td>\n",
       "    </tr>\n",
       "    <tr>\n",
       "      <th>639</th>\n",
       "      <td>SPECS</td>\n",
       "      <td>CBK291076</td>\n",
       "      <td>BJ1895025</td>\n",
       "      <td>K30126819</td>\n",
       "      <td>C4H8O6S4.2Na</td>\n",
       "      <td>326.34</td>\n",
       "      <td>DIMESNA</td>\n",
       "      <td>Microsource Discovery Systems</td>\n",
       "      <td>16208-51-8</td>\n",
       "      <td>OS(=O)(=O)CCSSCCS(O)(=O)=O</td>\n",
       "      <td>...</td>\n",
       "      <td>NaN</td>\n",
       "      <td>NaN</td>\n",
       "      <td>NaN</td>\n",
       "      <td>NaN</td>\n",
       "      <td>NaN</td>\n",
       "      <td>NaN</td>\n",
       "      <td>NaN</td>\n",
       "      <td>NaN</td>\n",
       "      <td>tubulin polymerization inhibitor</td>\n",
       "      <td>tubulin polymerization inhibitor</td>\n",
       "    </tr>\n",
       "    <tr>\n",
       "      <th>640</th>\n",
       "      <td>SPECS</td>\n",
       "      <td>CBK307747</td>\n",
       "      <td>BJ1894364</td>\n",
       "      <td>K61195623</td>\n",
       "      <td>C18H20O5</td>\n",
       "      <td>316.36</td>\n",
       "      <td>Combretastatin-A4</td>\n",
       "      <td>Axon Medchem BV</td>\n",
       "      <td>CAS 117048-59-6</td>\n",
       "      <td>COc1ccc(\\C=C/c2cc(OC)c(OC)c(OC)c2)cc1O</td>\n",
       "      <td>...</td>\n",
       "      <td>NaN</td>\n",
       "      <td>NaN</td>\n",
       "      <td>NaN</td>\n",
       "      <td>NaN</td>\n",
       "      <td>NaN</td>\n",
       "      <td>NaN</td>\n",
       "      <td>NaN</td>\n",
       "      <td>NaN</td>\n",
       "      <td>tubulin polymerization inhibitor</td>\n",
       "      <td>tubulin polymerization inhibitor</td>\n",
       "    </tr>\n",
       "    <tr>\n",
       "      <th>641</th>\n",
       "      <td>SPECS</td>\n",
       "      <td>CBK307964</td>\n",
       "      <td>BJ1895783</td>\n",
       "      <td>K59753975</td>\n",
       "      <td>C43H55N5O7.H2SO4</td>\n",
       "      <td>852.03</td>\n",
       "      <td>Vindesine Sulfate</td>\n",
       "      <td>Avachem Scientific</td>\n",
       "      <td>59917-39-4</td>\n",
       "      <td>CC[C@]1(O)C[C@H]2CN(C1)CCc1c([nH]c3ccccc13)[C@...</td>\n",
       "      <td>...</td>\n",
       "      <td>NaN</td>\n",
       "      <td>NaN</td>\n",
       "      <td>NaN</td>\n",
       "      <td>NaN</td>\n",
       "      <td>NaN</td>\n",
       "      <td>NaN</td>\n",
       "      <td>NaN</td>\n",
       "      <td>NaN</td>\n",
       "      <td>tubulin polymerization inhibitor</td>\n",
       "      <td>tubulin polymerization inhibitor</td>\n",
       "    </tr>\n",
       "    <tr>\n",
       "      <th>642</th>\n",
       "      <td>SPECS</td>\n",
       "      <td>CBK309391</td>\n",
       "      <td>BJ1897986</td>\n",
       "      <td>K78567475</td>\n",
       "      <td>C42H68N6O6S</td>\n",
       "      <td>785.11</td>\n",
       "      <td>Dolastin-10</td>\n",
       "      <td>Shanghai PI Chemicals Ltd</td>\n",
       "      <td>NotKnown</td>\n",
       "      <td>CC[C@H](C)[C@@H]([C@@H](CC(=O)N1CCC[C@H]1[C@H]...</td>\n",
       "      <td>...</td>\n",
       "      <td>NaN</td>\n",
       "      <td>NaN</td>\n",
       "      <td>NaN</td>\n",
       "      <td>NaN</td>\n",
       "      <td>NaN</td>\n",
       "      <td>NaN</td>\n",
       "      <td>NaN</td>\n",
       "      <td>NaN</td>\n",
       "      <td>tubulin polymerization inhibitor</td>\n",
       "      <td>tubulin polymerization inhibitor</td>\n",
       "    </tr>\n",
       "    <tr>\n",
       "      <th>643</th>\n",
       "      <td>SPECS</td>\n",
       "      <td>CBK309437</td>\n",
       "      <td>BJ1898432</td>\n",
       "      <td>K23363278</td>\n",
       "      <td>C24H30N6O2</td>\n",
       "      <td>434.55</td>\n",
       "      <td>CYT997</td>\n",
       "      <td>Selleck Chemicals</td>\n",
       "      <td>917111-44-5</td>\n",
       "      <td>CCC[C@H](Nc1nc(ncc1C)-c1ccc(NC(=O)NCC)c(OC)c1)...</td>\n",
       "      <td>...</td>\n",
       "      <td>NaN</td>\n",
       "      <td>NaN</td>\n",
       "      <td>NaN</td>\n",
       "      <td>NaN</td>\n",
       "      <td>NaN</td>\n",
       "      <td>NaN</td>\n",
       "      <td>NaN</td>\n",
       "      <td>NaN</td>\n",
       "      <td>tubulin polymerization inhibitor</td>\n",
       "      <td>tubulin polymerization inhibitor</td>\n",
       "    </tr>\n",
       "  </tbody>\n",
       "</table>\n",
       "<p>644 rows × 39 columns</p>\n",
       "</div>"
      ],
      "text/plain": [
       "    Library Compound ID   Batch nr CUSTOMER_ID            MOLFORMULA  \\\n",
       "0     SPECS   CBK290537  BJ1898259   A39052811  C21H25ClFN3O3.C6H8O7   \n",
       "1     SPECS   CBK200938  BJ1897571   A84465106            C20H24N2O6   \n",
       "2     SPECS   CBK290948  BJ1899032   K05977823           C20H23N3O2S   \n",
       "3     SPECS   CBK200855  BJ1895358   K09255212             C9H5ClINO   \n",
       "4     SPECS   CBK015802  BJ1895142   K17075857             C9H5Cl2NO   \n",
       "..      ...         ...        ...         ...                   ...   \n",
       "639   SPECS   CBK291076  BJ1895025   K30126819          C4H8O6S4.2Na   \n",
       "640   SPECS   CBK307747  BJ1894364   K61195623              C18H20O5   \n",
       "641   SPECS   CBK307964  BJ1895783   K59753975      C43H55N5O7.H2SO4   \n",
       "642   SPECS   CBK309391  BJ1897986   K78567475           C42H68N6O6S   \n",
       "643   SPECS   CBK309437  BJ1898432   K23363278            C24H30N6O2   \n",
       "\n",
       "     MOLWEIGHT               NAME                         VENDOR  \\\n",
       "0       614.03  Mosapride citrate              Selleck Chemicals   \n",
       "1       388.42        Nisoldipine                 MedChemExpress   \n",
       "2       369.49          Tenovin-1              Selleck Chemicals   \n",
       "3       305.50         CLIOQUINOL  Microsource Discovery Systems   \n",
       "4       214.05         CHLOROXINE  Microsource Discovery Systems   \n",
       "..         ...                ...                            ...   \n",
       "639     326.34            DIMESNA  Microsource Discovery Systems   \n",
       "640     316.36  Combretastatin-A4                Axon Medchem BV   \n",
       "641     852.03  Vindesine Sulfate             Avachem Scientific   \n",
       "642     785.11        Dolastin-10      Shanghai PI Chemicals Ltd   \n",
       "643     434.55             CYT997              Selleck Chemicals   \n",
       "\n",
       "                                   ADD_INFO  \\\n",
       "0                               112885-42-4   \n",
       "1    CAS 63675-72-9, target Calcium Channel   \n",
       "2                               380315-80-0   \n",
       "3                                  130-26-7   \n",
       "4                                  773-76-2   \n",
       "..                                      ...   \n",
       "639                              16208-51-8   \n",
       "640                         CAS 117048-59-6   \n",
       "641                              59917-39-4   \n",
       "642                                NotKnown   \n",
       "643                             917111-44-5   \n",
       "\n",
       "                                                SMILES  ... PUBCHEM_CID  \\\n",
       "0      CCOc1cc(N)c(Cl)cc1C(=O)NCC1CN(Cc2ccc(F)cc2)CCO1  ...    119583.0   \n",
       "1    O=C(C1=C(C)NC(C)=C(C(OCC(C)C)=O)C1C2=CC=CC=C2[...  ...      4499.0   \n",
       "2      CC(=O)Nc1ccc(NC(=S)NC(=O)c2ccc(cc2)C(C)(C)C)cc1  ...   1013376.0   \n",
       "3                               Oc1c(I)cc(Cl)c2cccnc12  ...      2788.0   \n",
       "4                              Oc1c(Cl)cc(Cl)c2cccnc12  ...      2722.0   \n",
       "..                                                 ...  ...         ...   \n",
       "639                         OS(=O)(=O)CCSSCCS(O)(=O)=O  ...         NaN   \n",
       "640             COc1ccc(\\C=C/c2cc(OC)c(OC)c(OC)c2)cc1O  ...         NaN   \n",
       "641  CC[C@]1(O)C[C@H]2CN(C1)CCc1c([nH]c3ccccc13)[C@...  ...         NaN   \n",
       "642  CC[C@H](C)[C@@H]([C@@H](CC(=O)N1CCC[C@H]1[C@H]...  ...         NaN   \n",
       "643  CCC[C@H](Nc1nc(ncc1C)-c1ccc(NC(=O)NCC)c(OC)c1)...  ...         NaN   \n",
       "\n",
       "     PUBCHEM_SID PURITY_RATING PURITY_RATING_4M      TOX21_ID DILIST_ID  \\\n",
       "0    144205427.0             A                A  Tox21_111874       NaN   \n",
       "1    144205804.0             F               Fc  Tox21_112251       NaN   \n",
       "2    144206362.0             W              NaN  Tox21_112809       NaN   \n",
       "3    144203967.0             A                A  Tox21_110416       NaN   \n",
       "4    144205047.0             A                A  Tox21_111494       NaN   \n",
       "..           ...           ...              ...           ...       ...   \n",
       "639          NaN           NaN              NaN           NaN       NaN   \n",
       "640          NaN           NaN              NaN           NaN       NaN   \n",
       "641          NaN           NaN              NaN           NaN       NaN   \n",
       "642          NaN           NaN              NaN           NaN       NaN   \n",
       "643          NaN           NaN              NaN           NaN       NaN   \n",
       "\n",
       "    DILIst Classification Routs of Administration  \\\n",
       "0                     NaN                     NaN   \n",
       "1                     NaN                     NaN   \n",
       "2                     NaN                     NaN   \n",
       "3                     NaN                     NaN   \n",
       "4                     NaN                     NaN   \n",
       "..                    ...                     ...   \n",
       "639                   NaN                     NaN   \n",
       "640                   NaN                     NaN   \n",
       "641                   NaN                     NaN   \n",
       "642                   NaN                     NaN   \n",
       "643                   NaN                     NaN   \n",
       "\n",
       "    selected_mechanism of action (MoA)                 selected_mechanism  \n",
       "0           serotonin receptor agonist  aryl hydrocarbon receptor agonist  \n",
       "1              calcium channel blocker  aryl hydrocarbon receptor agonist  \n",
       "2        SIRT inhibitor|TP53 activator  aryl hydrocarbon receptor agonist  \n",
       "3                      chelating agent  aryl hydrocarbon receptor agonist  \n",
       "4           opioid receptor antagonist  aryl hydrocarbon receptor agonist  \n",
       "..                                 ...                                ...  \n",
       "639   tubulin polymerization inhibitor   tubulin polymerization inhibitor  \n",
       "640   tubulin polymerization inhibitor   tubulin polymerization inhibitor  \n",
       "641   tubulin polymerization inhibitor   tubulin polymerization inhibitor  \n",
       "642   tubulin polymerization inhibitor   tubulin polymerization inhibitor  \n",
       "643   tubulin polymerization inhibitor   tubulin polymerization inhibitor  \n",
       "\n",
       "[644 rows x 39 columns]"
      ]
     },
     "execution_count": 14,
     "metadata": {},
     "output_type": "execute_result"
    }
   ],
   "source": [
    "compounds_wge"
   ]
  },
  {
   "cell_type": "markdown",
   "metadata": {},
   "source": [
    " Means that there are 644 compounds that have induced gene expression profiles and HCI in SPECS V1"
   ]
  },
  {
   "cell_type": "code",
   "execution_count": 61,
   "metadata": {},
   "outputs": [
    {
     "data": {
      "text/plain": [
       "cyclooxygenase inhibitor                      56\n",
       "phosphodiesterase inhibitor                   50\n",
       "EGFR inhibitor                                38\n",
       "HDAC inhibitor                                33\n",
       "topoisomerase inhibitor                       32\n",
       "glucocorticoid receptor agonist               28\n",
       "CC chemokine receptor antagonist              27\n",
       "adenosine receptor antagonist                 26\n",
       "histone lysine methyltransferase inhibitor    25\n",
       "HSP inhibitor                                 24\n",
       "Name: moa, dtype: int64"
      ]
     },
     "execution_count": 61,
     "metadata": {},
     "output_type": "execute_result"
    }
   ],
   "source": [
    "# checking to if the number of compounds with the same mechanism of action\n",
    "pd.set_option(\"display.max_rows\", None)\n",
    "compounds.moa.value_counts()[:10]"
   ]
  },
  {
   "cell_type": "code",
   "execution_count": 62,
   "metadata": {},
   "outputs": [
    {
     "data": {
      "text/plain": [
       "cyclooxygenase inhibitor                      52\n",
       "phosphodiesterase inhibitor                   45\n",
       "EGFR inhibitor                                27\n",
       "HDAC inhibitor                                25\n",
       "topoisomerase inhibitor                       23\n",
       "adenosine receptor antagonist                 22\n",
       "CC chemokine receptor antagonist              18\n",
       "PARP inhibitor                                18\n",
       "histone lysine methyltransferase inhibitor    17\n",
       "glucocorticoid receptor agonist               17\n",
       "Name: moa, dtype: int64"
      ]
     },
     "execution_count": 62,
     "metadata": {},
     "output_type": "execute_result"
    }
   ],
   "source": [
    "# checking to see if there is a loss when we exclude those that don't have both expression data and compound MOA.\n",
    "compounds_wge.moa.value_counts()[:10]\n",
    "# we see a loss"
   ]
  },
  {
   "cell_type": "code",
   "execution_count": 63,
   "metadata": {},
   "outputs": [
    {
     "data": {
      "text/html": [
       "<div>\n",
       "<style scoped>\n",
       "    .dataframe tbody tr th:only-of-type {\n",
       "        vertical-align: middle;\n",
       "    }\n",
       "\n",
       "    .dataframe tbody tr th {\n",
       "        vertical-align: top;\n",
       "    }\n",
       "\n",
       "    .dataframe thead th {\n",
       "        text-align: right;\n",
       "    }\n",
       "</style>\n",
       "<table border=\"1\" class=\"dataframe\">\n",
       "  <thead>\n",
       "    <tr style=\"text-align: right;\">\n",
       "      <th></th>\n",
       "      <th>Library</th>\n",
       "      <th>Compound ID</th>\n",
       "      <th>Batch nr</th>\n",
       "      <th>CUSTOMER_ID</th>\n",
       "      <th>MOLFORMULA</th>\n",
       "      <th>MOLWEIGHT</th>\n",
       "      <th>NAME</th>\n",
       "      <th>VENDOR</th>\n",
       "      <th>ADD_INFO</th>\n",
       "      <th>SMILES</th>\n",
       "      <th>...</th>\n",
       "      <th>PUBCHEM_CID</th>\n",
       "      <th>PUBCHEM_SID</th>\n",
       "      <th>PURITY_RATING</th>\n",
       "      <th>PURITY_RATING_4M</th>\n",
       "      <th>TOX21_ID</th>\n",
       "      <th>DILIST_ID</th>\n",
       "      <th>DILIst Classification</th>\n",
       "      <th>Routs of Administration</th>\n",
       "      <th>selected_mechanism of action (MoA)</th>\n",
       "      <th>selected_mechanism</th>\n",
       "    </tr>\n",
       "  </thead>\n",
       "  <tbody>\n",
       "    <tr>\n",
       "      <th>0</th>\n",
       "      <td>SPECS</td>\n",
       "      <td>CBK290537</td>\n",
       "      <td>BJ1898259</td>\n",
       "      <td>A39052811</td>\n",
       "      <td>C21H25ClFN3O3.C6H8O7</td>\n",
       "      <td>614.03</td>\n",
       "      <td>Mosapride citrate</td>\n",
       "      <td>Selleck Chemicals</td>\n",
       "      <td>112885-42-4</td>\n",
       "      <td>CCOc1cc(N)c(Cl)cc1C(=O)NCC1CN(Cc2ccc(F)cc2)CCO1</td>\n",
       "      <td>...</td>\n",
       "      <td>119583.0</td>\n",
       "      <td>144205427.0</td>\n",
       "      <td>A</td>\n",
       "      <td>A</td>\n",
       "      <td>Tox21_111874</td>\n",
       "      <td>NaN</td>\n",
       "      <td>NaN</td>\n",
       "      <td>NaN</td>\n",
       "      <td>serotonin receptor agonist</td>\n",
       "      <td>aryl hydrocarbon receptor agonist</td>\n",
       "    </tr>\n",
       "    <tr>\n",
       "      <th>1</th>\n",
       "      <td>SPECS</td>\n",
       "      <td>CBK200938</td>\n",
       "      <td>BJ1897571</td>\n",
       "      <td>A84465106</td>\n",
       "      <td>C20H24N2O6</td>\n",
       "      <td>388.42</td>\n",
       "      <td>Nisoldipine</td>\n",
       "      <td>MedChemExpress</td>\n",
       "      <td>CAS 63675-72-9, target Calcium Channel</td>\n",
       "      <td>O=C(C1=C(C)NC(C)=C(C(OCC(C)C)=O)C1C2=CC=CC=C2[...</td>\n",
       "      <td>...</td>\n",
       "      <td>4499.0</td>\n",
       "      <td>144205804.0</td>\n",
       "      <td>F</td>\n",
       "      <td>Fc</td>\n",
       "      <td>Tox21_112251</td>\n",
       "      <td>NaN</td>\n",
       "      <td>NaN</td>\n",
       "      <td>NaN</td>\n",
       "      <td>calcium channel blocker</td>\n",
       "      <td>aryl hydrocarbon receptor agonist</td>\n",
       "    </tr>\n",
       "    <tr>\n",
       "      <th>2</th>\n",
       "      <td>SPECS</td>\n",
       "      <td>CBK290948</td>\n",
       "      <td>BJ1899032</td>\n",
       "      <td>K05977823</td>\n",
       "      <td>C20H23N3O2S</td>\n",
       "      <td>369.49</td>\n",
       "      <td>Tenovin-1</td>\n",
       "      <td>Selleck Chemicals</td>\n",
       "      <td>380315-80-0</td>\n",
       "      <td>CC(=O)Nc1ccc(NC(=S)NC(=O)c2ccc(cc2)C(C)(C)C)cc1</td>\n",
       "      <td>...</td>\n",
       "      <td>1013376.0</td>\n",
       "      <td>144206362.0</td>\n",
       "      <td>W</td>\n",
       "      <td>NaN</td>\n",
       "      <td>Tox21_112809</td>\n",
       "      <td>NaN</td>\n",
       "      <td>NaN</td>\n",
       "      <td>NaN</td>\n",
       "      <td>SIRT inhibitor|TP53 activator</td>\n",
       "      <td>aryl hydrocarbon receptor agonist</td>\n",
       "    </tr>\n",
       "    <tr>\n",
       "      <th>3</th>\n",
       "      <td>SPECS</td>\n",
       "      <td>CBK200855</td>\n",
       "      <td>BJ1895358</td>\n",
       "      <td>K09255212</td>\n",
       "      <td>C9H5ClINO</td>\n",
       "      <td>305.50</td>\n",
       "      <td>CLIOQUINOL</td>\n",
       "      <td>Microsource Discovery Systems</td>\n",
       "      <td>130-26-7</td>\n",
       "      <td>Oc1c(I)cc(Cl)c2cccnc12</td>\n",
       "      <td>...</td>\n",
       "      <td>2788.0</td>\n",
       "      <td>144203967.0</td>\n",
       "      <td>A</td>\n",
       "      <td>A</td>\n",
       "      <td>Tox21_110416</td>\n",
       "      <td>NaN</td>\n",
       "      <td>NaN</td>\n",
       "      <td>NaN</td>\n",
       "      <td>chelating agent</td>\n",
       "      <td>aryl hydrocarbon receptor agonist</td>\n",
       "    </tr>\n",
       "    <tr>\n",
       "      <th>4</th>\n",
       "      <td>SPECS</td>\n",
       "      <td>CBK015802</td>\n",
       "      <td>BJ1895142</td>\n",
       "      <td>K17075857</td>\n",
       "      <td>C9H5Cl2NO</td>\n",
       "      <td>214.05</td>\n",
       "      <td>CHLOROXINE</td>\n",
       "      <td>Microsource Discovery Systems</td>\n",
       "      <td>773-76-2</td>\n",
       "      <td>Oc1c(Cl)cc(Cl)c2cccnc12</td>\n",
       "      <td>...</td>\n",
       "      <td>2722.0</td>\n",
       "      <td>144205047.0</td>\n",
       "      <td>A</td>\n",
       "      <td>A</td>\n",
       "      <td>Tox21_111494</td>\n",
       "      <td>NaN</td>\n",
       "      <td>NaN</td>\n",
       "      <td>NaN</td>\n",
       "      <td>opioid receptor antagonist</td>\n",
       "      <td>aryl hydrocarbon receptor agonist</td>\n",
       "    </tr>\n",
       "  </tbody>\n",
       "</table>\n",
       "<p>5 rows × 39 columns</p>\n",
       "</div>"
      ],
      "text/plain": [
       "  Library Compound ID   Batch nr CUSTOMER_ID            MOLFORMULA  MOLWEIGHT  \\\n",
       "0   SPECS   CBK290537  BJ1898259   A39052811  C21H25ClFN3O3.C6H8O7     614.03   \n",
       "1   SPECS   CBK200938  BJ1897571   A84465106            C20H24N2O6     388.42   \n",
       "2   SPECS   CBK290948  BJ1899032   K05977823           C20H23N3O2S     369.49   \n",
       "3   SPECS   CBK200855  BJ1895358   K09255212             C9H5ClINO     305.50   \n",
       "4   SPECS   CBK015802  BJ1895142   K17075857             C9H5Cl2NO     214.05   \n",
       "\n",
       "                NAME                         VENDOR  \\\n",
       "0  Mosapride citrate              Selleck Chemicals   \n",
       "1        Nisoldipine                 MedChemExpress   \n",
       "2          Tenovin-1              Selleck Chemicals   \n",
       "3         CLIOQUINOL  Microsource Discovery Systems   \n",
       "4         CHLOROXINE  Microsource Discovery Systems   \n",
       "\n",
       "                                 ADD_INFO  \\\n",
       "0                             112885-42-4   \n",
       "1  CAS 63675-72-9, target Calcium Channel   \n",
       "2                             380315-80-0   \n",
       "3                                130-26-7   \n",
       "4                                773-76-2   \n",
       "\n",
       "                                              SMILES  ... PUBCHEM_CID  \\\n",
       "0    CCOc1cc(N)c(Cl)cc1C(=O)NCC1CN(Cc2ccc(F)cc2)CCO1  ...    119583.0   \n",
       "1  O=C(C1=C(C)NC(C)=C(C(OCC(C)C)=O)C1C2=CC=CC=C2[...  ...      4499.0   \n",
       "2    CC(=O)Nc1ccc(NC(=S)NC(=O)c2ccc(cc2)C(C)(C)C)cc1  ...   1013376.0   \n",
       "3                             Oc1c(I)cc(Cl)c2cccnc12  ...      2788.0   \n",
       "4                            Oc1c(Cl)cc(Cl)c2cccnc12  ...      2722.0   \n",
       "\n",
       "   PUBCHEM_SID PURITY_RATING PURITY_RATING_4M      TOX21_ID DILIST_ID  \\\n",
       "0  144205427.0             A                A  Tox21_111874       NaN   \n",
       "1  144205804.0             F               Fc  Tox21_112251       NaN   \n",
       "2  144206362.0             W              NaN  Tox21_112809       NaN   \n",
       "3  144203967.0             A                A  Tox21_110416       NaN   \n",
       "4  144205047.0             A                A  Tox21_111494       NaN   \n",
       "\n",
       "  DILIst Classification Routs of Administration  \\\n",
       "0                   NaN                     NaN   \n",
       "1                   NaN                     NaN   \n",
       "2                   NaN                     NaN   \n",
       "3                   NaN                     NaN   \n",
       "4                   NaN                     NaN   \n",
       "\n",
       "  selected_mechanism of action (MoA)                 selected_mechanism  \n",
       "0         serotonin receptor agonist  aryl hydrocarbon receptor agonist  \n",
       "1            calcium channel blocker  aryl hydrocarbon receptor agonist  \n",
       "2      SIRT inhibitor|TP53 activator  aryl hydrocarbon receptor agonist  \n",
       "3                    chelating agent  aryl hydrocarbon receptor agonist  \n",
       "4         opioid receptor antagonist  aryl hydrocarbon receptor agonist  \n",
       "\n",
       "[5 rows x 39 columns]"
      ]
     },
     "execution_count": 63,
     "metadata": {},
     "output_type": "execute_result"
    }
   ],
   "source": [
    "compounds_wge[:5]"
   ]
  },
  {
   "cell_type": "code",
   "execution_count": 18,
   "metadata": {},
   "outputs": [
    {
     "data": {
      "text/plain": [
       "HDAC inhibitor                      33\n",
       "topoisomerase inhibitor             32\n",
       "HSP inhibitor                       24\n",
       "protein synthesis inhibitor         23\n",
       "JAK inhibitor                       22\n",
       "PARP inhibitor                      21\n",
       "retinoid receptor agonist           20\n",
       "tubulin polymerization inhibitor    20\n",
       "Aurora kinase inhibitor             20\n",
       "ATPase inhibitor                    19\n",
       "Name: moa, dtype: int64"
      ]
     },
     "execution_count": 18,
     "metadata": {},
     "output_type": "execute_result"
    }
   ],
   "source": [
    "# For all the compounds in the original chosen group, see how many compounds with the same MOA \n",
    "# we have in each of our two data frames.\n",
    "compounds[compounds.moa.isin(moas)].moa.value_counts()"
   ]
  },
  {
   "cell_type": "code",
   "execution_count": 19,
   "metadata": {},
   "outputs": [
    {
     "data": {
      "text/plain": [
       "HDAC inhibitor                      25\n",
       "topoisomerase inhibitor             23\n",
       "PARP inhibitor                      18\n",
       "tubulin polymerization inhibitor    16\n",
       "JAK inhibitor                       15\n",
       "retinoid receptor agonist           14\n",
       "HSP inhibitor                       13\n",
       "ATPase inhibitor                    12\n",
       "Aurora kinase inhibitor             12\n",
       "protein synthesis inhibitor          8\n",
       "Name: moa, dtype: int64"
      ]
     },
     "execution_count": 19,
     "metadata": {},
     "output_type": "execute_result"
    }
   ],
   "source": [
    "# For all the compounds where the compounds are identical for creating morphological and transcriptomic profiles,\n",
    "# see how many compounds with the same MOA we have in each of our two data frames.\n",
    "compounds_wge[compounds_wge.moa.isin(moas)].moa.value_counts()"
   ]
  },
  {
   "cell_type": "markdown",
   "metadata": {},
   "source": [
    "# Compounds from Specs1K-v2"
   ]
  },
  {
   "cell_type": "code",
   "execution_count": 20,
   "metadata": {},
   "outputs": [],
   "source": [
    "# Download compounds that were used to perturb cells for HIC from second batch that comes from PharmBio Lab\n",
    "compounds2 = pd.read_csv('/home/jovyan/scratch-shared/erik/from_phil/SPECS1K-v2.csv', sep=',')"
   ]
  },
  {
   "cell_type": "code",
   "execution_count": 21,
   "metadata": {},
   "outputs": [
    {
     "data": {
      "text/html": [
       "<div>\n",
       "<style scoped>\n",
       "    .dataframe tbody tr th:only-of-type {\n",
       "        vertical-align: middle;\n",
       "    }\n",
       "\n",
       "    .dataframe tbody tr th {\n",
       "        vertical-align: top;\n",
       "    }\n",
       "\n",
       "    .dataframe thead th {\n",
       "        text-align: right;\n",
       "    }\n",
       "</style>\n",
       "<table border=\"1\" class=\"dataframe\">\n",
       "  <thead>\n",
       "    <tr style=\"text-align: right;\">\n",
       "      <th></th>\n",
       "      <th>Compound ID</th>\n",
       "      <th>Batch nr</th>\n",
       "      <th>CUSTOMER_ID</th>\n",
       "      <th>MOLFORMULA</th>\n",
       "      <th>MOLWEIGHT</th>\n",
       "      <th>NAME_x</th>\n",
       "      <th>VENDOR</th>\n",
       "      <th>ADD_INFO</th>\n",
       "      <th>SMILES_x</th>\n",
       "      <th>IUPAC_NAME</th>\n",
       "      <th>...</th>\n",
       "      <th>CAS</th>\n",
       "      <th>PUBCHEM_CID</th>\n",
       "      <th>PUBCHEM_SID</th>\n",
       "      <th>PURITY_RATING</th>\n",
       "      <th>PURITY_RATING_4M</th>\n",
       "      <th>NAME_y</th>\n",
       "      <th>SMILES_y</th>\n",
       "      <th>TOX21_ID</th>\n",
       "      <th>Selected_mechanism of action (MoA)</th>\n",
       "      <th>selected_mechanism</th>\n",
       "    </tr>\n",
       "  </thead>\n",
       "  <tbody>\n",
       "    <tr>\n",
       "      <th>0</th>\n",
       "      <td>CBK042036</td>\n",
       "      <td>BJ1899146</td>\n",
       "      <td>K95309561</td>\n",
       "      <td>C18H18O2</td>\n",
       "      <td>266.34</td>\n",
       "      <td>dienestrol</td>\n",
       "      <td>TargetMol</td>\n",
       "      <td>CAS 84-17-3</td>\n",
       "      <td>C\\C=C(c1ccc(O)cc1)\\C(c1ccc(O)cc1)=C\\C</td>\n",
       "      <td>4-[(E,1Z)-1-ethylidene-2-(4-hydroxyphenyl)but-...</td>\n",
       "      <td>...</td>\n",
       "      <td>84-17-3</td>\n",
       "      <td>667476.0</td>\n",
       "      <td>170465362.0</td>\n",
       "      <td>A</td>\n",
       "      <td>NaN</td>\n",
       "      <td>Dienestrol</td>\n",
       "      <td>Oc1ccc(cc1)C(=C\\C)/C(=C/C)c2ccc(O)cc2</td>\n",
       "      <td>Tox21_110378_1</td>\n",
       "      <td>estrogen receptor agonist</td>\n",
       "      <td>agonists of the antioxidant response element (...</td>\n",
       "    </tr>\n",
       "    <tr>\n",
       "      <th>1</th>\n",
       "      <td>CBK290570</td>\n",
       "      <td>BJ1895339</td>\n",
       "      <td>K92428153</td>\n",
       "      <td>C23H31NO7</td>\n",
       "      <td>433.51</td>\n",
       "      <td>MYCOPHENOLATE MOFETIL</td>\n",
       "      <td>Microsource Discovery Systems</td>\n",
       "      <td>115007-34-6</td>\n",
       "      <td>COc1c(C)c2COC(=O)c2c(O)c1C\\C=C(/C)CCC(=O)OCCN1...</td>\n",
       "      <td>2-morpholinoethyl (E)-6-(4-hydroxy-6-methoxy-7...</td>\n",
       "      <td>...</td>\n",
       "      <td>128794-94-5</td>\n",
       "      <td>5281078.0</td>\n",
       "      <td>170464859.0</td>\n",
       "      <td>A</td>\n",
       "      <td>NaN</td>\n",
       "      <td>Mycophenolate mofetil</td>\n",
       "      <td>Oc3c1C(=O)OCc1c(C)c(OC)c3C\\C=C(/C)CCC(=O)OCCN2...</td>\n",
       "      <td>Tox21_111686_1</td>\n",
       "      <td>dehydrogenase inhibitor|inositol monophosphata...</td>\n",
       "      <td>agonists of the antioxidant response element (...</td>\n",
       "    </tr>\n",
       "    <tr>\n",
       "      <th>2</th>\n",
       "      <td>CBK307944</td>\n",
       "      <td>BJ1895660</td>\n",
       "      <td>K82908348</td>\n",
       "      <td>C23H20N2O4S</td>\n",
       "      <td>420.49</td>\n",
       "      <td>darglitazone</td>\n",
       "      <td>Sanbio BV</td>\n",
       "      <td>CAS 141200-24-0</td>\n",
       "      <td>O=C(CCC1=C(C)OC(C2=CC=CC=C2)=N1)C3=CC=C(CC4SC(...</td>\n",
       "      <td>5-[[4-[3-(5-methyl-2-phenyl-oxazol-4-yl)propan...</td>\n",
       "      <td>...</td>\n",
       "      <td>141200-24-0</td>\n",
       "      <td>60870.0</td>\n",
       "      <td>170466177.0</td>\n",
       "      <td>A</td>\n",
       "      <td>A</td>\n",
       "      <td>Darglitazone</td>\n",
       "      <td>Cc3oc(nc3CCC(=O)c2ccc(CC1SC(=O)NC1=O)cc2)c4ccccc4</td>\n",
       "      <td>Tox21_113876</td>\n",
       "      <td>PPAR receptor antagonist</td>\n",
       "      <td>agonists of the antioxidant response element (...</td>\n",
       "    </tr>\n",
       "    <tr>\n",
       "      <th>3</th>\n",
       "      <td>CBK016703</td>\n",
       "      <td>BJ1894591</td>\n",
       "      <td>K82236179</td>\n",
       "      <td>C19H12O6</td>\n",
       "      <td>336.30</td>\n",
       "      <td>DICUMAROL</td>\n",
       "      <td>Microsource Discovery Systems</td>\n",
       "      <td>66-76-2 (acid)</td>\n",
       "      <td>Oc1c(Cc2c(O)c3ccccc3oc2=O)c(=O)oc2ccccc12</td>\n",
       "      <td>4-hydroxy-3-[(4-hydroxy-2-oxo-chromen-3-yl)met...</td>\n",
       "      <td>...</td>\n",
       "      <td>66-76-2</td>\n",
       "      <td>54676038.0</td>\n",
       "      <td>170465275.0</td>\n",
       "      <td>F</td>\n",
       "      <td>NaN</td>\n",
       "      <td>Dicumarol</td>\n",
       "      <td>OC=3c4ccccc4OC(=O)C=3CC1=C(O)c2ccccc2OC1=O</td>\n",
       "      <td>Tox21_110357_1</td>\n",
       "      <td>NADPH inhibitor</td>\n",
       "      <td>agonists of the antioxidant response element (...</td>\n",
       "    </tr>\n",
       "    <tr>\n",
       "      <th>4</th>\n",
       "      <td>CBK011717</td>\n",
       "      <td>BJ1894651</td>\n",
       "      <td>K82103381</td>\n",
       "      <td>C8H8N4.HCl</td>\n",
       "      <td>196.64</td>\n",
       "      <td>HYDRALAZINE HYDROCHLORIDE</td>\n",
       "      <td>Microsource Discovery Systems</td>\n",
       "      <td>86-54-4</td>\n",
       "      <td>NNc1nncc2ccccc12</td>\n",
       "      <td>phthalazin-1-ylhydrazine</td>\n",
       "      <td>...</td>\n",
       "      <td>304-20-1</td>\n",
       "      <td>9351.0</td>\n",
       "      <td>144212813.0</td>\n",
       "      <td>A</td>\n",
       "      <td>A</td>\n",
       "      <td>Hydralazine hydrochloride</td>\n",
       "      <td>Cl.NNc2nncc1ccccc12</td>\n",
       "      <td>Tox21_302496</td>\n",
       "      <td>vasodilator</td>\n",
       "      <td>agonists of the antioxidant response element (...</td>\n",
       "    </tr>\n",
       "  </tbody>\n",
       "</table>\n",
       "<p>5 rows × 37 columns</p>\n",
       "</div>"
      ],
      "text/plain": [
       "  Compound ID   Batch nr CUSTOMER_ID   MOLFORMULA  MOLWEIGHT  \\\n",
       "0   CBK042036  BJ1899146   K95309561     C18H18O2     266.34   \n",
       "1   CBK290570  BJ1895339   K92428153    C23H31NO7     433.51   \n",
       "2   CBK307944  BJ1895660   K82908348  C23H20N2O4S     420.49   \n",
       "3   CBK016703  BJ1894591   K82236179     C19H12O6     336.30   \n",
       "4   CBK011717  BJ1894651   K82103381   C8H8N4.HCl     196.64   \n",
       "\n",
       "                      NAME_x                         VENDOR         ADD_INFO  \\\n",
       "0                 dienestrol                      TargetMol      CAS 84-17-3   \n",
       "1      MYCOPHENOLATE MOFETIL  Microsource Discovery Systems      115007-34-6   \n",
       "2               darglitazone                      Sanbio BV  CAS 141200-24-0   \n",
       "3                  DICUMAROL  Microsource Discovery Systems   66-76-2 (acid)   \n",
       "4  HYDRALAZINE HYDROCHLORIDE  Microsource Discovery Systems          86-54-4   \n",
       "\n",
       "                                            SMILES_x  \\\n",
       "0              C\\C=C(c1ccc(O)cc1)\\C(c1ccc(O)cc1)=C\\C   \n",
       "1  COc1c(C)c2COC(=O)c2c(O)c1C\\C=C(/C)CCC(=O)OCCN1...   \n",
       "2  O=C(CCC1=C(C)OC(C2=CC=CC=C2)=N1)C3=CC=C(CC4SC(...   \n",
       "3          Oc1c(Cc2c(O)c3ccccc3oc2=O)c(=O)oc2ccccc12   \n",
       "4                                   NNc1nncc2ccccc12   \n",
       "\n",
       "                                          IUPAC_NAME  ...          CAS  \\\n",
       "0  4-[(E,1Z)-1-ethylidene-2-(4-hydroxyphenyl)but-...  ...      84-17-3   \n",
       "1  2-morpholinoethyl (E)-6-(4-hydroxy-6-methoxy-7...  ...  128794-94-5   \n",
       "2  5-[[4-[3-(5-methyl-2-phenyl-oxazol-4-yl)propan...  ...  141200-24-0   \n",
       "3  4-hydroxy-3-[(4-hydroxy-2-oxo-chromen-3-yl)met...  ...      66-76-2   \n",
       "4                           phthalazin-1-ylhydrazine  ...     304-20-1   \n",
       "\n",
       "  PUBCHEM_CID  PUBCHEM_SID PURITY_RATING PURITY_RATING_4M  \\\n",
       "0    667476.0  170465362.0             A              NaN   \n",
       "1   5281078.0  170464859.0             A              NaN   \n",
       "2     60870.0  170466177.0             A                A   \n",
       "3  54676038.0  170465275.0             F              NaN   \n",
       "4      9351.0  144212813.0             A                A   \n",
       "\n",
       "                      NAME_y  \\\n",
       "0                 Dienestrol   \n",
       "1      Mycophenolate mofetil   \n",
       "2               Darglitazone   \n",
       "3                  Dicumarol   \n",
       "4  Hydralazine hydrochloride   \n",
       "\n",
       "                                            SMILES_y        TOX21_ID  \\\n",
       "0              Oc1ccc(cc1)C(=C\\C)/C(=C/C)c2ccc(O)cc2  Tox21_110378_1   \n",
       "1  Oc3c1C(=O)OCc1c(C)c(OC)c3C\\C=C(/C)CCC(=O)OCCN2...  Tox21_111686_1   \n",
       "2  Cc3oc(nc3CCC(=O)c2ccc(CC1SC(=O)NC1=O)cc2)c4ccccc4    Tox21_113876   \n",
       "3         OC=3c4ccccc4OC(=O)C=3CC1=C(O)c2ccccc2OC1=O  Tox21_110357_1   \n",
       "4                                Cl.NNc2nncc1ccccc12    Tox21_302496   \n",
       "\n",
       "                  Selected_mechanism of action (MoA)  \\\n",
       "0                          estrogen receptor agonist   \n",
       "1  dehydrogenase inhibitor|inositol monophosphata...   \n",
       "2                           PPAR receptor antagonist   \n",
       "3                                    NADPH inhibitor   \n",
       "4                                        vasodilator   \n",
       "\n",
       "                                  selected_mechanism  \n",
       "0  agonists of the antioxidant response element (...  \n",
       "1  agonists of the antioxidant response element (...  \n",
       "2  agonists of the antioxidant response element (...  \n",
       "3  agonists of the antioxidant response element (...  \n",
       "4  agonists of the antioxidant response element (...  \n",
       "\n",
       "[5 rows x 37 columns]"
      ]
     },
     "execution_count": 21,
     "metadata": {},
     "output_type": "execute_result"
    }
   ],
   "source": [
    "compounds2[0:5]"
   ]
  },
  {
   "cell_type": "code",
   "execution_count": 22,
   "metadata": {},
   "outputs": [
    {
     "name": "stdout",
     "output_type": "stream",
     "text": [
      "<class 'pandas.core.frame.DataFrame'>\n",
      "RangeIndex: 999 entries, 0 to 998\n",
      "Data columns (total 37 columns):\n",
      " #   Column                              Non-Null Count  Dtype  \n",
      "---  ------                              --------------  -----  \n",
      " 0   Compound ID                         999 non-null    object \n",
      " 1   Batch nr                            999 non-null    object \n",
      " 2   CUSTOMER_ID                         999 non-null    object \n",
      " 3   MOLFORMULA                          999 non-null    object \n",
      " 4   MOLWEIGHT                           999 non-null    float64\n",
      " 5   NAME_x                              995 non-null    object \n",
      " 6   VENDOR                              999 non-null    object \n",
      " 7   ADD_INFO                            875 non-null    object \n",
      " 8   SMILES_x                            999 non-null    object \n",
      " 9   IUPAC_NAME                          993 non-null    object \n",
      " 10  STEREOCHEMISTRY                     251 non-null    object \n",
      " 11  pert_iname                          925 non-null    object \n",
      " 12  clinical_phase                      888 non-null    object \n",
      " 13  moa                                 816 non-null    object \n",
      " 14  target                              587 non-null    object \n",
      " 15  disease_area                        524 non-null    object \n",
      " 16  indication                          524 non-null    object \n",
      " 17  SAMPLE_ID                           529 non-null    object \n",
      " 18  PROTOCOL_NAME                       529 non-null    object \n",
      " 19  SAMPLE_DATA_TYPE                    529 non-null    object \n",
      " 20  ASSAY_OUTCOME                       529 non-null    object \n",
      " 21  CHANNEL_OUTCOME                     497 non-null    object \n",
      " 22  AC50                                477 non-null    float64\n",
      " 23  EFFICACY                            529 non-null    float64\n",
      " 24  REPRODUCIBILITY                     529 non-null    object \n",
      " 25  CURVE_RANK                          529 non-null    float64\n",
      " 26  FLAG                                41 non-null     object \n",
      " 27  CAS                                 529 non-null    object \n",
      " 28  PUBCHEM_CID                         529 non-null    float64\n",
      " 29  PUBCHEM_SID                         529 non-null    float64\n",
      " 30  PURITY_RATING                       523 non-null    object \n",
      " 31  PURITY_RATING_4M                    306 non-null    object \n",
      " 32  NAME_y                              529 non-null    object \n",
      " 33  SMILES_y                            529 non-null    object \n",
      " 34  TOX21_ID                            529 non-null    object \n",
      " 35  Selected_mechanism of action (MoA)  816 non-null    object \n",
      " 36  selected_mechanism                  529 non-null    object \n",
      "dtypes: float64(6), object(31)\n",
      "memory usage: 288.9+ KB\n"
     ]
    }
   ],
   "source": [
    "compounds2.info()"
   ]
  },
  {
   "cell_type": "code",
   "execution_count": 23,
   "metadata": {},
   "outputs": [
    {
     "data": {
      "text/plain": [
       "adrenergic receptor antagonist               38\n",
       "adrenergic receptor agonist                  30\n",
       "acetylcholine receptor antagonist            27\n",
       "dopamine receptor antagonist                 24\n",
       "histamine receptor antagonist                22\n",
       "bacterial cell wall synthesis inhibitor      21\n",
       "bacterial DNA gyrase inhibitor               16\n",
       "calcium channel blocker                      12\n",
       "bacterial 30S ribosomal subunit inhibitor    11\n",
       "sodium channel blocker                       11\n",
       "serotonin receptor antagonist                 9\n",
       "serotonin receptor agonist                    9\n",
       "acetylcholine receptor agonist                7\n",
       "glutamate receptor antagonist                 7\n",
       "local anesthetic                              7\n",
       "estrogen receptor agonist                     7\n",
       "sterol demethylase inhibitor                  7\n",
       "glutamate receptor agonist                    7\n",
       "cyclooxygenase inhibitor                      6\n",
       "mucolytic agent                               6\n",
       "progesterone receptor agonist                 6\n",
       "DNA inhibitor                                 5\n",
       "carbonic anhydrase inhibitor                  5\n",
       "dopamine receptor agonist                     5\n",
       "muscle relaxant                               5\n",
       "Name: moa, dtype: int64"
      ]
     },
     "execution_count": 23,
     "metadata": {},
     "output_type": "execute_result"
    }
   ],
   "source": [
    "# check batch 2 to see number of compounds with same mechanism of action\n",
    "compounds2.moa.value_counts()[:25]"
   ]
  },
  {
   "cell_type": "code",
   "execution_count": 24,
   "metadata": {},
   "outputs": [
    {
     "data": {
      "text/plain": [
       "(999, 37)"
      ]
     },
     "execution_count": 24,
     "metadata": {},
     "output_type": "execute_result"
    }
   ],
   "source": [
    "compounds2.shape"
   ]
  },
  {
   "cell_type": "markdown",
   "metadata": {},
   "source": [
    "# Combining Specs1K-v2 and Specs935"
   ]
  },
  {
   "cell_type": "code",
   "execution_count": 25,
   "metadata": {},
   "outputs": [
    {
     "name": "stdout",
     "output_type": "stream",
     "text": [
      "('Compound ID', 'Compound ID')\n",
      "('Batch nr', 'Batch nr')\n",
      "('CUSTOMER_ID', 'CUSTOMER_ID')\n",
      "('MOLFORMULA', 'MOLFORMULA')\n",
      "('MOLWEIGHT', 'MOLWEIGHT')\n",
      "('NAME', 'NAME_x')\n",
      "('VENDOR', 'VENDOR')\n",
      "('ADD_INFO', 'ADD_INFO')\n",
      "('SMILES', 'SMILES_x')\n",
      "('IUPAC_NAME', 'IUPAC_NAME')\n",
      "('STEREOCHEMISTRY', 'STEREOCHEMISTRY')\n",
      "('pert_iname', 'pert_iname')\n",
      "('clinical_phase', 'clinical_phase')\n",
      "('moa', 'moa')\n",
      "('target', 'target')\n",
      "('disease_area', 'disease_area')\n",
      "('indication', 'indication')\n",
      "('SAMPLE_ID', 'SAMPLE_ID')\n",
      "('PROTOCOL_NAME', 'PROTOCOL_NAME')\n",
      "('SAMPLE_DATA_TYPE', 'SAMPLE_DATA_TYPE')\n",
      "('ASSAY_OUTCOME', 'ASSAY_OUTCOME')\n",
      "('CHANNEL_OUTCOME', 'CHANNEL_OUTCOME')\n",
      "('AC50', 'AC50')\n",
      "('EFFICACY', 'EFFICACY')\n",
      "('REPRODUCIBILITY', 'REPRODUCIBILITY')\n",
      "('CURVE_RANK', 'CURVE_RANK')\n",
      "('FLAG', 'FLAG')\n",
      "('CAS', 'CAS')\n",
      "('PUBCHEM_CID', 'PUBCHEM_CID')\n",
      "('PUBCHEM_SID', 'PUBCHEM_SID')\n",
      "('PURITY_RATING', 'PURITY_RATING')\n",
      "('PURITY_RATING_4M', 'PURITY_RATING_4M')\n",
      "('TOX21_ID', 'NAME_y')\n",
      "('DILIST_ID', 'SMILES_y')\n",
      "('DILIst Classification', 'TOX21_ID')\n",
      "('Routs of Administration', 'Selected_mechanism of action (MoA)')\n",
      "('selected_mechanism of action (MoA)', 'selected_mechanism')\n"
     ]
    }
   ],
   "source": [
    "# checking to see the different names of the columns. Some differences occur which could be fixed (notice x with SMILES for example), but does not effect following\n",
    "for col1,col2 in zip(compounds.columns[1:], compounds2.columns):\n",
    "    print((col1,col2))"
   ]
  },
  {
   "cell_type": "code",
   "execution_count": 65,
   "metadata": {},
   "outputs": [],
   "source": [
    "a = compounds[[\"CUSTOMER_ID\", \"Batch nr\", \"Compound ID\", \"moa\"]]\n",
    "b = compounds2[[\"CUSTOMER_ID\", \"Batch nr\", \"Compound ID\", \"moa\"]]"
   ]
  },
  {
   "cell_type": "code",
   "execution_count": 66,
   "metadata": {},
   "outputs": [
    {
     "data": {
      "text/plain": [
       "(1934, 4)"
      ]
     },
     "execution_count": 66,
     "metadata": {},
     "output_type": "execute_result"
    }
   ],
   "source": [
    "# Concatenating both specs into a large dataframe\n",
    "frames = [a, b]\n",
    "compounds1_2 = pd.concat(frames)\n",
    "compounds1_2.shape"
   ]
  },
  {
   "cell_type": "markdown",
   "metadata": {},
   "source": [
    "Shape looks reasonable. Compounds1 (935) + Compounds2 (999) = 1934"
   ]
  },
  {
   "cell_type": "markdown",
   "metadata": {},
   "source": [
    "## Looking for Enantiomers"
   ]
  },
  {
   "cell_type": "markdown",
   "metadata": {},
   "source": [
    "### SPECSv1"
   ]
  },
  {
   "cell_type": "code",
   "execution_count": 70,
   "metadata": {},
   "outputs": [
    {
     "name": "stdout",
     "output_type": "stream",
     "text": [
      " Number of compounds when we remove enatiomers: 926 \n",
      " Unique enantiomers: 935\n"
     ]
    }
   ],
   "source": [
    "# We confirm that enantiomers exist in SPECSv1\n",
    "bro1 = a.drop_duplicates(subset=[\"Compound ID\"])\n",
    "bro2 = a.drop_duplicates(subset=[\"Compound ID\", \"Batch nr\"])\n",
    "print(f' Number of compounds when we remove enatiomers: {bro1.shape[0]} {chr(10)} Unique enantiomers: {bro2.shape[0]}')"
   ]
  },
  {
   "cell_type": "code",
   "execution_count": 69,
   "metadata": {},
   "outputs": [
    {
     "data": {
      "text/html": [
       "<div>\n",
       "<style scoped>\n",
       "    .dataframe tbody tr th:only-of-type {\n",
       "        vertical-align: middle;\n",
       "    }\n",
       "\n",
       "    .dataframe tbody tr th {\n",
       "        vertical-align: top;\n",
       "    }\n",
       "\n",
       "    .dataframe thead th {\n",
       "        text-align: right;\n",
       "    }\n",
       "</style>\n",
       "<table border=\"1\" class=\"dataframe\">\n",
       "  <thead>\n",
       "    <tr style=\"text-align: right;\">\n",
       "      <th></th>\n",
       "      <th>CUSTOMER_ID</th>\n",
       "      <th>Batch nr</th>\n",
       "      <th>Compound ID</th>\n",
       "      <th>moa</th>\n",
       "    </tr>\n",
       "  </thead>\n",
       "  <tbody>\n",
       "    <tr>\n",
       "      <th>333</th>\n",
       "      <td>A75817871</td>\n",
       "      <td>BJ1895656</td>\n",
       "      <td>CBK290052</td>\n",
       "      <td>ATPase inhibitor</td>\n",
       "    </tr>\n",
       "    <tr>\n",
       "      <th>384</th>\n",
       "      <td>A01307728</td>\n",
       "      <td>BJ1896354</td>\n",
       "      <td>CBK308185</td>\n",
       "      <td>CC chemokine receptor antagonist</td>\n",
       "    </tr>\n",
       "    <tr>\n",
       "      <th>403</th>\n",
       "      <td>M64062803</td>\n",
       "      <td>BJ1898297</td>\n",
       "      <td>CBK011551</td>\n",
       "      <td>cyclooxygenase inhibitor</td>\n",
       "    </tr>\n",
       "    <tr>\n",
       "      <th>405</th>\n",
       "      <td>K69907333</td>\n",
       "      <td>BJ1898335</td>\n",
       "      <td>CBK011558</td>\n",
       "      <td>cyclooxygenase inhibitor</td>\n",
       "    </tr>\n",
       "    <tr>\n",
       "      <th>543</th>\n",
       "      <td>A10188456</td>\n",
       "      <td>BJ1894583</td>\n",
       "      <td>CBK042030</td>\n",
       "      <td>glucocorticoid receptor agonist</td>\n",
       "    </tr>\n",
       "    <tr>\n",
       "      <th>620</th>\n",
       "      <td>K19601669</td>\n",
       "      <td>BJ1898720</td>\n",
       "      <td>CBK277968</td>\n",
       "      <td>JAK inhibitor</td>\n",
       "    </tr>\n",
       "    <tr>\n",
       "      <th>721</th>\n",
       "      <td>K34851558</td>\n",
       "      <td>BJ1898503</td>\n",
       "      <td>CBK041748</td>\n",
       "      <td>NFkB pathway inhibitor</td>\n",
       "    </tr>\n",
       "    <tr>\n",
       "      <th>722</th>\n",
       "      <td>K28120222</td>\n",
       "      <td>BJ1898075</td>\n",
       "      <td>CBK041748</td>\n",
       "      <td>NFkB pathway inhibitor</td>\n",
       "    </tr>\n",
       "    <tr>\n",
       "      <th>861</th>\n",
       "      <td>K71879491</td>\n",
       "      <td>BJ1899149</td>\n",
       "      <td>CBK011613</td>\n",
       "      <td>retinoid receptor agonist|retinoid receptor li...</td>\n",
       "    </tr>\n",
       "  </tbody>\n",
       "</table>\n",
       "</div>"
      ],
      "text/plain": [
       "    CUSTOMER_ID   Batch nr Compound ID  \\\n",
       "333   A75817871  BJ1895656   CBK290052   \n",
       "384   A01307728  BJ1896354   CBK308185   \n",
       "403   M64062803  BJ1898297   CBK011551   \n",
       "405   K69907333  BJ1898335   CBK011558   \n",
       "543   A10188456  BJ1894583   CBK042030   \n",
       "620   K19601669  BJ1898720   CBK277968   \n",
       "721   K34851558  BJ1898503   CBK041748   \n",
       "722   K28120222  BJ1898075   CBK041748   \n",
       "861   K71879491  BJ1899149   CBK011613   \n",
       "\n",
       "                                                   moa  \n",
       "333                                   ATPase inhibitor  \n",
       "384                   CC chemokine receptor antagonist  \n",
       "403                           cyclooxygenase inhibitor  \n",
       "405                           cyclooxygenase inhibitor  \n",
       "543                    glucocorticoid receptor agonist  \n",
       "620                                      JAK inhibitor  \n",
       "721                             NFkB pathway inhibitor  \n",
       "722                             NFkB pathway inhibitor  \n",
       "861  retinoid receptor agonist|retinoid receptor li...  "
      ]
     },
     "execution_count": 69,
     "metadata": {},
     "output_type": "execute_result"
    }
   ],
   "source": [
    "# produce list of enantiomers in SPECSv1\n",
    "list_of_enantiomers_SPECSv1 = a[a.duplicated(\"Compound ID\")]\n",
    "list_of_enantiomers_SPECSv1"
   ]
  },
  {
   "cell_type": "markdown",
   "metadata": {},
   "source": [
    "## SPECSv1 and SPECSv2"
   ]
  },
  {
   "cell_type": "code",
   "execution_count": 30,
   "metadata": {},
   "outputs": [
    {
     "name": "stdout",
     "output_type": "stream",
     "text": [
      " Combined compounds: (1934, 4) \n",
      " After dropping duplicates using only Compound ID: (1912, 4)\n",
      " Dropping using Compound ID and Batch nr: (1932, 4)\n"
     ]
    }
   ],
   "source": [
    "# produce list of enantimers in SPECSv1 and SPECSv2\n",
    "# We confirm that enantiomers exist in SPECSv1\n",
    "CID_12 = compounds1_2.drop_duplicates(subset=[\"Compound ID\"])\n",
    "CIDBR_12 = compounds1_2.drop_duplicates(subset=[\"Compound ID\", \"Batch nr\"])\n",
    "print(f' Combined compounds: {compounds1_2.shape} {chr(10)} After dropping duplicates using only Compound ID: {CID_12.shape}{chr(10)} Dropping using Compound ID and Batch nr: {CIDBR_12.shape}')"
   ]
  },
  {
   "cell_type": "code",
   "execution_count": 31,
   "metadata": {},
   "outputs": [
    {
     "data": {
      "text/plain": [
       "(22, 4)"
      ]
     },
     "execution_count": 31,
     "metadata": {},
     "output_type": "execute_result"
    }
   ],
   "source": [
    "# produce list of enantiomers in SPECSv1\n",
    "list_of_enantiomers_SPECSv12 = compounds1_2[compounds1_2.duplicated(\"Compound ID\")]\n",
    "list_of_enantiomers_SPECSv12.shape"
   ]
  },
  {
   "cell_type": "code",
   "execution_count": 32,
   "metadata": {},
   "outputs": [
    {
     "data": {
      "text/plain": [
       "(1932, 4)"
      ]
     },
     "execution_count": 32,
     "metadata": {},
     "output_type": "execute_result"
    }
   ],
   "source": [
    "sanitycheck   = compounds1_2.drop_duplicates(subset=[\"CUSTOMER_ID\"])\n",
    "sanitycheck.shape"
   ]
  },
  {
   "cell_type": "markdown",
   "metadata": {},
   "source": [
    "### Conclusions\n",
    "1. It looks like there are two duplicates in the full list of compounds.\n",
    "2. Compound ID can be the same without the compounds being chemically identical because of existence of enantiomers\n",
    "3. Customer ID is unique."
   ]
  },
  {
   "cell_type": "markdown",
   "metadata": {},
   "source": [
    "# SPECS V1+V2 and the Clue Data"
   ]
  },
  {
   "cell_type": "markdown",
   "metadata": {},
   "source": [
    "## Psuedocode\n",
    "1. Extract all compounds from SPECS data that can be found in clue.io\n",
    "2. Order to them according to number of compounds that are in a certain MoA class"
   ]
  },
  {
   "cell_type": "markdown",
   "metadata": {},
   "source": [
    "###  1. Extract all compounds from SPECS data that can be found in clue.io"
   ]
  },
  {
   "cell_type": "code",
   "execution_count": 33,
   "metadata": {},
   "outputs": [],
   "source": [
    "# If the ID in compounds from batch 1 and 2 is in the list of clue compounds, include it in a new data frame. \n",
    "# Means that we have a list of compounds where gene expression data and HIC data exists.\n",
    "compounds_combo_wge = compounds1_2[compounds1_2.CUSTOMER_ID.isin(clue_compounds)].reset_index(drop=True)"
   ]
  },
  {
   "cell_type": "code",
   "execution_count": 34,
   "metadata": {},
   "outputs": [
    {
     "data": {
      "text/html": [
       "<div>\n",
       "<style scoped>\n",
       "    .dataframe tbody tr th:only-of-type {\n",
       "        vertical-align: middle;\n",
       "    }\n",
       "\n",
       "    .dataframe tbody tr th {\n",
       "        vertical-align: top;\n",
       "    }\n",
       "\n",
       "    .dataframe thead th {\n",
       "        text-align: right;\n",
       "    }\n",
       "</style>\n",
       "<table border=\"1\" class=\"dataframe\">\n",
       "  <thead>\n",
       "    <tr style=\"text-align: right;\">\n",
       "      <th></th>\n",
       "      <th>CUSTOMER_ID</th>\n",
       "      <th>Batch nr</th>\n",
       "      <th>Compound ID</th>\n",
       "      <th>moa</th>\n",
       "    </tr>\n",
       "  </thead>\n",
       "  <tbody>\n",
       "    <tr>\n",
       "      <th>0</th>\n",
       "      <td>A39052811</td>\n",
       "      <td>BJ1898259</td>\n",
       "      <td>CBK290537</td>\n",
       "      <td>serotonin receptor agonist</td>\n",
       "    </tr>\n",
       "    <tr>\n",
       "      <th>1</th>\n",
       "      <td>A84465106</td>\n",
       "      <td>BJ1897571</td>\n",
       "      <td>CBK200938</td>\n",
       "      <td>calcium channel blocker</td>\n",
       "    </tr>\n",
       "    <tr>\n",
       "      <th>2</th>\n",
       "      <td>K05977823</td>\n",
       "      <td>BJ1899032</td>\n",
       "      <td>CBK290948</td>\n",
       "      <td>SIRT inhibitor|TP53 activator</td>\n",
       "    </tr>\n",
       "    <tr>\n",
       "      <th>3</th>\n",
       "      <td>K09255212</td>\n",
       "      <td>BJ1895358</td>\n",
       "      <td>CBK200855</td>\n",
       "      <td>chelating agent</td>\n",
       "    </tr>\n",
       "    <tr>\n",
       "      <th>4</th>\n",
       "      <td>K17075857</td>\n",
       "      <td>BJ1895142</td>\n",
       "      <td>CBK015802</td>\n",
       "      <td>opioid receptor antagonist</td>\n",
       "    </tr>\n",
       "    <tr>\n",
       "      <th>5</th>\n",
       "      <td>K22861715</td>\n",
       "      <td>BJ1898473</td>\n",
       "      <td>CBK041480</td>\n",
       "      <td>breast cancer resistance protein inhibitor</td>\n",
       "    </tr>\n",
       "    <tr>\n",
       "      <th>6</th>\n",
       "      <td>K24219278</td>\n",
       "      <td>BJ1897482</td>\n",
       "      <td>CBK309011</td>\n",
       "      <td>dopamine receptor agonist</td>\n",
       "    </tr>\n",
       "    <tr>\n",
       "      <th>7</th>\n",
       "      <td>K50406511</td>\n",
       "      <td>BJ1897772</td>\n",
       "      <td>CBK200682</td>\n",
       "      <td>RNA synthesis inhibitor</td>\n",
       "    </tr>\n",
       "    <tr>\n",
       "      <th>8</th>\n",
       "      <td>K58685305</td>\n",
       "      <td>BJ1898475</td>\n",
       "      <td>CBK290681</td>\n",
       "      <td>11-beta hydroxysteroid dehydrogenase inhibitor</td>\n",
       "    </tr>\n",
       "    <tr>\n",
       "      <th>9</th>\n",
       "      <td>K71058253</td>\n",
       "      <td>BJ1898831</td>\n",
       "      <td>CBK309465</td>\n",
       "      <td>sterol demethylase inhibitor</td>\n",
       "    </tr>\n",
       "  </tbody>\n",
       "</table>\n",
       "</div>"
      ],
      "text/plain": [
       "  CUSTOMER_ID   Batch nr Compound ID  \\\n",
       "0   A39052811  BJ1898259   CBK290537   \n",
       "1   A84465106  BJ1897571   CBK200938   \n",
       "2   K05977823  BJ1899032   CBK290948   \n",
       "3   K09255212  BJ1895358   CBK200855   \n",
       "4   K17075857  BJ1895142   CBK015802   \n",
       "5   K22861715  BJ1898473   CBK041480   \n",
       "6   K24219278  BJ1897482   CBK309011   \n",
       "7   K50406511  BJ1897772   CBK200682   \n",
       "8   K58685305  BJ1898475   CBK290681   \n",
       "9   K71058253  BJ1898831   CBK309465   \n",
       "\n",
       "                                              moa  \n",
       "0                      serotonin receptor agonist  \n",
       "1                         calcium channel blocker  \n",
       "2                   SIRT inhibitor|TP53 activator  \n",
       "3                                 chelating agent  \n",
       "4                      opioid receptor antagonist  \n",
       "5      breast cancer resistance protein inhibitor  \n",
       "6                       dopamine receptor agonist  \n",
       "7                         RNA synthesis inhibitor  \n",
       "8  11-beta hydroxysteroid dehydrogenase inhibitor  \n",
       "9                    sterol demethylase inhibitor  "
      ]
     },
     "execution_count": 34,
     "metadata": {},
     "output_type": "execute_result"
    }
   ],
   "source": [
    "compounds_combo_wge[:10]"
   ]
  },
  {
   "cell_type": "code",
   "execution_count": 74,
   "metadata": {},
   "outputs": [
    {
     "name": "stdout",
     "output_type": "stream",
     "text": [
      " Compounds where gene expression data and HIC data exists: 1315\n"
     ]
    }
   ],
   "source": [
    "print( f' Compounds where gene expression data and HIC data exists: {len(compounds_combo_wge)}')"
   ]
  },
  {
   "cell_type": "markdown",
   "metadata": {},
   "source": [
    "###  2.Order to them according to number of compounds that are in a certain MoA class\n",
    "NOTE: THIS DOES NOT TAKE INTO ACCOUNT CELL LINE OR DOSAGE CONCENTRATION"
   ]
  },
  {
   "cell_type": "code",
   "execution_count": 75,
   "metadata": {},
   "outputs": [
    {
     "data": {
      "text/plain": [
       "cyclooxygenase inhibitor                      62\n",
       "phosphodiesterase inhibitor                   50\n",
       "adrenergic receptor antagonist                43\n",
       "EGFR inhibitor                                38\n",
       "HDAC inhibitor                                33\n",
       "topoisomerase inhibitor                       32\n",
       "adrenergic receptor agonist                   31\n",
       "acetylcholine receptor antagonist             28\n",
       "glucocorticoid receptor agonist               28\n",
       "histamine receptor antagonist                 28\n",
       "CC chemokine receptor antagonist              27\n",
       "adenosine receptor antagonist                 26\n",
       "dopamine receptor antagonist                  26\n",
       "bacterial cell wall synthesis inhibitor       25\n",
       "histone lysine methyltransferase inhibitor    25\n",
       "Name: moa, dtype: int64"
      ]
     },
     "execution_count": 75,
     "metadata": {},
     "output_type": "execute_result"
    }
   ],
   "source": [
    "# Combined compounds from batches 1 and 2 binned by their moa\n",
    "compounds1_2.moa.value_counts()[:15]"
   ]
  },
  {
   "cell_type": "code",
   "execution_count": 76,
   "metadata": {},
   "outputs": [
    {
     "data": {
      "text/plain": [
       "cyclooxygenase inhibitor                      56\n",
       "phosphodiesterase inhibitor                   45\n",
       "adrenergic receptor antagonist                31\n",
       "EGFR inhibitor                                27\n",
       "dopamine receptor antagonist                  26\n",
       "HDAC inhibitor                                25\n",
       "histamine receptor antagonist                 24\n",
       "adrenergic receptor agonist                   23\n",
       "topoisomerase inhibitor                       23\n",
       "adenosine receptor antagonist                 22\n",
       "CC chemokine receptor antagonist              18\n",
       "acetylcholine receptor antagonist             18\n",
       "PARP inhibitor                                18\n",
       "histone lysine methyltransferase inhibitor    17\n",
       "glucocorticoid receptor agonist               17\n",
       "Name: moa, dtype: int64"
      ]
     },
     "execution_count": 76,
     "metadata": {},
     "output_type": "execute_result"
    }
   ],
   "source": [
    "# Combined compounds from batches 1 and 2 binned by their moa which also have gene expression data.\n",
    "compounds_combo_wge.moa.value_counts()[:15]"
   ]
  },
  {
   "cell_type": "code",
   "execution_count": 38,
   "metadata": {},
   "outputs": [
    {
     "data": {
      "text/plain": [
       "(13, 4)"
      ]
     },
     "execution_count": 38,
     "metadata": {},
     "output_type": "execute_result"
    }
   ],
   "source": [
    "# Number of enantiomers\n",
    "compounds_combo_wge[compounds_combo_wge.duplicated(\"Compound ID\")].shape"
   ]
  },
  {
   "cell_type": "code",
   "execution_count": 39,
   "metadata": {},
   "outputs": [
    {
     "data": {
      "text/plain": [
       "HDAC inhibitor                      25\n",
       "topoisomerase inhibitor             23\n",
       "PARP inhibitor                      18\n",
       "tubulin polymerization inhibitor    16\n",
       "JAK inhibitor                       15\n",
       "retinoid receptor agonist           14\n",
       "HSP inhibitor                       13\n",
       "ATPase inhibitor                    12\n",
       "Aurora kinase inhibitor             12\n",
       "protein synthesis inhibitor          8\n",
       "Name: moa, dtype: int64"
      ]
     },
     "execution_count": 39,
     "metadata": {},
     "output_type": "execute_result"
    }
   ],
   "source": [
    "# Tian's chosen 10 \n",
    "Chosen_10_MoA = compounds_combo_wge[compounds_combo_wge.moa.isin(moas)]\n",
    "compounds_combo_wge[compounds_combo_wge.moa.isin(moas)].moa.value_counts()"
   ]
  },
  {
   "cell_type": "code",
   "execution_count": 77,
   "metadata": {},
   "outputs": [
    {
     "data": {
      "text/plain": [
       "(1, 4)"
      ]
     },
     "execution_count": 77,
     "metadata": {},
     "output_type": "execute_result"
    }
   ],
   "source": [
    "# Number of enantiomers in Tian's Chosen 10 MoAs\n",
    "Chosen_10_MoA [Chosen_10_MoA .duplicated(\"Compound ID\")].shape"
   ]
  },
  {
   "cell_type": "markdown",
   "metadata": {},
   "source": [
    "# Looking at Transcriptomics Level 5 Metadata from Clue"
   ]
  },
  {
   "cell_type": "code",
   "execution_count": 41,
   "metadata": {},
   "outputs": [
    {
     "name": "stderr",
     "output_type": "stream",
     "text": [
      "/usr/local/lib/python3.6/dist-packages/IPython/core/interactiveshell.py:3072: DtypeWarning: Columns (0,3,4,28,29) have mixed types.Specify dtype option on import or set low_memory=False.\n",
      "  interactivity=interactivity, compiler=compiler, result=result)\n"
     ]
    }
   ],
   "source": [
    "# Download all the compounds that exist on CLUE --> gene expression data from LINCS\n",
    "# from https://clue.io/\n",
    "clue_sig = pd.read_csv('/home/jovyan/Tomics-CP-Chem-MoA/04_Tomics_Models/init_data_expl/clue_siginfo_beta.txt', delimiter = \"\\t\")"
   ]
  },
  {
   "cell_type": "code",
   "execution_count": 42,
   "metadata": {},
   "outputs": [
    {
     "data": {
      "text/plain": [
       "(555113, 37)"
      ]
     },
     "execution_count": 42,
     "metadata": {},
     "output_type": "execute_result"
    }
   ],
   "source": [
    "clue_sig.shape"
   ]
  },
  {
   "cell_type": "markdown",
   "metadata": {},
   "source": [
    "Number of level 5 transcriptomic profiles: 555,113"
   ]
  },
  {
   "cell_type": "code",
   "execution_count": 43,
   "metadata": {},
   "outputs": [
    {
     "data": {
      "text/plain": [
       "51119"
      ]
     },
     "execution_count": 43,
     "metadata": {},
     "output_type": "execute_result"
    }
   ],
   "source": [
    "# Unique compounds used\n",
    "len(clue_sig.pert_id.unique())"
   ]
  },
  {
   "cell_type": "markdown",
   "metadata": {},
   "source": [
    "Unique perturbagen: 51119"
   ]
  },
  {
   "cell_type": "code",
   "execution_count": 44,
   "metadata": {},
   "outputs": [
    {
     "name": "stdout",
     "output_type": "stream",
     "text": [
      "<class 'pandas.core.frame.DataFrame'>\n",
      "RangeIndex: 555113 entries, 0 to 555112\n",
      "Data columns (total 37 columns):\n",
      " #   Column                        Non-Null Count   Dtype  \n",
      "---  ------                        --------------   -----  \n",
      " 0   bead_batch                    493797 non-null  object \n",
      " 1   nearest_dose                  272164 non-null  float64\n",
      " 2   pert_dose                     348348 non-null  float64\n",
      " 3   pert_dose_unit                347506 non-null  object \n",
      " 4   pert_idose                    347397 non-null  object \n",
      " 5   pert_itime                    554838 non-null  object \n",
      " 6   pert_time                     555113 non-null  float64\n",
      " 7   pert_time_unit                555113 non-null  object \n",
      " 8   cell_mfc_name                 555113 non-null  object \n",
      " 9   pert_mfc_id                   555113 non-null  object \n",
      " 10  nsample                       555113 non-null  int64  \n",
      " 11  cc_q75                        555113 non-null  float64\n",
      " 12  ss_ngene                      555113 non-null  int64  \n",
      " 13  tas                           555113 non-null  float64\n",
      " 14  pct_self_rank_q25             555113 non-null  float64\n",
      " 15  wt                            555113 non-null  object \n",
      " 16  median_recall_rank_spearman   555113 non-null  float64\n",
      " 17  median_recall_rank_wtcs_50    555113 non-null  float64\n",
      " 18  median_recall_score_spearman  555113 non-null  float64\n",
      " 19  median_recall_score_wtcs_50   555113 non-null  float64\n",
      " 20  batch_effect_tstat            555113 non-null  float64\n",
      " 21  batch_effect_tstat_pct        555113 non-null  float64\n",
      " 22  is_hiq                        555113 non-null  int64  \n",
      " 23  qc_pass                       555113 non-null  int64  \n",
      " 24  pert_id                       555112 non-null  object \n",
      " 25  sig_id                        555112 non-null  object \n",
      " 26  pert_type                     555112 non-null  object \n",
      " 27  cell_iname                    555112 non-null  object \n",
      " 28  det_wells                     493796 non-null  object \n",
      " 29  det_plates                    493796 non-null  object \n",
      " 30  distil_ids                    555112 non-null  object \n",
      " 31  build_name                    0 non-null       float64\n",
      " 32  project_code                  555112 non-null  object \n",
      " 33  cmap_name                     555112 non-null  object \n",
      " 34  is_exemplar_sig               555112 non-null  float64\n",
      " 35  is_ncs_sig                    555112 non-null  float64\n",
      " 36  is_null_sig                   555112 non-null  float64\n",
      "dtypes: float64(16), int64(4), object(17)\n",
      "memory usage: 156.7+ MB\n"
     ]
    }
   ],
   "source": [
    "clue_sig.info()"
   ]
  },
  {
   "cell_type": "code",
   "execution_count": 45,
   "metadata": {},
   "outputs": [
    {
     "data": {
      "text/plain": [
       "Index(['bead_batch', 'nearest_dose', 'pert_dose', 'pert_dose_unit',\n",
       "       'pert_idose', 'pert_itime', 'pert_time', 'pert_time_unit',\n",
       "       'cell_mfc_name', 'pert_mfc_id', 'nsample', 'cc_q75', 'ss_ngene', 'tas',\n",
       "       'pct_self_rank_q25', 'wt', 'median_recall_rank_spearman',\n",
       "       'median_recall_rank_wtcs_50', 'median_recall_score_spearman',\n",
       "       'median_recall_score_wtcs_50', 'batch_effect_tstat',\n",
       "       'batch_effect_tstat_pct', 'is_hiq', 'qc_pass', 'pert_id', 'sig_id',\n",
       "       'pert_type', 'cell_iname', 'det_wells', 'det_plates', 'distil_ids',\n",
       "       'build_name', 'project_code', 'cmap_name', 'is_exemplar_sig',\n",
       "       'is_ncs_sig', 'is_null_sig'],\n",
       "      dtype='object')"
      ]
     },
     "execution_count": 45,
     "metadata": {},
     "output_type": "execute_result"
    }
   ],
   "source": [
    "clue_sig.columns"
   ]
  },
  {
   "cell_type": "code",
   "execution_count": 46,
   "metadata": {},
   "outputs": [
    {
     "data": {
      "text/plain": [
       "0    BRD-U44432129\n",
       "1    BRD-K81418486\n",
       "2    BRD-K70511574\n",
       "3    BRD-K81418486\n",
       "4    BRD-A61304759\n",
       "Name: pert_id, dtype: object"
      ]
     },
     "execution_count": 46,
     "metadata": {},
     "output_type": "execute_result"
    }
   ],
   "source": [
    "clue_sig.pert_id.head()"
   ]
  },
  {
   "cell_type": "markdown",
   "metadata": {},
   "source": [
    "### U20 cells\n"
   ]
  },
  {
   "cell_type": "code",
   "execution_count": 47,
   "metadata": {},
   "outputs": [
    {
     "data": {
      "text/plain": [
       "(2206, 37)"
      ]
     },
     "execution_count": 47,
     "metadata": {},
     "output_type": "execute_result"
    }
   ],
   "source": [
    "U20_check = clue_sig[clue_sig.cell_iname == 'U2OS'].reset_index(drop=True)\n",
    "U20_check.shape"
   ]
  },
  {
   "cell_type": "markdown",
   "metadata": {},
   "source": [
    "Number of transcriptomic profiles using U20 as cell line"
   ]
  },
  {
   "cell_type": "code",
   "execution_count": 48,
   "metadata": {},
   "outputs": [
    {
     "data": {
      "text/plain": [
       "(477, 37)"
      ]
     },
     "execution_count": 48,
     "metadata": {},
     "output_type": "execute_result"
    }
   ],
   "source": [
    "U20_check_with_correct_dosage = U20_check[U20_check.pert_dose.between(8,12)].reset_index(drop=True)\n",
    "U20_check_with_correct_dosage.shape"
   ]
  },
  {
   "cell_type": "markdown",
   "metadata": {},
   "source": [
    "Number of transcriptomic profiles with U20 as cell line with the correct dosage"
   ]
  },
  {
   "cell_type": "code",
   "execution_count": 49,
   "metadata": {},
   "outputs": [
    {
     "data": {
      "text/plain": [
       "(195,)"
      ]
     },
     "execution_count": 49,
     "metadata": {},
     "output_type": "execute_result"
    }
   ],
   "source": [
    "U20_check_with_correct_dosage['pert_id'].unique().shape"
   ]
  },
  {
   "cell_type": "markdown",
   "metadata": {},
   "source": [
    "Number of different compounds used as perturbagens with the correct dosage"
   ]
  },
  {
   "cell_type": "code",
   "execution_count": 80,
   "metadata": {},
   "outputs": [],
   "source": [
    "def checking_avail_transcrip(cell_name_string, cell_name, lower_doses, higher_doses, clue_sig):\n",
    "    '''Creates a table that assesses the number of transcriptomic profiles given a certain dosage range and a selection of \n",
    "    cell line from the clue.io database\n",
    "    \n",
    "    Input:\n",
    "    cell_name_string: list of strings representing cell line name\n",
    "    cell_name:        list of strings of the cell lines to include\n",
    "    lower_doses:      list of integers representing lower range of dosages\n",
    "    higher_doses:     list of integers representing higher range of dosages\n",
    "    \n",
    "    Output: Tabulate table\n",
    "    '''\n",
    "    table = []\n",
    "    for i, s in zip(cell_name, cell_name_string):\n",
    "        for a,f in zip(lower_doses, higher_doses):\n",
    "            row = []\n",
    "            row.append(s)\n",
    "            check = clue_sig[clue_sig.cell_iname.isin(i)]\n",
    "            check_with_correct_dosage = check[check.pert_dose.between(a,f)].reset_index(drop=True)\n",
    "            number = check_with_correct_dosage.shape[0]\n",
    "            row.append([a,f])\n",
    "            row.append(number)\n",
    "            table.append(row)\n",
    "    print(tabulate(table, headers=[\"Cell line Name\",\"Dosage\", \"# Transcriptomic Profiles\"], tablefmt=\"heavy_grid\"))\n"
   ]
  },
  {
   "cell_type": "code",
   "execution_count": 81,
   "metadata": {},
   "outputs": [
    {
     "name": "stdout",
     "output_type": "stream",
     "text": [
      "Cell line Name    Dosage      # Transcriptomic Profiles\n",
      "----------------  --------  ---------------------------\n",
      "U2OS              [0, 100]                         2094\n",
      "U2OS              [2, 20]                           551\n",
      "U2OS              [8, 12]                           477\n",
      "MCF7, PC3, A549   [0, 100]                       101978\n",
      "MCF7, PC3, A549   [2, 20]                         81491\n",
      "MCF7, PC3, A549   [8, 12]                         45252\n",
      "PC3, A549         [0, 100]                        65788\n",
      "PC3, A549         [2, 20]                         51067\n",
      "PC3, A549         [8, 12]                         29116\n",
      "all               [0, 100]                       342376\n",
      "all               [2, 20]                        236385\n",
      "all               [8, 12]                        141375\n"
     ]
    }
   ],
   "source": [
    "single_name = ['U2OS']\n",
    "subset_names = ['MCF7', 'PC3', 'A549']\n",
    "subset2_names = ['PC3', 'A549']\n",
    "all_names = list(clue_sig.cell_iname)\n",
    "cell_name = [single_name, subset_names, subset2_names, all_names ]\n",
    "cell_name_string = ['U2OS', 'MCF7, PC3, A549', 'PC3, A549', \"all\" ]\n",
    "    \n",
    "checking_avail_transcrip(cell_name_string, cell_name, lower_doses, higher_doses, clue_sig)"
   ]
  },
  {
   "cell_type": "markdown",
   "metadata": {},
   "source": [
    "# Assessing number of transcriptomic profiles per MoA"
   ]
  },
  {
   "cell_type": "markdown",
   "metadata": {},
   "source": [
    "## Psuedocode\n",
    "1. Prepare clue pert_id by stripping BRD from identifier\n",
    "2. Do an SQL join to get MoA from SPECS compounds1_2 using pert_id/CUSTOMER_ID as the index\n",
    "3. Screen for pert_idose 10 mmol\n",
    "4. Screen for cell_name U2Os\n",
    "5. Rank MoA classes according to number that of transcriptomic profiles "
   ]
  },
  {
   "cell_type": "markdown",
   "metadata": {},
   "source": [
    "### 1.Prepare clue pert_id by stripping BRD from identifier"
   ]
  },
  {
   "cell_type": "code",
   "execution_count": 82,
   "metadata": {},
   "outputs": [],
   "source": [
    "# Remove all the BRD from the unique code to identify common compounds that the Broad Institute places on there.\n",
    "clue_sig['pert_id'] =  clue_sig['pert_id'].map(lambda x: str(x)) # turn into string\n",
    "clue_sig['pert_id'] =  clue_sig['pert_id'].map(lambda x: x.lstrip('BRD-')) # strip BRD from name"
   ]
  },
  {
   "cell_type": "code",
   "execution_count": 83,
   "metadata": {},
   "outputs": [
    {
     "data": {
      "text/plain": [
       "0      U44432129\n",
       "1      K81418486\n",
       "2      K70511574\n",
       "3      K81418486\n",
       "4      A61304759\n",
       "5      K85606544\n",
       "6      A90490067\n",
       "7      A45498368\n",
       "8      K52911425\n",
       "9    GPR151_GALP\n",
       "Name: pert_id, dtype: object"
      ]
     },
     "execution_count": 83,
     "metadata": {},
     "output_type": "execute_result"
    }
   ],
   "source": [
    "clue_sig['pert_id'][0:10]"
   ]
  },
  {
   "cell_type": "code",
   "execution_count": 84,
   "metadata": {},
   "outputs": [
    {
     "data": {
      "text/plain": [
       "False    501138\n",
       "True      53975\n",
       "Name: pert_id, dtype: int64"
      ]
     },
     "execution_count": 84,
     "metadata": {},
     "output_type": "execute_result"
    }
   ],
   "source": [
    "# Check that all compounds found in pert_id are also found in the combined SPECS\n",
    "clue_sig['pert_id'].isin(compounds1_2['CUSTOMER_ID'].unique()).value_counts()"
   ]
  },
  {
   "cell_type": "code",
   "execution_count": 85,
   "metadata": {},
   "outputs": [],
   "source": [
    "# removing duplicate compounds from both datasets\n",
    "dfsig = clue_sig.drop_duplicates(subset = \"pert_id\")\n",
    "df12 = compounds1_2.drop_duplicates(subset = \"CUSTOMER_ID\")"
   ]
  },
  {
   "cell_type": "code",
   "execution_count": 86,
   "metadata": {},
   "outputs": [
    {
     "data": {
      "text/plain": [
       "False    50143\n",
       "True       976\n",
       "Name: pert_id, dtype: int64"
      ]
     },
     "execution_count": 86,
     "metadata": {},
     "output_type": "execute_result"
    }
   ],
   "source": [
    "# Check number of compounds found in clue database that are found in the combined SPECS\n",
    "dfsig['pert_id'].isin(df12['CUSTOMER_ID']).value_counts()"
   ]
  },
  {
   "cell_type": "markdown",
   "metadata": {},
   "source": [
    "976 of the combined compounds found in SPECS1 and SPECS2 are also used to create transcriptomic profiles."
   ]
  },
  {
   "cell_type": "code",
   "execution_count": 87,
   "metadata": {},
   "outputs": [
    {
     "data": {
      "text/plain": [
       "True     976\n",
       "False    956\n",
       "Name: CUSTOMER_ID, dtype: int64"
      ]
     },
     "execution_count": 87,
     "metadata": {},
     "output_type": "execute_result"
    }
   ],
   "source": [
    "# Check number of compounds found in Pharmbio Specs 1 and 2 that are found in the clue database\n",
    "df12['CUSTOMER_ID'].isin(dfsig['pert_id']).value_counts()"
   ]
  },
  {
   "cell_type": "markdown",
   "metadata": {},
   "source": [
    "### 2. Do an SQL join to get MoA from SPECS compounds1_2 using pert_id/CUSTOMER_ID as the index"
   ]
  },
  {
   "cell_type": "code",
   "execution_count": 88,
   "metadata": {},
   "outputs": [
    {
     "name": "stdout",
     "output_type": "stream",
     "text": [
      "(1934,)\n"
     ]
    },
    {
     "data": {
      "text/plain": [
       "Index(['CUSTOMER_ID', 'Batch nr', 'Compound ID', 'moa'], dtype='object')"
      ]
     },
     "execution_count": 88,
     "metadata": {},
     "output_type": "execute_result"
    }
   ],
   "source": [
    "print(compounds1_2.CUSTOMER_ID.shape)\n",
    "compounds1_2.columns\n"
   ]
  },
  {
   "cell_type": "code",
   "execution_count": 89,
   "metadata": {},
   "outputs": [
    {
     "data": {
      "text/html": [
       "<div>\n",
       "<style scoped>\n",
       "    .dataframe tbody tr th:only-of-type {\n",
       "        vertical-align: middle;\n",
       "    }\n",
       "\n",
       "    .dataframe tbody tr th {\n",
       "        vertical-align: top;\n",
       "    }\n",
       "\n",
       "    .dataframe thead th {\n",
       "        text-align: right;\n",
       "    }\n",
       "</style>\n",
       "<table border=\"1\" class=\"dataframe\">\n",
       "  <thead>\n",
       "    <tr style=\"text-align: right;\">\n",
       "      <th></th>\n",
       "      <th>pert_id</th>\n",
       "      <th>Batch nr</th>\n",
       "      <th>Compound ID</th>\n",
       "      <th>moa</th>\n",
       "    </tr>\n",
       "  </thead>\n",
       "  <tbody>\n",
       "    <tr>\n",
       "      <th>0</th>\n",
       "      <td>A39052811</td>\n",
       "      <td>BJ1898259</td>\n",
       "      <td>CBK290537</td>\n",
       "      <td>serotonin receptor agonist</td>\n",
       "    </tr>\n",
       "    <tr>\n",
       "      <th>1</th>\n",
       "      <td>A54275602</td>\n",
       "      <td>BJ1896690</td>\n",
       "      <td>CBK308456</td>\n",
       "      <td>sterol demethylase inhibitor</td>\n",
       "    </tr>\n",
       "    <tr>\n",
       "      <th>2</th>\n",
       "      <td>A84465106</td>\n",
       "      <td>BJ1897571</td>\n",
       "      <td>CBK200938</td>\n",
       "      <td>calcium channel blocker</td>\n",
       "    </tr>\n",
       "    <tr>\n",
       "      <th>3</th>\n",
       "      <td>K05977823</td>\n",
       "      <td>BJ1899032</td>\n",
       "      <td>CBK290948</td>\n",
       "      <td>SIRT inhibitor|TP53 activator</td>\n",
       "    </tr>\n",
       "    <tr>\n",
       "      <th>4</th>\n",
       "      <td>K09255212</td>\n",
       "      <td>BJ1895358</td>\n",
       "      <td>CBK200855</td>\n",
       "      <td>chelating agent</td>\n",
       "    </tr>\n",
       "    <tr>\n",
       "      <th>5</th>\n",
       "      <td>K11244467</td>\n",
       "      <td>BJ1896854</td>\n",
       "      <td>CBK308538</td>\n",
       "      <td>DNA damage inducer</td>\n",
       "    </tr>\n",
       "    <tr>\n",
       "      <th>6</th>\n",
       "      <td>K17075857</td>\n",
       "      <td>BJ1895142</td>\n",
       "      <td>CBK015802</td>\n",
       "      <td>opioid receptor antagonist</td>\n",
       "    </tr>\n",
       "    <tr>\n",
       "      <th>7</th>\n",
       "      <td>K21164796</td>\n",
       "      <td>BJ1897834</td>\n",
       "      <td>CBK309270</td>\n",
       "      <td>NaN</td>\n",
       "    </tr>\n",
       "    <tr>\n",
       "      <th>8</th>\n",
       "      <td>K22861715</td>\n",
       "      <td>BJ1898473</td>\n",
       "      <td>CBK041480</td>\n",
       "      <td>breast cancer resistance protein inhibitor</td>\n",
       "    </tr>\n",
       "    <tr>\n",
       "      <th>9</th>\n",
       "      <td>K24219278</td>\n",
       "      <td>BJ1897482</td>\n",
       "      <td>CBK309011</td>\n",
       "      <td>dopamine receptor agonist</td>\n",
       "    </tr>\n",
       "    <tr>\n",
       "      <th>10</th>\n",
       "      <td>K25029121</td>\n",
       "      <td>BJ1897837</td>\n",
       "      <td>CBK309272</td>\n",
       "      <td>other antibiotic</td>\n",
       "    </tr>\n",
       "    <tr>\n",
       "      <th>11</th>\n",
       "      <td>K39693230</td>\n",
       "      <td>BJ1898112</td>\n",
       "      <td>CBK309409</td>\n",
       "      <td>ribonucleotide reductase inhibitor</td>\n",
       "    </tr>\n",
       "    <tr>\n",
       "      <th>12</th>\n",
       "      <td>K50406511</td>\n",
       "      <td>BJ1897772</td>\n",
       "      <td>CBK200682</td>\n",
       "      <td>RNA synthesis inhibitor</td>\n",
       "    </tr>\n",
       "    <tr>\n",
       "      <th>13</th>\n",
       "      <td>K51474575</td>\n",
       "      <td>BJ1898370</td>\n",
       "      <td>CBK040817</td>\n",
       "      <td>antioxidant</td>\n",
       "    </tr>\n",
       "    <tr>\n",
       "      <th>14</th>\n",
       "      <td>K58685305</td>\n",
       "      <td>BJ1898475</td>\n",
       "      <td>CBK290681</td>\n",
       "      <td>11-beta hydroxysteroid dehydrogenase inhibitor</td>\n",
       "    </tr>\n",
       "    <tr>\n",
       "      <th>15</th>\n",
       "      <td>K71058253</td>\n",
       "      <td>BJ1898831</td>\n",
       "      <td>CBK309465</td>\n",
       "      <td>sterol demethylase inhibitor</td>\n",
       "    </tr>\n",
       "    <tr>\n",
       "      <th>16</th>\n",
       "      <td>K75855670</td>\n",
       "      <td>BJ1894667</td>\n",
       "      <td>CBK041954</td>\n",
       "      <td>antiseptic</td>\n",
       "    </tr>\n",
       "    <tr>\n",
       "      <th>17</th>\n",
       "      <td>A08302182</td>\n",
       "      <td>BJ1896758</td>\n",
       "      <td>CBK308493</td>\n",
       "      <td>progesterone receptor agonist</td>\n",
       "    </tr>\n",
       "    <tr>\n",
       "      <th>18</th>\n",
       "      <td>A14440173</td>\n",
       "      <td>BJ1895511</td>\n",
       "      <td>CBK221415</td>\n",
       "      <td>NaN</td>\n",
       "    </tr>\n",
       "    <tr>\n",
       "      <th>19</th>\n",
       "      <td>A16767899</td>\n",
       "      <td>BJ1898801</td>\n",
       "      <td>CBK309446</td>\n",
       "      <td>NaN</td>\n",
       "    </tr>\n",
       "  </tbody>\n",
       "</table>\n",
       "</div>"
      ],
      "text/plain": [
       "      pert_id   Batch nr Compound ID  \\\n",
       "0   A39052811  BJ1898259   CBK290537   \n",
       "1   A54275602  BJ1896690   CBK308456   \n",
       "2   A84465106  BJ1897571   CBK200938   \n",
       "3   K05977823  BJ1899032   CBK290948   \n",
       "4   K09255212  BJ1895358   CBK200855   \n",
       "5   K11244467  BJ1896854   CBK308538   \n",
       "6   K17075857  BJ1895142   CBK015802   \n",
       "7   K21164796  BJ1897834   CBK309270   \n",
       "8   K22861715  BJ1898473   CBK041480   \n",
       "9   K24219278  BJ1897482   CBK309011   \n",
       "10  K25029121  BJ1897837   CBK309272   \n",
       "11  K39693230  BJ1898112   CBK309409   \n",
       "12  K50406511  BJ1897772   CBK200682   \n",
       "13  K51474575  BJ1898370   CBK040817   \n",
       "14  K58685305  BJ1898475   CBK290681   \n",
       "15  K71058253  BJ1898831   CBK309465   \n",
       "16  K75855670  BJ1894667   CBK041954   \n",
       "17  A08302182  BJ1896758   CBK308493   \n",
       "18  A14440173  BJ1895511   CBK221415   \n",
       "19  A16767899  BJ1898801   CBK309446   \n",
       "\n",
       "                                               moa  \n",
       "0                       serotonin receptor agonist  \n",
       "1                     sterol demethylase inhibitor  \n",
       "2                          calcium channel blocker  \n",
       "3                    SIRT inhibitor|TP53 activator  \n",
       "4                                  chelating agent  \n",
       "5                               DNA damage inducer  \n",
       "6                       opioid receptor antagonist  \n",
       "7                                              NaN  \n",
       "8       breast cancer resistance protein inhibitor  \n",
       "9                        dopamine receptor agonist  \n",
       "10                                other antibiotic  \n",
       "11              ribonucleotide reductase inhibitor  \n",
       "12                         RNA synthesis inhibitor  \n",
       "13                                     antioxidant  \n",
       "14  11-beta hydroxysteroid dehydrogenase inhibitor  \n",
       "15                    sterol demethylase inhibitor  \n",
       "16                                      antiseptic  \n",
       "17                   progesterone receptor agonist  \n",
       "18                                             NaN  \n",
       "19                                             NaN  "
      ]
     },
     "execution_count": 89,
     "metadata": {},
     "output_type": "execute_result"
    }
   ],
   "source": [
    "# Rename compounds1_2 name to use an index for an sql uoin\n",
    "df1 = compounds1_2.rename(columns={\"CUSTOMER_ID\":\"pert_id\"})\n",
    "df1.head(20)"
   ]
  },
  {
   "cell_type": "code",
   "execution_count": 90,
   "metadata": {},
   "outputs": [
    {
     "data": {
      "text/plain": [
       "Index(['pert_id', 'Batch nr', 'Compound ID', 'moa'], dtype='object')"
      ]
     },
     "execution_count": 90,
     "metadata": {},
     "output_type": "execute_result"
    }
   ],
   "source": [
    "df1.columns"
   ]
  },
  {
   "cell_type": "code",
   "execution_count": 91,
   "metadata": {},
   "outputs": [],
   "source": [
    "# get subset of data frame\n",
    "df1 = df1[[\"pert_id\", \"Compound ID\", \"Batch nr\", \"moa\"]]"
   ]
  },
  {
   "cell_type": "code",
   "execution_count": 92,
   "metadata": {},
   "outputs": [],
   "source": [
    "# complete the inner join\n",
    "clue_sig = df1.merge(clue_sig, on=[\"pert_id\"], how=\"inner\")"
   ]
  },
  {
   "cell_type": "code",
   "execution_count": 93,
   "metadata": {},
   "outputs": [
    {
     "data": {
      "text/plain": [
       "(53975, 40)"
      ]
     },
     "execution_count": 93,
     "metadata": {},
     "output_type": "execute_result"
    }
   ],
   "source": [
    "clue_sig.shape"
   ]
  },
  {
   "cell_type": "code",
   "execution_count": 94,
   "metadata": {},
   "outputs": [
    {
     "data": {
      "text/html": [
       "<div>\n",
       "<style scoped>\n",
       "    .dataframe tbody tr th:only-of-type {\n",
       "        vertical-align: middle;\n",
       "    }\n",
       "\n",
       "    .dataframe tbody tr th {\n",
       "        vertical-align: top;\n",
       "    }\n",
       "\n",
       "    .dataframe thead th {\n",
       "        text-align: right;\n",
       "    }\n",
       "</style>\n",
       "<table border=\"1\" class=\"dataframe\">\n",
       "  <thead>\n",
       "    <tr style=\"text-align: right;\">\n",
       "      <th></th>\n",
       "      <th>pert_id</th>\n",
       "      <th>Compound ID</th>\n",
       "      <th>Batch nr</th>\n",
       "      <th>moa</th>\n",
       "      <th>bead_batch</th>\n",
       "      <th>nearest_dose</th>\n",
       "      <th>pert_dose</th>\n",
       "      <th>pert_dose_unit</th>\n",
       "      <th>pert_idose</th>\n",
       "      <th>pert_itime</th>\n",
       "      <th>...</th>\n",
       "      <th>cell_iname</th>\n",
       "      <th>det_wells</th>\n",
       "      <th>det_plates</th>\n",
       "      <th>distil_ids</th>\n",
       "      <th>build_name</th>\n",
       "      <th>project_code</th>\n",
       "      <th>cmap_name</th>\n",
       "      <th>is_exemplar_sig</th>\n",
       "      <th>is_ncs_sig</th>\n",
       "      <th>is_null_sig</th>\n",
       "    </tr>\n",
       "  </thead>\n",
       "  <tbody>\n",
       "    <tr>\n",
       "      <th>0</th>\n",
       "      <td>A39052811</td>\n",
       "      <td>CBK290537</td>\n",
       "      <td>BJ1898259</td>\n",
       "      <td>serotonin receptor agonist</td>\n",
       "      <td>b18</td>\n",
       "      <td>10.0</td>\n",
       "      <td>10.0</td>\n",
       "      <td>uM</td>\n",
       "      <td>10 uM</td>\n",
       "      <td>24 h</td>\n",
       "      <td>...</td>\n",
       "      <td>WI38</td>\n",
       "      <td>D04</td>\n",
       "      <td>LUNG001_WI38_24H_X1_B18|LUNG001_WI38_24H_X2_B1...</td>\n",
       "      <td>LUNG001_WI38_24H_X1_B18:D04|LUNG001_WI38_24H_X...</td>\n",
       "      <td>NaN</td>\n",
       "      <td>LUNG</td>\n",
       "      <td>mosapride</td>\n",
       "      <td>0.0</td>\n",
       "      <td>0.0</td>\n",
       "      <td>0.0</td>\n",
       "    </tr>\n",
       "    <tr>\n",
       "      <th>1</th>\n",
       "      <td>A39052811</td>\n",
       "      <td>CBK290537</td>\n",
       "      <td>BJ1898259</td>\n",
       "      <td>serotonin receptor agonist</td>\n",
       "      <td>b18</td>\n",
       "      <td>10.0</td>\n",
       "      <td>10.0</td>\n",
       "      <td>uM</td>\n",
       "      <td>10 uM</td>\n",
       "      <td>24 h</td>\n",
       "      <td>...</td>\n",
       "      <td>NL20</td>\n",
       "      <td>D04</td>\n",
       "      <td>LUNG001_NL20_24H_X1_B18|LUNG001_NL20_24H_X3_B18</td>\n",
       "      <td>LUNG001_NL20_24H_X1_B18:D04|LUNG001_NL20_24H_X...</td>\n",
       "      <td>NaN</td>\n",
       "      <td>LUNG</td>\n",
       "      <td>mosapride</td>\n",
       "      <td>0.0</td>\n",
       "      <td>0.0</td>\n",
       "      <td>0.0</td>\n",
       "    </tr>\n",
       "    <tr>\n",
       "      <th>2</th>\n",
       "      <td>A39052811</td>\n",
       "      <td>CBK290537</td>\n",
       "      <td>BJ1898259</td>\n",
       "      <td>serotonin receptor agonist</td>\n",
       "      <td>b18</td>\n",
       "      <td>10.0</td>\n",
       "      <td>10.0</td>\n",
       "      <td>uM</td>\n",
       "      <td>10 uM</td>\n",
       "      <td>24 h</td>\n",
       "      <td>...</td>\n",
       "      <td>A549</td>\n",
       "      <td>D04</td>\n",
       "      <td>LUNG001_A549_24H_X1_B18|LUNG001_A549_24H_X2_B18</td>\n",
       "      <td>LUNG001_A549_24H_X1_B18:D04|LUNG001_A549_24H_X...</td>\n",
       "      <td>NaN</td>\n",
       "      <td>LUNG</td>\n",
       "      <td>mosapride</td>\n",
       "      <td>0.0</td>\n",
       "      <td>1.0</td>\n",
       "      <td>0.0</td>\n",
       "    </tr>\n",
       "    <tr>\n",
       "      <th>3</th>\n",
       "      <td>A39052811</td>\n",
       "      <td>CBK290537</td>\n",
       "      <td>BJ1898259</td>\n",
       "      <td>serotonin receptor agonist</td>\n",
       "      <td>b18</td>\n",
       "      <td>10.0</td>\n",
       "      <td>10.0</td>\n",
       "      <td>uM</td>\n",
       "      <td>10 uM</td>\n",
       "      <td>24 h</td>\n",
       "      <td>...</td>\n",
       "      <td>IMR90</td>\n",
       "      <td>D04</td>\n",
       "      <td>LUNG001_IMR90_24H_X1_B18|LUNG001_IMR90_24H_X2_...</td>\n",
       "      <td>LUNG001_IMR90_24H_X1_B18:D04|LUNG001_IMR90_24H...</td>\n",
       "      <td>NaN</td>\n",
       "      <td>LUNG</td>\n",
       "      <td>mosapride</td>\n",
       "      <td>0.0</td>\n",
       "      <td>0.0</td>\n",
       "      <td>0.0</td>\n",
       "    </tr>\n",
       "    <tr>\n",
       "      <th>4</th>\n",
       "      <td>A39052811</td>\n",
       "      <td>CBK290537</td>\n",
       "      <td>BJ1898259</td>\n",
       "      <td>serotonin receptor agonist</td>\n",
       "      <td>b18</td>\n",
       "      <td>10.0</td>\n",
       "      <td>10.0</td>\n",
       "      <td>uM</td>\n",
       "      <td>10 uM</td>\n",
       "      <td>24 h</td>\n",
       "      <td>...</td>\n",
       "      <td>HFL1</td>\n",
       "      <td>D04</td>\n",
       "      <td>LUNG001_HFL1_24H_X1_B18|LUNG001_HFL1_24H_X2_B1...</td>\n",
       "      <td>LUNG001_HFL1_24H_X1_B18:D04|LUNG001_HFL1_24H_X...</td>\n",
       "      <td>NaN</td>\n",
       "      <td>LUNG</td>\n",
       "      <td>mosapride</td>\n",
       "      <td>0.0</td>\n",
       "      <td>0.0</td>\n",
       "      <td>0.0</td>\n",
       "    </tr>\n",
       "  </tbody>\n",
       "</table>\n",
       "<p>5 rows × 40 columns</p>\n",
       "</div>"
      ],
      "text/plain": [
       "     pert_id Compound ID   Batch nr                         moa bead_batch  \\\n",
       "0  A39052811   CBK290537  BJ1898259  serotonin receptor agonist        b18   \n",
       "1  A39052811   CBK290537  BJ1898259  serotonin receptor agonist        b18   \n",
       "2  A39052811   CBK290537  BJ1898259  serotonin receptor agonist        b18   \n",
       "3  A39052811   CBK290537  BJ1898259  serotonin receptor agonist        b18   \n",
       "4  A39052811   CBK290537  BJ1898259  serotonin receptor agonist        b18   \n",
       "\n",
       "   nearest_dose  pert_dose pert_dose_unit pert_idose pert_itime  ...  \\\n",
       "0          10.0       10.0             uM      10 uM       24 h  ...   \n",
       "1          10.0       10.0             uM      10 uM       24 h  ...   \n",
       "2          10.0       10.0             uM      10 uM       24 h  ...   \n",
       "3          10.0       10.0             uM      10 uM       24 h  ...   \n",
       "4          10.0       10.0             uM      10 uM       24 h  ...   \n",
       "\n",
       "   cell_iname det_wells                                         det_plates  \\\n",
       "0        WI38       D04  LUNG001_WI38_24H_X1_B18|LUNG001_WI38_24H_X2_B1...   \n",
       "1        NL20       D04    LUNG001_NL20_24H_X1_B18|LUNG001_NL20_24H_X3_B18   \n",
       "2        A549       D04    LUNG001_A549_24H_X1_B18|LUNG001_A549_24H_X2_B18   \n",
       "3       IMR90       D04  LUNG001_IMR90_24H_X1_B18|LUNG001_IMR90_24H_X2_...   \n",
       "4        HFL1       D04  LUNG001_HFL1_24H_X1_B18|LUNG001_HFL1_24H_X2_B1...   \n",
       "\n",
       "                                          distil_ids  build_name  \\\n",
       "0  LUNG001_WI38_24H_X1_B18:D04|LUNG001_WI38_24H_X...         NaN   \n",
       "1  LUNG001_NL20_24H_X1_B18:D04|LUNG001_NL20_24H_X...         NaN   \n",
       "2  LUNG001_A549_24H_X1_B18:D04|LUNG001_A549_24H_X...         NaN   \n",
       "3  LUNG001_IMR90_24H_X1_B18:D04|LUNG001_IMR90_24H...         NaN   \n",
       "4  LUNG001_HFL1_24H_X1_B18:D04|LUNG001_HFL1_24H_X...         NaN   \n",
       "\n",
       "   project_code  cmap_name  is_exemplar_sig  is_ncs_sig is_null_sig  \n",
       "0          LUNG  mosapride              0.0         0.0         0.0  \n",
       "1          LUNG  mosapride              0.0         0.0         0.0  \n",
       "2          LUNG  mosapride              0.0         1.0         0.0  \n",
       "3          LUNG  mosapride              0.0         0.0         0.0  \n",
       "4          LUNG  mosapride              0.0         0.0         0.0  \n",
       "\n",
       "[5 rows x 40 columns]"
      ]
     },
     "execution_count": 94,
     "metadata": {},
     "output_type": "execute_result"
    }
   ],
   "source": [
    "clue_sig.head(5)"
   ]
  },
  {
   "cell_type": "code",
   "execution_count": 95,
   "metadata": {},
   "outputs": [
    {
     "data": {
      "text/plain": [
       "(1934,)"
      ]
     },
     "execution_count": 95,
     "metadata": {},
     "output_type": "execute_result"
    }
   ],
   "source": [
    "compounds1_2.CUSTOMER_ID.shape"
   ]
  },
  {
   "cell_type": "code",
   "execution_count": 96,
   "metadata": {},
   "outputs": [
    {
     "data": {
      "text/html": [
       "<div>\n",
       "<style scoped>\n",
       "    .dataframe tbody tr th:only-of-type {\n",
       "        vertical-align: middle;\n",
       "    }\n",
       "\n",
       "    .dataframe tbody tr th {\n",
       "        vertical-align: top;\n",
       "    }\n",
       "\n",
       "    .dataframe thead th {\n",
       "        text-align: right;\n",
       "    }\n",
       "</style>\n",
       "<table border=\"1\" class=\"dataframe\">\n",
       "  <thead>\n",
       "    <tr style=\"text-align: right;\">\n",
       "      <th></th>\n",
       "      <th>CUSTOMER_ID</th>\n",
       "      <th>Batch nr</th>\n",
       "      <th>Compound ID</th>\n",
       "      <th>moa</th>\n",
       "    </tr>\n",
       "  </thead>\n",
       "  <tbody>\n",
       "    <tr>\n",
       "      <th>0</th>\n",
       "      <td>A39052811</td>\n",
       "      <td>BJ1898259</td>\n",
       "      <td>CBK290537</td>\n",
       "      <td>serotonin receptor agonist</td>\n",
       "    </tr>\n",
       "    <tr>\n",
       "      <th>1</th>\n",
       "      <td>A54275602</td>\n",
       "      <td>BJ1896690</td>\n",
       "      <td>CBK308456</td>\n",
       "      <td>sterol demethylase inhibitor</td>\n",
       "    </tr>\n",
       "    <tr>\n",
       "      <th>2</th>\n",
       "      <td>A84465106</td>\n",
       "      <td>BJ1897571</td>\n",
       "      <td>CBK200938</td>\n",
       "      <td>calcium channel blocker</td>\n",
       "    </tr>\n",
       "    <tr>\n",
       "      <th>3</th>\n",
       "      <td>K05977823</td>\n",
       "      <td>BJ1899032</td>\n",
       "      <td>CBK290948</td>\n",
       "      <td>SIRT inhibitor|TP53 activator</td>\n",
       "    </tr>\n",
       "    <tr>\n",
       "      <th>4</th>\n",
       "      <td>K09255212</td>\n",
       "      <td>BJ1895358</td>\n",
       "      <td>CBK200855</td>\n",
       "      <td>chelating agent</td>\n",
       "    </tr>\n",
       "  </tbody>\n",
       "</table>\n",
       "</div>"
      ],
      "text/plain": [
       "  CUSTOMER_ID   Batch nr Compound ID                            moa\n",
       "0   A39052811  BJ1898259   CBK290537     serotonin receptor agonist\n",
       "1   A54275602  BJ1896690   CBK308456   sterol demethylase inhibitor\n",
       "2   A84465106  BJ1897571   CBK200938        calcium channel blocker\n",
       "3   K05977823  BJ1899032   CBK290948  SIRT inhibitor|TP53 activator\n",
       "4   K09255212  BJ1895358   CBK200855                chelating agent"
      ]
     },
     "execution_count": 96,
     "metadata": {},
     "output_type": "execute_result"
    }
   ],
   "source": [
    "compounds1_2.head()"
   ]
  },
  {
   "cell_type": "code",
   "execution_count": 97,
   "metadata": {},
   "outputs": [],
   "source": [
    "# retain only transcriptomic profiles where the small molecules used matches what we have in SPECS compound\n",
    "# 1 and 2.\n",
    "clue_sig = clue_sig[clue_sig.pert_id.isin(compounds1_2.CUSTOMER_ID)]"
   ]
  },
  {
   "cell_type": "code",
   "execution_count": 98,
   "metadata": {},
   "outputs": [
    {
     "data": {
      "text/plain": [
       "(53975, 40)"
      ]
     },
     "execution_count": 98,
     "metadata": {},
     "output_type": "execute_result"
    }
   ],
   "source": [
    "clue_sig.shape"
   ]
  },
  {
   "cell_type": "markdown",
   "metadata": {},
   "source": [
    "Gain in columns, decrease in the number of transcriptomes available."
   ]
  },
  {
   "cell_type": "code",
   "execution_count": 99,
   "metadata": {},
   "outputs": [
    {
     "data": {
      "text/plain": [
       "Index(['pert_id', 'Compound ID', 'Batch nr', 'moa', 'bead_batch',\n",
       "       'nearest_dose', 'pert_dose', 'pert_dose_unit', 'pert_idose',\n",
       "       'pert_itime', 'pert_time', 'pert_time_unit', 'cell_mfc_name',\n",
       "       'pert_mfc_id', 'nsample', 'cc_q75', 'ss_ngene', 'tas',\n",
       "       'pct_self_rank_q25', 'wt', 'median_recall_rank_spearman',\n",
       "       'median_recall_rank_wtcs_50', 'median_recall_score_spearman',\n",
       "       'median_recall_score_wtcs_50', 'batch_effect_tstat',\n",
       "       'batch_effect_tstat_pct', 'is_hiq', 'qc_pass', 'sig_id', 'pert_type',\n",
       "       'cell_iname', 'det_wells', 'det_plates', 'distil_ids', 'build_name',\n",
       "       'project_code', 'cmap_name', 'is_exemplar_sig', 'is_ncs_sig',\n",
       "       'is_null_sig'],\n",
       "      dtype='object')"
      ]
     },
     "execution_count": 99,
     "metadata": {},
     "output_type": "execute_result"
    }
   ],
   "source": [
    "clue_sig.columns"
   ]
  },
  {
   "cell_type": "markdown",
   "metadata": {},
   "source": [
    "### 3. Screen for cell_name U2Os"
   ]
  },
  {
   "cell_type": "code",
   "execution_count": 100,
   "metadata": {},
   "outputs": [],
   "source": [
    "# remove all transcriptomic profiles not U20S\n",
    "clue_sig_line = clue_sig[clue_sig.cell_iname == 'U2OS'].reset_index(drop=True)"
   ]
  },
  {
   "cell_type": "code",
   "execution_count": 101,
   "metadata": {},
   "outputs": [
    {
     "data": {
      "text/plain": [
       "(511, 40)"
      ]
     },
     "execution_count": 101,
     "metadata": {},
     "output_type": "execute_result"
    }
   ],
   "source": [
    "clue_sig_line.shape"
   ]
  },
  {
   "cell_type": "markdown",
   "metadata": {},
   "source": [
    "Number of transcriptomic profiles using U20 as cell line:  2206\n",
    "\n",
    "\n",
    "Number of transcriptomic profiles using U20 as cell line with compounds in SPECS V1/V2: 511"
   ]
  },
  {
   "cell_type": "code",
   "execution_count": 102,
   "metadata": {},
   "outputs": [
    {
     "data": {
      "text/html": [
       "<div>\n",
       "<style scoped>\n",
       "    .dataframe tbody tr th:only-of-type {\n",
       "        vertical-align: middle;\n",
       "    }\n",
       "\n",
       "    .dataframe tbody tr th {\n",
       "        vertical-align: top;\n",
       "    }\n",
       "\n",
       "    .dataframe thead th {\n",
       "        text-align: right;\n",
       "    }\n",
       "</style>\n",
       "<table border=\"1\" class=\"dataframe\">\n",
       "  <thead>\n",
       "    <tr style=\"text-align: right;\">\n",
       "      <th></th>\n",
       "      <th>pert_id</th>\n",
       "      <th>Compound ID</th>\n",
       "      <th>Batch nr</th>\n",
       "      <th>moa</th>\n",
       "      <th>bead_batch</th>\n",
       "      <th>nearest_dose</th>\n",
       "      <th>pert_dose</th>\n",
       "      <th>pert_dose_unit</th>\n",
       "      <th>pert_idose</th>\n",
       "      <th>pert_itime</th>\n",
       "      <th>...</th>\n",
       "      <th>cell_iname</th>\n",
       "      <th>det_wells</th>\n",
       "      <th>det_plates</th>\n",
       "      <th>distil_ids</th>\n",
       "      <th>build_name</th>\n",
       "      <th>project_code</th>\n",
       "      <th>cmap_name</th>\n",
       "      <th>is_exemplar_sig</th>\n",
       "      <th>is_ncs_sig</th>\n",
       "      <th>is_null_sig</th>\n",
       "    </tr>\n",
       "  </thead>\n",
       "  <tbody>\n",
       "    <tr>\n",
       "      <th>0</th>\n",
       "      <td>A13084692</td>\n",
       "      <td>CBK201050</td>\n",
       "      <td>BJ1896966</td>\n",
       "      <td>insulin sensitizer|PPAR receptor agonist</td>\n",
       "      <td>b41</td>\n",
       "      <td>1.11</td>\n",
       "      <td>1.0</td>\n",
       "      <td>uM</td>\n",
       "      <td>1.11 uM</td>\n",
       "      <td>48 h</td>\n",
       "      <td>...</td>\n",
       "      <td>U2OS</td>\n",
       "      <td>H05</td>\n",
       "      <td>ASG003_U2OS_48H_X1_B41|ASG003_U2OS_48H_X2_B41|...</td>\n",
       "      <td>ASG003_U2OS_48H_X1_B41:H05|ASG003_U2OS_48H_X2_...</td>\n",
       "      <td>NaN</td>\n",
       "      <td>ASG</td>\n",
       "      <td>troglitazone</td>\n",
       "      <td>0.0</td>\n",
       "      <td>1.0</td>\n",
       "      <td>0.0</td>\n",
       "    </tr>\n",
       "    <tr>\n",
       "      <th>1</th>\n",
       "      <td>A13084692</td>\n",
       "      <td>CBK201050</td>\n",
       "      <td>BJ1896966</td>\n",
       "      <td>insulin sensitizer|PPAR receptor agonist</td>\n",
       "      <td>b41</td>\n",
       "      <td>10.00</td>\n",
       "      <td>10.0</td>\n",
       "      <td>uM</td>\n",
       "      <td>10 uM</td>\n",
       "      <td>6 h</td>\n",
       "      <td>...</td>\n",
       "      <td>U2OS</td>\n",
       "      <td>H04</td>\n",
       "      <td>ASG003_U2OS_6H_X1_B41|ASG003_U2OS_6H_X2_B41|AS...</td>\n",
       "      <td>ASG003_U2OS_6H_X1_B41:H04|ASG003_U2OS_6H_X2_B4...</td>\n",
       "      <td>NaN</td>\n",
       "      <td>ASG</td>\n",
       "      <td>troglitazone</td>\n",
       "      <td>0.0</td>\n",
       "      <td>1.0</td>\n",
       "      <td>0.0</td>\n",
       "    </tr>\n",
       "    <tr>\n",
       "      <th>2</th>\n",
       "      <td>A13084692</td>\n",
       "      <td>CBK201050</td>\n",
       "      <td>BJ1896966</td>\n",
       "      <td>insulin sensitizer|PPAR receptor agonist</td>\n",
       "      <td>b41</td>\n",
       "      <td>1.11</td>\n",
       "      <td>1.0</td>\n",
       "      <td>uM</td>\n",
       "      <td>1.11 uM</td>\n",
       "      <td>24 h</td>\n",
       "      <td>...</td>\n",
       "      <td>U2OS</td>\n",
       "      <td>H05</td>\n",
       "      <td>ASG003_U2OS_24H_X1_B41|ASG003_U2OS_24H_X2.A2_B...</td>\n",
       "      <td>ASG003_U2OS_24H_X1_B41:H05|ASG003_U2OS_24H_X2....</td>\n",
       "      <td>NaN</td>\n",
       "      <td>ASG</td>\n",
       "      <td>troglitazone</td>\n",
       "      <td>0.0</td>\n",
       "      <td>1.0</td>\n",
       "      <td>0.0</td>\n",
       "    </tr>\n",
       "    <tr>\n",
       "      <th>3</th>\n",
       "      <td>A13084692</td>\n",
       "      <td>CBK201050</td>\n",
       "      <td>BJ1896966</td>\n",
       "      <td>insulin sensitizer|PPAR receptor agonist</td>\n",
       "      <td>b41</td>\n",
       "      <td>0.12</td>\n",
       "      <td>0.1</td>\n",
       "      <td>uM</td>\n",
       "      <td>0.12 uM</td>\n",
       "      <td>6 h</td>\n",
       "      <td>...</td>\n",
       "      <td>U2OS</td>\n",
       "      <td>H06</td>\n",
       "      <td>ASG003_U2OS_6H_X1_B41|ASG003_U2OS_6H_X2_B41|AS...</td>\n",
       "      <td>ASG003_U2OS_6H_X1_B41:H06|ASG003_U2OS_6H_X2_B4...</td>\n",
       "      <td>NaN</td>\n",
       "      <td>ASG</td>\n",
       "      <td>troglitazone</td>\n",
       "      <td>0.0</td>\n",
       "      <td>1.0</td>\n",
       "      <td>0.0</td>\n",
       "    </tr>\n",
       "    <tr>\n",
       "      <th>4</th>\n",
       "      <td>A13084692</td>\n",
       "      <td>CBK201050</td>\n",
       "      <td>BJ1896966</td>\n",
       "      <td>insulin sensitizer|PPAR receptor agonist</td>\n",
       "      <td>b41</td>\n",
       "      <td>0.12</td>\n",
       "      <td>0.1</td>\n",
       "      <td>uM</td>\n",
       "      <td>0.12 uM</td>\n",
       "      <td>48 h</td>\n",
       "      <td>...</td>\n",
       "      <td>U2OS</td>\n",
       "      <td>H06</td>\n",
       "      <td>ASG003_U2OS_48H_X1_B41|ASG003_U2OS_48H_X2_B41|...</td>\n",
       "      <td>ASG003_U2OS_48H_X1_B41:H06|ASG003_U2OS_48H_X2_...</td>\n",
       "      <td>NaN</td>\n",
       "      <td>ASG</td>\n",
       "      <td>troglitazone</td>\n",
       "      <td>0.0</td>\n",
       "      <td>1.0</td>\n",
       "      <td>0.0</td>\n",
       "    </tr>\n",
       "  </tbody>\n",
       "</table>\n",
       "<p>5 rows × 40 columns</p>\n",
       "</div>"
      ],
      "text/plain": [
       "     pert_id Compound ID   Batch nr                                       moa  \\\n",
       "0  A13084692   CBK201050  BJ1896966  insulin sensitizer|PPAR receptor agonist   \n",
       "1  A13084692   CBK201050  BJ1896966  insulin sensitizer|PPAR receptor agonist   \n",
       "2  A13084692   CBK201050  BJ1896966  insulin sensitizer|PPAR receptor agonist   \n",
       "3  A13084692   CBK201050  BJ1896966  insulin sensitizer|PPAR receptor agonist   \n",
       "4  A13084692   CBK201050  BJ1896966  insulin sensitizer|PPAR receptor agonist   \n",
       "\n",
       "  bead_batch  nearest_dose  pert_dose pert_dose_unit pert_idose pert_itime  \\\n",
       "0        b41          1.11        1.0             uM    1.11 uM       48 h   \n",
       "1        b41         10.00       10.0             uM      10 uM        6 h   \n",
       "2        b41          1.11        1.0             uM    1.11 uM       24 h   \n",
       "3        b41          0.12        0.1             uM    0.12 uM        6 h   \n",
       "4        b41          0.12        0.1             uM    0.12 uM       48 h   \n",
       "\n",
       "   ...  cell_iname det_wells  \\\n",
       "0  ...        U2OS       H05   \n",
       "1  ...        U2OS       H04   \n",
       "2  ...        U2OS       H05   \n",
       "3  ...        U2OS       H06   \n",
       "4  ...        U2OS       H06   \n",
       "\n",
       "                                          det_plates  \\\n",
       "0  ASG003_U2OS_48H_X1_B41|ASG003_U2OS_48H_X2_B41|...   \n",
       "1  ASG003_U2OS_6H_X1_B41|ASG003_U2OS_6H_X2_B41|AS...   \n",
       "2  ASG003_U2OS_24H_X1_B41|ASG003_U2OS_24H_X2.A2_B...   \n",
       "3  ASG003_U2OS_6H_X1_B41|ASG003_U2OS_6H_X2_B41|AS...   \n",
       "4  ASG003_U2OS_48H_X1_B41|ASG003_U2OS_48H_X2_B41|...   \n",
       "\n",
       "                                          distil_ids  build_name  \\\n",
       "0  ASG003_U2OS_48H_X1_B41:H05|ASG003_U2OS_48H_X2_...         NaN   \n",
       "1  ASG003_U2OS_6H_X1_B41:H04|ASG003_U2OS_6H_X2_B4...         NaN   \n",
       "2  ASG003_U2OS_24H_X1_B41:H05|ASG003_U2OS_24H_X2....         NaN   \n",
       "3  ASG003_U2OS_6H_X1_B41:H06|ASG003_U2OS_6H_X2_B4...         NaN   \n",
       "4  ASG003_U2OS_48H_X1_B41:H06|ASG003_U2OS_48H_X2_...         NaN   \n",
       "\n",
       "   project_code     cmap_name  is_exemplar_sig  is_ncs_sig is_null_sig  \n",
       "0           ASG  troglitazone              0.0         1.0         0.0  \n",
       "1           ASG  troglitazone              0.0         1.0         0.0  \n",
       "2           ASG  troglitazone              0.0         1.0         0.0  \n",
       "3           ASG  troglitazone              0.0         1.0         0.0  \n",
       "4           ASG  troglitazone              0.0         1.0         0.0  \n",
       "\n",
       "[5 rows x 40 columns]"
      ]
     },
     "execution_count": 102,
     "metadata": {},
     "output_type": "execute_result"
    }
   ],
   "source": [
    "clue_sig_line.head()"
   ]
  },
  {
   "cell_type": "markdown",
   "metadata": {},
   "source": [
    "### 4. Screen for pert_idose 10 mmol"
   ]
  },
  {
   "cell_type": "code",
   "execution_count": 103,
   "metadata": {},
   "outputs": [],
   "source": [
    "# remove all transcriptomic profiles that don't use a similar dose to what Pharmbio uses\n",
    "clue_sig_line_dose = clue_sig_line[clue_sig_line.pert_dose.between(8,12)].reset_index(drop=True)"
   ]
  },
  {
   "cell_type": "code",
   "execution_count": 104,
   "metadata": {},
   "outputs": [
    {
     "data": {
      "text/plain": [
       "(173, 40)"
      ]
     },
     "execution_count": 104,
     "metadata": {},
     "output_type": "execute_result"
    }
   ],
   "source": [
    "# check loss\n",
    "clue_sig_line_dose.shape"
   ]
  },
  {
   "cell_type": "markdown",
   "metadata": {},
   "source": [
    "Number of transcriptomic profiles with U20 as cell line with the correct dosage: 477 \n",
    "\n",
    "\n",
    "Number of transcriptomic profiles using U20 as cell line with compounds in SPECS V1/V2: 173"
   ]
  },
  {
   "cell_type": "code",
   "execution_count": 105,
   "metadata": {},
   "outputs": [
    {
     "data": {
      "text/html": [
       "<div>\n",
       "<style scoped>\n",
       "    .dataframe tbody tr th:only-of-type {\n",
       "        vertical-align: middle;\n",
       "    }\n",
       "\n",
       "    .dataframe tbody tr th {\n",
       "        vertical-align: top;\n",
       "    }\n",
       "\n",
       "    .dataframe thead th {\n",
       "        text-align: right;\n",
       "    }\n",
       "</style>\n",
       "<table border=\"1\" class=\"dataframe\">\n",
       "  <thead>\n",
       "    <tr style=\"text-align: right;\">\n",
       "      <th></th>\n",
       "      <th>pert_id</th>\n",
       "      <th>Compound ID</th>\n",
       "      <th>Batch nr</th>\n",
       "      <th>moa</th>\n",
       "      <th>bead_batch</th>\n",
       "      <th>nearest_dose</th>\n",
       "      <th>pert_dose</th>\n",
       "      <th>pert_dose_unit</th>\n",
       "      <th>pert_idose</th>\n",
       "      <th>pert_itime</th>\n",
       "      <th>...</th>\n",
       "      <th>cell_iname</th>\n",
       "      <th>det_wells</th>\n",
       "      <th>det_plates</th>\n",
       "      <th>distil_ids</th>\n",
       "      <th>build_name</th>\n",
       "      <th>project_code</th>\n",
       "      <th>cmap_name</th>\n",
       "      <th>is_exemplar_sig</th>\n",
       "      <th>is_ncs_sig</th>\n",
       "      <th>is_null_sig</th>\n",
       "    </tr>\n",
       "  </thead>\n",
       "  <tbody>\n",
       "    <tr>\n",
       "      <th>0</th>\n",
       "      <td>A13084692</td>\n",
       "      <td>CBK201050</td>\n",
       "      <td>BJ1896966</td>\n",
       "      <td>insulin sensitizer|PPAR receptor agonist</td>\n",
       "      <td>b41</td>\n",
       "      <td>10.0</td>\n",
       "      <td>10.0</td>\n",
       "      <td>uM</td>\n",
       "      <td>10 uM</td>\n",
       "      <td>6 h</td>\n",
       "      <td>...</td>\n",
       "      <td>U2OS</td>\n",
       "      <td>H04</td>\n",
       "      <td>ASG003_U2OS_6H_X1_B41|ASG003_U2OS_6H_X2_B41|AS...</td>\n",
       "      <td>ASG003_U2OS_6H_X1_B41:H04|ASG003_U2OS_6H_X2_B4...</td>\n",
       "      <td>NaN</td>\n",
       "      <td>ASG</td>\n",
       "      <td>troglitazone</td>\n",
       "      <td>0.0</td>\n",
       "      <td>1.0</td>\n",
       "      <td>0.0</td>\n",
       "    </tr>\n",
       "    <tr>\n",
       "      <th>1</th>\n",
       "      <td>A13084692</td>\n",
       "      <td>CBK201050</td>\n",
       "      <td>BJ1896966</td>\n",
       "      <td>insulin sensitizer|PPAR receptor agonist</td>\n",
       "      <td>b41</td>\n",
       "      <td>10.0</td>\n",
       "      <td>10.0</td>\n",
       "      <td>uM</td>\n",
       "      <td>10 uM</td>\n",
       "      <td>48 h</td>\n",
       "      <td>...</td>\n",
       "      <td>U2OS</td>\n",
       "      <td>H04</td>\n",
       "      <td>ASG003_U2OS_48H_X1_B41|ASG003_U2OS_48H_X2_B41|...</td>\n",
       "      <td>ASG003_U2OS_48H_X1_B41:H04|ASG003_U2OS_48H_X2_...</td>\n",
       "      <td>NaN</td>\n",
       "      <td>ASG</td>\n",
       "      <td>troglitazone</td>\n",
       "      <td>0.0</td>\n",
       "      <td>1.0</td>\n",
       "      <td>0.0</td>\n",
       "    </tr>\n",
       "    <tr>\n",
       "      <th>2</th>\n",
       "      <td>A13084692</td>\n",
       "      <td>CBK201050</td>\n",
       "      <td>BJ1896966</td>\n",
       "      <td>insulin sensitizer|PPAR receptor agonist</td>\n",
       "      <td>b41</td>\n",
       "      <td>10.0</td>\n",
       "      <td>10.0</td>\n",
       "      <td>uM</td>\n",
       "      <td>10 uM</td>\n",
       "      <td>24 h</td>\n",
       "      <td>...</td>\n",
       "      <td>U2OS</td>\n",
       "      <td>H04</td>\n",
       "      <td>ASG003_U2OS_24H_X1_B41|ASG003_U2OS_24H_X2.A2_B...</td>\n",
       "      <td>ASG003_U2OS_24H_X1_B41:H04|ASG003_U2OS_24H_X2....</td>\n",
       "      <td>NaN</td>\n",
       "      <td>ASG</td>\n",
       "      <td>troglitazone</td>\n",
       "      <td>0.0</td>\n",
       "      <td>1.0</td>\n",
       "      <td>0.0</td>\n",
       "    </tr>\n",
       "    <tr>\n",
       "      <th>3</th>\n",
       "      <td>K49328571</td>\n",
       "      <td>CBK176261</td>\n",
       "      <td>BJ1898142</td>\n",
       "      <td>Bcr-Abl kinase inhibitor|ephrin inhibitor|KIT ...</td>\n",
       "      <td>b41</td>\n",
       "      <td>10.0</td>\n",
       "      <td>10.0</td>\n",
       "      <td>uM</td>\n",
       "      <td>10 uM</td>\n",
       "      <td>48 h</td>\n",
       "      <td>...</td>\n",
       "      <td>U2OS</td>\n",
       "      <td>N01</td>\n",
       "      <td>ASG003_U2OS_48H_X1_B41|ASG003_U2OS_48H_X2_B41|...</td>\n",
       "      <td>ASG003_U2OS_48H_X1_B41:N01|ASG003_U2OS_48H_X2_...</td>\n",
       "      <td>NaN</td>\n",
       "      <td>ASG</td>\n",
       "      <td>dasatinib</td>\n",
       "      <td>0.0</td>\n",
       "      <td>1.0</td>\n",
       "      <td>0.0</td>\n",
       "    </tr>\n",
       "    <tr>\n",
       "      <th>4</th>\n",
       "      <td>K49328571</td>\n",
       "      <td>CBK176261</td>\n",
       "      <td>BJ1898142</td>\n",
       "      <td>Bcr-Abl kinase inhibitor|ephrin inhibitor|KIT ...</td>\n",
       "      <td>b41</td>\n",
       "      <td>10.0</td>\n",
       "      <td>10.0</td>\n",
       "      <td>uM</td>\n",
       "      <td>10 uM</td>\n",
       "      <td>6 h</td>\n",
       "      <td>...</td>\n",
       "      <td>U2OS</td>\n",
       "      <td>N01</td>\n",
       "      <td>ASG003_U2OS_6H_X1_B41|ASG003_U2OS_6H_X2_B41|AS...</td>\n",
       "      <td>ASG003_U2OS_6H_X1_B41:N01|ASG003_U2OS_6H_X2_B4...</td>\n",
       "      <td>NaN</td>\n",
       "      <td>ASG</td>\n",
       "      <td>dasatinib</td>\n",
       "      <td>0.0</td>\n",
       "      <td>1.0</td>\n",
       "      <td>0.0</td>\n",
       "    </tr>\n",
       "  </tbody>\n",
       "</table>\n",
       "<p>5 rows × 40 columns</p>\n",
       "</div>"
      ],
      "text/plain": [
       "     pert_id Compound ID   Batch nr  \\\n",
       "0  A13084692   CBK201050  BJ1896966   \n",
       "1  A13084692   CBK201050  BJ1896966   \n",
       "2  A13084692   CBK201050  BJ1896966   \n",
       "3  K49328571   CBK176261  BJ1898142   \n",
       "4  K49328571   CBK176261  BJ1898142   \n",
       "\n",
       "                                                 moa bead_batch  nearest_dose  \\\n",
       "0           insulin sensitizer|PPAR receptor agonist        b41          10.0   \n",
       "1           insulin sensitizer|PPAR receptor agonist        b41          10.0   \n",
       "2           insulin sensitizer|PPAR receptor agonist        b41          10.0   \n",
       "3  Bcr-Abl kinase inhibitor|ephrin inhibitor|KIT ...        b41          10.0   \n",
       "4  Bcr-Abl kinase inhibitor|ephrin inhibitor|KIT ...        b41          10.0   \n",
       "\n",
       "   pert_dose pert_dose_unit pert_idose pert_itime  ...  cell_iname det_wells  \\\n",
       "0       10.0             uM      10 uM        6 h  ...        U2OS       H04   \n",
       "1       10.0             uM      10 uM       48 h  ...        U2OS       H04   \n",
       "2       10.0             uM      10 uM       24 h  ...        U2OS       H04   \n",
       "3       10.0             uM      10 uM       48 h  ...        U2OS       N01   \n",
       "4       10.0             uM      10 uM        6 h  ...        U2OS       N01   \n",
       "\n",
       "                                          det_plates  \\\n",
       "0  ASG003_U2OS_6H_X1_B41|ASG003_U2OS_6H_X2_B41|AS...   \n",
       "1  ASG003_U2OS_48H_X1_B41|ASG003_U2OS_48H_X2_B41|...   \n",
       "2  ASG003_U2OS_24H_X1_B41|ASG003_U2OS_24H_X2.A2_B...   \n",
       "3  ASG003_U2OS_48H_X1_B41|ASG003_U2OS_48H_X2_B41|...   \n",
       "4  ASG003_U2OS_6H_X1_B41|ASG003_U2OS_6H_X2_B41|AS...   \n",
       "\n",
       "                                          distil_ids  build_name  \\\n",
       "0  ASG003_U2OS_6H_X1_B41:H04|ASG003_U2OS_6H_X2_B4...         NaN   \n",
       "1  ASG003_U2OS_48H_X1_B41:H04|ASG003_U2OS_48H_X2_...         NaN   \n",
       "2  ASG003_U2OS_24H_X1_B41:H04|ASG003_U2OS_24H_X2....         NaN   \n",
       "3  ASG003_U2OS_48H_X1_B41:N01|ASG003_U2OS_48H_X2_...         NaN   \n",
       "4  ASG003_U2OS_6H_X1_B41:N01|ASG003_U2OS_6H_X2_B4...         NaN   \n",
       "\n",
       "   project_code     cmap_name  is_exemplar_sig  is_ncs_sig is_null_sig  \n",
       "0           ASG  troglitazone              0.0         1.0         0.0  \n",
       "1           ASG  troglitazone              0.0         1.0         0.0  \n",
       "2           ASG  troglitazone              0.0         1.0         0.0  \n",
       "3           ASG     dasatinib              0.0         1.0         0.0  \n",
       "4           ASG     dasatinib              0.0         1.0         0.0  \n",
       "\n",
       "[5 rows x 40 columns]"
      ]
     },
     "execution_count": 105,
     "metadata": {},
     "output_type": "execute_result"
    }
   ],
   "source": [
    "clue_sig_line_dose.head()"
   ]
  },
  {
   "cell_type": "code",
   "execution_count": 112,
   "metadata": {},
   "outputs": [
    {
     "name": "stdout",
     "output_type": "stream",
     "text": [
      "Cell line Name    Dosage      # Transcriptomic Profiles\n",
      "----------------  --------  ---------------------------\n",
      "U2OS              [0, 100]                          511\n",
      "U2OS              [2, 20]                           181\n",
      "U2OS              [8, 12]                           173\n",
      "MCF7, PC3, A549   [0, 100]                        12667\n",
      "MCF7, PC3, A549   [2, 20]                          8937\n",
      "MCF7, PC3, A549   [8, 12]                          8214\n",
      "PC3, A549         [0, 100]                         7375\n",
      "PC3, A549         [2, 20]                          5300\n",
      "PC3, A549         [8, 12]                          4908\n",
      "all               [0, 100]                        53381\n",
      "all               [2, 20]                         31784\n",
      "all               [8, 12]                         27803\n"
     ]
    }
   ],
   "source": [
    "checking_avail_transcrip(cell_name_string, cell_name, lower_doses, higher_doses, clue_sig)"
   ]
  },
  {
   "cell_type": "markdown",
   "metadata": {},
   "source": [
    "### 5. Rank MoA classes according to number of transcriptomic profiles "
   ]
  },
  {
   "cell_type": "markdown",
   "metadata": {},
   "source": [
    "### Transcriptomic Profiles that exist\n",
    "NOTE: DOES NOT TAKE INTO ACCOUNT THE FACT SAME COMPOUND IS USED"
   ]
  },
  {
   "cell_type": "code",
   "execution_count": 113,
   "metadata": {},
   "outputs": [
    {
     "data": {
      "text/plain": [
       "tubulin polymerization inhibitor    13\n",
       "EGFR inhibitor                      12\n",
       "dopamine receptor antagonist         9\n",
       "PARP inhibitor                       9\n",
       "HSP inhibitor                        9\n",
       "topoisomerase inhibitor              7\n",
       "mTOR inhibitor|PI3K inhibitor        7\n",
       "HDAC inhibitor                       7\n",
       "protein synthesis inhibitor          7\n",
       "retinoid receptor agonist            6\n",
       "adrenergic receptor agonist          6\n",
       "estrogen receptor agonist            6\n",
       "Name: moa, dtype: int64"
      ]
     },
     "execution_count": 113,
     "metadata": {},
     "output_type": "execute_result"
    }
   ],
   "source": [
    "# Check which moas there exists transcriptomic profiles given the U2O line where Pharmbio also have HIC\n",
    "clue_sig_line_dose.moa.value_counts()[:12]\n"
   ]
  },
  {
   "cell_type": "code",
   "execution_count": 114,
   "metadata": {},
   "outputs": [
    {
     "data": {
      "text/plain": [
       "tubulin polymerization inhibitor    13\n",
       "HSP inhibitor                        9\n",
       "PARP inhibitor                       9\n",
       "topoisomerase inhibitor              7\n",
       "HDAC inhibitor                       7\n",
       "protein synthesis inhibitor          7\n",
       "retinoid receptor agonist            6\n",
       "Aurora kinase inhibitor              3\n",
       "JAK inhibitor                        1\n",
       "Name: moa, dtype: int64"
      ]
     },
     "execution_count": 114,
     "metadata": {},
     "output_type": "execute_result"
    }
   ],
   "source": [
    "# see the number of transcriptomics profiles for each of the MoA classes from the MoA classes Tian used that also have HIC\n",
    "Chosen_10_Tomics = clue_sig_line_dose[clue_sig_line_dose.moa.isin(moas)]\n",
    "Chosen_10_Tomics.moa.value_counts()"
   ]
  },
  {
   "cell_type": "markdown",
   "metadata": {},
   "source": [
    "### Unique Compound IDs"
   ]
  },
  {
   "cell_type": "code",
   "execution_count": 115,
   "metadata": {},
   "outputs": [
    {
     "name": "stdout",
     "output_type": "stream",
     "text": [
      "EGFR inhibitor                                                                                                                              4\n",
      "tubulin polymerization inhibitor                                                                                                            4\n",
      "HSP inhibitor                                                                                                                               3\n",
      "PARP inhibitor                                                                                                                              3\n",
      "dopamine receptor antagonist                                                                                                                3\n",
      "protein synthesis inhibitor                                                                                                                 3\n",
      "topoisomerase inhibitor                                                                                                                     2\n",
      "retinoid receptor agonist                                                                                                                   2\n",
      "adrenergic receptor agonist                                                                                                                 2\n",
      "histone lysine methyltransferase inhibitor                                                                                                  2\n",
      "mTOR inhibitor|PI3K inhibitor                                                                                                               2\n",
      "HDAC inhibitor                                                                                                                              2\n",
      "estrogen receptor agonist                                                                                                                   2\n",
      "mTOR inhibitor                                                                                                                              1\n",
      "laxative                                                                                                                                    1\n",
      "Bcr-Abl kinase inhibitor|ephrin inhibitor|KIT inhibitor|PDGFR tyrosine kinase receptor inhibitor|SRC inhibitor|tyrosine kinase inhibitor    1\n",
      "PPAR receptor agonist                                                                                                                       1\n",
      "adenosine receptor antagonist                                                                                                               1\n",
      "DNA dependent protein kinase inhibitor|mTOR inhibitor|phosphodiesterase inhibitor|PI3K inhibitor|PLK inhibitor                              1\n",
      "MDM inhibitor                                                                                                                               1\n",
      "PDGFR tyrosine kinase receptor inhibitor|VEGFR inhibitor                                                                                    1\n",
      "dehydrogenase inhibitor                                                                                                                     1\n",
      "phosphodiesterase inhibitor                                                                                                                 1\n",
      "dehydrogenase inhibitor|inositol monophosphatase inhibitor                                                                                  1\n",
      "calcium channel blocker                                                                                                                     1\n",
      "DNA alkylating agent                                                                                                                        1\n",
      "insulin sensitizer|PPAR receptor agonist                                                                                                    1\n",
      "JAK inhibitor                                                                                                                               1\n",
      "HIV protease inhibitor                                                                                                                      1\n",
      "HMGCR inhibitor                                                                                                                             1\n",
      "RAF inhibitor                                                                                                                               1\n",
      "Aurora kinase inhibitor|Bcr-Abl kinase inhibitor|FLT3 inhibitor|JAK inhibitor                                                               1\n",
      "Aurora kinase inhibitor                                                                                                                     1\n",
      "thioredoxin inhibitor                                                                                                                       1\n",
      "estrogen receptor antagonist|selective estrogen receptor modulator (SERM)                                                                   1\n",
      "ribonucleotide reductase inhibitor                                                                                                          1\n",
      "bacterial DNA gyrase inhibitor                                                                                                              1\n",
      "ion channel antagonist                                                                                                                      1\n",
      "Name: moa, dtype: int64\n"
     ]
    }
   ],
   "source": [
    "unique_all = clue_sig_line.drop_duplicates(subset=[\"pert_id\"])\n",
    "print(unique_all.moa.value_counts())"
   ]
  },
  {
   "cell_type": "code",
   "execution_count": 116,
   "metadata": {},
   "outputs": [
    {
     "name": "stdout",
     "output_type": "stream",
     "text": [
      " Number of enantiomers in 10 MoA Class Tian used: 0\n"
     ]
    }
   ],
   "source": [
    "print(f' Number of enantiomers in 10 MoA Class Tian used: {unique_all[unique_all.duplicated(\"Compound ID\")].shape[0]}')"
   ]
  },
  {
   "cell_type": "code",
   "execution_count": 117,
   "metadata": {},
   "outputs": [
    {
     "data": {
      "text/plain": [
       "tubulin polymerization inhibitor    0.190476\n",
       "protein synthesis inhibitor         0.142857\n",
       "HSP inhibitor                       0.142857\n",
       "PARP inhibitor                      0.142857\n",
       "topoisomerase inhibitor             0.095238\n",
       "HDAC inhibitor                      0.095238\n",
       "retinoid receptor agonist           0.095238\n",
       "Aurora kinase inhibitor             0.047619\n",
       "JAK inhibitor                       0.047619\n",
       "Name: moa, dtype: float64"
      ]
     },
     "execution_count": 117,
     "metadata": {},
     "output_type": "execute_result"
    }
   ],
   "source": [
    "unique_Chosen_10 = Chosen_10_Tomics.drop_duplicates(subset=[\"pert_id\"])\n",
    "unique_Chosen_10.moa.value_counts()"
   ]
  },
  {
   "cell_type": "code",
   "execution_count": 103,
   "metadata": {},
   "outputs": [
    {
     "name": "stdout",
     "output_type": "stream",
     "text": [
      " Number of enantiomers in 10 MoA Class Tian used: 0\n"
     ]
    }
   ],
   "source": [
    "print(f' Number of enantiomers in 10 MoA Class Tian used: {unique_Chosen_10[unique_Chosen_10.duplicated(\"Compound ID\")].shape[0]}') "
   ]
  },
  {
   "cell_type": "markdown",
   "metadata": {},
   "source": [
    "## Conclusions\n",
    "1. The amount of data available for U20 cells is quite limited\n",
    "2. No transcriptomic profiles exist for ATPase inhibotors, and JAK inhibitors/Aurora Kinase inhibitors less than 10.\n",
    "3. There are 10 with more than 18 transcriptomic profiles if we wanted to switch MoAs.\n",
    "4. Although transfer learning an option, may be worth exploring what other options are available (multiple cell lines, etc.)"
   ]
  },
  {
   "cell_type": "code",
   "execution_count": null,
   "metadata": {},
   "outputs": [],
   "source": [
    "def compound_moa_classes(clue_sig, compounds1_2, moas, cell_name_string, cell_name, lower_doses, higher_doses):\n",
    "    '''Creates a table that assesses the number of transcriptomic profiles given a certain dosage range and a selection of \n",
    "    cell line from the clue.io database\n",
    "    \n",
    "    Input:\n",
    "    line: list of strings representing cell line name\n",
    "    dose:        list of strings of the cell lines to include\n",
    "    moas:      list of integers representing lower range of dosages\n",
    "    :     list of integers representing higher range of dosages\n",
    "    \n",
    "    Output: Tabulate table\n",
    "    '''\n",
    "    \n",
    "    \n",
    "    table = []\n",
    "    for i, s in zip(cell_name, cell_name_string):\n",
    "        for a,f in zip(lower_doses, higher_doses):\n",
    "            clue_sig = clue_sig[clue_sig.pert_id.isin(compounds1_2.CUSTOMER_ID)]\n",
    "            row = []\n",
    "            row.append(s)\n",
    "            check = clue_sig[clue_sig.cell_iname.isin(i)]\n",
    "            check_with_correct_dosage = check[check.pert_dose.between(a,f)].reset_index(drop=True)\n",
    "            unique_all = check_with_correct_dosage.drop_duplicates(subset=[\"pert_id\"])\n",
    "            number = check_with_correct_dosage.shape[0]\n",
    "            print(unique_all.moa.value_counts())\n",
    "            Chosen_10_Tomics = clue_sig_line_dose[clue_sig_line_dose.moa.isin(moas)]\n",
    "            unique_Chosen_10 = Chosen_10_Tomics.drop_duplicates(subset=[\"pert_id\"])\n",
    "            print(\n",
    "            row.append([a,f])\n",
    "            row.append(number)\n",
    "            table.append(row)\n",
    "    print(tabulate(table, headers=[\"Cell line Name\",\"Dosage\", \"# Transcriptomic Profiles\"], tablefmt=\"heavy_grid\"))\n",
    "\n",
    "single_name = ['U2OS']\n",
    "subset_names = ['MCF7', 'PC3', 'A549']\n",
    "subset2_names = ['PC3', 'A549']\n",
    "all_names = list(clue_sig.cell_iname)\n",
    "\n",
    "cell_name = [single_name, subset_names, subset2_names, all_names ]\n",
    "cell_name_string = ['U2OS', 'MCF7, PC3, A549', 'PC3, A549', \"all\" ]\n",
    "    \n",
    "checking_avail_transcrip(cell_name_string, cell_name, lower_doses, higher_doses, clue_sig)"
   ]
  }
 ],
 "metadata": {
  "kernelspec": {
   "display_name": "Python 3",
   "language": "python",
   "name": "python3"
  },
  "language_info": {
   "codemirror_mode": {
    "name": "ipython",
    "version": 3
   },
   "file_extension": ".py",
   "mimetype": "text/x-python",
   "name": "python",
   "nbconvert_exporter": "python",
   "pygments_lexer": "ipython3",
   "version": "3.6.9"
  },
  "vscode": {
   "interpreter": {
    "hash": "767d51c1340bd893661ea55ea3124f6de3c7a262a8b4abca0554b478b1e2ff90"
   }
  }
 },
 "nbformat": 4,
 "nbformat_minor": 4
}

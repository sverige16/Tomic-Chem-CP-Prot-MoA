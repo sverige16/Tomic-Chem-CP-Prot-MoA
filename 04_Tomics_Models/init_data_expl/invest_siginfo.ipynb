{
 "cells": [
  {
   "cell_type": "code",
   "execution_count": 1,
   "metadata": {},
   "outputs": [],
   "source": [
    "import pandas as pd\n",
    "import numpy as np\n",
    "import os\n",
    "import cv2\n",
    "import tqdm\n",
    "import glob"
   ]
  },
  {
   "cell_type": "code",
   "execution_count": 2,
   "metadata": {},
   "outputs": [
    {
     "name": "stderr",
     "output_type": "stream",
     "text": [
      "/usr/local/lib/python3.6/dist-packages/IPython/core/interactiveshell.py:3072: DtypeWarning: Columns (0,3,4,28,29) have mixed types.Specify dtype option on import or set low_memory=False.\n",
      "  interactivity=interactivity, compiler=compiler, result=result)\n"
     ]
    }
   ],
   "source": [
    "# Download all the compounds that exist on CLUE --> gene expression data from LINCS\n",
    "# from https://clue.io/\n",
    "clue_sig = pd.read_csv('/home/jovyan/Tomics-CP-Chem-MoA/04_Tomics_Models/init_data_expl/clue_siginfo_beta.txt', delimiter = \"\\t\")"
   ]
  },
  {
   "cell_type": "code",
   "execution_count": 3,
   "metadata": {},
   "outputs": [
    {
     "name": "stdout",
     "output_type": "stream",
     "text": [
      "<class 'pandas.core.frame.DataFrame'>\n",
      "RangeIndex: 555113 entries, 0 to 555112\n",
      "Data columns (total 37 columns):\n",
      " #   Column                        Non-Null Count   Dtype  \n",
      "---  ------                        --------------   -----  \n",
      " 0   bead_batch                    493797 non-null  object \n",
      " 1   nearest_dose                  272164 non-null  float64\n",
      " 2   pert_dose                     348348 non-null  float64\n",
      " 3   pert_dose_unit                347506 non-null  object \n",
      " 4   pert_idose                    347397 non-null  object \n",
      " 5   pert_itime                    554838 non-null  object \n",
      " 6   pert_time                     555113 non-null  float64\n",
      " 7   pert_time_unit                555113 non-null  object \n",
      " 8   cell_mfc_name                 555113 non-null  object \n",
      " 9   pert_mfc_id                   555113 non-null  object \n",
      " 10  nsample                       555113 non-null  int64  \n",
      " 11  cc_q75                        555113 non-null  float64\n",
      " 12  ss_ngene                      555113 non-null  int64  \n",
      " 13  tas                           555113 non-null  float64\n",
      " 14  pct_self_rank_q25             555113 non-null  float64\n",
      " 15  wt                            555113 non-null  object \n",
      " 16  median_recall_rank_spearman   555113 non-null  float64\n",
      " 17  median_recall_rank_wtcs_50    555113 non-null  float64\n",
      " 18  median_recall_score_spearman  555113 non-null  float64\n",
      " 19  median_recall_score_wtcs_50   555113 non-null  float64\n",
      " 20  batch_effect_tstat            555113 non-null  float64\n",
      " 21  batch_effect_tstat_pct        555113 non-null  float64\n",
      " 22  is_hiq                        555113 non-null  int64  \n",
      " 23  qc_pass                       555113 non-null  int64  \n",
      " 24  pert_id                       555112 non-null  object \n",
      " 25  sig_id                        555112 non-null  object \n",
      " 26  pert_type                     555112 non-null  object \n",
      " 27  cell_iname                    555112 non-null  object \n",
      " 28  det_wells                     493796 non-null  object \n",
      " 29  det_plates                    493796 non-null  object \n",
      " 30  distil_ids                    555112 non-null  object \n",
      " 31  build_name                    0 non-null       float64\n",
      " 32  project_code                  555112 non-null  object \n",
      " 33  cmap_name                     555112 non-null  object \n",
      " 34  is_exemplar_sig               555112 non-null  float64\n",
      " 35  is_ncs_sig                    555112 non-null  float64\n",
      " 36  is_null_sig                   555112 non-null  float64\n",
      "dtypes: float64(16), int64(4), object(17)\n",
      "memory usage: 156.7+ MB\n"
     ]
    }
   ],
   "source": [
    "clue_sig.info()"
   ]
  },
  {
   "cell_type": "code",
   "execution_count": 4,
   "metadata": {},
   "outputs": [
    {
     "data": {
      "text/plain": [
       "Index(['bead_batch', 'nearest_dose', 'pert_dose', 'pert_dose_unit',\n",
       "       'pert_idose', 'pert_itime', 'pert_time', 'pert_time_unit',\n",
       "       'cell_mfc_name', 'pert_mfc_id', 'nsample', 'cc_q75', 'ss_ngene', 'tas',\n",
       "       'pct_self_rank_q25', 'wt', 'median_recall_rank_spearman',\n",
       "       'median_recall_rank_wtcs_50', 'median_recall_score_spearman',\n",
       "       'median_recall_score_wtcs_50', 'batch_effect_tstat',\n",
       "       'batch_effect_tstat_pct', 'is_hiq', 'qc_pass', 'pert_id', 'sig_id',\n",
       "       'pert_type', 'cell_iname', 'det_wells', 'det_plates', 'distil_ids',\n",
       "       'build_name', 'project_code', 'cmap_name', 'is_exemplar_sig',\n",
       "       'is_ncs_sig', 'is_null_sig'],\n",
       "      dtype='object')"
      ]
     },
     "execution_count": 4,
     "metadata": {},
     "output_type": "execute_result"
    }
   ],
   "source": [
    "clue_sig.columns"
   ]
  },
  {
   "cell_type": "code",
   "execution_count": 5,
   "metadata": {},
   "outputs": [
    {
     "ename": "AttributeError",
     "evalue": "'DataFrame' object has no attribute 'iname'",
     "output_type": "error",
     "traceback": [
      "\u001b[0;31m---------------------------------------------------------------------------\u001b[0m",
      "\u001b[0;31mAttributeError\u001b[0m                            Traceback (most recent call last)",
      "\u001b[0;32m<ipython-input-5-2a99eb95298f>\u001b[0m in \u001b[0;36m<module>\u001b[0;34m\u001b[0m\n\u001b[0;32m----> 1\u001b[0;31m \u001b[0mclue_sig\u001b[0m\u001b[0;34m.\u001b[0m\u001b[0miname\u001b[0m\u001b[0;34m\u001b[0m\u001b[0;34m\u001b[0m\u001b[0m\n\u001b[0m",
      "\u001b[0;32m/usr/local/lib/python3.6/dist-packages/pandas/core/generic.py\u001b[0m in \u001b[0;36m__getattr__\u001b[0;34m(self, name)\u001b[0m\n\u001b[1;32m   5139\u001b[0m             \u001b[0;32mif\u001b[0m \u001b[0mself\u001b[0m\u001b[0;34m.\u001b[0m\u001b[0m_info_axis\u001b[0m\u001b[0;34m.\u001b[0m\u001b[0m_can_hold_identifiers_and_holds_name\u001b[0m\u001b[0;34m(\u001b[0m\u001b[0mname\u001b[0m\u001b[0;34m)\u001b[0m\u001b[0;34m:\u001b[0m\u001b[0;34m\u001b[0m\u001b[0;34m\u001b[0m\u001b[0m\n\u001b[1;32m   5140\u001b[0m                 \u001b[0;32mreturn\u001b[0m \u001b[0mself\u001b[0m\u001b[0;34m[\u001b[0m\u001b[0mname\u001b[0m\u001b[0;34m]\u001b[0m\u001b[0;34m\u001b[0m\u001b[0;34m\u001b[0m\u001b[0m\n\u001b[0;32m-> 5141\u001b[0;31m             \u001b[0;32mreturn\u001b[0m \u001b[0mobject\u001b[0m\u001b[0;34m.\u001b[0m\u001b[0m__getattribute__\u001b[0m\u001b[0;34m(\u001b[0m\u001b[0mself\u001b[0m\u001b[0;34m,\u001b[0m \u001b[0mname\u001b[0m\u001b[0;34m)\u001b[0m\u001b[0;34m\u001b[0m\u001b[0;34m\u001b[0m\u001b[0m\n\u001b[0m\u001b[1;32m   5142\u001b[0m \u001b[0;34m\u001b[0m\u001b[0m\n\u001b[1;32m   5143\u001b[0m     \u001b[0;32mdef\u001b[0m \u001b[0m__setattr__\u001b[0m\u001b[0;34m(\u001b[0m\u001b[0mself\u001b[0m\u001b[0;34m,\u001b[0m \u001b[0mname\u001b[0m\u001b[0;34m:\u001b[0m \u001b[0mstr\u001b[0m\u001b[0;34m,\u001b[0m \u001b[0mvalue\u001b[0m\u001b[0;34m)\u001b[0m \u001b[0;34m->\u001b[0m \u001b[0;32mNone\u001b[0m\u001b[0;34m:\u001b[0m\u001b[0;34m\u001b[0m\u001b[0;34m\u001b[0m\u001b[0m\n",
      "\u001b[0;31mAttributeError\u001b[0m: 'DataFrame' object has no attribute 'iname'"
     ]
    }
   ],
   "source": [
    "clue_sig.iname"
   ]
  },
  {
   "cell_type": "markdown",
   "metadata": {},
   "source": [
    "1. prepare clue pert_id by stripping pert_id\n",
    "2. get all the ones with the matching pert_id to combined compounds1_2\n",
    "3. screen for pert_idose 10 mmol\n",
    "4. screen for cell_name U2Os\n",
    "\n",
    "clue_sig.pert_id\n"
   ]
  },
  {
   "cell_type": "code",
   "execution_count": 6,
   "metadata": {},
   "outputs": [
    {
     "data": {
      "text/plain": [
       "0         NAMEC8\n",
       "1           A549\n",
       "2           HT29\n",
       "3           HME1\n",
       "4          H1975\n",
       "           ...  \n",
       "555108     SKBR3\n",
       "555109     SKBR3\n",
       "555110      A375\n",
       "555111      HELA\n",
       "555112       NaN\n",
       "Name: cell_iname, Length: 555113, dtype: object"
      ]
     },
     "execution_count": 6,
     "metadata": {},
     "output_type": "execute_result"
    }
   ],
   "source": [
    "clue_sig.cell_iname"
   ]
  },
  {
   "cell_type": "code",
   "execution_count": null,
   "metadata": {},
   "outputs": [],
   "source": []
  },
  {
   "cell_type": "code",
   "execution_count": null,
   "metadata": {},
   "outputs": [],
   "source": []
  }
 ],
 "metadata": {
  "kernelspec": {
   "display_name": "Python 3",
   "language": "python",
   "name": "python3"
  },
  "language_info": {
   "codemirror_mode": {
    "name": "ipython",
    "version": 3
   },
   "file_extension": ".py",
   "mimetype": "text/x-python",
   "name": "python",
   "nbconvert_exporter": "python",
   "pygments_lexer": "ipython3",
   "version": "3.6.9"
  },
  "vscode": {
   "interpreter": {
    "hash": "31f2aee4e71d21fbe5cf8b01ff0e069b9275f58929596ceb00d14d90e3e16cd6"
   }
  }
 },
 "nbformat": 4,
 "nbformat_minor": 4
}

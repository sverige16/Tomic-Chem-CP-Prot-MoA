{
 "cells": [
  {
   "cell_type": "code",
   "execution_count": 1,
   "metadata": {},
   "outputs": [],
   "source": [
    "#!/usr/bin/env python\n",
    "# coding: utf-8\n",
    "\n",
    "# Import Statements\n",
    "import pandas as pd\n",
    "import numpy as np\n",
    "import matplotlib.pyplot as plt\n",
    "from sklearn.model_selection import train_test_split # Functipn to split data into training, validation and test sets\n",
    "from sklearn.metrics import classification_report, confusion_matrix\n",
    "import pickle\n",
    "import glob   # The glob module finds all the pathnames matching a specified pattern according to the rules used by the Unix shell, although results are returned in arbitrary order. No tilde expansion is done, but *, ?, and character ranges expressed with [] will be correctly matched.\n",
    "import os   # miscellneous operating system interfaces. This module provides a portable way of using operating system dependent functionality. If you just want to read or write a file see open(), if you want to manipulate paths, see the os.path module, and if you want to read all the lines in all the files on the command line see the fileinput module.\n",
    "import random       \n",
    "from tqdm import tqdm \n",
    "from tqdm.notebook import tqdm_notebook\n",
    "import datetime\n",
    "import time\n",
    "from tabulate import tabulate\n",
    "import math \n",
    "\n",
    "import umap\n",
    "import math\n",
    "\n",
    "\n",
    "# Torch\n",
    "import torch\n",
    "from torchvision import transforms\n",
    "import torchvision.models as models\n",
    "import torch.nn as nn\n",
    "\n",
    "\n",
    "from sklearn.preprocessing import StandardScaler, MultiLabelBinarizer\n",
    "from sklearn.ensemble import RandomForestClassifier, GradientBoostingClassifier, AdaBoostClassifier, BaggingClassifier\n",
    "from sklearn.neighbors import KNeighborsClassifier\n",
    "from sklearn.linear_model import LogisticRegression\n",
    "from sklearn.decomposition import PCA\n",
    "from sklearn.metrics import precision_recall_curve,log_loss, accuracy_score, f1_score\n",
    "from sklearn.metrics import average_precision_score,roc_auc_score\n",
    "from sklearn.ensemble import VotingClassifier\n",
    "import os\n",
    "import time\n",
    "from time import time\n",
    "import datetime\n",
    "import pandas as pd\n",
    "import numpy as np\n",
    "#from iterstrat.ml_stratifiers import MultilabelStratifiedKFold\n",
    "from skmultilearn.adapt import MLkNN\n",
    "\n",
    "# CMAP (extracting relevant transcriptomic profiles)\n",
    "from cmapPy.pandasGEXpress.parse import parse\n",
    "import cmapPy.pandasGEXpress.subset_gctoo as sg\n",
    "import seaborn as sns\n",
    "import matplotlib.pyplot as plt\n",
    "\n",
    "from datetime import datetime\n",
    "import time\n",
    "import joblib\n",
    "\n",
    "from sklearn.decomposition import PCA,FactorAnalysis\n",
    "from sklearn.preprocessing import StandardScaler,QuantileTransformer\n",
    "from sklearn.metrics import precision_recall_curve,log_loss\n",
    "from sklearn.metrics import average_precision_score,roc_auc_score\n",
    "from sklearn.feature_selection import VarianceThreshold\n",
    "import os\n",
    "import pandas as pd\n",
    "import numpy as np\n",
    "import torch\n",
    "import pytorch_tabnet\n",
    "from pytorch_tabnet.tab_model import TabNetClassifier\n",
    "nn._estimator_type = \"classifier\"\n",
    "import neptune.new as neptune\n"
   ]
  },
  {
   "cell_type": "code",
   "execution_count": 2,
   "metadata": {},
   "outputs": [
    {
     "name": "stderr",
     "output_type": "stream",
     "text": [
      "RDKit WARNING: [15:12:44] Enabling RDKit 2019.09.1 jupyter extensions\n"
     ]
    }
   ],
   "source": [
    "import sys\n",
    "sys.path.append('/home/jovyan/Tomics-CP-Chem-MoA/05_Global_Tomics_CP_CStructure/')\n",
    "from Erik_alll_helper_functions import pre_processing, create_splits, load_train_valid_data"
   ]
  },
  {
   "cell_type": "code",
   "execution_count": 3,
   "metadata": {},
   "outputs": [],
   "source": [
    "# clue row metadata with rows representing transcription levels of specific genes\n",
    "clue_gene = pd.read_csv('/home/jovyan/Tomics-CP-Chem-MoA/04_Tomics_Models/init_data_expl/clue_geneinfo_beta.txt', delimiter = \"\\t\")\n"
   ]
  },
  {
   "cell_type": "code",
   "execution_count": 6,
   "metadata": {},
   "outputs": [
    {
     "name": "stdout",
     "output_type": "stream",
     "text": [
      "pre-processing data!\n",
      "extracting training transcriptomes\n",
      "extracting validation transcriptomes\n",
      "extracting test transcriptomes\n"
     ]
    }
   ],
   "source": [
    " # download csvs with all the data pre split\n",
    "#cyc_adr_file = '/home/jovyan/Tomics-CP-Chem-MoA/data_for_models/5_fold_data_sets/cyc_adr/'\n",
    "#train_filename = 'cyc_adr_clue_train_fold_0.csv'\n",
    "#val_filename = 'cyc_adr_clue_val_fold_0.csv'\n",
    "#test_filename = 'cyc_adr_clue_test_fold_0.csv'\n",
    "#training_set, validation_set, test_set =  load_train_valid_data(cyc_adr_file, train_filename, val_filename, test_filename)\n",
    "   \n",
    "# download csvs with all the data pre split\n",
    "erik10_file = '/home/jovyan/Tomics-CP-Chem-MoA/data_for_models/5_fold_data_sets/erik10/'\n",
    "train_filename = 'erik10_clue_train_fold_0.csv'\n",
    "val_filename = 'erik10_clue_val_fold_0.csv'\n",
    "test_filename = 'erik10_clue_test_fold_0.csv'\n",
    "\n",
    "training_set, validation_set, test_set =  load_train_valid_data(erik10_file, train_filename, val_filename, test_filename)\n",
    "\n",
    "\n",
    "\n",
    "L1000_training, L1000_validation, L1000_test = create_splits(training_set, validation_set, test_set)\n",
    "\n",
    "variance_thresh = 0\n",
    "normalize_c = False\n",
    "df_train_features, df_val_features, df_train_labels, df_val_labels, df_test_features, df_test_labels, dict_moa = pre_processing(L1000_training, L1000_validation, L1000_test, \n",
    "         clue_gene, \n",
    "         npy_exists = False,\n",
    "         use_variance_threshold = variance_thresh, \n",
    "         normalize = normalize_c, \n",
    "         save_npy = True)\n"
   ]
  },
  {
   "cell_type": "code",
   "execution_count": 11,
   "metadata": {},
   "outputs": [
    {
     "name": "stdout",
     "output_type": "stream",
     "text": [
      "Investigating using PCA\n"
     ]
    },
    {
     "data": {
      "image/png": "[encoded data removed]",
      "text/plain": [
       "<Figure size 640x480 with 1 Axes>"
      ]
     },
     "metadata": {},
     "output_type": "display_data"
    }
   ],
   "source": [
    "print(\"Investigating using PCA\")\n",
    "pca_ten = PCA(n_components=10)\n",
    "pca_ten.fit_transform(df_train_features)\n",
    "plt.figure()\n",
    "plt.bar([i for i in range(0,10)], pca_ten.explained_variance_ratio_)\n",
    "plt.title(\"Explained Variance Ratio of PCA Components\")\n",
    "plt.show() "
   ]
  },
  {
   "cell_type": "code",
   "execution_count": 12,
   "metadata": {},
   "outputs": [
    {
     "ename": "ValueError",
     "evalue": "Expected a 1D array, got an array with shape (13460, 2)",
     "output_type": "error",
     "traceback": [
      "\u001b[0;31m---------------------------------------------------------------------------\u001b[0m",
      "\u001b[0;31mKeyError\u001b[0m                                  Traceback (most recent call last)",
      "File \u001b[0;32m/usr/local/lib/python3.8/dist-packages/pandas/core/indexes/base.py:3629\u001b[0m, in \u001b[0;36mIndex.get_loc\u001b[0;34m(self, key, method, tolerance)\u001b[0m\n\u001b[1;32m   3628\u001b[0m \u001b[39mtry\u001b[39;00m:\n\u001b[0;32m-> 3629\u001b[0m     \u001b[39mreturn\u001b[39;00m \u001b[39mself\u001b[39;49m\u001b[39m.\u001b[39;49m_engine\u001b[39m.\u001b[39;49mget_loc(casted_key)\n\u001b[1;32m   3630\u001b[0m \u001b[39mexcept\u001b[39;00m \u001b[39mKeyError\u001b[39;00m \u001b[39mas\u001b[39;00m err:\n",
      "File \u001b[0;32m/usr/local/lib/python3.8/dist-packages/pandas/_libs/index.pyx:136\u001b[0m, in \u001b[0;36mpandas._libs.index.IndexEngine.get_loc\u001b[0;34m()\u001b[0m\n",
      "File \u001b[0;32m/usr/local/lib/python3.8/dist-packages/pandas/_libs/index.pyx:163\u001b[0m, in \u001b[0;36mpandas._libs.index.IndexEngine.get_loc\u001b[0;34m()\u001b[0m\n",
      "File \u001b[0;32mpandas/_libs/hashtable_class_helper.pxi:5198\u001b[0m, in \u001b[0;36mpandas._libs.hashtable.PyObjectHashTable.get_item\u001b[0;34m()\u001b[0m\n",
      "File \u001b[0;32mpandas/_libs/hashtable_class_helper.pxi:5206\u001b[0m, in \u001b[0;36mpandas._libs.hashtable.PyObjectHashTable.get_item\u001b[0;34m()\u001b[0m\n",
      "\u001b[0;31mKeyError\u001b[0m: 'moa'",
      "\nThe above exception was the direct cause of the following exception:\n",
      "\u001b[0;31mKeyError\u001b[0m                                  Traceback (most recent call last)",
      "File \u001b[0;32m/usr/local/lib/python3.8/dist-packages/pandas/core/frame.py:3799\u001b[0m, in \u001b[0;36mDataFrame._set_item_mgr\u001b[0;34m(self, key, value)\u001b[0m\n\u001b[1;32m   3798\u001b[0m \u001b[39mtry\u001b[39;00m:\n\u001b[0;32m-> 3799\u001b[0m     loc \u001b[39m=\u001b[39m \u001b[39mself\u001b[39;49m\u001b[39m.\u001b[39;49m_info_axis\u001b[39m.\u001b[39;49mget_loc(key)\n\u001b[1;32m   3800\u001b[0m \u001b[39mexcept\u001b[39;00m \u001b[39mKeyError\u001b[39;00m:\n\u001b[1;32m   3801\u001b[0m     \u001b[39m# This item wasn't present, just insert at end\u001b[39;00m\n",
      "File \u001b[0;32m/usr/local/lib/python3.8/dist-packages/pandas/core/indexes/base.py:3631\u001b[0m, in \u001b[0;36mIndex.get_loc\u001b[0;34m(self, key, method, tolerance)\u001b[0m\n\u001b[1;32m   3630\u001b[0m \u001b[39mexcept\u001b[39;00m \u001b[39mKeyError\u001b[39;00m \u001b[39mas\u001b[39;00m err:\n\u001b[0;32m-> 3631\u001b[0m     \u001b[39mraise\u001b[39;00m \u001b[39mKeyError\u001b[39;00m(key) \u001b[39mfrom\u001b[39;00m \u001b[39merr\u001b[39;00m\n\u001b[1;32m   3632\u001b[0m \u001b[39mexcept\u001b[39;00m \u001b[39mTypeError\u001b[39;00m:\n\u001b[1;32m   3633\u001b[0m     \u001b[39m# If we have a listlike key, _check_indexing_error will raise\u001b[39;00m\n\u001b[1;32m   3634\u001b[0m     \u001b[39m#  InvalidIndexError. Otherwise we fall through and re-raise\u001b[39;00m\n\u001b[1;32m   3635\u001b[0m     \u001b[39m#  the TypeError.\u001b[39;00m\n",
      "\u001b[0;31mKeyError\u001b[0m: 'moa'",
      "\nDuring handling of the above exception, another exception occurred:\n",
      "\u001b[0;31mValueError\u001b[0m                                Traceback (most recent call last)",
      "\u001b[1;32m/home/jovyan/Tomics-CP-Chem-MoA/04_Tomics_Models/init_data_expl/Erik_initial_dim_reduc_tprofiles.ipynb Cell 6\u001b[0m in \u001b[0;36m<cell line: 6>\u001b[0;34m()\u001b[0m\n\u001b[1;32m      <a href='vscode-notebook-cell://k8s-container%2Bcontext%3Dk8s-prod-pharmbio%2Bpodname%3Derikep-notebook-gpu-5c4b88cbcf-6c8xg%2Bnamespace%3Dlabinf%2Bname%3Derikep-notebook-gpu%2Bimage%3Dpharmbio%252fpharmbio-notebook%253atf-2.8.1-pytorch-gpu/home/jovyan/Tomics-CP-Chem-MoA/04_Tomics_Models/init_data_expl/Erik_initial_dim_reduc_tprofiles.ipynb#W5sdnNjb2RlLXJlbW90ZQ%3D%3D?line=1'>2</a>\u001b[0m principalComponents \u001b[39m=\u001b[39m pca\u001b[39m.\u001b[39mfit_transform(df_train_features)\n\u001b[1;32m      <a href='vscode-notebook-cell://k8s-container%2Bcontext%3Dk8s-prod-pharmbio%2Bpodname%3Derikep-notebook-gpu-5c4b88cbcf-6c8xg%2Bnamespace%3Dlabinf%2Bname%3Derikep-notebook-gpu%2Bimage%3Dpharmbio%252fpharmbio-notebook%253atf-2.8.1-pytorch-gpu/home/jovyan/Tomics-CP-Chem-MoA/04_Tomics_Models/init_data_expl/Erik_initial_dim_reduc_tprofiles.ipynb#W5sdnNjb2RlLXJlbW90ZQ%3D%3D?line=2'>3</a>\u001b[0m principalDf \u001b[39m=\u001b[39m pd\u001b[39m.\u001b[39mDataFrame(data \u001b[39m=\u001b[39m principalComponents\n\u001b[1;32m      <a href='vscode-notebook-cell://k8s-container%2Bcontext%3Dk8s-prod-pharmbio%2Bpodname%3Derikep-notebook-gpu-5c4b88cbcf-6c8xg%2Bnamespace%3Dlabinf%2Bname%3Derikep-notebook-gpu%2Bimage%3Dpharmbio%252fpharmbio-notebook%253atf-2.8.1-pytorch-gpu/home/jovyan/Tomics-CP-Chem-MoA/04_Tomics_Models/init_data_expl/Erik_initial_dim_reduc_tprofiles.ipynb#W5sdnNjb2RlLXJlbW90ZQ%3D%3D?line=3'>4</a>\u001b[0m              ,\u001b[39m#  columns = [f' PC1: VarExp: {pca.explained_variance_[0]}', f' PC1: VarExp: {pca.explained_variance_[1]}'])\u001b[39;00m\n\u001b[1;32m      <a href='vscode-notebook-cell://k8s-container%2Bcontext%3Dk8s-prod-pharmbio%2Bpodname%3Derikep-notebook-gpu-5c4b88cbcf-6c8xg%2Bnamespace%3Dlabinf%2Bname%3Derikep-notebook-gpu%2Bimage%3Dpharmbio%252fpharmbio-notebook%253atf-2.8.1-pytorch-gpu/home/jovyan/Tomics-CP-Chem-MoA/04_Tomics_Models/init_data_expl/Erik_initial_dim_reduc_tprofiles.ipynb#W5sdnNjb2RlLXJlbW90ZQ%3D%3D?line=4'>5</a>\u001b[0m               columns \u001b[39m=\u001b[39m [\u001b[39m\"\u001b[39m\u001b[39mPC1\u001b[39m\u001b[39m\"\u001b[39m , \u001b[39m\"\u001b[39m\u001b[39mPC2\u001b[39m\u001b[39m\"\u001b[39m])\n\u001b[0;32m----> <a href='vscode-notebook-cell://k8s-container%2Bcontext%3Dk8s-prod-pharmbio%2Bpodname%3Derikep-notebook-gpu-5c4b88cbcf-6c8xg%2Bnamespace%3Dlabinf%2Bname%3Derikep-notebook-gpu%2Bimage%3Dpharmbio%252fpharmbio-notebook%253atf-2.8.1-pytorch-gpu/home/jovyan/Tomics-CP-Chem-MoA/04_Tomics_Models/init_data_expl/Erik_initial_dim_reduc_tprofiles.ipynb#W5sdnNjb2RlLXJlbW90ZQ%3D%3D?line=5'>6</a>\u001b[0m principalDf[\u001b[39m\"\u001b[39m\u001b[39mmoa\u001b[39m\u001b[39m\"\u001b[39m] \u001b[39m=\u001b[39m  df_train_labels\n\u001b[1;32m      <a href='vscode-notebook-cell://k8s-container%2Bcontext%3Dk8s-prod-pharmbio%2Bpodname%3Derikep-notebook-gpu-5c4b88cbcf-6c8xg%2Bnamespace%3Dlabinf%2Bname%3Derikep-notebook-gpu%2Bimage%3Dpharmbio%252fpharmbio-notebook%253atf-2.8.1-pytorch-gpu/home/jovyan/Tomics-CP-Chem-MoA/04_Tomics_Models/init_data_expl/Erik_initial_dim_reduc_tprofiles.ipynb#W5sdnNjb2RlLXJlbW90ZQ%3D%3D?line=6'>7</a>\u001b[0m plt\u001b[39m.\u001b[39mfigure(figsize\u001b[39m=\u001b[39m(\u001b[39m10\u001b[39m,\u001b[39m10\u001b[39m))\n\u001b[1;32m      <a href='vscode-notebook-cell://k8s-container%2Bcontext%3Dk8s-prod-pharmbio%2Bpodname%3Derikep-notebook-gpu-5c4b88cbcf-6c8xg%2Bnamespace%3Dlabinf%2Bname%3Derikep-notebook-gpu%2Bimage%3Dpharmbio%252fpharmbio-notebook%253atf-2.8.1-pytorch-gpu/home/jovyan/Tomics-CP-Chem-MoA/04_Tomics_Models/init_data_expl/Erik_initial_dim_reduc_tprofiles.ipynb#W5sdnNjb2RlLXJlbW90ZQ%3D%3D?line=7'>8</a>\u001b[0m plt\u001b[39m.\u001b[39mxticks(fontsize\u001b[39m=\u001b[39m\u001b[39m12\u001b[39m)\n",
      "File \u001b[0;32m/usr/local/lib/python3.8/dist-packages/pandas/core/frame.py:3645\u001b[0m, in \u001b[0;36mDataFrame.__setitem__\u001b[0;34m(self, key, value)\u001b[0m\n\u001b[1;32m   3643\u001b[0m     \u001b[39mself\u001b[39m\u001b[39m.\u001b[39m_setitem_array(key, value)\n\u001b[1;32m   3644\u001b[0m \u001b[39melif\u001b[39;00m \u001b[39misinstance\u001b[39m(value, DataFrame):\n\u001b[0;32m-> 3645\u001b[0m     \u001b[39mself\u001b[39;49m\u001b[39m.\u001b[39;49m_set_item_frame_value(key, value)\n\u001b[1;32m   3646\u001b[0m \u001b[39melif\u001b[39;00m (\n\u001b[1;32m   3647\u001b[0m     is_list_like(value)\n\u001b[1;32m   3648\u001b[0m     \u001b[39mand\u001b[39;00m \u001b[39mnot\u001b[39;00m \u001b[39mself\u001b[39m\u001b[39m.\u001b[39mcolumns\u001b[39m.\u001b[39mis_unique\n\u001b[1;32m   3649\u001b[0m     \u001b[39mand\u001b[39;00m \u001b[39m1\u001b[39m \u001b[39m<\u001b[39m \u001b[39mlen\u001b[39m(\u001b[39mself\u001b[39m\u001b[39m.\u001b[39mcolumns\u001b[39m.\u001b[39mget_indexer_for([key])) \u001b[39m==\u001b[39m \u001b[39mlen\u001b[39m(value)\n\u001b[1;32m   3650\u001b[0m ):\n\u001b[1;32m   3651\u001b[0m     \u001b[39m# Column to set is duplicated\u001b[39;00m\n\u001b[1;32m   3652\u001b[0m     \u001b[39mself\u001b[39m\u001b[39m.\u001b[39m_setitem_array([key], value)\n",
      "File \u001b[0;32m/usr/local/lib/python3.8/dist-packages/pandas/core/frame.py:3788\u001b[0m, in \u001b[0;36mDataFrame._set_item_frame_value\u001b[0;34m(self, key, value)\u001b[0m\n\u001b[1;32m   3786\u001b[0m \u001b[39m# now align rows\u001b[39;00m\n\u001b[1;32m   3787\u001b[0m arraylike \u001b[39m=\u001b[39m _reindex_for_setitem(value, \u001b[39mself\u001b[39m\u001b[39m.\u001b[39mindex)\n\u001b[0;32m-> 3788\u001b[0m \u001b[39mself\u001b[39;49m\u001b[39m.\u001b[39;49m_set_item_mgr(key, arraylike)\n",
      "File \u001b[0;32m/usr/local/lib/python3.8/dist-packages/pandas/core/frame.py:3802\u001b[0m, in \u001b[0;36mDataFrame._set_item_mgr\u001b[0;34m(self, key, value)\u001b[0m\n\u001b[1;32m   3799\u001b[0m     loc \u001b[39m=\u001b[39m \u001b[39mself\u001b[39m\u001b[39m.\u001b[39m_info_axis\u001b[39m.\u001b[39mget_loc(key)\n\u001b[1;32m   3800\u001b[0m \u001b[39mexcept\u001b[39;00m \u001b[39mKeyError\u001b[39;00m:\n\u001b[1;32m   3801\u001b[0m     \u001b[39m# This item wasn't present, just insert at end\u001b[39;00m\n\u001b[0;32m-> 3802\u001b[0m     \u001b[39mself\u001b[39;49m\u001b[39m.\u001b[39;49m_mgr\u001b[39m.\u001b[39;49minsert(\u001b[39mlen\u001b[39;49m(\u001b[39mself\u001b[39;49m\u001b[39m.\u001b[39;49m_info_axis), key, value)\n\u001b[1;32m   3803\u001b[0m \u001b[39melse\u001b[39;00m:\n\u001b[1;32m   3804\u001b[0m     \u001b[39mself\u001b[39m\u001b[39m.\u001b[39m_iset_item_mgr(loc, value)\n",
      "File \u001b[0;32m/usr/local/lib/python3.8/dist-packages/pandas/core/internals/managers.py:1245\u001b[0m, in \u001b[0;36mBlockManager.insert\u001b[0;34m(self, loc, item, value)\u001b[0m\n\u001b[1;32m   1243\u001b[0m     value \u001b[39m=\u001b[39m value\u001b[39m.\u001b[39mT\n\u001b[1;32m   1244\u001b[0m     \u001b[39mif\u001b[39;00m \u001b[39mlen\u001b[39m(value) \u001b[39m>\u001b[39m \u001b[39m1\u001b[39m:\n\u001b[0;32m-> 1245\u001b[0m         \u001b[39mraise\u001b[39;00m \u001b[39mValueError\u001b[39;00m(\n\u001b[1;32m   1246\u001b[0m             \u001b[39mf\u001b[39m\u001b[39m\"\u001b[39m\u001b[39mExpected a 1D array, got an array with shape \u001b[39m\u001b[39m{\u001b[39;00mvalue\u001b[39m.\u001b[39mT\u001b[39m.\u001b[39mshape\u001b[39m}\u001b[39;00m\u001b[39m\"\u001b[39m\n\u001b[1;32m   1247\u001b[0m         )\n\u001b[1;32m   1248\u001b[0m \u001b[39melse\u001b[39;00m:\n\u001b[1;32m   1249\u001b[0m     value \u001b[39m=\u001b[39m ensure_block_shape(value, ndim\u001b[39m=\u001b[39m\u001b[39mself\u001b[39m\u001b[39m.\u001b[39mndim)\n",
      "\u001b[0;31mValueError\u001b[0m: Expected a 1D array, got an array with shape (13460, 2)"
     ]
    }
   ],
   "source": [
    "pca = PCA(n_components=2)\n",
    "principalComponents = pca.fit_transform(df_train_features)\n",
    "principalDf = pd.DataFrame(data = principalComponents\n",
    "             ,#  columns = [f' PC1: VarExp: {pca.explained_variance_[0]}', f' PC1: VarExp: {pca.explained_variance_[1]}'])\n",
    "              columns = [\"PC1\" , \"PC2\"])\n",
    "principalDf[\"moa\"] =  df_train_labels\n",
    "plt.figure(figsize=(10,10))\n",
    "plt.xticks(fontsize=12)\n",
    "plt.yticks(fontsize=14)\n",
    "plt.xlabel(f' Principal Component - 1: {pca.explained_variance_[0]}', fontsize=20)\n",
    "plt.ylabel(f' Principal Component - 2: {pca.explained_variance_[1]}', fontsize=20)\n",
    "plt.title(\"Principal Component Analysis of Dataset\", fontsize=20)\n",
    "targets = [i for i in dict_moa.keys()]\n",
    "\n",
    "colors = [sns.color_palette()[x] for x in dict_moa.values()]\n",
    "for target, color in zip(targets,colors):\n",
    "    indicesToKeep = principalDf['moa'] == target\n",
    "    plt.scatter(principalDf.loc[indicesToKeep, \"PC1\"], \n",
    "                principalDf.loc[indicesToKeep, 'PC2'],  \n",
    "                c= color,\n",
    "                s = 10)\n",
    "\n",
    "plt.legend(targets,prop={'size': 15})\n",
    "\n",
    "\n",
    "pca = PCA(n_components=20)\n",
    "principalComponents = pca.fit_transform(df_train_features)\n",
    "principalDf = pd.DataFrame(data = principalComponents)\n",
    "\n",
    "pca.explained_variance_ratio_\n",
    "principalDf\n",
    "\n",
    "principalDf[\"moa\"] =  df_train_labels\n",
    "\n",
    "\n"
   ]
  },
  {
   "cell_type": "code",
   "execution_count": null,
   "metadata": {},
   "outputs": [],
   "source": [
    "print(\"Starting UMAP\")\n",
    "# In[127]:\n",
    "umap_neighbors = 15\n",
    "umap_min_dist = 0.1\n",
    "reducer = umap.UMAP(n_neighbors= umap_neighbors, min_dist = umap_min_dist)\n",
    "\n",
    "\n",
    "# change moa to classes using the above dictionary\n",
    "for i in range(principalDf.shape[0]):\n",
    "    principalDf.iloc[i, -1] = dict_moa[principalDf.iloc[i, -1]]\n",
    "\n",
    "\n",
    "\n",
    "embedding = reducer.fit_transform(principalDf)\n",
    "\n",
    "targets = [i for i in dict_moa.keys()]\n",
    "plt.figure()\n",
    "plt.scatter(\n",
    "    embedding[:, 0],\n",
    "    embedding[:, 1],\n",
    "    c=[sns.color_palette()[x] for x in principalDf.moa], \n",
    "    s = 5)\n",
    "plt.gca().set_aspect('equal', 'datalim')\n",
    "plt.title('UMAP projection of the Penguin dataset', fontsize=24);\n",
    "plt.legend(targets , prop={'size': 7})\n",
    "\n",
    "\n",
    "\n",
    "# In[162]:\n",
    "\n",
    "\n",
    "import umap.plot\n",
    "plt.figure(figsize=(10,10))\n",
    "umap.plot.points(reducer, labels= principalDf.moa, theme = \"fire\")\n",
    "plt.title('UMAP projection of the dataset', fontsize=24)\n",
    "umap.plot.plt.savefig(\"umap.png\")\n",
    "\n",
    "import matplotlib.image as mpimg\n",
    "umap_img = mpimg.imread('umap.png')\n",
    "\n",
    "run[\"images/umap_plot\"] = neptune.types.File.as_image(umap_img)\n",
    "\n",
    "run.stop()\n"
   ]
  }
 ],
 "metadata": {
  "kernelspec": {
   "display_name": "Python 3",
   "language": "python",
   "name": "python3"
  },
  "language_info": {
   "codemirror_mode": {
    "name": "ipython",
    "version": 3
   },
   "file_extension": ".py",
   "mimetype": "text/x-python",
   "name": "python",
   "nbconvert_exporter": "python",
   "pygments_lexer": "ipython3",
   "version": "3.8.10"
  },
  "orig_nbformat": 4,
  "vscode": {
   "interpreter": {
    "hash": "31f2aee4e71d21fbe5cf8b01ff0e069b9275f58929596ceb00d14d90e3e16cd6"
   }
  }
 },
 "nbformat": 4,
 "nbformat_minor": 2
}

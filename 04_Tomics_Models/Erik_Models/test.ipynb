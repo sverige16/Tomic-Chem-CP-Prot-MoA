{
 "cells": [
  {
   "cell_type": "code",
   "execution_count": 6,
   "metadata": {},
   "outputs": [
    {
     "ename": "ValueError",
     "evalue": "too many values to unpack (expected 3)",
     "output_type": "error",
     "traceback": [
      "\u001b[0;31m---------------------------------------------------------------------------\u001b[0m",
      "\u001b[0;31mValueError\u001b[0m                                Traceback (most recent call last)",
      "\u001b[1;32m/home/jovyan/Tomics-CP-Chem-MoA/04_Tomics_Models/Erik_Models/test.ipynb Cell 1\u001b[0m in \u001b[0;36m<cell line: 2>\u001b[0;34m()\u001b[0m\n\u001b[1;32m      <a href='vscode-notebook-cell://k8s-container%2Bcontext%3Dk8s-prod-pharmbio%2Bpodname%3Derikep-notebook-gpu-5c4b88cbcf-6c8xg%2Bnamespace%3Dlabinf%2Bname%3Derikep-notebook-gpu%2Bimage%3Dpharmbio%252fpharmbio-notebook%253atf-2.8.1-pytorch-gpu/home/jovyan/Tomics-CP-Chem-MoA/04_Tomics_Models/Erik_Models/test.ipynb#W0sdnNjb2RlLXJlbW90ZQ%3D%3D?line=0'>1</a>\u001b[0m \u001b[39mimport\u001b[39;00m \u001b[39mpickle\u001b[39;00m\n\u001b[1;32m      <a href='vscode-notebook-cell://k8s-container%2Bcontext%3Dk8s-prod-pharmbio%2Bpodname%3Derikep-notebook-gpu-5c4b88cbcf-6c8xg%2Bnamespace%3Dlabinf%2Bname%3Derikep-notebook-gpu%2Bimage%3Dpharmbio%252fpharmbio-notebook%253atf-2.8.1-pytorch-gpu/home/jovyan/Tomics-CP-Chem-MoA/04_Tomics_Models/Erik_Models/test.ipynb#W0sdnNjb2RlLXJlbW90ZQ%3D%3D?line=1'>2</a>\u001b[0m \u001b[39mwith\u001b[39;00m \u001b[39mopen\u001b[39m(\u001b[39m'\u001b[39m\u001b[39m/scratch2-shared/erikep/Results/Test_1/Results.pkl\u001b[39m\u001b[39m'\u001b[39m, \u001b[39m'\u001b[39m\u001b[39mrb\u001b[39m\u001b[39m'\u001b[39m) \u001b[39mas\u001b[39;00m f:\n\u001b[0;32m----> <a href='vscode-notebook-cell://k8s-container%2Bcontext%3Dk8s-prod-pharmbio%2Bpodname%3Derikep-notebook-gpu-5c4b88cbcf-6c8xg%2Bnamespace%3Dlabinf%2Bname%3Derikep-notebook-gpu%2Bimage%3Dpharmbio%252fpharmbio-notebook%253atf-2.8.1-pytorch-gpu/home/jovyan/Tomics-CP-Chem-MoA/04_Tomics_Models/Erik_Models/test.ipynb#W0sdnNjb2RlLXJlbW90ZQ%3D%3D?line=2'>3</a>\u001b[0m     data, SOMe, samples \u001b[39m=\u001b[39m pickle\u001b[39m.\u001b[39mload(f)\n\u001b[1;32m      <a href='vscode-notebook-cell://k8s-container%2Bcontext%3Dk8s-prod-pharmbio%2Bpodname%3Derikep-notebook-gpu-5c4b88cbcf-6c8xg%2Bnamespace%3Dlabinf%2Bname%3Derikep-notebook-gpu%2Bimage%3Dpharmbio%252fpharmbio-notebook%253atf-2.8.1-pytorch-gpu/home/jovyan/Tomics-CP-Chem-MoA/04_Tomics_Models/Erik_Models/test.ipynb#W0sdnNjb2RlLXJlbW90ZQ%3D%3D?line=3'>4</a>\u001b[0m     data_set_name \u001b[39m=\u001b[39m \u001b[39m\"\u001b[39m\u001b[39mpearson\u001b[39m\u001b[39m\"\u001b[39m\n",
      "\u001b[0;31mValueError\u001b[0m: too many values to unpack (expected 3)"
     ]
    }
   ],
   "source": [
    "import pickle\n",
    "with open('/scratch2-shared/erikep/Results/Test_1/Results.pkl', 'rb') as f:\n",
    "    data, SOMe, samples = pickle.load(f)\n",
    "    data_set_name = \"pearson\"\n"
   ]
  },
  {
   "cell_type": "code",
   "execution_count": 5,
   "metadata": {},
   "outputs": [
    {
     "data": {
      "text/plain": [
       "18124"
      ]
     },
     "execution_count": 5,
     "metadata": {},
     "output_type": "execute_result"
    }
   ],
   "source": [
    "len(data)\n"
   ]
  },
  {
   "cell_type": "code",
   "execution_count": 10,
   "metadata": {},
   "outputs": [],
   "source": [
    "happy= pickle.load(open('/scratch2-shared/erikep/Results/Euc_full/Results_imag.pkl', \"rb\"))"
   ]
  },
  {
   "cell_type": "code",
   "execution_count": 12,
   "metadata": {},
   "outputs": [
    {
     "data": {
      "text/plain": [
       "(6, 163, 18124)"
      ]
     },
     "execution_count": 12,
     "metadata": {},
     "output_type": "execute_result"
    }
   ],
   "source": [
    "happy.shape"
   ]
  },
  {
   "cell_type": "code",
   "execution_count": null,
   "metadata": {},
   "outputs": [],
   "source": []
  }
 ],
 "metadata": {
  "kernelspec": {
   "display_name": "Python 3",
   "language": "python",
   "name": "python3"
  },
  "language_info": {
   "codemirror_mode": {
    "name": "ipython",
    "version": 3
   },
   "file_extension": ".py",
   "mimetype": "text/x-python",
   "name": "python",
   "nbconvert_exporter": "python",
   "pygments_lexer": "ipython3",
   "version": "3.8.10"
  },
  "orig_nbformat": 4,
  "vscode": {
   "interpreter": {
    "hash": "31f2aee4e71d21fbe5cf8b01ff0e069b9275f58929596ceb00d14d90e3e16cd6"
   }
  }
 },
 "nbformat": 4,
 "nbformat_minor": 2
}

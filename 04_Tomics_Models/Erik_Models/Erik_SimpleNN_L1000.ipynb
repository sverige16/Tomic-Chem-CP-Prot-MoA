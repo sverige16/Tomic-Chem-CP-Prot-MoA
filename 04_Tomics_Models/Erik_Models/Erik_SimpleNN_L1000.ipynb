{
 "cells": [
  {
   "cell_type": "code",
   "execution_count": null,
   "metadata": {},
   "outputs": [],
   "source": [
    "import umap\n",
    "from sklearn.decomposition import PCA,FactorAnalysis\n",
    "from sklearn.preprocessing import StandardScaler,QuantileTransformer\n",
    "from sklearn.metrics import precision_recall_curve,log_loss\n",
    "from sklearn.metrics import average_precision_score,roc_auc_score\n",
    "from sklearn.feature_selection import VarianceThreshold\n",
    "import os\n",
    "import pandas as pd\n",
    "import numpy as np"
   ]
  },
  {
   "cell_type": "code",
   "execution_count": null,
   "metadata": {},
   "outputs": [],
   "source": [
    "def variance_threshold(x_train):\n",
    "    \"\"\"\n",
    "    This function perform feature selection on the data, i.e. removes all low-variance features below the\n",
    "    given 'threshold' parameter.\n",
    "    \n",
    "    Args:\n",
    "            x_fold_train: K-fold train data with only phenotypic/morphological features and PCs - pandas \n",
    "            dataframe.\n",
    "            x_fold_val: K-fold validation data with only phenotypic/morphological features and PCs - pandas \n",
    "            dataframe.\n",
    "            df_test_x_copy: test data - pandas dataframe with only phenotypic/morphological features and PCs.\n",
    "    \n",
    "    Returns:\n",
    "            x_fold_train: K-fold train data after feature selection - pandas dataframe.\n",
    "            x_fold_val: K-fold validation data after feature selection - pandas dataframe.\n",
    "            df_test_x_copy: test data - pandas dataframe after feature selection - pandas dataframe.\n",
    "    \n",
    "    \"\"\"\n",
    "    var_thresh = VarianceThreshold(threshold = 0.8) # sets a variance threshold\n",
    "    var_thresh.fit(x_train) # learn empirical variances from X\n",
    "    x_train = x_train.loc[:,var_thresh.variances_ > 0.8] # locate all variance thresholds above 0.8, keep those columns\n",
    "    return x_train"
   ]
  },
  {
   "cell_type": "code",
   "execution_count": 6,
   "metadata": {},
   "outputs": [],
   "source": [
    "from E_training_test_split import train_test_valid_split, save_to_csv, create_splits"
   ]
  },
  {
   "cell_type": "code",
   "execution_count": 14,
   "metadata": {},
   "outputs": [
    {
     "ename": "ValueError",
     "evalue": "not enough values to unpack (expected 3, got 2)",
     "output_type": "error",
     "traceback": [
      "\u001b[0;31m---------------------------------------------------------------------------\u001b[0m",
      "\u001b[0;31mValueError\u001b[0m                                Traceback (most recent call last)",
      "\u001b[0;32m<ipython-input-14-3c2de8cdb972>\u001b[0m in \u001b[0;36m<module>\u001b[0;34m\u001b[0m\n\u001b[1;32m      2\u001b[0m \u001b[0mfilename_mod\u001b[0m \u001b[0;34m=\u001b[0m \u001b[0;34m'cyclo_adr_2'\u001b[0m\u001b[0;34m\u001b[0m\u001b[0;34m\u001b[0m\u001b[0m\n\u001b[1;32m      3\u001b[0m \u001b[0mperc_test\u001b[0m \u001b[0;34m=\u001b[0m \u001b[0;36m0.2\u001b[0m\u001b[0;34m\u001b[0m\u001b[0;34m\u001b[0m\u001b[0m\n\u001b[0;32m----> 4\u001b[0;31m \u001b[0mcreate_splits\u001b[0m\u001b[0;34m(\u001b[0m\u001b[0mmoas\u001b[0m\u001b[0;34m,\u001b[0m\u001b[0mfilename_mod\u001b[0m\u001b[0;34m,\u001b[0m \u001b[0mperc_test\u001b[0m\u001b[0;34m,\u001b[0m \u001b[0mneed_val\u001b[0m\u001b[0;34m=\u001b[0m \u001b[0;32mFalse\u001b[0m\u001b[0;34m)\u001b[0m\u001b[0;34m\u001b[0m\u001b[0;34m\u001b[0m\u001b[0m\n\u001b[0m",
      "\u001b[0;32m~/Tomics-CP-Chem-MoA/04_Tomics_Models/Erik_Models/E_training_test_split.py\u001b[0m in \u001b[0;36mcreate_splits\u001b[0;34m(moas, filename_mod, perc_test, need_val)\u001b[0m\n\u001b[1;32m    125\u001b[0m     \u001b[0;31m# if we only want test and training set\u001b[0m\u001b[0;34m\u001b[0m\u001b[0;34m\u001b[0m\u001b[0;34m\u001b[0m\u001b[0m\n\u001b[1;32m    126\u001b[0m     \u001b[0;32melse\u001b[0m\u001b[0;34m:\u001b[0m\u001b[0;34m\u001b[0m\u001b[0;34m\u001b[0m\u001b[0m\n\u001b[0;32m--> 127\u001b[0;31m         \u001b[0mprint\u001b[0m\u001b[0;34m(\u001b[0m\u001b[0mcompound_train_valid\u001b[0m\u001b[0;34m)\u001b[0m\u001b[0;34m\u001b[0m\u001b[0;34m\u001b[0m\u001b[0m\n\u001b[0m\u001b[1;32m    128\u001b[0m         \u001b[0mcmpd_trai_lst\u001b[0m \u001b[0;34m=\u001b[0m \u001b[0mlist\u001b[0m\u001b[0;34m(\u001b[0m\u001b[0mcompound_train_valid\u001b[0m\u001b[0;34m[\u001b[0m\u001b[0;34m\"Compound ID\"\u001b[0m\u001b[0;34m]\u001b[0m\u001b[0;34m)\u001b[0m\u001b[0;34m\u001b[0m\u001b[0;34m\u001b[0m\u001b[0m\n\u001b[1;32m    129\u001b[0m         \u001b[0mcmpd_tes_lst\u001b[0m \u001b[0;34m=\u001b[0m \u001b[0mlist\u001b[0m\u001b[0;34m(\u001b[0m\u001b[0mcompound_test\u001b[0m\u001b[0;34m[\u001b[0m\u001b[0;34m\"Compound ID\"\u001b[0m\u001b[0;34m]\u001b[0m\u001b[0;34m)\u001b[0m\u001b[0;34m\u001b[0m\u001b[0;34m\u001b[0m\u001b[0m\n",
      "\u001b[0;31mValueError\u001b[0m: not enough values to unpack (expected 3, got 2)"
     ]
    }
   ],
   "source": [
    "moas = [\"cyclooxygenase inhibitor\", \"adrenergic receptor antagonist\"]\n",
    "filename_mod = 'cyclo_adr_2'            \n",
    "perc_test = 0.2\n",
    "create_splits(moas,filename_mod, perc_test, need_val= False)"
   ]
  },
  {
   "cell_type": "code",
   "execution_count": null,
   "metadata": {},
   "outputs": [],
   "source": []
  }
 ],
 "metadata": {
  "kernelspec": {
   "display_name": "Python 3",
   "language": "python",
   "name": "python3"
  },
  "language_info": {
   "codemirror_mode": {
    "name": "ipython",
    "version": 3
   },
   "file_extension": ".py",
   "mimetype": "text/x-python",
   "name": "python",
   "nbconvert_exporter": "python",
   "pygments_lexer": "ipython3",
   "version": "3.6.9"
  }
 },
 "nbformat": 4,
 "nbformat_minor": 4
}

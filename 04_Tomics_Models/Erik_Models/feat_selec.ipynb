{
 "cells": [
  {
   "cell_type": "code",
   "execution_count": 4,
   "metadata": {},
   "outputs": [],
   "source": [
    "import numpy as np\n",
    "import pandas as pd"
   ]
  },
  {
   "cell_type": "code",
   "execution_count": 5,
   "metadata": {},
   "outputs": [],
   "source": [
    "# # Load data of indices with the best features\n",
    "LDA =np.array([395, 560, 110, 388, 876, 566, 789, 579, 318, 977, 163, 669, 792,\n",
    "       175,  36, 383, 692,  52,  92, 222, 943,  45,  94, 910, 469, 656,\n",
    "       126, 195, 754, 167, 182,  61, 893, 452, 592, 727, 543, 503, 646,\n",
    "       622,  87, 332, 930, 855, 795, 211,   8, 530, 896,  34, 541, 170,\n",
    "        74,  96, 704, 915, 152, 904, 937, 764, 660, 819, 800, 608, 538,\n",
    "       901, 685, 882, 257, 604, 350, 463, 862, 964, 327, 618, 149, 331,\n",
    "       411, 880, 641,  99, 178, 358, 114, 405, 504, 632, 148, 587, 354,\n",
    "       732,  29, 859, 580, 536, 101, 772, 271,  22, 601, 597, 745, 294,\n",
    "       506, 441, 207, 418,   2, 439, 129, 728, 293, 701,  65, 420, 145,\n",
    "       191, 274,  46, 203, 888, 857, 547, 415, 295, 898, 390, 879, 272,\n",
    "       757, 627, 832, 771,  41, 662, 970, 535, 582, 451, 809, 730, 884,\n",
    "       905, 939, 889, 956, 235, 524,  47, 362, 471, 689, 297, 595, 929,\n",
    "       459, 766, 690,  26, 540, 714,  33, 733, 103,  89, 686, 160, 603,\n",
    "        83, 829, 380, 261, 367,  18,  50,   0,  35, 397, 353, 480, 393,\n",
    "        13, 973, 850, 913, 162, 124, 802,  58, 280, 258, 574, 281, 158,\n",
    "       752, 812, 831, 446,  10, 826, 523, 762, 328, 945, 374, 230, 347,\n",
    "       133, 709,  59, 569, 860, 168,  24, 398, 624, 658, 534, 190,  21,\n",
    "       556, 298, 927, 827, 213, 491, 113, 400, 639, 468, 202, 912, 586,\n",
    "       799, 940, 448, 914, 288, 958, 873, 844, 363, 629, 590, 742, 612,\n",
    "       676,  38, 364])\n",
    "\n",
    "Ridge= np.array([ 99, 351, 819, 592, 126, 318, 660, 321, 195, 856,  94, 915, 643,\n",
    "       571,  92, 754, 607,  87, 746, 110,  81, 692,  48, 566,   2, 911,\n",
    "       469, 547, 503, 562, 245, 893, 541, 536,  52, 687, 261, 580, 538,\n",
    "       487, 882,  96,  22, 207,  85, 222, 170,  73, 804, 904, 867, 632,\n",
    "       414, 530, 354, 327, 587, 618, 937, 540, 163, 656, 727, 406, 388,\n",
    "       441, 244, 689, 773,  33, 888, 764, 504,  74, 231, 407, 728, 936,\n",
    "       452, 964,   8, 101, 662, 415, 418, 560, 223,  45, 859, 114, 608,\n",
    "       397, 685, 148, 690, 604, 714, 459, 792, 880,  27, 405, 659, 257,\n",
    "       704, 868, 730, 383, 956, 524, 809,  83, 716,  29, 667, 350,  46,\n",
    "       203, 857, 332, 293, 328, 297, 258, 901, 884, 701, 595, 627, 889,\n",
    "        65, 970, 832, 898, 535,  18, 597, 160, 829, 295, 879,  41, 706,\n",
    "       145, 272, 641, 149, 929, 732, 463, 772, 855, 939, 367, 733, 390,\n",
    "       103, 380, 446, 506, 603, 582, 766, 439, 745, 393,  47, 129,   0,\n",
    "       451, 420, 362, 191, 905, 601,  26, 762, 523, 913, 274, 202, 860,\n",
    "       624, 281, 574, 658, 280, 850,  21,  10, 973, 374, 752, 471, 347,\n",
    "        50, 480, 235, 353, 831, 534,  89, 124, 757, 686, 213, 826,  24,\n",
    "       162, 802, 168,  58,  13, 945, 230,  35, 912, 190, 927, 709, 113,\n",
    "       491, 569, 398, 586, 556,  59, 133, 298, 812, 639, 799, 827, 468,\n",
    "       288, 958, 400, 914, 940, 844, 364, 448, 873, 612,  38, 590, 629,\n",
    "       742, 363, 676])\n"
   ]
  },
  {
   "cell_type": "code",
   "execution_count": 6,
   "metadata": {},
   "outputs": [],
   "source": [
    "# Flip the arrays so the highest value is at the top\n",
    "Ridge = np.flip(Ridge)\n",
    "LDA = np.flip(LDA)"
   ]
  },
  {
   "cell_type": "code",
   "execution_count": 7,
   "metadata": {},
   "outputs": [
    {
     "data": {
      "text/plain": [
       "array([676, 363, 742, 629, 590,  38, 612, 873, 448, 364, 844, 940, 914,\n",
       "       400, 958, 288, 468, 827, 799, 639, 812, 298, 133,  59, 556, 586,\n",
       "       398, 569, 491, 113, 709, 927, 190, 912,  35, 230, 945,  13,  58,\n",
       "       168, 802, 162,  24, 826, 213, 686, 757, 124,  89, 534, 831, 353,\n",
       "       235, 480,  50, 347, 471, 752, 374, 973,  10,  21, 850, 280, 658,\n",
       "       574, 281, 624, 860, 202, 274, 913, 523, 762,  26, 601, 905, 191,\n",
       "       362, 420, 451,   0, 129,  47, 393, 745, 439, 766, 582, 603, 506,\n",
       "       446, 380, 103, 390, 733, 367, 939, 855, 772, 463, 732, 929, 149,\n",
       "       641, 272, 145, 706,  41, 879, 295, 829, 160, 597,  18, 535, 898,\n",
       "       832, 970,  65, 889, 627, 595, 701, 884, 901, 258, 297, 328, 293,\n",
       "       332, 857, 203,  46, 350, 667,  29, 716,  83, 809, 524, 956, 383,\n",
       "       730, 868, 704, 257, 659, 405,  27, 880, 792, 459, 714, 604, 690,\n",
       "       148, 685, 397, 608, 114, 859,  45, 223, 560, 418, 415, 662, 101,\n",
       "         8, 964, 452, 936, 728, 407, 231,  74, 504, 764, 888,  33, 773,\n",
       "       689, 244, 441, 388, 406, 727, 656, 163, 540, 937, 618, 587, 327,\n",
       "       354, 530, 414, 632, 867, 904, 804,  73, 170, 222,  85, 207,  22,\n",
       "        96, 882, 487, 538, 580, 261, 687,  52, 536, 541, 893, 245, 562,\n",
       "       503, 547, 469, 911,   2, 566,  48, 692,  81, 110, 746,  87, 607,\n",
       "       754,  92, 571, 643, 915,  94, 856, 195, 321, 660, 318, 126, 592,\n",
       "       819, 351,  99])"
      ]
     },
     "execution_count": 7,
     "metadata": {},
     "output_type": "execute_result"
    }
   ],
   "source": [
    "Ridge"
   ]
  },
  {
   "cell_type": "code",
   "execution_count": 8,
   "metadata": {},
   "outputs": [
    {
     "name": "stdout",
     "output_type": "stream",
     "text": [
      "[ 38 288 363 364 400 448 468 590 612 629 639 676 742 799 844 873 914 940\n",
      " 958]\n"
     ]
    }
   ],
   "source": [
    "# find the indices of the top 25 values\n",
    "Ridge = Ridge[:25]\n",
    "LDA = LDA[:25]\n",
    "# concatenate the arrays and find the indices that are identical across the two arrays\n",
    "bro = np.concatenate((Ridge, LDA))\n",
    "unique= np.unique(bro, return_counts=True)\n",
    "dup_indices = unique[0][unique[1]>1]\n",
    "print(dup_indices)"
   ]
  },
  {
   "cell_type": "code",
   "execution_count": 9,
   "metadata": {},
   "outputs": [
    {
     "data": {
      "text/plain": [
       "19"
      ]
     },
     "execution_count": 9,
     "metadata": {},
     "output_type": "execute_result"
    }
   ],
   "source": [
    "# find the indices that are the same across the two arrays\n",
    "len(dup_indices)"
   ]
  },
  {
   "attachments": {},
   "cell_type": "markdown",
   "metadata": {},
   "source": [
    "19 of the top 25 coefficients for both LDA and Ridge Regression are the same, indicating that the algorithms are weighing the same genes when making decisions about"
   ]
  },
  {
   "cell_type": "code",
   "execution_count": 10,
   "metadata": {},
   "outputs": [],
   "source": [
    "def load_train_valid_data(train_data, valid_data):\n",
    "    '''\n",
    "    Functions loads the data frames that will be used to train classifier and assess its accuracy in predicting.\n",
    "    input:\n",
    "        train_data: filename of training csv file\n",
    "        valid_data: filename of validation csv file\n",
    "    ouput:\n",
    "       L1000 training: pandas dataframe with training data\n",
    "       L1000 validation: pandas dataframe with validation data\n",
    "    '''\n",
    "    path = '/home/jovyan/Tomics-CP-Chem-MoA/04_Tomics_Models/data_split_csvs/'\n",
    "    L1000_training = pd.read_csv(path + train_data, delimiter = \",\")\n",
    "    L1000_validation =pd.read_csv(path + valid_data, delimiter = \",\")\n",
    "    return L1000_training, L1000_validation\n"
   ]
  },
  {
   "cell_type": "markdown",
   "metadata": {},
   "source": [
    "# Testing One Hot Encoding by also Trying to Fix the Splitting of the data problem that I had before"
   ]
  },
  {
   "cell_type": "code",
   "execution_count": null,
   "metadata": {},
   "outputs": [],
   "source": [
    "from sklearn.preprocessing import OneHotEncoder\n",
    "\n",
    "train_filename = 'L1000_training_set_nv_cyc_adr.csv'\n",
    "valid_filename = 'L1000_test_set_nv_cyc_adr.csv'\n",
    "L1000_training, L1000_validation = load_train_valid_data(train_filename, valid_filename)\n"
   ]
  },
  {
   "cell_type": "code",
   "execution_count": null,
   "metadata": {},
   "outputs": [
    {
     "data": {
      "text/html": [
       "<style>#sk-container-id-1 {color: black;background-color: white;}#sk-container-id-1 pre{padding: 0;}#sk-container-id-1 div.sk-toggleable {background-color: white;}#sk-container-id-1 label.sk-toggleable__label {cursor: pointer;display: block;width: 100%;margin-bottom: 0;padding: 0.3em;box-sizing: border-box;text-align: center;}#sk-container-id-1 label.sk-toggleable__label-arrow:before {content: \"▸\";float: left;margin-right: 0.25em;color: #696969;}#sk-container-id-1 label.sk-toggleable__label-arrow:hover:before {color: black;}#sk-container-id-1 div.sk-estimator:hover label.sk-toggleable__label-arrow:before {color: black;}#sk-container-id-1 div.sk-toggleable__content {max-height: 0;max-width: 0;overflow: hidden;text-align: left;background-color: #f0f8ff;}#sk-container-id-1 div.sk-toggleable__content pre {margin: 0.2em;color: black;border-radius: 0.25em;background-color: #f0f8ff;}#sk-container-id-1 input.sk-toggleable__control:checked~div.sk-toggleable__content {max-height: 200px;max-width: 100%;overflow: auto;}#sk-container-id-1 input.sk-toggleable__control:checked~label.sk-toggleable__label-arrow:before {content: \"▾\";}#sk-container-id-1 div.sk-estimator input.sk-toggleable__control:checked~label.sk-toggleable__label {background-color: #d4ebff;}#sk-container-id-1 div.sk-label input.sk-toggleable__control:checked~label.sk-toggleable__label {background-color: #d4ebff;}#sk-container-id-1 input.sk-hidden--visually {border: 0;clip: rect(1px 1px 1px 1px);clip: rect(1px, 1px, 1px, 1px);height: 1px;margin: -1px;overflow: hidden;padding: 0;position: absolute;width: 1px;}#sk-container-id-1 div.sk-estimator {font-family: monospace;background-color: #f0f8ff;border: 1px dotted black;border-radius: 0.25em;box-sizing: border-box;margin-bottom: 0.5em;}#sk-container-id-1 div.sk-estimator:hover {background-color: #d4ebff;}#sk-container-id-1 div.sk-parallel-item::after {content: \"\";width: 100%;border-bottom: 1px solid gray;flex-grow: 1;}#sk-container-id-1 div.sk-label:hover label.sk-toggleable__label {background-color: #d4ebff;}#sk-container-id-1 div.sk-serial::before {content: \"\";position: absolute;border-left: 1px solid gray;box-sizing: border-box;top: 0;bottom: 0;left: 50%;z-index: 0;}#sk-container-id-1 div.sk-serial {display: flex;flex-direction: column;align-items: center;background-color: white;padding-right: 0.2em;padding-left: 0.2em;position: relative;}#sk-container-id-1 div.sk-item {position: relative;z-index: 1;}#sk-container-id-1 div.sk-parallel {display: flex;align-items: stretch;justify-content: center;background-color: white;position: relative;}#sk-container-id-1 div.sk-item::before, #sk-container-id-1 div.sk-parallel-item::before {content: \"\";position: absolute;border-left: 1px solid gray;box-sizing: border-box;top: 0;bottom: 0;left: 50%;z-index: -1;}#sk-container-id-1 div.sk-parallel-item {display: flex;flex-direction: column;z-index: 1;position: relative;background-color: white;}#sk-container-id-1 div.sk-parallel-item:first-child::after {align-self: flex-end;width: 50%;}#sk-container-id-1 div.sk-parallel-item:last-child::after {align-self: flex-start;width: 50%;}#sk-container-id-1 div.sk-parallel-item:only-child::after {width: 0;}#sk-container-id-1 div.sk-dashed-wrapped {border: 1px dashed gray;margin: 0 0.4em 0.5em 0.4em;box-sizing: border-box;padding-bottom: 0.4em;background-color: white;}#sk-container-id-1 div.sk-label label {font-family: monospace;font-weight: bold;display: inline-block;line-height: 1.2em;}#sk-container-id-1 div.sk-label-container {text-align: center;}#sk-container-id-1 div.sk-container {/* jupyter's `normalize.less` sets `[hidden] { display: none; }` but bootstrap.min.css set `[hidden] { display: none !important; }` so we also need the `!important` here to be able to override the default hidden behavior on the sphinx rendered scikit-learn.org. See: https://github.com/scikit-learn/scikit-learn/issues/21755 */display: inline-block !important;position: relative;}#sk-container-id-1 div.sk-text-repr-fallback {display: none;}</style><div id=\"sk-container-id-1\" class=\"sk-top-container\"><div class=\"sk-text-repr-fallback\"><pre>OneHotEncoder(handle_unknown=&#x27;ignore&#x27;)</pre><b>In a Jupyter environment, please rerun this cell to show the HTML representation or trust the notebook. <br />On GitHub, the HTML representation is unable to render, please try loading this page with nbviewer.org.</b></div><div class=\"sk-container\" hidden><div class=\"sk-item\"><div class=\"sk-estimator sk-toggleable\"><input class=\"sk-toggleable__control sk-hidden--visually\" id=\"sk-estimator-id-1\" type=\"checkbox\" checked><label for=\"sk-estimator-id-1\" class=\"sk-toggleable__label sk-toggleable__label-arrow\">OneHotEncoder</label><div class=\"sk-toggleable__content\"><pre>OneHotEncoder(handle_unknown=&#x27;ignore&#x27;)</pre></div></div></div></div></div>"
      ],
      "text/plain": [
       "OneHotEncoder(handle_unknown='ignore')"
      ]
     },
     "execution_count": 12,
     "metadata": {},
     "output_type": "execute_result"
    }
   ],
   "source": [
    "enc = OneHotEncoder(handle_unknown='ignore')\n",
    "enc.fit(L1000_training[\"moa\"].unique().reshape(-1,1))"
   ]
  },
  {
   "cell_type": "code",
   "execution_count": null,
   "metadata": {},
   "outputs": [
    {
     "data": {
      "text/plain": [
       "[array(['cyclooxygenase inhibitor', 'dopamine receptor antagonist'],\n",
       "       dtype=object)]"
      ]
     },
     "execution_count": 13,
     "metadata": {},
     "output_type": "execute_result"
    }
   ],
   "source": [
    "enc.categories_"
   ]
  },
  {
   "cell_type": "code",
   "execution_count": null,
   "metadata": {},
   "outputs": [],
   "source": [
    "one_hot_encoded = enc.transform(enc.categories_[0].reshape(-1,1)).toarray()"
   ]
  },
  {
   "cell_type": "code",
   "execution_count": null,
   "metadata": {},
   "outputs": [
    {
     "data": {
      "text/plain": [
       "array([[1., 0.],\n",
       "       [0., 1.]])"
      ]
     },
     "execution_count": 20,
     "metadata": {},
     "output_type": "execute_result"
    }
   ],
   "source": [
    "one_hot_encoded"
   ]
  },
  {
   "cell_type": "code",
   "execution_count": null,
   "metadata": {},
   "outputs": [
    {
     "data": {
      "text/plain": [
       "0           cyclooxygenase inhibitor\n",
       "1           cyclooxygenase inhibitor\n",
       "2           cyclooxygenase inhibitor\n",
       "3           cyclooxygenase inhibitor\n",
       "4       dopamine receptor antagonist\n",
       "                    ...             \n",
       "2902    dopamine receptor antagonist\n",
       "2903    dopamine receptor antagonist\n",
       "2904    dopamine receptor antagonist\n",
       "2905    dopamine receptor antagonist\n",
       "2906    dopamine receptor antagonist\n",
       "Name: moa, Length: 2907, dtype: object"
      ]
     },
     "execution_count": 23,
     "metadata": {},
     "output_type": "execute_result"
    }
   ],
   "source": [
    "L1000_training[\"moa\"]"
   ]
  },
  {
   "cell_type": "code",
   "execution_count": null,
   "metadata": {},
   "outputs": [
    {
     "name": "stdout",
     "output_type": "stream",
     "text": [
      "0\n",
      "cyclooxygenase inhibitor\n",
      "1\n",
      "dopamine receptor antagonist\n"
     ]
    }
   ],
   "source": [
    "dicti = {}\n",
    "for i in range(0, len(enc.categories_[0])):\n",
    "    print(i)\n",
    "    print(enc.categories_[0][i])\n",
    "    dicti[enc.categories_[0][i]] = one_hot_encoded[i]\n",
    "    #dicti[i[1][0]] = i[0][i]"
   ]
  },
  {
   "cell_type": "code",
   "execution_count": 34,
   "metadata": {},
   "outputs": [
    {
     "data": {
      "text/plain": [
       "{'cyclooxygenase inhibitor': array([1., 0.]),\n",
       " 'dopamine receptor antagonist': array([0., 1.])}"
      ]
     },
     "execution_count": 34,
     "metadata": {},
     "output_type": "execute_result"
    }
   ],
   "source": [
    "dicti"
   ]
  },
  {
   "cell_type": "code",
   "execution_count": null,
   "metadata": {},
   "outputs": [],
   "source": []
  }
 ],
 "metadata": {
  "kernelspec": {
   "display_name": "Python 3",
   "language": "python",
   "name": "python3"
  },
  "language_info": {
   "codemirror_mode": {
    "name": "ipython",
    "version": 3
   },
   "file_extension": ".py",
   "mimetype": "text/x-python",
   "name": "python",
   "nbconvert_exporter": "python",
   "pygments_lexer": "ipython3",
   "version": "3.8.10"
  },
  "orig_nbformat": 4,
  "vscode": {
   "interpreter": {
    "hash": "31f2aee4e71d21fbe5cf8b01ff0e069b9275f58929596ceb00d14d90e3e16cd6"
   }
  }
 },
 "nbformat": 4,
 "nbformat_minor": 2
}

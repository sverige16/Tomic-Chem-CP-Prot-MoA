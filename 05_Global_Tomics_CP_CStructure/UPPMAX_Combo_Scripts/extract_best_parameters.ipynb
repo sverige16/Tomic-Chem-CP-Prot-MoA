{
 "cells": [
  {
   "cell_type": "code",
   "execution_count": 2,
   "metadata": {},
   "outputs": [],
   "source": [
    "import sqlite3"
   ]
  },
  {
   "cell_type": "code",
   "execution_count": 3,
   "metadata": {},
   "outputs": [],
   "source": [
    "def extract_best_parameters_db(db_file):\n",
    "    '''\n",
    "    This function extracts the best parameters from a database file.\n",
    "    '''\n",
    "    # Connect to the SQLite database\n",
    "    connection = sqlite3.connect(db_file)\n",
    "\n",
    "    # Create a cursor object to execute SQL commands\n",
    "    cursor = connection.cursor()\n",
    "\n",
    "    # Get the trial with the best value (replace 'MAX' with 'MIN' if you are minimizing the metric)\n",
    "    cursor.execute(\"SELECT trial_id, value FROM trial_values WHERE value=(SELECT MAX(value) FROM trial_values)\")\n",
    "    best_trial_id, best_value = cursor.fetchone()\n",
    "\n",
    "    # Get the optimal parameters\n",
    "    cursor.execute(\"SELECT param_name, param_value FROM trial_params WHERE trial_id=?\", (best_trial_id,))\n",
    "    optimal_params = cursor.fetchall()\n",
    "\n",
    "    # Print the results\n",
    "    print(f\"Best trial ID: {best_trial_id}\")\n",
    "    print(f\"Best value: {best_value}\")\n",
    "    print(\"Optimal parameters:\")\n",
    "    for param_name, param_value in optimal_params:\n",
    "        print(f\"  {param_name}: {param_value}\")\n",
    "\n",
    "    # Close the connection\n",
    "    connection.close()"
   ]
  },
  {
   "cell_type": "code",
   "execution_count": 4,
   "metadata": {},
   "outputs": [
    {
     "name": "stdout",
     "output_type": "stream",
     "text": [
      "GE +CS\n",
      "Best trial ID: 6\n",
      "Best value: 0.49184871519865203\n",
      "Optimal parameters:\n",
      "  T_max: 4.0\n",
      "  dropout_l0: 0.39902124406641964\n",
      "  init_nodes: 119.0\n",
      "  loss_fn: 1.0\n",
      "  loss_train_fn: 0.0\n",
      "  lr: 0.08762301480077071\n",
      "  n_layers: 1.0\n",
      "  n_units_l0: 246.0\n",
      "  optimizer: 0.0\n",
      "  scheduler: 2.0\n",
      "  yn_class_weights: 1.0\n"
     ]
    }
   ],
   "source": [
    "print(\"GE +CS\")\n",
    "extract_best_parameters_db(\"CS_GE_fe.db\")"
   ]
  },
  {
   "cell_type": "code",
   "execution_count": 5,
   "metadata": {},
   "outputs": [
    {
     "name": "stdout",
     "output_type": "stream",
     "text": [
      "CP + CS\n",
      "Best trial ID: 75\n",
      "Best value: 0.5458172621298063\n",
      "Optimal parameters:\n",
      "  T_max: 7.0\n",
      "  init_nodes: 203.0\n",
      "  loss_fn: 0.0\n",
      "  loss_train_fn: 0.0\n",
      "  lr: 0.022213713273465836\n",
      "  n_layers: 0.0\n",
      "  optimizer: 2.0\n",
      "  scheduler: 2.0\n",
      "  yn_class_weights: 0.0\n"
     ]
    }
   ],
   "source": [
    "print(\"CP + CS\")\n",
    "extract_best_parameters_db(\"CP_CS_fe.db\")\n",
    "#good for first part"
   ]
  },
  {
   "cell_type": "code",
   "execution_count": 8,
   "metadata": {},
   "outputs": [
    {
     "name": "stdout",
     "output_type": "stream",
     "text": [
      "CP + CS + GE\n",
      "Best trial ID: 27\n",
      "Best value: 0.5215030363790398\n",
      "Optimal parameters:\n",
      "  dropout_l0: 0.4231140857690407\n",
      "  gamma: 0.5390730170455282\n",
      "  init_nodes: 227.0\n",
      "  loss_fn: 1.0\n",
      "  loss_train_fn: 0.0\n",
      "  lr: 0.007053835481861996\n",
      "  n_layers: 1.0\n",
      "  n_units_l0: 222.0\n",
      "  optimizer: 1.0\n",
      "  scheduler: 0.0\n",
      "  step_size: 3.0\n",
      "  yn_class_weights: 1.0\n"
     ]
    }
   ],
   "source": [
    "print(\"CP + CS + GE\")\n",
    "extract_best_parameters_db(\"CP_CS_GE_fe.db\")"
   ]
  },
  {
   "cell_type": "code",
   "execution_count": 7,
   "metadata": {},
   "outputs": [
    {
     "name": "stdout",
     "output_type": "stream",
     "text": [
      "Best trial ID: 49\n",
      "Best value: 0.3773312945348391\n",
      "Optimal parameters:\n",
      "  dropout_l0: 0.32636932714777867\n",
      "  dropout_l1: 0.3389829409418283\n",
      "  dropout_l2: 0.24693019572668667\n",
      "  gamma: 0.703540229729817\n",
      "  init_nodes: 155.0\n",
      "  loss_fn: 1.0\n",
      "  loss_train_fn: 0.0\n",
      "  lr: 1.5235991531719234e-05\n",
      "  n_layers: 3.0\n",
      "  n_units_l0: 141.0\n",
      "  n_units_l1: 46.0\n",
      "  n_units_l2: 138.0\n",
      "  optimizer: 0.0\n",
      "  scheduler: 0.0\n",
      "  step_size: 8.0\n",
      "  yn_class_weights: 0.0\n"
     ]
    }
   ],
   "source": [
    "extract_best_parameters_db(\"CP_GE_fe.db\")"
   ]
  },
  {
   "cell_type": "code",
   "execution_count": null,
   "metadata": {},
   "outputs": [],
   "source": []
  }
 ],
 "metadata": {
  "kernelspec": {
   "display_name": "Python 3",
   "language": "python",
   "name": "python3"
  },
  "language_info": {
   "codemirror_mode": {
    "name": "ipython",
    "version": 3
   },
   "file_extension": ".py",
   "mimetype": "text/x-python",
   "name": "python",
   "nbconvert_exporter": "python",
   "pygments_lexer": "ipython3",
   "version": "3.8.10"
  },
  "orig_nbformat": 4,
  "vscode": {
   "interpreter": {
    "hash": "e7370f93d1d0cde622a1f8e1c04877d8463912d04d973331ad4851f04de6915a"
   }
  }
 },
 "nbformat": 4,
 "nbformat_minor": 2
}

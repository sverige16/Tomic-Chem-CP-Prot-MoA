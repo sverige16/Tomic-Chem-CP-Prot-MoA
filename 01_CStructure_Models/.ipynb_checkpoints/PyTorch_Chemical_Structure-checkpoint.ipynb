{
 "cells": [
  {
   "cell_type": "code",
   "execution_count": 15,
   "metadata": {},
   "outputs": [
    {
     "name": "stdout",
     "output_type": "stream",
     "text": [
      "Defaulting to user installation because normal site-packages is not writeable\n",
      "Collecting rdkit-pypi\n",
      "  Downloading rdkit_pypi-2021.9.4-cp36-cp36m-manylinux_2_17_x86_64.manylinux2014_x86_64.whl (20.6 MB)\n",
      "\u001b[K     |████████████████████████████████| 20.6 MB 16.0 MB/s eta 0:00:01\n",
      "\u001b[?25hRequirement already satisfied: Pillow in /usr/local/lib/python3.6/dist-packages (from rdkit-pypi) (8.3.1)\n",
      "Requirement already satisfied: numpy>=1.19 in /usr/local/lib/python3.6/dist-packages (from rdkit-pypi) (1.19.5)\n",
      "Installing collected packages: rdkit-pypi\n",
      "Successfully installed rdkit-pypi-2021.9.4\n",
      "\u001b[33mWARNING: You are using pip version 20.2.4; however, version 21.3.1 is available.\n",
      "You should consider upgrading via the '/usr/bin/python3 -m pip install --upgrade pip' command.\u001b[0m\n"
     ]
    }
   ],
   "source": [
    "!pip install rdkit-pypi"
   ]
  },
  {
   "cell_type": "code",
   "execution_count": 3,
   "metadata": {},
   "outputs": [],
   "source": [
    "# import statements\n",
    "from rdkit import Chem\n",
    "from rdkit.Chem import DataStructs, AllChem\n",
    "\n",
    "import pandas as pd\n",
    "import numpy as np\n",
    "import matplotlib.pyplot as plt\n",
    "from sklearn.model_selection import train_test_split # Functipn to split data into training, validation and test sets\n",
    "import pickle\n",
    "import glob   # The glob module finds all the pathnames matching a specified pattern according to the rules used by the Unix shell, although results are returned in arbitrary order. No tilde expansion is done, but *, ?, and character ranges expressed with [] will be correctly matched.\n",
    "import os   # miscellneous operating system interfaces. This module provides a portable way of using operating system dependent functionality. If you just want to read or write a file see open(), if you want to manipulate paths, see the os.path module, and if you want to read all the lines in all the files on the command line see the fileinput module.\n",
    "import random       \n",
    "from tqdm import tqdm \n",
    "from tqdm.notebook import tqdm_notebook\n",
    "import datetime\n",
    "\n",
    "# Torch\n",
    "import torch\n",
    "from torchvision import transforms\n",
    "import torchvision.models as models\n",
    "import torch.nn as nn\n",
    "import torchinfo  \n"
   ]
  },
  {
   "cell_type": "code",
   "execution_count": 4,
   "metadata": {},
   "outputs": [],
   "source": [
    "# get the dictionary for compound_id-SMILES pair \n",
    "compound_smiles_dictionary = pickle.load(open(\"/home/jovyan/Tomics-CP-Chem-MoA/data_for_models/dictionary2.pickle\", \"rb\"))"
   ]
  },
  {
   "cell_type": "code",
   "execution_count": 5,
   "metadata": {},
   "outputs": [
    {
     "name": "stdout",
     "output_type": "stream",
     "text": [
      "[('CBK290537', 'CCOc1cc(N)c(Cl)cc1C(=O)NCC1CN(Cc2ccc(F)cc2)CCO1'), ('CBK308456', 'Clc1ccccc1C1CS\\\\C(S1)=C(\\\\C#N)n1ccnc1'), ('CBK200938', 'O=C(C1=C(C)NC(C)=C(C(OCC(C)C)=O)C1C2=CC=CC=C2[N+]([O-])=O)OC'), ('CBK290948', 'CC(=O)Nc1ccc(NC(=S)NC(=O)c2ccc(cc2)C(C)(C)C)cc1'), ('CBK200855', 'Oc1c(I)cc(Cl)c2cccnc12'), ('CBK308538', 'NC(=N)N=Nc1ccc(NNC(S)=N)cc1'), ('CBK015802', 'Oc1c(Cl)cc(Cl)c2cccnc12'), ('CBK309270', 'Oc1ccc2ccccc2c1'), ('CBK041480', 'Oc1cc(O)c2c(c1)oc(cc2=O)-c1ccccc1'), ('CBK309011', 'O=C(O)CCCCCCNC1C2=CC=CC=C2CCC3=CC=CC=C13')]\n"
     ]
    }
   ],
   "source": [
    "print(list(compound_smiles_dictionary.items())[:10])"
   ]
  },
  {
   "cell_type": "code",
   "execution_count": 6,
   "metadata": {},
   "outputs": [],
   "source": [
    "# 10 selected MoAs \n",
    "moas_to_use = ['Aurora kinase inhibitor', 'tubulin polymerization inhibitor', 'JAK inhibitor', 'protein synthesis inhibitor', 'HDAC inhibitor', \n",
    "        'topoisomerase inhibitor', 'PARP inhibitor', 'ATPase inhibitor', 'retinoid receptor agonist', 'HSP inhibitor']"
   ]
  },
  {
   "cell_type": "code",
   "execution_count": 7,
   "metadata": {},
   "outputs": [],
   "source": [
    "# read the data \n",
    "all_data = pd.read_csv('/home/jovyan/Tomics-CP-Chem-MoA/data_for_models/all_data.csv')"
   ]
  },
  {
   "cell_type": "code",
   "execution_count": 8,
   "metadata": {},
   "outputs": [],
   "source": [
    "# Limiting the data to the first 2000 rows\n",
    "testing = False\n",
    "if testing == True:\n",
    "    all_data = all_data[0:1000]"
   ]
  },
  {
   "cell_type": "code",
   "execution_count": 9,
   "metadata": {},
   "outputs": [
    {
     "data": {
      "text/html": [
       "<div>\n",
       "<style scoped>\n",
       "    .dataframe tbody tr th:only-of-type {\n",
       "        vertical-align: middle;\n",
       "    }\n",
       "\n",
       "    .dataframe tbody tr th {\n",
       "        vertical-align: top;\n",
       "    }\n",
       "\n",
       "    .dataframe thead th {\n",
       "        text-align: right;\n",
       "    }\n",
       "</style>\n",
       "<table border=\"1\" class=\"dataframe\">\n",
       "  <thead>\n",
       "    <tr style=\"text-align: right;\">\n",
       "      <th></th>\n",
       "      <th>plate</th>\n",
       "      <th>well</th>\n",
       "      <th>compound</th>\n",
       "      <th>path</th>\n",
       "      <th>C1</th>\n",
       "      <th>C2</th>\n",
       "      <th>C3</th>\n",
       "      <th>C4</th>\n",
       "      <th>C5</th>\n",
       "      <th>moa</th>\n",
       "    </tr>\n",
       "  </thead>\n",
       "  <tbody>\n",
       "    <tr>\n",
       "      <th>0</th>\n",
       "      <td>P015085</td>\n",
       "      <td>B22</td>\n",
       "      <td>CBK290770</td>\n",
       "      <td>/mnt/micro-images-pvc/specs935-v1/specs935-v1-...</td>\n",
       "      <td>specs935-v1-FA-P015085-U2OS-48h-P5-L2-test_B22...</td>\n",
       "      <td>specs935-v1-FA-P015085-U2OS-48h-P5-L2-test_B22...</td>\n",
       "      <td>specs935-v1-FA-P015085-U2OS-48h-P5-L2-test_B22...</td>\n",
       "      <td>specs935-v1-FA-P015085-U2OS-48h-P5-L2-test_B22...</td>\n",
       "      <td>specs935-v1-FA-P015085-U2OS-48h-P5-L2-test_B22...</td>\n",
       "      <td>Aurora kinase inhibitor</td>\n",
       "    </tr>\n",
       "    <tr>\n",
       "      <th>1</th>\n",
       "      <td>P015099</td>\n",
       "      <td>I03</td>\n",
       "      <td>CBK309655</td>\n",
       "      <td>/mnt/micro-images-pvc/specs935-v1/specs935-v1-...</td>\n",
       "      <td>specs935-v1-FA-P015099-U2OS-48h-P12-L2_I03_s4_...</td>\n",
       "      <td>specs935-v1-FA-P015099-U2OS-48h-P12-L2_I03_s4_...</td>\n",
       "      <td>specs935-v1-FA-P015099-U2OS-48h-P12-L2_I03_s4_...</td>\n",
       "      <td>specs935-v1-FA-P015099-U2OS-48h-P12-L2_I03_s4_...</td>\n",
       "      <td>specs935-v1-FA-P015099-U2OS-48h-P12-L2_I03_s4_...</td>\n",
       "      <td>topoisomerase inhibitor</td>\n",
       "    </tr>\n",
       "    <tr>\n",
       "      <th>2</th>\n",
       "      <td>P015099</td>\n",
       "      <td>H21</td>\n",
       "      <td>CBK309040</td>\n",
       "      <td>/mnt/micro-images-pvc/specs935-v1/specs935-v1-...</td>\n",
       "      <td>specs935-v1-FA-P015099-U2OS-48h-P12-L2_H21_s4_...</td>\n",
       "      <td>specs935-v1-FA-P015099-U2OS-48h-P12-L2_H21_s4_...</td>\n",
       "      <td>specs935-v1-FA-P015099-U2OS-48h-P12-L2_H21_s4_...</td>\n",
       "      <td>specs935-v1-FA-P015099-U2OS-48h-P12-L2_H21_s4_...</td>\n",
       "      <td>specs935-v1-FA-P015099-U2OS-48h-P12-L2_H21_s4_...</td>\n",
       "      <td>topoisomerase inhibitor</td>\n",
       "    </tr>\n",
       "    <tr>\n",
       "      <th>3</th>\n",
       "      <td>P015099</td>\n",
       "      <td>F20</td>\n",
       "      <td>CBK200898</td>\n",
       "      <td>/mnt/micro-images-pvc/specs935-v1/specs935-v1-...</td>\n",
       "      <td>specs935-v1-FA-P015099-U2OS-48h-P12-L2_F20_s7_...</td>\n",
       "      <td>specs935-v1-FA-P015099-U2OS-48h-P12-L2_F20_s7_...</td>\n",
       "      <td>specs935-v1-FA-P015099-U2OS-48h-P12-L2_F20_s7_...</td>\n",
       "      <td>specs935-v1-FA-P015099-U2OS-48h-P12-L2_F20_s7_...</td>\n",
       "      <td>specs935-v1-FA-P015099-U2OS-48h-P12-L2_F20_s7_...</td>\n",
       "      <td>tubulin polymerization inhibitor</td>\n",
       "    </tr>\n",
       "    <tr>\n",
       "      <th>4</th>\n",
       "      <td>P015099</td>\n",
       "      <td>L04</td>\n",
       "      <td>CBK309538</td>\n",
       "      <td>/mnt/micro-images-pvc/specs935-v1/specs935-v1-...</td>\n",
       "      <td>specs935-v1-FA-P015099-U2OS-48h-P12-L2_L04_s4_...</td>\n",
       "      <td>specs935-v1-FA-P015099-U2OS-48h-P12-L2_L04_s4_...</td>\n",
       "      <td>specs935-v1-FA-P015099-U2OS-48h-P12-L2_L04_s4_...</td>\n",
       "      <td>specs935-v1-FA-P015099-U2OS-48h-P12-L2_L04_s4_...</td>\n",
       "      <td>specs935-v1-FA-P015099-U2OS-48h-P12-L2_L04_s4_...</td>\n",
       "      <td>protein synthesis inhibitor</td>\n",
       "    </tr>\n",
       "    <tr>\n",
       "      <th>5</th>\n",
       "      <td>P015098</td>\n",
       "      <td>L15</td>\n",
       "      <td>CBK309020</td>\n",
       "      <td>/mnt/micro-images-pvc/specs935-v1/specs935-v1-...</td>\n",
       "      <td>specs935-v1-FA-P015098-U2OS-48h-P12-L1_L15_s3_...</td>\n",
       "      <td>specs935-v1-FA-P015098-U2OS-48h-P12-L1_L15_s3_...</td>\n",
       "      <td>specs935-v1-FA-P015098-U2OS-48h-P12-L1_L15_s3_...</td>\n",
       "      <td>specs935-v1-FA-P015098-U2OS-48h-P12-L1_L15_s3_...</td>\n",
       "      <td>specs935-v1-FA-P015098-U2OS-48h-P12-L1_L15_s3_...</td>\n",
       "      <td>topoisomerase inhibitor</td>\n",
       "    </tr>\n",
       "    <tr>\n",
       "      <th>6</th>\n",
       "      <td>P015092</td>\n",
       "      <td>B08</td>\n",
       "      <td>CBK293875</td>\n",
       "      <td>/mnt/micro-images-pvc/specs935-v1/specs935-v1-...</td>\n",
       "      <td>specs935-v1-FA-P015092-U2OS-48h-P9-L1_B08_s1_w...</td>\n",
       "      <td>specs935-v1-FA-P015092-U2OS-48h-P9-L1_B08_s1_w...</td>\n",
       "      <td>specs935-v1-FA-P015092-U2OS-48h-P9-L1_B08_s1_w...</td>\n",
       "      <td>specs935-v1-FA-P015092-U2OS-48h-P9-L1_B08_s1_w...</td>\n",
       "      <td>specs935-v1-FA-P015092-U2OS-48h-P9-L1_B08_s1_w...</td>\n",
       "      <td>JAK inhibitor</td>\n",
       "    </tr>\n",
       "    <tr>\n",
       "      <th>7</th>\n",
       "      <td>P015084</td>\n",
       "      <td>N02</td>\n",
       "      <td>CBK291084</td>\n",
       "      <td>/mnt/micro-images-pvc/specs935-v1/specs935-v1-...</td>\n",
       "      <td>specs935-v1-FA-P015084-U2OS-48h-P5-L1_N02_s9_w...</td>\n",
       "      <td>specs935-v1-FA-P015084-U2OS-48h-P5-L1_N02_s9_w...</td>\n",
       "      <td>specs935-v1-FA-P015084-U2OS-48h-P5-L1_N02_s9_w...</td>\n",
       "      <td>specs935-v1-FA-P015084-U2OS-48h-P5-L1_N02_s9_w...</td>\n",
       "      <td>specs935-v1-FA-P015084-U2OS-48h-P5-L1_N02_s9_w...</td>\n",
       "      <td>ATPase inhibitor</td>\n",
       "    </tr>\n",
       "    <tr>\n",
       "      <th>8</th>\n",
       "      <td>P015085</td>\n",
       "      <td>B12</td>\n",
       "      <td>CBK201011</td>\n",
       "      <td>/mnt/micro-images-pvc/specs935-v1/specs935-v1-...</td>\n",
       "      <td>specs935-v1-FA-P015085-U2OS-48h-P5-L2-test_B12...</td>\n",
       "      <td>specs935-v1-FA-P015085-U2OS-48h-P5-L2-test_B12...</td>\n",
       "      <td>specs935-v1-FA-P015085-U2OS-48h-P5-L2-test_B12...</td>\n",
       "      <td>specs935-v1-FA-P015085-U2OS-48h-P5-L2-test_B12...</td>\n",
       "      <td>specs935-v1-FA-P015085-U2OS-48h-P5-L2-test_B12...</td>\n",
       "      <td>ATPase inhibitor</td>\n",
       "    </tr>\n",
       "    <tr>\n",
       "      <th>9</th>\n",
       "      <td>P015090</td>\n",
       "      <td>E18</td>\n",
       "      <td>CBK277961</td>\n",
       "      <td>/mnt/micro-images-pvc/specs935-v1/specs935-v1-...</td>\n",
       "      <td>specs935-v1-FA-P015090-U2OS-48h-P8-L1_E18_s9_w...</td>\n",
       "      <td>specs935-v1-FA-P015090-U2OS-48h-P8-L1_E18_s9_w...</td>\n",
       "      <td>specs935-v1-FA-P015090-U2OS-48h-P8-L1_E18_s9_w...</td>\n",
       "      <td>specs935-v1-FA-P015090-U2OS-48h-P8-L1_E18_s9_w...</td>\n",
       "      <td>specs935-v1-FA-P015090-U2OS-48h-P8-L1_E18_s9_w...</td>\n",
       "      <td>HDAC inhibitor</td>\n",
       "    </tr>\n",
       "  </tbody>\n",
       "</table>\n",
       "</div>"
      ],
      "text/plain": [
       "     plate well   compound                                               path  \\\n",
       "0  P015085  B22  CBK290770  /mnt/micro-images-pvc/specs935-v1/specs935-v1-...   \n",
       "1  P015099  I03  CBK309655  /mnt/micro-images-pvc/specs935-v1/specs935-v1-...   \n",
       "2  P015099  H21  CBK309040  /mnt/micro-images-pvc/specs935-v1/specs935-v1-...   \n",
       "3  P015099  F20  CBK200898  /mnt/micro-images-pvc/specs935-v1/specs935-v1-...   \n",
       "4  P015099  L04  CBK309538  /mnt/micro-images-pvc/specs935-v1/specs935-v1-...   \n",
       "5  P015098  L15  CBK309020  /mnt/micro-images-pvc/specs935-v1/specs935-v1-...   \n",
       "6  P015092  B08  CBK293875  /mnt/micro-images-pvc/specs935-v1/specs935-v1-...   \n",
       "7  P015084  N02  CBK291084  /mnt/micro-images-pvc/specs935-v1/specs935-v1-...   \n",
       "8  P015085  B12  CBK201011  /mnt/micro-images-pvc/specs935-v1/specs935-v1-...   \n",
       "9  P015090  E18  CBK277961  /mnt/micro-images-pvc/specs935-v1/specs935-v1-...   \n",
       "\n",
       "                                                  C1  \\\n",
       "0  specs935-v1-FA-P015085-U2OS-48h-P5-L2-test_B22...   \n",
       "1  specs935-v1-FA-P015099-U2OS-48h-P12-L2_I03_s4_...   \n",
       "2  specs935-v1-FA-P015099-U2OS-48h-P12-L2_H21_s4_...   \n",
       "3  specs935-v1-FA-P015099-U2OS-48h-P12-L2_F20_s7_...   \n",
       "4  specs935-v1-FA-P015099-U2OS-48h-P12-L2_L04_s4_...   \n",
       "5  specs935-v1-FA-P015098-U2OS-48h-P12-L1_L15_s3_...   \n",
       "6  specs935-v1-FA-P015092-U2OS-48h-P9-L1_B08_s1_w...   \n",
       "7  specs935-v1-FA-P015084-U2OS-48h-P5-L1_N02_s9_w...   \n",
       "8  specs935-v1-FA-P015085-U2OS-48h-P5-L2-test_B12...   \n",
       "9  specs935-v1-FA-P015090-U2OS-48h-P8-L1_E18_s9_w...   \n",
       "\n",
       "                                                  C2  \\\n",
       "0  specs935-v1-FA-P015085-U2OS-48h-P5-L2-test_B22...   \n",
       "1  specs935-v1-FA-P015099-U2OS-48h-P12-L2_I03_s4_...   \n",
       "2  specs935-v1-FA-P015099-U2OS-48h-P12-L2_H21_s4_...   \n",
       "3  specs935-v1-FA-P015099-U2OS-48h-P12-L2_F20_s7_...   \n",
       "4  specs935-v1-FA-P015099-U2OS-48h-P12-L2_L04_s4_...   \n",
       "5  specs935-v1-FA-P015098-U2OS-48h-P12-L1_L15_s3_...   \n",
       "6  specs935-v1-FA-P015092-U2OS-48h-P9-L1_B08_s1_w...   \n",
       "7  specs935-v1-FA-P015084-U2OS-48h-P5-L1_N02_s9_w...   \n",
       "8  specs935-v1-FA-P015085-U2OS-48h-P5-L2-test_B12...   \n",
       "9  specs935-v1-FA-P015090-U2OS-48h-P8-L1_E18_s9_w...   \n",
       "\n",
       "                                                  C3  \\\n",
       "0  specs935-v1-FA-P015085-U2OS-48h-P5-L2-test_B22...   \n",
       "1  specs935-v1-FA-P015099-U2OS-48h-P12-L2_I03_s4_...   \n",
       "2  specs935-v1-FA-P015099-U2OS-48h-P12-L2_H21_s4_...   \n",
       "3  specs935-v1-FA-P015099-U2OS-48h-P12-L2_F20_s7_...   \n",
       "4  specs935-v1-FA-P015099-U2OS-48h-P12-L2_L04_s4_...   \n",
       "5  specs935-v1-FA-P015098-U2OS-48h-P12-L1_L15_s3_...   \n",
       "6  specs935-v1-FA-P015092-U2OS-48h-P9-L1_B08_s1_w...   \n",
       "7  specs935-v1-FA-P015084-U2OS-48h-P5-L1_N02_s9_w...   \n",
       "8  specs935-v1-FA-P015085-U2OS-48h-P5-L2-test_B12...   \n",
       "9  specs935-v1-FA-P015090-U2OS-48h-P8-L1_E18_s9_w...   \n",
       "\n",
       "                                                  C4  \\\n",
       "0  specs935-v1-FA-P015085-U2OS-48h-P5-L2-test_B22...   \n",
       "1  specs935-v1-FA-P015099-U2OS-48h-P12-L2_I03_s4_...   \n",
       "2  specs935-v1-FA-P015099-U2OS-48h-P12-L2_H21_s4_...   \n",
       "3  specs935-v1-FA-P015099-U2OS-48h-P12-L2_F20_s7_...   \n",
       "4  specs935-v1-FA-P015099-U2OS-48h-P12-L2_L04_s4_...   \n",
       "5  specs935-v1-FA-P015098-U2OS-48h-P12-L1_L15_s3_...   \n",
       "6  specs935-v1-FA-P015092-U2OS-48h-P9-L1_B08_s1_w...   \n",
       "7  specs935-v1-FA-P015084-U2OS-48h-P5-L1_N02_s9_w...   \n",
       "8  specs935-v1-FA-P015085-U2OS-48h-P5-L2-test_B12...   \n",
       "9  specs935-v1-FA-P015090-U2OS-48h-P8-L1_E18_s9_w...   \n",
       "\n",
       "                                                  C5  \\\n",
       "0  specs935-v1-FA-P015085-U2OS-48h-P5-L2-test_B22...   \n",
       "1  specs935-v1-FA-P015099-U2OS-48h-P12-L2_I03_s4_...   \n",
       "2  specs935-v1-FA-P015099-U2OS-48h-P12-L2_H21_s4_...   \n",
       "3  specs935-v1-FA-P015099-U2OS-48h-P12-L2_F20_s7_...   \n",
       "4  specs935-v1-FA-P015099-U2OS-48h-P12-L2_L04_s4_...   \n",
       "5  specs935-v1-FA-P015098-U2OS-48h-P12-L1_L15_s3_...   \n",
       "6  specs935-v1-FA-P015092-U2OS-48h-P9-L1_B08_s1_w...   \n",
       "7  specs935-v1-FA-P015084-U2OS-48h-P5-L1_N02_s9_w...   \n",
       "8  specs935-v1-FA-P015085-U2OS-48h-P5-L2-test_B12...   \n",
       "9  specs935-v1-FA-P015090-U2OS-48h-P8-L1_E18_s9_w...   \n",
       "\n",
       "                                moa  \n",
       "0           Aurora kinase inhibitor  \n",
       "1           topoisomerase inhibitor  \n",
       "2           topoisomerase inhibitor  \n",
       "3  tubulin polymerization inhibitor  \n",
       "4       protein synthesis inhibitor  \n",
       "5           topoisomerase inhibitor  \n",
       "6                     JAK inhibitor  \n",
       "7                  ATPase inhibitor  \n",
       "8                  ATPase inhibitor  \n",
       "9                    HDAC inhibitor  "
      ]
     },
     "execution_count": 9,
     "metadata": {},
     "output_type": "execute_result"
    }
   ],
   "source": [
    "# drop random previous index in table above\n",
    "all_data.drop(all_data.columns[[0,11, 12]], axis=1, inplace=True) # Check that reading the data worked \n",
    "all_data.head(10)"
   ]
  },
  {
   "cell_type": "code",
   "execution_count": 10,
   "metadata": {},
   "outputs": [
    {
     "name": "stdout",
     "output_type": "stream",
     "text": [
      "12582\n",
      "12582\n"
     ]
    }
   ],
   "source": [
    "print(len(all_data))\n",
    "# Drop the lines with DMSO \n",
    "all_data = all_data[all_data.moa != 'dmso']\n",
    "assert 'dmso' not in all_data.values\n",
    "print(len(all_data))\n"
   ]
  },
  {
   "cell_type": "code",
   "execution_count": 11,
   "metadata": {},
   "outputs": [],
   "source": [
    "dictionary = {'ATPase inhibitor': 7, 'Aurora kinase inhibitor': 0,\n",
    " 'HDAC inhibitor': 4, 'HSP inhibitor': 9, 'JAK inhibitor': 2, 'PARP inhibitor': 6,\n",
    " 'protein synthesis inhibitor': 3, 'retinoid receptor agonist': 8,\n",
    " 'topoisomerase inhibitor': 5, 'tubulin polymerization inhibitor': 1}"
   ]
  },
  {
   "cell_type": "code",
   "execution_count": 12,
   "metadata": {},
   "outputs": [
    {
     "data": {
      "text/plain": [
       "10"
      ]
     },
     "execution_count": 12,
     "metadata": {},
     "output_type": "execute_result"
    }
   ],
   "source": [
    "num_classes = len(dictionary) \n",
    "num_classes"
   ]
  },
  {
   "cell_type": "code",
   "execution_count": 129,
   "metadata": {},
   "outputs": [
    {
     "data": {
      "text/plain": [
       "\"# change moa to classes \\nall_data['classes'] = None\\nfor i in range(all_data.shape[0]):\\n    all_data.iloc[i, 10] = dictionary[all_data.iloc[i, 9]]\\n# create dictionary for labels, using PyTorch\\n# creating tensor from all_data.df\\ntarget = torch.tensor(all_data['classes'].values.astype(np.int64))\\ntarget, target.shape\\ntarget_onehot = torch.zeros(target.shape[0], num_classes)\\ntarget_onehot.scatter_(1, target.unsqueeze(1), 1.0)\\n\\nlabels = {}\\nfor index,compound in zip(all_data.index.tolist(), target_onehot):\\n    labels[index] = compound\\n\\n\\nall_data['one_hot'] = None\\nfor i in range(all_data.shape[0]):\\n    all_data.iloc[i, 11] = labels[all_data.iloc[i, 10]]\""
      ]
     },
     "execution_count": 129,
     "metadata": {},
     "output_type": "execute_result"
    }
   ],
   "source": [
    "'''# change moa to classes \n",
    "all_data['classes'] = None\n",
    "for i in range(all_data.shape[0]):\n",
    "    all_data.iloc[i, 10] = dictionary[all_data.iloc[i, 9]]\n",
    "# create dictionary for labels, using PyTorch\n",
    "# creating tensor from all_data.df\n",
    "target = torch.tensor(all_data['classes'].values.astype(np.int64))\n",
    "target, target.shape\n",
    "target_onehot = torch.zeros(target.shape[0], num_classes)\n",
    "target_onehot.scatter_(1, target.unsqueeze(1), 1.0)\n",
    "\n",
    "labels = {}\n",
    "for index,compound in zip(all_data.index.tolist(), target_onehot):\n",
    "    labels[index] = compound\n",
    "\n",
    "\n",
    "all_data['one_hot'] = None\n",
    "for i in range(all_data.shape[0]):\n",
    "    all_data.iloc[i, 11] = labels[all_data.iloc[i, 10]]'''"
   ]
  },
  {
   "cell_type": "code",
   "execution_count": 130,
   "metadata": {},
   "outputs": [
    {
     "data": {
      "text/html": [
       "<div>\n",
       "<style scoped>\n",
       "    .dataframe tbody tr th:only-of-type {\n",
       "        vertical-align: middle;\n",
       "    }\n",
       "\n",
       "    .dataframe tbody tr th {\n",
       "        vertical-align: top;\n",
       "    }\n",
       "\n",
       "    .dataframe thead th {\n",
       "        text-align: right;\n",
       "    }\n",
       "</style>\n",
       "<table border=\"1\" class=\"dataframe\">\n",
       "  <thead>\n",
       "    <tr style=\"text-align: right;\">\n",
       "      <th></th>\n",
       "      <th>plate</th>\n",
       "      <th>well</th>\n",
       "      <th>compound</th>\n",
       "      <th>path</th>\n",
       "      <th>C1</th>\n",
       "      <th>C2</th>\n",
       "      <th>C3</th>\n",
       "      <th>C4</th>\n",
       "      <th>C5</th>\n",
       "      <th>moa</th>\n",
       "    </tr>\n",
       "  </thead>\n",
       "  <tbody>\n",
       "    <tr>\n",
       "      <th>0</th>\n",
       "      <td>P015085</td>\n",
       "      <td>B22</td>\n",
       "      <td>CBK290770</td>\n",
       "      <td>/mnt/micro-images-pvc/specs935-v1/specs935-v1-...</td>\n",
       "      <td>specs935-v1-FA-P015085-U2OS-48h-P5-L2-test_B22...</td>\n",
       "      <td>specs935-v1-FA-P015085-U2OS-48h-P5-L2-test_B22...</td>\n",
       "      <td>specs935-v1-FA-P015085-U2OS-48h-P5-L2-test_B22...</td>\n",
       "      <td>specs935-v1-FA-P015085-U2OS-48h-P5-L2-test_B22...</td>\n",
       "      <td>specs935-v1-FA-P015085-U2OS-48h-P5-L2-test_B22...</td>\n",
       "      <td>Aurora kinase inhibitor</td>\n",
       "    </tr>\n",
       "    <tr>\n",
       "      <th>1</th>\n",
       "      <td>P015099</td>\n",
       "      <td>I03</td>\n",
       "      <td>CBK309655</td>\n",
       "      <td>/mnt/micro-images-pvc/specs935-v1/specs935-v1-...</td>\n",
       "      <td>specs935-v1-FA-P015099-U2OS-48h-P12-L2_I03_s4_...</td>\n",
       "      <td>specs935-v1-FA-P015099-U2OS-48h-P12-L2_I03_s4_...</td>\n",
       "      <td>specs935-v1-FA-P015099-U2OS-48h-P12-L2_I03_s4_...</td>\n",
       "      <td>specs935-v1-FA-P015099-U2OS-48h-P12-L2_I03_s4_...</td>\n",
       "      <td>specs935-v1-FA-P015099-U2OS-48h-P12-L2_I03_s4_...</td>\n",
       "      <td>topoisomerase inhibitor</td>\n",
       "    </tr>\n",
       "    <tr>\n",
       "      <th>2</th>\n",
       "      <td>P015099</td>\n",
       "      <td>H21</td>\n",
       "      <td>CBK309040</td>\n",
       "      <td>/mnt/micro-images-pvc/specs935-v1/specs935-v1-...</td>\n",
       "      <td>specs935-v1-FA-P015099-U2OS-48h-P12-L2_H21_s4_...</td>\n",
       "      <td>specs935-v1-FA-P015099-U2OS-48h-P12-L2_H21_s4_...</td>\n",
       "      <td>specs935-v1-FA-P015099-U2OS-48h-P12-L2_H21_s4_...</td>\n",
       "      <td>specs935-v1-FA-P015099-U2OS-48h-P12-L2_H21_s4_...</td>\n",
       "      <td>specs935-v1-FA-P015099-U2OS-48h-P12-L2_H21_s4_...</td>\n",
       "      <td>topoisomerase inhibitor</td>\n",
       "    </tr>\n",
       "    <tr>\n",
       "      <th>3</th>\n",
       "      <td>P015099</td>\n",
       "      <td>F20</td>\n",
       "      <td>CBK200898</td>\n",
       "      <td>/mnt/micro-images-pvc/specs935-v1/specs935-v1-...</td>\n",
       "      <td>specs935-v1-FA-P015099-U2OS-48h-P12-L2_F20_s7_...</td>\n",
       "      <td>specs935-v1-FA-P015099-U2OS-48h-P12-L2_F20_s7_...</td>\n",
       "      <td>specs935-v1-FA-P015099-U2OS-48h-P12-L2_F20_s7_...</td>\n",
       "      <td>specs935-v1-FA-P015099-U2OS-48h-P12-L2_F20_s7_...</td>\n",
       "      <td>specs935-v1-FA-P015099-U2OS-48h-P12-L2_F20_s7_...</td>\n",
       "      <td>tubulin polymerization inhibitor</td>\n",
       "    </tr>\n",
       "    <tr>\n",
       "      <th>4</th>\n",
       "      <td>P015099</td>\n",
       "      <td>L04</td>\n",
       "      <td>CBK309538</td>\n",
       "      <td>/mnt/micro-images-pvc/specs935-v1/specs935-v1-...</td>\n",
       "      <td>specs935-v1-FA-P015099-U2OS-48h-P12-L2_L04_s4_...</td>\n",
       "      <td>specs935-v1-FA-P015099-U2OS-48h-P12-L2_L04_s4_...</td>\n",
       "      <td>specs935-v1-FA-P015099-U2OS-48h-P12-L2_L04_s4_...</td>\n",
       "      <td>specs935-v1-FA-P015099-U2OS-48h-P12-L2_L04_s4_...</td>\n",
       "      <td>specs935-v1-FA-P015099-U2OS-48h-P12-L2_L04_s4_...</td>\n",
       "      <td>protein synthesis inhibitor</td>\n",
       "    </tr>\n",
       "    <tr>\n",
       "      <th>...</th>\n",
       "      <td>...</td>\n",
       "      <td>...</td>\n",
       "      <td>...</td>\n",
       "      <td>...</td>\n",
       "      <td>...</td>\n",
       "      <td>...</td>\n",
       "      <td>...</td>\n",
       "      <td>...</td>\n",
       "      <td>...</td>\n",
       "      <td>...</td>\n",
       "    </tr>\n",
       "    <tr>\n",
       "      <th>12577</th>\n",
       "      <td>P015094</td>\n",
       "      <td>M21</td>\n",
       "      <td>CBK277970</td>\n",
       "      <td>/mnt/micro-images-pvc/specs935-v1/specs935-v1-...</td>\n",
       "      <td>specs935-v1-FA-P015094-U2OS-48h-P10-L1_M21_s3_...</td>\n",
       "      <td>specs935-v1-FA-P015094-U2OS-48h-P10-L1_M21_s3_...</td>\n",
       "      <td>specs935-v1-FA-P015094-U2OS-48h-P10-L1_M21_s3_...</td>\n",
       "      <td>specs935-v1-FA-P015094-U2OS-48h-P10-L1_M21_s3_...</td>\n",
       "      <td>specs935-v1-FA-P015094-U2OS-48h-P10-L1_M21_s3_...</td>\n",
       "      <td>PARP inhibitor</td>\n",
       "    </tr>\n",
       "    <tr>\n",
       "      <th>12578</th>\n",
       "      <td>P015084</td>\n",
       "      <td>O03</td>\n",
       "      <td>CBK290801</td>\n",
       "      <td>/mnt/micro-images-pvc/specs935-v1/specs935-v1-...</td>\n",
       "      <td>specs935-v1-FA-P015084-U2OS-48h-P5-L1_O03_s6_w...</td>\n",
       "      <td>specs935-v1-FA-P015084-U2OS-48h-P5-L1_O03_s6_w...</td>\n",
       "      <td>specs935-v1-FA-P015084-U2OS-48h-P5-L1_O03_s6_w...</td>\n",
       "      <td>specs935-v1-FA-P015084-U2OS-48h-P5-L1_O03_s6_w...</td>\n",
       "      <td>specs935-v1-FA-P015084-U2OS-48h-P5-L1_O03_s6_w...</td>\n",
       "      <td>Aurora kinase inhibitor</td>\n",
       "    </tr>\n",
       "    <tr>\n",
       "      <th>12579</th>\n",
       "      <td>P015095</td>\n",
       "      <td>D20</td>\n",
       "      <td>CBK290205</td>\n",
       "      <td>/mnt/micro-images-pvc/specs935-v1/specs935-v1-...</td>\n",
       "      <td>specs935-v1-FA-P015095-U2OS-48h-P10-L2_D20_s9_...</td>\n",
       "      <td>specs935-v1-FA-P015095-U2OS-48h-P10-L2_D20_s9_...</td>\n",
       "      <td>specs935-v1-FA-P015095-U2OS-48h-P10-L2_D20_s9_...</td>\n",
       "      <td>specs935-v1-FA-P015095-U2OS-48h-P10-L2_D20_s9_...</td>\n",
       "      <td>specs935-v1-FA-P015095-U2OS-48h-P10-L2_D20_s9_...</td>\n",
       "      <td>PARP inhibitor</td>\n",
       "    </tr>\n",
       "    <tr>\n",
       "      <th>12580</th>\n",
       "      <td>P015099</td>\n",
       "      <td>E06</td>\n",
       "      <td>CBK309049</td>\n",
       "      <td>/mnt/micro-images-pvc/specs935-v1/specs935-v1-...</td>\n",
       "      <td>specs935-v1-FA-P015099-U2OS-48h-P12-L2_E06_s5_...</td>\n",
       "      <td>specs935-v1-FA-P015099-U2OS-48h-P12-L2_E06_s5_...</td>\n",
       "      <td>specs935-v1-FA-P015099-U2OS-48h-P12-L2_E06_s5_...</td>\n",
       "      <td>specs935-v1-FA-P015099-U2OS-48h-P12-L2_E06_s5_...</td>\n",
       "      <td>specs935-v1-FA-P015099-U2OS-48h-P12-L2_E06_s5_...</td>\n",
       "      <td>retinoid receptor agonist</td>\n",
       "    </tr>\n",
       "    <tr>\n",
       "      <th>12581</th>\n",
       "      <td>P015084</td>\n",
       "      <td>B05</td>\n",
       "      <td>CBK006628</td>\n",
       "      <td>/mnt/micro-images-pvc/specs935-v1/specs935-v1-...</td>\n",
       "      <td>specs935-v1-FA-P015084-U2OS-48h-P5-L1_B05_s2_w...</td>\n",
       "      <td>specs935-v1-FA-P015084-U2OS-48h-P5-L1_B05_s2_w...</td>\n",
       "      <td>specs935-v1-FA-P015084-U2OS-48h-P5-L1_B05_s2_w...</td>\n",
       "      <td>specs935-v1-FA-P015084-U2OS-48h-P5-L1_B05_s2_w...</td>\n",
       "      <td>specs935-v1-FA-P015084-U2OS-48h-P5-L1_B05_s2_w...</td>\n",
       "      <td>ATPase inhibitor</td>\n",
       "    </tr>\n",
       "  </tbody>\n",
       "</table>\n",
       "<p>12582 rows × 10 columns</p>\n",
       "</div>"
      ],
      "text/plain": [
       "         plate well   compound  \\\n",
       "0      P015085  B22  CBK290770   \n",
       "1      P015099  I03  CBK309655   \n",
       "2      P015099  H21  CBK309040   \n",
       "3      P015099  F20  CBK200898   \n",
       "4      P015099  L04  CBK309538   \n",
       "...        ...  ...        ...   \n",
       "12577  P015094  M21  CBK277970   \n",
       "12578  P015084  O03  CBK290801   \n",
       "12579  P015095  D20  CBK290205   \n",
       "12580  P015099  E06  CBK309049   \n",
       "12581  P015084  B05  CBK006628   \n",
       "\n",
       "                                                    path  \\\n",
       "0      /mnt/micro-images-pvc/specs935-v1/specs935-v1-...   \n",
       "1      /mnt/micro-images-pvc/specs935-v1/specs935-v1-...   \n",
       "2      /mnt/micro-images-pvc/specs935-v1/specs935-v1-...   \n",
       "3      /mnt/micro-images-pvc/specs935-v1/specs935-v1-...   \n",
       "4      /mnt/micro-images-pvc/specs935-v1/specs935-v1-...   \n",
       "...                                                  ...   \n",
       "12577  /mnt/micro-images-pvc/specs935-v1/specs935-v1-...   \n",
       "12578  /mnt/micro-images-pvc/specs935-v1/specs935-v1-...   \n",
       "12579  /mnt/micro-images-pvc/specs935-v1/specs935-v1-...   \n",
       "12580  /mnt/micro-images-pvc/specs935-v1/specs935-v1-...   \n",
       "12581  /mnt/micro-images-pvc/specs935-v1/specs935-v1-...   \n",
       "\n",
       "                                                      C1  \\\n",
       "0      specs935-v1-FA-P015085-U2OS-48h-P5-L2-test_B22...   \n",
       "1      specs935-v1-FA-P015099-U2OS-48h-P12-L2_I03_s4_...   \n",
       "2      specs935-v1-FA-P015099-U2OS-48h-P12-L2_H21_s4_...   \n",
       "3      specs935-v1-FA-P015099-U2OS-48h-P12-L2_F20_s7_...   \n",
       "4      specs935-v1-FA-P015099-U2OS-48h-P12-L2_L04_s4_...   \n",
       "...                                                  ...   \n",
       "12577  specs935-v1-FA-P015094-U2OS-48h-P10-L1_M21_s3_...   \n",
       "12578  specs935-v1-FA-P015084-U2OS-48h-P5-L1_O03_s6_w...   \n",
       "12579  specs935-v1-FA-P015095-U2OS-48h-P10-L2_D20_s9_...   \n",
       "12580  specs935-v1-FA-P015099-U2OS-48h-P12-L2_E06_s5_...   \n",
       "12581  specs935-v1-FA-P015084-U2OS-48h-P5-L1_B05_s2_w...   \n",
       "\n",
       "                                                      C2  \\\n",
       "0      specs935-v1-FA-P015085-U2OS-48h-P5-L2-test_B22...   \n",
       "1      specs935-v1-FA-P015099-U2OS-48h-P12-L2_I03_s4_...   \n",
       "2      specs935-v1-FA-P015099-U2OS-48h-P12-L2_H21_s4_...   \n",
       "3      specs935-v1-FA-P015099-U2OS-48h-P12-L2_F20_s7_...   \n",
       "4      specs935-v1-FA-P015099-U2OS-48h-P12-L2_L04_s4_...   \n",
       "...                                                  ...   \n",
       "12577  specs935-v1-FA-P015094-U2OS-48h-P10-L1_M21_s3_...   \n",
       "12578  specs935-v1-FA-P015084-U2OS-48h-P5-L1_O03_s6_w...   \n",
       "12579  specs935-v1-FA-P015095-U2OS-48h-P10-L2_D20_s9_...   \n",
       "12580  specs935-v1-FA-P015099-U2OS-48h-P12-L2_E06_s5_...   \n",
       "12581  specs935-v1-FA-P015084-U2OS-48h-P5-L1_B05_s2_w...   \n",
       "\n",
       "                                                      C3  \\\n",
       "0      specs935-v1-FA-P015085-U2OS-48h-P5-L2-test_B22...   \n",
       "1      specs935-v1-FA-P015099-U2OS-48h-P12-L2_I03_s4_...   \n",
       "2      specs935-v1-FA-P015099-U2OS-48h-P12-L2_H21_s4_...   \n",
       "3      specs935-v1-FA-P015099-U2OS-48h-P12-L2_F20_s7_...   \n",
       "4      specs935-v1-FA-P015099-U2OS-48h-P12-L2_L04_s4_...   \n",
       "...                                                  ...   \n",
       "12577  specs935-v1-FA-P015094-U2OS-48h-P10-L1_M21_s3_...   \n",
       "12578  specs935-v1-FA-P015084-U2OS-48h-P5-L1_O03_s6_w...   \n",
       "12579  specs935-v1-FA-P015095-U2OS-48h-P10-L2_D20_s9_...   \n",
       "12580  specs935-v1-FA-P015099-U2OS-48h-P12-L2_E06_s5_...   \n",
       "12581  specs935-v1-FA-P015084-U2OS-48h-P5-L1_B05_s2_w...   \n",
       "\n",
       "                                                      C4  \\\n",
       "0      specs935-v1-FA-P015085-U2OS-48h-P5-L2-test_B22...   \n",
       "1      specs935-v1-FA-P015099-U2OS-48h-P12-L2_I03_s4_...   \n",
       "2      specs935-v1-FA-P015099-U2OS-48h-P12-L2_H21_s4_...   \n",
       "3      specs935-v1-FA-P015099-U2OS-48h-P12-L2_F20_s7_...   \n",
       "4      specs935-v1-FA-P015099-U2OS-48h-P12-L2_L04_s4_...   \n",
       "...                                                  ...   \n",
       "12577  specs935-v1-FA-P015094-U2OS-48h-P10-L1_M21_s3_...   \n",
       "12578  specs935-v1-FA-P015084-U2OS-48h-P5-L1_O03_s6_w...   \n",
       "12579  specs935-v1-FA-P015095-U2OS-48h-P10-L2_D20_s9_...   \n",
       "12580  specs935-v1-FA-P015099-U2OS-48h-P12-L2_E06_s5_...   \n",
       "12581  specs935-v1-FA-P015084-U2OS-48h-P5-L1_B05_s2_w...   \n",
       "\n",
       "                                                      C5  \\\n",
       "0      specs935-v1-FA-P015085-U2OS-48h-P5-L2-test_B22...   \n",
       "1      specs935-v1-FA-P015099-U2OS-48h-P12-L2_I03_s4_...   \n",
       "2      specs935-v1-FA-P015099-U2OS-48h-P12-L2_H21_s4_...   \n",
       "3      specs935-v1-FA-P015099-U2OS-48h-P12-L2_F20_s7_...   \n",
       "4      specs935-v1-FA-P015099-U2OS-48h-P12-L2_L04_s4_...   \n",
       "...                                                  ...   \n",
       "12577  specs935-v1-FA-P015094-U2OS-48h-P10-L1_M21_s3_...   \n",
       "12578  specs935-v1-FA-P015084-U2OS-48h-P5-L1_O03_s6_w...   \n",
       "12579  specs935-v1-FA-P015095-U2OS-48h-P10-L2_D20_s9_...   \n",
       "12580  specs935-v1-FA-P015099-U2OS-48h-P12-L2_E06_s5_...   \n",
       "12581  specs935-v1-FA-P015084-U2OS-48h-P5-L1_B05_s2_w...   \n",
       "\n",
       "                                    moa  \n",
       "0               Aurora kinase inhibitor  \n",
       "1               topoisomerase inhibitor  \n",
       "2               topoisomerase inhibitor  \n",
       "3      tubulin polymerization inhibitor  \n",
       "4           protein synthesis inhibitor  \n",
       "...                                 ...  \n",
       "12577                    PARP inhibitor  \n",
       "12578           Aurora kinase inhibitor  \n",
       "12579                    PARP inhibitor  \n",
       "12580         retinoid receptor agonist  \n",
       "12581                  ATPase inhibitor  \n",
       "\n",
       "[12582 rows x 10 columns]"
      ]
     },
     "execution_count": 130,
     "metadata": {},
     "output_type": "execute_result"
    }
   ],
   "source": [
    "all_data"
   ]
  },
  {
   "cell_type": "code",
   "execution_count": 13,
   "metadata": {},
   "outputs": [],
   "source": [
    "# get the compound-MoA pair \n",
    "compound_moa = all_data.drop_duplicates(subset = ['compound']).reset_index()\n",
    "compound_moa = compound_moa[[\"compound\", \"moa\"]]"
   ]
  },
  {
   "cell_type": "code",
   "execution_count": 14,
   "metadata": {},
   "outputs": [
    {
     "data": {
      "text/html": [
       "<div>\n",
       "<style scoped>\n",
       "    .dataframe tbody tr th:only-of-type {\n",
       "        vertical-align: middle;\n",
       "    }\n",
       "\n",
       "    .dataframe tbody tr th {\n",
       "        vertical-align: top;\n",
       "    }\n",
       "\n",
       "    .dataframe thead th {\n",
       "        text-align: right;\n",
       "    }\n",
       "</style>\n",
       "<table border=\"1\" class=\"dataframe\">\n",
       "  <thead>\n",
       "    <tr style=\"text-align: right;\">\n",
       "      <th></th>\n",
       "      <th>compound</th>\n",
       "      <th>moa</th>\n",
       "    </tr>\n",
       "  </thead>\n",
       "  <tbody>\n",
       "    <tr>\n",
       "      <th>0</th>\n",
       "      <td>CBK290770</td>\n",
       "      <td>Aurora kinase inhibitor</td>\n",
       "    </tr>\n",
       "    <tr>\n",
       "      <th>1</th>\n",
       "      <td>CBK309655</td>\n",
       "      <td>topoisomerase inhibitor</td>\n",
       "    </tr>\n",
       "    <tr>\n",
       "      <th>2</th>\n",
       "      <td>CBK309040</td>\n",
       "      <td>topoisomerase inhibitor</td>\n",
       "    </tr>\n",
       "    <tr>\n",
       "      <th>3</th>\n",
       "      <td>CBK200898</td>\n",
       "      <td>tubulin polymerization inhibitor</td>\n",
       "    </tr>\n",
       "    <tr>\n",
       "      <th>4</th>\n",
       "      <td>CBK309538</td>\n",
       "      <td>protein synthesis inhibitor</td>\n",
       "    </tr>\n",
       "    <tr>\n",
       "      <th>...</th>\n",
       "      <td>...</td>\n",
       "      <td>...</td>\n",
       "    </tr>\n",
       "    <tr>\n",
       "      <th>226</th>\n",
       "      <td>CBK290181</td>\n",
       "      <td>HSP inhibitor</td>\n",
       "    </tr>\n",
       "    <tr>\n",
       "      <th>227</th>\n",
       "      <td>CBK309437</td>\n",
       "      <td>tubulin polymerization inhibitor</td>\n",
       "    </tr>\n",
       "    <tr>\n",
       "      <th>228</th>\n",
       "      <td>CBK308723</td>\n",
       "      <td>PARP inhibitor</td>\n",
       "    </tr>\n",
       "    <tr>\n",
       "      <th>229</th>\n",
       "      <td>CBK290012</td>\n",
       "      <td>retinoid receptor agonist</td>\n",
       "    </tr>\n",
       "    <tr>\n",
       "      <th>230</th>\n",
       "      <td>CBK016139</td>\n",
       "      <td>tubulin polymerization inhibitor</td>\n",
       "    </tr>\n",
       "  </tbody>\n",
       "</table>\n",
       "<p>231 rows × 2 columns</p>\n",
       "</div>"
      ],
      "text/plain": [
       "      compound                               moa\n",
       "0    CBK290770           Aurora kinase inhibitor\n",
       "1    CBK309655           topoisomerase inhibitor\n",
       "2    CBK309040           topoisomerase inhibitor\n",
       "3    CBK200898  tubulin polymerization inhibitor\n",
       "4    CBK309538       protein synthesis inhibitor\n",
       "..         ...                               ...\n",
       "226  CBK290181                     HSP inhibitor\n",
       "227  CBK309437  tubulin polymerization inhibitor\n",
       "228  CBK308723                    PARP inhibitor\n",
       "229  CBK290012         retinoid receptor agonist\n",
       "230  CBK016139  tubulin polymerization inhibitor\n",
       "\n",
       "[231 rows x 2 columns]"
      ]
     },
     "execution_count": 14,
     "metadata": {},
     "output_type": "execute_result"
    }
   ],
   "source": [
    "compound_moa"
   ]
  },
  {
   "cell_type": "code",
   "execution_count": 15,
   "metadata": {},
   "outputs": [],
   "source": [
    "# got to put the labels into the same array as compounds_moa in order for the indexing to work. Biggest problem is I only have\n",
    "# have 250 compounds to train, not 120000, which probabilty artificially gives a bunch of extra compounds I don't have"
   ]
  },
  {
   "cell_type": "code",
   "execution_count": 16,
   "metadata": {},
   "outputs": [],
   "source": [
    "# change moa to classes \n",
    "compound_moa['classes'] = None\n",
    "for i in range(compound_moa.shape[0]):\n",
    "    compound_moa.iloc[i, 2] =dictionary[compound_moa.iloc[i, 1]] \n",
    "# create dictionary for labels, using PyTorch\n",
    "# creating tensor from all_data.df\n",
    "target = torch.tensor(compound_moa['classes'].values.astype(np.int64))\n",
    "target, target.shape\n",
    "target_onehot = torch.zeros(target.shape[0], num_classes)\n",
    "target_onehot.scatter_(1, target.unsqueeze(1), 1.0)\n",
    "\n",
    "labels = {}\n",
    "for index,compound in zip(all_data.index.tolist(), target_onehot):\n",
    "    labels[index] = compound\n",
    "#print(compound_moa.iloc[3,2])"
   ]
  },
  {
   "cell_type": "code",
   "execution_count": 17,
   "metadata": {},
   "outputs": [],
   "source": [
    "# split dataset into test and training/validation sets (10-90 split)\n",
    "compound_train_valid, compound_test, moa_train_valid, moa_test = train_test_split(\n",
    "  compound_moa.compound, compound_moa.moa, test_size = 0.10, stratify = compound_moa.moa, \n",
    "  shuffle = True, random_state = 1)"
   ]
  },
  {
   "cell_type": "code",
   "execution_count": 18,
   "metadata": {},
   "outputs": [
    {
     "data": {
      "text/plain": [
       "227    CBK309437\n",
       "49     CBK308652\n",
       "6      CBK293875\n",
       "100    CBK290613\n",
       "43     CBK289760\n",
       "         ...    \n",
       "117    CBK309523\n",
       "208    CBK293886\n",
       "162    CBK290205\n",
       "0      CBK290770\n",
       "79     CBK278729\n",
       "Name: compound, Length: 207, dtype: object"
      ]
     },
     "execution_count": 18,
     "metadata": {},
     "output_type": "execute_result"
    }
   ],
   "source": [
    "compound_train_valid"
   ]
  },
  {
   "cell_type": "code",
   "execution_count": 19,
   "metadata": {},
   "outputs": [],
   "source": [
    "# Split data set into training and validation sets (1 to 9)\n",
    "# Same as above, but does split of only training data into training and validation data (in order to take advantage of stratification parameter)\n",
    "compound_train, compound_valid, moa_train, moa_valid = train_test_split(\n",
    "  compound_train_valid, moa_train_valid, test_size = 10/90, stratify = moa_train_valid,\n",
    "  shuffle = True, random_state = 62757)"
   ]
  },
  {
   "cell_type": "code",
   "execution_count": 20,
   "metadata": {},
   "outputs": [
    {
     "data": {
      "text/plain": [
       "' Explanation\\nreset_index = create new index starting from zero \\ndrop: drop previous index.\\n'"
      ]
     },
     "execution_count": 20,
     "metadata": {},
     "output_type": "execute_result"
    }
   ],
   "source": [
    "# get the train, valid and test set by for every compound in data set, if it is in train, valid or test, return all info from all_data in new df.\n",
    "train = all_data[all_data['compound'].isin(compound_train)]\n",
    "valid = all_data[all_data['compound'].isin(compound_valid)]\n",
    "# test  = all_data[all_data['compound'].isin(compound_test)]\n",
    "''' Explanation\n",
    "reset_index = create new index starting from zero \n",
    "drop: drop previous index.\n",
    "'''"
   ]
  },
  {
   "cell_type": "code",
   "execution_count": 21,
   "metadata": {},
   "outputs": [],
   "source": [
    "# create dictionary for parition\n",
    "partition = {\"train\": [], \"valid\": [], \"test\": []}\n",
    "\n",
    "train = compound_train.index.tolist()\n",
    "valid = compound_valid.index.tolist()\n",
    "test = compound_test.index.tolist()\n",
    "\n",
    "# place index into correct bin\n",
    "for index in compound_moa.index.tolist():\n",
    "#for index in compound_moa.index.tolist():\n",
    "    if index in train:\n",
    "        partition[\"train\"] = train\n",
    "    elif index in valid:\n",
    "        partition[\"valid\"]   = valid\n",
    "    else:\n",
    "        partition[\"test\"]  = test\n",
    "        "
   ]
  },
  {
   "cell_type": "code",
   "execution_count": 22,
   "metadata": {},
   "outputs": [],
   "source": [
    "# FUck this was dumb. "
   ]
  },
  {
   "cell_type": "code",
   "execution_count": 23,
   "metadata": {},
   "outputs": [
    {
     "name": "stdout",
     "output_type": "stream",
     "text": [
      "[38, 52, 30, 41, 26, 194, 147, 73, 17, 215, 29, 114, 212, 131, 85, 142, 36, 74, 124, 167, 146, 143, 86, 201, 89, 107, 149, 126, 229, 25, 18, 44, 158, 3, 179, 14, 98, 1, 136, 88, 125, 160, 24, 163, 122, 59, 106, 220, 157, 63, 175, 230, 54, 195, 208, 190, 207, 67, 141, 169, 164, 112, 110, 11, 42, 165, 217, 214, 170, 93, 182, 221, 57, 178, 223, 204, 71, 28, 33, 172, 91, 101, 166, 5, 64, 27, 102, 12, 69, 151, 113, 228, 197, 87, 19, 135, 117, 82, 189, 211, 218, 45, 21, 79, 43, 192, 198, 47, 7, 200, 51, 84, 34, 138, 145, 115, 68, 81, 120, 186, 219, 103, 94, 56, 80, 161, 6, 70, 130, 202, 121, 137, 133, 132, 140, 109, 171, 205, 216, 75, 48, 62, 61, 15, 139, 123, 60, 150, 95, 72, 191, 104, 4, 31, 0, 177, 224, 153, 50, 210, 58, 188, 209, 90, 199, 213, 76, 49, 174, 162, 222, 16, 39, 78, 187, 83, 226, 55, 2, 134, 185, 100, 32, 108]\n"
     ]
    },
    {
     "data": {
      "text/plain": [
       "[184,\n",
       " 66,\n",
       " 20,\n",
       " 176,\n",
       " 144,\n",
       " 183,\n",
       " 181,\n",
       " 8,\n",
       " 225,\n",
       " 37,\n",
       " 152,\n",
       " 99,\n",
       " 46,\n",
       " 155,\n",
       " 111,\n",
       " 40,\n",
       " 168,\n",
       " 13,\n",
       " 203,\n",
       " 148,\n",
       " 159,\n",
       " 227,\n",
       " 53]"
      ]
     },
     "execution_count": 23,
     "metadata": {},
     "output_type": "execute_result"
    }
   ],
   "source": [
    "print( partition[\"train\"])\n",
    "partition[\"valid\"]"
   ]
  },
  {
   "cell_type": "code",
   "execution_count": 24,
   "metadata": {},
   "outputs": [
    {
     "data": {
      "text/plain": [
       "'# create dictionary for parition\\npartition = {\"train\": [], \"valid\": [], \"test\": []}\\n\\n# create lists with indexes in splits\\ntr_list = train.index.tolist()\\nva_list = valid.index.tolist()\\n\\n# place index into correct bin\\nfor index in all_data.index.tolist():\\n#for index in compound_moa.index.tolist():\\n    if index in tr_list:\\n        partition[\"train\"] += [index]\\n    elif index in va_list:\\n        partition[\"valid\"]   += [index]\\n    else:\\n        partition[\"test\"]  += [index]'"
      ]
     },
     "execution_count": 24,
     "metadata": {},
     "output_type": "execute_result"
    }
   ],
   "source": [
    "'''# create dictionary for parition\n",
    "partition = {\"train\": [], \"valid\": [], \"test\": []}\n",
    "\n",
    "# create lists with indexes in splits\n",
    "tr_list = train.index.tolist()\n",
    "va_list = valid.index.tolist()\n",
    "\n",
    "# place index into correct bin\n",
    "for index in all_data.index.tolist():\n",
    "#for index in compound_moa.index.tolist():\n",
    "    if index in tr_list:\n",
    "        partition[\"train\"] += [index]\n",
    "    elif index in va_list:\n",
    "        partition[\"valid\"]   += [index]\n",
    "    else:\n",
    "        partition[\"test\"]  += [index]'''"
   ]
  },
  {
   "cell_type": "code",
   "execution_count": 25,
   "metadata": {},
   "outputs": [
    {
     "data": {
      "text/plain": [
       "'# create dictionary for labels, using PyTorch\\nlabels = {}\\nfor index,compound in zip(compound_moa.index.tolist(), target_onehot):\\n    labels[index] = compound'"
      ]
     },
     "execution_count": 25,
     "metadata": {},
     "output_type": "execute_result"
    }
   ],
   "source": [
    "'''# create dictionary for labels, using PyTorch\n",
    "labels = {}\n",
    "for index,compound in zip(compound_moa.index.tolist(), target_onehot):\n",
    "    labels[index] = compound'''"
   ]
  },
  {
   "cell_type": "code",
   "execution_count": 26,
   "metadata": {},
   "outputs": [
    {
     "data": {
      "text/plain": [
       "'# create dictionary for labels, using PyTorch\\nall_data[\\'hot_encoded\\'] = None\\nfor i in range(0, len(all_data.index.tolist())):\\n    all_data.iloc[i, 11] = labels[i]\\n#for index,compound in zip(all_data.index.tolist(), target_onehot):\\n#    labels[index] = compounew\\nall_data.head()\\n#all_data[0:10, [\"classes\", \"hot_encoded\"]]\\nprint(all_data.iloc[ 1:20, 10:12])'"
      ]
     },
     "execution_count": 26,
     "metadata": {},
     "output_type": "execute_result"
    }
   ],
   "source": [
    "'''# create dictionary for labels, using PyTorch\n",
    "all_data['hot_encoded'] = None\n",
    "for i in range(0, len(all_data.index.tolist())):\n",
    "    all_data.iloc[i, 11] = labels[i]\n",
    "#for index,compound in zip(all_data.index.tolist(), target_onehot):\n",
    "#    labels[index] = compounew\n",
    "all_data.head()\n",
    "#all_data[0:10, [\"classes\", \"hot_encoded\"]]\n",
    "print(all_data.iloc[ 1:20, 10:12])'''"
   ]
  },
  {
   "cell_type": "code",
   "execution_count": null,
   "metadata": {},
   "outputs": [],
   "source": [
    "batch_size = 200\n",
    "# parameters\n",
    "params = {'batch_size' : 200,\n",
    "         'num_workers' : 3,\n",
    "         'shuffle' : True,\n",
    "         'prefetch_factor' : 1} \n",
    "          \n",
    "# shuffle isn't working\n",
    "\n",
    "# Datasets\n",
    "#partition = partition\n",
    "#labels = labels\n",
    "\n",
    "# maxepochs\n",
    "max_epochs = 500"
   ]
  },
  {
   "cell_type": "code",
   "execution_count": null,
   "metadata": {},
   "outputs": [],
   "source": [
    "device = (torch.device('cuda') if torch.cuda.is_available() else torch.device('cpu'))\n",
    "#device = torch.device('cpu')\n",
    "print(f'Training on device {device}. ' )"
   ]
  },
  {
   "cell_type": "code",
   "execution_count": null,
   "metadata": {},
   "outputs": [],
   "source": [
    "# A function changing SMILES to Morgan fingerprints \n",
    "def smiles_to_array(smiles):\n",
    "    molecules = Chem.MolFromSmiles(smiles) \n",
    "    fingerprints = AllChem.GetMorganFingerprintAsBitVect(molecules, 2)\n",
    "    x_array = []\n",
    "    arrays = np.zeros(0,)\n",
    "    DataStructs.ConvertToNumpyArray(fingerprints, arrays)\n",
    "    x_array.append(arrays)\n",
    "    x_array = np.asarray(x_array)\n",
    "    x_array = ((np.squeeze(x_array)).astype(int)) \n",
    "    x_array = torch.from_numpy(x_array)\n",
    "    return x_array                  "
   ]
  },
  {
   "cell_type": "code",
   "execution_count": null,
   "metadata": {},
   "outputs": [],
   "source": [
    "# split into training, validation and test data"
   ]
  },
  {
   "cell_type": "code",
   "execution_count": null,
   "metadata": {},
   "outputs": [],
   "source": [
    "nrow = all_data.iloc[4]\n",
    "nrow\n",
    "a = nrow['compound']"
   ]
  },
  {
   "cell_type": "code",
   "execution_count": null,
   "metadata": {},
   "outputs": [],
   "source": [
    "b = compound_smiles_dictionary[a]\n",
    "b"
   ]
  },
  {
   "cell_type": "code",
   "execution_count": null,
   "metadata": {},
   "outputs": [],
   "source": [
    "# create Torch.dataset\n",
    "class Dataset(torch.utils.data.Dataset):\n",
    "    def __init__(self, partition, labels, transform=None):\n",
    "        self.compound_labels = labels    # the entire length of the correct classes that we are trying to predict\n",
    "        # print(self.img_labels)\n",
    "        self.list_ID = partition         # list of indexes that are a part of training, validation, tes sets\n",
    "        self.transform = transform       # any transformations done\n",
    "\n",
    "    def __len__(self):\n",
    "        ''' The number of data points'''\n",
    "        return len(self.compound_labels)      \n",
    "\n",
    "    def __getitem__(self, idx):\n",
    "        '''Retrieving the compound '''\n",
    "        #print(f' IDX {idx}')                                    # check to see if idx is monotonically growing starting from zero\n",
    "        ID = self.list_ID[idx]                        # we extract an index in partition representing training/valid/test set\n",
    "        #print(f' ID: {ID}') \n",
    "        nrow = compound_moa.iloc[ID]                                  # extract row from csv using index\n",
    "        compound = compound_smiles_dictionary[nrow[\"compound\"]]      # returns smiles by using compound as keys\n",
    "        compound_array = smiles_to_array(compound)\n",
    "        #print(f' return from function: {compound}')\n",
    "        #print(f' matrix: {compound_array}')\n",
    "        label = self.compound_labels[ID]             # extract classification using index\n",
    "        #print(f' label: {label}')\n",
    "        #label = torch.tensor(label, dtype=torch.float)\n",
    "        if self.transform:                         # uses Albumentations image pipeline to return an augmented image\n",
    "            compound = self.transform(compound)\n",
    "        #return image.float(), label.long()\n",
    "        #print({compound_array.float()})\n",
    "        return compound_array.float(), label.float()"
   ]
  },
  {
   "cell_type": "markdown",
   "metadata": {},
   "source": [
    "## Generators"
   ]
  },
  {
   "cell_type": "code",
   "execution_count": null,
   "metadata": {},
   "outputs": [],
   "source": [
    "# Create a dataset with all indices and labels\n",
    "everything = Dataset(partition[\"train\"]+partition['valid']+partition['test'], labels)"
   ]
  },
  {
   "cell_type": "code",
   "execution_count": null,
   "metadata": {},
   "outputs": [],
   "source": [
    "# generator for training data"
   ]
  },
  {
   "cell_type": "code",
   "execution_count": null,
   "metadata": {},
   "outputs": [],
   "source": [
    "# generator: training\n",
    "# create a subset with only train indices\n",
    "training_set = torch.utils.data.Subset(everything, partition[\"train\"])\n",
    "\n",
    "# create generator that randomly takes indices from the training set\n",
    "training_generator = torch.utils.data.DataLoader(training_set, **params)\n",
    "# training_set = Dataset(partition[\"train\"], labels)"
   ]
  },
  {
   "cell_type": "code",
   "execution_count": null,
   "metadata": {},
   "outputs": [],
   "source": [
    "#partition[\"train\"]"
   ]
  },
  {
   "cell_type": "raw",
   "metadata": {},
   "source": []
  },
  {
   "cell_type": "code",
   "execution_count": null,
   "metadata": {},
   "outputs": [],
   "source": [
    "# training data loader\n",
    "# Display image and label   # functional\n",
    "train_features, train_labels = next(iter(training_generator))\n",
    "print(f\"Feature batch shape: {train_features.size()}\")\n",
    "print(f\"Labels batch shape: {train_labels.size()}\")"
   ]
  },
  {
   "cell_type": "code",
   "execution_count": null,
   "metadata": {},
   "outputs": [],
   "source": [
    "# Validation Set\n",
    "# create a subset with only valid indices\n",
    "valid_set = torch.utils.data.Subset(everything, partition[\"valid\"])\n",
    "    \n",
    "# create generator that randomly takes indices from the validation set\n",
    "valid_generator = torch.utils.data.DataLoader(valid_set, **params)"
   ]
  },
  {
   "cell_type": "code",
   "execution_count": null,
   "metadata": {},
   "outputs": [],
   "source": [
    "valid_features, valid_labels = next(iter(valid_generator))\n",
    "print(f\"Feature batch shape: {train_features.size()}\")\n",
    "print(f\"Labels batch shape: {train_labels.size()}\")"
   ]
  },
  {
   "cell_type": "code",
   "execution_count": null,
   "metadata": {},
   "outputs": [],
   "source": [
    "# Test set\n",
    "# create a subset with only test indices\n",
    "test_set = torch.utils.data.Subset(everything, partition[\"test\"])\n",
    "\n",
    "# create generator that randomly takes indices from the test set\n",
    "test_generator = torch.utils.data.DataLoader(test_set, **params)# generator for validation data"
   ]
  },
  {
   "cell_type": "code",
   "execution_count": null,
   "metadata": {},
   "outputs": [],
   "source": [
    "# dir(torch.nn)"
   ]
  },
  {
   "cell_type": "code",
   "execution_count": null,
   "metadata": {},
   "outputs": [],
   "source": [
    "# If applying class weights\n",
    "apply_class_weights = True\n",
    "if apply_class_weights:     # if we want to apply class weights\n",
    "    counts = compound_moa.moa.value_counts()  # count the number of moa in each class for the ENTiRE dataset\n",
    "    print(counts)\n",
    "    class_weights = []   # create list that will hold class weights\n",
    "    for moa in compound_moa.moa.unique():       # for each moa   \n",
    "        #print(moa)\n",
    "        counts[moa]\n",
    "        class_weights.append(counts[moa])  # add counts to class weights\n",
    "    print(len(class_weights))\n",
    "    print(class_weights)\n",
    "    print(type(class_weights))\n",
    "    # class_weights = 1 / (class_weights / sum(class_weights)) # divide all class weights by total moas\n",
    "    class_weights = [i / sum(class_weights) for  i in class_weights]\n",
    "    class_weights= torch.tensor(class_weights,dtype=torch.float).to(device) # transform into tensor, put onto device\n",
    "print(class_weights)"
   ]
  },
  {
   "cell_type": "code",
   "execution_count": null,
   "metadata": {},
   "outputs": [],
   "source": [
    "# Creating Architecture\n",
    "units = 64\n",
    "drop  = 0.7\n",
    "\n",
    "seq_model = nn.Sequential(\n",
    "    nn.Linear(2048, 128),\n",
    "    nn.ReLU(),\n",
    "    nn.Dropout(p = drop),\n",
    "    nn.Linear(128,64),\n",
    "    nn.ReLU(),\n",
    "    nn.Linear(64, 10))"
   ]
  },
  {
   "cell_type": "code",
   "execution_count": null,
   "metadata": {},
   "outputs": [],
   "source": [
    "seq_model"
   ]
  },
  {
   "cell_type": "code",
   "execution_count": null,
   "metadata": {},
   "outputs": [],
   "source": [
    "# optimizer_algorithm\n",
    "#cnn_optimizer = torch.optim.Adam(updated_model.parameters(),weight_decay = 1e-6, lr = 0.001, betas = (0.9, 0.999), eps = 1e-07)\n",
    "optimizer = torch.optim.Adam(seq_model.parameters(), lr = 1e-4)\n",
    "# loss_function\n",
    "if apply_class_weights == True:\n",
    "    loss_function = torch.nn.CrossEntropyLoss(class_weights)\n",
    "else:\n",
    "    loss_function = torch.nn.CrossEntropyLoss()"
   ]
  },
  {
   "cell_type": "code",
   "execution_count": null,
   "metadata": {},
   "outputs": [],
   "source": []
  },
  {
   "cell_type": "code",
   "execution_count": null,
   "metadata": {},
   "outputs": [],
   "source": [
    "'''# complete the architecture of MLP and compile MLP \n",
    "\n",
    "units = 64  \n",
    "drop = 0.89  \n",
    "\n",
    "model_mlp = Sequential()\n",
    "model_mlp.add(Dense(units, input_dim = 2048, activation = 'relu'))\n",
    "model_mlp.add(Dropout(drop))\n",
    "model_mlp.add(Dense(10, activation = 'softmax'))\n",
    "model_mlp.compile(optimizer = tf.keras.optimizers.Adam(learning_rate = 1e-4),\n",
    "         loss = tf.keras.losses.SparseCategoricalCrossentropy(from_logits = True),\n",
    "         metrics = ['accuracy'])'''"
   ]
  },
  {
   "cell_type": "code",
   "execution_count": null,
   "metadata": {},
   "outputs": [],
   "source": [
    "def training_loop(n_epochs, optimizer, model, loss_fn, train_loader, valid_loader):\n",
    "    '''\n",
    "    n_epochs: number of epochs \n",
    "    optimizer: optimizer used to do backpropagation\n",
    "    model: deep learning architecture\n",
    "    loss_fn: loss function\n",
    "    train_loader: generator creating batches of training data\n",
    "    valid_loader: generator creating batches of validation data\n",
    "    '''\n",
    "    # lists keep track of loss and accuracy for training and validation set\n",
    "    #optimizer = torch.optim.Adam(updated_model.parameters(),weight_decay = 1e-6, lr = 0.001, betas = (0.9, 0.999), eps = 1e-07)\n",
    "    train_loss_per_epoch = []\n",
    "    train_acc_per_epoch = []\n",
    "    val_loss_per_epoch = []\n",
    "    val_acc_per_epoch = []\n",
    "    best_val_loss = np.inf\n",
    "    for epoch in tqdm(range(1, max_epochs +1), desc = \"Epoch\", position = 0, leave = True):\n",
    "        loss_train = 0.0\n",
    "        train_total = 0\n",
    "        train_correct = 0\n",
    "        for compounds, labels in train_loader:\n",
    "            optimizer.zero_grad()\n",
    "            # put model, images, labels on the same device\n",
    "            model = model.to(device)\n",
    "            compounds = compounds.to(device = device)\n",
    "            labels = labels.to(device= device)\n",
    "            #print(f' Compounds {compounds}')\n",
    "            #print(f' Labels {labels}')\n",
    "            \n",
    "            #print(labels)\n",
    "            # Training Model\n",
    "            outputs = model(compounds)\n",
    "            #print(f' Outputs : {outputs}') # tensor with 10 elements\n",
    "            #print(f' Labels : {labels}') # tensor that is a number\n",
    "            loss = loss_fn(outputs,labels)\n",
    "            # Update weights\n",
    "            loss.backward()\n",
    "            optimizer.step()\n",
    "            # Training Metrics\n",
    "            loss_train += loss.item()\n",
    "            #print(f' loss: {loss.item()}')\n",
    "            train_predicted = torch.argmax(outputs, 1)\n",
    "            #print(f' train_predicted {train_predicted}')\n",
    "            # NEW\n",
    "            labels = torch.argmax(labels,1)\n",
    "            #print(labels)\n",
    "            train_total += labels.shape[0]\n",
    "            train_correct += int((train_predicted == labels).sum())\n",
    "        # validation metrics from batch\n",
    "        val_correct, val_total, val_loss, best_val_loss_upd = validation_loop(model, loss_fn, valid_loader, best_val_loss)\n",
    "        val_accuracy = val_correct/val_total\n",
    "        # printing results for epoch\n",
    "        if epoch == 1 or epoch %2 == 0:\n",
    "            print(f' {datetime.datetime.now()} Epoch: {epoch}, Training loss: {loss_train/len(train_loader)}, Validation Loss: {val_loss} ')\n",
    "        # adding epoch loss, accuracy to lists \n",
    "        val_loss_per_epoch.append(val_loss)\n",
    "        train_loss_per_epoch.append(loss_train/len(train_loader))\n",
    "        val_acc_per_epoch.append(val_accuracy)\n",
    "        train_acc_per_epoch.append(train_correct/train_total)\n",
    "    # return lists with loss, accuracy every epoch\n",
    "    return train_loss_per_epoch, train_acc_per_epoch, val_loss_per_epoch, val_acc_per_epoch"
   ]
  },
  {
   "cell_type": "code",
   "execution_count": null,
   "metadata": {},
   "outputs": [],
   "source": [
    "def validation_loop(model, loss_fn, valid_loader, best_val_loss):\n",
    "    '''\n",
    "    Assessing trained model on valiidation dataset \n",
    "    model: deep learning architecture getting updated by model\n",
    "    loss_fn: loss function\n",
    "    valid_loader: generator creating batches of validation data\n",
    "    '''\n",
    "    loss_val = 0.0\n",
    "    correct = 0\n",
    "    total = 0\n",
    "    model.eval()\n",
    "    with torch.no_grad():  # does not keep track of gradients so as to not train on validation data.\n",
    "        for compounds, labels in valid_loader:\n",
    "            # Move to device MAY NOT BE NECESSARY\n",
    "            model = model.to(device)\n",
    "            compounds = compounds.to(device = device)\n",
    "            labels = labels.to(device= device)\n",
    "            # Assessing outputs\n",
    "            outputs = model(compounds)\n",
    "            # print(f' Outputs : {outputs}') # tensor with 10 elements\n",
    "            # print(f' Labels : {labels}') # tensor that is a number\n",
    "            loss = loss_fn(outputs,labels)\n",
    "            loss_val += loss.item()\n",
    "            predicted = torch.argmax(outputs, 1)\n",
    "            labels = torch.argmax(labels,1)\n",
    "            #print(predicted)\n",
    "            #print(labels)\n",
    "            total += labels.shape[0]\n",
    "            correct += int((predicted == labels).sum())\n",
    "        avg_val_loss = loss_val/len(valid_loader)  # average loss over batch\n",
    "        if best_val_loss > loss_val:\n",
    "            best_val_loss = loss_val\n",
    "            torch.save(\n",
    "                {\n",
    "                    'model_state_dict' : model.state_dict(),\n",
    "                    'valid_loss' : loss_val\n",
    "            },  '/home/jovyan/Tomics-CP-Chem-MoA/Compound_structure_based_models' +'/' + 'ChemStruc_least_loss_model'\n",
    "            )\n",
    "    model.train()\n",
    "    return correct, total, avg_val_loss, best_val_loss"
   ]
  },
  {
   "cell_type": "code",
   "execution_count": null,
   "metadata": {},
   "outputs": [],
   "source": [
    "def test_loop(model, loss_fn, test_loader):\n",
    "    '''\n",
    "    Assessing trained model on test dataset \n",
    "    model: deep learning architecture getting updated by model\n",
    "    loss_fn: loss function\n",
    "    test_loader: generator creating batches of test data\n",
    "    '''\n",
    "    loss_test = 0.0\n",
    "    correct = 0\n",
    "    total = 0\n",
    "    model.eval()\n",
    "    with torch.no_grad():  # does not keep track of gradients so as to not train on test data.\n",
    "        for compounds, labels in tqdm_notebook(test_loader):\n",
    "            # Move to device MAY NOT BE NECESSARY\n",
    "            model = model.to(device)\n",
    "            compounds = compounds.to(device = device)\n",
    "            labels = labels.to(device= device)\n",
    "            # Assessing outputs\n",
    "            outputs = model(compounds)\n",
    "            # print(f' Outputs : {outputs}') # tensor with 10 elements\n",
    "            # print(f' Labels : {labels}') # tensor that is a number\n",
    "            loss = loss_fn(outputs,labels)\n",
    "            loss_test += loss.item()\n",
    "            predicted = torch.argmax(outputs, 1)\n",
    "            labels = torch.argmax(labels,1)\n",
    "            #print(predicted)\n",
    "            #print(labels)\n",
    "            total += labels.shape[0]\n",
    "            correct += int((predicted == labels).sum())\n",
    "        avg_test_loss = loss_test/len(test_loader)  # average loss over batch\n",
    "    return correct, total, avg_test_loss"
   ]
  },
  {
   "cell_type": "code",
   "execution_count": null,
   "metadata": {},
   "outputs": [],
   "source": [
    "train_loss_per_epoch, train_acc_per_epoch, val_loss_per_epoch, val_acc_per_epoch = training_loop(n_epochs = max_epochs,\n",
    "              optimizer = optimizer,\n",
    "              model = seq_model,\n",
    "              loss_fn = loss_function,\n",
    "              train_loader=training_generator, \n",
    "              valid_loader=valid_generator)"
   ]
  },
  {
   "cell_type": "code",
   "execution_count": 115,
   "metadata": {},
   "outputs": [],
   "source": [
    "#print(train_loss_per_epoch, train_acc_per_epoch, val_loss_per_epoch, val_acc_per_epoch)"
   ]
  },
  {
   "cell_type": "code",
   "execution_count": 170,
   "metadata": {},
   "outputs": [],
   "source": [
    "def val_vs_train_loss(epochs, train_loss, val_loss):\n",
    "    ''' \n",
    "    Plotting validation versus training loss over time\n",
    "    epochs: number of epochs that the model ran (int. hyperparameter)\n",
    "    train_loss: training loss per epoch (python list)\n",
    "    val_loss: validation loss per epoch (python list)\n",
    "    ''' \n",
    "    plt.figure()\n",
    "    x_axis = list(range(1, epochs +1)) # create x axis with number of\n",
    "    plt.plot(x_axis, train_loss, label = \"train_loss\")\n",
    "    plt.plot(x_axis, val_loss, label = \"val_loss\")\n",
    "    # Figure description\n",
    "    plt.xlabel('# of Epochs')\n",
    "    plt.ylabel('Loss')\n",
    "    plt.title('Validation versus Training Loss: CP Image Model')\n",
    "    plt.legend()\n",
    "    # plot\n",
    "    plt.show()"
   ]
  },
  {
   "cell_type": "code",
   "execution_count": 171,
   "metadata": {},
   "outputs": [],
   "source": [
    "def val_vs_train_accuracy(epochs, train_acc, val_acc):\n",
    "    '''\n",
    "    Plotting validation versus training loss over time\n",
    "    epochs: number of epochs that the model ran (int. hyperparameter)\n",
    "    train_acc: accuracy loss per epoch (python list)\n",
    "    val_acc: accuracy loss per epoch (python list)\n",
    "    '''\n",
    "    plt.figure()\n",
    "    x_axis = list(range(1, epochs +1)) # create x axis with number of\n",
    "    plt.plot(x_axis, train_acc, label = \"train_acc\")\n",
    "    plt.plot(x_axis, val_acc, label = \"val_acc\")\n",
    "    # Figure description\n",
    "    plt.xlabel('# of Epochs')\n",
    "    plt.ylabel('Accuracy')\n",
    "    plt.title('Validation versus Training Accuracy: CP Image Model')\n",
    "    plt.legend()\n",
    "    # plot\n",
    "    plt.show()"
   ]
  },
  {
   "cell_type": "code",
   "execution_count": 172,
   "metadata": {},
   "outputs": [
    {
     "data": {
      "image/png": "[encoded data removed]",
      "text/plain": [
       "<Figure size 432x288 with 1 Axes>"
      ]
     },
     "metadata": {
      "needs_background": "light"
     },
     "output_type": "display_data"
    }
   ],
   "source": [
    "val_vs_train_loss(max_epochs,train_loss_per_epoch, val_loss_per_epoch)"
   ]
  },
  {
   "cell_type": "code",
   "execution_count": 173,
   "metadata": {},
   "outputs": [
    {
     "data": {
      "image/png": "[encoded data removed]",
      "text/plain": [
       "<Figure size 432x288 with 1 Axes>"
      ]
     },
     "metadata": {
      "needs_background": "light"
     },
     "output_type": "display_data"
    }
   ],
   "source": [
    "val_vs_train_accuracy(max_epochs, train_acc_per_epoch, val_acc_per_epoch)"
   ]
  },
  {
   "cell_type": "code",
   "execution_count": 175,
   "metadata": {},
   "outputs": [
    {
     "data": {
      "application/vnd.jupyter.widget-view+json": {
       "model_id": "43a129be4a8047359e70bedef53ea10c",
       "version_major": 2,
       "version_minor": 0
      },
      "text/plain": [
       "  0%|          | 0/1 [00:00<?, ?it/s]"
      ]
     },
     "metadata": {},
     "output_type": "display_data"
    }
   ],
   "source": [
    "correct, total, avg_test_loss = test_loop(model = seq_model,\n",
    "                                          loss_fn = loss_function, \n",
    "                                          test_loader = test_generator)"
   ]
  },
  {
   "cell_type": "code",
   "execution_count": 176,
   "metadata": {},
   "outputs": [
    {
     "data": {
      "text/plain": [
       "0.25"
      ]
     },
     "execution_count": 176,
     "metadata": {},
     "output_type": "execute_result"
    }
   ],
   "source": [
    "correct/total\n",
    "# create PyTorch architecture"
   ]
  },
  {
   "cell_type": "code",
   "execution_count": null,
   "metadata": {},
   "outputs": [],
   "source": []
  },
  {
   "cell_type": "code",
   "execution_count": null,
   "metadata": {},
   "outputs": [],
   "source": []
  }
 ],
 "metadata": {
  "kernelspec": {
   "display_name": "Python 3",
   "language": "python",
   "name": "python3"
  },
  "language_info": {
   "codemirror_mode": {
    "name": "ipython",
    "version": 3
   },
   "file_extension": ".py",
   "mimetype": "text/x-python",
   "name": "python",
   "nbconvert_exporter": "python",
   "pygments_lexer": "ipython3",
   "version": "3.6.9"
  },
  "vscode": {
   "interpreter": {
    "hash": "767d51c1340bd893661ea55ea3124f6de3c7a262a8b4abca0554b478b1e2ff90"
   }
  }
 },
 "nbformat": 4,
 "nbformat_minor": 4
}

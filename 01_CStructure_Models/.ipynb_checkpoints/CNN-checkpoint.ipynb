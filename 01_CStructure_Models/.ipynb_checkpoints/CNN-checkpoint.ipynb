{
 "cells": [
  {
   "cell_type": "code",
   "execution_count": null,
   "metadata": {
    "id": "fQynsNnQpfo9"
   },
   "outputs": [],
   "source": [
    "import tensorflow as tf\n",
    "from os import path, getcwd, chdir\n",
    "config = tf.compat.v1.ConfigProto()\n",
    "sess = tf.compat.v1.Session(config = config)\n",
    "import rdkit\n",
    "import numpy as np\n",
    "from rdkit import *\n",
    "from rdkit import Chem, DataStructs\n",
    "from rdkit.Chem import AllChem"
   ]
  },
  {
   "cell_type": "code",
   "execution_count": null,
   "metadata": {
    "id": "zeuH0CUxWuib"
   },
   "outputs": [],
   "source": [
    "from rdkit.Chem import rdchem\n",
    "import re\n",
    "Chiral = {\"CHI_UNSPECIFIED\":0,  \"CHI_TETRAHEDRAL_CW\":1, \"CHI_TETRAHEDRAL_CCW\":2, \"CHI_OTHER\":3}\n",
    "\n",
    "Hybridization = {\"UNSPECIFIED\":0, \"S\":1, \"SP\":2, \"SP2\":3, \"SP3\":4, \"SP3D\":5, \"SP3D2\":6, \"OTHER\":7}\n",
    "# the size of featurevector          \n",
    "atomInfo = 21\n",
    "structInfo = 21\n",
    "lensize= atomInfo + structInfo\n",
    "\n",
    "H_Vector = [0]*atomInfo\n",
    "H_Vector[0]= 1\n",
    "# check the lower cases  \n",
    "lowerReg = re.compile(r'^[a-z]+$')\n",
    "def islower(s):\n",
    "    return lowerReg.match(s) is not None\n",
    "# check the upper cases       \n",
    "upperReg = re.compile(r'^[A-Z]+$')\n",
    "def isupper(s):\n",
    "    return upperReg.match(s) is not None\n",
    "# information of atoms \n",
    "def calc_atom_feature(atom):\n",
    "    \n",
    "    if atom.GetSymbol() == 'H':   feature = [1,0,0,0,0]\n",
    "    elif atom.GetSymbol() == 'C': feature = [0,1,0,0,0]\n",
    "    elif atom.GetSymbol() == 'O': feature = [0,0,1,0,0]\n",
    "    elif atom.GetSymbol() == 'N': feature = [0,0,0,1,0]\n",
    "    else: feature = [0,0,0,0,1]\n",
    "        \n",
    "    feature.append(atom.GetTotalNumHs()/8)\n",
    "    feature.append(atom.GetTotalDegree()/4)\n",
    "    feature.append(atom.GetFormalCharge()/8)\n",
    "    feature.append(atom.GetTotalValence()/8)\n",
    "    feature.append(atom.IsInRing()*1)\n",
    "    feature.append(atom.GetIsAromatic()*1)\n",
    "\n",
    "    f =  [0]*(len(Chiral)-1)\n",
    "    if Chiral.get(str(atom.GetChiralTag()), 0) != 0:\n",
    "        f[Chiral.get(str(atom.GetChiralTag()), 0)] = 1\n",
    "    feature.extend(f)\n",
    "\n",
    "    f =  [0]*(len(Hybridization)-1)\n",
    "    if Hybridization.get(str(atom.GetHybridization()), 0) != 0:\n",
    "        f[Hybridization.get(str(atom.GetHybridization()), 0)] = 1\n",
    "    feature.extend(f)\n",
    "    \n",
    "    return(feature)\n",
    "\n",
    "def calc_structure_feature(c,flag,label):\n",
    "    feature = [0]*structInfo\n",
    "\n",
    "    if c== '(' :\n",
    "        feature[0] = 1\n",
    "        flag = 0\n",
    "    elif c== ')' :\n",
    "        feature[1] = 1\n",
    "        flag = 0\n",
    "    elif c== '[' :\n",
    "        feature[2] = 1\n",
    "        flag = 0\n",
    "    elif c== ']' :\n",
    "        feature[3] = 1\n",
    "        flag = 0\n",
    "    elif c== '.' :\n",
    "        feature[4] = 1\n",
    "        flag = 0\n",
    "    elif c== ':' :\n",
    "        feature[5] = 1\n",
    "        flag = 0\n",
    "    elif c== '=' :\n",
    "        feature[6] = 1\n",
    "        flag = 0\n",
    "    elif c== '#' :\n",
    "        feature[7] = 1\n",
    "        flag = 0\n",
    "    elif c== '\\\\':\n",
    "        feature[8] = 1\n",
    "        flag = 0\n",
    "    elif c== '/' :\n",
    "        feature[9] = 1\n",
    "        flag = 0  \n",
    "    elif c== '@' :\n",
    "        feature[10] = 1\n",
    "        flag = 0\n",
    "    elif c== '+' :\n",
    "        feature[11] = 1\n",
    "        flag = 1\n",
    "    elif c== '-' :\n",
    "        feature[12] = 1\n",
    "        flag = 1\n",
    "    elif c.isdigit() == True:\n",
    "        if flag == 0:\n",
    "            if c in label:\n",
    "                feature[20] = 1\n",
    "            else:\n",
    "                label.append(c)\n",
    "                feature[19] = 1\n",
    "        else:\n",
    "            feature[int(c)-1+12] = 1\n",
    "            flag = 0\n",
    "    return(feature,flag,label)\n",
    "\n",
    "def calc_featurevector(mol, smiles,atomsize):\n",
    "    flag = 0\n",
    "    label = []\n",
    "    molfeature = []\n",
    "    idx = 0\n",
    "    j = 0\n",
    "            \n",
    "    for c in smiles:\n",
    "        if islower(c) == True: continue\n",
    "        elif isupper(c) == True:\n",
    "            if c == 'H':\n",
    "                molfeature.extend(H_Vector)\n",
    "            else:\n",
    "                molfeature.extend(calc_atom_feature(rdchem.Mol.GetAtomWithIdx(mol, idx)))\n",
    "                idx = idx + 1\n",
    "            molfeature.extend([0]*structInfo)\n",
    "            j = j +1\n",
    "            \n",
    "        else:   \n",
    "            molfeature.extend([0]*atomInfo)\n",
    "            f,flag,label = calc_structure_feature(c,flag,label)\n",
    "            molfeature.extend(f)\n",
    "            j = j +1\n",
    "\n",
    "    #0-Padding\n",
    "    molfeature.extend([0]*(atomsize-j)*lensize)        \n",
    "    return(molfeature)\n",
    "# change molecules to features     \n",
    "def mol_to_feature(mol,n,atomsize):\n",
    "    try: defaultSMILES = Chem.MolToSmiles(mol, kekuleSmiles=False, isomericSmiles=True, rootedAtAtom=int(n))\n",
    "    except: defaultSMILES = Chem.MolToSmiles(mol, kekuleSmiles=False, isomericSmiles=True)\n",
    "    try: isomerSMILES = Chem.MolToSmiles(mol, kekuleSmiles=True, isomericSmiles=True, rootedAtAtom=int(n))\n",
    "    except: isomerSMILES = Chem.MolToSmiles(mol, kekuleSmiles=True, isomericSmiles=True)\n",
    "    return calc_featurevector(Chem.MolFromSmiles(defaultSMILES), isomerSMILES,atomsize)\n",
    "\n",
    "def mol_to_allSMILESfeature(mol, atomsize):\n",
    "    idx, features =0,  []\n",
    "    while idx < mol.GetNumAtoms():\n",
    "        try: defaultSMILES = Chem.MolToSmiles(mol, kekuleSmiles=False, isomericSmiles=True, rootedAtAtom=int(idx))\n",
    "        except: break\n",
    "        isomerSMILES = Chem.MolToSmiles(mol, kekuleSmiles=True, isomericSmiles=True, rootedAtAtom=int(idx))\n",
    "        features.append(calc_featurevector(Chem.MolFromSmiles(defaultSMILES), isomerSMILES,atomsize))\n",
    "        idx = idx + 1\n",
    "    return(features)"
   ]
  },
  {
   "cell_type": "code",
   "execution_count": null,
   "metadata": {
    "id": "X5u1pShQ-be-"
   },
   "outputs": [],
   "source": [
    "# read the SMILES-MoA data  \n",
    "import pandas as pd\n",
    "df = pd.read_csv('top_20_MOAs.txt', sep = '\\t')"
   ]
  },
  {
   "cell_type": "code",
   "execution_count": null,
   "metadata": {
    "id": "4oRx-oWC-bj8"
   },
   "outputs": [],
   "source": [
    "# change 20 MoAs to classes \n",
    "MOA_class_dictionary = {'EGFR inhibitor': 8,\n",
    " 'HDAC inhibitor': 16,\n",
    " 'PI3K inhibitor': 13,\n",
    " 'acetylcholine receptor agonist': 1,\n",
    " 'acetylcholine receptor antagonist': 4,\n",
    " 'adrenergic receptor agonist': 18,\n",
    " 'adrenergic receptor antagonist': 15,\n",
    " 'bacterial cell wall synthesis inhibitor': 14,\n",
    " 'benzodiazepine receptor agonist': 10,\n",
    " 'calcium channel blocker': 5,\n",
    " 'cyclooxygenase inhibitor': 6,\n",
    " 'dopamine receptor antagonist': 12,\n",
    " 'glucocorticoid receptor agonist': 9,\n",
    " 'glutamate receptor antagonist': 19,\n",
    " 'histamine receptor antagonist': 17,\n",
    " 'phosphodiesterase inhibitor': 3,\n",
    " 'serotonin receptor agonist': 7,\n",
    " 'serotonin receptor antagonist': 2,\n",
    " 'sodium channel blocker': 11,\n",
    " 'topoisomerase inhibitor': 0}"
   ]
  },
  {
   "cell_type": "code",
   "execution_count": null,
   "metadata": {
    "id": "mL-omh1b-boz"
   },
   "outputs": [],
   "source": [
    "# add classes column  \n",
    "df['classes'] = None\n",
    "for i in range(df.shape[0]):\n",
    "  df.iloc[i,2] = MOA_class_dictionary[df.iloc[i,1]]"
   ]
  },
  {
   "cell_type": "code",
   "execution_count": null,
   "metadata": {
    "id": "QPQ6dRANaVsz"
   },
   "outputs": [],
   "source": [
    "# Split out the test set  \n",
    "from sklearn.model_selection import train_test_split\n",
    "x_train_valid, x_test, y_train_valid, y_test = train_test_split(df.SMILES, df.classes, test_size =10/100,\n",
    " stratify = df.classes, shuffle = True, random_state = 1000)"
   ]
  },
  {
   "cell_type": "code",
   "execution_count": null,
   "metadata": {
    "id": "zgp2ojzPaVyi"
   },
   "outputs": [],
   "source": [
    "# kfold\n",
    "from sklearn.model_selection import StratifiedKFold\n",
    "skf = StratifiedKFold(n_splits = 9)\n",
    "skf.get_n_splits(np.array(list(x_train_valid)), np.array(list(y_train_valid)))\n",
    "train_index_list = []\n",
    "valid_index_list = []\n",
    "for train_index, valid_index in skf.split(np.array(list(x_train_valid)), np.array(list(y_train_valid))):\n",
    "  train_index_list.append(train_index)\n",
    "  valid_index_list.append(valid_index)"
   ]
  },
  {
   "cell_type": "code",
   "execution_count": null,
   "metadata": {
    "id": "YHn8HVK4a2Mm"
   },
   "outputs": [],
   "source": [
    "number_of_kfold = 0 # change the number from 0-8 to get 9 shuffles\n",
    "x_train = list(np.array(list(x_train_valid))[train_index_list[ number_of_kfold ]])\n",
    "x_valid = list(np.array(list(x_train_valid))[valid_index_list[ number_of_kfold ]])\n",
    "y_train = list(np.array(list(y_train_valid))[train_index_list[ number_of_kfold ]])\n",
    "y_valid = list(np.array(list(y_train_valid))[valid_index_list[ number_of_kfold ]])\n",
    "x_test = list(x_test)\n",
    "y_test = list(y_test)"
   ]
  },
  {
   "cell_type": "code",
   "execution_count": null,
   "metadata": {
    "id": "3jkgPnAbJ3VW"
   },
   "outputs": [],
   "source": [
    "x_all = list(x_train) + list(x_valid) + list(x_test)\n",
    "y_all = list(y_train) + list(y_valid) + list(y_test)"
   ]
  },
  {
   "cell_type": "code",
   "execution_count": null,
   "metadata": {
    "id": "S0uIWgnqJ3X5"
   },
   "outputs": [],
   "source": [
    "import pandas as pd\n",
    "pd_x_all = pd.DataFrame(x_all)\n",
    "pd_x_all['labels'] = y_all\n",
    "pd_x_all.to_csv('6663.txt', sep = ' ', index = False, header = False,)"
   ]
  },
  {
   "cell_type": "code",
   "execution_count": null,
   "metadata": {
    "id": "qVpbGz6RVsIv"
   },
   "outputs": [],
   "source": [
    "import SCFPfunctions as Mf\n",
    "xp = np \n",
    "file = '6663.txt'\n",
    "smi = Chem.SmilesMolSupplier(file, delimiter = ' ', titleLine = False)\n",
    "mols = [mol for mol in smi if mol is not None]"
   ]
  },
  {
   "cell_type": "code",
   "execution_count": null,
   "metadata": {
    "id": "4NdAY6yuqCpa"
   },
   "outputs": [],
   "source": [
    "# get the feature matrix and labels \n",
    "F_list, T_list = [], []\n",
    "for mol in mols:\n",
    "  F_list.append(mol_to_feature(mol,-1,500))\n",
    "  T_list.append(mol.GetProp('_Name'))\n",
    " \n",
    "data_f = xp.asarray(F_list, dtype = xp.float32).reshape(-1, 1, 500, lensize)\n",
    "data_t = xp.asarray(T_list, dtype = xp.int32).reshape(-1, 1)\n",
    "\n",
    "dataset = (data_f, data_t)\n",
    "x, y = dataset[0].T, dataset[1]\n",
    "x = np.moveaxis(x, -1, 0)"
   ]
  },
  {
   "cell_type": "code",
   "execution_count": null,
   "metadata": {
    "id": "Ds8mISM7No_1"
   },
   "outputs": [],
   "source": [
    "# get the train, valid, test sets \n",
    "x_train = x[0:len(x_train)] \n",
    "x_valid = x[len(x_train):len(x_train) + len(x_valid)]  \n",
    "x_test = x[len(x_train) + len(x_valid):len(x_train) + len(x_valid) + len(x_test)] \n",
    "\n",
    "y_list = [int(i) for i in y]\n",
    "Y_train = y_list[0:len(x_train)] \n",
    "Y_valid = y_list[len(x_train):len(x_train) + len(x_valid)]  \n",
    "Y_test = y_list[len(x_train) + len(x_valid):len(x_train) + len(x_valid) + len(x_test)] "
   ]
  },
  {
   "cell_type": "code",
   "execution_count": null,
   "metadata": {
    "id": "a_ogD9AMgTEk"
   },
   "outputs": [],
   "source": [
    "# create class weights\n",
    "train_Y = y_train\n",
    "y_unique = np.unique(np.array(train_Y))\n",
    "from sklearn.utils import class_weight\n",
    "class_weights = class_weight.compute_class_weight(class_weight = 'balanced',classes = y_unique,\n",
    "                       y = np.array(train_Y)) \n",
    "class_weights_dict45 = dict(enumerate(class_weights))"
   ]
  },
  {
   "cell_type": "code",
   "execution_count": null,
   "metadata": {
    "id": "hFzpeoP3lwzp"
   },
   "outputs": [],
   "source": [
    "# set the architecture of model      \n",
    "drop = 0.8  \n",
    "model = tf.keras.models.Sequential([\n",
    "            tf.keras.layers.Conv2D(8,(3,3),activation='relu',input_shape=(42, 500, 1)),\n",
    "            tf.keras.layers.MaxPool2D((3,3)),\n",
    "            tf.keras.layers.Dropout(drop),\n",
    "            tf.keras.layers.Flatten(),\n",
    "            tf.keras.layers.Dropout(drop),\n",
    "            tf.keras.layers.Dense(units = len(set(y_list)), activation='softmax')])"
   ]
  },
  {
   "cell_type": "code",
   "execution_count": null,
   "metadata": {
    "id": "Vq76iC-3ft0i"
   },
   "outputs": [],
   "source": [
    "# set the checkpoint   \n",
    "from keras.callbacks import ModelCheckpoint\n",
    "filepath_cnn = './content/CNN_20_MOA_weights.hdf5'\n",
    "checkpoint_cnn = ModelCheckpoint(filepath_cnn, monitor='val_accuracy', verbose=0, save_best_only=True,\n",
    "              mode='max')"
   ]
  },
  {
   "cell_type": "code",
   "execution_count": null,
   "metadata": {
    "id": "7mpU8nKBft3a"
   },
   "outputs": [],
   "source": [
    "# compile the model \n",
    "model.compile(optimizer = tf.keras.optimizers.Adam(learning_rate = 1e-3),  \n",
    "       loss = tf.keras.losses.SparseCategoricalCrossentropy(from_logits = True), \n",
    "       metrics = ['accuracy']) "
   ]
  },
  {
   "cell_type": "code",
   "execution_count": null,
   "metadata": {
    "id": "gsVD5jx2XrFh"
   },
   "outputs": [],
   "source": [
    "# train the model \n",
    "from tensorflow.keras.callbacks import EarlyStopping  \n",
    "earlyStopping = EarlyStopping(monitor = 'val_loss', patience = 30, verbose = 0, mode = 'min')\n",
    "reduce_lr_loss = tf.keras.callbacks.ReduceLROnPlateau(monitor='val_loss',\n",
    "           factor = 0.89, patience = 7, verbose = 1, min_delta = 1e-119, mode = 'min')\n",
    "history = model.fit(x_train, np.array(y_train), validation_data=(x_valid, np.array(y_valid)),\n",
    "           class_weight = class_weights_dict45, shuffle = True, verbose = 2, epochs = 1800,\n",
    "           batch_size = 64, callbacks=[earlyStopping, checkpoint_cnn, reduce_lr_loss])"
   ]
  },
  {
   "cell_type": "code",
   "execution_count": null,
   "metadata": {
    "id": "RqW1w8B6PiXk"
   },
   "outputs": [],
   "source": [
    "# Load the best model\n",
    "from keras.models import load_model\n",
    "best_model = load_model(filepath_cnn)"
   ]
  },
  {
   "cell_type": "code",
   "execution_count": null,
   "metadata": {
    "id": "QGyj3s3chZxh"
   },
   "outputs": [],
   "source": [
    "# Evaluate the model \n",
    "from sklearn.metrics import classification_report\n",
    "assert list(y_test)[0:5] == [14, 12, 6, 13, 14]\n",
    "print(classification_report(y_test, np.array(best_model.predict(x_test).argmax(-1)),))"
   ]
  },
  {
   "cell_type": "code",
   "execution_count": null,
   "metadata": {
    "id": "RWFr23EhhvhT"
   },
   "outputs": [],
   "source": [
    "# Training curves\n",
    "import matplotlib.pyplot as plt\n",
    "plt.plot(history.history['accuracy'])\n",
    "plt.plot(history.history['val_accuracy'])\n",
    "plt.title('model accuracy')\n",
    "plt.ylabel('accuracy')\n",
    "plt.xlabel('epoch')\n",
    "plt.legend(['train', 'valid'], loc = 'upper left')\n",
    "plt.show()\n",
    "\n",
    "plt.plot(history.history['loss'])\n",
    "plt.plot(history.history['val_loss'])\n",
    "plt.title('model loss')\n",
    "plt.ylabel('loss')\n",
    "plt.xlabel('epoch')\n",
    "plt.legend(['train', 'valid'], loc = 'upper left')\n",
    "plt.show()"
   ]
  },
  {
   "cell_type": "code",
   "execution_count": null,
   "metadata": {
    "id": "EQPrxlMpiGvh"
   },
   "outputs": [],
   "source": [
    "# References \n",
    "# http://www.dna.bio.keio.ac.jp/smiles/\n",
    "# https://github.com/pharmbio/dl_quantmap/tree/master/cross_validation/CNN"
   ]
  }
 ],
 "metadata": {
  "accelerator": "GPU",
  "colab": {
   "collapsed_sections": [],
   "machine_shape": "hm",
   "provenance": []
  },
  "gpuClass": "standard",
  "kernelspec": {
   "display_name": "Python 3 (ipykernel)",
   "language": "python",
   "name": "python3"
  },
  "language_info": {
   "codemirror_mode": {
    "name": "ipython",
    "version": 3
   },
   "file_extension": ".py",
   "mimetype": "text/x-python",
   "name": "python",
   "nbconvert_exporter": "python",
   "pygments_lexer": "ipython3",
   "version": "3.10.4"
  }
 },
 "nbformat": 4,
 "nbformat_minor": 1
}

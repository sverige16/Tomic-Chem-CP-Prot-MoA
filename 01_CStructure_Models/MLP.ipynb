{
 "cells": [
  {
   "cell_type": "code",
   "execution_count": 1,
   "metadata": {
    "id": "bFuMZhuHOwK5"
   },
   "outputs": [
    {
     "data": {
      "text/html": [
       "<div>\n",
       "<style scoped>\n",
       "    .dataframe tbody tr th:only-of-type {\n",
       "        vertical-align: middle;\n",
       "    }\n",
       "\n",
       "    .dataframe tbody tr th {\n",
       "        vertical-align: top;\n",
       "    }\n",
       "\n",
       "    .dataframe thead th {\n",
       "        text-align: right;\n",
       "    }\n",
       "</style>\n",
       "<table border=\"1\" class=\"dataframe\">\n",
       "  <thead>\n",
       "    <tr style=\"text-align: right;\">\n",
       "      <th></th>\n",
       "      <th>SMILES</th>\n",
       "      <th>MOA</th>\n",
       "    </tr>\n",
       "  </thead>\n",
       "  <tbody>\n",
       "    <tr>\n",
       "      <th>0</th>\n",
       "      <td>CCCC(=O)Nc1ccc(OCC(O)CNC(C)C)c(c1)C(C)=O</td>\n",
       "      <td>adrenergic receptor antagonist</td>\n",
       "    </tr>\n",
       "    <tr>\n",
       "      <th>1</th>\n",
       "      <td>COc1cc2nc(nc(N)c2cc1OC)N(C)CCCNC(=O)C1CCCO1</td>\n",
       "      <td>adrenergic receptor antagonist</td>\n",
       "    </tr>\n",
       "    <tr>\n",
       "      <th>2</th>\n",
       "      <td>CC(C)NCC(O)COc1ccccc1CC=C</td>\n",
       "      <td>adrenergic receptor antagonist</td>\n",
       "    </tr>\n",
       "    <tr>\n",
       "      <th>3</th>\n",
       "      <td>COc1ccccc1N1CCN(CCN2C(=O)c3ccccc3C(C)(C)C2=O)CC1</td>\n",
       "      <td>adrenergic receptor antagonist</td>\n",
       "    </tr>\n",
       "    <tr>\n",
       "      <th>4</th>\n",
       "      <td>CC(C)(C)NCC(O)CSc1nc(cs1)-c1ccc(s1)C(N)=O</td>\n",
       "      <td>adrenergic receptor antagonist</td>\n",
       "    </tr>\n",
       "    <tr>\n",
       "      <th>...</th>\n",
       "      <td>...</td>\n",
       "      <td>...</td>\n",
       "    </tr>\n",
       "    <tr>\n",
       "      <th>1216</th>\n",
       "      <td>OCCCC(O)=O</td>\n",
       "      <td>benzodiazepine receptor agonist</td>\n",
       "    </tr>\n",
       "    <tr>\n",
       "      <th>1217</th>\n",
       "      <td>CN1c2ccc(Cl)cc2C(=NC(O)C1=O)c1ccccc1</td>\n",
       "      <td>benzodiazepine receptor agonist</td>\n",
       "    </tr>\n",
       "    <tr>\n",
       "      <th>1218</th>\n",
       "      <td>CCN(C(C)=O)c1cccc(c1)-c1ccnc2c(cnn12)C#N</td>\n",
       "      <td>benzodiazepine receptor agonist</td>\n",
       "    </tr>\n",
       "    <tr>\n",
       "      <th>1219</th>\n",
       "      <td>CCOC(=O)c1ncc2[nH]c3ccc(OCc4ccccc4)cc3c2c1COC</td>\n",
       "      <td>benzodiazepine receptor agonist</td>\n",
       "    </tr>\n",
       "    <tr>\n",
       "      <th>1220</th>\n",
       "      <td>CN(C)C(=O)Cc1c(nc2ccc(C)cn12)-c1ccc(C)cc1</td>\n",
       "      <td>benzodiazepine receptor agonist</td>\n",
       "    </tr>\n",
       "  </tbody>\n",
       "</table>\n",
       "<p>1221 rows × 2 columns</p>\n",
       "</div>"
      ],
      "text/plain": [
       "                                                SMILES  \\\n",
       "0             CCCC(=O)Nc1ccc(OCC(O)CNC(C)C)c(c1)C(C)=O   \n",
       "1          COc1cc2nc(nc(N)c2cc1OC)N(C)CCCNC(=O)C1CCCO1   \n",
       "2                            CC(C)NCC(O)COc1ccccc1CC=C   \n",
       "3     COc1ccccc1N1CCN(CCN2C(=O)c3ccccc3C(C)(C)C2=O)CC1   \n",
       "4            CC(C)(C)NCC(O)CSc1nc(cs1)-c1ccc(s1)C(N)=O   \n",
       "...                                                ...   \n",
       "1216                                        OCCCC(O)=O   \n",
       "1217              CN1c2ccc(Cl)cc2C(=NC(O)C1=O)c1ccccc1   \n",
       "1218          CCN(C(C)=O)c1cccc(c1)-c1ccnc2c(cnn12)C#N   \n",
       "1219     CCOC(=O)c1ncc2[nH]c3ccc(OCc4ccccc4)cc3c2c1COC   \n",
       "1220         CN(C)C(=O)Cc1c(nc2ccc(C)cn12)-c1ccc(C)cc1   \n",
       "\n",
       "                                  MOA  \n",
       "0      adrenergic receptor antagonist  \n",
       "1      adrenergic receptor antagonist  \n",
       "2      adrenergic receptor antagonist  \n",
       "3      adrenergic receptor antagonist  \n",
       "4      adrenergic receptor antagonist  \n",
       "...                               ...  \n",
       "1216  benzodiazepine receptor agonist  \n",
       "1217  benzodiazepine receptor agonist  \n",
       "1218  benzodiazepine receptor agonist  \n",
       "1219  benzodiazepine receptor agonist  \n",
       "1220  benzodiazepine receptor agonist  \n",
       "\n",
       "[1221 rows x 2 columns]"
      ]
     },
     "execution_count": 1,
     "metadata": {},
     "output_type": "execute_result"
    }
   ],
   "source": [
    "# read the SMILES-MoA data  \n",
    "import pandas as pd\n",
    "import numpy as np\n",
    "df = pd.read_csv('top_20_MOAs.txt', sep = '\\t')\n",
    "# df = pd.read_csv('/home/jovyan/Tomics-CP-Chem-MoA/data_for_models/all_data.csv')\n",
    "len(df)\n",
    "df"
   ]
  },
  {
   "cell_type": "code",
   "execution_count": 4,
   "metadata": {},
   "outputs": [
    {
     "data": {
      "text/plain": [
       "cyclooxygenase inhibitor                   99\n",
       "bacterial cell wall synthesis inhibitor    95\n",
       "adrenergic receptor antagonist             95\n",
       "adrenergic receptor agonist                83\n",
       "acetylcholine receptor antagonist          83\n",
       "glutamate receptor antagonist              74\n",
       "histamine receptor antagonist              70\n",
       "serotonin receptor antagonist              69\n",
       "dopamine receptor antagonist               63\n",
       "phosphodiesterase inhibitor                62\n",
       "serotonin receptor agonist                 61\n",
       "glucocorticoid receptor agonist            46\n",
       "calcium channel blocker                    46\n",
       "acetylcholine receptor agonist             43\n",
       "PI3K inhibitor                             42\n",
       "EGFR inhibitor                             40\n",
       "HDAC inhibitor                             39\n",
       "sodium channel blocker                     39\n",
       "topoisomerase inhibitor                    37\n",
       "benzodiazepine receptor agonist            35\n",
       "Name: MOA, dtype: int64"
      ]
     },
     "execution_count": 4,
     "metadata": {},
     "output_type": "execute_result"
    }
   ],
   "source": [
    "df[\"MOA\"].value_counts()"
   ]
  },
  {
   "cell_type": "code",
   "execution_count": 35,
   "metadata": {
    "id": "17c5-JuGBwb0"
   },
   "outputs": [
    {
     "data": {
      "text/plain": [
       "\"# change 20 MoAs to classes \\nMOA_class_dictionary = {'EGFR inhibitor': 8,\\n 'HDAC inhibitor': 16,\\n 'PI3K inhibitor': 13,\\n 'acetylcholine receptor agonist': 1,\\n 'acetylcholine receptor antagonist': 4,\\n 'adrenergic receptor agonist': 18,\\n 'adrenergic receptor antagonist': 15,\\n 'bacterial cell wall synthesis inhibitor': 14,\\n 'benzodiazepine receptor agonist': 10,\\n 'calcium channel blocker': 5,\\n 'cyclooxygenase inhibitor': 6,\\n 'dopamine receptor antagonist': 12,\\n 'glucocorticoid receptor agonist': 9,\\n 'glutamate receptor antagonist': 19,\\n 'histamine receptor antagonist': 17,\\n 'phosphodiesterase inhibitor': 3,\\n 'serotonin receptor agonist': 7,\\n 'serotonin receptor antagonist': 2,\\n 'sodium channel blocker': 11,\\n 'topoisomerase inhibitor': 0}\""
      ]
     },
     "execution_count": 35,
     "metadata": {},
     "output_type": "execute_result"
    }
   ],
   "source": [
    "\"\"\"# change 20 MoAs to classes \n",
    "MOA_class_dictionary = {'EGFR inhibitor': 8,\n",
    " 'HDAC inhibitor': 16,\n",
    " 'PI3K inhibitor': 13,\n",
    " 'acetylcholine receptor agonist': 1,\n",
    " 'acetylcholine receptor antagonist': 4,\n",
    " 'adrenergic receptor agonist': 18,\n",
    " 'adrenergic receptor antagonist': 15,\n",
    " 'bacterial cell wall synthesis inhibitor': 14,\n",
    " 'benzodiazepine receptor agonist': 10,\n",
    " 'calcium channel blocker': 5,\n",
    " 'cyclooxygenase inhibitor': 6,\n",
    " 'dopamine receptor antagonist': 12,\n",
    " 'glucocorticoid receptor agonist': 9,\n",
    " 'glutamate receptor antagonist': 19,\n",
    " 'histamine receptor antagonist': 17,\n",
    " 'phosphodiesterase inhibitor': 3,\n",
    " 'serotonin receptor agonist': 7,\n",
    " 'serotonin receptor antagonist': 2,\n",
    " 'sodium channel blocker': 11,\n",
    " 'topoisomerase inhibitor': 0}\"\"\""
   ]
  },
  {
   "cell_type": "code",
   "execution_count": null,
   "metadata": {},
   "outputs": [],
   "source": [
    "# 10 selected MoAs \n",
    "moas_to_use = ['Aurora kinase inhibitor', 'tubulin polymerization inhibitor', 'JAK inhibitor', 'protein synthesis inhibitor', 'HDAC inhibitor', \n",
    "        'topoisomerase inhibitor', 'PARP inhibitor', 'ATPase inhibitor', 'retinoid receptor agonist', 'HSP inhibitor']"
   ]
  },
  {
   "cell_type": "code",
   "execution_count": null,
   "metadata": {},
   "outputs": [],
   "source": [
    "'''df = df[df['MOA'].isin(moas_to_use)]\n",
    "len(df_filtered)\n",
    "print(df_filtered)'''"
   ]
  },
  {
   "cell_type": "code",
   "execution_count": 92,
   "metadata": {},
   "outputs": [],
   "source": [
    "MOA_class_dictionary = {'ATPase inhibitor': 7, 'Aurora kinase inhibitor': 0,\n",
    " 'HDAC inhibitor': 4, 'HSP inhibitor': 9, 'JAK inhibitor': 2, 'PARP inhibitor': 6,\n",
    " 'protein synthesis inhibitor': 3, 'retinoid receptor agonist': 8,\n",
    " 'topoisomerase inhibitor': 5, 'tubulin polymerization inhibitor': 1}"
   ]
  },
  {
   "cell_type": "code",
   "execution_count": 93,
   "metadata": {
    "id": "lF5D5wb6CRCn"
   },
   "outputs": [
    {
     "data": {
      "text/html": [
       "<div>\n",
       "<style scoped>\n",
       "    .dataframe tbody tr th:only-of-type {\n",
       "        vertical-align: middle;\n",
       "    }\n",
       "\n",
       "    .dataframe tbody tr th {\n",
       "        vertical-align: top;\n",
       "    }\n",
       "\n",
       "    .dataframe thead th {\n",
       "        text-align: right;\n",
       "    }\n",
       "</style>\n",
       "<table border=\"1\" class=\"dataframe\">\n",
       "  <thead>\n",
       "    <tr style=\"text-align: right;\">\n",
       "      <th></th>\n",
       "      <th>SMILES</th>\n",
       "      <th>MOA</th>\n",
       "      <th>classes</th>\n",
       "    </tr>\n",
       "  </thead>\n",
       "  <tbody>\n",
       "    <tr>\n",
       "      <th>0</th>\n",
       "      <td>ONC(=O)CCCCCCNC(=O)c1cnc(nc1)N(c1ccccc1)c1ccccc1</td>\n",
       "      <td>HDAC inhibitor</td>\n",
       "      <td>4</td>\n",
       "    </tr>\n",
       "    <tr>\n",
       "      <th>1</th>\n",
       "      <td>CC(C)[C@H](C(=O)Nc1ccc(cc1)C(=O)NO)c1ccccc1</td>\n",
       "      <td>HDAC inhibitor</td>\n",
       "      <td>4</td>\n",
       "    </tr>\n",
       "    <tr>\n",
       "      <th>2</th>\n",
       "      <td>ONC(=O)\\C=C\\c1cccc(c1)S(=O)(=O)Nc1ccccc1</td>\n",
       "      <td>HDAC inhibitor</td>\n",
       "      <td>4</td>\n",
       "    </tr>\n",
       "    <tr>\n",
       "      <th>3</th>\n",
       "      <td>Nc1ccc(F)cc1NC(=O)c1ccc(CNC(=O)\\C=C\\c2cccnc2)cc1</td>\n",
       "      <td>HDAC inhibitor</td>\n",
       "      <td>4</td>\n",
       "    </tr>\n",
       "    <tr>\n",
       "      <th>4</th>\n",
       "      <td>OCCN(CCc1c[nH]c2ccccc12)Cc1ccc(\\C=C\\C(=O)NO)cc1</td>\n",
       "      <td>HDAC inhibitor</td>\n",
       "      <td>4</td>\n",
       "    </tr>\n",
       "    <tr>\n",
       "      <th>...</th>\n",
       "      <td>...</td>\n",
       "      <td>...</td>\n",
       "      <td>...</td>\n",
       "    </tr>\n",
       "    <tr>\n",
       "      <th>71</th>\n",
       "      <td>COc1cc(cc(OC)c1O)[C@H]1[C@@H]2[C@H](COC2=O)[C@...</td>\n",
       "      <td>topoisomerase inhibitor</td>\n",
       "      <td>5</td>\n",
       "    </tr>\n",
       "    <tr>\n",
       "      <th>72</th>\n",
       "      <td>CC[C@@]1(O)C(=O)OCc2c1cc1-c3nc4ccc(O)c(CN(C)C)...</td>\n",
       "      <td>topoisomerase inhibitor</td>\n",
       "      <td>5</td>\n",
       "    </tr>\n",
       "    <tr>\n",
       "      <th>73</th>\n",
       "      <td>CN[C@H]1CN(C[C@@H]1OC)c1ccc2c(n1)n(cc(C(O)=O)c...</td>\n",
       "      <td>topoisomerase inhibitor</td>\n",
       "      <td>5</td>\n",
       "    </tr>\n",
       "    <tr>\n",
       "      <th>74</th>\n",
       "      <td>CC[C@@]1(O)C(=O)OCc2c1cc1-c3nc4ccc(O)cc4cc3Cn1...</td>\n",
       "      <td>topoisomerase inhibitor</td>\n",
       "      <td>5</td>\n",
       "    </tr>\n",
       "    <tr>\n",
       "      <th>75</th>\n",
       "      <td>CC[C@@]1(O)C(=O)OCc2c1cc1-c3nc4cccc(N)c4cc3Cn1...</td>\n",
       "      <td>topoisomerase inhibitor</td>\n",
       "      <td>5</td>\n",
       "    </tr>\n",
       "  </tbody>\n",
       "</table>\n",
       "<p>76 rows × 3 columns</p>\n",
       "</div>"
      ],
      "text/plain": [
       "                                               SMILES  \\\n",
       "0    ONC(=O)CCCCCCNC(=O)c1cnc(nc1)N(c1ccccc1)c1ccccc1   \n",
       "1         CC(C)[C@H](C(=O)Nc1ccc(cc1)C(=O)NO)c1ccccc1   \n",
       "2            ONC(=O)\\C=C\\c1cccc(c1)S(=O)(=O)Nc1ccccc1   \n",
       "3    Nc1ccc(F)cc1NC(=O)c1ccc(CNC(=O)\\C=C\\c2cccnc2)cc1   \n",
       "4     OCCN(CCc1c[nH]c2ccccc12)Cc1ccc(\\C=C\\C(=O)NO)cc1   \n",
       "..                                                ...   \n",
       "71  COc1cc(cc(OC)c1O)[C@H]1[C@@H]2[C@H](COC2=O)[C@...   \n",
       "72  CC[C@@]1(O)C(=O)OCc2c1cc1-c3nc4ccc(O)c(CN(C)C)...   \n",
       "73  CN[C@H]1CN(C[C@@H]1OC)c1ccc2c(n1)n(cc(C(O)=O)c...   \n",
       "74  CC[C@@]1(O)C(=O)OCc2c1cc1-c3nc4ccc(O)cc4cc3Cn1...   \n",
       "75  CC[C@@]1(O)C(=O)OCc2c1cc1-c3nc4cccc(N)c4cc3Cn1...   \n",
       "\n",
       "                        MOA classes  \n",
       "0            HDAC inhibitor       4  \n",
       "1            HDAC inhibitor       4  \n",
       "2            HDAC inhibitor       4  \n",
       "3            HDAC inhibitor       4  \n",
       "4            HDAC inhibitor       4  \n",
       "..                      ...     ...  \n",
       "71  topoisomerase inhibitor       5  \n",
       "72  topoisomerase inhibitor       5  \n",
       "73  topoisomerase inhibitor       5  \n",
       "74  topoisomerase inhibitor       5  \n",
       "75  topoisomerase inhibitor       5  \n",
       "\n",
       "[76 rows x 3 columns]"
      ]
     },
     "execution_count": 113,
     "metadata": {},
     "output_type": "execute_result"
    }
   ],
   "source": [
    "# add classes column \n",
    "df['classes'] = None\n",
    "for i in range(df.shape[0]):\n",
    "  df.iloc[i,2] = MOA_class_dictionary[df.iloc[i,1]]"
   ]
  },
  {
   "cell_type": "code",
   "execution_count": 96,
   "metadata": {},
   "outputs": [],
   "source": [
    "df = df.reset_index(drop = True)"
   ]
  },
  {
   "cell_type": "code",
   "execution_count": 66,
   "metadata": {
    "id": "xowg0CstLlC-"
   },
   "outputs": [],
   "source": [
    "# split out the test set  \n",
    "from sklearn.model_selection import train_test_split\n",
    "x_train_valid, x_test, y_train_valid, y_test = train_test_split(df.SMILES, df.classes, test_size =10/100,\n",
    " stratify = df.classes, shuffle = True, random_state = 1000)"
   ]
  },
  {
   "cell_type": "code",
   "execution_count": 67,
   "metadata": {
    "id": "BLlcRhSeU6xW"
   },
   "outputs": [],
   "source": [
    "# kfold\n",
    "from sklearn.model_selection import StratifiedKFold\n",
    "skf = StratifiedKFold(n_splits = 3)\n",
    "skf.get_n_splits(np.array(list(x_train_valid)), np.array(list(y_train_valid)))\n",
    "train_index_list = []\n",
    "valid_index_list = []\n",
    "for train_index, valid_index in skf.split(np.array(list(x_train_valid)), np.array(list(y_train_valid))):\n",
    "  train_index_list.append(train_index)\n",
    "  valid_index_list.append(valid_index)"
   ]
  },
  {
   "cell_type": "code",
   "execution_count": 68,
   "metadata": {
    "id": "aOFIJo5MEMT0"
   },
   "outputs": [],
   "source": [
    "number_of_kfold = 0      # change the number from 0-8 to get 9 shuffles\n",
    "x_train = list(np.array(list(x_train_valid))[train_index_list[ number_of_kfold ]])\n",
    "x_valid = list(np.array(list(x_train_valid))[valid_index_list[ number_of_kfold ]])\n",
    "y_train = list(np.array(list(y_train_valid))[train_index_list[ number_of_kfold ]])\n",
    "y_valid = list(np.array(list(y_train_valid))[valid_index_list[ number_of_kfold ]])\n",
    "x_test = list(x_test)\n",
    "y_test = list(y_test)"
   ]
  },
  {
   "cell_type": "code",
   "execution_count": 69,
   "metadata": {
    "id": "L0OPr-gtR8sj"
   },
   "outputs": [],
   "source": [
    "# turn to cannoical smiles\n",
    "import rdkit\n",
    "import numpy as np\n",
    "from rdkit import Chem, DataStructs\n",
    "from rdkit.Chem import AllChem\n",
    "x_train = [Chem.MolToSmiles(Chem.MolFromSmiles(smi),True) for smi in x_train]\n",
    "x_valid = [Chem.MolToSmiles(Chem.MolFromSmiles(smi),True) for smi in x_valid]\n",
    "x_test = [Chem.MolToSmiles(Chem.MolFromSmiles(smi),True) for smi in x_test]"
   ]
  },
  {
   "cell_type": "code",
   "execution_count": 70,
   "metadata": {
    "id": "ZB4WWi8wKB59"
   },
   "outputs": [],
   "source": [
    "# change SMILES to Morgan Fingerprints \n",
    "def smiles_to_array(smiles):\n",
    "  molecules = Chem.MolFromSmiles(smiles) \n",
    "  fingerprints = AllChem.GetMorganFingerprintAsBitVect(molecules, 2)\n",
    "  x_array = []\n",
    "  arrays = np.zeros(0,)\n",
    "  DataStructs.ConvertToNumpyArray(fingerprints, arrays)\n",
    "  x_array.append(arrays)\n",
    "  x_array = np.asarray(x_array)\n",
    "  x_array = ((np.squeeze(x_array)).astype(int)) \n",
    "  return x_array"
   ]
  },
  {
   "cell_type": "code",
   "execution_count": 71,
   "metadata": {
    "id": "a6Fy6iGdLSVP"
   },
   "outputs": [],
   "source": [
    "# get the training set \n",
    "train_x = np.zeros((len(x_train), 2048), dtype = np.float32)\n",
    "for f in range(train_x.shape[0]):\n",
    "  train_x[f] = smiles_to_array(x_train[f])"
   ]
  },
  {
   "cell_type": "code",
   "execution_count": 72,
   "metadata": {
    "id": "dKhQc7EOKHMM"
   },
   "outputs": [],
   "source": [
    "# get the validation set \n",
    "valid_x = np.zeros((len(x_valid), 2048), dtype = np.float32)\n",
    "for f in range(valid_x.shape[0]):\n",
    "  valid_x[f] = smiles_to_array(x_valid[f])"
   ]
  },
  {
   "cell_type": "code",
   "execution_count": 73,
   "metadata": {
    "id": "eSJBpQREMRYr"
   },
   "outputs": [],
   "source": [
    "# get the test set \n",
    "test_x = np.zeros((len(x_test), 2048), dtype = np.float32)\n",
    "for f in range(test_x.shape[0]):\n",
    "  test_x[f] = smiles_to_array(x_test[f])"
   ]
  },
  {
   "cell_type": "code",
   "execution_count": 74,
   "metadata": {
    "id": "557ApFkFa6j7"
   },
   "outputs": [],
   "source": [
    "y_train = np.array(y_train).astype(int)\n",
    "y_valid = np.array(y_valid).astype(int)\n",
    "y_test = np.array(y_test).astype(int)"
   ]
  },
  {
   "cell_type": "code",
   "execution_count": 75,
   "metadata": {
    "id": "KlcQEfe9M-VV"
   },
   "outputs": [],
   "source": [
    "# create class weights\n",
    "from sklearn.utils import class_weight\n",
    "y_unique = np.unique(np.array(y_train))\n",
    "class_weights = class_weight.compute_class_weight(class_weight = 'balanced', classes = y_unique,\n",
    "                y = np.array(y_train)) \n",
    "class_weights_dict45 = dict(enumerate(class_weights))"
   ]
  },
  {
   "cell_type": "code",
   "execution_count": 76,
   "metadata": {
    "id": "ta8ysiFqNkpJ"
   },
   "outputs": [],
   "source": [
    "# set the architecture of model      \n",
    "import tensorflow as tf\n",
    "from keras.models import Model\n",
    "from keras.layers import Input, Dense, Dropout\n",
    "num = len(set(df.MOA.tolist()))\n",
    "input1 = Input(shape=(train_x.shape[1],))\n",
    "layer = Dense(64, activation='relu')(input1)\n",
    "layer = Dropout(0.85)(layer)\n",
    "layer = Dense(num, activation='softmax')(layer)\n",
    "model1 = Model(inputs = input1, outputs = layer)"
   ]
  },
  {
   "cell_type": "code",
   "execution_count": 77,
   "metadata": {
    "id": "ooDkEyMsNwkP"
   },
   "outputs": [],
   "source": [
    "# set the checkpoint   \n",
    "from keras.callbacks import ModelCheckpoint\n",
    "filepath_mlp = './content/MLP_20_MOA_weights.hdf5'\n",
    "checkpoint_mlp = ModelCheckpoint(filepath_mlp, monitor='val_accuracy', verbose=0, save_best_only = True,\n",
    "                mode = 'max')"
   ]
  },
  {
   "cell_type": "code",
   "execution_count": 78,
   "metadata": {
    "id": "Dt90GZzfOBar"
   },
   "outputs": [],
   "source": [
    "# compile the model \n",
    "model1.compile(optimizer = tf.keras.optimizers.Adam(learning_rate = 1e-4),\n",
    "        loss = tf.keras.losses.SparseCategoricalCrossentropy(from_logits = True),\n",
    "        metrics = ['accuracy'])"
   ]
  },
  {
   "cell_type": "code",
   "execution_count": 79,
   "metadata": {
    "id": "gFbTVo2qkIJh"
   },
   "outputs": [
    {
     "name": "stdout",
     "output_type": "stream",
     "text": [
      "Epoch 1/1800\n"
     ]
    },
    {
     "name": "stderr",
     "output_type": "stream",
     "text": [
      "/usr/local/lib/python3.6/dist-packages/keras/backend.py:4907: UserWarning: \"`sparse_categorical_crossentropy` received `from_logits=True`, but the `output` argument was produced by a sigmoid or softmax activation and thus does not represent logits. Was this intended?\"\n",
      "  '\"`sparse_categorical_crossentropy` received `from_logits=True`, but '\n"
     ]
    },
    {
     "ename": "InvalidArgumentError",
     "evalue": "2 root error(s) found.\n  (0) Invalid argument:  indices[0] = 4 is not in [0, 2)\n\t [[{{node GatherV2}}]]\n\t [[IteratorGetNext]]\n  (1) Invalid argument:  indices[0] = 4 is not in [0, 2)\n\t [[{{node GatherV2}}]]\n\t [[IteratorGetNext]]\n\t [[IteratorGetNext/_2]]\n0 successful operations.\n0 derived errors ignored. [Op:__inference_train_function_30294]\n\nFunction call stack:\ntrain_function -> train_function\n",
     "output_type": "error",
     "traceback": [
      "\u001b[0;31m---------------------------------------------------------------------------\u001b[0m",
      "\u001b[0;31mInvalidArgumentError\u001b[0m                      Traceback (most recent call last)",
      "\u001b[0;32m<ipython-input-144-9ccfa6d43767>\u001b[0m in \u001b[0;36m<module>\u001b[0;34m\u001b[0m\n\u001b[1;32m      6\u001b[0m history = model1.fit(train_x, y_train, validation_data=(valid_x, y_valid), class_weight=class_weights_dict45,\n\u001b[1;32m      7\u001b[0m             \u001b[0mshuffle\u001b[0m\u001b[0;34m=\u001b[0m\u001b[0;32mTrue\u001b[0m\u001b[0;34m,\u001b[0m \u001b[0mverbose\u001b[0m\u001b[0;34m=\u001b[0m\u001b[0;36m2\u001b[0m\u001b[0;34m,\u001b[0m \u001b[0mepochs\u001b[0m\u001b[0;34m=\u001b[0m\u001b[0;36m1800\u001b[0m\u001b[0;34m,\u001b[0m \u001b[0mbatch_size\u001b[0m\u001b[0;34m=\u001b[0m\u001b[0;36m64\u001b[0m\u001b[0;34m,\u001b[0m\u001b[0;34m\u001b[0m\u001b[0;34m\u001b[0m\u001b[0m\n\u001b[0;32m----> 8\u001b[0;31m             callbacks=[earlyStopping, checkpoint_mlp, reduce_lr_loss])\n\u001b[0m",
      "\u001b[0;32m/usr/local/lib/python3.6/dist-packages/keras/engine/training.py\u001b[0m in \u001b[0;36mfit\u001b[0;34m(self, x, y, batch_size, epochs, verbose, callbacks, validation_split, validation_data, shuffle, class_weight, sample_weight, initial_epoch, steps_per_epoch, validation_steps, validation_batch_size, validation_freq, max_queue_size, workers, use_multiprocessing)\u001b[0m\n\u001b[1;32m   1182\u001b[0m                 _r=1):\n\u001b[1;32m   1183\u001b[0m               \u001b[0mcallbacks\u001b[0m\u001b[0;34m.\u001b[0m\u001b[0mon_train_batch_begin\u001b[0m\u001b[0;34m(\u001b[0m\u001b[0mstep\u001b[0m\u001b[0;34m)\u001b[0m\u001b[0;34m\u001b[0m\u001b[0;34m\u001b[0m\u001b[0m\n\u001b[0;32m-> 1184\u001b[0;31m               \u001b[0mtmp_logs\u001b[0m \u001b[0;34m=\u001b[0m \u001b[0mself\u001b[0m\u001b[0;34m.\u001b[0m\u001b[0mtrain_function\u001b[0m\u001b[0;34m(\u001b[0m\u001b[0miterator\u001b[0m\u001b[0;34m)\u001b[0m\u001b[0;34m\u001b[0m\u001b[0;34m\u001b[0m\u001b[0m\n\u001b[0m\u001b[1;32m   1185\u001b[0m               \u001b[0;32mif\u001b[0m \u001b[0mdata_handler\u001b[0m\u001b[0;34m.\u001b[0m\u001b[0mshould_sync\u001b[0m\u001b[0;34m:\u001b[0m\u001b[0;34m\u001b[0m\u001b[0;34m\u001b[0m\u001b[0m\n\u001b[1;32m   1186\u001b[0m                 \u001b[0mcontext\u001b[0m\u001b[0;34m.\u001b[0m\u001b[0masync_wait\u001b[0m\u001b[0;34m(\u001b[0m\u001b[0;34m)\u001b[0m\u001b[0;34m\u001b[0m\u001b[0;34m\u001b[0m\u001b[0m\n",
      "\u001b[0;32m/usr/local/lib/python3.6/dist-packages/tensorflow/python/eager/def_function.py\u001b[0m in \u001b[0;36m__call__\u001b[0;34m(self, *args, **kwds)\u001b[0m\n\u001b[1;32m    883\u001b[0m \u001b[0;34m\u001b[0m\u001b[0m\n\u001b[1;32m    884\u001b[0m       \u001b[0;32mwith\u001b[0m \u001b[0mOptionalXlaContext\u001b[0m\u001b[0;34m(\u001b[0m\u001b[0mself\u001b[0m\u001b[0;34m.\u001b[0m\u001b[0m_jit_compile\u001b[0m\u001b[0;34m)\u001b[0m\u001b[0;34m:\u001b[0m\u001b[0;34m\u001b[0m\u001b[0;34m\u001b[0m\u001b[0m\n\u001b[0;32m--> 885\u001b[0;31m         \u001b[0mresult\u001b[0m \u001b[0;34m=\u001b[0m \u001b[0mself\u001b[0m\u001b[0;34m.\u001b[0m\u001b[0m_call\u001b[0m\u001b[0;34m(\u001b[0m\u001b[0;34m*\u001b[0m\u001b[0margs\u001b[0m\u001b[0;34m,\u001b[0m \u001b[0;34m**\u001b[0m\u001b[0mkwds\u001b[0m\u001b[0;34m)\u001b[0m\u001b[0;34m\u001b[0m\u001b[0;34m\u001b[0m\u001b[0m\n\u001b[0m\u001b[1;32m    886\u001b[0m \u001b[0;34m\u001b[0m\u001b[0m\n\u001b[1;32m    887\u001b[0m       \u001b[0mnew_tracing_count\u001b[0m \u001b[0;34m=\u001b[0m \u001b[0mself\u001b[0m\u001b[0;34m.\u001b[0m\u001b[0mexperimental_get_tracing_count\u001b[0m\u001b[0;34m(\u001b[0m\u001b[0;34m)\u001b[0m\u001b[0;34m\u001b[0m\u001b[0;34m\u001b[0m\u001b[0m\n",
      "\u001b[0;32m/usr/local/lib/python3.6/dist-packages/tensorflow/python/eager/def_function.py\u001b[0m in \u001b[0;36m_call\u001b[0;34m(self, *args, **kwds)\u001b[0m\n\u001b[1;32m    948\u001b[0m         \u001b[0;31m# Lifting succeeded, so variables are initialized and we can run the\u001b[0m\u001b[0;34m\u001b[0m\u001b[0;34m\u001b[0m\u001b[0;34m\u001b[0m\u001b[0m\n\u001b[1;32m    949\u001b[0m         \u001b[0;31m# stateless function.\u001b[0m\u001b[0;34m\u001b[0m\u001b[0;34m\u001b[0m\u001b[0;34m\u001b[0m\u001b[0m\n\u001b[0;32m--> 950\u001b[0;31m         \u001b[0;32mreturn\u001b[0m \u001b[0mself\u001b[0m\u001b[0;34m.\u001b[0m\u001b[0m_stateless_fn\u001b[0m\u001b[0;34m(\u001b[0m\u001b[0;34m*\u001b[0m\u001b[0margs\u001b[0m\u001b[0;34m,\u001b[0m \u001b[0;34m**\u001b[0m\u001b[0mkwds\u001b[0m\u001b[0;34m)\u001b[0m\u001b[0;34m\u001b[0m\u001b[0;34m\u001b[0m\u001b[0m\n\u001b[0m\u001b[1;32m    951\u001b[0m     \u001b[0;32melse\u001b[0m\u001b[0;34m:\u001b[0m\u001b[0;34m\u001b[0m\u001b[0;34m\u001b[0m\u001b[0m\n\u001b[1;32m    952\u001b[0m       \u001b[0m_\u001b[0m\u001b[0;34m,\u001b[0m \u001b[0m_\u001b[0m\u001b[0;34m,\u001b[0m \u001b[0m_\u001b[0m\u001b[0;34m,\u001b[0m \u001b[0mfiltered_flat_args\u001b[0m \u001b[0;34m=\u001b[0m\u001b[0;31m \u001b[0m\u001b[0;31m\\\u001b[0m\u001b[0;34m\u001b[0m\u001b[0;34m\u001b[0m\u001b[0m\n",
      "\u001b[0;32m/usr/local/lib/python3.6/dist-packages/tensorflow/python/eager/function.py\u001b[0m in \u001b[0;36m__call__\u001b[0;34m(self, *args, **kwargs)\u001b[0m\n\u001b[1;32m   3038\u001b[0m        filtered_flat_args) = self._maybe_define_function(args, kwargs)\n\u001b[1;32m   3039\u001b[0m     return graph_function._call_flat(\n\u001b[0;32m-> 3040\u001b[0;31m         filtered_flat_args, captured_inputs=graph_function.captured_inputs)  # pylint: disable=protected-access\n\u001b[0m\u001b[1;32m   3041\u001b[0m \u001b[0;34m\u001b[0m\u001b[0m\n\u001b[1;32m   3042\u001b[0m   \u001b[0;34m@\u001b[0m\u001b[0mproperty\u001b[0m\u001b[0;34m\u001b[0m\u001b[0;34m\u001b[0m\u001b[0m\n",
      "\u001b[0;32m/usr/local/lib/python3.6/dist-packages/tensorflow/python/eager/function.py\u001b[0m in \u001b[0;36m_call_flat\u001b[0;34m(self, args, captured_inputs, cancellation_manager)\u001b[0m\n\u001b[1;32m   1962\u001b[0m       \u001b[0;31m# No tape is watching; skip to running the function.\u001b[0m\u001b[0;34m\u001b[0m\u001b[0;34m\u001b[0m\u001b[0;34m\u001b[0m\u001b[0m\n\u001b[1;32m   1963\u001b[0m       return self._build_call_outputs(self._inference_function.call(\n\u001b[0;32m-> 1964\u001b[0;31m           ctx, args, cancellation_manager=cancellation_manager))\n\u001b[0m\u001b[1;32m   1965\u001b[0m     forward_backward = self._select_forward_and_backward_functions(\n\u001b[1;32m   1966\u001b[0m         \u001b[0margs\u001b[0m\u001b[0;34m,\u001b[0m\u001b[0;34m\u001b[0m\u001b[0;34m\u001b[0m\u001b[0m\n",
      "\u001b[0;32m/usr/local/lib/python3.6/dist-packages/tensorflow/python/eager/function.py\u001b[0m in \u001b[0;36mcall\u001b[0;34m(self, ctx, args, cancellation_manager)\u001b[0m\n\u001b[1;32m    594\u001b[0m               \u001b[0minputs\u001b[0m\u001b[0;34m=\u001b[0m\u001b[0margs\u001b[0m\u001b[0;34m,\u001b[0m\u001b[0;34m\u001b[0m\u001b[0;34m\u001b[0m\u001b[0m\n\u001b[1;32m    595\u001b[0m               \u001b[0mattrs\u001b[0m\u001b[0;34m=\u001b[0m\u001b[0mattrs\u001b[0m\u001b[0;34m,\u001b[0m\u001b[0;34m\u001b[0m\u001b[0;34m\u001b[0m\u001b[0m\n\u001b[0;32m--> 596\u001b[0;31m               ctx=ctx)\n\u001b[0m\u001b[1;32m    597\u001b[0m         \u001b[0;32melse\u001b[0m\u001b[0;34m:\u001b[0m\u001b[0;34m\u001b[0m\u001b[0;34m\u001b[0m\u001b[0m\n\u001b[1;32m    598\u001b[0m           outputs = execute.execute_with_cancellation(\n",
      "\u001b[0;32m/usr/local/lib/python3.6/dist-packages/tensorflow/python/eager/execute.py\u001b[0m in \u001b[0;36mquick_execute\u001b[0;34m(op_name, num_outputs, inputs, attrs, ctx, name)\u001b[0m\n\u001b[1;32m     58\u001b[0m     \u001b[0mctx\u001b[0m\u001b[0;34m.\u001b[0m\u001b[0mensure_initialized\u001b[0m\u001b[0;34m(\u001b[0m\u001b[0;34m)\u001b[0m\u001b[0;34m\u001b[0m\u001b[0;34m\u001b[0m\u001b[0m\n\u001b[1;32m     59\u001b[0m     tensors = pywrap_tfe.TFE_Py_Execute(ctx._handle, device_name, op_name,\n\u001b[0;32m---> 60\u001b[0;31m                                         inputs, attrs, num_outputs)\n\u001b[0m\u001b[1;32m     61\u001b[0m   \u001b[0;32mexcept\u001b[0m \u001b[0mcore\u001b[0m\u001b[0;34m.\u001b[0m\u001b[0m_NotOkStatusException\u001b[0m \u001b[0;32mas\u001b[0m \u001b[0me\u001b[0m\u001b[0;34m:\u001b[0m\u001b[0;34m\u001b[0m\u001b[0;34m\u001b[0m\u001b[0m\n\u001b[1;32m     62\u001b[0m     \u001b[0;32mif\u001b[0m \u001b[0mname\u001b[0m \u001b[0;32mis\u001b[0m \u001b[0;32mnot\u001b[0m \u001b[0;32mNone\u001b[0m\u001b[0;34m:\u001b[0m\u001b[0;34m\u001b[0m\u001b[0;34m\u001b[0m\u001b[0m\n",
      "\u001b[0;31mInvalidArgumentError\u001b[0m: 2 root error(s) found.\n  (0) Invalid argument:  indices[0] = 4 is not in [0, 2)\n\t [[{{node GatherV2}}]]\n\t [[IteratorGetNext]]\n  (1) Invalid argument:  indices[0] = 4 is not in [0, 2)\n\t [[{{node GatherV2}}]]\n\t [[IteratorGetNext]]\n\t [[IteratorGetNext/_2]]\n0 successful operations.\n0 derived errors ignored. [Op:__inference_train_function_30294]\n\nFunction call stack:\ntrain_function -> train_function\n"
     ]
    }
   ],
   "source": [
    "# train the model \n",
    "from tensorflow.keras.callbacks import EarlyStopping\n",
    "earlyStopping = EarlyStopping(monitor='val_loss', patience=25, verbose=0, mode='min')  \n",
    "reduce_lr_loss = tf.keras.callbacks.ReduceLROnPlateau(monitor='val_loss',\n",
    "                  factor=0.1, patience=7, verbose=0, min_delta=1e-119, mode='min')\n",
    "history = model1.fit(train_x, y_train, validation_data=(valid_x, y_valid), class_weight=class_weights_dict45,\n",
    "            shuffle=True, verbose=2, epochs=1800, batch_size=64,\n",
    "            callbacks=[earlyStopping, checkpoint_mlp, reduce_lr_loss])"
   ]
  },
  {
   "cell_type": "code",
   "execution_count": 80,
   "metadata": {
    "id": "iGHXy6V2gONJ"
   },
   "outputs": [],
   "source": [
    "# Load the best model\n",
    "from keras.models import load_model\n",
    "best_model = load_model(filepath_mlp)"
   ]
  },
  {
   "cell_type": "code",
   "execution_count": 61,
   "metadata": {
    "id": "ScVSLvv4fDv-"
   },
   "outputs": [],
   "source": [
    "# Evaluate the model \n",
    "from sklearn.metrics import classification_report\n",
    "assert list(y_test)[0:5] == [14, 12, 6, 13, 14]\n",
    "print(classification_report(y_test, np.array(best_model.predict(test_x).argmax(-1)),))"
   ]
  },
  {
   "cell_type": "code",
   "execution_count": 62,
   "metadata": {
    "id": "QnTRonUbnyqb"
   },
   "outputs": [
    {
     "data": {
      "image/png": "[encoded data removed]",
      "text/plain": [
       "<Figure size 432x288 with 1 Axes>"
      ]
     },
     "metadata": {
      "needs_background": "light"
     },
     "output_type": "display_data"
    },
    {
     "data": {
      "image/png": "[encoded data removed]",
      "text/plain": [
       "<Figure size 432x288 with 1 Axes>"
      ]
     },
     "metadata": {
      "needs_background": "light"
     },
     "output_type": "display_data"
    }
   ],
   "source": [
    "# print out training curves\n",
    "import matplotlib.pyplot as plt\n",
    "plt.plot(history.history['accuracy'])\n",
    "plt.plot(history.history['val_accuracy'])\n",
    "plt.title('model accuracy')\n",
    "plt.ylabel('accuracy')\n",
    "plt.xlabel('epoch')\n",
    "plt.legend(['train', 'valid'], loc = 'upper left')\n",
    "plt.show()\n",
    "\n",
    "plt.plot(history.history['loss'])\n",
    "plt.plot(history.history['val_loss'])\n",
    "plt.title('model loss')\n",
    "plt.ylabel('loss')\n",
    "plt.xlabel('epoch')\n",
    "plt.legend(['train', 'valid'], loc = 'upper left')\n",
    "plt.show()"
   ]
  },
  {
   "cell_type": "code",
   "execution_count": null,
   "metadata": {
    "id": "dmteC1TiiXFE"
   },
   "outputs": [],
   "source": [
    "# References\n",
    "# https://future-chem.com/rdkit-google-colab/#toc5\n",
    "# https://www.rdkit.org/docs/index.html"
   ]
  }
 ],
 "metadata": {
  "accelerator": "GPU",
  "colab": {
   "collapsed_sections": [],
   "machine_shape": "hm",
   "provenance": []
  },
  "gpuClass": "standard",
  "kernelspec": {
   "display_name": "Python 3",
   "language": "python",
   "name": "python3"
  },
  "language_info": {
   "codemirror_mode": {
    "name": "ipython",
    "version": 3
   },
   "file_extension": ".py",
   "mimetype": "text/x-python",
   "name": "python",
   "nbconvert_exporter": "python",
   "pygments_lexer": "ipython3",
   "version": "3.8.10"
  }
 },
 "nbformat": 4,
 "nbformat_minor": 4
}

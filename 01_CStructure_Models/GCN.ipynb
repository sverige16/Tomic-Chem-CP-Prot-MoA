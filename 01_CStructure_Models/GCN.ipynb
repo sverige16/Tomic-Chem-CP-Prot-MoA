{
 "cells": [
  {
   "cell_type": "code",
   "execution_count": null,
   "metadata": {
    "id": "UgpQOzx3uOCG"
   },
   "outputs": [],
   "source": [
    "# import useful packages and functions\n",
    "from spektral_package import *"
   ]
  },
  {
   "cell_type": "code",
   "execution_count": null,
   "metadata": {
    "id": "2GOAjYXpuWMT"
   },
   "outputs": [],
   "source": [
    "import networkx as nx\n",
    "import numpy as np\n",
    "from scipy import sparse as sp\n",
    "\n",
    "try:\n",
    "    from rdkit import Chem as rdc\n",
    "    from rdkit.Chem import Draw\n",
    "    from rdkit import rdBase as rdb\n",
    "\n",
    "    rdb.DisableLog('rdApp.error')  # RDKit logging is disabled by default\n",
    "    Draw.DrawingOptions.dblBondOffset = .1\n",
    "    BOND_MAP = {0: rdc.rdchem.BondType.ZERO,\n",
    "                1: rdc.rdchem.BondType.SINGLE,\n",
    "                2: rdc.rdchem.BondType.DOUBLE,\n",
    "                3: rdc.rdchem.BondType.TRIPLE,\n",
    "                4: rdc.rdchem.BondType.AROMATIC}\n",
    "except ImportError:\n",
    "    rdc = None\n",
    "    rdb = None\n",
    "\n",
    "NUM_TO_SYMBOL = {1: 'H', 2: 'He', 3: 'Li', 4: 'Be', 5: 'B', 6: 'C', 7: 'N',\n",
    "                 8: 'O', 9: 'F', 10: 'Ne', 11: 'Na', 12: 'Mg', 13: 'Al',\n",
    "                 14: 'Si', 15: 'P', 16: 'S', 17: 'Cl', 18: 'Ar', 19: 'K',\n",
    "                 20: 'Ca', 21: 'Sc', 22: 'Ti', 23: 'V', 24: 'Cr', 25: 'Mn',\n",
    "                 26: 'Fe', 27: 'Co', 28: 'Ni', 29: 'Cu', 30: 'Zn', 31: 'Ga',\n",
    "                 32: 'Ge', 33: 'As', 34: 'Se', 35: 'Br', 36: 'Kr', 37: 'Rb',\n",
    "                 38: 'Sr', 39: 'Y', 40: 'Zr', 41: 'Nb', 42: 'Mo', 43: 'Tc',\n",
    "                 44: 'Ru', 45: 'Rh', 46: 'Pd', 47: 'Ag', 48: 'Cd', 49: 'In',\n",
    "                 50: 'Sn', 51: 'Sb', 52: 'Te', 53: 'I', 54: 'Xe', 55: 'Cs',\n",
    "                 56: 'Ba', 57: 'La', 58: 'Ce', 59: 'Pr', 60: 'Nd', 61: 'Pm',\n",
    "                 62: 'Sm', 63: 'Eu', 64: 'Gd', 65: 'Tb', 66: 'Dy', 67: 'Ho',\n",
    "                 68: 'Er', 69: 'Tm', 70: 'Yb', 71: 'Lu', 72: 'Hf', 73: 'Ta',\n",
    "                 74: 'W', 75: 'Re', 76: 'Os', 77: 'Ir', 78: 'Pt', 79: 'Au',\n",
    "                 80: 'Hg', 81: 'Tl', 82: 'Pb', 83: 'Bi', 84: 'Po', 85: 'At',\n",
    "                 86: 'Rn', 87: 'Fr', 88: 'Ra', 89: 'Ac', 90: 'Th', 91: 'Pa',\n",
    "                 92: 'U', 93: 'Np', 94: 'Pu', 95: 'Am', 96: 'Cm', 97: 'Bk',\n",
    "                 98: 'Cf', 99: 'Es', 100: 'Fm', 101: 'Md', 102: 'No', 103: 'Lr',\n",
    "                 104: 'Rf', 105: 'Db', 106: 'Sg', 107: 'Bh', 108: 'Hs',\n",
    "                 109: 'Mt', 110: 'Ds', 111: 'Rg', 112: 'Cn', 113: 'Nh',\n",
    "                 114: 'Fl', 115: 'Mc', 116: 'Lv', 117: 'Ts', 118: 'Og'}\n",
    "SYMBOL_TO_NUM = {v: k for k, v in NUM_TO_SYMBOL.items()}\n",
    "\n",
    "\n",
    "def numpy_to_rdkit(adj, nf, ef, sanitize=False):\n",
    "    \"\"\"\n",
    "    Converts a molecule from numpy to RDKit format.\n",
    "    :param adj: binary numpy array of shape (N, N)\n",
    "    :param nf: numpy array of shape (N, F)\n",
    "    :param ef: numpy array of shape (N, N, S)\n",
    "    :param sanitize: whether to sanitize the molecule after conversion\n",
    "    :return: an RDKit molecule\n",
    "    \"\"\"\n",
    "    if rdc is None:\n",
    "        raise ImportError('`numpy_to_rdkit` requires RDKit.')\n",
    "    mol = rdc.RWMol()\n",
    "    for nf_ in nf:\n",
    "        atomic_num = int(nf_)\n",
    "        if atomic_num > 0:\n",
    "            mol.AddAtom(rdc.Atom(atomic_num))\n",
    "\n",
    "    for i, j in zip(*np.triu_indices(adj.shape[-1])):\n",
    "        if i != j and adj[i, j] == adj[j, i] == 1 and not mol.GetBondBetweenAtoms(int(i), int(j)):\n",
    "            bond_type_1 = BOND_MAP[int(ef[i, j, 0])]\n",
    "            bond_type_2 = BOND_MAP[int(ef[j, i, 0])]\n",
    "            if bond_type_1 == bond_type_2:\n",
    "                mol.AddBond(int(i), int(j), bond_type_1)\n",
    "\n",
    "    mol = mol.GetMol()\n",
    "    if sanitize:\n",
    "        rdc.SanitizeMol(mol)\n",
    "    return mol\n",
    "\n",
    "\n",
    "def numpy_to_smiles(adj, nf, ef):\n",
    "    \"\"\"\n",
    "    Converts a molecule from numpy to SMILES format.\n",
    "    :param adj: binary numpy array of shape (N, N)\n",
    "    :param nf: numpy array of shape (N, F)\n",
    "    :param ef: numpy array of shape (N, N, S)\n",
    "    :return: the SMILES string of the molecule\n",
    "    \"\"\"\n",
    "    if rdc is None:\n",
    "        raise ImportError('`numpy_to_smiles` requires RDkit.')\n",
    "    mol = numpy_to_rdkit(adj, nf, ef)\n",
    "    return rdkit_to_smiles(mol)\n",
    "\n",
    "\n",
    "def rdkit_to_smiles(mol):\n",
    "    \"\"\"\n",
    "    Returns the SMILES string representing an RDKit molecule.\n",
    "    :param mol: an RDKit molecule\n",
    "    :return: the SMILES string of the molecule\n",
    "    \"\"\"\n",
    "    if rdc is None:\n",
    "        raise ImportError('`rdkit_to_smiles` requires RDkit.')\n",
    "    return rdc.MolToSmiles(mol)\n",
    "\n",
    "\n",
    "def sdf_to_nx(sdf, keep_hydrogen=False):\n",
    "    \"\"\"\n",
    "    Converts molecules in SDF format to networkx Graphs.\n",
    "    :param sdf: a list of molecules (or individual molecule) in SDF format.\n",
    "    :param keep_hydrogen: whether to include hydrogen in the representation.\n",
    "    :return: list of nx.Graphs.\n",
    "    \"\"\"\n",
    "    if not isinstance(sdf, list):\n",
    "        sdf = [sdf]\n",
    "\n",
    "    output = []\n",
    "    for sdf_ in sdf:\n",
    "        g = nx.Graph()\n",
    "\n",
    "        for atom in sdf_['atoms']:\n",
    "            if atom['atomic_num'] > 1 or keep_hydrogen:\n",
    "                g.add_node(atom['index'], **atom)\n",
    "        for bond in sdf_['bonds']:\n",
    "            start_atom_num = sdf_['atoms'][bond['start_atom']]['atomic_num']\n",
    "            end_atom_num = sdf_['atoms'][bond['end_atom']]['atomic_num']\n",
    "            if (start_atom_num > 1 and end_atom_num > 1) or keep_hydrogen:\n",
    "                g.add_edge(bond['start_atom'], bond['end_atom'], **bond)\n",
    "        output.append(g)\n",
    "\n",
    "    if len(output) == 1:\n",
    "        return output[0]\n",
    "    else:\n",
    "        return output\n",
    "\n",
    "\n",
    "def nx_to_sdf(graphs):\n",
    "    \"\"\"\n",
    "    Converts a list of nx.Graphs to the internal SDF format.\n",
    "    :param graphs: list of nx.Graphs.\n",
    "    :return: list of molecules in the internal SDF format.\n",
    "    \"\"\"\n",
    "    if isinstance(graphs, nx.Graph):\n",
    "        graphs = [graphs]\n",
    "    output = []\n",
    "    for g in graphs:\n",
    "        sdf = {'atoms': [v for k, v in g.nodes.items()],\n",
    "               'bonds': [v for k, v in g.edges.items()],\n",
    "               'comment': '',\n",
    "               'data': [''],\n",
    "               'details': '',\n",
    "               'n_atoms': -1,\n",
    "               'n_bonds': -1,\n",
    "               'name': '',\n",
    "               'properties': []}\n",
    "        output.append(sdf)\n",
    "    return output\n",
    "\n",
    "\n",
    "def validate_rdkit_mol(mol):\n",
    "    \"\"\"\n",
    "    Sanitizes an RDKit molecules and returns True if the molecule is chemically\n",
    "    valid.\n",
    "    :param mol: an RDKit molecule\n",
    "    :return: True if the molecule is chemically valid, False otherwise\n",
    "    \"\"\"\n",
    "    if rdc is None:\n",
    "        raise ImportError('`validate_rdkit_mol` requires RDkit.')\n",
    "    if len(rdc.GetMolFrags(mol)) > 1:\n",
    "        return False\n",
    "    try:\n",
    "        rdc.SanitizeMol(mol)\n",
    "        return True\n",
    "    except ValueError:\n",
    "        return False\n",
    "\n",
    "\n",
    "def validate_rdkit(mol):\n",
    "    \"\"\"\n",
    "    Validates RDKit molecules (single or in a list).\n",
    "    :param mol: an RDKit molecule or list/np.array thereof\n",
    "    :return: boolean array, True if the molecules are chemically valid, False\n",
    "    otherwise\n",
    "    \"\"\"\n",
    "    if rdc is None:\n",
    "        raise ImportError('`validate_rdkit` requires RDkit.')\n",
    "    if isinstance(mol, list) or isinstance(mol, np.ndarray):\n",
    "        return np.array([validate_rdkit_mol(m) for m in mol])\n",
    "    else:\n",
    "        return validate_rdkit_mol(mol)"
   ]
  },
  {
   "cell_type": "code",
   "execution_count": null,
   "metadata": {
    "id": "Xw6ZFhO4uWOy"
   },
   "outputs": [],
   "source": [
    "import tensorflow as tf\n",
    "import rdkit\n",
    "import numpy as np\n",
    "from rdkit import *\n",
    "from rdkit import Chem, DataStructs\n",
    "from rdkit.Chem import AllChem   "
   ]
  },
  {
   "cell_type": "code",
   "execution_count": null,
   "metadata": {
    "id": "OwLZTMKOuWRF"
   },
   "outputs": [],
   "source": [
    "# read in the data \n",
    "import pandas as pd\n",
    "df = pd.read_csv('top_20_MOAs.txt', sep = '\\t')"
   ]
  },
  {
   "cell_type": "code",
   "execution_count": null,
   "metadata": {
    "id": "IxvbTL5OuWVj"
   },
   "outputs": [],
   "source": [
    "# change 20 MoAs to classes \n",
    "MOA_class_dictionary = {'EGFR inhibitor': 8,\n",
    " 'HDAC inhibitor': 16,\n",
    " 'PI3K inhibitor': 13,\n",
    " 'acetylcholine receptor agonist': 1,\n",
    " 'acetylcholine receptor antagonist': 4,\n",
    " 'adrenergic receptor agonist': 18,\n",
    " 'adrenergic receptor antagonist': 15,\n",
    " 'bacterial cell wall synthesis inhibitor': 14,\n",
    " 'benzodiazepine receptor agonist': 10,\n",
    " 'calcium channel blocker': 5,\n",
    " 'cyclooxygenase inhibitor': 6,\n",
    " 'dopamine receptor antagonist': 12,\n",
    " 'glucocorticoid receptor agonist': 9,\n",
    " 'glutamate receptor antagonist': 19,\n",
    " 'histamine receptor antagonist': 17,\n",
    " 'phosphodiesterase inhibitor': 3,\n",
    " 'serotonin receptor agonist': 7,\n",
    " 'serotonin receptor antagonist': 2,\n",
    " 'sodium channel blocker': 11,\n",
    " 'topoisomerase inhibitor': 0}"
   ]
  },
  {
   "cell_type": "code",
   "execution_count": null,
   "metadata": {
    "id": "unsiBP5LyM5d"
   },
   "outputs": [],
   "source": [
    "# add classes column \n",
    "df['classes'] = None\n",
    "for i in range(df.shape[0]):\n",
    "  df.iloc[i,2] = MOA_class_dictionary[df.iloc[i,1]]"
   ]
  },
  {
   "cell_type": "code",
   "execution_count": null,
   "metadata": {
    "id": "T9cxN_MzyNDe"
   },
   "outputs": [],
   "source": [
    "structures = df.SMILES.tolist()"
   ]
  },
  {
   "cell_type": "code",
   "execution_count": null,
   "metadata": {
    "id": "IWnj8PMfyNFc"
   },
   "outputs": [],
   "source": [
    "# create molecule block for each SMILES string    \n",
    "molecule_blocks = []\n",
    "for structure in structures:\n",
    "  molecule = Chem.MolFromSmiles(structure)\n",
    "  molecule_block = Chem.MolToMolBlock(molecule)\n",
    "  molecule_blocks.append(molecule_block)"
   ]
  },
  {
   "cell_type": "code",
   "execution_count": null,
   "metadata": {
    "id": "jX4RN5ECyNH_"
   },
   "outputs": [],
   "source": [
    "# write all the molecule blocks into a .txt file for loading afterwards\n",
    "molecule_textfile = open(\"molecule_textfile.txt\", \"w\")\n",
    "for molecule_block in molecule_blocks:\n",
    "  molecule_textfile.write(molecule_block + \"\\n\" + '$$$$' + \"\\n\")\n",
    "molecule_textfile.close()"
   ]
  },
  {
   "cell_type": "code",
   "execution_count": null,
   "metadata": {
    "id": "1RlzpbY7ydRd"
   },
   "outputs": [],
   "source": [
    "# load the .txt file    \n",
    "from spektral.utils.io import load_sdf\n",
    "molecule_sdf_loaded = load_sdf(\"molecule_textfile.txt\", amount = None)"
   ]
  },
  {
   "cell_type": "code",
   "execution_count": null,
   "metadata": {
    "id": "1dyqlV-3ydUA"
   },
   "outputs": [],
   "source": [
    "import networkx as nx\n",
    "molecule_sdf_nx = sdf_to_nx(molecule_sdf_loaded, keep_hydrogen = True)\n",
    "molecule_sdf_adj, molecule_sdf_node, _ = nx_to_numpy(molecule_sdf_nx, nf_keys=['atomic_num'],ef_keys=['type'] )\n",
    "uniq_node = np.unique([v for x in molecule_sdf_node for v in np.unique(x)])\n",
    "node = [label_to_one_hot(x, uniq_node) for x in molecule_sdf_node]"
   ]
  },
  {
   "cell_type": "code",
   "execution_count": null,
   "metadata": {
    "id": "wNOMOAGGzPn4"
   },
   "outputs": [],
   "source": [
    "# get the labels \n",
    "y = [int(i) for i in df['classes'].tolist()]"
   ]
  },
  {
   "cell_type": "code",
   "execution_count": null,
   "metadata": {
    "id": "7iuR2ePouWaZ"
   },
   "outputs": [],
   "source": [
    "# get the nodes number, features number and classes number, they are used for building GCN\n",
    "n_nodes = node[0].shape[-2]           \n",
    "n_features = node[0].shape[-1]         \n",
    "n_classes = len(set(y))    "
   ]
  },
  {
   "cell_type": "code",
   "execution_count": null,
   "metadata": {
    "id": "8-9uBWuczl7x"
   },
   "outputs": [],
   "source": [
    "# Split out the test set    \n",
    "X = list(df.index)\n",
    "from sklearn.model_selection import train_test_split\n",
    "x_train_valid, x_test, y_train_valid, y_test= train_test_split(X, df.classes.tolist(), test_size =10/100,\n",
    "      stratify = df.classes.tolist(), shuffle=True, random_state = 1000)"
   ]
  },
  {
   "cell_type": "code",
   "execution_count": null,
   "metadata": {
    "id": "FFTEgiFK1Ijb"
   },
   "outputs": [],
   "source": [
    "# kfold \n",
    "from sklearn.model_selection import StratifiedKFold\n",
    "skf = StratifiedKFold(n_splits = 9)\n",
    "skf.get_n_splits(np.array(list(x_train_valid)), np.array(list(y_train_valid)))\n",
    "train_index_list = []\n",
    "valid_index_list = []\n",
    "for train_index, valid_index in skf.split(np.array(list(x_train_valid)), np.array(list(y_train_valid))):\n",
    "  train_index_list.append(train_index)\n",
    "  valid_index_list.append(valid_index)"
   ]
  },
  {
   "cell_type": "code",
   "execution_count": null,
   "metadata": {
    "id": "mvo51qZl186G"
   },
   "outputs": [],
   "source": [
    "number_of_kfold = 0 # Change this from 0 - 8 to get 9 shuffles \n",
    "x_train = list(np.array(list(x_train_valid))[train_index_list[ number_of_kfold ]])\n",
    "x_valid = list(np.array(list(x_train_valid))[valid_index_list[ number_of_kfold ]])\n",
    "y_train = list(np.array(list(y_train_valid))[train_index_list[ number_of_kfold ]])\n",
    "y_valid = list(np.array(list(y_train_valid))[valid_index_list[ number_of_kfold ]])\n",
    "x_test = list(x_test)\n",
    "y_test = list(y_test)"
   ]
  },
  {
   "cell_type": "code",
   "execution_count": null,
   "metadata": {
    "id": "qfMoX0sF188o"
   },
   "outputs": [],
   "source": [
    "# Get adjacency matrix       \n",
    "A_train = molecule_sdf_adj[x_train]\n",
    "A_valid = molecule_sdf_adj[x_valid]\n",
    "A_test = molecule_sdf_adj[x_test]"
   ]
  },
  {
   "cell_type": "code",
   "execution_count": null,
   "metadata": {
    "id": "6VAXe88k18_N"
   },
   "outputs": [],
   "source": [
    "# get node matrix   \n",
    "X_train = []\n",
    "for i in  x_train:\n",
    "  X_train.append(node[i])"
   ]
  },
  {
   "cell_type": "code",
   "execution_count": null,
   "metadata": {
    "id": "reN5TOIk19Bs"
   },
   "outputs": [],
   "source": [
    "X_valid = []\n",
    "for i in  x_valid:\n",
    "  X_valid.append(node[i]) "
   ]
  },
  {
   "cell_type": "code",
   "execution_count": null,
   "metadata": {
    "id": "UzODwN9319D5"
   },
   "outputs": [],
   "source": [
    "X_test = []\n",
    "for i in x_test:\n",
    "  X_test.append(node[i])  "
   ]
  },
  {
   "cell_type": "code",
   "execution_count": null,
   "metadata": {
    "id": "xnshqFqP3TLC"
   },
   "outputs": [],
   "source": [
    "# change into numpy arrays \n",
    "X_train = np.asarray(X_train)\n",
    "X_valid = np.asarray(X_valid)\n",
    "X_test = np.asarray(X_test)"
   ]
  },
  {
   "cell_type": "code",
   "execution_count": null,
   "metadata": {
    "id": "15JK1mGC3TNQ"
   },
   "outputs": [],
   "source": [
    "# build GCN\n",
    "from tensorflow.keras.regularizers import l2\n",
    "from spektral.layers import GCSConv, GlobalAttentionPool\n",
    "from keras.layers import Dropout, Input, Dense\n",
    "from tensorflow.keras.models import Model\n",
    "from tensorflow.keras.optimizers import Adam\n",
    "\n",
    "units = 128\n",
    "drop = 0.5\n",
    "batch_size = 8\n",
    "l2_reg = 5e-4\n",
    "\n",
    "X_in = Input((n_nodes, n_features))\n",
    "A_in = Input((n_nodes, n_nodes))\n",
    "layer = GCSConv(units, activation='relu', kernel_regularizer=l2(l2_reg))([X_in, A_in])\n",
    "layer = Dropout(drop)(layer)\n",
    "layer = GCSConv(units, activation='relu', kernel_regularizer=l2(l2_reg))([layer, A_in])\n",
    "layer = Dropout(drop)(layer)\n",
    "layer = GCSConv(units, activation='relu', kernel_regularizer=l2(l2_reg))([layer, A_in])\n",
    "layer = Dropout(drop)(layer) \n",
    "layer = GlobalAttentionPool(units*2)(layer)\n",
    "output = Dense(n_classes, activation='softmax')(layer)\n",
    "model0 = Model(inputs = [X_in, A_in], outputs = output)\n",
    "\n",
    "# compile the model       \n",
    "optimizer = Adam(lr = 1e-3)\n",
    "model0.compile(optimizer = optimizer,loss = tf.keras.losses.SparseCategoricalCrossentropy(from_logits = True),\n",
    "        metrics = ['accuracy'])"
   ]
  },
  {
   "cell_type": "code",
   "execution_count": null,
   "metadata": {
    "id": "4H78tW423TQW"
   },
   "outputs": [],
   "source": [
    "# Create class weights\n",
    "from sklearn.utils import class_weight\n",
    "y_unique = np.unique(np.array(y_train))\n",
    "class_weights = class_weight.compute_class_weight(class_weight = 'balanced', classes = y_unique,\n",
    "                y = np.array(y_train)) \n",
    "class_weights_dict45 = dict(enumerate(class_weights))"
   ]
  },
  {
   "cell_type": "code",
   "execution_count": null,
   "metadata": {
    "id": "rZ1yoxiQ3TSU"
   },
   "outputs": [],
   "source": [
    "# set the checkpoint   \n",
    "from keras.callbacks import ModelCheckpoint\n",
    "filepath_gcn = './content/GCN_top_'+str(n_classes)+'_MOA_weights.hdf5'\n",
    "checkpoint_gcn = ModelCheckpoint(filepath_gcn, save_weights_only = True, monitor = 'val_accuracy',\n",
    "         verbose = 0, save_best_only = True, mode = 'max')"
   ]
  },
  {
   "cell_type": "code",
   "execution_count": null,
   "metadata": {
    "id": "JcTPuN-2vmUc"
   },
   "outputs": [],
   "source": [
    "# train the model \n",
    "from tensorflow.keras.callbacks import EarlyStopping\n",
    "earlyStopping = EarlyStopping(monitor = 'val_loss', patience = 80, verbose = 1, mode = 'min')\n",
    "reduce_lr_loss = tf.keras.callbacks.ReduceLROnPlateau(monitor = 'val_loss', \n",
    "          factor = 0.98, patience = 5, verbose = 0, min_delta = 1e-54, mode = 'min')\n",
    "history = model0.fit([[X_train, A_train]], np.array(y_train), batch_size = batch_size,\n",
    "          validation_data = [[X_valid, A_valid], np.array(y_valid)], \n",
    "          shuffle = True, class_weight = class_weights_dict45, epochs = 300, \n",
    "          verbose = 2, callbacks = [earlyStopping, checkpoint_gcn, reduce_lr_loss,])"
   ]
  },
  {
   "cell_type": "code",
   "execution_count": null,
   "metadata": {
    "id": "SNJBrCObvmWq"
   },
   "outputs": [],
   "source": [
    "# load the weights \n",
    "model0.load_weights(filepath_gcn)"
   ]
  },
  {
   "cell_type": "code",
   "execution_count": null,
   "metadata": {
    "id": "MGZAnFuNvmZK"
   },
   "outputs": [],
   "source": [
    "# evaluate the model \n",
    "from sklearn.metrics import classification_report\n",
    "assert list(y_test)[0:5] == [14, 12, 6, 13, 14]\n",
    "print(classification_report(y_test, np.array(model0.predict([X_test, A_test]).argmax(-1)),))"
   ]
  },
  {
   "cell_type": "code",
   "execution_count": null,
   "metadata": {
    "id": "vNDGp53Dvmdu"
   },
   "outputs": [],
   "source": [
    "# Training curves\n",
    "import matplotlib.pyplot as plt\n",
    "plt.plot(history.history['accuracy'])\n",
    "plt.plot(history.history['val_accuracy'])\n",
    "plt.title('model accuracy')\n",
    "plt.ylabel('accuracy')\n",
    "plt.xlabel('epoch')\n",
    "plt.legend(['train', 'valid'], loc = 'upper left')\n",
    "plt.show()\n",
    "\n",
    "plt.plot(history.history['loss'])\n",
    "plt.plot(history.history['val_loss'])\n",
    "plt.title('model loss')\n",
    "plt.ylabel('loss')\n",
    "plt.xlabel('epoch')\n",
    "plt.legend(['train', 'valid'], loc = 'upper left')\n",
    "plt.show()"
   ]
  },
  {
   "cell_type": "code",
   "execution_count": null,
   "metadata": {
    "id": "1CY6SzbVvmkb"
   },
   "outputs": [],
   "source": [
    "# References \n",
    "# https://codesuche.com/view-source/python/danielegrattarola/spektral/ \n",
    "# https://github.com/Discngine/dng_dl_speknn \n",
    "# https://github.com/danielegrattarola/spektral"
   ]
  }
 ],
 "metadata": {
  "accelerator": "GPU",
  "colab": {
   "collapsed_sections": [],
   "machine_shape": "hm",
   "provenance": []
  },
  "gpuClass": "standard",
  "kernelspec": {
   "display_name": "Python 3 (ipykernel)",
   "language": "python",
   "name": "python3"
  },
  "language_info": {
   "codemirror_mode": {
    "name": "ipython",
    "version": 3
   },
   "file_extension": ".py",
   "mimetype": "text/x-python",
   "name": "python",
   "nbconvert_exporter": "python",
   "pygments_lexer": "ipython3",
   "version": "3.10.4"
  }
 },
 "nbformat": 4,
 "nbformat_minor": 1
}
